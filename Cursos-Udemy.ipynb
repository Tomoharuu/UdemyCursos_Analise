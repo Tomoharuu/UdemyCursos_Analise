{
 "cells": [
  {
   "cell_type": "code",
   "execution_count": 165,
   "id": "399b7f4c",
   "metadata": {
    "scrolled": true
   },
   "outputs": [],
   "source": [
    "import pandas as pd\n",
    "df = pd.read_csv(\"https://raw.githubusercontent.com/Tomoharuu/UdemyCursos_Analise/main/Entry%20Level%20Project%20Sheet%20-%203.1-data-sheet-udemy-courses-web-development.csv\")"
   ]
  },
  {
   "cell_type": "code",
   "execution_count": 166,
   "id": "b40b4f8f",
   "metadata": {},
   "outputs": [],
   "source": [
    "# Copiando o DataFrame (evitar de alterações em cima do dataframe base)"
   ]
  },
  {
   "cell_type": "code",
   "execution_count": 167,
   "id": "fa16adf7",
   "metadata": {
    "scrolled": false
   },
   "outputs": [
    {
     "data": {
      "text/html": [
       "<div>\n",
       "<style scoped>\n",
       "    .dataframe tbody tr th:only-of-type {\n",
       "        vertical-align: middle;\n",
       "    }\n",
       "\n",
       "    .dataframe tbody tr th {\n",
       "        vertical-align: top;\n",
       "    }\n",
       "\n",
       "    .dataframe thead th {\n",
       "        text-align: right;\n",
       "    }\n",
       "</style>\n",
       "<table border=\"1\" class=\"dataframe\">\n",
       "  <thead>\n",
       "    <tr style=\"text-align: right;\">\n",
       "      <th></th>\n",
       "      <th>course_id</th>\n",
       "      <th>course_title</th>\n",
       "      <th>url</th>\n",
       "      <th>price</th>\n",
       "      <th>num_subscribers</th>\n",
       "      <th>num_reviews</th>\n",
       "      <th>num_lectures</th>\n",
       "      <th>level</th>\n",
       "      <th>rating</th>\n",
       "      <th>content_duration</th>\n",
       "      <th>published_timestamp</th>\n",
       "      <th>subject</th>\n",
       "      <th>Date</th>\n",
       "      <th>Free/Paid</th>\n",
       "    </tr>\n",
       "  </thead>\n",
       "  <tbody>\n",
       "    <tr>\n",
       "      <th>0</th>\n",
       "      <td>41295</td>\n",
       "      <td>Learn HTML5 Programming From Scratch</td>\n",
       "      <td>https://www.udemy.com/learn-html5-programming-...</td>\n",
       "      <td>0</td>\n",
       "      <td>268923</td>\n",
       "      <td>8629</td>\n",
       "      <td>45</td>\n",
       "      <td>Beginner Level</td>\n",
       "      <td>0.82</td>\n",
       "      <td>10.5</td>\n",
       "      <td>2013-02-14T07:03:41Z</td>\n",
       "      <td>Web Development</td>\n",
       "      <td>2013-02-14</td>\n",
       "      <td>Free</td>\n",
       "    </tr>\n",
       "    <tr>\n",
       "      <th>1</th>\n",
       "      <td>59014</td>\n",
       "      <td>Coding for Entrepreneurs Basic</td>\n",
       "      <td>https://www.udemy.com/coding-for-entrepreneurs...</td>\n",
       "      <td>0</td>\n",
       "      <td>161029</td>\n",
       "      <td>279</td>\n",
       "      <td>27</td>\n",
       "      <td>Expert Level</td>\n",
       "      <td>0.69</td>\n",
       "      <td>3.5</td>\n",
       "      <td>2013-06-09T15:51:55Z</td>\n",
       "      <td>Web Development</td>\n",
       "      <td>2013-06-09</td>\n",
       "      <td>Free</td>\n",
       "    </tr>\n",
       "    <tr>\n",
       "      <th>2</th>\n",
       "      <td>625204</td>\n",
       "      <td>The Web Developer Bootcamp</td>\n",
       "      <td>https://www.udemy.com/the-web-developer-bootcamp/</td>\n",
       "      <td>200</td>\n",
       "      <td>121584</td>\n",
       "      <td>27445</td>\n",
       "      <td>342</td>\n",
       "      <td>Beginner Level</td>\n",
       "      <td>0.89</td>\n",
       "      <td>43.0</td>\n",
       "      <td>2015-11-02T21:13:27Z</td>\n",
       "      <td>Web Development</td>\n",
       "      <td>2015-11-02</td>\n",
       "      <td>Paid</td>\n",
       "    </tr>\n",
       "    <tr>\n",
       "      <th>3</th>\n",
       "      <td>173548</td>\n",
       "      <td>Build Your First Website in 1 Week with HTML5 ...</td>\n",
       "      <td>https://www.udemy.com/build-your-first-website...</td>\n",
       "      <td>0</td>\n",
       "      <td>120291</td>\n",
       "      <td>5924</td>\n",
       "      <td>30</td>\n",
       "      <td>All Levels</td>\n",
       "      <td>0.78</td>\n",
       "      <td>3.0</td>\n",
       "      <td>2014-04-08T16:21:30Z</td>\n",
       "      <td>Web Development</td>\n",
       "      <td>2014-04-08</td>\n",
       "      <td>Free</td>\n",
       "    </tr>\n",
       "    <tr>\n",
       "      <th>4</th>\n",
       "      <td>764164</td>\n",
       "      <td>The Complete Web Developer Course 2.0</td>\n",
       "      <td>https://www.udemy.com/the-complete-web-develop...</td>\n",
       "      <td>200</td>\n",
       "      <td>114512</td>\n",
       "      <td>22412</td>\n",
       "      <td>304</td>\n",
       "      <td>Beginner Level</td>\n",
       "      <td>0.55</td>\n",
       "      <td>30.5</td>\n",
       "      <td>2016-03-08T22:28:36Z</td>\n",
       "      <td>Web Development</td>\n",
       "      <td>2016-03-08</td>\n",
       "      <td>Paid</td>\n",
       "    </tr>\n",
       "    <tr>\n",
       "      <th>...</th>\n",
       "      <td>...</td>\n",
       "      <td>...</td>\n",
       "      <td>...</td>\n",
       "      <td>...</td>\n",
       "      <td>...</td>\n",
       "      <td>...</td>\n",
       "      <td>...</td>\n",
       "      <td>...</td>\n",
       "      <td>...</td>\n",
       "      <td>...</td>\n",
       "      <td>...</td>\n",
       "      <td>...</td>\n",
       "      <td>...</td>\n",
       "      <td>...</td>\n",
       "    </tr>\n",
       "    <tr>\n",
       "      <th>3671</th>\n",
       "      <td>885413</td>\n",
       "      <td>Foundations of Investing</td>\n",
       "      <td>https://www.udemy.com/foundations-of-investing/</td>\n",
       "      <td>40</td>\n",
       "      <td>0</td>\n",
       "      <td>0</td>\n",
       "      <td>18</td>\n",
       "      <td>Beginner Level</td>\n",
       "      <td>0.95</td>\n",
       "      <td>2.0</td>\n",
       "      <td>2016-07-27T21:07:46Z</td>\n",
       "      <td>Business Finance</td>\n",
       "      <td>2016-07-27</td>\n",
       "      <td>Paid</td>\n",
       "    </tr>\n",
       "    <tr>\n",
       "      <th>3672</th>\n",
       "      <td>1231958</td>\n",
       "      <td>60 Minutes to Fundamental Accounting Skills</td>\n",
       "      <td>https://www.udemy.com/60-minute-fundamental-ac...</td>\n",
       "      <td>75</td>\n",
       "      <td>0</td>\n",
       "      <td>0</td>\n",
       "      <td>9</td>\n",
       "      <td>All Levels</td>\n",
       "      <td>0.95</td>\n",
       "      <td>2.5</td>\n",
       "      <td>2017-06-28T21:55:29Z</td>\n",
       "      <td>Business Finance</td>\n",
       "      <td>2017-06-28</td>\n",
       "      <td>Paid</td>\n",
       "    </tr>\n",
       "    <tr>\n",
       "      <th>3673</th>\n",
       "      <td>1057040</td>\n",
       "      <td>Teeter-Totter Accounting</td>\n",
       "      <td>https://www.udemy.com/teeter-totter-accounting/</td>\n",
       "      <td>90</td>\n",
       "      <td>0</td>\n",
       "      <td>0</td>\n",
       "      <td>12</td>\n",
       "      <td>Intermediate Level</td>\n",
       "      <td>0.36</td>\n",
       "      <td>1.0</td>\n",
       "      <td>2017-02-08T22:15:56Z</td>\n",
       "      <td>Business Finance</td>\n",
       "      <td>2017-02-08</td>\n",
       "      <td>Paid</td>\n",
       "    </tr>\n",
       "    <tr>\n",
       "      <th>3674</th>\n",
       "      <td>1258666</td>\n",
       "      <td>Financial Statement Auditing Cycles</td>\n",
       "      <td>https://www.udemy.com/financial-statement-audi...</td>\n",
       "      <td>50</td>\n",
       "      <td>0</td>\n",
       "      <td>0</td>\n",
       "      <td>9</td>\n",
       "      <td>All Levels</td>\n",
       "      <td>0.15</td>\n",
       "      <td>2.0</td>\n",
       "      <td>2017-06-29T23:20:10Z</td>\n",
       "      <td>Business Finance</td>\n",
       "      <td>2017-06-29</td>\n",
       "      <td>Paid</td>\n",
       "    </tr>\n",
       "    <tr>\n",
       "      <th>3675</th>\n",
       "      <td>1232282</td>\n",
       "      <td>The Cash Flow Statement - An Introduction</td>\n",
       "      <td>https://www.udemy.com/cash-flow-statement-intr...</td>\n",
       "      <td>50</td>\n",
       "      <td>0</td>\n",
       "      <td>0</td>\n",
       "      <td>10</td>\n",
       "      <td>All Levels</td>\n",
       "      <td>0.18</td>\n",
       "      <td>1.5</td>\n",
       "      <td>2017-06-28T16:05:51Z</td>\n",
       "      <td>Business Finance</td>\n",
       "      <td>2017-06-28</td>\n",
       "      <td>Paid</td>\n",
       "    </tr>\n",
       "  </tbody>\n",
       "</table>\n",
       "<p>3676 rows × 14 columns</p>\n",
       "</div>"
      ],
      "text/plain": [
       "      course_id                                       course_title  \\\n",
       "0         41295               Learn HTML5 Programming From Scratch   \n",
       "1         59014                     Coding for Entrepreneurs Basic   \n",
       "2        625204                         The Web Developer Bootcamp   \n",
       "3        173548  Build Your First Website in 1 Week with HTML5 ...   \n",
       "4        764164              The Complete Web Developer Course 2.0   \n",
       "...         ...                                                ...   \n",
       "3671     885413                           Foundations of Investing   \n",
       "3672    1231958        60 Minutes to Fundamental Accounting Skills   \n",
       "3673    1057040                           Teeter-Totter Accounting   \n",
       "3674    1258666                Financial Statement Auditing Cycles   \n",
       "3675    1232282          The Cash Flow Statement - An Introduction   \n",
       "\n",
       "                                                    url  price  \\\n",
       "0     https://www.udemy.com/learn-html5-programming-...      0   \n",
       "1     https://www.udemy.com/coding-for-entrepreneurs...      0   \n",
       "2     https://www.udemy.com/the-web-developer-bootcamp/    200   \n",
       "3     https://www.udemy.com/build-your-first-website...      0   \n",
       "4     https://www.udemy.com/the-complete-web-develop...    200   \n",
       "...                                                 ...    ...   \n",
       "3671    https://www.udemy.com/foundations-of-investing/     40   \n",
       "3672  https://www.udemy.com/60-minute-fundamental-ac...     75   \n",
       "3673    https://www.udemy.com/teeter-totter-accounting/     90   \n",
       "3674  https://www.udemy.com/financial-statement-audi...     50   \n",
       "3675  https://www.udemy.com/cash-flow-statement-intr...     50   \n",
       "\n",
       "      num_subscribers  num_reviews  num_lectures               level  rating  \\\n",
       "0              268923         8629            45      Beginner Level    0.82   \n",
       "1              161029          279            27        Expert Level    0.69   \n",
       "2              121584        27445           342      Beginner Level    0.89   \n",
       "3              120291         5924            30          All Levels    0.78   \n",
       "4              114512        22412           304      Beginner Level    0.55   \n",
       "...               ...          ...           ...                 ...     ...   \n",
       "3671                0            0            18      Beginner Level    0.95   \n",
       "3672                0            0             9          All Levels    0.95   \n",
       "3673                0            0            12  Intermediate Level    0.36   \n",
       "3674                0            0             9          All Levels    0.15   \n",
       "3675                0            0            10          All Levels    0.18   \n",
       "\n",
       "      content_duration   published_timestamp           subject        Date  \\\n",
       "0                 10.5  2013-02-14T07:03:41Z   Web Development  2013-02-14   \n",
       "1                  3.5  2013-06-09T15:51:55Z   Web Development  2013-06-09   \n",
       "2                 43.0  2015-11-02T21:13:27Z   Web Development  2015-11-02   \n",
       "3                  3.0  2014-04-08T16:21:30Z   Web Development  2014-04-08   \n",
       "4                 30.5  2016-03-08T22:28:36Z   Web Development  2016-03-08   \n",
       "...                ...                   ...               ...         ...   \n",
       "3671               2.0  2016-07-27T21:07:46Z  Business Finance  2016-07-27   \n",
       "3672               2.5  2017-06-28T21:55:29Z  Business Finance  2017-06-28   \n",
       "3673               1.0  2017-02-08T22:15:56Z  Business Finance  2017-02-08   \n",
       "3674               2.0  2017-06-29T23:20:10Z  Business Finance  2017-06-29   \n",
       "3675               1.5  2017-06-28T16:05:51Z  Business Finance  2017-06-28   \n",
       "\n",
       "     Free/Paid  \n",
       "0         Free  \n",
       "1         Free  \n",
       "2         Paid  \n",
       "3         Free  \n",
       "4         Paid  \n",
       "...        ...  \n",
       "3671      Paid  \n",
       "3672      Paid  \n",
       "3673      Paid  \n",
       "3674      Paid  \n",
       "3675      Paid  \n",
       "\n",
       "[3676 rows x 14 columns]"
      ]
     },
     "metadata": {},
     "output_type": "display_data"
    }
   ],
   "source": [
    "df2 = df.copy()\n",
    "display(df2)"
   ]
  },
  {
   "cell_type": "code",
   "execution_count": 168,
   "id": "14eb615d",
   "metadata": {},
   "outputs": [
    {
     "data": {
      "text/plain": [
       "subject\n",
       "Web Development        1203\n",
       "Business Finance       1191\n",
       "Musical Instruments     680\n",
       "Graphic Design          602\n",
       "dtype: int64"
      ]
     },
     "execution_count": 168,
     "metadata": {},
     "output_type": "execute_result"
    }
   ],
   "source": [
    "df2.value_counts('subject')"
   ]
  },
  {
   "cell_type": "code",
   "execution_count": 169,
   "id": "cc4ae49a",
   "metadata": {},
   "outputs": [],
   "source": [
    "import plotly.express as px"
   ]
  },
  {
   "cell_type": "code",
   "execution_count": 170,
   "id": "e6b15220",
   "metadata": {},
   "outputs": [
    {
     "data": {
      "text/html": [
       "<div>\n",
       "<style scoped>\n",
       "    .dataframe tbody tr th:only-of-type {\n",
       "        vertical-align: middle;\n",
       "    }\n",
       "\n",
       "    .dataframe tbody tr th {\n",
       "        vertical-align: top;\n",
       "    }\n",
       "\n",
       "    .dataframe thead th {\n",
       "        text-align: right;\n",
       "    }\n",
       "</style>\n",
       "<table border=\"1\" class=\"dataframe\">\n",
       "  <thead>\n",
       "    <tr style=\"text-align: right;\">\n",
       "      <th></th>\n",
       "      <th>course_id</th>\n",
       "      <th>course_title</th>\n",
       "      <th>url</th>\n",
       "      <th>price</th>\n",
       "      <th>num_subscribers</th>\n",
       "      <th>num_reviews</th>\n",
       "      <th>num_lectures</th>\n",
       "      <th>level</th>\n",
       "      <th>rating</th>\n",
       "      <th>content_duration</th>\n",
       "      <th>published_timestamp</th>\n",
       "      <th>subject</th>\n",
       "      <th>Date</th>\n",
       "      <th>Free/Paid</th>\n",
       "    </tr>\n",
       "  </thead>\n",
       "  <tbody>\n",
       "    <tr>\n",
       "      <th>0</th>\n",
       "      <td>41295</td>\n",
       "      <td>Learn HTML5 Programming From Scratch</td>\n",
       "      <td>https://www.udemy.com/learn-html5-programming-...</td>\n",
       "      <td>0</td>\n",
       "      <td>268923</td>\n",
       "      <td>8629</td>\n",
       "      <td>45</td>\n",
       "      <td>Beginner Level</td>\n",
       "      <td>0.82</td>\n",
       "      <td>10.5</td>\n",
       "      <td>2013-02-14T07:03:41Z</td>\n",
       "      <td>Web Development</td>\n",
       "      <td>2013-02-14</td>\n",
       "      <td>Free</td>\n",
       "    </tr>\n",
       "    <tr>\n",
       "      <th>1</th>\n",
       "      <td>59014</td>\n",
       "      <td>Coding for Entrepreneurs Basic</td>\n",
       "      <td>https://www.udemy.com/coding-for-entrepreneurs...</td>\n",
       "      <td>0</td>\n",
       "      <td>161029</td>\n",
       "      <td>279</td>\n",
       "      <td>27</td>\n",
       "      <td>Expert Level</td>\n",
       "      <td>0.69</td>\n",
       "      <td>3.5</td>\n",
       "      <td>2013-06-09T15:51:55Z</td>\n",
       "      <td>Web Development</td>\n",
       "      <td>2013-06-09</td>\n",
       "      <td>Free</td>\n",
       "    </tr>\n",
       "    <tr>\n",
       "      <th>2</th>\n",
       "      <td>625204</td>\n",
       "      <td>The Web Developer Bootcamp</td>\n",
       "      <td>https://www.udemy.com/the-web-developer-bootcamp/</td>\n",
       "      <td>200</td>\n",
       "      <td>121584</td>\n",
       "      <td>27445</td>\n",
       "      <td>342</td>\n",
       "      <td>Beginner Level</td>\n",
       "      <td>0.89</td>\n",
       "      <td>43.0</td>\n",
       "      <td>2015-11-02T21:13:27Z</td>\n",
       "      <td>Web Development</td>\n",
       "      <td>2015-11-02</td>\n",
       "      <td>Paid</td>\n",
       "    </tr>\n",
       "    <tr>\n",
       "      <th>3</th>\n",
       "      <td>173548</td>\n",
       "      <td>Build Your First Website in 1 Week with HTML5 ...</td>\n",
       "      <td>https://www.udemy.com/build-your-first-website...</td>\n",
       "      <td>0</td>\n",
       "      <td>120291</td>\n",
       "      <td>5924</td>\n",
       "      <td>30</td>\n",
       "      <td>All Levels</td>\n",
       "      <td>0.78</td>\n",
       "      <td>3.0</td>\n",
       "      <td>2014-04-08T16:21:30Z</td>\n",
       "      <td>Web Development</td>\n",
       "      <td>2014-04-08</td>\n",
       "      <td>Free</td>\n",
       "    </tr>\n",
       "    <tr>\n",
       "      <th>4</th>\n",
       "      <td>764164</td>\n",
       "      <td>The Complete Web Developer Course 2.0</td>\n",
       "      <td>https://www.udemy.com/the-complete-web-develop...</td>\n",
       "      <td>200</td>\n",
       "      <td>114512</td>\n",
       "      <td>22412</td>\n",
       "      <td>304</td>\n",
       "      <td>Beginner Level</td>\n",
       "      <td>0.55</td>\n",
       "      <td>30.5</td>\n",
       "      <td>2016-03-08T22:28:36Z</td>\n",
       "      <td>Web Development</td>\n",
       "      <td>2016-03-08</td>\n",
       "      <td>Paid</td>\n",
       "    </tr>\n",
       "    <tr>\n",
       "      <th>...</th>\n",
       "      <td>...</td>\n",
       "      <td>...</td>\n",
       "      <td>...</td>\n",
       "      <td>...</td>\n",
       "      <td>...</td>\n",
       "      <td>...</td>\n",
       "      <td>...</td>\n",
       "      <td>...</td>\n",
       "      <td>...</td>\n",
       "      <td>...</td>\n",
       "      <td>...</td>\n",
       "      <td>...</td>\n",
       "      <td>...</td>\n",
       "      <td>...</td>\n",
       "    </tr>\n",
       "    <tr>\n",
       "      <th>3009</th>\n",
       "      <td>1227578</td>\n",
       "      <td>Learning Path: The Road to Elasticsearch</td>\n",
       "      <td>https://www.udemy.com/learning-path-the-road-t...</td>\n",
       "      <td>200</td>\n",
       "      <td>50</td>\n",
       "      <td>5</td>\n",
       "      <td>60</td>\n",
       "      <td>Beginner Level</td>\n",
       "      <td>0.96</td>\n",
       "      <td>5.0</td>\n",
       "      <td>2017-05-29T17:56:24Z</td>\n",
       "      <td>Web Development</td>\n",
       "      <td>2017-05-29</td>\n",
       "      <td>Paid</td>\n",
       "    </tr>\n",
       "    <tr>\n",
       "      <th>3040</th>\n",
       "      <td>1277924</td>\n",
       "      <td>Angular 4 Front To Back</td>\n",
       "      <td>https://www.udemy.com/angular-4-front-to-back/</td>\n",
       "      <td>40</td>\n",
       "      <td>44</td>\n",
       "      <td>0</td>\n",
       "      <td>68</td>\n",
       "      <td>All Levels</td>\n",
       "      <td>0.15</td>\n",
       "      <td>8.5</td>\n",
       "      <td>2017-07-06T15:04:55Z</td>\n",
       "      <td>Web Development</td>\n",
       "      <td>2017-07-06</td>\n",
       "      <td>Paid</td>\n",
       "    </tr>\n",
       "    <tr>\n",
       "      <th>3109</th>\n",
       "      <td>1248172</td>\n",
       "      <td>Essentials of Spring 5.0 for Developers</td>\n",
       "      <td>https://www.udemy.com/essentials-of-spring-50-...</td>\n",
       "      <td>125</td>\n",
       "      <td>34</td>\n",
       "      <td>2</td>\n",
       "      <td>21</td>\n",
       "      <td>Beginner Level</td>\n",
       "      <td>0.46</td>\n",
       "      <td>1.5</td>\n",
       "      <td>2017-06-11T18:34:40Z</td>\n",
       "      <td>Web Development</td>\n",
       "      <td>2017-06-11</td>\n",
       "      <td>Paid</td>\n",
       "    </tr>\n",
       "    <tr>\n",
       "      <th>3190</th>\n",
       "      <td>1250934</td>\n",
       "      <td>Display and analyze GIS data on the web with L...</td>\n",
       "      <td>https://www.udemy.com/display-and-analyze-gis-...</td>\n",
       "      <td>100</td>\n",
       "      <td>25</td>\n",
       "      <td>4</td>\n",
       "      <td>66</td>\n",
       "      <td>Beginner Level</td>\n",
       "      <td>0.67</td>\n",
       "      <td>12.5</td>\n",
       "      <td>2017-06-15T21:17:43Z</td>\n",
       "      <td>Web Development</td>\n",
       "      <td>2017-06-15</td>\n",
       "      <td>Paid</td>\n",
       "    </tr>\n",
       "    <tr>\n",
       "      <th>3238</th>\n",
       "      <td>1270222</td>\n",
       "      <td>Learning Path: Web Applications with Spring an...</td>\n",
       "      <td>https://www.udemy.com/learning-path-web-applic...</td>\n",
       "      <td>200</td>\n",
       "      <td>19</td>\n",
       "      <td>2</td>\n",
       "      <td>33</td>\n",
       "      <td>Beginner Level</td>\n",
       "      <td>0.12</td>\n",
       "      <td>4.0</td>\n",
       "      <td>2017-06-28T21:04:21Z</td>\n",
       "      <td>Web Development</td>\n",
       "      <td>2017-06-28</td>\n",
       "      <td>Paid</td>\n",
       "    </tr>\n",
       "  </tbody>\n",
       "</table>\n",
       "<p>1203 rows × 14 columns</p>\n",
       "</div>"
      ],
      "text/plain": [
       "      course_id                                       course_title  \\\n",
       "0         41295               Learn HTML5 Programming From Scratch   \n",
       "1         59014                     Coding for Entrepreneurs Basic   \n",
       "2        625204                         The Web Developer Bootcamp   \n",
       "3        173548  Build Your First Website in 1 Week with HTML5 ...   \n",
       "4        764164              The Complete Web Developer Course 2.0   \n",
       "...         ...                                                ...   \n",
       "3009    1227578           Learning Path: The Road to Elasticsearch   \n",
       "3040    1277924                            Angular 4 Front To Back   \n",
       "3109    1248172            Essentials of Spring 5.0 for Developers   \n",
       "3190    1250934  Display and analyze GIS data on the web with L...   \n",
       "3238    1270222  Learning Path: Web Applications with Spring an...   \n",
       "\n",
       "                                                    url  price  \\\n",
       "0     https://www.udemy.com/learn-html5-programming-...      0   \n",
       "1     https://www.udemy.com/coding-for-entrepreneurs...      0   \n",
       "2     https://www.udemy.com/the-web-developer-bootcamp/    200   \n",
       "3     https://www.udemy.com/build-your-first-website...      0   \n",
       "4     https://www.udemy.com/the-complete-web-develop...    200   \n",
       "...                                                 ...    ...   \n",
       "3009  https://www.udemy.com/learning-path-the-road-t...    200   \n",
       "3040     https://www.udemy.com/angular-4-front-to-back/     40   \n",
       "3109  https://www.udemy.com/essentials-of-spring-50-...    125   \n",
       "3190  https://www.udemy.com/display-and-analyze-gis-...    100   \n",
       "3238  https://www.udemy.com/learning-path-web-applic...    200   \n",
       "\n",
       "      num_subscribers  num_reviews  num_lectures           level  rating  \\\n",
       "0              268923         8629            45  Beginner Level    0.82   \n",
       "1              161029          279            27    Expert Level    0.69   \n",
       "2              121584        27445           342  Beginner Level    0.89   \n",
       "3              120291         5924            30      All Levels    0.78   \n",
       "4              114512        22412           304  Beginner Level    0.55   \n",
       "...               ...          ...           ...             ...     ...   \n",
       "3009               50            5            60  Beginner Level    0.96   \n",
       "3040               44            0            68      All Levels    0.15   \n",
       "3109               34            2            21  Beginner Level    0.46   \n",
       "3190               25            4            66  Beginner Level    0.67   \n",
       "3238               19            2            33  Beginner Level    0.12   \n",
       "\n",
       "      content_duration   published_timestamp          subject        Date  \\\n",
       "0                 10.5  2013-02-14T07:03:41Z  Web Development  2013-02-14   \n",
       "1                  3.5  2013-06-09T15:51:55Z  Web Development  2013-06-09   \n",
       "2                 43.0  2015-11-02T21:13:27Z  Web Development  2015-11-02   \n",
       "3                  3.0  2014-04-08T16:21:30Z  Web Development  2014-04-08   \n",
       "4                 30.5  2016-03-08T22:28:36Z  Web Development  2016-03-08   \n",
       "...                ...                   ...              ...         ...   \n",
       "3009               5.0  2017-05-29T17:56:24Z  Web Development  2017-05-29   \n",
       "3040               8.5  2017-07-06T15:04:55Z  Web Development  2017-07-06   \n",
       "3109               1.5  2017-06-11T18:34:40Z  Web Development  2017-06-11   \n",
       "3190              12.5  2017-06-15T21:17:43Z  Web Development  2017-06-15   \n",
       "3238               4.0  2017-06-28T21:04:21Z  Web Development  2017-06-28   \n",
       "\n",
       "     Free/Paid  \n",
       "0         Free  \n",
       "1         Free  \n",
       "2         Paid  \n",
       "3         Free  \n",
       "4         Paid  \n",
       "...        ...  \n",
       "3009      Paid  \n",
       "3040      Paid  \n",
       "3109      Paid  \n",
       "3190      Paid  \n",
       "3238      Paid  \n",
       "\n",
       "[1203 rows x 14 columns]"
      ]
     },
     "metadata": {},
     "output_type": "display_data"
    }
   ],
   "source": [
    "df3 = df2.groupby(\"subject\")\n",
    "df3 = df3.get_group('Web Development')\n",
    "display(df3)"
   ]
  },
  {
   "cell_type": "code",
   "execution_count": 171,
   "id": "a116d4d1",
   "metadata": {},
   "outputs": [
    {
     "data": {
      "application/vnd.plotly.v1+json": {
       "config": {
        "plotlyServerURL": "https://plot.ly"
       },
       "data": [
        {
         "alignmentgroup": "True",
         "hovertemplate": "num_subscribers=%{x}<br>course_title=%{y}<extra></extra>",
         "legendgroup": "",
         "marker": {
          "color": "#636efa",
          "pattern": {
           "shape": ""
          }
         },
         "name": "",
         "offsetgroup": "",
         "orientation": "h",
         "showlegend": false,
         "textposition": "auto",
         "type": "bar",
         "x": [
          268923,
          161029,
          121584,
          120291,
          114512,
          98867,
          84897,
          83737,
          79612,
          73783,
          73110,
          72932,
          70773,
          69186,
          64128,
          59639,
          59361,
          58208,
          57422,
          55332
         ],
         "xaxis": "x",
         "y": [
          "Learn HTML5 Programming From Scratch",
          "Coding for Entrepreneurs Basic",
          "The Web Developer Bootcamp",
          "Build Your First Website in 1 Week with HTML5 and CSS3",
          "The Complete Web Developer Course 2.0",
          "Web Design for Web Developers: Build Beautiful Websites!",
          "Learn Javascript & JQuery From Scratch",
          "Practical PHP: Master the Basics and Code Dynamic Websites",
          "JavaScript: Understanding the Weird Parts",
          "Angular 4 (formerly Angular 2) - The Complete Guide",
          "Beginner Photoshop to HTML5 and CSS3",
          "Web Development By Doing: HTML / CSS From Scratch",
          "HTML and CSS for Beginners - Build a Website & Launch ONLINE",
          "Become a Web Developer from Scratch",
          "Quickstart AngularJS",
          "Learn Responsive Web Development from Scratch",
          "Learn and Understand AngularJS",
          "Learn and Understand NodeJS",
          "The Complete HTML & CSS Course - From Novice To Professional",
          "Complete PHP Course With Bootstrap3 CMS System & Admin Panel"
         ],
         "yaxis": "y"
        }
       ],
       "layout": {
        "barmode": "relative",
        "legend": {
         "tracegroupgap": 0
        },
        "margin": {
         "t": 60
        },
        "template": {
         "data": {
          "bar": [
           {
            "error_x": {
             "color": "#2a3f5f"
            },
            "error_y": {
             "color": "#2a3f5f"
            },
            "marker": {
             "line": {
              "color": "#E5ECF6",
              "width": 0.5
             },
             "pattern": {
              "fillmode": "overlay",
              "size": 10,
              "solidity": 0.2
             }
            },
            "type": "bar"
           }
          ],
          "barpolar": [
           {
            "marker": {
             "line": {
              "color": "#E5ECF6",
              "width": 0.5
             },
             "pattern": {
              "fillmode": "overlay",
              "size": 10,
              "solidity": 0.2
             }
            },
            "type": "barpolar"
           }
          ],
          "carpet": [
           {
            "aaxis": {
             "endlinecolor": "#2a3f5f",
             "gridcolor": "white",
             "linecolor": "white",
             "minorgridcolor": "white",
             "startlinecolor": "#2a3f5f"
            },
            "baxis": {
             "endlinecolor": "#2a3f5f",
             "gridcolor": "white",
             "linecolor": "white",
             "minorgridcolor": "white",
             "startlinecolor": "#2a3f5f"
            },
            "type": "carpet"
           }
          ],
          "choropleth": [
           {
            "colorbar": {
             "outlinewidth": 0,
             "ticks": ""
            },
            "type": "choropleth"
           }
          ],
          "contour": [
           {
            "colorbar": {
             "outlinewidth": 0,
             "ticks": ""
            },
            "colorscale": [
             [
              0,
              "#0d0887"
             ],
             [
              0.1111111111111111,
              "#46039f"
             ],
             [
              0.2222222222222222,
              "#7201a8"
             ],
             [
              0.3333333333333333,
              "#9c179e"
             ],
             [
              0.4444444444444444,
              "#bd3786"
             ],
             [
              0.5555555555555556,
              "#d8576b"
             ],
             [
              0.6666666666666666,
              "#ed7953"
             ],
             [
              0.7777777777777778,
              "#fb9f3a"
             ],
             [
              0.8888888888888888,
              "#fdca26"
             ],
             [
              1,
              "#f0f921"
             ]
            ],
            "type": "contour"
           }
          ],
          "contourcarpet": [
           {
            "colorbar": {
             "outlinewidth": 0,
             "ticks": ""
            },
            "type": "contourcarpet"
           }
          ],
          "heatmap": [
           {
            "colorbar": {
             "outlinewidth": 0,
             "ticks": ""
            },
            "colorscale": [
             [
              0,
              "#0d0887"
             ],
             [
              0.1111111111111111,
              "#46039f"
             ],
             [
              0.2222222222222222,
              "#7201a8"
             ],
             [
              0.3333333333333333,
              "#9c179e"
             ],
             [
              0.4444444444444444,
              "#bd3786"
             ],
             [
              0.5555555555555556,
              "#d8576b"
             ],
             [
              0.6666666666666666,
              "#ed7953"
             ],
             [
              0.7777777777777778,
              "#fb9f3a"
             ],
             [
              0.8888888888888888,
              "#fdca26"
             ],
             [
              1,
              "#f0f921"
             ]
            ],
            "type": "heatmap"
           }
          ],
          "heatmapgl": [
           {
            "colorbar": {
             "outlinewidth": 0,
             "ticks": ""
            },
            "colorscale": [
             [
              0,
              "#0d0887"
             ],
             [
              0.1111111111111111,
              "#46039f"
             ],
             [
              0.2222222222222222,
              "#7201a8"
             ],
             [
              0.3333333333333333,
              "#9c179e"
             ],
             [
              0.4444444444444444,
              "#bd3786"
             ],
             [
              0.5555555555555556,
              "#d8576b"
             ],
             [
              0.6666666666666666,
              "#ed7953"
             ],
             [
              0.7777777777777778,
              "#fb9f3a"
             ],
             [
              0.8888888888888888,
              "#fdca26"
             ],
             [
              1,
              "#f0f921"
             ]
            ],
            "type": "heatmapgl"
           }
          ],
          "histogram": [
           {
            "marker": {
             "pattern": {
              "fillmode": "overlay",
              "size": 10,
              "solidity": 0.2
             }
            },
            "type": "histogram"
           }
          ],
          "histogram2d": [
           {
            "colorbar": {
             "outlinewidth": 0,
             "ticks": ""
            },
            "colorscale": [
             [
              0,
              "#0d0887"
             ],
             [
              0.1111111111111111,
              "#46039f"
             ],
             [
              0.2222222222222222,
              "#7201a8"
             ],
             [
              0.3333333333333333,
              "#9c179e"
             ],
             [
              0.4444444444444444,
              "#bd3786"
             ],
             [
              0.5555555555555556,
              "#d8576b"
             ],
             [
              0.6666666666666666,
              "#ed7953"
             ],
             [
              0.7777777777777778,
              "#fb9f3a"
             ],
             [
              0.8888888888888888,
              "#fdca26"
             ],
             [
              1,
              "#f0f921"
             ]
            ],
            "type": "histogram2d"
           }
          ],
          "histogram2dcontour": [
           {
            "colorbar": {
             "outlinewidth": 0,
             "ticks": ""
            },
            "colorscale": [
             [
              0,
              "#0d0887"
             ],
             [
              0.1111111111111111,
              "#46039f"
             ],
             [
              0.2222222222222222,
              "#7201a8"
             ],
             [
              0.3333333333333333,
              "#9c179e"
             ],
             [
              0.4444444444444444,
              "#bd3786"
             ],
             [
              0.5555555555555556,
              "#d8576b"
             ],
             [
              0.6666666666666666,
              "#ed7953"
             ],
             [
              0.7777777777777778,
              "#fb9f3a"
             ],
             [
              0.8888888888888888,
              "#fdca26"
             ],
             [
              1,
              "#f0f921"
             ]
            ],
            "type": "histogram2dcontour"
           }
          ],
          "mesh3d": [
           {
            "colorbar": {
             "outlinewidth": 0,
             "ticks": ""
            },
            "type": "mesh3d"
           }
          ],
          "parcoords": [
           {
            "line": {
             "colorbar": {
              "outlinewidth": 0,
              "ticks": ""
             }
            },
            "type": "parcoords"
           }
          ],
          "pie": [
           {
            "automargin": true,
            "type": "pie"
           }
          ],
          "scatter": [
           {
            "marker": {
             "colorbar": {
              "outlinewidth": 0,
              "ticks": ""
             }
            },
            "type": "scatter"
           }
          ],
          "scatter3d": [
           {
            "line": {
             "colorbar": {
              "outlinewidth": 0,
              "ticks": ""
             }
            },
            "marker": {
             "colorbar": {
              "outlinewidth": 0,
              "ticks": ""
             }
            },
            "type": "scatter3d"
           }
          ],
          "scattercarpet": [
           {
            "marker": {
             "colorbar": {
              "outlinewidth": 0,
              "ticks": ""
             }
            },
            "type": "scattercarpet"
           }
          ],
          "scattergeo": [
           {
            "marker": {
             "colorbar": {
              "outlinewidth": 0,
              "ticks": ""
             }
            },
            "type": "scattergeo"
           }
          ],
          "scattergl": [
           {
            "marker": {
             "colorbar": {
              "outlinewidth": 0,
              "ticks": ""
             }
            },
            "type": "scattergl"
           }
          ],
          "scattermapbox": [
           {
            "marker": {
             "colorbar": {
              "outlinewidth": 0,
              "ticks": ""
             }
            },
            "type": "scattermapbox"
           }
          ],
          "scatterpolar": [
           {
            "marker": {
             "colorbar": {
              "outlinewidth": 0,
              "ticks": ""
             }
            },
            "type": "scatterpolar"
           }
          ],
          "scatterpolargl": [
           {
            "marker": {
             "colorbar": {
              "outlinewidth": 0,
              "ticks": ""
             }
            },
            "type": "scatterpolargl"
           }
          ],
          "scatterternary": [
           {
            "marker": {
             "colorbar": {
              "outlinewidth": 0,
              "ticks": ""
             }
            },
            "type": "scatterternary"
           }
          ],
          "surface": [
           {
            "colorbar": {
             "outlinewidth": 0,
             "ticks": ""
            },
            "colorscale": [
             [
              0,
              "#0d0887"
             ],
             [
              0.1111111111111111,
              "#46039f"
             ],
             [
              0.2222222222222222,
              "#7201a8"
             ],
             [
              0.3333333333333333,
              "#9c179e"
             ],
             [
              0.4444444444444444,
              "#bd3786"
             ],
             [
              0.5555555555555556,
              "#d8576b"
             ],
             [
              0.6666666666666666,
              "#ed7953"
             ],
             [
              0.7777777777777778,
              "#fb9f3a"
             ],
             [
              0.8888888888888888,
              "#fdca26"
             ],
             [
              1,
              "#f0f921"
             ]
            ],
            "type": "surface"
           }
          ],
          "table": [
           {
            "cells": {
             "fill": {
              "color": "#EBF0F8"
             },
             "line": {
              "color": "white"
             }
            },
            "header": {
             "fill": {
              "color": "#C8D4E3"
             },
             "line": {
              "color": "white"
             }
            },
            "type": "table"
           }
          ]
         },
         "layout": {
          "annotationdefaults": {
           "arrowcolor": "#2a3f5f",
           "arrowhead": 0,
           "arrowwidth": 1
          },
          "autotypenumbers": "strict",
          "coloraxis": {
           "colorbar": {
            "outlinewidth": 0,
            "ticks": ""
           }
          },
          "colorscale": {
           "diverging": [
            [
             0,
             "#8e0152"
            ],
            [
             0.1,
             "#c51b7d"
            ],
            [
             0.2,
             "#de77ae"
            ],
            [
             0.3,
             "#f1b6da"
            ],
            [
             0.4,
             "#fde0ef"
            ],
            [
             0.5,
             "#f7f7f7"
            ],
            [
             0.6,
             "#e6f5d0"
            ],
            [
             0.7,
             "#b8e186"
            ],
            [
             0.8,
             "#7fbc41"
            ],
            [
             0.9,
             "#4d9221"
            ],
            [
             1,
             "#276419"
            ]
           ],
           "sequential": [
            [
             0,
             "#0d0887"
            ],
            [
             0.1111111111111111,
             "#46039f"
            ],
            [
             0.2222222222222222,
             "#7201a8"
            ],
            [
             0.3333333333333333,
             "#9c179e"
            ],
            [
             0.4444444444444444,
             "#bd3786"
            ],
            [
             0.5555555555555556,
             "#d8576b"
            ],
            [
             0.6666666666666666,
             "#ed7953"
            ],
            [
             0.7777777777777778,
             "#fb9f3a"
            ],
            [
             0.8888888888888888,
             "#fdca26"
            ],
            [
             1,
             "#f0f921"
            ]
           ],
           "sequentialminus": [
            [
             0,
             "#0d0887"
            ],
            [
             0.1111111111111111,
             "#46039f"
            ],
            [
             0.2222222222222222,
             "#7201a8"
            ],
            [
             0.3333333333333333,
             "#9c179e"
            ],
            [
             0.4444444444444444,
             "#bd3786"
            ],
            [
             0.5555555555555556,
             "#d8576b"
            ],
            [
             0.6666666666666666,
             "#ed7953"
            ],
            [
             0.7777777777777778,
             "#fb9f3a"
            ],
            [
             0.8888888888888888,
             "#fdca26"
            ],
            [
             1,
             "#f0f921"
            ]
           ]
          },
          "colorway": [
           "#636efa",
           "#EF553B",
           "#00cc96",
           "#ab63fa",
           "#FFA15A",
           "#19d3f3",
           "#FF6692",
           "#B6E880",
           "#FF97FF",
           "#FECB52"
          ],
          "font": {
           "color": "#2a3f5f"
          },
          "geo": {
           "bgcolor": "white",
           "lakecolor": "white",
           "landcolor": "#E5ECF6",
           "showlakes": true,
           "showland": true,
           "subunitcolor": "white"
          },
          "hoverlabel": {
           "align": "left"
          },
          "hovermode": "closest",
          "mapbox": {
           "style": "light"
          },
          "paper_bgcolor": "white",
          "plot_bgcolor": "#E5ECF6",
          "polar": {
           "angularaxis": {
            "gridcolor": "white",
            "linecolor": "white",
            "ticks": ""
           },
           "bgcolor": "#E5ECF6",
           "radialaxis": {
            "gridcolor": "white",
            "linecolor": "white",
            "ticks": ""
           }
          },
          "scene": {
           "xaxis": {
            "backgroundcolor": "#E5ECF6",
            "gridcolor": "white",
            "gridwidth": 2,
            "linecolor": "white",
            "showbackground": true,
            "ticks": "",
            "zerolinecolor": "white"
           },
           "yaxis": {
            "backgroundcolor": "#E5ECF6",
            "gridcolor": "white",
            "gridwidth": 2,
            "linecolor": "white",
            "showbackground": true,
            "ticks": "",
            "zerolinecolor": "white"
           },
           "zaxis": {
            "backgroundcolor": "#E5ECF6",
            "gridcolor": "white",
            "gridwidth": 2,
            "linecolor": "white",
            "showbackground": true,
            "ticks": "",
            "zerolinecolor": "white"
           }
          },
          "shapedefaults": {
           "line": {
            "color": "#2a3f5f"
           }
          },
          "ternary": {
           "aaxis": {
            "gridcolor": "white",
            "linecolor": "white",
            "ticks": ""
           },
           "baxis": {
            "gridcolor": "white",
            "linecolor": "white",
            "ticks": ""
           },
           "bgcolor": "#E5ECF6",
           "caxis": {
            "gridcolor": "white",
            "linecolor": "white",
            "ticks": ""
           }
          },
          "title": {
           "x": 0.05
          },
          "xaxis": {
           "automargin": true,
           "gridcolor": "white",
           "linecolor": "white",
           "ticks": "",
           "title": {
            "standoff": 15
           },
           "zerolinecolor": "white",
           "zerolinewidth": 2
          },
          "yaxis": {
           "automargin": true,
           "gridcolor": "white",
           "linecolor": "white",
           "ticks": "",
           "title": {
            "standoff": 15
           },
           "zerolinecolor": "white",
           "zerolinewidth": 2
          }
         }
        },
        "title": {
         "text": "Cursos mais Populares na Área de Desenvolvimento Web"
        },
        "xaxis": {
         "anchor": "y",
         "domain": [
          0,
          1
         ],
         "title": {
          "text": "Número de Alunos Inscritos"
         }
        },
        "yaxis": {
         "anchor": "x",
         "domain": [
          0,
          1
         ],
         "title": {
          "text": "Nome do Curso"
         }
        }
       }
      },
      "text/html": [
       "<div>                            <div id=\"ef5250d8-50f4-4c8c-98fa-e586e8e7dac8\" class=\"plotly-graph-div\" style=\"height:525px; width:100%;\"></div>            <script type=\"text/javascript\">                require([\"plotly\"], function(Plotly) {                    window.PLOTLYENV=window.PLOTLYENV || {};                                    if (document.getElementById(\"ef5250d8-50f4-4c8c-98fa-e586e8e7dac8\")) {                    Plotly.newPlot(                        \"ef5250d8-50f4-4c8c-98fa-e586e8e7dac8\",                        [{\"alignmentgroup\":\"True\",\"hovertemplate\":\"num_subscribers=%{x}<br>course_title=%{y}<extra></extra>\",\"legendgroup\":\"\",\"marker\":{\"color\":\"#636efa\",\"pattern\":{\"shape\":\"\"}},\"name\":\"\",\"offsetgroup\":\"\",\"orientation\":\"h\",\"showlegend\":false,\"textposition\":\"auto\",\"x\":[268923,161029,121584,120291,114512,98867,84897,83737,79612,73783,73110,72932,70773,69186,64128,59639,59361,58208,57422,55332],\"xaxis\":\"x\",\"y\":[\"Learn HTML5 Programming From Scratch\",\"Coding for Entrepreneurs Basic\",\"The Web Developer Bootcamp\",\"Build Your First Website in 1 Week with HTML5 and CSS3\",\"The Complete Web Developer Course 2.0\",\"Web Design for Web Developers: Build Beautiful Websites!\",\"Learn Javascript & JQuery From Scratch\",\"Practical PHP: Master the Basics and Code Dynamic Websites\",\"JavaScript: Understanding the Weird Parts\",\"Angular 4 (formerly Angular 2) - The Complete Guide\",\"Beginner Photoshop to HTML5 and CSS3\",\"Web Development By Doing: HTML / CSS From Scratch\",\"HTML and CSS for Beginners - Build a Website & Launch ONLINE\",\"Become a Web Developer from Scratch\",\"Quickstart AngularJS\",\"Learn Responsive Web Development from Scratch\",\"Learn and Understand AngularJS\",\"Learn and Understand NodeJS\",\"The Complete HTML & CSS Course - From Novice To Professional\",\"Complete PHP Course With Bootstrap3 CMS System & Admin Panel\"],\"yaxis\":\"y\",\"type\":\"bar\"}],                        {\"template\":{\"data\":{\"bar\":[{\"error_x\":{\"color\":\"#2a3f5f\"},\"error_y\":{\"color\":\"#2a3f5f\"},\"marker\":{\"line\":{\"color\":\"#E5ECF6\",\"width\":0.5},\"pattern\":{\"fillmode\":\"overlay\",\"size\":10,\"solidity\":0.2}},\"type\":\"bar\"}],\"barpolar\":[{\"marker\":{\"line\":{\"color\":\"#E5ECF6\",\"width\":0.5},\"pattern\":{\"fillmode\":\"overlay\",\"size\":10,\"solidity\":0.2}},\"type\":\"barpolar\"}],\"carpet\":[{\"aaxis\":{\"endlinecolor\":\"#2a3f5f\",\"gridcolor\":\"white\",\"linecolor\":\"white\",\"minorgridcolor\":\"white\",\"startlinecolor\":\"#2a3f5f\"},\"baxis\":{\"endlinecolor\":\"#2a3f5f\",\"gridcolor\":\"white\",\"linecolor\":\"white\",\"minorgridcolor\":\"white\",\"startlinecolor\":\"#2a3f5f\"},\"type\":\"carpet\"}],\"choropleth\":[{\"colorbar\":{\"outlinewidth\":0,\"ticks\":\"\"},\"type\":\"choropleth\"}],\"contour\":[{\"colorbar\":{\"outlinewidth\":0,\"ticks\":\"\"},\"colorscale\":[[0.0,\"#0d0887\"],[0.1111111111111111,\"#46039f\"],[0.2222222222222222,\"#7201a8\"],[0.3333333333333333,\"#9c179e\"],[0.4444444444444444,\"#bd3786\"],[0.5555555555555556,\"#d8576b\"],[0.6666666666666666,\"#ed7953\"],[0.7777777777777778,\"#fb9f3a\"],[0.8888888888888888,\"#fdca26\"],[1.0,\"#f0f921\"]],\"type\":\"contour\"}],\"contourcarpet\":[{\"colorbar\":{\"outlinewidth\":0,\"ticks\":\"\"},\"type\":\"contourcarpet\"}],\"heatmap\":[{\"colorbar\":{\"outlinewidth\":0,\"ticks\":\"\"},\"colorscale\":[[0.0,\"#0d0887\"],[0.1111111111111111,\"#46039f\"],[0.2222222222222222,\"#7201a8\"],[0.3333333333333333,\"#9c179e\"],[0.4444444444444444,\"#bd3786\"],[0.5555555555555556,\"#d8576b\"],[0.6666666666666666,\"#ed7953\"],[0.7777777777777778,\"#fb9f3a\"],[0.8888888888888888,\"#fdca26\"],[1.0,\"#f0f921\"]],\"type\":\"heatmap\"}],\"heatmapgl\":[{\"colorbar\":{\"outlinewidth\":0,\"ticks\":\"\"},\"colorscale\":[[0.0,\"#0d0887\"],[0.1111111111111111,\"#46039f\"],[0.2222222222222222,\"#7201a8\"],[0.3333333333333333,\"#9c179e\"],[0.4444444444444444,\"#bd3786\"],[0.5555555555555556,\"#d8576b\"],[0.6666666666666666,\"#ed7953\"],[0.7777777777777778,\"#fb9f3a\"],[0.8888888888888888,\"#fdca26\"],[1.0,\"#f0f921\"]],\"type\":\"heatmapgl\"}],\"histogram\":[{\"marker\":{\"pattern\":{\"fillmode\":\"overlay\",\"size\":10,\"solidity\":0.2}},\"type\":\"histogram\"}],\"histogram2d\":[{\"colorbar\":{\"outlinewidth\":0,\"ticks\":\"\"},\"colorscale\":[[0.0,\"#0d0887\"],[0.1111111111111111,\"#46039f\"],[0.2222222222222222,\"#7201a8\"],[0.3333333333333333,\"#9c179e\"],[0.4444444444444444,\"#bd3786\"],[0.5555555555555556,\"#d8576b\"],[0.6666666666666666,\"#ed7953\"],[0.7777777777777778,\"#fb9f3a\"],[0.8888888888888888,\"#fdca26\"],[1.0,\"#f0f921\"]],\"type\":\"histogram2d\"}],\"histogram2dcontour\":[{\"colorbar\":{\"outlinewidth\":0,\"ticks\":\"\"},\"colorscale\":[[0.0,\"#0d0887\"],[0.1111111111111111,\"#46039f\"],[0.2222222222222222,\"#7201a8\"],[0.3333333333333333,\"#9c179e\"],[0.4444444444444444,\"#bd3786\"],[0.5555555555555556,\"#d8576b\"],[0.6666666666666666,\"#ed7953\"],[0.7777777777777778,\"#fb9f3a\"],[0.8888888888888888,\"#fdca26\"],[1.0,\"#f0f921\"]],\"type\":\"histogram2dcontour\"}],\"mesh3d\":[{\"colorbar\":{\"outlinewidth\":0,\"ticks\":\"\"},\"type\":\"mesh3d\"}],\"parcoords\":[{\"line\":{\"colorbar\":{\"outlinewidth\":0,\"ticks\":\"\"}},\"type\":\"parcoords\"}],\"pie\":[{\"automargin\":true,\"type\":\"pie\"}],\"scatter\":[{\"marker\":{\"colorbar\":{\"outlinewidth\":0,\"ticks\":\"\"}},\"type\":\"scatter\"}],\"scatter3d\":[{\"line\":{\"colorbar\":{\"outlinewidth\":0,\"ticks\":\"\"}},\"marker\":{\"colorbar\":{\"outlinewidth\":0,\"ticks\":\"\"}},\"type\":\"scatter3d\"}],\"scattercarpet\":[{\"marker\":{\"colorbar\":{\"outlinewidth\":0,\"ticks\":\"\"}},\"type\":\"scattercarpet\"}],\"scattergeo\":[{\"marker\":{\"colorbar\":{\"outlinewidth\":0,\"ticks\":\"\"}},\"type\":\"scattergeo\"}],\"scattergl\":[{\"marker\":{\"colorbar\":{\"outlinewidth\":0,\"ticks\":\"\"}},\"type\":\"scattergl\"}],\"scattermapbox\":[{\"marker\":{\"colorbar\":{\"outlinewidth\":0,\"ticks\":\"\"}},\"type\":\"scattermapbox\"}],\"scatterpolar\":[{\"marker\":{\"colorbar\":{\"outlinewidth\":0,\"ticks\":\"\"}},\"type\":\"scatterpolar\"}],\"scatterpolargl\":[{\"marker\":{\"colorbar\":{\"outlinewidth\":0,\"ticks\":\"\"}},\"type\":\"scatterpolargl\"}],\"scatterternary\":[{\"marker\":{\"colorbar\":{\"outlinewidth\":0,\"ticks\":\"\"}},\"type\":\"scatterternary\"}],\"surface\":[{\"colorbar\":{\"outlinewidth\":0,\"ticks\":\"\"},\"colorscale\":[[0.0,\"#0d0887\"],[0.1111111111111111,\"#46039f\"],[0.2222222222222222,\"#7201a8\"],[0.3333333333333333,\"#9c179e\"],[0.4444444444444444,\"#bd3786\"],[0.5555555555555556,\"#d8576b\"],[0.6666666666666666,\"#ed7953\"],[0.7777777777777778,\"#fb9f3a\"],[0.8888888888888888,\"#fdca26\"],[1.0,\"#f0f921\"]],\"type\":\"surface\"}],\"table\":[{\"cells\":{\"fill\":{\"color\":\"#EBF0F8\"},\"line\":{\"color\":\"white\"}},\"header\":{\"fill\":{\"color\":\"#C8D4E3\"},\"line\":{\"color\":\"white\"}},\"type\":\"table\"}]},\"layout\":{\"annotationdefaults\":{\"arrowcolor\":\"#2a3f5f\",\"arrowhead\":0,\"arrowwidth\":1},\"autotypenumbers\":\"strict\",\"coloraxis\":{\"colorbar\":{\"outlinewidth\":0,\"ticks\":\"\"}},\"colorscale\":{\"diverging\":[[0,\"#8e0152\"],[0.1,\"#c51b7d\"],[0.2,\"#de77ae\"],[0.3,\"#f1b6da\"],[0.4,\"#fde0ef\"],[0.5,\"#f7f7f7\"],[0.6,\"#e6f5d0\"],[0.7,\"#b8e186\"],[0.8,\"#7fbc41\"],[0.9,\"#4d9221\"],[1,\"#276419\"]],\"sequential\":[[0.0,\"#0d0887\"],[0.1111111111111111,\"#46039f\"],[0.2222222222222222,\"#7201a8\"],[0.3333333333333333,\"#9c179e\"],[0.4444444444444444,\"#bd3786\"],[0.5555555555555556,\"#d8576b\"],[0.6666666666666666,\"#ed7953\"],[0.7777777777777778,\"#fb9f3a\"],[0.8888888888888888,\"#fdca26\"],[1.0,\"#f0f921\"]],\"sequentialminus\":[[0.0,\"#0d0887\"],[0.1111111111111111,\"#46039f\"],[0.2222222222222222,\"#7201a8\"],[0.3333333333333333,\"#9c179e\"],[0.4444444444444444,\"#bd3786\"],[0.5555555555555556,\"#d8576b\"],[0.6666666666666666,\"#ed7953\"],[0.7777777777777778,\"#fb9f3a\"],[0.8888888888888888,\"#fdca26\"],[1.0,\"#f0f921\"]]},\"colorway\":[\"#636efa\",\"#EF553B\",\"#00cc96\",\"#ab63fa\",\"#FFA15A\",\"#19d3f3\",\"#FF6692\",\"#B6E880\",\"#FF97FF\",\"#FECB52\"],\"font\":{\"color\":\"#2a3f5f\"},\"geo\":{\"bgcolor\":\"white\",\"lakecolor\":\"white\",\"landcolor\":\"#E5ECF6\",\"showlakes\":true,\"showland\":true,\"subunitcolor\":\"white\"},\"hoverlabel\":{\"align\":\"left\"},\"hovermode\":\"closest\",\"mapbox\":{\"style\":\"light\"},\"paper_bgcolor\":\"white\",\"plot_bgcolor\":\"#E5ECF6\",\"polar\":{\"angularaxis\":{\"gridcolor\":\"white\",\"linecolor\":\"white\",\"ticks\":\"\"},\"bgcolor\":\"#E5ECF6\",\"radialaxis\":{\"gridcolor\":\"white\",\"linecolor\":\"white\",\"ticks\":\"\"}},\"scene\":{\"xaxis\":{\"backgroundcolor\":\"#E5ECF6\",\"gridcolor\":\"white\",\"gridwidth\":2,\"linecolor\":\"white\",\"showbackground\":true,\"ticks\":\"\",\"zerolinecolor\":\"white\"},\"yaxis\":{\"backgroundcolor\":\"#E5ECF6\",\"gridcolor\":\"white\",\"gridwidth\":2,\"linecolor\":\"white\",\"showbackground\":true,\"ticks\":\"\",\"zerolinecolor\":\"white\"},\"zaxis\":{\"backgroundcolor\":\"#E5ECF6\",\"gridcolor\":\"white\",\"gridwidth\":2,\"linecolor\":\"white\",\"showbackground\":true,\"ticks\":\"\",\"zerolinecolor\":\"white\"}},\"shapedefaults\":{\"line\":{\"color\":\"#2a3f5f\"}},\"ternary\":{\"aaxis\":{\"gridcolor\":\"white\",\"linecolor\":\"white\",\"ticks\":\"\"},\"baxis\":{\"gridcolor\":\"white\",\"linecolor\":\"white\",\"ticks\":\"\"},\"bgcolor\":\"#E5ECF6\",\"caxis\":{\"gridcolor\":\"white\",\"linecolor\":\"white\",\"ticks\":\"\"}},\"title\":{\"x\":0.05},\"xaxis\":{\"automargin\":true,\"gridcolor\":\"white\",\"linecolor\":\"white\",\"ticks\":\"\",\"title\":{\"standoff\":15},\"zerolinecolor\":\"white\",\"zerolinewidth\":2},\"yaxis\":{\"automargin\":true,\"gridcolor\":\"white\",\"linecolor\":\"white\",\"ticks\":\"\",\"title\":{\"standoff\":15},\"zerolinecolor\":\"white\",\"zerolinewidth\":2}}},\"xaxis\":{\"anchor\":\"y\",\"domain\":[0.0,1.0],\"title\":{\"text\":\"N\\u00famero de Alunos Inscritos\"}},\"yaxis\":{\"anchor\":\"x\",\"domain\":[0.0,1.0],\"title\":{\"text\":\"Nome do Curso\"}},\"legend\":{\"tracegroupgap\":0},\"margin\":{\"t\":60},\"barmode\":\"relative\",\"title\":{\"text\":\"Cursos mais Populares na \\u00c1rea de Desenvolvimento Web\"}},                        {\"responsive\": true}                    ).then(function(){\n",
       "                            \n",
       "var gd = document.getElementById('ef5250d8-50f4-4c8c-98fa-e586e8e7dac8');\n",
       "var x = new MutationObserver(function (mutations, observer) {{\n",
       "        var display = window.getComputedStyle(gd).display;\n",
       "        if (!display || display === 'none') {{\n",
       "            console.log([gd, 'removed!']);\n",
       "            Plotly.purge(gd);\n",
       "            observer.disconnect();\n",
       "        }}\n",
       "}});\n",
       "\n",
       "// Listen for the removal of the full notebook cells\n",
       "var notebookContainer = gd.closest('#notebook-container');\n",
       "if (notebookContainer) {{\n",
       "    x.observe(notebookContainer, {childList: true});\n",
       "}}\n",
       "\n",
       "// Listen for the clearing of the current output cell\n",
       "var outputEl = gd.closest('.output');\n",
       "if (outputEl) {{\n",
       "    x.observe(outputEl, {childList: true});\n",
       "}}\n",
       "\n",
       "                        })                };                });            </script>        </div>"
      ]
     },
     "metadata": {},
     "output_type": "display_data"
    }
   ],
   "source": [
    "df3_top20 = df3.head(20)\n",
    "px.bar(df3_top20, x='num_subscribers', y='course_title').update_layout(title=\"Cursos mais Populares na Área de Desenvolvimento Web\", yaxis_title_text=\"Nome do Curso\", xaxis_title_text='Número de Alunos Inscritos')"
   ]
  },
  {
   "cell_type": "code",
   "execution_count": 172,
   "id": "7d8a00a9",
   "metadata": {},
   "outputs": [
    {
     "data": {
      "application/vnd.plotly.v1+json": {
       "config": {
        "plotlyServerURL": "https://plot.ly"
       },
       "data": [
        {
         "customdata": [
          [
           "Learn HTML5 Programming From Scratch"
          ],
          [
           "Coding for Entrepreneurs Basic"
          ],
          [
           "The Web Developer Bootcamp"
          ],
          [
           "Build Your First Website in 1 Week with HTML5 and CSS3"
          ],
          [
           "The Complete Web Developer Course 2.0"
          ],
          [
           "Web Design for Web Developers: Build Beautiful Websites!"
          ],
          [
           "Learn Javascript & JQuery From Scratch"
          ],
          [
           "Practical PHP: Master the Basics and Code Dynamic Websites"
          ],
          [
           "JavaScript: Understanding the Weird Parts"
          ],
          [
           "Angular 4 (formerly Angular 2) - The Complete Guide"
          ],
          [
           "Beginner Photoshop to HTML5 and CSS3"
          ],
          [
           "Web Development By Doing: HTML / CSS From Scratch"
          ],
          [
           "HTML and CSS for Beginners - Build a Website & Launch ONLINE"
          ],
          [
           "Become a Web Developer from Scratch"
          ],
          [
           "Quickstart AngularJS"
          ],
          [
           "Learn Responsive Web Development from Scratch"
          ],
          [
           "Learn and Understand AngularJS"
          ],
          [
           "Learn and Understand NodeJS"
          ],
          [
           "The Complete HTML & CSS Course - From Novice To Professional"
          ],
          [
           "Complete PHP Course With Bootstrap3 CMS System & Admin Panel"
          ],
          [
           "Build Websites from Scratch with HTML & CSS"
          ],
          [
           "Modern React with Redux"
          ],
          [
           "Learn PHP Fundamentals From Scratch"
          ],
          [
           "Learning Dynamic Website Design - PHP MySQL and JavaScript"
          ],
          [
           "Javascript Essentials"
          ],
          [
           "Build Responsive Real World Websites with HTML5 and CSS3"
          ],
          [
           "Learn Web Designing & HTML5/CSS3 Essentials in 4-Hours"
          ],
          [
           "Bootstrap 4 Quick Start: Code Modern Responsive Websites"
          ],
          [
           "Angular 2 with TypeScript for Beginners: The Pragmatic Guide"
          ],
          [
           "The Complete Web Developer Masterclass: Beginner To Advanced"
          ],
          [
           "Learn Object Oriented PHP By Building a Complete Website"
          ],
          [
           "Web Programming with Python"
          ],
          [
           "Ultimate Web Designer & Developer Course: Build 23 Projects!"
          ],
          [
           "The Complete Ruby on Rails Developer Course"
          ],
          [
           "Learn Angular 2 from Beginner to Advanced"
          ],
          [
           "Create An HTML5 Video Player From Scratch"
          ],
          [
           "The Complete JavaScript Course For Web Development Beginners"
          ],
          [
           "The Original Complete Web Developer Course."
          ],
          [
           "AngularJS For Beginners"
          ],
          [
           "Learn E-Commerce Website in PHP & MySQL From Scratch!"
          ],
          [
           "Angular 2+ with Typescript - Essential Training"
          ],
          [
           "PHP for Beginners -Become a PHP Master - Project Included"
          ],
          [
           "Javascript - From Beginner to Pro-Build real world JS apps"
          ],
          [
           "Essentials of JavaScript Practice Coding Exercises Tips"
          ],
          [
           "The Complete JavaScript Course: Build a Real-World Project"
          ],
          [
           "Introduction to Web Development: HTML"
          ],
          [
           "EMMET Faster HTML & CSS workflow - Best Tool For Developers"
          ],
          [
           "Become a Certified Web Developer"
          ],
          [
           "Master the Basics of HTML5 & CSS3: Beginner Web Development"
          ],
          [
           "CSS Development (with CSS3!)"
          ],
          [
           "HTML Workshop"
          ],
          [
           "Master the MEAN Stack - Learn By Example"
          ],
          [
           "The Complete Bootstrap Masterclass Course - Build 4 Projects"
          ],
          [
           "The Ultimate Web Developer How To Guide"
          ],
          [
           "Running a Web Development Business: The Complete Guide"
          ],
          [
           "Programming Foundations: HTML5 + CSS3 for Entrepreneurs 2015"
          ],
          [
           "Learn to Use jQuery UI Widgets"
          ],
          [
           "WordPress Development For Beginners"
          ],
          [
           "Coding for Entrepreneurs: Learn Python, Django, and More."
          ],
          [
           "1 Hour JavaScript"
          ],
          [
           "Build Responsive Website Using HTML5, CSS3, JS And Bootstrap"
          ],
          [
           "Get Results - Core Principles of Web Development Tricks Tips"
          ],
          [
           "Learn Object Oriented Programming PHP fundamentals bootcamp"
          ],
          [
           "Advanced React and Redux"
          ],
          [
           "Become A Web Developer And Seller - Build Websites With HTML"
          ],
          [
           "AngularJS Authentication: Secure Your App with Auth0"
          ],
          [
           "MongooseJS Essentials - Learn MongoDB for Node.js"
          ],
          [
           "Mastering HTML5 Programming - The Easier Way"
          ],
          [
           "ExpressJS Fundamentals"
          ],
          [
           "Spring Framework 4 And Dependency Injection For Beginners"
          ],
          [
           "Learn to Setup Websites from Scratch"
          ],
          [
           "Sass Workflow"
          ],
          [
           "The Complete ASP.NET MVC 5 Course"
          ],
          [
           "HTML Complete Course - Beginner to Expert"
          ],
          [
           "Joomla 3 - The Basics"
          ],
          [
           "Docker Technologies for DevOps and Developers"
          ],
          [
           "Learn To Build Beautiful HTML5 And CSS3 Websites In 1 Month"
          ],
          [
           "Learn AngularJS Step By Step"
          ],
          [
           "Joomla: Create a Joomla Website This Weekend With NO CODING!"
          ],
          [
           "1 Hour CSS"
          ],
          [
           "Back to School Web Development and Programming Bundle"
          ],
          [
           "Introduction to Web Development"
          ],
          [
           "Bootstrap unleash the power faster & easier web development"
          ],
          [
           "The Complete PHP CodeIgniter Course: Beginner To Advanced"
          ],
          [
           "AngularJS JumpStart with Dan Wahlin"
          ],
          [
           "The Complete NodeJS Course: Build a Full Business Rating App"
          ],
          [
           "Building Websites JavaScript and the DOM"
          ],
          [
           "Learn Python and Django: Payment Processing"
          ],
          [
           "Vue JS 2 - The Complete Guide (incl. Vue Router & Vuex)"
          ],
          [
           "JavaScript Intro to learning JavaScript web programming"
          ],
          [
           "How to Make a Single Page Website for Freelancers & Agencies"
          ],
          [
           "The Professional Ruby on Rails Developer"
          ],
          [
           "Angular (Angular 2 or 4) & NodeJS - The MEAN Stack Guide"
          ],
          [
           "Learning JavaScript Programming Tutorial. A Definitive Guide"
          ],
          [
           "Adobe Flash for Beginners - Build Flash Website From Scratch"
          ],
          [
           "Try AngularJS: Beginner's Guide to Front End Web Development"
          ],
          [
           "React JS and Redux - Mastering Web Apps"
          ],
          [
           "Learn Web Scraping with Node.js"
          ],
          [
           "JavaScript Rockstar How to create Incredible Useful code"
          ],
          [
           "Build a Responsive Website with a Modern Flat Design"
          ],
          [
           "Become Exceptional in HTML and HTML5"
          ],
          [
           "Angular 2 Crash Course with TypeScript"
          ],
          [
           "Django Core | A Reference Guide to Core Django Concepts"
          ],
          [
           "1 Hour HTML"
          ],
          [
           "The Complete PHP MySQL Professional Course with 5 Projects"
          ],
          [
           "Learn Ruby on Rails: Stripe Payment Processing"
          ],
          [
           "Learn how to quickly build websites using Wordpress"
          ],
          [
           "Introduction to CSS Development"
          ],
          [
           "Learn HTML & CSS: How To Start Your Web Development Career"
          ],
          [
           "Learn JavaScript for beginners"
          ],
          [
           "Servlets and JSPs Tutorial: Learn Web Applications With Java"
          ],
          [
           "Learn to Build Websites using Twitter Bootstrap"
          ],
          [
           "JavaScript Tricks how to create code projects from scratch"
          ],
          [
           "ASP.Net MVC Quick Start"
          ],
          [
           "HTML 5: How I made websites in HTML5"
          ],
          [
           "Rapid Website Design with Bootstrap"
          ],
          [
           "Learn Bootstrap Development By Building 10 Projects"
          ],
          [
           "Codeigniter: How to use Codeigniter that drives knowledge"
          ],
          [
           "Creating an MP3 Player with HTML5"
          ],
          [
           "Get started Creating Websites Everything you need provided"
          ],
          [
           "Benefits of Thinking Mobile First Future of Website Design"
          ],
          [
           "HTML5 canvas Bootcamp for beginners 25 easy steps"
          ],
          [
           "The Complete Web Developer Bootcamp - Beginner to Expert"
          ],
          [
           "Learn Complete Web Development From Scratch"
          ],
          [
           "How to Make an Online Portfolio Website from Scratch"
          ],
          [
           "Learn Html5 & CSS3 from scratch"
          ],
          [
           "Web Design Creating websites from scratch"
          ],
          [
           "jQuery Fundamentals Powerful Bootcamp for beginners"
          ],
          [
           "Learn Complete WordPress for Building a Professional Sites"
          ],
          [
           "Code a 'Coming Soon' Landing Page in Bootstrap 4"
          ],
          [
           "Vue JS - Mastering Web Apps"
          ],
          [
           "The Complete WordPress Website Business Course"
          ],
          [
           "JavaScript Step by Step how to apply it to your web pages"
          ],
          [
           "WordPress Backup And Restore Fundamentals"
          ],
          [
           "Serverless Architecture on Amazon Web Services"
          ],
          [
           "Ruby on Rails a Beginners Guide"
          ],
          [
           "Write quicker HTML5 and CSS 3; productivity hacks with emmet"
          ],
          [
           "ES6 Javascript: The Complete Developer's Guide"
          ],
          [
           "Create Startup Landing Page with Viral Marketing Strategies"
          ],
          [
           "Learn SVG Animation - With HTML, CSS & Javascript"
          ],
          [
           "How to Make a Video Blog Website From Scratch w/ Wordpress"
          ],
          [
           "Learn JavaScript for Web Development"
          ],
          [
           "Create a Website from Scratch using HTML CSS step by step"
          ],
          [
           "Programming for Entrepreneurs - JavaScript"
          ],
          [
           "Learn to use JSON"
          ],
          [
           "React JS - Build real world JS apps & deploy on cloud"
          ],
          [
           "PHP: Complete Registration and Login with Email Verification"
          ],
          [
           "Responsive Design with NEW Materialize"
          ],
          [
           "Web Hosting Set Up and WordPress Installation For Beginners"
          ],
          [
           "HTML Tutorial: HTML & CSS for Beginners"
          ],
          [
           "Complete AJAX Course: Learn AJAX Techniques Using Bootstrap"
          ],
          [
           "Angular 4 (2+) Crash Course for Beginners"
          ],
          [
           "Learn what's new in PHP 7"
          ],
          [
           "Website Secrets: Get a Gorgeous Website on the Cheap"
          ],
          [
           "How to Make a Wordpress Website 2017"
          ],
          [
           "Practical Understanding of PHP and MySQL"
          ],
          [
           "Build Flat Responsive Website from Scratch - Complete Course"
          ],
          [
           "PHP Fundamentals - Start Earning The Top Dollars You Deserve"
          ],
          [
           "The Complete Sass & SCSS Course: From Beginner to Advanced"
          ],
          [
           "You can create Incredible Websites with HTML CSS learn how"
          ],
          [
           "Advanced HTML5 Tutorial for Web Developers"
          ],
          [
           "Python and Django Full Stack Web Developer Bootcamp"
          ],
          [
           "Learn how to create a WordPress theme using Pinegrow"
          ],
          [
           "How To Setup Web Hosting"
          ],
          [
           "PSD To a Creative Landing Page Using Twitter Bootstrap 3"
          ],
          [
           "Learn HTML 5 in 1 hour"
          ],
          [
           "HTML CSS Easy steps to create a web template from scratch"
          ],
          [
           "React Redux React-Router: From Beginner to Paid Professional"
          ],
          [
           "Learn HTML And CSS From Scratch"
          ],
          [
           "Complete Web Development Course + Building 5 Websites!"
          ],
          [
           "Ultimate Angular 4 (previously Angular 2) with Bootstrap 4"
          ],
          [
           "Learn the Basics of Programming for Marketers"
          ],
          [
           "JavaScript For Beginners : Learn JavaScript From Scratch"
          ],
          [
           "JavaScript For Beginners : Learn JavaScript From Scratch"
          ],
          [
           "jQuery Crash Course: Learn the Essentials of jQuery Fast"
          ],
          [
           "Practical CSS Website Development: Crash Course"
          ],
          [
           "Practical CSS Website Development: Crash Course"
          ],
          [
           "Make a professional website - 30 Day Guarantee. Discounted!"
          ],
          [
           "Make a professional website - 30 Day Guarantee. Discounted!"
          ],
          [
           "Learn to Make an Animated Image Gallery using HTML5"
          ],
          [
           "Improved SEO with Rich Snippets and MicroData"
          ],
          [
           "Improved SEO with Rich Snippets and MicroData"
          ],
          [
           "Ultimate guide to Social Media Web development integration"
          ],
          [
           "The Complete Developers Guide to MongoDB"
          ],
          [
           "Fun and creative web engineering with Python and Web2py"
          ],
          [
           "CSS and CSS3 For Absolute Beginners"
          ],
          [
           "Build Real World Websites from Scratch using HTML5 and CSS3"
          ],
          [
           "JavaScript for Beginners Welcome to learning JavaScript"
          ],
          [
           "Master WordPress Plugins: Shortcodes Ultimate - The Basics"
          ],
          [
           "JavaScript for Absolute Beginners"
          ],
          [
           "Get to know HTML Learn HTML Basics"
          ],
          [
           "Code a personal splash page in 1 hour"
          ],
          [
           "Projects in PHP and MySQL"
          ],
          [
           "HTML CSS: Essential steps to learn HTML CSS"
          ],
          [
           "The Complete HTML5 & CSS3 Course Build Professional Websites"
          ],
          [
           "Core HTML How to get online quickly HTML to HTML5"
          ],
          [
           "HTML5 Essentials for Beginners"
          ],
          [
           "JavaScript Game Development: Create Your Own Breakout Game"
          ],
          [
           "JavaScript Basics Web Development Building Blocks"
          ],
          [
           "Learn Nodejs by building 12 projects"
          ],
          [
           "Building a Search Engine in PHP & MySQL"
          ],
          [
           "PHP: Ultimate guide to PHP for everyone"
          ],
          [
           "CSS Web Development Crash Course"
          ],
          [
           "HTML5 and CSS3 for beginners: Create a Website from Scratch"
          ],
          [
           "The Ultimate Web Development Course"
          ],
          [
           "Getting Started as a Web Developer"
          ],
          [
           "Beginning Web development Learn the basics of HTML"
          ],
          [
           "The Complete PHP Bootcamp Course With Video Sharing Project"
          ],
          [
           "Beginning Oracle WebLogic for Administrators"
          ],
          [
           "Dynamic JavaScript Master Class AJAX JSON Simple APIs"
          ],
          [
           "Build A Complete CRUD Application With PHP, MYSQL & JQUERY"
          ],
          [
           "HTML5 for beginners"
          ],
          [
           "JQuery Essentials core training for Dynamic Interactive web"
          ],
          [
           "Try Django 1.10 | Create a URL Shortening Service"
          ],
          [
           "Code your first Website using HTML & CSS: Project Learning"
          ],
          [
           "Web Site for Beginners - Learn Web Building like knitting"
          ],
          [
           "The Complete Wordpress Course - Build Your Own Website Today"
          ],
          [
           "Successful website creation - everything you need to know"
          ],
          [
           "Introductory JavaScript Made Easy Training Tutorial"
          ],
          [
           "Ruby on Rails: Training and Skills to Build Web Applications"
          ],
          [
           "Learn How To Build a Web Application Without Coding"
          ],
          [
           "Ultimate Web Developer Course Build 10 Websites from Scratch"
          ],
          [
           "The Essential Web Developer Course - Build 12 Websites"
          ],
          [
           "Learn and Earn with HTML & CSS"
          ],
          [
           "HTML CSS JavaScript: Most popular ways to code HTML CSS JS"
          ],
          [
           "Understanding TypeScript"
          ],
          [
           "Introduction to Laravel 4"
          ],
          [
           "Projects In JavaScript & JQuery"
          ],
          [
           "Web Design for Beginners: Real World Coding in HTML & CSS"
          ],
          [
           "Start Writing JavaScript Today - Beginner JavaScript Course"
          ],
          [
           "How to Create a Website Without Coding - WordPress 2016"
          ],
          [
           "How to Launch Your Own Website Builder Service"
          ],
          [
           "Building HTML5 Canvas projects from scratch"
          ],
          [
           "Webpack 2: The Complete Developer's Guide"
          ],
          [
           "Projects in HTML5"
          ],
          [
           "How to Set Up a Self-Hosted Wordpress Website in 30 Minutes"
          ],
          [
           "Serverless Workflow Management with AWS Step Functions"
          ],
          [
           "All about NodeJS"
          ],
          [
           "Discover HTML Essential guide to HTML how to create webpages"
          ],
          [
           "WordPress Plugins and Widgets"
          ],
          [
           "Learn Angular 4 from Scratch"
          ],
          [
           "React and Flux Web Development for Beginners"
          ],
          [
           "Learn jQuery by Example Course"
          ],
          [
           "Interaction Design Specialist For Web Developers"
          ],
          [
           "HTML for Beginners"
          ],
          [
           "JSON Faster Sleeker & Easier Discover the benefits learn it"
          ],
          [
           "PHP with Laravel for beginners - Become a Master in Laravel"
          ],
          [
           "How to easily Manage your WordPress Website"
          ],
          [
           "How to Install WordPress From Scratch"
          ],
          [
           "Introduction to HTML"
          ],
          [
           "Foundations of Front-End Web Development"
          ],
          [
           "PHP Graphic Techniques: CAPTCHA/ Create a verification code"
          ],
          [
           "The Docker for DevOps course: From development to production"
          ],
          [
           "PHP Essential How to create build Amazing websites with PHP"
          ],
          [
           "Sass: From Beginner to Advanced"
          ],
          [
           "Complete WooCommerce Plugin Tutorial For Wordpress 2017"
          ],
          [
           "REST WCF Service in ASP.NET"
          ],
          [
           "Build a website HTML5 CSS3 Beginner Course"
          ],
          [
           "AJAX Development"
          ],
          [
           "Complete Bootstrap 4 course - build 3 projects"
          ],
          [
           "How to Optimise Your WordPress Website's Speed & Security to Improve SEO & User Experience"
          ],
          [
           "The Complete Ethical Hacking Course 2.0: Python & Kali Linux"
          ],
          [
           "JavaScript Introduction to Object Oriented JavaScript"
          ],
          [
           "JavaScript for Beginning Web Developers"
          ],
          [
           "Learn How to Manage & Customize Web Sites By Drupal CMS"
          ],
          [
           "JavaScript in Action JavaScript Projects"
          ],
          [
           "HTML5 APIs For JavaScript - A Course For Web Developers"
          ],
          [
           "Learn Building Your Own Website Without Coding"
          ],
          [
           "Create A Custom Responsive WordPress Website For A Client"
          ],
          [
           "The Complete Web Development Course - Build 15 Projects"
          ],
          [
           "Complete Python Web Course: Build 8 Python Web Apps"
          ],
          [
           "SAP Crystal Reports with ASP.Net (Step by step)"
          ],
          [
           "Create Single Page Website using Twitter Bootstrap 3"
          ],
          [
           "Complete JavaScript Course for Beginners with Easy Examples"
          ],
          [
           "Master ECMAScript 2015 (ES6)"
          ],
          [
           "HTML Learning the Basics Intro to HTML website coding"
          ],
          [
           "Try Django 1.9 | Build a Blog and Learn Python's #1 Library"
          ],
          [
           "JavaScript DOM Dynamic Web interactive content Boot Camp"
          ],
          [
           "Getting Started with HTML"
          ],
          [
           "Crash Course: Fundamentals Of HTML & CSS From Scratch."
          ],
          [
           "Beginners Introduction to Web Development"
          ],
          [
           "A how to guide in HTML"
          ],
          [
           "HTML Introduction Course: Learn HTML in 2 hours!!!"
          ],
          [
           "Create a Dynamic User Registration Form from scratch"
          ],
          [
           "Code & Grow Rich: Earn More As An Entrepreneur Or Developer"
          ],
          [
           "Node Package Manager Course: Build and Publish NPM Modules"
          ],
          [
           "Learn How To Build A Professional Web Site By Using Joomla"
          ],
          [
           "Complete JQuery And JQuery UI Course For Beginner"
          ],
          [
           "Projects in AngularJS - Learn by building 10 Projects"
          ],
          [
           "Create a Powerful Website with the Cool Bootstrap Framework"
          ],
          [
           "Kids Coding - Beginners CSS"
          ],
          [
           "JavaScript HTML CSS Project make a Quiz Tutorial"
          ],
          [
           "Become a Heroku Rails Ninja: Expert Level Deployment Tools"
          ],
          [
           "Learn How To Become a Web Developer From Scratch"
          ],
          [
           "React JS - Mastering Redux"
          ],
          [
           "Beginner API development in Node, Express, ES6, & MongoDB"
          ],
          [
           "How To Build And Make A Wordpress Website From Scratch 2017"
          ],
          [
           "How to Create a Wordpress Website from Scratch - No Coding"
          ],
          [
           "How To Build A Website From Scratch + Blogging Blueprint"
          ],
          [
           "Learn jQuery: An In-depth Course For Beginners"
          ],
          [
           "React vs Angular vs Vue.js by Example"
          ],
          [
           "How To Setup a Micro-Blog in 3 Easy Steps"
          ],
          [
           "Getting Started with Angular 2+"
          ],
          [
           "The Advanced Web Developer Course"
          ],
          [
           "How To Make A Modern Wordpress BLOG 2017! Create Your Blog!"
          ],
          [
           "Become a Professional Web Developer | Version 3.0"
          ],
          [
           "Comprehensive JavaScript Programming"
          ],
          [
           "Become a Kick-Ass Web Developer: From Newbie to Pro"
          ],
          [
           "Introduction to Voice Design with Amazon's Alexa"
          ],
          [
           "A-Frame WebVR Programming Tutorial Series (Virtual Reality)"
          ],
          [
           "The Complete jQuery Course: From Beginner To Advanced!"
          ],
          [
           "Kids Coding - Beginner HTML"
          ],
          [
           "Advanced Javascript"
          ],
          [
           "Object Oriented Programming (OOP) in PHP - Build An OOP Site"
          ],
          [
           "Build A Weather App With Ajax Using Open Weather Map API"
          ],
          [
           "Meteor and React for Realtime Apps"
          ],
          [
           "Learn To Create Different Website Layouts & Media Queries"
          ],
          [
           "Complete PHP and MySql Course: From Beginner to Professional"
          ],
          [
           "PHP OOP: Object Oriented Programming for beginners + Project"
          ],
          [
           "WordPress in under an hour - Create/manage your own website!"
          ],
          [
           "Dive Into Docker: The Docker Course for Developers"
          ],
          [
           "The Complete jQuery Course - From Beginner to Professional!"
          ],
          [
           "How to Make a Website Without Coding- WordPress & Web Skills"
          ],
          [
           "GraphQL with React: The Complete Developers Guide"
          ],
          [
           "Wordpress Beginner Tutorial: Build Your First Website"
          ],
          [
           "CSS Image filters - The modern web images color manipulation"
          ],
          [
           "jQuery For Beginners : A Basic Introduction"
          ],
          [
           "Step-by-step HTML and CSS for Absolute Beginners"
          ],
          [
           "Python for Beginners: Python Programming Language | Tutorial"
          ],
          [
           "Full Stack JavaScript: Learn Backbone.js, Node.js & MongoDB"
          ],
          [
           "Javascript from Beginner to Advanced Level"
          ],
          [
           "Installing Wordpress 4 - Installation, Registrars & Hosting"
          ],
          [
           "Build Enterprise Applications with Angular 2 (and Angular 4)"
          ],
          [
           "Complete ASP NET MVC Web Development - Newbie to Ninja!"
          ],
          [
           "Intro To HTML & CSS: Web Development For Beginners"
          ],
          [
           "JavaScript project Learn to create a memory Game and more"
          ],
          [
           "8 Beautiful Ruby on Rails Apps in 30 Days & TDD - Immersive"
          ],
          [
           "Introduction to Web Development"
          ],
          [
           "Accelerated ES6 JavaScript Training"
          ],
          [
           "Git a Web Developer Job: Mastering the Modern Workflow"
          ],
          [
           "Be a Bootstrap Developer from scratch"
          ],
          [
           "Introduction to Bootstrap 3"
          ],
          [
           "Explore JavaScript Beginners Guide to Coding JavaScript"
          ],
          [
           "Responsive PHP Registration Form: From Scratch"
          ],
          [
           "Learn HTML, A practical guide from scratch to HTML 5"
          ],
          [
           "PHP User Login Registration Script With All Features"
          ],
          [
           "Interactive Dynamic JavaScript for beginners DOM"
          ],
          [
           "PHP & MySQL - Learn The Easy Way. Master PHP & MySQL Quickly"
          ],
          [
           "Bootstrap 3 -> Profitable WordPress Theme Development!"
          ],
          [
           "Learn Bootstrap 4 by Example"
          ],
          [
           "Web Hosting Introduction: How to Publish Your Website Online"
          ],
          [
           "JavaScript Basics for Beginners Introduction to coding"
          ],
          [
           "JavaScript from Beginner to Expert"
          ],
          [
           "1 hour jQuery"
          ],
          [
           "WP Plugin Development - Build your own plugin!"
          ],
          [
           "Create a Professional Website Without Programming/Coding"
          ],
          [
           "Learn WCF And Web APIs From Scratch"
          ],
          [
           "Angular Tutorial For Beginners"
          ],
          [
           "Start Your Own Forum Website in 15 Minutes"
          ],
          [
           "Learn PHP Programming for Absolute Beginners"
          ],
          [
           "Learn HTML in 2 hours!"
          ],
          [
           "The Complete DevOps Engineer Course 2.0 - Java & Kubernetes"
          ],
          [
           "Build a Real-world App with ASP.NET Core and Angular 2 (4+)"
          ],
          [
           "Inspirational Web Development - A Beginner Approach -"
          ],
          [
           "Learn how to convert PSD to HTML and CSS responsive"
          ],
          [
           "Learn Jquery from Scratch 2-Hour Training"
          ],
          [
           "Learn to Create Responsive Layouts in 30 Minutes"
          ],
          [
           "The Complete Elixir and Phoenix Bootcamp"
          ],
          [
           "Building a Portfolio in 90 minutes ( HTML, CSS, Js )"
          ],
          [
           "Web Design How to Create a Website HTML CSS Bootstrap"
          ],
          [
           "Django Tutorial: Build Your First App Fast & Free!"
          ],
          [
           "Angular 2 & TypeScript Beginner Web Development"
          ],
          [
           "Wordpress Website Mastery 2017"
          ],
          [
           "Spring Framework 4 (Java Enterprise JEE) with AngularJS"
          ],
          [
           "REST APIs with Flask and Python"
          ],
          [
           "Learn Angular 2 Development By Building 12 Apps"
          ],
          [
           "Wordpress For Beginners: Create a Professional Website"
          ],
          [
           "Build a Responsive Website with HTML5, CSS3 and Bootstrap 4"
          ],
          [
           "PHP for Beginners: How to Build an E-Commerce Store"
          ],
          [
           "How To Create Your Very First Website With HTML and CSS"
          ],
          [
           "Javascript for Beginners Learn by Doing Practical Exercises"
          ],
          [
           "Responsive Web Design: Made Easy"
          ],
          [
           "Introduction to Coding with Ruby"
          ],
          [
           "Build a Website in 30 Minutes"
          ],
          [
           "Create Jekyll blog and host it on Github like a Ninja"
          ],
          [
           "Rock Solid Wordpress Security - Secure Web Development"
          ],
          [
           "React VR - Creating Virtual Reality Apps"
          ],
          [
           "Bootstrap 4: Exploring New Features"
          ],
          [
           "Simple And Easy: Wordpress For Beginners"
          ],
          [
           "Learn HTML Basics From Scratch"
          ],
          [
           "Backbone Tutorial: Learn Backbonejs from Scratch"
          ],
          [
           "Laravel Deployment - Launch your Laravel Application Online"
          ],
          [
           "HTML CSS Learn to create a website from scratch"
          ],
          [
           "Web Development w/ Google’s Go (golang) Programming Language"
          ],
          [
           "Create Your First Wordpress Site in Under an Hour"
          ],
          [
           "HTML Web Development Crash Course"
          ],
          [
           "Learn and Understand React"
          ],
          [
           "Ruby on Rails for Complete Beginners"
          ],
          [
           "Building a Ruby on Rails Application with Neo4j"
          ],
          [
           "The complete JavaScript developer: MEAN stack zero-to-hero"
          ],
          [
           "Css Positioning For Absolute Beginners: A Basic Introduction"
          ],
          [
           "Javascript ES6! A Complete Reference Guide to Javascript ES6"
          ],
          [
           "Bootstrap Basics: Program Responsive Websites"
          ],
          [
           "Customizr - Learn WordPress with the ultimate creative theme"
          ],
          [
           "Learn How to Create Your Own Social Network"
          ],
          [
           "Accelerated JavaScript Training"
          ],
          [
           "Complete Login and Registration System in PHP and MYSQL"
          ],
          [
           "Complete AJAX Using Bootstrap, PHP From Basic To Advanced."
          ],
          [
           "Projects in CSS"
          ],
          [
           "Angular JS Essentials"
          ],
          [
           "How to Build Your Own Website with WordPress: A Step-by-Step Guide"
          ],
          [
           "Flask Tutorial Step by Step"
          ],
          [
           "Projects in MongoDB - Learn MongoDB Building Projects"
          ],
          [
           "Creating FaceBook Design Using Bootstrap - Handson Project"
          ],
          [
           "JavaScript for beginners with live examples"
          ],
          [
           "Devtools 2017: The Basics of Chrome Developer Tools"
          ],
          [
           "Hit the ground running with AngularJS with Dion Yang"
          ],
          [
           "Ultimate WordPress Plugin Course"
          ],
          [
           "Complete PHP Course with OOP Start to Finish!"
          ],
          [
           "Learn Bootstrap3 With Multi Purposes Single Page Layout"
          ],
          [
           "Laravel Blog Development Starter"
          ],
          [
           "Django + AngularJS for a Powerful Web Application"
          ],
          [
           "React.js Quickly: Developing Scalable Web User Interfaces"
          ],
          [
           "Power up HTML5 with JavaScript"
          ],
          [
           "HTML and CSS for Absolute Beginners"
          ],
          [
           "JavaScript Fundamentals"
          ],
          [
           "JQuery Create Overlay Popups from scratch using Jquery"
          ],
          [
           "Build CRUD Application - PHP & Mysql"
          ],
          [
           "Angular 4: From Theory to Practice & FREE E-Book"
          ],
          [
           "How To Create A WordPress Website Without Paying A Developer"
          ],
          [
           "How To Create a Local Wordpress Environment"
          ],
          [
           "Install WordPress on Computer using XAMPP"
          ],
          [
           "Effective Personal Website Building and Hosting"
          ],
          [
           "Python Programming: Create an Digital Marketplace in Django"
          ],
          [
           "Learn JavaScript from scratch"
          ],
          [
           "A 13 Hour SQL Server 2014 /ASP.NET/CSS/C#/jQuery Course"
          ],
          [
           "AJAX : Let's build a COOL project"
          ],
          [
           "Angular 2 Master Class with Alejandro Rangel"
          ],
          [
           "How To Create A Wordpress Website 2016 | NEW Divi Theme 3.0!"
          ],
          [
           "Angular Styling & Animations (for Angular 2 and Angular 4)"
          ],
          [
           "AngularJS Custom Directives with Dan Wahlin"
          ],
          [
           "Create and Deploy a Web App in 3 Hours"
          ],
          [
           "HTML and CSS Crash Course for Beginners"
          ],
          [
           "Mastering CSS 3.0 Selectors"
          ],
          [
           "Introductory To HTML and CSS"
          ],
          [
           "Web Development Masterclass - Complete Certificate Course"
          ],
          [
           "Create a Responsive Website with Bootstrap 3"
          ],
          [
           "Angular Masterclass"
          ],
          [
           "Intro to PHP Web Application Development with Symfony"
          ],
          [
           "Create Complete Sign up System using PHP, jQuery and Ajax"
          ],
          [
           "Basic HTML CSS and Web Design"
          ],
          [
           "JavaScript the Basics - JavaScript for Beginners"
          ],
          [
           "Build Professional WordPress Website"
          ],
          [
           "Learn HTML Fast and Easy!"
          ],
          [
           "Creating Animations using HTML5 Canvas"
          ],
          [
           "Become PHP Facebook Developer: Password-Less Authentication"
          ],
          [
           "The Bubble Course - Create Complete Web Apps without Coding"
          ],
          [
           "Mastering Basic CSS Selectors."
          ],
          [
           "Master JavaScript Programming, 3 Projects Included !!"
          ],
          [
           "Laravel(5.2) PHP Framework Jump Start for beginners"
          ],
          [
           "Become a HTML and CSS Developer - Build a Responsive Site"
          ],
          [
           "Complete HTML5 and CSS3 Course +1 Start to Finish Project"
          ],
          [
           "Laravel Homestead"
          ],
          [
           "Wordpress for Beginners - Build a Live Website from Scratch"
          ],
          [
           "Build Realtime Apps | React Js, Golang & RethinkDB"
          ],
          [
           "CSS3 for beginners"
          ],
          [
           "WordPress local server setup and site migration online"
          ],
          [
           "How to Start a WordPress Blog - Complete Beginners Guide!"
          ],
          [
           "How To Create A Real Estate Website With Wordpress 2017"
          ],
          [
           "WordPress Plugin Development for 2017 - Build 14 Plugins"
          ],
          [
           "Angular Material - Quickstart"
          ],
          [
           "How To Make A Business Website In 1 Day With Wix FAST & EASY"
          ],
          [
           "Learn CSS Transition and Animation"
          ],
          [
           "Learn XML Crash Course: Discover Essential XML Fundamentals"
          ],
          [
           "PHP MVC Framework CodeIgniter Tutorial for Beginners Project"
          ],
          [
           "Develop Your First App in an Hour"
          ],
          [
           "Javascript for Beginners"
          ],
          [
           "WordPress for Beginners - Tutorial - From Novice to Know-How"
          ],
          [
           "Build Your Own Calculator App with Javascript, HTML5 & CSS"
          ],
          [
           "Chrome Extensions : Develop 5 chrome extensions from scratch"
          ],
          [
           "How to create HTML Forms"
          ],
          [
           "VueJS V1 Introduction to VueJS JavaScript Framework"
          ],
          [
           "Learn JSON with JavaScript Objects and APIs in 1 hour"
          ],
          [
           "Web Design HTML CSS How to Create a Website from Scratch"
          ],
          [
           "The Complete Guide to JavaScript Development"
          ],
          [
           "Build and Deploy a LAMP server on AWS"
          ],
          [
           "JQuery Basics - Learn JQuery From Scratch"
          ],
          [
           "How To Make A Wordpress Website 2017 | Divi Theme Tutorial"
          ],
          [
           "Email Marketing: Send Unlimited Emails via Own Mail Server"
          ],
          [
           "Create an eCommerce Wordpress Website 2016 - New Divi Theme!"
          ],
          [
           "How To Make an eCommerce Website With Wordpress 2017"
          ],
          [
           "A Complete Laravel basics from beginner to expert"
          ],
          [
           "Learn Ruby Programming The Easy Way"
          ],
          [
           "The complete HTML5 course"
          ],
          [
           "All in one HTML CSS and JQuery"
          ],
          [
           "Professional Python Web Development Using Flask"
          ],
          [
           "Complete WordPress Theme Developer Course With Bootstrap"
          ],
          [
           "Create a classified website in 2 hours - guaranteed"
          ],
          [
           "Ajax in JavaScript and JQuery, with PHP - Creating Chat App"
          ],
          [
           "Become a Certified Web Developer - Beginner to Expert"
          ],
          [
           "Building Websites Create a fully functional Web contact form"
          ],
          [
           "Quick learning jQuery web development"
          ],
          [
           "HTML Made Simple For Beginners: Create a One Page Website"
          ],
          [
           "Complete Website & CMS in PHP & MySQL From Scratch!"
          ],
          [
           "Angular 2 Routing: Up And Running"
          ],
          [
           "Up and Running with jQuery"
          ],
          [
           "JSON Crash Course for Beginners"
          ],
          [
           "Build a Real Time web app in node.js , Angular.js, mongoDB"
          ],
          [
           "Full-Stack Web Apps with Meteor and React"
          ],
          [
           "Bootstrap 3 Beginners: Create a Professional Landing Page"
          ],
          [
           "introduction to HTML Course"
          ],
          [
           "Coding Made Easy: HTML & CSS For Beginners"
          ],
          [
           "React From The Ground Up"
          ],
          [
           "In Depth Web Development Made Easy"
          ],
          [
           "ES6 / EcmaScript 6 for beginners an introduction"
          ],
          [
           "The Complete E-Commerce Web Developer Course 5.0"
          ],
          [
           "Learn JSON for beginners with JavaScript"
          ],
          [
           "Professional WordPress Theme Development For 2017"
          ],
          [
           "Professional Ruby on Rails Developer with Rails 5"
          ],
          [
           "Ethereum Developer: Build A Decentralised Blockchain App"
          ],
          [
           "Angular 2 Demystified"
          ],
          [
           "Ultimate JavaScript Strings"
          ],
          [
           "Scaling Docker on AWS"
          ],
          [
           "The Full Stack Web Development"
          ],
          [
           "Critical Web Dev Skills & Tools for the Non-Tech Hustler"
          ],
          [
           "WordPress For Beginners | No Coding Required"
          ],
          [
           "Bootstrap 4 Responsive Web Design and Development"
          ],
          [
           "Earn Big Profits With Web Development, Simple and Easy!"
          ],
          [
           "Create Website from scratch in Urdu & Hindi"
          ],
          [
           "Learn HTML5 At Your Own Pace. Ideal for Beginners"
          ],
          [
           "Expert Guide : Mastering Functions in JavaScript !"
          ],
          [
           "How to Create A Website: An HTML Tutorial and CSS Tutorial"
          ],
          [
           "AngularJS For ASP.NET MVC Developers"
          ],
          [
           "Learn HTML, CSS, and Ruby on Rails: Build Your First Blog"
          ],
          [
           "jQuery for Beginners - Create Website Animations Easily"
          ],
          [
           "Learn the basics of the Web development: Coding Tactics"
          ],
          [
           "Learn Ajax and jquery with PHP"
          ],
          [
           "Essential JavaScript, jQuery and AngularJS Training"
          ],
          [
           "Introduction to HTML5 Canvas basics of drawing"
          ],
          [
           "AngularJS Masterclass - Deep Dive & Understand AngularJS"
          ],
          [
           "Wordpress Security"
          ],
          [
           "Learn Ruby on Rails for Absolute Beginners"
          ],
          [
           "First Web Application with Spring Boot"
          ],
          [
           "Build Responsive Websites in an Hour using Portalfin"
          ],
          [
           "Hosting your static website on Amazon AWS S3 service"
          ],
          [
           "Create, Update and Manage Your Own Website Using Drupal 7"
          ],
          [
           "Create Your Own Successful Online School To Sell Courses"
          ],
          [
           "How to Build Chat Bots: From Beginner to Intermediate"
          ],
          [
           "Dissecting Ruby on Rails 5 - Become a Professional Developer"
          ],
          [
           "Basic Concepts of Web Development, HTTP and Java Servlets"
          ],
          [
           "JavaScript Design Patterns: 20 Patterns for Expert Code"
          ],
          [
           "Complete Codeigniter: From Beginner to Advanced"
          ],
          [
           "Learn MeteorJS By Building 10 Real World Projects"
          ],
          [
           "Automate Web Development With Gulp JS"
          ],
          [
           "Creating User Authentication System in CodeIgniter"
          ],
          [
           "How To Make A Wordpress Website 2017 - Divi Theme Tutorial"
          ],
          [
           "Web Programming Course : Asp.Net MVC"
          ],
          [
           "Node.js: The Essentials + API Frameworks Express KOA Sails"
          ],
          [
           "Become a Bootstrap Expert: Build 20 Layouts!"
          ],
          [
           "Simple Javascript: Learn by Doing, Beginners Welcome!"
          ],
          [
           "Learn PHP Programming for Absolute Beginners - Lite"
          ],
          [
           "Building An E-Commerce Store Using Java Spring Framework"
          ],
          [
           "Learn To Program JavaScript (in ten easy steps)"
          ],
          [
           "BDD with Ruby on Rails using RSpec 3 and Capybara"
          ],
          [
           "Social Network Web Development"
          ],
          [
           "HTML & CSS From Scratch in 30 Days"
          ],
          [
           "Beginner Full Stack Web Development: HTML, CSS, React & Node"
          ],
          [
           "Build Your Own Backend REST API using Django REST Framework"
          ],
          [
           "ASP.NET Web API 2 Hands-On"
          ],
          [
           "JavaScript Complete for beginners with real world Apps"
          ],
          [
           "WordPress Plugin Development -> Deep dive discovery!"
          ],
          [
           "The Complete Web Developer Course - Build 20 Websites"
          ],
          [
           "Optimizing Wordpress for More Speed and Revenue"
          ],
          [
           "Bootstrap Essential Training - Create Your Very Own Website"
          ],
          [
           "Master ExpressJS to Build Web Apps with NodeJS&JavaScript"
          ],
          [
           "Bootstrap 4 Theme Development Masterclass"
          ],
          [
           "Ultimate CSS3 Course - From Beginners To Professional"
          ],
          [
           "PHP for Beginners"
          ],
          [
           "PHP Login and Registration System - Email Confirm Activation"
          ],
          [
           "Electron for Desktop Apps: The Complete Developer's Guide"
          ],
          [
           "Web Development Tools the Pros Use: Code Productivity Hacks"
          ],
          [
           "Spring Boot Tutorial For Beginners"
          ],
          [
           "ChatBots: Messenger ChatBot with API.AI and Node.JS"
          ],
          [
           "Hosting Django: Amazon Web Services (AWS) Fundamentals"
          ],
          [
           "Learn JavaScript From Scratch:Become Top Rated Web Developer"
          ],
          [
           "Advanced Node.js Development"
          ],
          [
           "Learn JavaScript Dynamic Interactive Projects for Beginners"
          ],
          [
           "Learn jQuery AJAX in 1 hour"
          ],
          [
           "Intro to Git"
          ],
          [
           "Learn to Create Advance Responsive Websites With Bootstrap"
          ],
          [
           "Ruby On Rails For Web Development"
          ],
          [
           "Creating a Responsive HTML Email"
          ],
          [
           "PHP Tutorial: Learn PHP Basic Programming for Beginners"
          ],
          [
           "Core: A Web App Reference Guide for Django, Python, and More"
          ],
          [
           "AngularJS For .Net Developers From Scratch"
          ],
          [
           "HTML & CSS for beginners: Build 3 projects from scratch"
          ],
          [
           "HTML Forms For Beginners: A Basic Introduction"
          ],
          [
           "Learn Rails Programming in Less than 2 Hours"
          ],
          [
           "Create a Simple Photo Gallery with Dropzonejs, Slick and PHP"
          ],
          [
           "Learning CSS3 - A Comprehensive Tutorial For Web Developers"
          ],
          [
           "How to Make a Wordpress Website 2017"
          ],
          [
           "The Complete HMTL5 Course - Go From Beginner To Advanced!"
          ],
          [
           "Build your own Beautiful Blog in WordPress + SEO"
          ],
          [
           "Javascript Intermediate level 2 - Mastering Functions"
          ],
          [
           "The Pro Ruby on Rails Starter"
          ],
          [
           "Laravel 4 try and enjoy php coding"
          ],
          [
           "HTML Tutorials : HTML Code for Website Creating"
          ],
          [
           "The Ultimate Beginner's Guide to Django"
          ],
          [
           "Practical Web Development: Make Websites Quickly And Easily"
          ],
          [
           "Twitter Bootstrap 2 for Beginners"
          ],
          [
           "WordPress LMS: E-Learning Website Made Easy"
          ],
          [
           "WordPress Look and Feel with Themes"
          ],
          [
           "WordPress Domination #2: Leads & Scarcity"
          ],
          [
           "Learn HTML5 Canvas for beginners"
          ],
          [
           "Kids Coding -Introduction to HTML, CSS and JavaScript"
          ],
          [
           "HTML5 and CSS3 : Landing Pages for Entrepreneurs 2016"
          ],
          [
           "Learn to code, Become a Web Developer and Master JavaScript!"
          ],
          [
           "Bootstrap 3 Introduction : Create RESPONSIVE Websites Fast"
          ],
          [
           "Wordpress for Non-Technical People"
          ],
          [
           "Create eye-catching WordPress website from scratch"
          ],
          [
           "Install a Wordpress Theme the Correct Way & Charge Others"
          ],
          [
           "A Very Complete Introduction To Laravel"
          ],
          [
           "PHP MySQL: Learn PHP MySQL with Project"
          ],
          [
           "Wordpress Tutorial"
          ],
          [
           "Redirect Your Visitors By Country Easily -Wordpress Tutorial"
          ],
          [
           "Build Websites And Apps By Outsourcing"
          ],
          [
           "Bootstrap 4.0 New Features: Build Responsive Website"
          ],
          [
           "Build a Photo Blog with Ruby on Rails"
          ],
          [
           "React JS, Angular & Vue JS - Quickstart & Comparison"
          ],
          [
           "Learn To Create WordPress Themes By Building 10 Projects"
          ],
          [
           "WordPress Security - The Ultimate Security Guide"
          ],
          [
           "The Build a SAAS App with Flask Course"
          ],
          [
           "The Web Developers Guide: Learn HTML & CSS Fundamentals"
          ],
          [
           "Create a PHP Contact Form in Bootstrap"
          ],
          [
           "Build Incredible Chatbots"
          ],
          [
           "Better way towards CSS using Less and Sass"
          ],
          [
           "WordPress for Beginners 2017 + Google AdSense Implementation"
          ],
          [
           "JavaScript programming: JavaScript for beginners"
          ],
          [
           "How To Make A Web Page With No Code"
          ],
          [
           "Complete RESPONSIVE Website Design with HTML5 & CSS3"
          ],
          [
           "Advanced Prezi: Make Amazing Presentations"
          ],
          [
           "Create a Website Similar to Facebook from Scratch!"
          ],
          [
           "Canvas image Creator HTML5 JavaScript project from Scratch"
          ],
          [
           "Learn OAuth 2.0 - Get started as an API Security Expert"
          ],
          [
           "Step by Step Build Your Template by Bootstrap 4 from scratch"
          ],
          [
           "Build Modern Websites Super Fast"
          ],
          [
           "WordPress 2016 for Beginners : Build awesome websites!"
          ],
          [
           "Build an Amazon clone: Nodejs + MongoDB + Stripe Payment"
          ],
          [
           "Byte-Sized-Chunks: Cascading Style Sheets (CSS) with HTML"
          ],
          [
           "CoffeeScript: The Good Parts—Write Better javaScript"
          ],
          [
           "AWS Serverless APIs & Apps - A Complete Introduction"
          ],
          [
           "Modern Web Development with Laravel 5.2 (PHP Framework)"
          ],
          [
           "The WpFASTER WordPress Speed Optimization Master Course"
          ],
          [
           "Sublime Text for Rapid Web Development"
          ],
          [
           "Reactive JS: Are you ready for the next big paradigm shift?"
          ],
          [
           "Complete Web Development with HTML, CSS and Javascript"
          ],
          [
           "Jekyll: make fast, secure static sites and blogs with Jekyll"
          ],
          [
           "JavaScript for beginners in 1 hour"
          ],
          [
           "Unit Testing AngularJS: Build Bugfree Apps That Always Work!"
          ],
          [
           "Become a Rockstar Web Developer - Learn By Coding"
          ],
          [
           "WordPress Blog : Create a WordPress Website for Beginners"
          ],
          [
           "JavaScript Tutorial: Learn JavaScript Code for Beginners"
          ],
          [
           "PSD to HTML5/CSS3 using Twitter Bootstrap 3!"
          ],
          [
           "Javascript for beginners"
          ],
          [
           "Develop Competitive Plugins for WordPress and WooCommerce"
          ],
          [
           "JSON :basics for beginners"
          ],
          [
           "The CSS and CSS3 Crash Course"
          ],
          [
           "Twitter Integration customize Tweets with developer API"
          ],
          [
           "Practical Guide to Web Development"
          ],
          [
           "Learn Wordpress 4 from Scratch : Create Awesome Websites"
          ],
          [
           "Learn Drupal 8 - With a Live Project"
          ],
          [
           "HTML 5 and CSS 3 - tricks and workarounds"
          ],
          [
           "Mastering the Google Chrome Developer Tools"
          ],
          [
           "Build An Online Bank With Java, Angular 2, Spring and More"
          ],
          [
           "React: Learn ReactJS Fundamentals for Front-End Developers"
          ],
          [
           "Regular Expressions for Beginners - Universal"
          ],
          [
           "Angular 2 + Rails 5 Bootcamp"
          ],
          [
           "Angular and Firebase - Build a Web App with Typescript"
          ],
          [
           "Coding Made Easy: A Beginners Guide To JavaScript"
          ],
          [
           "Projects in ExpressJS - Learn ExpressJs building 10 projects"
          ],
          [
           "Learn ReactJS: Code Like A Facebook Developer"
          ],
          [
           "XML For Absolute Beginners: Learn to create your own tags"
          ],
          [
           "Drupal 8 Site Building"
          ],
          [
           "All You Need To Know About AngularJS - Training On AngularJS"
          ],
          [
           "How to become an App Developer"
          ],
          [
           "Learn to build 20 websites and build 14 iOS9 apps with swift"
          ],
          [
           "Master Regular Expressions from scratch - All languages"
          ],
          [
           "Learn PHP from scratch!!"
          ],
          [
           "RESTful API with Laravel"
          ],
          [
           "Build an HTML5 and CSS3 Website in 35 Minutes"
          ],
          [
           "Master Electron: Desktop Apps using HTML, JavaScript & CSS"
          ],
          [
           "Build Sign Up and Login Forms With Bootstrap Modal"
          ],
          [
           "Wordpress Site Migration"
          ],
          [
           "PHP Security"
          ],
          [
           "CSSCasts; CSS libraries Plugins Tips & Tricks for Developers"
          ],
          [
           "WordPress Academy: Learn WordPress step by step"
          ],
          [
           "Modern JavaScript: Building Real-World, Real-Time Apps"
          ],
          [
           "Ruby on Rails 5 - BDD, RSpec and Capybara"
          ],
          [
           "Web Hosting Fundamentals"
          ],
          [
           "Amazon Alexa Development: From Beginner to Intermediate"
          ],
          [
           "How to Create a Social Network For a Niche-Related Community"
          ],
          [
           "Learn Rails: Quickly Code, Style and Launch 4 Web Apps"
          ],
          [
           "Learn SASS and improve your CSS"
          ],
          [
           "The Complete JavaScript Bootcamp"
          ],
          [
           "Javascript Intermediate level 1 - Mastering the DOM"
          ],
          [
           "create a search engine for your website!"
          ],
          [
           "Server API Development in Swift, Kitura, & Bluemix"
          ],
          [
           "PHP For Beginners : Learn PHP From Scratch!"
          ],
          [
           "Learn how to use Javascript Components with PHP and Symfony"
          ],
          [
           "Mastering CSS"
          ],
          [
           "JQuery DOM and Ajax Concept Explained for Beginners"
          ],
          [
           "Amazon s3 Mastery - THE How-To' Guides For Amazon S3"
          ],
          [
           "Angular 4 Development Decoded"
          ],
          [
           "How To Build A Facebook Messenger Chat Bot From Scratch"
          ],
          [
           "WordPress : An Overview"
          ],
          [
           "Getting Started with LESS - Beginner Crash Course"
          ],
          [
           "Self Advertise Using PowerPoint Twitter and Facebook on ios"
          ],
          [
           "Introduction to Node.js Development"
          ],
          [
           "HTML and CSS BootCamp for Beginners"
          ],
          [
           "Wordpress - Create an Outstanding Website in 2 hours"
          ],
          [
           "jQuery for Absolute Beginners - Lite"
          ],
          [
           "Learning 200 jQuery Functions with 800 Examples"
          ],
          [
           "Introduction To Data Analytics Using Microsoft Power BI"
          ],
          [
           "Projects in Django and Python"
          ],
          [
           "Google Blogger : How to Create a Blog"
          ],
          [
           "JavaScript with BackboneJS and Bootstrap CSS - Advanced"
          ],
          [
           "Develop a Professional OnePage WordPress site With No Coding"
          ],
          [
           "Build a complete Fiverr clone with Node + Algolia + Paypal"
          ],
          [
           "Angular 2 From The Ground Up"
          ],
          [
           "Learn Ruby on Rails By Building Projects"
          ],
          [
           "Javascript Intermediate level 3 - JSON"
          ],
          [
           "Learn SASS: from beginner to expert"
          ],
          [
           "HTML5 and CSS for Beginner To Expert"
          ],
          [
           "Angular 2 Jump Start With Typescript"
          ],
          [
           "Learn By Example: The Foundations of HTML, CSS & Javascript"
          ],
          [
           "Learn PHP Object Oriented Features with Simple Examples"
          ],
          [
           "ReactJS and Flux: Learn By Building 10 Projects"
          ],
          [
           "Ultimate AngularJS: Build a Real-World App from Scratch"
          ],
          [
           "Build WordPress Plugin to extend Beaver Builder"
          ],
          [
           "The Ultimate Vue JS 2 Developers Course"
          ],
          [
           "JSON For Beginners: A Very Basic Introduction"
          ],
          [
           "Write PHP Like a Pro: Build a PHP MVC Framework From Scratch"
          ],
          [
           "Learn By Example: jQuery"
          ],
          [
           "WordPress for Beginners - Build Your First Website in 2017"
          ],
          [
           "WordPress Development Crash Course: From Zero To Hero"
          ],
          [
           "The Complete hapiJS Course - Go From Beginner To Advanced!"
          ],
          [
           "Become a Full Stack Developer with Spring, AWS and Stripe"
          ],
          [
           "Web Application Development - Learn by Building 3 Web Apps"
          ],
          [
           "Build A Web App With Spring Framework and Angular 2"
          ],
          [
           "HTML5 CSS3 JQUERY Single Page Website Project from Scratch"
          ],
          [
           "How to set up a Web Server From Scratch to One Fully Managed"
          ],
          [
           "Create a Responsive Business Website with WordPress"
          ],
          [
           "Using Modern JavaScript Today"
          ],
          [
           "Wordpress for beginners :Build Websites Fast without Coding"
          ],
          [
           "Learn HTML - The programming language to build a webpage!"
          ],
          [
           "WordPress Plugins Treasure Chest"
          ],
          [
           "PHP Date and Time Course by Edwin Diaz"
          ],
          [
           "Mastering Micro Services Using Java Spring Boot"
          ],
          [
           "Getting Started with NodeJS for Beginners"
          ],
          [
           "DesktopServer : Install WordPress Locally - Work Anywhere!"
          ],
          [
           "Learn PHP CodeIgniter Framework with AJAX and Bootstrap"
          ],
          [
           "One-stop Ruby on Rails: Build Web Applications from Scratch"
          ],
          [
           "Understand PHP Arrays and HTTP Request in a Better Way"
          ],
          [
           "PHP - Send and Receive Mobile Text Messages (SMS)"
          ],
          [
           "Spring Core DevOps on AWS"
          ],
          [
           "Create a business website with WordPress"
          ],
          [
           "JavaScript manipulation of the DOM Document Object Model"
          ],
          [
           "Getting Started with WordPress 2016"
          ],
          [
           "The Complete WordPress Development & Customization Course"
          ],
          [
           "PHP Development with the Laravel Framework"
          ],
          [
           "HTML and CSS for Beginning Web Developers"
          ],
          [
           "Learn Bootstrap And Make Responsive Websites"
          ],
          [
           "Start Web Development with GIS Map in JavaScript"
          ],
          [
           "Learn React : The World's Most Lucrative JavaScript Library"
          ],
          [
           "WordPress Plugin Tutorial"
          ],
          [
           "Introduction to Java Programming for Online Learners"
          ],
          [
           "Your Own Site in 45 Min: The Complete Wordpress Course"
          ],
          [
           "PHP :basics for beginners"
          ],
          [
           "Learn React JS from scratch"
          ],
          [
           "HTML and CSS: A Guide to Web Design"
          ],
          [
           "JavaScript, jQuery and Ajax"
          ],
          [
           "Essential HTML, CSS & HTML5 Training"
          ],
          [
           "HTML & CSS - Learn to build sleek websites"
          ],
          [
           "The Complete HTML5 and CSS3 Course - with 8 Websites Design"
          ],
          [
           "Create full featured Landing Page in Ruby on Rails in 3 hour"
          ],
          [
           "Learn PHP from Scratch"
          ],
          [
           "The Complete HTML5 and CSS3 Course"
          ],
          [
           "Web Security: Common Vulnerabilities And Their Mitigation"
          ],
          [
           "HTML and CSS Foundations"
          ],
          [
           "How to Register a Domain, Set Up Hosting, and Edit Web Pages"
          ],
          [
           "Mastering Modern Web Development Using React"
          ],
          [
           "GRUNT js: Automate web development tasks and save your time"
          ],
          [
           "Core Concepts in HTML 5"
          ],
          [
           "HTML5 Geolocation in Depth:Build 7 HTML5 Geolocation Apps"
          ],
          [
           "Ultimate JavaScript Objects"
          ],
          [
           "Projects with JSON and APIs"
          ],
          [
           "jQuery UI In Depth"
          ],
          [
           "Introduction to Elm"
          ],
          [
           "Ruby on Rails 4---A Test-Driven Approach"
          ],
          [
           "Responsive Html5 Theme Development"
          ],
          [
           "Learn By Example: Angular JS"
          ],
          [
           "PSD to Responsive HTML5: Beginner to Advanced"
          ],
          [
           "Learn by Example : ReactJS"
          ],
          [
           "Bootstrap Tutorial - Essentials From Basic to Advanced"
          ],
          [
           "Drupal for Beginners"
          ],
          [
           "Create a social network using PHP Mysqli HTML Css and JQuery"
          ],
          [
           "Learn Essential Javascript Fundamentals - Lite"
          ],
          [
           "Build Modern Responsive Website With HTML5, CSS3 & Bootstrap"
          ],
          [
           "Professional Rails Code Along"
          ],
          [
           "Learn animation using CSS3, Javascript and HTML5"
          ],
          [
           "Create an Engaging Website with Twitter Bootstrap 2.x"
          ],
          [
           "The Fastest Way to Create a Website Using Godaddy"
          ],
          [
           "PHP: Complete Login and Registration System with PHP & MYSQL"
          ],
          [
           "Install Wordpress"
          ],
          [
           "Easily Learn Web Development With Drop & Drag: OptimizePress"
          ],
          [
           "Learn By Example: PHP For Dynamic Websites"
          ],
          [
           "Fix Google's New 'Not Secure' Warning with Let's Encrypt!"
          ],
          [
           "Build Apps with ReactJS: The Complete Course"
          ],
          [
           "Learn ASP NET MVC 5 step by step"
          ],
          [
           "Learn Node.js by building Udemy: Stripe + MailChimp + Wistia"
          ],
          [
           "jQuery for Beginners"
          ],
          [
           "The Extreme Web Development Course - For Beginners"
          ],
          [
           "How to Safely Copy and Move Your WordPress Website"
          ],
          [
           "Getting started with JavaScript"
          ],
          [
           "HTML5 and CSS3 -Start building beautiful websites"
          ],
          [
           "JavaScript - Tricks and Workarounds"
          ],
          [
           "AngularJS for the Real World - Learn by creating a WebApp"
          ],
          [
           "Website Builder Software Previews"
          ],
          [
           "Learn to Code in HTML5, CSS3, and JavaScript"
          ],
          [
           "Angular NgRx Store Masterclass - Covers Angular 4"
          ],
          [
           "Create an E-commerce website without any coding"
          ],
          [
           "Web Development Essential Skills - Complete HTML and CSS"
          ],
          [
           "Complete guide to install Wordpress, PHP on Cloud,AWS or VPS"
          ],
          [
           "jQuery in Action: Build 8 jQuery Projects"
          ],
          [
           "HTML5 Specialist: Comprehensive HTML5 Training"
          ],
          [
           "Complete E-Commerce Course - Java,Spring,Hibernate and MySQL"
          ],
          [
           "Introduction to Node.js for Beginners"
          ],
          [
           "Web Development with BootStrap - 16 Instant Themes Included!"
          ],
          [
           "Learn ASP.Net Web API 2 for Absolute Beginner"
          ],
          [
           "Spring 4 Mastercourse: Covers Annotation & XML Configuration"
          ],
          [
           "JavaScript 2017: Become Top Rated Web Developer"
          ],
          [
           "Google Blogger Course"
          ],
          [
           "Learn Python Django - A Hands-On Course"
          ],
          [
           "Boost your website speed without any coding!"
          ],
          [
           "JSON in Action: Build JSON-Based Applications"
          ],
          [
           "Building Responsive Websites with Bootstrap 3 Framework"
          ],
          [
           "X theme for WordPress: Responsive web design without code!"
          ],
          [
           "Comprehensive TypeScript"
          ],
          [
           "JavaScript and jQuery Basics: Start The Journey"
          ],
          [
           "Learn Plugin Development in WordPress By Building Projects"
          ],
          [
           "Introduction to PHP Slim Microframework"
          ],
          [
           "Learn Express"
          ],
          [
           "Joomla 3 : Develop a Professional Website in 3 Simple Steps!"
          ],
          [
           "Learn Gulp, The Streaming Build System"
          ],
          [
           "PHP webservices"
          ],
          [
           "Star Rating Project AJAX with JSON response from PHP MySQL"
          ],
          [
           "RxJs & Reactive Programming Angular Masterclass - Angular 4"
          ],
          [
           "Advanced Scalable Python Web Development Using Flask"
          ],
          [
           "Learn BuddyPress: Build A Social Network with WordPress"
          ],
          [
           "JavaScript Complete Guide to learning JavaScript"
          ],
          [
           "Build A Professional Wordpress Website In An Hour"
          ],
          [
           "Byte-Sized-Chunks: Closures in Javascript"
          ],
          [
           "AngularJS for Beginners, Single-Page Applications Made Easy"
          ],
          [
           "Professional WordPress Theme Development from Scratch"
          ],
          [
           "Crash Course - Learn to Create a PHP MVC Framework"
          ],
          [
           "Build Advanced Responsive Websites with Foundation 6 & SASS"
          ],
          [
           "Learn Effective HTML in No Time!"
          ],
          [
           "Jquery :basics for beginners"
          ],
          [
           "JavaScript from Scratch for Very Beginners"
          ],
          [
           "Code a Responsive Website Using HTML5 and CSS for Beginners"
          ],
          [
           "Drupal Tutorial : Drupal 8 Beginner to Expert in 8 PROJECTS"
          ],
          [
           "Learning Bootstrap 3 - Tutorial From Infinite Skills"
          ],
          [
           "Ruby on Rails Tutorial: Learn 6 Ruby on Rails SEO Techniques"
          ],
          [
           "Drupal Views: Introduction to Enhancing Your Drupal Website"
          ],
          [
           "PHP with PDO - ULTIMATE Crash Course"
          ],
          [
           "AJAX :basics for beginners"
          ],
          [
           "AngularJs :basics for beginners"
          ],
          [
           "Learn to make an HTML 5 website with a video background"
          ],
          [
           "Learn Rails Programming in Less than 30 Minute - Lite"
          ],
          [
           "Typescript Masterclass & FREE E-Book"
          ],
          [
           "Learn to make a colorful one page website"
          ],
          [
           "PHP : Learn to upload files to Amazon S3 and use CloudFront"
          ],
          [
           "The Complete Wordpress Plugin Development Course - 8 Plugins"
          ],
          [
           "Pimcore Developer: Implement a Blog from a Bootstrap Theme"
          ],
          [
           "How to create a video blog with WordPress"
          ],
          [
           "CSS3 Gradients for Web Designers"
          ],
          [
           "JavaScript for beginners - A Complete Guide"
          ],
          [
           "Learn Ruby Programming The Easy Way - Lite"
          ],
          [
           "Bootstrap For Beginners: A Basic Introduction"
          ],
          [
           "WordPress Theme Academy with Bootstrap"
          ],
          [
           "Create Fast RESTful APIs with Lumen and Homestead by Laravel"
          ],
          [
           "Css For Beginners"
          ],
          [
           "Web Development With HTML CSS BOOTSTRAP JQUERY for Beginners"
          ],
          [
           "Learn HTML and CSS to make a Website"
          ],
          [
           "Big Data and Apache Hadoop for Developers - Fundamentals"
          ],
          [
           "Bootstrap :basics for beginners"
          ],
          [
           "Laravel Account Activation Project"
          ],
          [
           "SASS - Beginner Crash Course"
          ],
          [
           "Implementing a Data Warehouse with SQL Server 2012"
          ],
          [
           "Build Your Own Membership Website With Joomla"
          ],
          [
           "Parse Server: From Front End to Full Stack"
          ],
          [
           "React.js: Building Production Ready Apps, Start to Finish"
          ],
          [
           "Login and Registration from Scratch with PHP and MySQL"
          ],
          [
           "Build a Complete JQuery Plugin (Image Pop-up Dialog)"
          ],
          [
           "WordPress Basics to Business: Share and Sell your Expertise"
          ],
          [
           "PHP Zend Framework 1.11:Creating a CRUD Application"
          ],
          [
           "Full stack Universal React with Redux, Node js and MongoDB"
          ],
          [
           "Complete Guide to Front-End Web Development and Design"
          ],
          [
           "WordPress Tips and Tricks"
          ],
          [
           "Web Development: Make A Website That Will Sell For Thousands"
          ],
          [
           "Building a eCommerce Startup in 4 Hours [Livestream]"
          ],
          [
           "WordPress: Create an Amazing Website With Ease"
          ],
          [
           "Mastering Web and Mobile Debugging Using Chrome Dev Tools"
          ],
          [
           "The Ultimate jQuery Course"
          ],
          [
           "How to Build a CMS with PHP"
          ],
          [
           "Security for your WordPress site"
          ],
          [
           "Learn by Doing: Vue JS 2.0 the Right Way"
          ],
          [
           "Wordpress Essentials: Useful Plugins"
          ],
          [
           "CSS :basics for beginners"
          ],
          [
           "Supreme NodeJS Course - For Beginners"
          ],
          [
           "Build a Business or Personal Website Using Wordpress"
          ],
          [
           "Learn to make websites with Google's Material Design Lite"
          ],
          [
           "Mastering Magento"
          ],
          [
           "HTML5, CSS3 & Bootstrap - How to Create a Responsive Website"
          ],
          [
           "XML :basics for beginners"
          ],
          [
           "Create a Client Network by Hosting WordPress Sites"
          ],
          [
           "Javascript :basics for beginners"
          ],
          [
           "Build A Great Wordpress Website For Your Business in 2 Hours"
          ],
          [
           "Wordpress Theme Development for Beginners"
          ],
          [
           "Complete Wordpress Theme Development Course"
          ],
          [
           "CSS Tutorial For Beginners: Style Your Wordpress Templates"
          ],
          [
           "Mastering 'Native CSS Shapes To Build Modern Web Pages\""
          ],
          [
           "Learn jQuery from Scratch - Master of JavaScript library"
          ],
          [
           "Bootstrap Tutorial for Beginners"
          ],
          [
           "Web Building Starter Pack. Html Css and JQuery Animations"
          ],
          [
           "Sell Courses On Your Own Website - No Coding Required!"
          ],
          [
           "The Complete Web Developer Masterclass: Beginner To Advanced"
          ],
          [
           "Build Powerful Websites & Blogs using WordPress - No Coding"
          ],
          [
           "Mastering DevOps"
          ],
          [
           "Build Ajax Web Apps with Laravel 5.2, Bootstrap and jQuery"
          ],
          [
           "Python Web Programming"
          ],
          [
           "Introduction to Frontend Web Development For Beginners"
          ],
          [
           "ReactJS Course: Learn JavaScript Library Used by Facebook&IG"
          ],
          [
           "The Complete Wordpress Theme Development Guide"
          ],
          [
           "So you think you know JavaScript?"
          ],
          [
           "Learn Top Ten PHP FrameWorks By Building Projects"
          ],
          [
           "Learn Coding as RF or Telecom Engineer - Build Real Program"
          ],
          [
           "jQuery Essentials: Learn the Fundamental of jQuery"
          ],
          [
           "Learn W3.CSS"
          ],
          [
           "Create a REAL Social Network like Facebook in PHP + MySQL"
          ],
          [
           "The Ultimate WordPress Boot Camp: Build 7 Websites"
          ],
          [
           "Getting Started with Craft CMS"
          ],
          [
           "HTML : HTML Awesomeness"
          ],
          [
           "PSD to Bootstrap 3 for Beginners using HTML & CSS"
          ],
          [
           "Build a file hosting/sharing site in less than 2 hours"
          ],
          [
           "The Sass Course! Learn Sass for Real-World Websites"
          ],
          [
           "Web Scraping with Python, Ruby & import. io"
          ],
          [
           "Create WordPress Plugins"
          ],
          [
           "Scrape Websites using PhantomJS and CasperJS"
          ],
          [
           "Java Web Services Part 2"
          ],
          [
           "JavaScript Basics For Web Developers"
          ],
          [
           "Introduction to Modern Programming with PHP"
          ],
          [
           "Complete React JS web developer with ES6 - Build 10 projects"
          ],
          [
           "Angular 2 Complete E-Commerce App Course - Java,Spring,MySQL"
          ],
          [
           "Bootstrap 4 Beginners: Code a Responsive Landing Page"
          ],
          [
           "Learn to Freelance with People Per hour (URDU)"
          ],
          [
           "Projects In ReactJS - The Complete React Learning Course"
          ],
          [
           "Learn basics of HTML in 30 Minutes"
          ],
          [
           "XML DTD - Crash Course for Beginners"
          ],
          [
           "Mastering Thymeleaf with Spring"
          ],
          [
           "How to create awesome website and e-commerce in 1 hour"
          ],
          [
           "XQUERY :basics for beginners"
          ],
          [
           "Drupal 7 for Beginners"
          ],
          [
           "XML DOM :basics for beginners"
          ],
          [
           "Voiceover Audio Secrets - Your Way to Top Audio Quality"
          ],
          [
           "Build Modern Websites Quick With HTML,CSS and Bootstrap"
          ],
          [
           "Create Complete Web Applications easily with APEX 5"
          ],
          [
           "Redux in Angular (2 and 4+)"
          ],
          [
           "XML DTD :basics for beginners"
          ],
          [
           "Using MODX CMS to Build Websites: A Beginner's Guide"
          ],
          [
           "The Complete front end web developer Bootcamp - 14 projects"
          ],
          [
           "A Beginner's Guide to the Meteor JavaScript Framework"
          ],
          [
           "ASP NET CORE - ANGULAR 2 E-Commerce App"
          ],
          [
           "SharePoint 2013 Development using C# - Part I"
          ],
          [
           "Wordpress Development : Create a Custom Wordpress Website"
          ],
          [
           "Byte-Sized-Chunks: Dynamic Prototypes in Javascript"
          ],
          [
           "XPATH :basics for beginners"
          ],
          [
           "XSLT :basics for beginners"
          ],
          [
           "Building Responsive Data Visualizations with D3 JS"
          ],
          [
           "Kali Linux Web App Testing"
          ],
          [
           "Projects in Node.js - Learn by Example"
          ],
          [
           "Building a Social Network in PHP & MySQL From Scratch"
          ],
          [
           "Learn Symfony 3 framework by practical examples"
          ],
          [
           "SAP - Learn SAPUI5 Professional Development"
          ],
          [
           "Angular 4 - Concepts, Code and Collective Wisdom"
          ],
          [
           "PHP For WordPress Development"
          ],
          [
           "Thoughtful Web Development Course: HTML, Vue.js, PHP, MySQL"
          ],
          [
           "Learn to Build Web Apps using D3JS"
          ],
          [
           "Creating Interactive HTML5 Video"
          ],
          [
           "Superb jQuery Course - Become Certified jQuery Developer"
          ],
          [
           "WordPress Development - Themes, Plugins & Single Page Apps"
          ],
          [
           "Cakephp:Creating a CRUD application"
          ],
          [
           "PHP Zend Framework 2:Creating a CRUD Application"
          ],
          [
           "JSON with Java APIs, jQuery and JSON REST Web Services"
          ],
          [
           "Simplified Cross Browser Web Testing Using VirtualBox"
          ],
          [
           "The Complete Web Development Tutorial Using React and Redux"
          ],
          [
           "Learn Azure Cloud Step by Step"
          ],
          [
           "HTML FOR BEGINNERS"
          ],
          [
           "Writing CSS with {LESS} - Tutorial From Infinite Skills"
          ],
          [
           "JavaScript : JavaScript Awesomeness"
          ],
          [
           "HTML : Beginner Guide to HTML writing"
          ],
          [
           "Ultimate Css & JQuery Form Designing From Beginner to Expert"
          ],
          [
           "Build Your Startup with No Coding (Design, Develop & Ship)"
          ],
          [
           "Responsive Web Design with HTML5 and CSS3 - Introduction"
          ],
          [
           "AppML :basics for beginners"
          ],
          [
           "Docker for Developers - Newest Version 1.12 with Swarm Mode"
          ],
          [
           "ASP :basics for beginners"
          ],
          [
           "Ajax for Beginners: A Very Basic Introduction"
          ],
          [
           "XSD :basics for beginners"
          ],
          [
           "Learn to Build Web Apps using Laravel Framework"
          ],
          [
           "How to manage your own VPS and create websites"
          ],
          [
           "The Complete HTML and CSS Course For Beginners"
          ],
          [
           "Zend Framework 2: Learn the PHP framework ZF2 from scratch"
          ],
          [
           "Single Page Application of MVC 5 Using AngularJS"
          ],
          [
           "Tumult Hype Pro Basics: HTML5 Animations Made Easier"
          ],
          [
           "RESTful Services with ASP.NET Web API"
          ],
          [
           "Up and Running with Phalcon"
          ],
          [
           "Building Web Applications with Spring MVC"
          ],
          [
           "JavaScript For Absolute Beginners - Level One"
          ],
          [
           "JavaScript - Become Higly Paid Front End Developer"
          ],
          [
           "Master EmberJS : Learn Ember JS From Scratch"
          ],
          [
           "Angular 2 - Superheroic Framework"
          ],
          [
           "Mastering JavaScript"
          ],
          [
           "Building a Website With Jekyll"
          ],
          [
           "Professional Web Scraping with Java"
          ],
          [
           "Laravel, the complete guide with real world projects"
          ],
          [
           "Basic JavaScript: Build 4 Basic JavaScript Projects"
          ],
          [
           "Querying Microsoft SQL Server 2012 - (Exam No. 70-461)"
          ],
          [
           "React for visual learners"
          ],
          [
           "RESTful API with Laravel 5.4: Definitive Guide"
          ],
          [
           "Building a ASP.NET MVC 5 Membership Website"
          ],
          [
           "Perfect React JS Course - Understand Relevant Details"
          ],
          [
           "Angularjs-WebApi2-EFCodeFirst Web App On 3-Tier Architecture"
          ],
          [
           "JavaScript Promises: Applications in ES6 and AngularJS"
          ],
          [
           "Supercharging Development With Atom Text Editor"
          ],
          [
           "Projects in Foundation Framework - Learn By Building 10 Apps"
          ],
          [
           "Shopping Cart Website from Scratch Ecommerce"
          ],
          [
           "Learn Knockout JS Framework from GroundUp"
          ],
          [
           "Learning Axure RP"
          ],
          [
           "HTML5, CSS3 And JavaScript Fundamentals 2016"
          ],
          [
           "Build Web Apps Using EmberJS: The Complete Course"
          ],
          [
           "Master ASP . NET 4 from scratch"
          ],
          [
           "JavaScript Tutorial"
          ],
          [
           "Getting Started with Magento"
          ],
          [
           "Learn Laravel: Create Your Web App Step-By-Step"
          ],
          [
           "ASP.NET C# - Enterprise Web Systems From Novice to Expert"
          ],
          [
           "Vue JS 2: From Beginner to Professional"
          ],
          [
           "Cross-Platform Development with ASP.NET Core 1.0 MVC"
          ],
          [
           "PHP CodeIgniter:CRUD concepts in MVC"
          ],
          [
           "Master Angular 4 by Example - Build 7 Awesome Apps!"
          ],
          [
           "Create Newsletter Subscription Form with PHP/AJAX in 40 Min"
          ],
          [
           "Administering Microsoft SQL Server 2012 Databases - 70-462"
          ],
          [
           "Learning Docker and Kubernetes by Lab"
          ],
          [
           "Joomla for Beginners - Learn how to build a website with CMS"
          ],
          [
           "Advance Unix : File Processing: AWK | SED | GREP | CUT | VIM"
          ],
          [
           "Professional RESTful API Design using Python Flask"
          ],
          [
           "How to create Paypal and Credit card Payment Buttons"
          ],
          [
           "Learning Drupal 8"
          ],
          [
           "Lerning PHP by building website"
          ],
          [
           "HTML and HTML5 For Beginners 2016"
          ],
          [
           "Learn Laravel PHP Framework Building Multi User SEO Blog APP"
          ],
          [
           "Create a Membership Site with Wishlist Member & Wordpress"
          ],
          [
           "Building Better APIs with GraphQL"
          ],
          [
           "Learn Redis from Scratch"
          ],
          [
           "Master the Art of Web Design with HTML & CSS"
          ],
          [
           "ASP.NET MVC 5 Project - CMS and Shopping Cart with Paypal"
          ],
          [
           "3D Programming with WebGL and Babylon.js for Beginners"
          ],
          [
           "Learn OAuth 2.0 - Theory and Hands On"
          ],
          [
           "Create Ajax Chat App with PHP & Mysql"
          ],
          [
           "Convert HTML Websites into PHP: Learn by Doing in 40 Minutes"
          ],
          [
           "The All-In-One Web Development Course"
          ],
          [
           "Django For Beginners"
          ],
          [
           "Learning Object-Oriented JavaScript"
          ],
          [
           "Java Spring Security"
          ],
          [
           "Learn Spring Framework Practically - Hands On Recipies"
          ],
          [
           "Learn and Build using Polymer"
          ],
          [
           "PHP Laravel 5:Creating a CRUD application"
          ],
          [
           "Modern Web Development with SASS, Gulp, NPM & Web Workflows"
          ],
          [
           "Learn Grunt with Examples: Automate Your Front End Workflow"
          ],
          [
           "Mastering Meteor: Reactive Full Stack JavaScript"
          ],
          [
           "CSS Specialist: Comprehensive CSS Training"
          ],
          [
           "Build a Single Page Application with jQuery & AJAX"
          ],
          [
           "Build an Advanced Single Page with Bootstrap & WordPress"
          ],
          [
           "Wordpress Backup & Restore"
          ],
          [
           "Become A Full Stack Web Developer in 14 Days"
          ],
          [
           "Symfony 3: Build a PHP Application with Symfony"
          ],
          [
           "Mastering AngularJS UI Development"
          ],
          [
           "Codeless Website Development with Adobe Muse"
          ],
          [
           "JavaScript High Performance"
          ],
          [
           "Advance Unix : File Processing: AWK | GREP | VIM"
          ],
          [
           "Angular 2 Fundamentals for Web Developers"
          ],
          [
           "Learn Web Development by Creating a Social Network"
          ],
          [
           "Build A Stock Downloader With Visual Studio 2015 And C#"
          ],
          [
           "Learn To Build Apps Using Play Framework"
          ],
          [
           "Devtools 2017: Beginner to Expert w/ Chrome Developer Tools"
          ],
          [
           "XML XSLT - Crash Course for Beginners"
          ],
          [
           "XML XQuery - Crash Course for Beginners"
          ],
          [
           "JavaScript For Absolute Beginners - Level Two"
          ],
          [
           "Master Typescript : Learn Typescript from scratch"
          ],
          [
           "jQuery UI Ultimate:Design Amazing Interfaces Using jQuery UI"
          ],
          [
           "Create a MEAN App by Example - Full Stack Course"
          ],
          [
           "Mastering ASP.NET MVC 5 From Scratch Using C#"
          ],
          [
           "Master WCF 4.0 From Scratch Using C#"
          ],
          [
           "Javascript Specialist"
          ],
          [
           "Sara Learns to Code. Making an App from Scratch"
          ],
          [
           "Professional CSS Flexbox"
          ],
          [
           "XML DOM - Crash Course for Beginners"
          ],
          [
           "Learn Facebook Flux Architecture for Web Applications"
          ],
          [
           "JavaScript from Beginner to Advanced"
          ],
          [
           "Introducing Ionic 2"
          ],
          [
           "Build Wordpress CMS Clone with Laravel 5"
          ],
          [
           "ASP.NET Core MVC, Quick and Practical"
          ],
          [
           "Build A YouTube Downloader With C# And GitHub"
          ],
          [
           "jQuery UI in Action: Build 5 jQuery UI Projects"
          ],
          [
           "Let's JavaScript! Code a calculator"
          ],
          [
           "Sending email with PHP: from Basic to Advanced"
          ],
          [
           "Master all PHP ideas 2017 to build any project"
          ],
          [
           "Laravel : CRUD Application Using AJAX In Laravel 5.3"
          ],
          [
           "Ready for Production with Spring Boot Actuator"
          ],
          [
           "Ruby on Rails Foundations"
          ],
          [
           "Mastering Unix : AWK Commands"
          ],
          [
           "Mastering TypeScript"
          ],
          [
           "HTML5 and CSS3: Learn Web Design with HTML + CSS + Bootstrap"
          ],
          [
           "Build Websites from Scratch with Squarespace"
          ],
          [
           "Advance JavaScript for Coders: Learn OOP in JavaScript"
          ],
          [
           "The Most Comprehensive Web Development Course"
          ],
          [
           "Learn HTML in 59 Minutes - Your intro to front-end dev"
          ],
          [
           "17 Complete JavaScript projects explained step by step"
          ],
          [
           "Learn to Build Web Apps using UnderscoreJS : Code Like a Pro"
          ],
          [
           "Build a Complete Registration and Login System using PHP MVC"
          ],
          [
           "Create free, fast and secure static website"
          ],
          [
           "Fundamentals of Angular 2 Full Stack Design"
          ],
          [
           "How To Design A WordPress Website With No Coding At All"
          ],
          [
           "WordPress Theme Customization 101 (for beginners)"
          ],
          [
           "Learn Authentication With ASP.NET Identity Security 2017"
          ],
          [
           "Advanced WordPress Topics: Post Types Taxonomies & Metaboxes"
          ],
          [
           "Web Application Development using Redis, Express, and Socket"
          ],
          [
           "CSS Animations: Create Amazing Effects on Your Website"
          ],
          [
           "Master Riot: Learn Riot.js from Scratch"
          ],
          [
           "Custom Theme Creation for WordPress using HTML5 and CSS3"
          ],
          [
           "Building Data Visualizations with D3 and Angular 2"
          ],
          [
           "WordPress Development With NodeJS, Gulp, Composer & More"
          ],
          [
           "Learn Bootstrap 4 The Most Popular HTML5 CSS3 & JS Framework"
          ],
          [
           "Learn Laravel with Database Migration & Seeding & Faker"
          ],
          [
           "Popular JavaScript Framework:Learn The Language Of Angular 2"
          ],
          [
           "How to Build an Autocomplete System Like Google"
          ],
          [
           "Bootstrap Bootcamp - Responsive web development- 8 projects"
          ],
          [
           "Webpack 1 & 2 - The Complete Guide"
          ],
          [
           "Build A Web App with VueJS, Spring Framework and MongoDB"
          ],
          [
           "Wordpress on AWS: The Easy way to AWS for Free Fast hosting"
          ],
          [
           "The Complete JavaScript, HTML and CSS Tutorial For Beginners"
          ],
          [
           "Modern E-Commerce Store In php & mysqli With Bootstrap"
          ],
          [
           "HTTP Clients with Laravel: Use and Consume Services and APIs"
          ],
          [
           "The Complete TypeScript Programming Guide for Web Developers"
          ],
          [
           "Angular Advanced MasterClass & FREE E-Book"
          ],
          [
           "Learn Spring Security 4 Intermediate - Hands On"
          ],
          [
           "Build Complex Express Sites with Redis and Socket IO"
          ],
          [
           "Web Development With Google Maps"
          ],
          [
           "Learn Spring Security 4 Basics - Hands On"
          ],
          [
           "Rails Ecommerce App with HTML Template from Themeforest"
          ],
          [
           "ASP.NET MVC 5 Project - Facebook Clone"
          ],
          [
           "Creating Custom Web Maps"
          ],
          [
           "Learn Reactivex From Ground Up"
          ],
          [
           "Introduction to web programming for GIS applications"
          ],
          [
           "Learn Web Animation the Easy Way: An Intro to SVG and GSAP"
          ],
          [
           "Introduction to QGIS Python Programming"
          ],
          [
           "PHP Specialist (2017 Edition)"
          ],
          [
           "HTML/CSS Bootcamp"
          ],
          [
           "Flexbox: The complete guide"
          ],
          [
           "How to Build WordPress Themes: A Web Designer's Guide"
          ],
          [
           "For Free - Deploy Quickly Spring Boot on Heroku With MySQL"
          ],
          [
           "Django by Example"
          ],
          [
           "Building Web Apps Using Flask and Neo4j"
          ],
          [
           "Build a Chatbot integrated Website using Bootstrap 4"
          ],
          [
           "Learning Path: Magento: Master and Test Magento 2 with Ease"
          ],
          [
           "Object Orientation in PHP"
          ],
          [
           "What’s New in Bootstrap 4"
          ],
          [
           "The Ultimate Guide to the Best WordPress Plugins Part 1"
          ],
          [
           "Projects in Laravel: Learn Laravel Building 10 Projects"
          ],
          [
           "Learn To Build A Google Map App Using Angular 2"
          ],
          [
           "HTML5 And CSS3 - Build Modern Responsive Websites"
          ],
          [
           "WordPress Development - Themes and Plugins Complete Guide"
          ],
          [
           "Master Angular 2 - The No Nonsense Course"
          ],
          [
           "Learning Path: React: Make Stunning React Websites"
          ],
          [
           "Learning Path: Akka: Building Applications and Microservices"
          ],
          [
           "Adobe Experience Manager CMS Basics"
          ],
          [
           "Node:js : Building Rest Apis with Sails.js"
          ],
          [
           "Set up a localhost Web Server for Faster Website Development"
          ],
          [
           "Learning Path: The Road to Elasticsearch"
          ],
          [
           "Angular 4 Front To Back"
          ],
          [
           "Essentials of Spring 5.0 for Developers"
          ],
          [
           "Display and analyze GIS data on the web with Leaflet.js"
          ],
          [
           "Learning Path: Web Applications with Spring and Angular"
          ]
         ],
         "hovertemplate": "num_subscribers=%{x}<br>price=%{marker.color}<br>rating=%{marker.size}<br>course_title=%{customdata[0]}<extra></extra>",
         "legendgroup": "",
         "marker": {
          "color": [
           0,
           0,
           200,
           0,
           200,
           0,
           30,
           0,
           175,
           190,
           0,
           0,
           0,
           120,
           0,
           0,
           175,
           195,
           195,
           195,
           145,
           180,
           0,
           50,
           0,
           195,
           75,
           0,
           150,
           195,
           0,
           50,
           200,
           195,
           195,
           0,
           195,
           20,
           0,
           0,
           195,
           200,
           195,
           80,
           195,
           20,
           0,
           100,
           0,
           20,
           20,
           195,
           195,
           200,
           150,
           20,
           0,
           95,
           195,
           200,
           95,
           75,
           100,
           140,
           200,
           0,
           0,
           75,
           0,
           0,
           0,
           0,
           190,
           0,
           0,
           30,
           50,
           20,
           0,
           100,
           200,
           20,
           150,
           195,
           75,
           195,
           120,
           70,
           190,
           20,
           0,
           100,
           150,
           50,
           200,
           50,
           60,
           75,
           75,
           0,
           20,
           100,
           195,
           200,
           200,
           40,
           0,
           0,
           0,
           200,
           35,
           0,
           75,
           0,
           135,
           200,
           60,
           150,
           20,
           100,
           75,
           120,
           190,
           40,
           0,
           20,
           75,
           150,
           80,
           0,
           80,
           150,
           100,
           0,
           0,
           0,
           0,
           80,
           0,
           65,
           0,
           75,
           75,
           200,
           150,
           175,
           20,
           75,
           0,
           20,
           195,
           120,
           0,
           50,
           0,
           0,
           35,
           195,
           195,
           100,
           50,
           200,
           0,
           0,
           0,
           100,
           200,
           20,
           0,
           200,
           50,
           55,
           195,
           195,
           50,
           95,
           95,
           20,
           20,
           0,
           0,
           0,
           200,
           150,
           0,
           75,
           195,
           50,
           0,
           20,
           200,
           20,
           60,
           145,
           195,
           90,
           20,
           0,
           95,
           50,
           0,
           115,
           20,
           200,
           50,
           0,
           95,
           195,
           0,
           200,
           20,
           195,
           100,
           50,
           20,
           20,
           195,
           150,
           20,
           95,
           0,
           200,
           200,
           20,
           170,
           110,
           0,
           60,
           100,
           100,
           195,
           20,
           100,
           75,
           60,
           0,
           0,
           50,
           85,
           40,
           0,
           100,
           170,
           95,
           0,
           200,
           150,
           20,
           0,
           0,
           0,
           20,
           25,
           75,
           40,
           0,
           0,
           150,
           20,
           0,
           125,
           195,
           90,
           75,
           140,
           150,
           50,
           50,
           95,
           200,
           110,
           0,
           20,
           200,
           0,
           20,
           50,
           75,
           40,
           20,
           200,
           0,
           0,
           100,
           200,
           30,
           70,
           80,
           40,
           0,
           100,
           95,
           50,
           200,
           100,
           165,
           0,
           20,
           20,
           50,
           0,
           25,
           0,
           100,
           0,
           200,
           20,
           200,
           0,
           40,
           195,
           20,
           200,
           20,
           20,
           140,
           195,
           200,
           200,
           0,
           0,
           200,
           30,
           150,
           0,
           0,
           65,
           120,
           150,
           50,
           195,
           45,
           190,
           195,
           20,
           95,
           100,
           50,
           110,
           200,
           100,
           20,
           200,
           95,
           100,
           200,
           200,
           50,
           40,
           0,
           0,
           150,
           125,
           100,
           200,
           0,
           50,
           0,
           40,
           35,
           0,
           195,
           190,
           20,
           30,
           20,
           0,
           50,
           20,
           75,
           20,
           200,
           0,
           95,
           110,
           50,
           200,
           20,
           100,
           100,
           100,
           195,
           45,
           95,
           20,
           0,
           80,
           75,
           0,
           0,
           90,
           0,
           50,
           65,
           20,
           20,
           30,
           35,
           0,
           75,
           65,
           175,
           75,
           0,
           50,
           110,
           200,
           195,
           60,
           195,
           95,
           0,
           50,
           80,
           195,
           0,
           100,
           100,
           200,
           0,
           0,
           95,
           50,
           100,
           0,
           0,
           50,
           0,
           200,
           20,
           0,
           0,
           20,
           195,
           20,
           35,
           70,
           30,
           40,
           120,
           75,
           50,
           50,
           0,
           50,
           200,
           50,
           150,
           200,
           200,
           30,
           120,
           145,
           20,
           25,
           195,
           30,
           0,
           20,
           20,
           0,
           200,
           0,
           20,
           60,
           195,
           55,
           0,
           0,
           50,
           0,
           20,
           100,
           50,
           100,
           20,
           20,
           20,
           50,
           0,
           30,
           200,
           95,
           50,
           110,
           0,
           100,
           40,
           35,
           30,
           0,
           25,
           35,
           20,
           20,
           120,
           150,
           50,
           200,
           200,
           200,
           150,
           65,
           20,
           0,
           0,
           45,
           20,
           85,
           20,
           20,
           40,
           150,
           25,
           0,
           195,
           200,
           20,
           200,
           195,
           20,
           0,
           25,
           60,
           0,
           20,
           20,
           90,
           0,
           50,
           195,
           65,
           50,
           20,
           100,
           40,
           20,
           30,
           200,
           100,
           95,
           195,
           40,
           0,
           20,
           120,
           95,
           140,
           195,
           35,
           95,
           200,
           50,
           20,
           200,
           40,
           100,
           20,
           35,
           25,
           20,
           95,
           75,
           175,
           200,
           75,
           200,
           50,
           20,
           120,
           40,
           20,
           0,
           20,
           50,
           150,
           95,
           40,
           100,
           50,
           30,
           40,
           50,
           45,
           65,
           55,
           100,
           195,
           20,
           20,
           195,
           20,
           20,
           195,
           50,
           40,
           45,
           35,
           0,
           50,
           0,
           95,
           200,
           100,
           45,
           20,
           20,
           200,
           20,
           20,
           20,
           25,
           95,
           100,
           200,
           195,
           200,
           50,
           150,
           30,
           20,
           20,
           20,
           200,
           20,
           20,
           40,
           20,
           160,
           60,
           60,
           40,
           20,
           20,
           100,
           20,
           195,
           55,
           0,
           20,
           30,
           25,
           100,
           95,
           80,
           25,
           20,
           20,
           20,
           50,
           145,
           120,
           175,
           20,
           60,
           0,
           45,
           95,
           25,
           200,
           20,
           20,
           95,
           75,
           150,
           45,
           150,
           115,
           20,
           75,
           55,
           80,
           20,
           195,
           55,
           100,
           150,
           150,
           40,
           50,
           20,
           75,
           0,
           50,
           200,
           40,
           70,
           25,
           45,
           20,
           165,
           20,
           20,
           50,
           200,
           150,
           50,
           200,
           20,
           140,
           100,
           200,
           55,
           195,
           100,
           20,
           200,
           100,
           90,
           95,
           35,
           95,
           20,
           120,
           45,
           25,
           20,
           55,
           30,
           30,
           20,
           195,
           45,
           60,
           20,
           25,
           20,
           30,
           30,
           60,
           100,
           20,
           20,
           20,
           50,
           20,
           60,
           100,
           50,
           195,
           65,
           70,
           50,
           100,
           60,
           195,
           75,
           30,
           145,
           120,
           200,
           95,
           50,
           50,
           25,
           25,
           40,
           195,
           195,
           65,
           75,
           145,
           35,
           50,
           100,
           50,
           20,
           20,
           100,
           50,
           100,
           25,
           60,
           50,
           40,
           200,
           120,
           45,
           115,
           25,
           20,
           50,
           55,
           30,
           30,
           50,
           40,
           50,
           0,
           45,
           195,
           55,
           75,
           90,
           20,
           20,
           25,
           0,
           100,
           20,
           50,
           40,
           50,
           195,
           30,
           40,
           20,
           195,
           40,
           40,
           20,
           30,
           200,
           20,
           20,
           50,
           95,
           40,
           20,
           110,
           20,
           200,
           60,
           200,
           150,
           100,
           115,
           25,
           20,
           150,
           20,
           95,
           50,
           100,
           100,
           195,
           125,
           40,
           30,
           200,
           115,
           60,
           50,
           50,
           50,
           75,
           20,
           125,
           25,
           60,
           20,
           25,
           35,
           25,
           30,
           120,
           150,
           120,
           20,
           200,
           20,
           20,
           200,
           200,
           50,
           200,
           40,
           50,
           30,
           50,
           200,
           50,
           200,
           105,
           50,
           35,
           45,
           80,
           20,
           150,
           200,
           50,
           200,
           95,
           25,
           20,
           100,
           20,
           55,
           20,
           60,
           85,
           35,
           20,
           30,
           40,
           50,
           25,
           85,
           95,
           200,
           50,
           20,
           20,
           50,
           40,
           195,
           200,
           200,
           50,
           50,
           200,
           195,
           20,
           50,
           85,
           95,
           25,
           30,
           200,
           200,
           20,
           85,
           20,
           40,
           35,
           30,
           35,
           20,
           150,
           35,
           195,
           100,
           20,
           30,
           100,
           20,
           20,
           100,
           100,
           100,
           145,
           50,
           25,
           50,
           60,
           25,
           20,
           50,
           45,
           125,
           20,
           25,
           20,
           20,
           95,
           75,
           50,
           195,
           20,
           20,
           20,
           200,
           195,
           30,
           20,
           50,
           20,
           45,
           75,
           20,
           40,
           35,
           35,
           195,
           20,
           30,
           70,
           35,
           45,
           200,
           50,
           200,
           50,
           120,
           20,
           40,
           35,
           85,
           75,
           195,
           50,
           125,
           195,
           50,
           35,
           200,
           40,
           25,
           95,
           150,
           40,
           40,
           95,
           20,
           40,
           20,
           20,
           50,
           25,
           20,
           115,
           30,
           35,
           30,
           95,
           35,
           65,
           35,
           30,
           120,
           85,
           40,
           20,
           50,
           85,
           20,
           85,
           65,
           105,
           120,
           20,
           95,
           20,
           50,
           200,
           40,
           85,
           20,
           145,
           95,
           200,
           60,
           75,
           20,
           50,
           200,
           40,
           75,
           115,
           40,
           50,
           180,
           85,
           45,
           20,
           145,
           35,
           40,
           195,
           50,
           60,
           30,
           95,
           75,
           120,
           65,
           50,
           185,
           200,
           100,
           95,
           50,
           40,
           145,
           30,
           200,
           145,
           45,
           50,
           85,
           175,
           75,
           40,
           145,
           40,
           45,
           95,
           20,
           95,
           100,
           60,
           95,
           95,
           195,
           20,
           95,
           50,
           95,
           20,
           40,
           200,
           20,
           40,
           125,
           45,
           45,
           30,
           95,
           145,
           50,
           50,
           50,
           200,
           60,
           35,
           45,
           40,
           195,
           50,
           150,
           20,
           20,
           150,
           35,
           40,
           50,
           20,
           55,
           20,
           20,
           95,
           200,
           50,
           40,
           200,
           35,
           185,
           40,
           80,
           50,
           95,
           25,
           40,
           50,
           95,
           200,
           50,
           125,
           35,
           125,
           25,
           200,
           20,
           200,
           30,
           100,
           40,
           145,
           40,
           35,
           50,
           65,
           40,
           150,
           95,
           125,
           50,
           95,
           25,
           30,
           50,
           40,
           100,
           50,
           85,
           100,
           40,
           35,
           165,
           95,
           125,
           50,
           50,
           200,
           20,
           20,
           50,
           50,
           30,
           175,
           200,
           25,
           200,
           200,
           35,
           100,
           30,
           200,
           40,
           125,
           100,
           200
          ],
          "coloraxis": "coloraxis",
          "size": [
           0.82,
           0.69,
           0.89,
           0.78,
           0.55,
           0.82,
           0.79,
           0.85,
           0.69,
           0.9,
           0.94,
           0.39,
           0.57,
           0.61,
           0.96,
           0.55,
           0.87,
           0.73,
           0.82,
           0.28,
           0.76,
           0.62,
           0,
           0.41,
           0.18,
           0.34,
           0.31,
           0.52,
           0.74,
           0.07,
           0.68,
           0.78,
           0.31,
           0.77,
           0.7,
           0.94,
           0.76,
           0.07,
           0.78,
           0.95,
           0.31,
           0.4,
           0.05,
           0.38,
           0.21,
           0.32,
           0.15,
           0.22,
           0.15,
           0.78,
           0.28,
           0.21,
           0.89,
           0.85,
           0.12,
           0.14,
           0.96,
           0.71,
           0.07,
           0.24,
           0.81,
           0.04,
           0.78,
           0.8,
           0.36,
           0.86,
           0.01,
           0.55,
           0.19,
           0.74,
           0.14,
           0.22,
           0.63,
           0.03,
           0.46,
           0.57,
           0.89,
           0.88,
           0.34,
           0.66,
           0.4,
           0.67,
           0.74,
           0.59,
           0.02,
           0.48,
           0.14,
           0.11,
           0.53,
           0.11,
           0.18,
           0.45,
           0.15,
           0.24,
           0.76,
           0.61,
           0.76,
           0.66,
           0.26,
           0.68,
           0.24,
           0.71,
           0.35,
           0.34,
           0.71,
           0.44,
           0.12,
           0.56,
           0.88,
           0.58,
           0.12,
           0.8,
           0.47,
           0.73,
           0.5,
           0.88,
           0.15,
           0.48,
           0.15,
           0.25,
           0.3,
           0.64,
           0.78,
           0.66,
           0.66,
           0.4,
           0.41,
           0.74,
           0.78,
           0.87,
           0.21,
           0.11,
           0.54,
           0.74,
           0.54,
           0.62,
           0.24,
           0.41,
           0.15,
           0.15,
           0.24,
           0.1,
           0.74,
           0.48,
           0.85,
           0.52,
           0.96,
           0.99,
           0.18,
           0.76,
           0.14,
           0.2,
           0.96,
           0.89,
           0.49,
           0.81,
           0.15,
           0.74,
           0.3,
           0.82,
           0.18,
           0.29,
           0.41,
           0.24,
           0.55,
           0.93,
           0.7,
           0.95,
           0.21,
           0.35,
           0.22,
           0.47,
           0.3,
           0.92,
           0.55,
           0.11,
           0.92,
           0.68,
           0.92,
           0.19,
           0.8,
           0.92,
           0.94,
           0.16,
           0.18,
           0.1,
           0.34,
           0.84,
           0.66,
           0.32,
           0.11,
           0.21,
           0.76,
           0.75,
           0.93,
           0.88,
           0.24,
           0.15,
           0.81,
           0.5,
           0.66,
           0.93,
           0.53,
           0.76,
           0.28,
           0.64,
           0.34,
           1,
           0.14,
           0.47,
           0.13,
           0.32,
           0.58,
           0.17,
           0.8,
           0.67,
           0.34,
           0.76,
           0.8,
           0.38,
           0.28,
           0.07,
           0.94,
           0.81,
           0.04,
           0.18,
           0.73,
           0.28,
           0.23,
           0.89,
           0.92,
           0.78,
           0.78,
           0.58,
           0.79,
           0.62,
           0.87,
           0.12,
           0.04,
           0.96,
           0.24,
           0.69,
           0.98,
           0.77,
           0.8,
           0.22,
           0.93,
           0.68,
           0.66,
           0.78,
           0.53,
           0.3,
           0.78,
           0.24,
           0.05,
           0.69,
           0.66,
           0.53,
           0.95,
           0.76,
           0.78,
           0.76,
           0.15,
           0.76,
           0.67,
           0.73,
           0.12,
           0.08,
           0.89,
           0.42,
           0.42,
           0.24,
           0.3,
           0.38,
           0.78,
           0.96,
           0.68,
           0.68,
           0.24,
           0.61,
           0.12,
           0.23,
           0.64,
           0.73,
           0.29,
           0.47,
           0.34,
           0.16,
           0.89,
           0.18,
           0.8,
           0.3,
           0.78,
           0.61,
           0.75,
           0.74,
           0.96,
           0.16,
           0.71,
           0.54,
           0.53,
           0.76,
           0.78,
           0.96,
           0.62,
           0.94,
           0.47,
           0.17,
           0.63,
           0.15,
           0.66,
           0.82,
           0.15,
           0.43,
           0.79,
           0.24,
           0.27,
           0.87,
           0.11,
           0.05,
           0.34,
           0.75,
           0.31,
           0.77,
           0.5,
           0.06,
           0.6,
           0,
           0,
           0.98,
           0.14,
           0.76,
           0.3,
           0.51,
           0.76,
           0.2,
           1,
           0.01,
           0.76,
           0.36,
           0.88,
           0,
           0.94,
           0.5,
           0.89,
           0.76,
           0.88,
           0.76,
           0.8,
           0.18,
           0.14,
           0.89,
           0.67,
           0.8,
           0.94,
           0.34,
           0.58,
           0.14,
           0.96,
           0.32,
           0.76,
           0.7,
           0.52,
           0.78,
           0.47,
           0.78,
           0.58,
           0.33,
           0.47,
           0.14,
           0.3,
           0.46,
           0.37,
           0.67,
           0.14,
           0.66,
           0.68,
           0.74,
           0.53,
           0.56,
           0.74,
           0.64,
           0.99,
           0.99,
           0.99,
           0.99,
           0.99,
           0.99,
           0.99,
           0.99,
           0.99,
           0.99,
           0.99,
           0.99,
           0.99,
           0.99,
           0.99,
           0.99,
           0.99,
           0.99,
           0.99,
           0.99,
           0.99,
           0.99,
           0.99,
           0.99,
           0.99,
           0.21,
           0.52,
           0.14,
           0.15,
           0.96,
           0.2,
           0.45,
           0.14,
           0.11,
           0.89,
           0.89,
           0.89,
           0.89,
           0.89,
           0.89,
           0.89,
           0.89,
           0.89,
           0.89,
           0.89,
           0.89,
           0.89,
           0.89,
           0.89,
           0.89,
           0.89,
           0.89,
           0.89,
           0.89,
           0.1,
           0.78,
           0.96,
           0.24,
           0.8,
           0.84,
           0.55,
           0.67,
           0.38,
           0.92,
           0.92,
           0.92,
           0.92,
           0.92,
           0.92,
           0.92,
           0.92,
           0.92,
           0.92,
           0.92,
           0.92,
           0.92,
           0.58,
           0.22,
           0.97,
           0.71,
           0.89,
           0.55,
           0.72,
           0.5,
           0.37,
           0.13,
           0.57,
           0.73,
           0.66,
           0.94,
           0.2,
           0.72,
           0.34,
           0.92,
           0.11,
           0.11,
           0.62,
           0.94,
           0.94,
           0.94,
           0.94,
           0.94,
           0.94,
           0.94,
           0.94,
           0.94,
           0.94,
           0.94,
           0.94,
           0.94,
           0.55,
           0.43,
           0.34,
           0.18,
           0.88,
           0.21,
           0.76,
           0.9,
           0.93,
           0.73,
           0.15,
           0.55,
           0.61,
           0.2,
           0.88,
           0.21,
           0.92,
           0.92,
           0.92,
           0.92,
           0.92,
           0.92,
           0.92,
           0.92,
           0.92,
           0.92,
           0.92,
           0.92,
           0.92,
           0.8,
           0.8,
           0.8,
           0.8,
           0.8,
           0.8,
           0.8,
           0.8,
           0.8,
           0.8,
           0.8,
           0.8,
           0.8,
           0.8,
           0.8,
           0.8,
           0.8,
           0.8,
           0.8,
           0.8,
           0.8,
           0.8,
           0.8,
           0.14,
           0.14,
           0.17,
           0.47,
           0.92,
           0.92,
           0.92,
           0.92,
           0.92,
           0.92,
           0.92,
           0.92,
           0.92,
           0.11,
           0.35,
           0.64,
           0.66,
           0.51,
           0.76,
           0.37,
           0.72,
           0.34,
           0.68,
           0.65,
           0.36,
           0.83,
           0.11,
           0.93,
           0.55,
           0.97,
           0.61,
           0.16,
           0.3,
           0.02,
           0.15,
           0.34,
           0.42,
           0.18,
           0.77,
           0.34,
           0.66,
           0.55,
           0.91,
           0.96,
           0.96,
           0.96,
           0.96,
           0.96,
           0.96,
           0.96,
           0.96,
           0.96,
           0.96,
           0.96,
           0.96,
           0.96,
           0.96,
           0.96,
           0.96,
           0.96,
           0.96,
           0.96,
           0.96,
           0.96,
           0.96,
           0.96,
           0.96,
           0.96,
           0.96,
           0.96,
           0.96,
           0.96,
           0.96,
           0.96,
           0.2,
           0.47,
           0.3,
           0.76,
           0.47,
           0.93,
           0.93,
           0.93,
           0.93,
           0.93,
           0.93,
           0.93,
           0.93,
           0.93,
           0.93,
           0.93,
           0.93,
           0.93,
           0.93,
           0.93,
           0.93,
           0.93,
           0.93,
           0.93,
           0.93,
           0.93,
           0.93,
           0.93,
           0.93,
           0.93,
           0.93,
           0.93,
           0.3,
           0.99,
           0.99,
           0.99,
           0.99,
           0.99,
           0.99,
           0.99,
           0.99,
           0.99,
           0.99,
           0.99,
           0.99,
           0.99,
           0.99,
           0.99,
           0.99,
           0.99,
           0.99,
           0.99,
           0.99,
           0.99,
           0.99,
           0.99,
           0.99,
           0.86,
           0.42,
           0.13,
           0.9,
           0.13,
           0.47,
           0.8,
           0.24,
           0.89,
           0.87,
           0.66,
           0.47,
           0.8,
           0.34,
           0.89,
           0.13,
           0.19,
           0.14,
           0.06,
           0.89,
           0.47,
           0.67,
           0.9,
           0.78,
           0.3,
           0.24,
           0.89,
           0.89,
           0.6,
           0.36,
           0.17,
           0.55,
           0.99,
           0.11,
           0.75,
           1,
           0.24,
           0.79,
           0.15,
           0.71,
           0.83,
           0.7,
           0.18,
           0.72,
           0.76,
           0.78,
           0.78,
           0.78,
           0.78,
           0.78,
           0.78,
           0.78,
           0.78,
           0.78,
           0.78,
           0.78,
           0.78,
           0.78,
           0.96,
           0.72,
           0.76,
           0.58,
           0.2,
           0.88,
           0.24,
           0.14,
           0.62,
           0.59,
           0.2,
           0.24,
           0.64,
           0.47,
           0.73,
           0.1,
           0.28,
           0.36,
           0.66,
           0.08,
           0.76,
           0.96,
           0.5,
           0.32,
           0.95,
           0.95,
           0.95,
           0.95,
           0.95,
           0.95,
           0.95,
           0.95,
           0.95,
           0.95,
           0.95,
           0.95,
           0.95,
           0.95,
           0.95,
           0.95,
           0.95,
           0.95,
           0.95,
           0.95,
           0.95,
           0.95,
           0.95,
           0.95,
           0.95,
           0.95,
           0.95,
           0.96,
           0.96,
           0.96,
           0.96,
           0.96,
           0.96,
           0.96,
           0.96,
           0.96,
           0.96,
           0.96,
           0.96,
           0.96,
           0.96,
           0.96,
           0.96,
           0.96,
           0.96,
           0.96,
           0.88,
           0.18,
           0.34,
           0.89,
           0.98,
           0.47,
           0.8,
           0.9,
           0.14,
           0.74,
           0.89,
           0.78,
           0.84,
           0.72,
           0.35,
           0.9,
           0.77,
           0.83,
           0.07,
           0.74,
           0.62,
           0.87,
           0.96,
           0.52,
           0.92,
           0.33,
           0.94,
           0.18,
           0.43,
           0.07,
           0.17,
           0.46,
           0.12,
           0.79,
           0.07,
           0.76,
           0.11,
           0.18,
           0.2,
           0.78,
           0.89,
           0.9,
           0.08,
           0.07,
           0.24,
           0.18,
           0.63,
           0.47,
           0.78,
           0.16,
           0.21,
           0.76,
           0.76,
           0.76,
           0.76,
           0.76,
           0.76,
           0.76,
           0.76,
           0.76,
           0.76,
           0.76,
           0.76,
           0.76,
           0.76,
           0.3,
           0.49,
           0.94,
           0.94,
           0.94,
           0.94,
           0.94,
           0.94,
           0.94,
           0.94,
           0.94,
           0.94,
           0.94,
           0.94,
           0.94,
           0.94,
           0.94,
           0.94,
           0.94,
           0.94,
           0.94,
           0.94,
           0.34,
           0.18,
           0.18,
           0.14,
           0.88,
           0.82,
           0.58,
           0.66,
           0.34,
           0.66,
           0.57,
           0.96,
           0.96,
           0.96,
           0.96,
           0.96,
           0.96,
           0.96,
           0.96,
           0.96,
           0.96,
           0.96,
           0.96,
           0.96,
           0.96,
           0.96,
           0.96,
           0.18,
           0,
           0.89,
           0.81,
           0.72,
           0.39,
           0.94,
           0.66,
           0.34,
           0.66,
           0.77,
           0.74,
           0.16,
           0.63,
           0.2,
           0.21,
           0.12,
           0.2,
           0.24,
           0.11,
           0.85,
           0.3,
           0.24,
           0.56,
           0.89,
           0.89,
           0.89,
           0.89,
           0.89,
           0.89,
           0.89,
           0.89,
           0.89,
           0.89,
           0.89,
           0.89,
           0.89,
           0.89,
           0.89,
           0.89,
           0.89,
           0.89,
           0.89,
           0.89,
           0.89,
           0.89,
           0.89,
           0.89,
           0.89,
           0.89,
           0.89,
           0.89,
           0.89,
           0.89,
           0.89,
           0.89,
           0.89,
           0.89,
           0.89,
           0.89,
           0.89,
           0.24,
           0.21,
           0.46,
           0.6,
           0.74,
           0.76,
           0.87,
           0.84,
           0.55,
           0.67,
           0.48,
           0.78,
           0.55,
           0.78,
           0.12,
           0.1,
           0.11,
           0.78,
           0.8,
           0.92,
           0.86,
           0.18,
           0.63,
           0.34,
           0.56,
           0.96,
           0.11,
           0.8,
           0.32,
           0.96,
           0.68,
           0.86,
           0.89,
           0.94,
           0.15,
           0.62,
           0.82,
           0.49,
           0.11,
           0.74,
           0.24,
           0.11,
           0.14,
           0.15,
           0.76,
           0.24,
           0.67,
           0.78,
           0.96,
           0.07,
           0.51,
           0.46,
           0.54,
           0.82,
           0.45,
           0.96,
           0.21,
           0.96,
           0.11,
           0.06,
           0.24,
           0.55,
           1,
           0.81,
           0.93,
           0.94,
           0.87,
           0.11,
           0.92,
           0.78,
           0.51,
           0.96,
           0,
           0.34,
           0.78,
           0.99,
           0.57,
           0.67,
           0.34,
           0.58,
           0.87,
           0.52,
           0.2,
           0.3,
           0.11,
           0.99,
           0.44,
           0.18,
           0.37,
           0.8,
           0.15,
           0.01,
           0.15,
           0.79,
           0.3,
           0.02,
           0.92,
           0.24,
           0.96,
           0.03,
           0.07,
           0.76,
           0.75,
           0.11,
           0.34,
           0.78,
           0.79,
           0.78,
           0.34,
           0.3,
           0.97,
           0.04,
           0.76,
           0.39,
           0.77,
           0.78,
           0.73,
           0.2,
           0.86,
           0.64,
           0.64,
           0.75,
           0.88,
           0.45,
           0.3,
           0.66,
           0.96,
           0.02,
           0.29,
           0.39,
           0.77,
           0.96,
           0.47,
           0.22,
           0.17,
           0.32,
           0.51,
           0.06,
           0.83,
           0.54,
           0.57,
           0.47,
           0.26,
           0.74,
           0.3,
           0.37,
           0.88,
           0.66,
           0.76,
           0.78,
           0.31,
           0.4,
           0.39,
           0.11,
           0.16,
           0.24,
           0.76,
           0.34,
           0.76,
           0.11,
           0.08,
           0.6,
           0.96,
           0.34,
           0.15,
           0.94,
           0.98,
           0.98,
           0.98,
           0.98,
           0.98,
           0.98,
           0.98,
           0.98,
           0.98,
           0.98,
           0.98,
           0.11,
           0.3,
           0.71,
           0.8,
           0.55,
           0.3,
           0.7,
           0.34,
           0.96,
           0.61,
           0.96,
           0.26,
           0.78,
           0.89,
           0.1,
           0.47,
           0.35,
           0.74,
           0.7,
           0.34,
           0.78,
           0.64,
           0.36,
           0.76,
           1,
           0.98,
           1,
           0.75,
           0.89,
           0.89,
           0.89,
           0.89,
           0.89,
           0.89,
           0.89,
           0.96,
           0.47,
           0.62,
           0.55,
           0.19,
           0.46,
           0.11,
           0.88,
           0.96,
           0.15,
           0.46,
           0.67,
           0.12
          ],
          "sizemode": "area",
          "sizeref": 0.0025,
          "symbol": "circle"
         },
         "mode": "markers",
         "name": "",
         "showlegend": false,
         "type": "scattergl",
         "x": [
          268923,
          161029,
          121584,
          120291,
          114512,
          98867,
          84897,
          83737,
          79612,
          73783,
          73110,
          72932,
          70773,
          69186,
          64128,
          59639,
          59361,
          58208,
          57422,
          55332,
          51257,
          50815,
          48650,
          47886,
          47062,
          43977,
          43285,
          41478,
          40070,
          37141,
          36322,
          35267,
          33788,
          33677,
          32696,
          32260,
          31499,
          31070,
          30531,
          29990,
          29348,
          28880,
          28694,
          28125,
          27801,
          26800,
          26697,
          26673,
          26541,
          25864,
          25854,
          25799,
          24978,
          24861,
          24575,
          23764,
          23669,
          23572,
          23412,
          22999,
          22623,
          22355,
          22213,
          21998,
          21730,
          21689,
          21682,
          21653,
          21245,
          21147,
          21087,
          20890,
          20652,
          20073,
          19909,
          19210,
          18818,
          18777,
          18496,
          18324,
          18170,
          18143,
          18101,
          17895,
          17802,
          17784,
          17759,
          17714,
          17671,
          17554,
          17463,
          17334,
          17297,
          17113,
          17071,
          16926,
          16829,
          16731,
          16590,
          16527,
          16486,
          16409,
          16282,
          16212,
          16158,
          15724,
          15715,
          15493,
          15462,
          15276,
          15187,
          15134,
          15106,
          15092,
          15064,
          14842,
          14813,
          14606,
          14551,
          14260,
          14254,
          14118,
          14103,
          14074,
          14026,
          13960,
          13920,
          13882,
          13708,
          13535,
          13457,
          13439,
          13406,
          13242,
          13210,
          13130,
          13016,
          13010,
          12974,
          12953,
          12952,
          12893,
          12882,
          12873,
          12838,
          12815,
          12781,
          12629,
          12563,
          12458,
          12368,
          12366,
          12336,
          12328,
          12293,
          12201,
          12105,
          12068,
          12021,
          11892,
          11847,
          11832,
          11812,
          11758,
          11666,
          11643,
          11574,
          11536,
          11533,
          11492,
          11384,
          11339,
          11285,
          11285,
          11262,
          11170,
          11170,
          11167,
          11167,
          11080,
          11026,
          11026,
          11011,
          10945,
          10917,
          10890,
          10874,
          10864,
          10780,
          10689,
          10674,
          10610,
          10606,
          10576,
          10518,
          10394,
          10247,
          10179,
          10179,
          10150,
          10110,
          10103,
          10008,
          9945,
          9881,
          9833,
          9832,
          9831,
          9786,
          9773,
          9762,
          9687,
          9668,
          9607,
          9554,
          9425,
          9421,
          9384,
          9381,
          9375,
          9364,
          9359,
          9355,
          9349,
          9332,
          9132,
          9110,
          9109,
          9103,
          9067,
          9056,
          9028,
          8968,
          8964,
          8777,
          8770,
          8768,
          8755,
          8711,
          8711,
          8693,
          8691,
          8625,
          8594,
          8592,
          8577,
          8496,
          8462,
          8415,
          8371,
          8337,
          8320,
          8234,
          8067,
          8059,
          7922,
          7905,
          7884,
          7867,
          7865,
          7852,
          7827,
          7789,
          7785,
          7741,
          7720,
          7706,
          7660,
          7517,
          7501,
          7489,
          7484,
          7449,
          7449,
          7438,
          7416,
          7407,
          7380,
          7375,
          7368,
          7331,
          7318,
          7304,
          7213,
          7211,
          7196,
          7184,
          7169,
          7146,
          7142,
          7130,
          7130,
          7090,
          7062,
          7059,
          7057,
          7055,
          7018,
          7017,
          7014,
          6958,
          6937,
          6909,
          6890,
          6856,
          6851,
          6760,
          6751,
          6742,
          6648,
          6636,
          6628,
          6601,
          6588,
          6548,
          6527,
          6510,
          6508,
          6497,
          6474,
          6437,
          6420,
          6413,
          6412,
          6402,
          6315,
          6293,
          6162,
          6153,
          6134,
          6134,
          6117,
          6082,
          6073,
          6008,
          6000,
          5962,
          5921,
          5811,
          5809,
          5800,
          5795,
          5739,
          5738,
          5715,
          5603,
          5559,
          5549,
          5547,
          5542,
          5533,
          5495,
          5484,
          5456,
          5439,
          5421,
          5398,
          5397,
          5387,
          5368,
          5351,
          5335,
          5332,
          5328,
          5324,
          5318,
          5301,
          5279,
          5272,
          5263,
          5228,
          5211,
          5181,
          5177,
          5151,
          5143,
          5129,
          5125,
          5117,
          5097,
          5089,
          5085,
          5077,
          5065,
          5056,
          5052,
          5026,
          5022,
          5014,
          5004,
          4957,
          4905,
          4892,
          4872,
          4867,
          4848,
          4848,
          4839,
          4830,
          4820,
          4797,
          4783,
          4743,
          4735,
          4732,
          4720,
          4714,
          4708,
          4689,
          4687,
          4675,
          4645,
          4628,
          4616,
          4587,
          4569,
          4563,
          4537,
          4529,
          4503,
          4499,
          4463,
          4447,
          4442,
          4410,
          4409,
          4407,
          4405,
          4375,
          4333,
          4306,
          4290,
          4259,
          4198,
          4193,
          4183,
          4183,
          4157,
          4144,
          4138,
          4128,
          4123,
          4123,
          4115,
          4106,
          4090,
          4076,
          4057,
          4040,
          4033,
          4030,
          4028,
          4020,
          4011,
          4010,
          4001,
          3960,
          3933,
          3903,
          3898,
          3894,
          3887,
          3883,
          3877,
          3854,
          3831,
          3801,
          3784,
          3782,
          3770,
          3766,
          3759,
          3757,
          3704,
          3701,
          3699,
          3697,
          3694,
          3688,
          3655,
          3652,
          3632,
          3619,
          3601,
          3590,
          3571,
          3559,
          3541,
          3539,
          3503,
          3493,
          3492,
          3485,
          3461,
          3444,
          3420,
          3415,
          3411,
          3399,
          3397,
          3392,
          3388,
          3380,
          3357,
          3357,
          3324,
          3323,
          3299,
          3295,
          3271,
          3258,
          3254,
          3252,
          3249,
          3227,
          3209,
          3193,
          3185,
          3179,
          3169,
          3150,
          3142,
          3133,
          3119,
          3118,
          3106,
          3086,
          3073,
          3033,
          3026,
          3015,
          3012,
          3011,
          2985,
          2971,
          2965,
          2964,
          2919,
          2918,
          2912,
          2888,
          2875,
          2865,
          2859,
          2853,
          2837,
          2814,
          2814,
          2804,
          2797,
          2789,
          2786,
          2784,
          2784,
          2783,
          2780,
          2760,
          2760,
          2755,
          2753,
          2749,
          2743,
          2721,
          2706,
          2698,
          2697,
          2687,
          2669,
          2660,
          2652,
          2650,
          2650,
          2649,
          2643,
          2643,
          2641,
          2635,
          2626,
          2607,
          2606,
          2596,
          2578,
          2577,
          2573,
          2570,
          2565,
          2558,
          2547,
          2532,
          2528,
          2526,
          2520,
          2510,
          2497,
          2494,
          2472,
          2472,
          2470,
          2464,
          2459,
          2437,
          2430,
          2421,
          2412,
          2409,
          2402,
          2401,
          2390,
          2389,
          2388,
          2382,
          2371,
          2362,
          2360,
          2355,
          2354,
          2353,
          2351,
          2346,
          2342,
          2335,
          2320,
          2314,
          2311,
          2306,
          2299,
          2296,
          2281,
          2273,
          2273,
          2267,
          2244,
          2243,
          2238,
          2234,
          2227,
          2225,
          2215,
          2214,
          2204,
          2200,
          2197,
          2195,
          2185,
          2184,
          2178,
          2177,
          2164,
          2160,
          2152,
          2145,
          2142,
          2134,
          2104,
          2097,
          2097,
          2091,
          2086,
          2083,
          2076,
          2076,
          2074,
          2073,
          2071,
          2063,
          2052,
          2051,
          2039,
          2025,
          2023,
          2012,
          2007,
          2002,
          1995,
          1993,
          1975,
          1967,
          1966,
          1950,
          1949,
          1948,
          1945,
          1942,
          1936,
          1935,
          1926,
          1925,
          1908,
          1905,
          1904,
          1902,
          1898,
          1894,
          1892,
          1874,
          1873,
          1871,
          1870,
          1867,
          1858,
          1853,
          1849,
          1849,
          1839,
          1838,
          1832,
          1827,
          1825,
          1822,
          1815,
          1812,
          1811,
          1802,
          1798,
          1783,
          1780,
          1780,
          1779,
          1777,
          1772,
          1769,
          1766,
          1764,
          1764,
          1763,
          1758,
          1747,
          1741,
          1737,
          1736,
          1735,
          1734,
          1732,
          1731,
          1724,
          1723,
          1723,
          1712,
          1705,
          1703,
          1703,
          1703,
          1702,
          1701,
          1699,
          1697,
          1696,
          1688,
          1683,
          1678,
          1673,
          1659,
          1658,
          1658,
          1655,
          1655,
          1653,
          1649,
          1645,
          1640,
          1634,
          1628,
          1627,
          1626,
          1626,
          1624,
          1618,
          1613,
          1611,
          1611,
          1606,
          1605,
          1599,
          1591,
          1588,
          1586,
          1566,
          1562,
          1562,
          1557,
          1554,
          1553,
          1552,
          1551,
          1550,
          1550,
          1548,
          1547,
          1544,
          1540,
          1537,
          1534,
          1532,
          1526,
          1525,
          1520,
          1520,
          1519,
          1518,
          1517,
          1515,
          1502,
          1496,
          1494,
          1478,
          1477,
          1476,
          1472,
          1469,
          1468,
          1463,
          1454,
          1448,
          1447,
          1442,
          1439,
          1437,
          1433,
          1428,
          1425,
          1421,
          1420,
          1419,
          1415,
          1414,
          1410,
          1407,
          1406,
          1404,
          1399,
          1393,
          1388,
          1386,
          1385,
          1385,
          1371,
          1367,
          1355,
          1355,
          1353,
          1346,
          1343,
          1339,
          1337,
          1322,
          1322,
          1318,
          1318,
          1316,
          1313,
          1312,
          1309,
          1309,
          1305,
          1305,
          1302,
          1301,
          1299,
          1299,
          1296,
          1294,
          1292,
          1284,
          1284,
          1282,
          1276,
          1275,
          1274,
          1272,
          1271,
          1270,
          1266,
          1266,
          1262,
          1248,
          1241,
          1237,
          1236,
          1235,
          1229,
          1220,
          1216,
          1215,
          1212,
          1209,
          1209,
          1193,
          1186,
          1186,
          1169,
          1157,
          1156,
          1156,
          1154,
          1154,
          1152,
          1147,
          1143,
          1142,
          1134,
          1130,
          1129,
          1128,
          1126,
          1125,
          1122,
          1121,
          1119,
          1117,
          1116,
          1114,
          1109,
          1102,
          1098,
          1096,
          1096,
          1087,
          1087,
          1085,
          1080,
          1069,
          1063,
          1063,
          1062,
          1062,
          1061,
          1057,
          1054,
          1052,
          1050,
          1049,
          1040,
          1040,
          1036,
          1033,
          1032,
          1030,
          1024,
          1023,
          1023,
          1020,
          1018,
          1018,
          1011,
          1010,
          1007,
          1006,
          1004,
          1002,
          1002,
          1000,
          997,
          988,
          976,
          976,
          975,
          973,
          964,
          960,
          959,
          958,
          954,
          952,
          949,
          948,
          948,
          947,
          945,
          944,
          942,
          937,
          937,
          926,
          920,
          918,
          912,
          912,
          909,
          903,
          901,
          900,
          898,
          897,
          891,
          885,
          880,
          878,
          877,
          876,
          876,
          869,
          869,
          867,
          860,
          851,
          850,
          842,
          841,
          838,
          817,
          817,
          803,
          802,
          799,
          796,
          796,
          791,
          791,
          788,
          785,
          783,
          783,
          775,
          770,
          770,
          767,
          764,
          755,
          755,
          746,
          735,
          733,
          723,
          722,
          716,
          716,
          715,
          714,
          713,
          710,
          707,
          702,
          694,
          686,
          685,
          676,
          670,
          666,
          659,
          655,
          654,
          653,
          652,
          651,
          644,
          636,
          633,
          633,
          631,
          627,
          627,
          613,
          613,
          608,
          604,
          604,
          602,
          601,
          601,
          596,
          586,
          586,
          586,
          583,
          578,
          578,
          578,
          577,
          567,
          563,
          557,
          557,
          555,
          553,
          550,
          550,
          549,
          546,
          540,
          540,
          538,
          534,
          533,
          527,
          522,
          513,
          511,
          502,
          496,
          494,
          487,
          486,
          481,
          478,
          467,
          466,
          464,
          461,
          458,
          458,
          450,
          442,
          436,
          434,
          430,
          426,
          426,
          424,
          424,
          422,
          421,
          417,
          415,
          408,
          402,
          396,
          396,
          395,
          395,
          394,
          392,
          387,
          385,
          382,
          380,
          379,
          376,
          362,
          361,
          359,
          358,
          353,
          346,
          342,
          334,
          333,
          333,
          327,
          325,
          325,
          322,
          314,
          306,
          305,
          305,
          301,
          300,
          300,
          299,
          298,
          293,
          289,
          279,
          263,
          260,
          255,
          253,
          252,
          251,
          245,
          244,
          240,
          237,
          236,
          228,
          227,
          223,
          222,
          216,
          214,
          210,
          208,
          207,
          205,
          203,
          197,
          197,
          194,
          189,
          183,
          177,
          170,
          166,
          165,
          155,
          151,
          130,
          122,
          119,
          116,
          109,
          103,
          102,
          91,
          88,
          81,
          61,
          55,
          50,
          44,
          34,
          25,
          19
         ],
         "xaxis": "x",
         "y": [
          0,
          0,
          200,
          0,
          200,
          0,
          30,
          0,
          175,
          190,
          0,
          0,
          0,
          120,
          0,
          0,
          175,
          195,
          195,
          195,
          145,
          180,
          0,
          50,
          0,
          195,
          75,
          0,
          150,
          195,
          0,
          50,
          200,
          195,
          195,
          0,
          195,
          20,
          0,
          0,
          195,
          200,
          195,
          80,
          195,
          20,
          0,
          100,
          0,
          20,
          20,
          195,
          195,
          200,
          150,
          20,
          0,
          95,
          195,
          200,
          95,
          75,
          100,
          140,
          200,
          0,
          0,
          75,
          0,
          0,
          0,
          0,
          190,
          0,
          0,
          30,
          50,
          20,
          0,
          100,
          200,
          20,
          150,
          195,
          75,
          195,
          120,
          70,
          190,
          20,
          0,
          100,
          150,
          50,
          200,
          50,
          60,
          75,
          75,
          0,
          20,
          100,
          195,
          200,
          200,
          40,
          0,
          0,
          0,
          200,
          35,
          0,
          75,
          0,
          135,
          200,
          60,
          150,
          20,
          100,
          75,
          120,
          190,
          40,
          0,
          20,
          75,
          150,
          80,
          0,
          80,
          150,
          100,
          0,
          0,
          0,
          0,
          80,
          0,
          65,
          0,
          75,
          75,
          200,
          150,
          175,
          20,
          75,
          0,
          20,
          195,
          120,
          0,
          50,
          0,
          0,
          35,
          195,
          195,
          100,
          50,
          200,
          0,
          0,
          0,
          100,
          200,
          20,
          0,
          200,
          50,
          55,
          195,
          195,
          50,
          95,
          95,
          20,
          20,
          0,
          0,
          0,
          200,
          150,
          0,
          75,
          195,
          50,
          0,
          20,
          200,
          20,
          60,
          145,
          195,
          90,
          20,
          0,
          95,
          50,
          0,
          115,
          20,
          200,
          50,
          0,
          95,
          195,
          0,
          200,
          20,
          195,
          100,
          50,
          20,
          20,
          195,
          150,
          20,
          95,
          0,
          200,
          200,
          20,
          170,
          110,
          0,
          60,
          100,
          100,
          195,
          20,
          100,
          75,
          60,
          0,
          0,
          50,
          85,
          40,
          0,
          100,
          170,
          95,
          0,
          200,
          150,
          20,
          0,
          0,
          0,
          20,
          25,
          75,
          40,
          0,
          0,
          150,
          20,
          0,
          125,
          195,
          90,
          75,
          140,
          150,
          50,
          50,
          95,
          200,
          110,
          0,
          20,
          200,
          0,
          20,
          50,
          75,
          40,
          20,
          200,
          0,
          0,
          100,
          200,
          30,
          70,
          80,
          40,
          0,
          100,
          95,
          50,
          200,
          100,
          165,
          0,
          20,
          20,
          50,
          0,
          25,
          0,
          100,
          0,
          200,
          20,
          200,
          0,
          40,
          195,
          20,
          200,
          20,
          20,
          140,
          195,
          200,
          200,
          0,
          0,
          200,
          30,
          150,
          0,
          0,
          65,
          120,
          150,
          50,
          195,
          45,
          190,
          195,
          20,
          95,
          100,
          50,
          110,
          200,
          100,
          20,
          200,
          95,
          100,
          200,
          200,
          50,
          40,
          0,
          0,
          150,
          125,
          100,
          200,
          0,
          50,
          0,
          40,
          35,
          0,
          195,
          190,
          20,
          30,
          20,
          0,
          50,
          20,
          75,
          20,
          200,
          0,
          95,
          110,
          50,
          200,
          20,
          100,
          100,
          100,
          195,
          45,
          95,
          20,
          0,
          80,
          75,
          0,
          0,
          90,
          0,
          50,
          65,
          20,
          20,
          30,
          35,
          0,
          75,
          65,
          175,
          75,
          0,
          50,
          110,
          200,
          195,
          60,
          195,
          95,
          0,
          50,
          80,
          195,
          0,
          100,
          100,
          200,
          0,
          0,
          95,
          50,
          100,
          0,
          0,
          50,
          0,
          200,
          20,
          0,
          0,
          20,
          195,
          20,
          35,
          70,
          30,
          40,
          120,
          75,
          50,
          50,
          0,
          50,
          200,
          50,
          150,
          200,
          200,
          30,
          120,
          145,
          20,
          25,
          195,
          30,
          0,
          20,
          20,
          0,
          200,
          0,
          20,
          60,
          195,
          55,
          0,
          0,
          50,
          0,
          20,
          100,
          50,
          100,
          20,
          20,
          20,
          50,
          0,
          30,
          200,
          95,
          50,
          110,
          0,
          100,
          40,
          35,
          30,
          0,
          25,
          35,
          20,
          20,
          120,
          150,
          50,
          200,
          200,
          200,
          150,
          65,
          20,
          0,
          0,
          45,
          20,
          85,
          20,
          20,
          40,
          150,
          25,
          0,
          195,
          200,
          20,
          200,
          195,
          20,
          0,
          25,
          60,
          0,
          20,
          20,
          90,
          0,
          50,
          195,
          65,
          50,
          20,
          100,
          40,
          20,
          30,
          200,
          100,
          95,
          195,
          40,
          0,
          20,
          120,
          95,
          140,
          195,
          35,
          95,
          200,
          50,
          20,
          200,
          40,
          100,
          20,
          35,
          25,
          20,
          95,
          75,
          175,
          200,
          75,
          200,
          50,
          20,
          120,
          40,
          20,
          0,
          20,
          50,
          150,
          95,
          40,
          100,
          50,
          30,
          40,
          50,
          45,
          65,
          55,
          100,
          195,
          20,
          20,
          195,
          20,
          20,
          195,
          50,
          40,
          45,
          35,
          0,
          50,
          0,
          95,
          200,
          100,
          45,
          20,
          20,
          200,
          20,
          20,
          20,
          25,
          95,
          100,
          200,
          195,
          200,
          50,
          150,
          30,
          20,
          20,
          20,
          200,
          20,
          20,
          40,
          20,
          160,
          60,
          60,
          40,
          20,
          20,
          100,
          20,
          195,
          55,
          0,
          20,
          30,
          25,
          100,
          95,
          80,
          25,
          20,
          20,
          20,
          50,
          145,
          120,
          175,
          20,
          60,
          0,
          45,
          95,
          25,
          200,
          20,
          20,
          95,
          75,
          150,
          45,
          150,
          115,
          20,
          75,
          55,
          80,
          20,
          195,
          55,
          100,
          150,
          150,
          40,
          50,
          20,
          75,
          0,
          50,
          200,
          40,
          70,
          25,
          45,
          20,
          165,
          20,
          20,
          50,
          200,
          150,
          50,
          200,
          20,
          140,
          100,
          200,
          55,
          195,
          100,
          20,
          200,
          100,
          90,
          95,
          35,
          95,
          20,
          120,
          45,
          25,
          20,
          55,
          30,
          30,
          20,
          195,
          45,
          60,
          20,
          25,
          20,
          30,
          30,
          60,
          100,
          20,
          20,
          20,
          50,
          20,
          60,
          100,
          50,
          195,
          65,
          70,
          50,
          100,
          60,
          195,
          75,
          30,
          145,
          120,
          200,
          95,
          50,
          50,
          25,
          25,
          40,
          195,
          195,
          65,
          75,
          145,
          35,
          50,
          100,
          50,
          20,
          20,
          100,
          50,
          100,
          25,
          60,
          50,
          40,
          200,
          120,
          45,
          115,
          25,
          20,
          50,
          55,
          30,
          30,
          50,
          40,
          50,
          0,
          45,
          195,
          55,
          75,
          90,
          20,
          20,
          25,
          0,
          100,
          20,
          50,
          40,
          50,
          195,
          30,
          40,
          20,
          195,
          40,
          40,
          20,
          30,
          200,
          20,
          20,
          50,
          95,
          40,
          20,
          110,
          20,
          200,
          60,
          200,
          150,
          100,
          115,
          25,
          20,
          150,
          20,
          95,
          50,
          100,
          100,
          195,
          125,
          40,
          30,
          200,
          115,
          60,
          50,
          50,
          50,
          75,
          20,
          125,
          25,
          60,
          20,
          25,
          35,
          25,
          30,
          120,
          150,
          120,
          20,
          200,
          20,
          20,
          200,
          200,
          50,
          200,
          40,
          50,
          30,
          50,
          200,
          50,
          200,
          105,
          50,
          35,
          45,
          80,
          20,
          150,
          200,
          50,
          200,
          95,
          25,
          20,
          100,
          20,
          55,
          20,
          60,
          85,
          35,
          20,
          30,
          40,
          50,
          25,
          85,
          95,
          200,
          50,
          20,
          20,
          50,
          40,
          195,
          200,
          200,
          50,
          50,
          200,
          195,
          20,
          50,
          85,
          95,
          25,
          30,
          200,
          200,
          20,
          85,
          20,
          40,
          35,
          30,
          35,
          20,
          150,
          35,
          195,
          100,
          20,
          30,
          100,
          20,
          20,
          100,
          100,
          100,
          145,
          50,
          25,
          50,
          60,
          25,
          20,
          50,
          45,
          125,
          20,
          25,
          20,
          20,
          95,
          75,
          50,
          195,
          20,
          20,
          20,
          200,
          195,
          30,
          20,
          50,
          20,
          45,
          75,
          20,
          40,
          35,
          35,
          195,
          20,
          30,
          70,
          35,
          45,
          200,
          50,
          200,
          50,
          120,
          20,
          40,
          35,
          85,
          75,
          195,
          50,
          125,
          195,
          50,
          35,
          200,
          40,
          25,
          95,
          150,
          40,
          40,
          95,
          20,
          40,
          20,
          20,
          50,
          25,
          20,
          115,
          30,
          35,
          30,
          95,
          35,
          65,
          35,
          30,
          120,
          85,
          40,
          20,
          50,
          85,
          20,
          85,
          65,
          105,
          120,
          20,
          95,
          20,
          50,
          200,
          40,
          85,
          20,
          145,
          95,
          200,
          60,
          75,
          20,
          50,
          200,
          40,
          75,
          115,
          40,
          50,
          180,
          85,
          45,
          20,
          145,
          35,
          40,
          195,
          50,
          60,
          30,
          95,
          75,
          120,
          65,
          50,
          185,
          200,
          100,
          95,
          50,
          40,
          145,
          30,
          200,
          145,
          45,
          50,
          85,
          175,
          75,
          40,
          145,
          40,
          45,
          95,
          20,
          95,
          100,
          60,
          95,
          95,
          195,
          20,
          95,
          50,
          95,
          20,
          40,
          200,
          20,
          40,
          125,
          45,
          45,
          30,
          95,
          145,
          50,
          50,
          50,
          200,
          60,
          35,
          45,
          40,
          195,
          50,
          150,
          20,
          20,
          150,
          35,
          40,
          50,
          20,
          55,
          20,
          20,
          95,
          200,
          50,
          40,
          200,
          35,
          185,
          40,
          80,
          50,
          95,
          25,
          40,
          50,
          95,
          200,
          50,
          125,
          35,
          125,
          25,
          200,
          20,
          200,
          30,
          100,
          40,
          145,
          40,
          35,
          50,
          65,
          40,
          150,
          95,
          125,
          50,
          95,
          25,
          30,
          50,
          40,
          100,
          50,
          85,
          100,
          40,
          35,
          165,
          95,
          125,
          50,
          50,
          200,
          20,
          20,
          50,
          50,
          30,
          175,
          200,
          25,
          200,
          200,
          35,
          100,
          30,
          200,
          40,
          125,
          100,
          200
         ],
         "yaxis": "y"
        },
        {
         "hovertemplate": "<b>OLS trendline</b><br>price = 6.35078e-05 * num_subscribers + 76.6152<br>R<sup>2</sup>=0.000195<br><br>num_subscribers=%{x}<br>price=%{y} <b>(trend)</b><extra></extra>",
         "legendgroup": "",
         "marker": {
          "symbol": "circle"
         },
         "mode": "lines",
         "name": "",
         "showlegend": false,
         "type": "scattergl",
         "x": [
          19,
          25,
          34,
          44,
          50,
          55,
          61,
          81,
          88,
          91,
          102,
          103,
          109,
          116,
          119,
          122,
          130,
          151,
          155,
          165,
          166,
          170,
          177,
          183,
          189,
          194,
          197,
          197,
          203,
          205,
          207,
          208,
          210,
          214,
          216,
          222,
          223,
          227,
          228,
          236,
          237,
          240,
          244,
          245,
          251,
          252,
          253,
          255,
          260,
          263,
          279,
          289,
          293,
          298,
          299,
          300,
          300,
          301,
          305,
          305,
          306,
          314,
          322,
          325,
          325,
          327,
          333,
          333,
          334,
          342,
          346,
          353,
          358,
          359,
          361,
          362,
          376,
          379,
          380,
          382,
          385,
          387,
          392,
          394,
          395,
          395,
          396,
          396,
          402,
          408,
          415,
          417,
          421,
          422,
          424,
          424,
          426,
          426,
          430,
          434,
          436,
          442,
          450,
          458,
          458,
          461,
          464,
          466,
          467,
          478,
          481,
          486,
          487,
          494,
          496,
          502,
          511,
          513,
          522,
          527,
          533,
          534,
          538,
          540,
          540,
          546,
          549,
          550,
          550,
          553,
          555,
          557,
          557,
          563,
          567,
          577,
          578,
          578,
          578,
          583,
          586,
          586,
          586,
          596,
          601,
          601,
          602,
          604,
          604,
          608,
          613,
          613,
          627,
          627,
          631,
          633,
          633,
          636,
          644,
          651,
          652,
          653,
          654,
          655,
          659,
          666,
          670,
          676,
          685,
          686,
          694,
          702,
          707,
          710,
          713,
          714,
          715,
          716,
          716,
          722,
          723,
          733,
          735,
          746,
          755,
          755,
          764,
          767,
          770,
          770,
          775,
          783,
          783,
          785,
          788,
          791,
          791,
          796,
          796,
          799,
          802,
          803,
          817,
          817,
          838,
          841,
          842,
          850,
          851,
          860,
          867,
          869,
          869,
          876,
          876,
          877,
          878,
          880,
          885,
          891,
          897,
          898,
          900,
          901,
          903,
          909,
          912,
          912,
          918,
          920,
          926,
          937,
          937,
          942,
          944,
          945,
          947,
          948,
          948,
          949,
          952,
          954,
          958,
          959,
          960,
          964,
          973,
          975,
          976,
          976,
          988,
          997,
          1000,
          1002,
          1002,
          1004,
          1006,
          1007,
          1010,
          1011,
          1018,
          1018,
          1020,
          1023,
          1023,
          1024,
          1030,
          1032,
          1033,
          1036,
          1040,
          1040,
          1049,
          1050,
          1052,
          1054,
          1057,
          1061,
          1062,
          1062,
          1063,
          1063,
          1069,
          1080,
          1085,
          1087,
          1087,
          1096,
          1096,
          1098,
          1102,
          1109,
          1114,
          1116,
          1117,
          1119,
          1121,
          1122,
          1125,
          1126,
          1128,
          1129,
          1130,
          1134,
          1142,
          1143,
          1147,
          1152,
          1154,
          1154,
          1156,
          1156,
          1157,
          1169,
          1186,
          1186,
          1193,
          1209,
          1209,
          1212,
          1215,
          1216,
          1220,
          1229,
          1235,
          1236,
          1237,
          1241,
          1248,
          1262,
          1266,
          1266,
          1270,
          1271,
          1272,
          1274,
          1275,
          1276,
          1282,
          1284,
          1284,
          1292,
          1294,
          1296,
          1299,
          1299,
          1301,
          1302,
          1305,
          1305,
          1309,
          1309,
          1312,
          1313,
          1316,
          1318,
          1318,
          1322,
          1322,
          1337,
          1339,
          1343,
          1346,
          1353,
          1355,
          1355,
          1367,
          1371,
          1385,
          1385,
          1386,
          1388,
          1393,
          1399,
          1404,
          1406,
          1407,
          1410,
          1414,
          1415,
          1419,
          1420,
          1421,
          1425,
          1428,
          1433,
          1437,
          1439,
          1442,
          1447,
          1448,
          1454,
          1463,
          1468,
          1469,
          1472,
          1476,
          1477,
          1478,
          1494,
          1496,
          1502,
          1515,
          1517,
          1518,
          1519,
          1520,
          1520,
          1525,
          1526,
          1532,
          1534,
          1537,
          1540,
          1544,
          1547,
          1548,
          1550,
          1550,
          1551,
          1552,
          1553,
          1554,
          1557,
          1562,
          1562,
          1566,
          1586,
          1588,
          1591,
          1599,
          1605,
          1606,
          1611,
          1611,
          1613,
          1618,
          1624,
          1626,
          1626,
          1627,
          1628,
          1634,
          1640,
          1645,
          1649,
          1653,
          1655,
          1655,
          1658,
          1658,
          1659,
          1673,
          1678,
          1683,
          1688,
          1696,
          1697,
          1699,
          1701,
          1702,
          1703,
          1703,
          1703,
          1705,
          1712,
          1723,
          1723,
          1724,
          1731,
          1732,
          1734,
          1735,
          1736,
          1737,
          1741,
          1747,
          1758,
          1763,
          1764,
          1764,
          1766,
          1769,
          1772,
          1777,
          1779,
          1780,
          1780,
          1783,
          1798,
          1802,
          1811,
          1812,
          1815,
          1822,
          1825,
          1827,
          1832,
          1838,
          1839,
          1849,
          1849,
          1853,
          1858,
          1867,
          1870,
          1871,
          1873,
          1874,
          1892,
          1894,
          1898,
          1902,
          1904,
          1905,
          1908,
          1925,
          1926,
          1935,
          1936,
          1942,
          1945,
          1948,
          1949,
          1950,
          1966,
          1967,
          1975,
          1993,
          1995,
          2002,
          2007,
          2012,
          2023,
          2025,
          2039,
          2051,
          2052,
          2063,
          2071,
          2073,
          2074,
          2076,
          2076,
          2083,
          2086,
          2091,
          2097,
          2097,
          2104,
          2134,
          2142,
          2145,
          2152,
          2160,
          2164,
          2177,
          2178,
          2184,
          2185,
          2195,
          2197,
          2200,
          2204,
          2214,
          2215,
          2225,
          2227,
          2234,
          2238,
          2243,
          2244,
          2267,
          2273,
          2273,
          2281,
          2296,
          2299,
          2306,
          2311,
          2314,
          2320,
          2335,
          2342,
          2346,
          2351,
          2353,
          2354,
          2355,
          2360,
          2362,
          2371,
          2382,
          2388,
          2389,
          2390,
          2401,
          2402,
          2409,
          2412,
          2421,
          2430,
          2437,
          2459,
          2464,
          2470,
          2472,
          2472,
          2494,
          2497,
          2510,
          2520,
          2526,
          2528,
          2532,
          2547,
          2558,
          2565,
          2570,
          2573,
          2577,
          2578,
          2596,
          2606,
          2607,
          2626,
          2635,
          2641,
          2643,
          2643,
          2649,
          2650,
          2650,
          2652,
          2660,
          2669,
          2687,
          2697,
          2698,
          2706,
          2721,
          2743,
          2749,
          2753,
          2755,
          2760,
          2760,
          2780,
          2783,
          2784,
          2784,
          2786,
          2789,
          2797,
          2804,
          2814,
          2814,
          2837,
          2853,
          2859,
          2865,
          2875,
          2888,
          2912,
          2918,
          2919,
          2964,
          2965,
          2971,
          2985,
          3011,
          3012,
          3015,
          3026,
          3033,
          3073,
          3086,
          3106,
          3118,
          3119,
          3133,
          3142,
          3150,
          3169,
          3179,
          3185,
          3193,
          3209,
          3227,
          3249,
          3252,
          3254,
          3258,
          3271,
          3295,
          3299,
          3323,
          3324,
          3357,
          3357,
          3380,
          3388,
          3392,
          3397,
          3399,
          3411,
          3415,
          3420,
          3444,
          3461,
          3485,
          3492,
          3493,
          3503,
          3539,
          3541,
          3559,
          3571,
          3590,
          3601,
          3619,
          3632,
          3652,
          3655,
          3688,
          3694,
          3697,
          3699,
          3701,
          3704,
          3757,
          3759,
          3766,
          3770,
          3782,
          3784,
          3801,
          3831,
          3854,
          3877,
          3883,
          3887,
          3894,
          3898,
          3903,
          3933,
          3960,
          4001,
          4010,
          4011,
          4020,
          4028,
          4030,
          4033,
          4040,
          4057,
          4076,
          4090,
          4106,
          4115,
          4123,
          4123,
          4128,
          4138,
          4144,
          4157,
          4183,
          4183,
          4193,
          4198,
          4259,
          4290,
          4306,
          4333,
          4375,
          4405,
          4407,
          4409,
          4410,
          4442,
          4447,
          4463,
          4499,
          4503,
          4529,
          4537,
          4563,
          4569,
          4587,
          4616,
          4628,
          4645,
          4675,
          4687,
          4689,
          4708,
          4714,
          4720,
          4732,
          4735,
          4743,
          4783,
          4797,
          4820,
          4830,
          4839,
          4848,
          4848,
          4867,
          4872,
          4892,
          4905,
          4957,
          5004,
          5014,
          5022,
          5026,
          5052,
          5056,
          5065,
          5077,
          5085,
          5089,
          5097,
          5117,
          5125,
          5129,
          5143,
          5151,
          5177,
          5181,
          5211,
          5228,
          5263,
          5272,
          5279,
          5301,
          5318,
          5324,
          5328,
          5332,
          5335,
          5351,
          5368,
          5387,
          5397,
          5398,
          5421,
          5439,
          5456,
          5484,
          5495,
          5533,
          5542,
          5547,
          5549,
          5559,
          5603,
          5715,
          5738,
          5739,
          5795,
          5800,
          5809,
          5811,
          5921,
          5962,
          6000,
          6008,
          6073,
          6082,
          6117,
          6134,
          6134,
          6153,
          6162,
          6293,
          6315,
          6402,
          6412,
          6413,
          6420,
          6437,
          6474,
          6497,
          6508,
          6510,
          6527,
          6548,
          6588,
          6601,
          6628,
          6636,
          6648,
          6742,
          6751,
          6760,
          6851,
          6856,
          6890,
          6909,
          6937,
          6958,
          7014,
          7017,
          7018,
          7055,
          7057,
          7059,
          7062,
          7090,
          7130,
          7130,
          7142,
          7146,
          7169,
          7184,
          7196,
          7211,
          7213,
          7304,
          7318,
          7331,
          7368,
          7375,
          7380,
          7407,
          7416,
          7438,
          7449,
          7449,
          7484,
          7489,
          7501,
          7517,
          7660,
          7706,
          7720,
          7741,
          7785,
          7789,
          7827,
          7852,
          7865,
          7867,
          7884,
          7905,
          7922,
          8059,
          8067,
          8234,
          8320,
          8337,
          8371,
          8415,
          8462,
          8496,
          8577,
          8592,
          8594,
          8625,
          8691,
          8693,
          8711,
          8711,
          8755,
          8768,
          8770,
          8777,
          8964,
          8968,
          9028,
          9056,
          9067,
          9103,
          9109,
          9110,
          9132,
          9332,
          9349,
          9355,
          9359,
          9364,
          9375,
          9381,
          9384,
          9421,
          9425,
          9554,
          9607,
          9668,
          9687,
          9762,
          9773,
          9786,
          9831,
          9832,
          9833,
          9881,
          9945,
          10008,
          10103,
          10110,
          10150,
          10179,
          10179,
          10247,
          10394,
          10518,
          10576,
          10606,
          10610,
          10674,
          10689,
          10780,
          10864,
          10874,
          10890,
          10917,
          10945,
          11011,
          11026,
          11026,
          11080,
          11167,
          11167,
          11170,
          11170,
          11262,
          11285,
          11285,
          11339,
          11384,
          11492,
          11533,
          11536,
          11574,
          11643,
          11666,
          11758,
          11812,
          11832,
          11847,
          11892,
          12021,
          12068,
          12105,
          12201,
          12293,
          12328,
          12336,
          12366,
          12368,
          12458,
          12563,
          12629,
          12781,
          12815,
          12838,
          12873,
          12882,
          12893,
          12952,
          12953,
          12974,
          13010,
          13016,
          13130,
          13210,
          13242,
          13406,
          13439,
          13457,
          13535,
          13708,
          13882,
          13920,
          13960,
          14026,
          14074,
          14103,
          14118,
          14254,
          14260,
          14551,
          14606,
          14813,
          14842,
          15064,
          15092,
          15106,
          15134,
          15187,
          15276,
          15462,
          15493,
          15715,
          15724,
          16158,
          16212,
          16282,
          16409,
          16486,
          16527,
          16590,
          16731,
          16829,
          16926,
          17071,
          17113,
          17297,
          17334,
          17463,
          17554,
          17671,
          17714,
          17759,
          17784,
          17802,
          17895,
          18101,
          18143,
          18170,
          18324,
          18496,
          18777,
          18818,
          19210,
          19909,
          20073,
          20652,
          20890,
          21087,
          21147,
          21245,
          21653,
          21682,
          21689,
          21730,
          21998,
          22213,
          22355,
          22623,
          22999,
          23412,
          23572,
          23669,
          23764,
          24575,
          24861,
          24978,
          25799,
          25854,
          25864,
          26541,
          26673,
          26697,
          26800,
          27801,
          28125,
          28694,
          28880,
          29348,
          29990,
          30531,
          31070,
          31499,
          32260,
          32696,
          33677,
          33788,
          35267,
          36322,
          37141,
          40070,
          41478,
          43285,
          43977,
          47062,
          47886,
          48650,
          50815,
          51257,
          55332,
          57422,
          58208,
          59361,
          59639,
          64128,
          69186,
          70773,
          72932,
          73110,
          73783,
          79612,
          83737,
          84897,
          98867,
          114512,
          120291,
          121584,
          161029,
          268923
         ],
         "xaxis": "x",
         "y": [
          76.61640611016037,
          76.61678715689679,
          76.61735872700143,
          76.61799380489548,
          76.6183748516319,
          76.61869239057893,
          76.61907343731535,
          76.62034359310344,
          76.62078814762927,
          76.62097867099749,
          76.62167725668093,
          76.62174076447033,
          76.62212181120677,
          76.6225663657326,
          76.6227568891008,
          76.62294741246902,
          76.62345547478425,
          76.62478913836175,
          76.62504316951936,
          76.6256782474134,
          76.62574175520281,
          76.62599578636043,
          76.62644034088626,
          76.62682138762268,
          76.6272024343591,
          76.62751997330614,
          76.62771049667435,
          76.62771049667435,
          76.62809154341078,
          76.62821855898959,
          76.62834557456839,
          76.62840908235779,
          76.6285360979366,
          76.62879012909423,
          76.62891714467303,
          76.62929819140946,
          76.62936169919887,
          76.62961573035648,
          76.62967923814588,
          76.63018730046112,
          76.63025080825052,
          76.63044133161874,
          76.63069536277635,
          76.63075887056576,
          76.63113991730218,
          76.63120342509158,
          76.63126693288099,
          76.6313939484598,
          76.63171148740682,
          76.63190201077504,
          76.6329181354055,
          76.63355321329955,
          76.63380724445717,
          76.63412478340419,
          76.6341882911936,
          76.634251798983,
          76.634251798983,
          76.63431530677241,
          76.63456933793002,
          76.63456933793002,
          76.63463284571942,
          76.63514090803466,
          76.63564897034989,
          76.63583949371811,
          76.63583949371811,
          76.63596650929692,
          76.63634755603334,
          76.63634755603334,
          76.63641106382275,
          76.63691912613798,
          76.6371731572956,
          76.63761771182143,
          76.63793525076845,
          76.63799875855786,
          76.63812577413667,
          76.63818928192607,
          76.63907839097773,
          76.63926891434595,
          76.63933242213535,
          76.63945943771415,
          76.63964996108237,
          76.63977697666118,
          76.6400945156082,
          76.64022153118701,
          76.64028503897642,
          76.64028503897642,
          76.64034854676582,
          76.64034854676582,
          76.64072959350224,
          76.64111064023867,
          76.6415551947645,
          76.6416822103433,
          76.64193624150093,
          76.64199974929033,
          76.64212676486915,
          76.64212676486915,
          76.64225378044794,
          76.64225378044794,
          76.64250781160557,
          76.64276184276319,
          76.64288885834199,
          76.64326990507843,
          76.64377796739366,
          76.6442860297089,
          76.6442860297089,
          76.6444765530771,
          76.64466707644532,
          76.64479409202413,
          76.64485759981353,
          76.64555618549699,
          76.64574670886519,
          76.64606424781222,
          76.64612775560161,
          76.64657231012745,
          76.64669932570625,
          76.64708037244269,
          76.64765194254733,
          76.64777895812614,
          76.64835052823078,
          76.6486680671778,
          76.64904911391422,
          76.64911262170362,
          76.64936665286125,
          76.64949366844004,
          76.64949366844004,
          76.64987471517648,
          76.65006523854468,
          76.65012874633409,
          76.65012874633409,
          76.65031926970231,
          76.65044628528112,
          76.65057330085993,
          76.65057330085993,
          76.65095434759635,
          76.65120837875396,
          76.65184345664801,
          76.65190696443742,
          76.65190696443742,
          76.65190696443742,
          76.65222450338445,
          76.65241502675265,
          76.65241502675265,
          76.65241502675265,
          76.6530501046467,
          76.65336764359373,
          76.65336764359373,
          76.65343115138312,
          76.65355816696193,
          76.65355816696193,
          76.65381219811955,
          76.65412973706657,
          76.65412973706657,
          76.65501884611824,
          76.65501884611824,
          76.65527287727585,
          76.65539989285466,
          76.65539989285466,
          76.65559041622288,
          76.65609847853811,
          76.65654303306394,
          76.65660654085335,
          76.65667004864275,
          76.65673355643214,
          76.65679706422155,
          76.65705109537917,
          76.657495649905,
          76.65774968106263,
          76.65813072779905,
          76.65870229790369,
          76.6587658056931,
          76.65927386800833,
          76.65978193032356,
          76.66009946927058,
          76.6602899926388,
          76.66048051600701,
          76.66054402379642,
          76.66060753158582,
          76.66067103937522,
          76.66067103937522,
          76.66105208611165,
          76.66111559390106,
          76.66175067179509,
          76.6618776873739,
          76.66257627305735,
          76.663147843162,
          76.663147843162,
          76.66371941326663,
          76.66390993663485,
          76.66410046000306,
          76.66410046000306,
          76.66441799895009,
          76.66492606126532,
          76.66492606126532,
          76.66505307684413,
          76.66524360021234,
          76.66543412358055,
          76.66543412358055,
          76.66575166252757,
          76.66575166252757,
          76.66594218589579,
          76.666132709264,
          76.6661962170534,
          76.66708532610507,
          76.66708532610507,
          76.66841898968255,
          76.66860951305077,
          76.66867302084017,
          76.66918108315541,
          76.66924459094481,
          76.66981616104945,
          76.67026071557528,
          76.6703877311541,
          76.6703877311541,
          76.67083228567992,
          76.67083228567992,
          76.67089579346933,
          76.67095930125873,
          76.67108631683755,
          76.67140385578456,
          76.67178490252098,
          76.67216594925742,
          76.67222945704683,
          76.67235647262562,
          76.67241998041503,
          76.67254699599384,
          76.67292804273026,
          76.67311856609848,
          76.67311856609848,
          76.6734996128349,
          76.67362662841371,
          76.67400767515014,
          76.67470626083359,
          76.67470626083359,
          76.67502379978062,
          76.67515081535942,
          76.67521432314882,
          76.67534133872763,
          76.67540484651704,
          76.67540484651704,
          76.67546835430645,
          76.67565887767465,
          76.67578589325346,
          76.67603992441109,
          76.67610343220049,
          76.6761669399899,
          76.67642097114751,
          76.67699254125215,
          76.67711955683096,
          76.67718306462037,
          76.67718306462037,
          76.67794515809321,
          76.67851672819785,
          76.67870725156607,
          76.67883426714488,
          76.67883426714488,
          76.67896128272369,
          76.67908829830249,
          76.6791518060919,
          76.67934232946011,
          76.67940583724952,
          76.67985039177535,
          76.67985039177535,
          76.67997740735416,
          76.68016793072236,
          76.68016793072236,
          76.68023143851177,
          76.6806124852482,
          76.680739500827,
          76.68080300861641,
          76.68099353198463,
          76.68124756314224,
          76.68124756314224,
          76.68181913324688,
          76.68188264103628,
          76.6820096566151,
          76.6821366721939,
          76.68232719556212,
          76.68258122671973,
          76.68264473450914,
          76.68264473450914,
          76.68270824229855,
          76.68270824229855,
          76.68308928903497,
          76.68378787471842,
          76.68410541366543,
          76.68423242924425,
          76.68423242924425,
          76.68480399934889,
          76.68480399934889,
          76.6849310149277,
          76.68518504608531,
          76.68562960061115,
          76.68594713955817,
          76.68607415513698,
          76.68613766292638,
          76.68626467850518,
          76.686391694084,
          76.6864552018734,
          76.68664572524162,
          76.68670923303102,
          76.68683624860982,
          76.68689975639923,
          76.68696326418863,
          76.68721729534626,
          76.68772535766149,
          76.6877888654509,
          76.68804289660851,
          76.68836043555554,
          76.68848745113434,
          76.68848745113434,
          76.68861446671315,
          76.68861446671315,
          76.68867797450255,
          76.68944006797541,
          76.69051970039528,
          76.69051970039528,
          76.69096425492111,
          76.69198037955158,
          76.69198037955158,
          76.6921709029198,
          76.69236142628802,
          76.69242493407741,
          76.69267896523503,
          76.69325053533967,
          76.6936315820761,
          76.6936950898655,
          76.6937585976549,
          76.69401262881253,
          76.69445718333836,
          76.69534629239001,
          76.69560032354764,
          76.69560032354764,
          76.69585435470525,
          76.69591786249465,
          76.69598137028406,
          76.69610838586287,
          76.69617189365228,
          76.69623540144168,
          76.6966164481781,
          76.69674346375692,
          76.69674346375692,
          76.69725152607215,
          76.69737854165096,
          76.69750555722976,
          76.69769608059798,
          76.69769608059798,
          76.69782309617679,
          76.6978866039662,
          76.6980771273344,
          76.6980771273344,
          76.69833115849202,
          76.69833115849202,
          76.69852168186023,
          76.69858518964963,
          76.69877571301785,
          76.69890272859666,
          76.69890272859666,
          76.69915675975427,
          76.69915675975427,
          76.70010937659535,
          76.70023639217415,
          76.70049042333177,
          76.70068094669999,
          76.70112550122582,
          76.70125251680463,
          76.70125251680463,
          76.70201461027747,
          76.7022686414351,
          76.70315775048675,
          76.70315775048675,
          76.70322125827616,
          76.70334827385497,
          76.70366581280199,
          76.70404685953842,
          76.70436439848544,
          76.70449141406425,
          76.70455492185366,
          76.70474544522186,
          76.70499947637948,
          76.70506298416889,
          76.7053170153265,
          76.7053805231159,
          76.70544403090531,
          76.70569806206294,
          76.70588858543114,
          76.70620612437817,
          76.70646015553578,
          76.70658717111459,
          76.70677769448281,
          76.70709523342983,
          76.70715874121923,
          76.70753978795565,
          76.7081113580603,
          76.70842889700732,
          76.70849240479673,
          76.70868292816493,
          76.70893695932256,
          76.70900046711196,
          76.70906397490137,
          76.71008009953184,
          76.71020711511063,
          76.71058816184707,
          76.71141376310932,
          76.71154077868813,
          76.71160428647754,
          76.71166779426694,
          76.71173130205635,
          76.71173130205635,
          76.71204884100337,
          76.71211234879277,
          76.7124933955292,
          76.712620411108,
          76.71281093447622,
          76.71300145784443,
          76.71325548900205,
          76.71344601237027,
          76.71350952015968,
          76.71363653573847,
          76.71363653573847,
          76.71370004352788,
          76.71376355131729,
          76.71382705910669,
          76.7138905668961,
          76.71408109026432,
          76.71439862921133,
          76.71439862921133,
          76.71465266036896,
          76.71592281615703,
          76.71604983173584,
          76.71624035510406,
          76.7167484174193,
          76.71712946415572,
          76.71719297194512,
          76.71751051089214,
          76.71751051089214,
          76.71763752647095,
          76.71795506541798,
          76.7183361121544,
          76.71846312773322,
          76.71846312773322,
          76.71852663552262,
          76.71859014331201,
          76.71897119004845,
          76.71935223678487,
          76.7196697757319,
          76.71992380688951,
          76.72017783804714,
          76.72030485362593,
          76.72030485362593,
          76.72049537699415,
          76.72049537699415,
          76.72055888478356,
          76.72144799383521,
          76.72176553278224,
          76.72208307172926,
          76.72240061067629,
          76.72290867299152,
          76.72297218078093,
          76.72309919635973,
          76.72322621193854,
          76.72328971972794,
          76.72335322751735,
          76.72335322751735,
          76.72335322751735,
          76.72348024309616,
          76.72392479762199,
          76.72462338330544,
          76.72462338330544,
          76.72468689109485,
          76.72513144562068,
          76.72519495341008,
          76.72532196898888,
          76.72538547677829,
          76.72544898456769,
          76.7255124923571,
          76.72576652351472,
          76.72614757025114,
          76.7268461559346,
          76.72716369488161,
          76.72722720267102,
          76.72722720267102,
          76.72735421824983,
          76.72754474161803,
          76.72773526498625,
          76.72805280393327,
          76.72817981951208,
          76.72824332730148,
          76.72824332730148,
          76.7284338506697,
          76.72938646751076,
          76.72964049866839,
          76.73021206877303,
          76.73027557656242,
          76.73046609993064,
          76.73091065445647,
          76.73110117782468,
          76.7312281934035,
          76.73154573235051,
          76.73192677908695,
          76.73199028687634,
          76.73262536477039,
          76.73262536477039,
          76.73287939592801,
          76.73319693487502,
          76.73376850497966,
          76.73395902834788,
          76.73402253613729,
          76.7341495517161,
          76.73421305950549,
          76.73535619971477,
          76.73548321529358,
          76.73573724645121,
          76.73599127760882,
          76.73611829318763,
          76.73618180097704,
          76.73637232434525,
          76.73745195676513,
          76.73751546455452,
          76.73808703465916,
          76.73815054244857,
          76.738531589185,
          76.7387221125532,
          76.73891263592142,
          76.73897614371083,
          76.73903965150024,
          76.7400557761307,
          76.74011928392011,
          76.74062734623534,
          76.74177048644462,
          76.74189750202343,
          76.74234205654926,
          76.74265959549628,
          76.74297713444331,
          76.74367572012675,
          76.74380273570556,
          76.74469184475723,
          76.74545393823007,
          76.74551744601948,
          76.74621603170293,
          76.74672409401816,
          76.74685110959697,
          76.74691461738638,
          76.74704163296518,
          76.74704163296518,
          76.74748618749102,
          76.74767671085922,
          76.74799424980625,
          76.74837529654268,
          76.74837529654268,
          76.7488198510685,
          76.75072508475064,
          76.75123314706588,
          76.7514236704341,
          76.75186822495992,
          76.75237628727515,
          76.75263031843276,
          76.75345591969503,
          76.75351942748443,
          76.75390047422086,
          76.75396398201026,
          76.75459905990431,
          76.75472607548312,
          76.75491659885132,
          76.75517063000895,
          76.755805707903,
          76.7558692156924,
          76.75650429358643,
          76.75663130916524,
          76.75707586369107,
          76.7573298948487,
          76.75764743379571,
          76.75771094158512,
          76.75917162074143,
          76.75955266747785,
          76.75955266747785,
          76.76006072979308,
          76.76101334663414,
          76.76120387000236,
          76.76164842452819,
          76.76196596347522,
          76.76215648684342,
          76.76253753357986,
          76.76349015042092,
          76.76393470494675,
          76.76418873610437,
          76.76450627505139,
          76.7646332906302,
          76.7646967984196,
          76.76476030620901,
          76.76507784515603,
          76.76520486073484,
          76.76577643083948,
          76.76647501652293,
          76.76685606325935,
          76.76691957104876,
          76.76698307883817,
          76.7676816645216,
          76.76774517231101,
          76.76818972683684,
          76.76838025020506,
          76.7689518203097,
          76.76952339041434,
          76.76996794494016,
          76.77136511630707,
          76.77168265525408,
          76.7720637019905,
          76.77219071756932,
          76.77219071756932,
          76.77358788893622,
          76.77377841230442,
          76.77460401356669,
          76.77523909146073,
          76.77562013819716,
          76.77574715377597,
          76.77600118493358,
          76.77695380177465,
          76.77765238745809,
          76.77809694198393,
          76.77841448093095,
          76.77860500429917,
          76.77885903545678,
          76.77892254324618,
          76.78006568345546,
          76.78070076134951,
          76.78076426913891,
          76.7819709171376,
          76.78254248724224,
          76.78292353397866,
          76.78305054955747,
          76.78305054955747,
          76.7834315962939,
          76.7834951040833,
          76.7834951040833,
          76.78362211966211,
          76.78413018197735,
          76.78470175208199,
          76.78584489229127,
          76.78647997018531,
          76.7865434779747,
          76.78705154028995,
          76.78800415713101,
          76.7894013284979,
          76.78978237523434,
          76.79003640639195,
          76.79016342197076,
          76.79048096091778,
          76.79048096091778,
          76.79175111670587,
          76.79194164007409,
          76.79200514786349,
          76.79200514786349,
          76.79213216344229,
          76.79232268681051,
          76.79283074912574,
          76.79327530365157,
          76.79391038154561,
          76.79391038154561,
          76.79537106070192,
          76.79638718533239,
          76.79676823206881,
          76.79714927880524,
          76.79778435669928,
          76.79860995796155,
          76.80013414490725,
          76.80051519164367,
          76.80057869943307,
          76.80343654995627,
          76.80350005774568,
          76.8038811044821,
          76.80477021353377,
          76.80642141605828,
          76.80648492384769,
          76.8066754472159,
          76.80737403289935,
          76.80781858742517,
          76.81035889900136,
          76.81118450026361,
          76.8124546560517,
          76.81321674952456,
          76.81328025731396,
          76.81416936636562,
          76.81474093647026,
          76.81524899878549,
          76.81645564678418,
          76.81709072467822,
          76.81747177141465,
          76.81797983372988,
          76.81899595836035,
          76.82013909856963,
          76.82153626993653,
          76.82172679330473,
          76.82185380888355,
          76.82210784004117,
          76.82293344130342,
          76.82445762824912,
          76.82471165940674,
          76.82623584635245,
          76.82629935414185,
          76.8283951111922,
          76.8283951111922,
          76.8298557903485,
          76.83036385266374,
          76.83061788382135,
          76.83093542276838,
          76.83106243834719,
          76.83182453182003,
          76.83207856297766,
          76.83239610192467,
          76.83392028887037,
          76.83499992129026,
          76.83652410823596,
          76.83696866276179,
          76.8370321705512,
          76.83766724844524,
          76.8399535288638,
          76.8400805444426,
          76.84122368465188,
          76.84198577812474,
          76.84319242612342,
          76.84389101180687,
          76.84503415201615,
          76.8458597532784,
          76.8471299090665,
          76.8473204324347,
          76.84941618948505,
          76.84979723622148,
          76.8499877595897,
          76.85011477516849,
          76.8502417907473,
          76.85043231411552,
          76.85379822695396,
          76.85392524253277,
          76.8543697970586,
          76.8546238282162,
          76.85538592168906,
          76.85551293726787,
          76.85659256968775,
          76.85849780336987,
          76.85995848252618,
          76.86141916168248,
          76.8618002084189,
          76.86205423957652,
          76.86249879410235,
          76.86275282525997,
          76.86307036420699,
          76.86497559788913,
          76.86669030820305,
          76.86929412756862,
          76.86986569767326,
          76.86992920546267,
          76.87050077556731,
          76.87100883788254,
          76.87113585346135,
          76.87132637682956,
          76.8717709313554,
          76.87285056377527,
          76.87405721177394,
          76.87494632082561,
          76.87596244545608,
          76.87653401556072,
          76.87704207787596,
          76.87704207787596,
          76.87735961682299,
          76.87799469471702,
          76.87837574145345,
          76.8792013427157,
          76.88085254524022,
          76.88085254524022,
          76.88148762313426,
          76.88180516208129,
          76.88567913723496,
          76.88764787870649,
          76.88866400333696,
          76.89037871365088,
          76.89304604080586,
          76.894951274488,
          76.8950782900668,
          76.8952053056456,
          76.89526881343501,
          76.89730106269596,
          76.89761860164298,
          76.89863472627344,
          76.900921006692,
          76.90117503784963,
          76.90282624037414,
          76.90333430268937,
          76.90498550521389,
          76.90536655195031,
          76.90650969215959,
          76.90835141805232,
          76.90911351152518,
          76.91019314394505,
          76.91209837762717,
          76.91286047110003,
          76.91298748667884,
          76.91419413467752,
          76.91457518141395,
          76.91495622815037,
          76.91571832162323,
          76.91590884499143,
          76.91641690730667,
          76.91895721888285,
          76.91984632793451,
          76.92130700709082,
          76.92194208498486,
          76.92251365508949,
          76.92308522519413,
          76.92308522519413,
          76.92429187319281,
          76.92460941213984,
          76.92587956792792,
          76.92670516919019,
          76.93000757423921,
          76.93299244034122,
          76.93362751823527,
          76.9341355805505,
          76.93438961170811,
          76.93604081423263,
          76.93629484539025,
          76.93686641549489,
          76.93762850896773,
          76.93813657128297,
          76.93839060244059,
          76.93889866475583,
          76.94016882054392,
          76.94067688285915,
          76.94093091401676,
          76.94182002306843,
          76.94232808538366,
          76.94397928790818,
          76.94423331906579,
          76.94613855274793,
          76.9472181851678,
          76.94944095779695,
          76.95001252790159,
          76.95045708242742,
          76.95185425379432,
          76.9529338862142,
          76.95331493295062,
          76.95356896410824,
          76.95382299526585,
          76.95401351863407,
          76.95502964326454,
          76.95610927568441,
          76.9573159236831,
          76.95795100157714,
          76.95801450936655,
          76.95947518852284,
          76.96061832873212,
          76.961697961152,
          76.96347617925532,
          76.96417476493878,
          76.96658806093613,
          76.96715963104077,
          76.9674771699878,
          76.96760418556661,
          76.96823926346065,
          76.97103360619444,
          76.97814647860774,
          76.97960715776404,
          76.97967066555344,
          76.9832271017601,
          76.98354464070711,
          76.98411621081175,
          76.98424322639056,
          76.99122908322504,
          76.99383290259061,
          76.99624619858798,
          76.99675426090322,
          77.00088226721451,
          77.00145383731915,
          77.0036766099483,
          77.00475624236817,
          77.00475624236817,
          77.00596289036686,
          77.0065344604715,
          77.01485398088347,
          77.01625115225036,
          77.02177632992854,
          77.02241140782259,
          77.022474915612,
          77.02291947013782,
          77.0239991025577,
          77.02634889076566,
          77.02780956992197,
          77.02850815560541,
          77.02863517118422,
          77.0297148036041,
          77.03104846718159,
          77.03358877875776,
          77.03441438002002,
          77.03612909033394,
          77.03663715264918,
          77.03739924612202,
          77.04336897832604,
          77.04394054843068,
          77.04451211853532,
          77.05029132737111,
          77.05060886631814,
          77.05276813115789,
          77.05397477915658,
          77.05575299725989,
          77.05708666083738,
          77.06064309704404,
          77.06083362041224,
          77.06089712820165,
          77.06324691640961,
          77.06337393198842,
          77.06350094756722,
          77.06369147093544,
          77.06546968903876,
          77.06801000061493,
          77.06801000061493,
          77.06877209408779,
          77.06902612524541,
          77.07048680440171,
          77.07143942124277,
          77.07220151471563,
          77.07315413155669,
          77.0732811471355,
          77.07906035597131,
          77.07994946502296,
          77.08077506628521,
          77.08312485449318,
          77.083569409019,
          77.08388694796604,
          77.08560165827996,
          77.0861732283846,
          77.08757039975148,
          77.08826898543494,
          77.08826898543494,
          77.09049175806409,
          77.0908092970111,
          77.09157139048396,
          77.09258751511443,
          77.10166912899926,
          77.10459048731187,
          77.10547959636352,
          77.10681325994102,
          77.10960760267481,
          77.10986163383242,
          77.1122749298298,
          77.1138626245649,
          77.11468822582717,
          77.11481524140596,
          77.11589487382584,
          77.11722853740334,
          77.11830816982321,
          77.1270087369716,
          77.12751679928685,
          77.13812260011738,
          77.14358427000616,
          77.14466390242603,
          77.14682316726578,
          77.14961750999957,
          77.15260237610158,
          77.15476164094133,
          77.15990577188307,
          77.16085838872415,
          77.16098540430295,
          77.16295414577449,
          77.16714565987517,
          77.16727267545399,
          77.16841581566327,
          77.16841581566327,
          77.17121015839706,
          77.17203575965932,
          77.17216277523812,
          77.17260732976396,
          77.18448328638257,
          77.1847373175402,
          77.18854778490446,
          77.19032600300778,
          77.19102458869123,
          77.19331086910978,
          77.19369191584622,
          77.19375542363562,
          77.19515259500251,
          77.20785415288339,
          77.20893378530326,
          77.2093148320397,
          77.2095688631973,
          77.20988640214433,
          77.21058498782777,
          77.21096603456421,
          77.21115655793241,
          77.21350634614038,
          77.213760377298,
          77.22195288213116,
          77.2253187949696,
          77.22919277012326,
          77.23039941812195,
          77.23516250232727,
          77.23586108801072,
          77.23668668927299,
          77.23954453979619,
          77.23960804758558,
          77.23967155537498,
          77.2427199292664,
          77.24678442778828,
          77.25078541852075,
          77.25681865851418,
          77.25726321304,
          77.25980352461617,
          77.2616452505089,
          77.2616452505089,
          77.2659637801884,
          77.27529942523084,
          77.28317439111699,
          77.28685784290245,
          77.28876307658457,
          77.2890171077422,
          77.29308160626407,
          77.29403422310514,
          77.29981343194093,
          77.30514808625091,
          77.30578316414496,
          77.30679928877542,
          77.30851399908934,
          77.31029221719267,
          77.31448373129335,
          77.31543634813441,
          77.31543634813441,
          77.31886576876225,
          77.32439094644043,
          77.32439094644043,
          77.32458146980865,
          77.32458146980865,
          77.33042418643385,
          77.33188486559015,
          77.33188486559015,
          77.335314286218,
          77.33817213674119,
          77.34503097799686,
          77.34763479736245,
          77.34782532073065,
          77.35023861672802,
          77.35462065419692,
          77.35608133335322,
          77.36192404997843,
          77.36535347060627,
          77.36662362639434,
          77.36757624323542,
          77.37043409375862,
          77.37862659859178,
          77.38161146469379,
          77.38396125290174,
          77.39005800068456,
          77.39590071730977,
          77.39812348993892,
          77.39863155225416,
          77.4005367859363,
          77.4006638015151,
          77.40637950256149,
          77.41304782044895,
          77.41723933454965,
          77.4268925185391,
          77.42905178337885,
          77.43051246253516,
          77.43273523516432,
          77.43330680526896,
          77.43400539095241,
          77.43775235052726,
          77.43781585831667,
          77.43914952189415,
          77.44143580231271,
          77.44181684904915,
          77.44905673704125,
          77.45413736019358,
          77.45616960945453,
          77.46658488691685,
          77.46868064396719,
          77.46982378417647,
          77.47477739175001,
          77.48576423931698,
          77.49681459467334,
          77.4992278906707,
          77.50176820224688,
          77.50595971634756,
          77.50900809023898,
          77.51084981613171,
          77.51180243297277,
          77.52043949233176,
          77.5208205390682,
          77.53930130578487,
          77.5427942342021,
          77.55594034660882,
          77.55778207250154,
          77.57188080174932,
          77.57365901985264,
          77.5745481289043,
          77.57632634700762,
          77.57969225984606,
          77.58534445310305,
          77.59715690193227,
          77.5991256434038,
          77.61322437265157,
          77.61379594275621,
          77.64135832335771,
          77.64478774398555,
          77.64923328924385,
          77.65729877849822,
          77.66218887828235,
          77.66479269764793,
          77.6687936883804,
          77.67774828668642,
          77.68397205004806,
          77.69013230562028,
          77.69934093508391,
          77.7020082622389,
          77.71369369548931,
          77.71604348369726,
          77.72423598853044,
          77.73001519736623,
          77.73744560872655,
          77.74017644367093,
          77.74303429419413,
          77.74462198892924,
          77.74576512913852,
          77.75167135355312,
          77.76475395817043,
          77.76742128532541,
          77.76913599563933,
          77.77891619520761,
          77.78983953498516,
          77.8076852238078,
          77.81028904317337,
          77.8351840966199,
          77.87957604141356,
          77.88999131887587,
          77.92676232894101,
          77.94187718281925,
          77.95438821733192,
          77.95819868469619,
          77.96442244805782,
          77.9903336261348,
          77.99217535202753,
          77.99261990655336,
          77.99522372591893,
          78.01224381347932,
          78.02589798820125,
          78.03491609429668,
          78.05193618185706,
          78.0758151106731,
          78.10204382769712,
          78.1122050740018,
          78.11836532957403,
          78.12439856956746,
          78.17590338677441,
          78.19406661454406,
          78.20149702590437,
          78.25363692100538,
          78.25712984942261,
          78.25776492731666,
          78.30075970074343,
          78.3091427289448,
          78.31066691589051,
          78.31720821819916,
          78.38077951539294,
          78.40135603915996,
          78.43749197133107,
          78.44930442016027,
          78.47902606560153,
          78.51979806639915,
          78.55415578046691,
          78.58838647895588,
          78.61563132061036,
          78.6639607483471,
          78.69165014452742,
          78.75395128593311,
          78.761000650557,
          78.85492867108607,
          78.9219293889077,
          78.9739422684299,
          79.15995658359533,
          79.24937555107671,
          79.36413412653043,
          79.40808151679826,
          79.60400304711078,
          79.65633346557999,
          79.70485341668494,
          79.84234778074543,
          79.87041822366217,
          80.12921246548504,
          80.26194374534019,
          80.31186086781204,
          80.38508534899529,
          80.40274051444972,
          80.68782698108599,
          81.00904937989337,
          81.10983624167812,
          81.24694955900219,
          81.25825394551616,
          81.30099468778532,
          81.67118159222346,
          81.93315122351655,
          82.00682025922563,
          82.89402407720488,
          83.88760344243646,
          84.25461495740439,
          84.33673052910424,
          86.84179528216016,
          93.69390471215672
         ],
         "yaxis": "y"
        }
       ],
       "layout": {
        "coloraxis": {
         "colorbar": {
          "title": {
           "text": "price"
          }
         },
         "colorscale": [
          [
           0,
           "#0d0887"
          ],
          [
           0.1111111111111111,
           "#46039f"
          ],
          [
           0.2222222222222222,
           "#7201a8"
          ],
          [
           0.3333333333333333,
           "#9c179e"
          ],
          [
           0.4444444444444444,
           "#bd3786"
          ],
          [
           0.5555555555555556,
           "#d8576b"
          ],
          [
           0.6666666666666666,
           "#ed7953"
          ],
          [
           0.7777777777777778,
           "#fb9f3a"
          ],
          [
           0.8888888888888888,
           "#fdca26"
          ],
          [
           1,
           "#f0f921"
          ]
         ]
        },
        "legend": {
         "itemsizing": "constant",
         "tracegroupgap": 0
        },
        "margin": {
         "t": 60
        },
        "template": {
         "data": {
          "bar": [
           {
            "error_x": {
             "color": "#2a3f5f"
            },
            "error_y": {
             "color": "#2a3f5f"
            },
            "marker": {
             "line": {
              "color": "#E5ECF6",
              "width": 0.5
             },
             "pattern": {
              "fillmode": "overlay",
              "size": 10,
              "solidity": 0.2
             }
            },
            "type": "bar"
           }
          ],
          "barpolar": [
           {
            "marker": {
             "line": {
              "color": "#E5ECF6",
              "width": 0.5
             },
             "pattern": {
              "fillmode": "overlay",
              "size": 10,
              "solidity": 0.2
             }
            },
            "type": "barpolar"
           }
          ],
          "carpet": [
           {
            "aaxis": {
             "endlinecolor": "#2a3f5f",
             "gridcolor": "white",
             "linecolor": "white",
             "minorgridcolor": "white",
             "startlinecolor": "#2a3f5f"
            },
            "baxis": {
             "endlinecolor": "#2a3f5f",
             "gridcolor": "white",
             "linecolor": "white",
             "minorgridcolor": "white",
             "startlinecolor": "#2a3f5f"
            },
            "type": "carpet"
           }
          ],
          "choropleth": [
           {
            "colorbar": {
             "outlinewidth": 0,
             "ticks": ""
            },
            "type": "choropleth"
           }
          ],
          "contour": [
           {
            "colorbar": {
             "outlinewidth": 0,
             "ticks": ""
            },
            "colorscale": [
             [
              0,
              "#0d0887"
             ],
             [
              0.1111111111111111,
              "#46039f"
             ],
             [
              0.2222222222222222,
              "#7201a8"
             ],
             [
              0.3333333333333333,
              "#9c179e"
             ],
             [
              0.4444444444444444,
              "#bd3786"
             ],
             [
              0.5555555555555556,
              "#d8576b"
             ],
             [
              0.6666666666666666,
              "#ed7953"
             ],
             [
              0.7777777777777778,
              "#fb9f3a"
             ],
             [
              0.8888888888888888,
              "#fdca26"
             ],
             [
              1,
              "#f0f921"
             ]
            ],
            "type": "contour"
           }
          ],
          "contourcarpet": [
           {
            "colorbar": {
             "outlinewidth": 0,
             "ticks": ""
            },
            "type": "contourcarpet"
           }
          ],
          "heatmap": [
           {
            "colorbar": {
             "outlinewidth": 0,
             "ticks": ""
            },
            "colorscale": [
             [
              0,
              "#0d0887"
             ],
             [
              0.1111111111111111,
              "#46039f"
             ],
             [
              0.2222222222222222,
              "#7201a8"
             ],
             [
              0.3333333333333333,
              "#9c179e"
             ],
             [
              0.4444444444444444,
              "#bd3786"
             ],
             [
              0.5555555555555556,
              "#d8576b"
             ],
             [
              0.6666666666666666,
              "#ed7953"
             ],
             [
              0.7777777777777778,
              "#fb9f3a"
             ],
             [
              0.8888888888888888,
              "#fdca26"
             ],
             [
              1,
              "#f0f921"
             ]
            ],
            "type": "heatmap"
           }
          ],
          "heatmapgl": [
           {
            "colorbar": {
             "outlinewidth": 0,
             "ticks": ""
            },
            "colorscale": [
             [
              0,
              "#0d0887"
             ],
             [
              0.1111111111111111,
              "#46039f"
             ],
             [
              0.2222222222222222,
              "#7201a8"
             ],
             [
              0.3333333333333333,
              "#9c179e"
             ],
             [
              0.4444444444444444,
              "#bd3786"
             ],
             [
              0.5555555555555556,
              "#d8576b"
             ],
             [
              0.6666666666666666,
              "#ed7953"
             ],
             [
              0.7777777777777778,
              "#fb9f3a"
             ],
             [
              0.8888888888888888,
              "#fdca26"
             ],
             [
              1,
              "#f0f921"
             ]
            ],
            "type": "heatmapgl"
           }
          ],
          "histogram": [
           {
            "marker": {
             "pattern": {
              "fillmode": "overlay",
              "size": 10,
              "solidity": 0.2
             }
            },
            "type": "histogram"
           }
          ],
          "histogram2d": [
           {
            "colorbar": {
             "outlinewidth": 0,
             "ticks": ""
            },
            "colorscale": [
             [
              0,
              "#0d0887"
             ],
             [
              0.1111111111111111,
              "#46039f"
             ],
             [
              0.2222222222222222,
              "#7201a8"
             ],
             [
              0.3333333333333333,
              "#9c179e"
             ],
             [
              0.4444444444444444,
              "#bd3786"
             ],
             [
              0.5555555555555556,
              "#d8576b"
             ],
             [
              0.6666666666666666,
              "#ed7953"
             ],
             [
              0.7777777777777778,
              "#fb9f3a"
             ],
             [
              0.8888888888888888,
              "#fdca26"
             ],
             [
              1,
              "#f0f921"
             ]
            ],
            "type": "histogram2d"
           }
          ],
          "histogram2dcontour": [
           {
            "colorbar": {
             "outlinewidth": 0,
             "ticks": ""
            },
            "colorscale": [
             [
              0,
              "#0d0887"
             ],
             [
              0.1111111111111111,
              "#46039f"
             ],
             [
              0.2222222222222222,
              "#7201a8"
             ],
             [
              0.3333333333333333,
              "#9c179e"
             ],
             [
              0.4444444444444444,
              "#bd3786"
             ],
             [
              0.5555555555555556,
              "#d8576b"
             ],
             [
              0.6666666666666666,
              "#ed7953"
             ],
             [
              0.7777777777777778,
              "#fb9f3a"
             ],
             [
              0.8888888888888888,
              "#fdca26"
             ],
             [
              1,
              "#f0f921"
             ]
            ],
            "type": "histogram2dcontour"
           }
          ],
          "mesh3d": [
           {
            "colorbar": {
             "outlinewidth": 0,
             "ticks": ""
            },
            "type": "mesh3d"
           }
          ],
          "parcoords": [
           {
            "line": {
             "colorbar": {
              "outlinewidth": 0,
              "ticks": ""
             }
            },
            "type": "parcoords"
           }
          ],
          "pie": [
           {
            "automargin": true,
            "type": "pie"
           }
          ],
          "scatter": [
           {
            "marker": {
             "colorbar": {
              "outlinewidth": 0,
              "ticks": ""
             }
            },
            "type": "scatter"
           }
          ],
          "scatter3d": [
           {
            "line": {
             "colorbar": {
              "outlinewidth": 0,
              "ticks": ""
             }
            },
            "marker": {
             "colorbar": {
              "outlinewidth": 0,
              "ticks": ""
             }
            },
            "type": "scatter3d"
           }
          ],
          "scattercarpet": [
           {
            "marker": {
             "colorbar": {
              "outlinewidth": 0,
              "ticks": ""
             }
            },
            "type": "scattercarpet"
           }
          ],
          "scattergeo": [
           {
            "marker": {
             "colorbar": {
              "outlinewidth": 0,
              "ticks": ""
             }
            },
            "type": "scattergeo"
           }
          ],
          "scattergl": [
           {
            "marker": {
             "colorbar": {
              "outlinewidth": 0,
              "ticks": ""
             }
            },
            "type": "scattergl"
           }
          ],
          "scattermapbox": [
           {
            "marker": {
             "colorbar": {
              "outlinewidth": 0,
              "ticks": ""
             }
            },
            "type": "scattermapbox"
           }
          ],
          "scatterpolar": [
           {
            "marker": {
             "colorbar": {
              "outlinewidth": 0,
              "ticks": ""
             }
            },
            "type": "scatterpolar"
           }
          ],
          "scatterpolargl": [
           {
            "marker": {
             "colorbar": {
              "outlinewidth": 0,
              "ticks": ""
             }
            },
            "type": "scatterpolargl"
           }
          ],
          "scatterternary": [
           {
            "marker": {
             "colorbar": {
              "outlinewidth": 0,
              "ticks": ""
             }
            },
            "type": "scatterternary"
           }
          ],
          "surface": [
           {
            "colorbar": {
             "outlinewidth": 0,
             "ticks": ""
            },
            "colorscale": [
             [
              0,
              "#0d0887"
             ],
             [
              0.1111111111111111,
              "#46039f"
             ],
             [
              0.2222222222222222,
              "#7201a8"
             ],
             [
              0.3333333333333333,
              "#9c179e"
             ],
             [
              0.4444444444444444,
              "#bd3786"
             ],
             [
              0.5555555555555556,
              "#d8576b"
             ],
             [
              0.6666666666666666,
              "#ed7953"
             ],
             [
              0.7777777777777778,
              "#fb9f3a"
             ],
             [
              0.8888888888888888,
              "#fdca26"
             ],
             [
              1,
              "#f0f921"
             ]
            ],
            "type": "surface"
           }
          ],
          "table": [
           {
            "cells": {
             "fill": {
              "color": "#EBF0F8"
             },
             "line": {
              "color": "white"
             }
            },
            "header": {
             "fill": {
              "color": "#C8D4E3"
             },
             "line": {
              "color": "white"
             }
            },
            "type": "table"
           }
          ]
         },
         "layout": {
          "annotationdefaults": {
           "arrowcolor": "#2a3f5f",
           "arrowhead": 0,
           "arrowwidth": 1
          },
          "autotypenumbers": "strict",
          "coloraxis": {
           "colorbar": {
            "outlinewidth": 0,
            "ticks": ""
           }
          },
          "colorscale": {
           "diverging": [
            [
             0,
             "#8e0152"
            ],
            [
             0.1,
             "#c51b7d"
            ],
            [
             0.2,
             "#de77ae"
            ],
            [
             0.3,
             "#f1b6da"
            ],
            [
             0.4,
             "#fde0ef"
            ],
            [
             0.5,
             "#f7f7f7"
            ],
            [
             0.6,
             "#e6f5d0"
            ],
            [
             0.7,
             "#b8e186"
            ],
            [
             0.8,
             "#7fbc41"
            ],
            [
             0.9,
             "#4d9221"
            ],
            [
             1,
             "#276419"
            ]
           ],
           "sequential": [
            [
             0,
             "#0d0887"
            ],
            [
             0.1111111111111111,
             "#46039f"
            ],
            [
             0.2222222222222222,
             "#7201a8"
            ],
            [
             0.3333333333333333,
             "#9c179e"
            ],
            [
             0.4444444444444444,
             "#bd3786"
            ],
            [
             0.5555555555555556,
             "#d8576b"
            ],
            [
             0.6666666666666666,
             "#ed7953"
            ],
            [
             0.7777777777777778,
             "#fb9f3a"
            ],
            [
             0.8888888888888888,
             "#fdca26"
            ],
            [
             1,
             "#f0f921"
            ]
           ],
           "sequentialminus": [
            [
             0,
             "#0d0887"
            ],
            [
             0.1111111111111111,
             "#46039f"
            ],
            [
             0.2222222222222222,
             "#7201a8"
            ],
            [
             0.3333333333333333,
             "#9c179e"
            ],
            [
             0.4444444444444444,
             "#bd3786"
            ],
            [
             0.5555555555555556,
             "#d8576b"
            ],
            [
             0.6666666666666666,
             "#ed7953"
            ],
            [
             0.7777777777777778,
             "#fb9f3a"
            ],
            [
             0.8888888888888888,
             "#fdca26"
            ],
            [
             1,
             "#f0f921"
            ]
           ]
          },
          "colorway": [
           "#636efa",
           "#EF553B",
           "#00cc96",
           "#ab63fa",
           "#FFA15A",
           "#19d3f3",
           "#FF6692",
           "#B6E880",
           "#FF97FF",
           "#FECB52"
          ],
          "font": {
           "color": "#2a3f5f"
          },
          "geo": {
           "bgcolor": "white",
           "lakecolor": "white",
           "landcolor": "#E5ECF6",
           "showlakes": true,
           "showland": true,
           "subunitcolor": "white"
          },
          "hoverlabel": {
           "align": "left"
          },
          "hovermode": "closest",
          "mapbox": {
           "style": "light"
          },
          "paper_bgcolor": "white",
          "plot_bgcolor": "#E5ECF6",
          "polar": {
           "angularaxis": {
            "gridcolor": "white",
            "linecolor": "white",
            "ticks": ""
           },
           "bgcolor": "#E5ECF6",
           "radialaxis": {
            "gridcolor": "white",
            "linecolor": "white",
            "ticks": ""
           }
          },
          "scene": {
           "xaxis": {
            "backgroundcolor": "#E5ECF6",
            "gridcolor": "white",
            "gridwidth": 2,
            "linecolor": "white",
            "showbackground": true,
            "ticks": "",
            "zerolinecolor": "white"
           },
           "yaxis": {
            "backgroundcolor": "#E5ECF6",
            "gridcolor": "white",
            "gridwidth": 2,
            "linecolor": "white",
            "showbackground": true,
            "ticks": "",
            "zerolinecolor": "white"
           },
           "zaxis": {
            "backgroundcolor": "#E5ECF6",
            "gridcolor": "white",
            "gridwidth": 2,
            "linecolor": "white",
            "showbackground": true,
            "ticks": "",
            "zerolinecolor": "white"
           }
          },
          "shapedefaults": {
           "line": {
            "color": "#2a3f5f"
           }
          },
          "ternary": {
           "aaxis": {
            "gridcolor": "white",
            "linecolor": "white",
            "ticks": ""
           },
           "baxis": {
            "gridcolor": "white",
            "linecolor": "white",
            "ticks": ""
           },
           "bgcolor": "#E5ECF6",
           "caxis": {
            "gridcolor": "white",
            "linecolor": "white",
            "ticks": ""
           }
          },
          "title": {
           "x": 0.05
          },
          "xaxis": {
           "automargin": true,
           "gridcolor": "white",
           "linecolor": "white",
           "ticks": "",
           "title": {
            "standoff": 15
           },
           "zerolinecolor": "white",
           "zerolinewidth": 2
          },
          "yaxis": {
           "automargin": true,
           "gridcolor": "white",
           "linecolor": "white",
           "ticks": "",
           "title": {
            "standoff": 15
           },
           "zerolinecolor": "white",
           "zerolinewidth": 2
          }
         }
        },
        "title": {
         "text": "Relação Preço/Popularidade para os Cursos da Área de Desenvolvimento Web<br><sup>Bolhas representam a nota do curso pelos usuários</sup>"
        },
        "xaxis": {
         "anchor": "y",
         "domain": [
          0,
          1
         ],
         "title": {
          "text": "Número de Alunos Inscritos"
         }
        },
        "yaxis": {
         "anchor": "x",
         "domain": [
          0,
          1
         ],
         "title": {
          "text": "Preço (dólares)"
         }
        }
       }
      },
      "text/html": [
       "<div>                            <div id=\"b2571e6d-dc2a-45fe-9b60-fb559a89fadd\" class=\"plotly-graph-div\" style=\"height:525px; width:100%;\"></div>            <script type=\"text/javascript\">                require([\"plotly\"], function(Plotly) {                    window.PLOTLYENV=window.PLOTLYENV || {};                                    if (document.getElementById(\"b2571e6d-dc2a-45fe-9b60-fb559a89fadd\")) {                    Plotly.newPlot(                        \"b2571e6d-dc2a-45fe-9b60-fb559a89fadd\",                        [{\"customdata\":[[\"Learn HTML5 Programming From Scratch\"],[\"Coding for Entrepreneurs Basic\"],[\"The Web Developer Bootcamp\"],[\"Build Your First Website in 1 Week with HTML5 and CSS3\"],[\"The Complete Web Developer Course 2.0\"],[\"Web Design for Web Developers: Build Beautiful Websites!\"],[\"Learn Javascript & JQuery From Scratch\"],[\"Practical PHP: Master the Basics and Code Dynamic Websites\"],[\"JavaScript: Understanding the Weird Parts\"],[\"Angular 4 (formerly Angular 2) - The Complete Guide\"],[\"Beginner Photoshop to HTML5 and CSS3\"],[\"Web Development By Doing: HTML / CSS From Scratch\"],[\"HTML and CSS for Beginners - Build a Website & Launch ONLINE\"],[\"Become a Web Developer from Scratch\"],[\"Quickstart AngularJS\"],[\"Learn Responsive Web Development from Scratch\"],[\"Learn and Understand AngularJS\"],[\"Learn and Understand NodeJS\"],[\"The Complete HTML & CSS Course - From Novice To Professional\"],[\"Complete PHP Course With Bootstrap3 CMS System & Admin Panel\"],[\"Build Websites from Scratch with HTML & CSS\"],[\"Modern React with Redux\"],[\"Learn PHP Fundamentals From Scratch\"],[\"Learning Dynamic Website Design - PHP MySQL and JavaScript\"],[\"Javascript Essentials\"],[\"Build Responsive Real World Websites with HTML5 and CSS3\"],[\"Learn Web Designing & HTML5/CSS3 Essentials in 4-Hours\"],[\"Bootstrap 4 Quick Start: Code Modern Responsive Websites\"],[\"Angular 2 with TypeScript for Beginners: The Pragmatic Guide\"],[\"The Complete Web Developer Masterclass: Beginner To Advanced\"],[\"Learn Object Oriented PHP By Building a Complete Website\"],[\"Web Programming with Python\"],[\"Ultimate Web Designer & Developer Course: Build 23 Projects!\"],[\"The Complete Ruby on Rails Developer Course\"],[\"Learn Angular 2 from Beginner to Advanced\"],[\"Create An HTML5 Video Player From Scratch\"],[\"The Complete JavaScript Course For Web Development Beginners\"],[\"The Original Complete Web Developer Course.\"],[\"AngularJS For Beginners\"],[\"Learn E-Commerce Website in PHP & MySQL From Scratch!\"],[\"Angular 2+ with Typescript - Essential Training\"],[\"PHP for Beginners -Become a PHP Master - Project Included\"],[\"Javascript - From Beginner to Pro-Build real world JS apps\"],[\"Essentials of JavaScript Practice Coding Exercises Tips\"],[\"The Complete JavaScript Course: Build a Real-World Project\"],[\"Introduction to Web Development: HTML\"],[\"EMMET Faster HTML & CSS workflow - Best Tool For Developers\"],[\"Become a Certified Web Developer\"],[\"Master the Basics of HTML5 & CSS3: Beginner Web Development\"],[\"CSS Development (with CSS3!)\"],[\"HTML Workshop\"],[\"Master the MEAN Stack - Learn By Example\"],[\"The Complete Bootstrap Masterclass Course - Build 4 Projects\"],[\"The Ultimate Web Developer How To Guide\"],[\"Running a Web Development Business: The Complete Guide\"],[\"Programming Foundations: HTML5 + CSS3 for Entrepreneurs 2015\"],[\"Learn to Use jQuery UI Widgets\"],[\"WordPress Development For Beginners\"],[\"Coding for Entrepreneurs: Learn Python, Django, and More.\"],[\"1 Hour JavaScript\"],[\"Build Responsive Website Using HTML5, CSS3, JS And Bootstrap\"],[\"Get Results - Core Principles of Web Development Tricks Tips\"],[\"Learn Object Oriented Programming PHP fundamentals bootcamp\"],[\"Advanced React and Redux\"],[\"Become A Web Developer And Seller - Build Websites With HTML\"],[\"AngularJS Authentication: Secure Your App with Auth0\"],[\"MongooseJS Essentials - Learn MongoDB for Node.js\"],[\"Mastering HTML5 Programming - The Easier Way\"],[\"ExpressJS Fundamentals\"],[\"Spring Framework 4 And Dependency Injection For Beginners\"],[\"Learn to Setup Websites from Scratch\"],[\"Sass Workflow\"],[\"The Complete ASP.NET MVC 5 Course\"],[\"HTML Complete Course - Beginner to Expert\"],[\"Joomla 3 - The Basics\"],[\"Docker Technologies for DevOps and Developers\"],[\"Learn To Build Beautiful HTML5 And CSS3 Websites In 1 Month\"],[\"Learn AngularJS Step By Step\"],[\"Joomla: Create a Joomla Website This Weekend With NO CODING!\"],[\"1 Hour CSS\"],[\"Back to School Web Development and Programming Bundle\"],[\"Introduction to Web Development\"],[\"Bootstrap unleash the power faster & easier web development\"],[\"The Complete PHP CodeIgniter Course: Beginner To Advanced\"],[\"AngularJS JumpStart with Dan Wahlin\"],[\"The Complete NodeJS Course: Build a Full Business Rating App\"],[\"Building Websites JavaScript and the DOM\"],[\"Learn Python and Django: Payment Processing\"],[\"Vue JS 2 - The Complete Guide (incl. Vue Router & Vuex)\"],[\"JavaScript Intro to learning JavaScript web programming\"],[\"How to Make a Single Page Website for Freelancers & Agencies\"],[\"The Professional Ruby on Rails Developer\"],[\"Angular (Angular 2 or 4) & NodeJS - The MEAN Stack Guide\"],[\"Learning JavaScript Programming Tutorial. A Definitive Guide\"],[\"Adobe Flash for Beginners - Build Flash Website From Scratch\"],[\"Try AngularJS: Beginner's Guide to Front End Web Development\"],[\"React JS and Redux - Mastering Web Apps\"],[\"Learn Web Scraping with Node.js\"],[\"JavaScript Rockstar How to create Incredible Useful code\"],[\"Build a Responsive Website with a Modern Flat Design\"],[\"Become Exceptional in HTML and HTML5\"],[\"Angular 2 Crash Course with TypeScript\"],[\"Django Core | A Reference Guide to Core Django Concepts\"],[\"1 Hour HTML\"],[\"The Complete PHP MySQL Professional Course with 5 Projects\"],[\"Learn Ruby on Rails: Stripe Payment Processing\"],[\"Learn how to quickly build websites using Wordpress\"],[\"Introduction to CSS Development\"],[\"Learn HTML & CSS: How To Start Your Web Development Career\"],[\"Learn JavaScript for beginners\"],[\"Servlets and JSPs Tutorial: Learn Web Applications With Java\"],[\"Learn to Build Websites using Twitter Bootstrap\"],[\"JavaScript Tricks how to create code projects from scratch\"],[\"ASP.Net MVC Quick Start\"],[\"HTML 5: How I made websites in HTML5\"],[\"Rapid Website Design with Bootstrap\"],[\"Learn Bootstrap Development By Building 10 Projects\"],[\"Codeigniter: How to use Codeigniter that drives knowledge\"],[\"Creating an MP3 Player with HTML5\"],[\"Get started Creating Websites Everything you need provided\"],[\"Benefits of Thinking Mobile First Future of Website Design\"],[\"HTML5 canvas Bootcamp for beginners 25 easy steps\"],[\"The Complete Web Developer Bootcamp - Beginner to Expert\"],[\"Learn Complete Web Development From Scratch\"],[\"How to Make an Online Portfolio Website from Scratch\"],[\"Learn Html5 & CSS3 from scratch\"],[\"Web Design Creating websites from scratch\"],[\"jQuery Fundamentals Powerful Bootcamp for beginners\"],[\"Learn Complete WordPress for Building a Professional Sites\"],[\"Code a 'Coming Soon' Landing Page in Bootstrap 4\"],[\"Vue JS - Mastering Web Apps\"],[\"The Complete WordPress Website Business Course\"],[\"JavaScript Step by Step how to apply it to your web pages\"],[\"WordPress Backup And Restore Fundamentals\"],[\"Serverless Architecture on Amazon Web Services\"],[\"Ruby on Rails a Beginners Guide\"],[\"Write quicker HTML5 and CSS 3; productivity hacks with emmet\"],[\"ES6 Javascript: The Complete Developer's Guide\"],[\"Create Startup Landing Page with Viral Marketing Strategies\"],[\"Learn SVG Animation - With HTML, CSS & Javascript\"],[\"How to Make a Video Blog Website From Scratch w/ Wordpress\"],[\"Learn JavaScript for Web Development\"],[\"Create a Website from Scratch using HTML CSS step by step\"],[\"Programming for Entrepreneurs - JavaScript\"],[\"Learn to use JSON\"],[\"React JS - Build real world JS apps & deploy on cloud\"],[\"PHP: Complete Registration and Login with Email Verification\"],[\"Responsive Design with NEW Materialize\"],[\"Web Hosting Set Up and WordPress Installation For Beginners\"],[\"HTML Tutorial: HTML & CSS for Beginners\"],[\"Complete AJAX Course: Learn AJAX Techniques Using Bootstrap\"],[\"Angular 4 (2+) Crash Course for Beginners\"],[\"Learn what's new in PHP 7\"],[\"Website Secrets: Get a Gorgeous Website on the Cheap\"],[\"How to Make a Wordpress Website 2017\"],[\"Practical Understanding of PHP and MySQL\"],[\"Build Flat Responsive Website from Scratch - Complete Course\"],[\"PHP Fundamentals - Start Earning The Top Dollars You Deserve\"],[\"The Complete Sass & SCSS Course: From Beginner to Advanced\"],[\"You can create Incredible Websites with HTML CSS learn how\"],[\"Advanced HTML5 Tutorial for Web Developers\"],[\"Python and Django Full Stack Web Developer Bootcamp\"],[\"Learn how to create a WordPress theme using Pinegrow\"],[\"How To Setup Web Hosting\"],[\"PSD To a Creative Landing Page Using Twitter Bootstrap 3\"],[\"Learn HTML 5 in 1 hour\"],[\"HTML CSS Easy steps to create a web template from scratch\"],[\"React Redux React-Router: From Beginner to Paid Professional\"],[\"Learn HTML And CSS From Scratch\"],[\"Complete Web Development Course + Building 5 Websites!\"],[\"Ultimate Angular 4 (previously Angular 2) with Bootstrap 4\"],[\"Learn the Basics of Programming for Marketers\"],[\"JavaScript For Beginners : Learn JavaScript From Scratch\"],[\"JavaScript For Beginners : Learn JavaScript From Scratch\"],[\"jQuery Crash Course: Learn the Essentials of jQuery Fast\"],[\"Practical CSS Website Development: Crash Course\"],[\"Practical CSS Website Development: Crash Course\"],[\"Make a professional website - 30 Day Guarantee. Discounted!\"],[\"Make a professional website - 30 Day Guarantee. Discounted!\"],[\"Learn to Make an Animated Image Gallery using HTML5\"],[\"Improved SEO with Rich Snippets and MicroData\"],[\"Improved SEO with Rich Snippets and MicroData\"],[\"Ultimate guide to Social Media Web development integration\"],[\"The Complete Developers Guide to MongoDB\"],[\"Fun and creative web engineering with Python and Web2py\"],[\"CSS and CSS3 For Absolute Beginners\"],[\"Build Real World Websites from Scratch using HTML5 and CSS3\"],[\"JavaScript for Beginners Welcome to learning JavaScript\"],[\"Master WordPress Plugins: Shortcodes Ultimate - The Basics\"],[\"JavaScript for Absolute Beginners\"],[\"Get to know HTML Learn HTML Basics\"],[\"Code a personal splash page in 1 hour\"],[\"Projects in PHP and MySQL\"],[\"HTML CSS: Essential steps to learn HTML CSS\"],[\"The Complete HTML5 & CSS3 Course Build Professional Websites\"],[\"Core HTML How to get online quickly HTML to HTML5\"],[\"HTML5 Essentials for Beginners\"],[\"JavaScript Game Development: Create Your Own Breakout Game\"],[\"JavaScript Basics Web Development Building Blocks\"],[\"Learn Nodejs by building 12 projects\"],[\"Building a Search Engine in PHP & MySQL\"],[\"PHP: Ultimate guide to PHP for everyone\"],[\"CSS Web Development Crash Course\"],[\"HTML5 and CSS3 for beginners: Create a Website from Scratch\"],[\"The Ultimate Web Development Course\"],[\"Getting Started as a Web Developer\"],[\"Beginning Web development Learn the basics of HTML\"],[\"The Complete PHP Bootcamp Course With Video Sharing Project\"],[\"Beginning Oracle WebLogic for Administrators\"],[\"Dynamic JavaScript Master Class AJAX JSON Simple APIs\"],[\"Build A Complete CRUD Application With PHP, MYSQL & JQUERY\"],[\"HTML5 for beginners\"],[\"JQuery Essentials core training for Dynamic Interactive web\"],[\"Try Django 1.10 | Create a URL Shortening Service\"],[\"Code your first Website using HTML & CSS: Project Learning\"],[\"Web Site for Beginners - Learn Web Building like knitting\"],[\"The Complete Wordpress Course - Build Your Own Website Today\"],[\"Successful website creation - everything you need to know\"],[\"Introductory JavaScript Made Easy Training Tutorial\"],[\"Ruby on Rails: Training and Skills to Build Web Applications\"],[\"Learn How To Build a Web Application Without Coding\"],[\"Ultimate Web Developer Course Build 10 Websites from Scratch\"],[\"The Essential Web Developer Course - Build 12 Websites\"],[\"Learn and Earn with HTML & CSS\"],[\"HTML CSS JavaScript: Most popular ways to code HTML CSS JS\"],[\"Understanding TypeScript\"],[\"Introduction to Laravel 4\"],[\"Projects In JavaScript & JQuery\"],[\"Web Design for Beginners: Real World Coding in HTML & CSS\"],[\"Start Writing JavaScript Today - Beginner JavaScript Course\"],[\"How to Create a Website Without Coding - WordPress 2016\"],[\"How to Launch Your Own Website Builder Service\"],[\"Building HTML5 Canvas projects from scratch\"],[\"Webpack 2: The Complete Developer's Guide\"],[\"Projects in HTML5\"],[\"How to Set Up a Self-Hosted Wordpress Website in 30 Minutes\"],[\"Serverless Workflow Management with AWS Step Functions\"],[\"All about NodeJS\"],[\"Discover HTML Essential guide to HTML how to create webpages\"],[\"WordPress Plugins and Widgets\"],[\"Learn Angular 4 from Scratch\"],[\"React and Flux Web Development for Beginners\"],[\"Learn jQuery by Example Course\"],[\"Interaction Design Specialist For Web Developers\"],[\"HTML for Beginners\"],[\"JSON Faster Sleeker & Easier Discover the benefits learn it\"],[\"PHP with Laravel for beginners - Become a Master in Laravel\"],[\"How to easily Manage your WordPress Website\"],[\"How to Install WordPress From Scratch\"],[\"Introduction to HTML\"],[\"Foundations of Front-End Web Development\"],[\"PHP Graphic Techniques: CAPTCHA/ Create a verification code\"],[\"The Docker for DevOps course: From development to production\"],[\"PHP Essential How to create build Amazing websites with PHP\"],[\"Sass: From Beginner to Advanced\"],[\"Complete WooCommerce Plugin Tutorial For Wordpress 2017\"],[\"REST WCF Service in ASP.NET\"],[\"Build a website HTML5 CSS3 Beginner Course\"],[\"AJAX Development\"],[\"Complete Bootstrap 4 course - build 3 projects\"],[\"How to Optimise Your WordPress Website's Speed & Security to Improve SEO & User Experience\"],[\"The Complete Ethical Hacking Course 2.0: Python & Kali Linux\"],[\"JavaScript Introduction to Object Oriented JavaScript\"],[\"JavaScript for Beginning Web Developers\"],[\"Learn How to Manage & Customize Web Sites By Drupal CMS\"],[\"JavaScript in Action JavaScript Projects\"],[\"HTML5 APIs For JavaScript - A Course For Web Developers\"],[\"Learn Building Your Own Website Without Coding\"],[\"Create A Custom Responsive WordPress Website For A Client\"],[\"The Complete Web Development Course - Build 15 Projects\"],[\"Complete Python Web Course: Build 8 Python Web Apps\"],[\"SAP Crystal Reports with ASP.Net (Step by step)\"],[\"Create Single Page Website using Twitter Bootstrap 3\"],[\"Complete JavaScript Course for Beginners with Easy Examples\"],[\"Master ECMAScript 2015 (ES6)\"],[\"HTML Learning the Basics Intro to HTML website coding\"],[\"Try Django 1.9 | Build a Blog and Learn Python's #1 Library\"],[\"JavaScript DOM Dynamic Web interactive content Boot Camp\"],[\"Getting Started with HTML\"],[\"Crash Course: Fundamentals Of HTML & CSS From Scratch.\"],[\"Beginners Introduction to Web Development\"],[\"A how to guide in HTML\"],[\"HTML Introduction Course: Learn HTML in 2 hours!!!\"],[\"Create a Dynamic User Registration Form from scratch\"],[\"Code & Grow Rich: Earn More As An Entrepreneur Or Developer\"],[\"Node Package Manager Course: Build and Publish NPM Modules\"],[\"Learn How To Build A Professional Web Site By Using Joomla\"],[\"Complete JQuery And JQuery UI Course For Beginner\"],[\"Projects in AngularJS - Learn by building 10 Projects\"],[\"Create a Powerful Website with the Cool Bootstrap Framework\"],[\"Kids Coding - Beginners CSS\"],[\"JavaScript HTML CSS Project make a Quiz Tutorial\"],[\"Become a Heroku Rails Ninja: Expert Level Deployment Tools\"],[\"Learn How To Become a Web Developer From Scratch\"],[\"React JS - Mastering Redux\"],[\"Beginner API development in Node, Express, ES6, & MongoDB\"],[\"How To Build And Make A Wordpress Website From Scratch 2017\"],[\"How to Create a Wordpress Website from Scratch - No Coding\"],[\"How To Build A Website From Scratch + Blogging Blueprint\"],[\"Learn jQuery: An In-depth Course For Beginners\"],[\"React vs Angular vs Vue.js by Example\"],[\"How To Setup a Micro-Blog in 3 Easy Steps\"],[\"Getting Started with Angular 2+\"],[\"The Advanced Web Developer Course\"],[\"How To Make A Modern Wordpress BLOG 2017! Create Your Blog!\"],[\"Become a Professional Web Developer | Version 3.0\"],[\"Comprehensive JavaScript Programming\"],[\"Become a Kick-Ass Web Developer: From Newbie to Pro\"],[\"Introduction to Voice Design with Amazon's Alexa\"],[\"A-Frame WebVR Programming Tutorial Series (Virtual Reality)\"],[\"The Complete jQuery Course: From Beginner To Advanced!\"],[\"Kids Coding - Beginner HTML\"],[\"Advanced Javascript\"],[\"Object Oriented Programming (OOP) in PHP - Build An OOP Site\"],[\"Build A Weather App With Ajax Using Open Weather Map API\"],[\"Meteor and React for Realtime Apps\"],[\"Learn To Create Different Website Layouts & Media Queries\"],[\"Complete PHP and MySql Course: From Beginner to Professional\"],[\"PHP OOP: Object Oriented Programming for beginners + Project\"],[\"WordPress in under an hour - Create/manage your own website!\"],[\"Dive Into Docker: The Docker Course for Developers\"],[\"The Complete jQuery Course - From Beginner to Professional!\"],[\"How to Make a Website Without Coding- WordPress & Web Skills\"],[\"GraphQL with React: The Complete Developers Guide\"],[\"Wordpress Beginner Tutorial: Build Your First Website\"],[\"CSS Image filters - The modern web images color manipulation\"],[\"jQuery For Beginners : A Basic Introduction\"],[\"Step-by-step HTML and CSS for Absolute Beginners\"],[\"Python for Beginners: Python Programming Language | Tutorial\"],[\"Full Stack JavaScript: Learn Backbone.js, Node.js & MongoDB\"],[\"Javascript from Beginner to Advanced Level\"],[\"Installing Wordpress 4 - Installation, Registrars & Hosting\"],[\"Build Enterprise Applications with Angular 2 (and Angular 4)\"],[\"Complete ASP NET MVC Web Development - Newbie to Ninja!\"],[\"Intro To HTML & CSS: Web Development For Beginners\"],[\"JavaScript project Learn to create a memory Game and more\"],[\"8 Beautiful Ruby on Rails Apps in 30 Days & TDD - Immersive\"],[\"Introduction to Web Development\"],[\"Accelerated ES6 JavaScript Training\"],[\"Git a Web Developer Job: Mastering the Modern Workflow\"],[\"Be a Bootstrap Developer from scratch\"],[\"Introduction to Bootstrap 3\"],[\"Explore JavaScript Beginners Guide to Coding JavaScript\"],[\"Responsive PHP Registration Form: From Scratch\"],[\"Learn HTML, A practical guide from scratch to HTML 5\"],[\"PHP User Login Registration Script With All Features\"],[\"Interactive Dynamic JavaScript for beginners DOM\"],[\"PHP & MySQL - Learn The Easy Way. Master PHP & MySQL Quickly\"],[\"Bootstrap 3 -> Profitable WordPress Theme Development!\"],[\"Learn Bootstrap 4 by Example\"],[\"Web Hosting Introduction: How to Publish Your Website Online\"],[\"JavaScript Basics for Beginners Introduction to coding\"],[\"JavaScript from Beginner to Expert\"],[\"1 hour jQuery\"],[\"WP Plugin Development - Build your own plugin!\"],[\"Create a Professional Website Without Programming/Coding\"],[\"Learn WCF And Web APIs From Scratch\"],[\"Angular Tutorial For Beginners\"],[\"Start Your Own Forum Website in 15 Minutes\"],[\"Learn PHP Programming for Absolute Beginners\"],[\"Learn HTML in 2 hours!\"],[\"The Complete DevOps Engineer Course 2.0 - Java & Kubernetes\"],[\"Build a Real-world App with ASP.NET Core and Angular 2 (4+)\"],[\"Inspirational Web Development - A Beginner Approach -\"],[\"Learn how to convert PSD to HTML and CSS responsive\"],[\"Learn Jquery from Scratch 2-Hour Training\"],[\"Learn to Create Responsive Layouts in 30 Minutes\"],[\"The Complete Elixir and Phoenix Bootcamp\"],[\"Building a Portfolio in 90 minutes ( HTML, CSS, Js )\"],[\"Web Design How to Create a Website HTML CSS Bootstrap\"],[\"Django Tutorial: Build Your First App Fast & Free!\"],[\"Angular 2 & TypeScript Beginner Web Development\"],[\"Wordpress Website Mastery 2017\"],[\"Spring Framework 4 (Java Enterprise JEE) with AngularJS\"],[\"REST APIs with Flask and Python\"],[\"Learn Angular 2 Development By Building 12 Apps\"],[\"Wordpress For Beginners: Create a Professional Website\"],[\"Build a Responsive Website with HTML5, CSS3 and Bootstrap 4\"],[\"PHP for Beginners: How to Build an E-Commerce Store\"],[\"How To Create Your Very First Website With HTML and CSS\"],[\"Javascript for Beginners Learn by Doing Practical Exercises\"],[\"Responsive Web Design: Made Easy\"],[\"Introduction to Coding with Ruby\"],[\"Build a Website in 30 Minutes\"],[\"Create Jekyll blog and host it on Github like a Ninja\"],[\"Rock Solid Wordpress Security - Secure Web Development\"],[\"React VR - Creating Virtual Reality Apps\"],[\"Bootstrap 4: Exploring New Features\"],[\"Simple And Easy: Wordpress For Beginners\"],[\"Learn HTML Basics From Scratch\"],[\"Backbone Tutorial: Learn Backbonejs from Scratch\"],[\"Laravel Deployment - Launch your Laravel Application Online\"],[\"HTML CSS Learn to create a website from scratch\"],[\"Web Development w/ Google\\u2019s Go (golang) Programming Language\"],[\"Create Your First Wordpress Site in Under an Hour\"],[\"HTML Web Development Crash Course\"],[\"Learn and Understand React\"],[\"Ruby on Rails for Complete Beginners\"],[\"Building a Ruby on Rails Application with Neo4j\"],[\"The complete JavaScript developer: MEAN stack zero-to-hero\"],[\"Css Positioning For Absolute Beginners: A Basic Introduction\"],[\"Javascript ES6! A Complete Reference Guide to Javascript ES6\"],[\"Bootstrap Basics: Program Responsive Websites\"],[\"Customizr - Learn WordPress with the ultimate creative theme\"],[\"Learn How to Create Your Own Social Network\"],[\"Accelerated JavaScript Training\"],[\"Complete Login and Registration System in PHP and MYSQL\"],[\"Complete AJAX Using Bootstrap, PHP From Basic To Advanced.\"],[\"Projects in CSS\"],[\"Angular JS Essentials\"],[\"How to Build Your Own Website with WordPress: A Step-by-Step Guide\"],[\"Flask Tutorial Step by Step\"],[\"Projects in MongoDB - Learn MongoDB Building Projects\"],[\"Creating FaceBook Design Using Bootstrap - Handson Project\"],[\"JavaScript for beginners with live examples\"],[\"Devtools 2017: The Basics of Chrome Developer Tools\"],[\"Hit the ground running with AngularJS with Dion Yang\"],[\"Ultimate WordPress Plugin Course\"],[\"Complete PHP Course with OOP Start to Finish!\"],[\"Learn Bootstrap3 With Multi Purposes Single Page Layout\"],[\"Laravel Blog Development Starter\"],[\"Django + AngularJS for a Powerful Web Application\"],[\"React.js Quickly: Developing Scalable Web User Interfaces\"],[\"Power up HTML5 with JavaScript\"],[\"HTML and CSS for Absolute Beginners\"],[\"JavaScript Fundamentals\"],[\"JQuery Create Overlay Popups from scratch using Jquery\"],[\"Build CRUD Application - PHP & Mysql\"],[\"Angular 4: From Theory to Practice & FREE E-Book\"],[\"How To Create A WordPress Website Without Paying A Developer\"],[\"How To Create a Local Wordpress Environment\"],[\"Install WordPress on Computer using XAMPP\"],[\"Effective Personal Website Building and Hosting\"],[\"Python Programming: Create an Digital Marketplace in Django\"],[\"Learn JavaScript from scratch\"],[\"A 13 Hour SQL Server 2014 /ASP.NET/CSS/C#/jQuery Course\"],[\"AJAX : Let's build a COOL project\"],[\"Angular 2 Master Class with Alejandro Rangel\"],[\"How To Create A Wordpress Website 2016 | NEW Divi Theme 3.0!\"],[\"Angular Styling & Animations (for Angular 2 and Angular 4)\"],[\"AngularJS Custom Directives with Dan Wahlin\"],[\"Create and Deploy a Web App in 3 Hours\"],[\"HTML and CSS Crash Course for Beginners\"],[\"Mastering CSS 3.0 Selectors\"],[\"Introductory To HTML and CSS\"],[\"Web Development Masterclass - Complete Certificate Course\"],[\"Create a Responsive Website with Bootstrap 3\"],[\"Angular Masterclass\"],[\"Intro to PHP Web Application Development with Symfony\"],[\"Create Complete Sign up System using PHP, jQuery and Ajax\"],[\"Basic HTML CSS and Web Design\"],[\"JavaScript the Basics - JavaScript for Beginners\"],[\"Build Professional WordPress Website\"],[\"Learn HTML Fast and Easy!\"],[\"Creating Animations using HTML5 Canvas\"],[\"Become PHP Facebook Developer: Password-Less Authentication\"],[\"The Bubble Course - Create Complete Web Apps without Coding\"],[\"Mastering Basic CSS Selectors.\"],[\"Master JavaScript Programming, 3 Projects Included !!\"],[\"Laravel(5.2) PHP Framework Jump Start for beginners\"],[\"Become a HTML and CSS Developer - Build a Responsive Site\"],[\"Complete HTML5 and CSS3 Course +1 Start to Finish Project\"],[\"Laravel Homestead\"],[\"Wordpress for Beginners - Build a Live Website from Scratch\"],[\"Build Realtime Apps | React Js, Golang & RethinkDB\"],[\"CSS3 for beginners\"],[\"WordPress local server setup and site migration online\"],[\"How to Start a WordPress Blog - Complete Beginners Guide!\"],[\"How To Create A Real Estate Website With Wordpress 2017\"],[\"WordPress Plugin Development for 2017 - Build 14 Plugins\"],[\"Angular Material - Quickstart\"],[\"How To Make A Business Website In 1 Day With Wix FAST & EASY\"],[\"Learn CSS Transition and Animation\"],[\"Learn XML Crash Course: Discover Essential XML Fundamentals\"],[\"PHP MVC Framework CodeIgniter Tutorial for Beginners Project\"],[\"Develop Your First App in an Hour\"],[\"Javascript for Beginners\"],[\"WordPress for Beginners - Tutorial - From Novice to Know-How\"],[\"Build Your Own Calculator App with Javascript, HTML5 & CSS\"],[\"Chrome Extensions : Develop 5 chrome extensions from scratch\"],[\"How to create HTML Forms\"],[\"VueJS V1 Introduction to VueJS JavaScript Framework\"],[\"Learn JSON with JavaScript Objects and APIs in 1 hour\"],[\"Web Design HTML CSS How to Create a Website from Scratch\"],[\"The Complete Guide to JavaScript Development\"],[\"Build and Deploy a LAMP server on AWS\"],[\"JQuery Basics - Learn JQuery From Scratch\"],[\"How To Make A Wordpress Website 2017 | Divi Theme Tutorial\"],[\"Email Marketing: Send Unlimited Emails via Own Mail Server\"],[\"Create an eCommerce Wordpress Website 2016 - New Divi Theme!\"],[\"How To Make an eCommerce Website With Wordpress 2017\"],[\"A Complete Laravel basics from beginner to expert\"],[\"Learn Ruby Programming The Easy Way\"],[\"The complete HTML5 course\"],[\"All in one HTML CSS and JQuery\"],[\"Professional Python Web Development Using Flask\"],[\"Complete WordPress Theme Developer Course With Bootstrap\"],[\"Create a classified website in 2 hours - guaranteed\"],[\"Ajax in JavaScript and JQuery, with PHP - Creating Chat App\"],[\"Become a Certified Web Developer - Beginner to Expert\"],[\"Building Websites Create a fully functional Web contact form\"],[\"Quick learning jQuery web development\"],[\"HTML Made Simple For Beginners: Create a One Page Website\"],[\"Complete Website & CMS in PHP & MySQL From Scratch!\"],[\"Angular 2 Routing: Up And Running\"],[\"Up and Running with jQuery\"],[\"JSON Crash Course for Beginners\"],[\"Build a Real Time web app in node.js , Angular.js, mongoDB\"],[\"Full-Stack Web Apps with Meteor and React\"],[\"Bootstrap 3 Beginners: Create a Professional Landing Page\"],[\"introduction to HTML Course\"],[\"Coding Made Easy: HTML & CSS For Beginners\"],[\"React From The Ground Up\"],[\"In Depth Web Development Made Easy\"],[\"ES6 / EcmaScript 6 for beginners an introduction\"],[\"The Complete E-Commerce Web Developer Course 5.0\"],[\"Learn JSON for beginners with JavaScript\"],[\"Professional WordPress Theme Development For 2017\"],[\"Professional Ruby on Rails Developer with Rails 5\"],[\"Ethereum Developer: Build A Decentralised Blockchain App\"],[\"Angular 2 Demystified\"],[\"Ultimate JavaScript Strings\"],[\"Scaling Docker on AWS\"],[\"The Full Stack Web Development\"],[\"Critical Web Dev Skills & Tools for the Non-Tech Hustler\"],[\"WordPress For Beginners | No Coding Required\"],[\"Bootstrap 4 Responsive Web Design and Development\"],[\"Earn Big Profits With Web Development, Simple and Easy!\"],[\"Create Website from scratch in Urdu & Hindi\"],[\"Learn HTML5 At Your Own Pace. Ideal for Beginners\"],[\"Expert Guide : Mastering Functions in JavaScript !\"],[\"How to Create A Website: An HTML Tutorial and CSS Tutorial\"],[\"AngularJS For ASP.NET MVC Developers\"],[\"Learn HTML, CSS, and Ruby on Rails: Build Your First Blog\"],[\"jQuery for Beginners - Create Website Animations Easily\"],[\"Learn the basics of the Web development: Coding Tactics\"],[\"Learn Ajax and jquery with PHP\"],[\"Essential JavaScript, jQuery and AngularJS Training\"],[\"Introduction to HTML5 Canvas basics of drawing\"],[\"AngularJS Masterclass - Deep Dive & Understand AngularJS\"],[\"Wordpress Security\"],[\"Learn Ruby on Rails for Absolute Beginners\"],[\"First Web Application with Spring Boot\"],[\"Build Responsive Websites in an Hour using Portalfin\"],[\"Hosting your static website on Amazon AWS S3 service\"],[\"Create, Update and Manage Your Own Website Using Drupal 7\"],[\"Create Your Own Successful Online School To Sell Courses\"],[\"How to Build Chat Bots: From Beginner to Intermediate\"],[\"Dissecting Ruby on Rails 5 - Become a Professional Developer\"],[\"Basic Concepts of Web Development, HTTP and Java Servlets\"],[\"JavaScript Design Patterns: 20 Patterns for Expert Code\"],[\"Complete Codeigniter: From Beginner to Advanced\"],[\"Learn MeteorJS By Building 10 Real World Projects\"],[\"Automate Web Development With Gulp JS\"],[\"Creating User Authentication System in CodeIgniter\"],[\"How To Make A Wordpress Website 2017 - Divi Theme Tutorial\"],[\"Web Programming Course : Asp.Net MVC\"],[\"Node.js: The Essentials + API Frameworks Express KOA Sails\"],[\"Become a Bootstrap Expert: Build 20 Layouts!\"],[\"Simple Javascript: Learn by Doing, Beginners Welcome!\"],[\"Learn PHP Programming for Absolute Beginners - Lite\"],[\"Building An E-Commerce Store Using Java Spring Framework\"],[\"Learn To Program JavaScript (in ten easy steps)\"],[\"BDD with Ruby on Rails using RSpec 3 and Capybara\"],[\"Social Network Web Development\"],[\"HTML & CSS From Scratch in 30 Days\"],[\"Beginner Full Stack Web Development: HTML, CSS, React & Node\"],[\"Build Your Own Backend REST API using Django REST Framework\"],[\"ASP.NET Web API 2 Hands-On\"],[\"JavaScript Complete for beginners with real world Apps\"],[\"WordPress Plugin Development -> Deep dive discovery!\"],[\"The Complete Web Developer Course - Build 20 Websites\"],[\"Optimizing Wordpress for More Speed and Revenue\"],[\"Bootstrap Essential Training - Create Your Very Own Website\"],[\"Master ExpressJS to Build Web Apps with NodeJS&JavaScript\"],[\"Bootstrap 4 Theme Development Masterclass\"],[\"Ultimate CSS3 Course - From Beginners To Professional\"],[\"PHP for Beginners\"],[\"PHP Login and Registration System - Email Confirm Activation\"],[\"Electron for Desktop Apps: The Complete Developer's Guide\"],[\"Web Development Tools the Pros Use: Code Productivity Hacks\"],[\"Spring Boot Tutorial For Beginners\"],[\"ChatBots: Messenger ChatBot with API.AI and Node.JS\"],[\"Hosting Django: Amazon Web Services (AWS) Fundamentals\"],[\"Learn JavaScript From Scratch:Become Top Rated Web Developer\"],[\"Advanced Node.js Development\"],[\"Learn JavaScript Dynamic Interactive Projects for Beginners\"],[\"Learn jQuery AJAX in 1 hour\"],[\"Intro to Git\"],[\"Learn to Create Advance Responsive Websites With Bootstrap\"],[\"Ruby On Rails For Web Development\"],[\"Creating a Responsive HTML Email\"],[\"PHP Tutorial: Learn PHP Basic Programming for Beginners\"],[\"Core: A Web App Reference Guide for Django, Python, and More\"],[\"AngularJS For .Net Developers From Scratch\"],[\"HTML & CSS for beginners: Build 3 projects from scratch\"],[\"HTML Forms For Beginners: A Basic Introduction\"],[\"Learn Rails Programming in Less than 2 Hours\"],[\"Create a Simple Photo Gallery with Dropzonejs, Slick and PHP\"],[\"Learning CSS3 - A Comprehensive Tutorial For Web Developers\"],[\"How to Make a Wordpress Website 2017\"],[\"The Complete HMTL5 Course - Go From Beginner To Advanced!\"],[\"Build your own Beautiful Blog in WordPress + SEO\"],[\"Javascript Intermediate level 2 - Mastering Functions\"],[\"The Pro Ruby on Rails Starter\"],[\"Laravel 4 try and enjoy php coding\"],[\"HTML Tutorials : HTML Code for Website Creating\"],[\"The Ultimate Beginner's Guide to Django\"],[\"Practical Web Development: Make Websites Quickly And Easily\"],[\"Twitter Bootstrap 2 for Beginners\"],[\"WordPress LMS: E-Learning Website Made Easy\"],[\"WordPress Look and Feel with Themes\"],[\"WordPress Domination #2: Leads & Scarcity\"],[\"Learn HTML5 Canvas for beginners\"],[\"Kids Coding -Introduction to HTML, CSS and JavaScript\"],[\"HTML5 and CSS3 : Landing Pages for Entrepreneurs 2016\"],[\"Learn to code, Become a Web Developer and Master JavaScript!\"],[\"Bootstrap 3 Introduction : Create RESPONSIVE Websites Fast\"],[\"Wordpress for Non-Technical People\"],[\"Create eye-catching WordPress website from scratch\"],[\"Install a Wordpress Theme the Correct Way & Charge Others\"],[\"A Very Complete Introduction To Laravel\"],[\"PHP MySQL: Learn PHP MySQL with Project\"],[\"Wordpress Tutorial\"],[\"Redirect Your Visitors By Country Easily -Wordpress Tutorial\"],[\"Build Websites And Apps By Outsourcing\"],[\"Bootstrap 4.0 New Features: Build Responsive Website\"],[\"Build a Photo Blog with Ruby on Rails\"],[\"React JS, Angular & Vue JS - Quickstart & Comparison\"],[\"Learn To Create WordPress Themes By Building 10 Projects\"],[\"WordPress Security - The Ultimate Security Guide\"],[\"The Build a SAAS App with Flask Course\"],[\"The Web Developers Guide: Learn HTML & CSS Fundamentals\"],[\"Create a PHP Contact Form in Bootstrap\"],[\"Build Incredible Chatbots\"],[\"Better way towards CSS using Less and Sass\"],[\"WordPress for Beginners 2017 + Google AdSense Implementation\"],[\"JavaScript programming: JavaScript for beginners\"],[\"How To Make A Web Page With No Code\"],[\"Complete RESPONSIVE Website Design with HTML5 & CSS3\"],[\"Advanced Prezi: Make Amazing Presentations\"],[\"Create a Website Similar to Facebook from Scratch!\"],[\"Canvas image Creator HTML5 JavaScript project from Scratch\"],[\"Learn OAuth 2.0 - Get started as an API Security Expert\"],[\"Step by Step Build Your Template by Bootstrap 4 from scratch\"],[\"Build Modern Websites Super Fast\"],[\"WordPress 2016 for Beginners : Build awesome websites!\"],[\"Build an Amazon clone: Nodejs + MongoDB + Stripe Payment\"],[\"Byte-Sized-Chunks: Cascading Style Sheets (CSS) with HTML\"],[\"CoffeeScript: The Good Parts\\u2014Write Better javaScript\"],[\"AWS Serverless APIs & Apps - A Complete Introduction\"],[\"Modern Web Development with Laravel 5.2 (PHP Framework)\"],[\"The WpFASTER WordPress Speed Optimization Master Course\"],[\"Sublime Text for Rapid Web Development\"],[\"Reactive JS: Are you ready for the next big paradigm shift?\"],[\"Complete Web Development with HTML, CSS and Javascript\"],[\"Jekyll: make fast, secure static sites and blogs with Jekyll\"],[\"JavaScript for beginners in 1 hour\"],[\"Unit Testing AngularJS: Build Bugfree Apps That Always Work!\"],[\"Become a Rockstar Web Developer - Learn By Coding\"],[\"WordPress Blog : Create a WordPress Website for Beginners\"],[\"JavaScript Tutorial: Learn JavaScript Code for Beginners\"],[\"PSD to HTML5/CSS3 using Twitter Bootstrap 3!\"],[\"Javascript for beginners\"],[\"Develop Competitive Plugins for WordPress and WooCommerce\"],[\"JSON :basics for beginners\"],[\"The CSS and CSS3 Crash Course\"],[\"Twitter Integration customize Tweets with developer API\"],[\"Practical Guide to Web Development\"],[\"Learn Wordpress 4 from Scratch : Create Awesome Websites\"],[\"Learn Drupal 8 - With a Live Project\"],[\"HTML 5 and CSS 3 - tricks and workarounds\"],[\"Mastering the Google Chrome Developer Tools\"],[\"Build An Online Bank With Java, Angular 2, Spring and More\"],[\"React: Learn ReactJS Fundamentals for Front-End Developers\"],[\"Regular Expressions for Beginners - Universal\"],[\"Angular 2 + Rails 5 Bootcamp\"],[\"Angular and Firebase - Build a Web App with Typescript\"],[\"Coding Made Easy: A Beginners Guide To JavaScript\"],[\"Projects in ExpressJS - Learn ExpressJs building 10 projects\"],[\"Learn ReactJS: Code Like A Facebook Developer\"],[\"XML For Absolute Beginners: Learn to create your own tags\"],[\"Drupal 8 Site Building\"],[\"All You Need To Know About AngularJS - Training On AngularJS\"],[\"How to become an App Developer\"],[\"Learn to build 20 websites and build 14 iOS9 apps with swift\"],[\"Master Regular Expressions from scratch - All languages\"],[\"Learn PHP from scratch!!\"],[\"RESTful API with Laravel\"],[\"Build an HTML5 and CSS3 Website in 35 Minutes\"],[\"Master Electron: Desktop Apps using HTML, JavaScript & CSS\"],[\"Build Sign Up and Login Forms With Bootstrap Modal\"],[\"Wordpress Site Migration\"],[\"PHP Security\"],[\"CSSCasts; CSS libraries Plugins Tips & Tricks for Developers\"],[\"WordPress Academy: Learn WordPress step by step\"],[\"Modern JavaScript: Building Real-World, Real-Time Apps\"],[\"Ruby on Rails 5 - BDD, RSpec and Capybara\"],[\"Web Hosting Fundamentals\"],[\"Amazon Alexa Development: From Beginner to Intermediate\"],[\"How to Create a Social Network For a Niche-Related Community\"],[\"Learn Rails: Quickly Code, Style and Launch 4 Web Apps\"],[\"Learn SASS and improve your CSS\"],[\"The Complete JavaScript Bootcamp\"],[\"Javascript Intermediate level 1 - Mastering the DOM\"],[\"create a search engine for your website!\"],[\"Server API Development in Swift, Kitura, & Bluemix\"],[\"PHP For Beginners : Learn PHP From Scratch!\"],[\"Learn how to use Javascript Components with PHP and Symfony\"],[\"Mastering CSS\"],[\"JQuery DOM and Ajax Concept Explained for Beginners\"],[\"Amazon s3 Mastery - THE How-To' Guides For Amazon S3\"],[\"Angular 4 Development Decoded\"],[\"How To Build A Facebook Messenger Chat Bot From Scratch\"],[\"WordPress : An Overview\"],[\"Getting Started with LESS - Beginner Crash Course\"],[\"Self Advertise Using PowerPoint Twitter and Facebook on ios\"],[\"Introduction to Node.js Development\"],[\"HTML and CSS BootCamp for Beginners\"],[\"Wordpress - Create an Outstanding Website in 2 hours\"],[\"jQuery for Absolute Beginners - Lite\"],[\"Learning 200 jQuery Functions with 800 Examples\"],[\"Introduction To Data Analytics Using Microsoft Power BI\"],[\"Projects in Django and Python\"],[\"Google Blogger : How to Create a Blog\"],[\"JavaScript with BackboneJS and Bootstrap CSS - Advanced\"],[\"Develop a Professional OnePage WordPress site With No Coding\"],[\"Build a complete Fiverr clone with Node + Algolia + Paypal\"],[\"Angular 2 From The Ground Up\"],[\"Learn Ruby on Rails By Building Projects\"],[\"Javascript Intermediate level 3 - JSON\"],[\"Learn SASS: from beginner to expert\"],[\"HTML5 and CSS for Beginner To Expert\"],[\"Angular 2 Jump Start With Typescript\"],[\"Learn By Example: The Foundations of HTML, CSS & Javascript\"],[\"Learn PHP Object Oriented Features with Simple Examples\"],[\"ReactJS and Flux: Learn By Building 10 Projects\"],[\"Ultimate AngularJS: Build a Real-World App from Scratch\"],[\"Build WordPress Plugin to extend Beaver Builder\"],[\"The Ultimate Vue JS 2 Developers Course\"],[\"JSON For Beginners: A Very Basic Introduction\"],[\"Write PHP Like a Pro: Build a PHP MVC Framework From Scratch\"],[\"Learn By Example: jQuery\"],[\"WordPress for Beginners - Build Your First Website in 2017\"],[\"WordPress Development Crash Course: From Zero To Hero\"],[\"The Complete hapiJS Course - Go From Beginner To Advanced!\"],[\"Become a Full Stack Developer with Spring, AWS and Stripe\"],[\"Web Application Development - Learn by Building 3 Web Apps\"],[\"Build A Web App With Spring Framework and Angular 2\"],[\"HTML5 CSS3 JQUERY Single Page Website Project from Scratch\"],[\"How to set up a Web Server From Scratch to One Fully Managed\"],[\"Create a Responsive Business Website with WordPress\"],[\"Using Modern JavaScript Today\"],[\"Wordpress for beginners :Build Websites Fast without Coding\"],[\"Learn HTML - The programming language to build a webpage!\"],[\"WordPress Plugins Treasure Chest\"],[\"PHP Date and Time Course by Edwin Diaz\"],[\"Mastering Micro Services Using Java Spring Boot\"],[\"Getting Started with NodeJS for Beginners\"],[\"DesktopServer : Install WordPress Locally - Work Anywhere!\"],[\"Learn PHP CodeIgniter Framework with AJAX and Bootstrap\"],[\"One-stop Ruby on Rails: Build Web Applications from Scratch\"],[\"Understand PHP Arrays and HTTP Request in a Better Way\"],[\"PHP - Send and Receive Mobile Text Messages (SMS)\"],[\"Spring Core DevOps on AWS\"],[\"Create a business website with WordPress\"],[\"JavaScript manipulation of the DOM Document Object Model\"],[\"Getting Started with WordPress 2016\"],[\"The Complete WordPress Development & Customization Course\"],[\"PHP Development with the Laravel Framework\"],[\"HTML and CSS for Beginning Web Developers\"],[\"Learn Bootstrap And Make Responsive Websites\"],[\"Start Web Development with GIS Map in JavaScript\"],[\"Learn React : The World's Most Lucrative JavaScript Library\"],[\"WordPress Plugin Tutorial\"],[\"Introduction to Java Programming for Online Learners\"],[\"Your Own Site in 45 Min: The Complete Wordpress Course\"],[\"PHP :basics for beginners\"],[\"Learn React JS from scratch\"],[\"HTML and CSS: A Guide to Web Design\"],[\"JavaScript, jQuery and Ajax\"],[\"Essential HTML, CSS & HTML5 Training\"],[\"HTML & CSS - Learn to build sleek websites\"],[\"The Complete HTML5 and CSS3 Course - with 8 Websites Design\"],[\"Create full featured Landing Page in Ruby on Rails in 3 hour\"],[\"Learn PHP from Scratch\"],[\"The Complete HTML5 and CSS3 Course\"],[\"Web Security: Common Vulnerabilities And Their Mitigation\"],[\"HTML and CSS Foundations\"],[\"How to Register a Domain, Set Up Hosting, and Edit Web Pages\"],[\"Mastering Modern Web Development Using React\"],[\"GRUNT js: Automate web development tasks and save your time\"],[\"Core Concepts in HTML 5\"],[\"HTML5 Geolocation in Depth:Build 7 HTML5 Geolocation Apps\"],[\"Ultimate JavaScript Objects\"],[\"Projects with JSON and APIs\"],[\"jQuery UI In Depth\"],[\"Introduction to Elm\"],[\"Ruby on Rails 4---A Test-Driven Approach\"],[\"Responsive Html5 Theme Development\"],[\"Learn By Example: Angular JS\"],[\"PSD to Responsive HTML5: Beginner to Advanced\"],[\"Learn by Example : ReactJS\"],[\"Bootstrap Tutorial - Essentials From Basic to Advanced\"],[\"Drupal for Beginners\"],[\"Create a social network using PHP Mysqli HTML Css and JQuery\"],[\"Learn Essential Javascript Fundamentals - Lite\"],[\"Build Modern Responsive Website With HTML5, CSS3 & Bootstrap\"],[\"Professional Rails Code Along\"],[\"Learn animation using CSS3, Javascript and HTML5\"],[\"Create an Engaging Website with Twitter Bootstrap 2.x\"],[\"The Fastest Way to Create a Website Using Godaddy\"],[\"PHP: Complete Login and Registration System with PHP & MYSQL\"],[\"Install Wordpress\"],[\"Easily Learn Web Development With Drop & Drag: OptimizePress\"],[\"Learn By Example: PHP For Dynamic Websites\"],[\"Fix Google's New 'Not Secure' Warning with Let's Encrypt!\"],[\"Build Apps with ReactJS: The Complete Course\"],[\"Learn ASP NET MVC 5 step by step\"],[\"Learn Node.js by building Udemy: Stripe + MailChimp + Wistia\"],[\"jQuery for Beginners\"],[\"The Extreme Web Development Course - For Beginners\"],[\"How to Safely Copy and Move Your WordPress Website\"],[\"Getting started with JavaScript\"],[\"HTML5 and CSS3 -Start building beautiful websites\"],[\"JavaScript - Tricks and Workarounds\"],[\"AngularJS for the Real World - Learn by creating a WebApp\"],[\"Website Builder Software Previews\"],[\"Learn to Code in HTML5, CSS3, and JavaScript\"],[\"Angular NgRx Store Masterclass - Covers Angular 4\"],[\"Create an E-commerce website without any coding\"],[\"Web Development Essential Skills - Complete HTML and CSS\"],[\"Complete guide to install Wordpress, PHP on Cloud,AWS or VPS\"],[\"jQuery in Action: Build 8 jQuery Projects\"],[\"HTML5 Specialist: Comprehensive HTML5 Training\"],[\"Complete E-Commerce Course - Java,Spring,Hibernate and MySQL\"],[\"Introduction to Node.js for Beginners\"],[\"Web Development with BootStrap - 16 Instant Themes Included!\"],[\"Learn ASP.Net Web API 2 for Absolute Beginner\"],[\"Spring 4 Mastercourse: Covers Annotation & XML Configuration\"],[\"JavaScript 2017: Become Top Rated Web Developer\"],[\"Google Blogger Course\"],[\"Learn Python Django - A Hands-On Course\"],[\"Boost your website speed without any coding!\"],[\"JSON in Action: Build JSON-Based Applications\"],[\"Building Responsive Websites with Bootstrap 3 Framework\"],[\"X theme for WordPress: Responsive web design without code!\"],[\"Comprehensive TypeScript\"],[\"JavaScript and jQuery Basics: Start The Journey\"],[\"Learn Plugin Development in WordPress By Building Projects\"],[\"Introduction to PHP Slim Microframework\"],[\"Learn Express\"],[\"Joomla 3 : Develop a Professional Website in 3 Simple Steps!\"],[\"Learn Gulp, The Streaming Build System\"],[\"PHP webservices\"],[\"Star Rating Project AJAX with JSON response from PHP MySQL\"],[\"RxJs & Reactive Programming Angular Masterclass - Angular 4\"],[\"Advanced Scalable Python Web Development Using Flask\"],[\"Learn BuddyPress: Build A Social Network with WordPress\"],[\"JavaScript Complete Guide to learning JavaScript\"],[\"Build A Professional Wordpress Website In An Hour\"],[\"Byte-Sized-Chunks: Closures in Javascript\"],[\"AngularJS for Beginners, Single-Page Applications Made Easy\"],[\"Professional WordPress Theme Development from Scratch\"],[\"Crash Course - Learn to Create a PHP MVC Framework\"],[\"Build Advanced Responsive Websites with Foundation 6 & SASS\"],[\"Learn Effective HTML in No Time!\"],[\"Jquery :basics for beginners\"],[\"JavaScript from Scratch for Very Beginners\"],[\"Code a Responsive Website Using HTML5 and CSS for Beginners\"],[\"Drupal Tutorial : Drupal 8 Beginner to Expert in 8 PROJECTS\"],[\"Learning Bootstrap 3 - Tutorial From Infinite Skills\"],[\"Ruby on Rails Tutorial: Learn 6 Ruby on Rails SEO Techniques\"],[\"Drupal Views: Introduction to Enhancing Your Drupal Website\"],[\"PHP with PDO - ULTIMATE Crash Course\"],[\"AJAX :basics for beginners\"],[\"AngularJs :basics for beginners\"],[\"Learn to make an HTML 5 website with a video background\"],[\"Learn Rails Programming in Less than 30 Minute - Lite\"],[\"Typescript Masterclass & FREE E-Book\"],[\"Learn to make a colorful one page website\"],[\"PHP : Learn to upload files to Amazon S3 and use CloudFront\"],[\"The Complete Wordpress Plugin Development Course - 8 Plugins\"],[\"Pimcore Developer: Implement a Blog from a Bootstrap Theme\"],[\"How to create a video blog with WordPress\"],[\"CSS3 Gradients for Web Designers\"],[\"JavaScript for beginners - A Complete Guide\"],[\"Learn Ruby Programming The Easy Way - Lite\"],[\"Bootstrap For Beginners: A Basic Introduction\"],[\"WordPress Theme Academy with Bootstrap\"],[\"Create Fast RESTful APIs with Lumen and Homestead by Laravel\"],[\"Css For Beginners\"],[\"Web Development With HTML CSS BOOTSTRAP JQUERY for Beginners\"],[\"Learn HTML and CSS to make a Website\"],[\"Big Data and Apache Hadoop for Developers - Fundamentals\"],[\"Bootstrap :basics for beginners\"],[\"Laravel Account Activation Project\"],[\"SASS - Beginner Crash Course\"],[\"Implementing a Data Warehouse with SQL Server 2012\"],[\"Build Your Own Membership Website With Joomla\"],[\"Parse Server: From Front End to Full Stack\"],[\"React.js: Building Production Ready Apps, Start to Finish\"],[\"Login and Registration from Scratch with PHP and MySQL\"],[\"Build a Complete JQuery Plugin (Image Pop-up Dialog)\"],[\"WordPress Basics to Business: Share and Sell your Expertise\"],[\"PHP Zend Framework 1.11:Creating a CRUD Application\"],[\"Full stack Universal React with Redux, Node js and MongoDB\"],[\"Complete Guide to Front-End Web Development and Design\"],[\"WordPress Tips and Tricks\"],[\"Web Development: Make A Website That Will Sell For Thousands\"],[\"Building a eCommerce Startup in 4 Hours [Livestream]\"],[\"WordPress: Create an Amazing Website With Ease\"],[\"Mastering Web and Mobile Debugging Using Chrome Dev Tools\"],[\"The Ultimate jQuery Course\"],[\"How to Build a CMS with PHP\"],[\"Security for your WordPress site\"],[\"Learn by Doing: Vue JS 2.0 the Right Way\"],[\"Wordpress Essentials: Useful Plugins\"],[\"CSS :basics for beginners\"],[\"Supreme NodeJS Course - For Beginners\"],[\"Build a Business or Personal Website Using Wordpress\"],[\"Learn to make websites with Google's Material Design Lite\"],[\"Mastering Magento\"],[\"HTML5, CSS3 & Bootstrap - How to Create a Responsive Website\"],[\"XML :basics for beginners\"],[\"Create a Client Network by Hosting WordPress Sites\"],[\"Javascript :basics for beginners\"],[\"Build A Great Wordpress Website For Your Business in 2 Hours\"],[\"Wordpress Theme Development for Beginners\"],[\"Complete Wordpress Theme Development Course\"],[\"CSS Tutorial For Beginners: Style Your Wordpress Templates\"],[\"Mastering 'Native CSS Shapes To Build Modern Web Pages\\\"\"],[\"Learn jQuery from Scratch - Master of JavaScript library\"],[\"Bootstrap Tutorial for Beginners\"],[\"Web Building Starter Pack. Html Css and JQuery Animations\"],[\"Sell Courses On Your Own Website - No Coding Required!\"],[\"The Complete Web Developer Masterclass: Beginner To Advanced\"],[\"Build Powerful Websites & Blogs using WordPress - No Coding\"],[\"Mastering DevOps\"],[\"Build Ajax Web Apps with Laravel 5.2, Bootstrap and jQuery\"],[\"Python Web Programming\"],[\"Introduction to Frontend Web Development For Beginners\"],[\"ReactJS Course: Learn JavaScript Library Used by Facebook&IG\"],[\"The Complete Wordpress Theme Development Guide\"],[\"So you think you know JavaScript?\"],[\"Learn Top Ten PHP FrameWorks By Building Projects\"],[\"Learn Coding as RF or Telecom Engineer - Build Real Program\"],[\"jQuery Essentials: Learn the Fundamental of jQuery\"],[\"Learn W3.CSS\"],[\"Create a REAL Social Network like Facebook in PHP + MySQL\"],[\"The Ultimate WordPress Boot Camp: Build 7 Websites\"],[\"Getting Started with Craft CMS\"],[\"HTML : HTML Awesomeness\"],[\"PSD to Bootstrap 3 for Beginners using HTML & CSS\"],[\"Build a file hosting/sharing site in less than 2 hours\"],[\"The Sass Course! Learn Sass for Real-World Websites\"],[\"Web Scraping with Python, Ruby & import. io\"],[\"Create WordPress Plugins\"],[\"Scrape Websites using PhantomJS and CasperJS\"],[\"Java Web Services Part 2\"],[\"JavaScript Basics For Web Developers\"],[\"Introduction to Modern Programming with PHP\"],[\"Complete React JS web developer with ES6 - Build 10 projects\"],[\"Angular 2 Complete E-Commerce App Course - Java,Spring,MySQL\"],[\"Bootstrap 4 Beginners: Code a Responsive Landing Page\"],[\"Learn to Freelance with People Per hour (URDU)\"],[\"Projects In ReactJS - The Complete React Learning Course\"],[\"Learn basics of HTML in 30 Minutes\"],[\"XML DTD - Crash Course for Beginners\"],[\"Mastering Thymeleaf with Spring\"],[\"How to create awesome website and e-commerce in 1 hour\"],[\"XQUERY :basics for beginners\"],[\"Drupal 7 for Beginners\"],[\"XML DOM :basics for beginners\"],[\"Voiceover Audio Secrets - Your Way to Top Audio Quality\"],[\"Build Modern Websites Quick With HTML,CSS and Bootstrap\"],[\"Create Complete Web Applications easily with APEX 5\"],[\"Redux in Angular (2 and 4+)\"],[\"XML DTD :basics for beginners\"],[\"Using MODX CMS to Build Websites: A Beginner's Guide\"],[\"The Complete front end web developer Bootcamp - 14 projects\"],[\"A Beginner's Guide to the Meteor JavaScript Framework\"],[\"ASP NET CORE - ANGULAR 2 E-Commerce App\"],[\"SharePoint 2013 Development using C# - Part I\"],[\"Wordpress Development : Create a Custom Wordpress Website\"],[\"Byte-Sized-Chunks: Dynamic Prototypes in Javascript\"],[\"XPATH :basics for beginners\"],[\"XSLT :basics for beginners\"],[\"Building Responsive Data Visualizations with D3 JS\"],[\"Kali Linux Web App Testing\"],[\"Projects in Node.js - Learn by Example\"],[\"Building a Social Network in PHP & MySQL From Scratch\"],[\"Learn Symfony 3 framework by practical examples\"],[\"SAP - Learn SAPUI5 Professional Development\"],[\"Angular 4 - Concepts, Code and Collective Wisdom\"],[\"PHP For WordPress Development\"],[\"Thoughtful Web Development Course: HTML, Vue.js, PHP, MySQL\"],[\"Learn to Build Web Apps using D3JS\"],[\"Creating Interactive HTML5 Video\"],[\"Superb jQuery Course - Become Certified jQuery Developer\"],[\"WordPress Development - Themes, Plugins & Single Page Apps\"],[\"Cakephp:Creating a CRUD application\"],[\"PHP Zend Framework 2:Creating a CRUD Application\"],[\"JSON with Java APIs, jQuery and JSON REST Web Services\"],[\"Simplified Cross Browser Web Testing Using VirtualBox\"],[\"The Complete Web Development Tutorial Using React and Redux\"],[\"Learn Azure Cloud Step by Step\"],[\"HTML FOR BEGINNERS\"],[\"Writing CSS with {LESS} - Tutorial From Infinite Skills\"],[\"JavaScript : JavaScript Awesomeness\"],[\"HTML : Beginner Guide to HTML writing\"],[\"Ultimate Css & JQuery Form Designing From Beginner to Expert\"],[\"Build Your Startup with No Coding (Design, Develop & Ship)\"],[\"Responsive Web Design with HTML5 and CSS3 - Introduction\"],[\"AppML :basics for beginners\"],[\"Docker for Developers - Newest Version 1.12 with Swarm Mode\"],[\"ASP :basics for beginners\"],[\"Ajax for Beginners: A Very Basic Introduction\"],[\"XSD :basics for beginners\"],[\"Learn to Build Web Apps using Laravel Framework\"],[\"How to manage your own VPS and create websites\"],[\"The Complete HTML and CSS Course For Beginners\"],[\"Zend Framework 2: Learn the PHP framework ZF2 from scratch\"],[\"Single Page Application of MVC 5 Using AngularJS\"],[\"Tumult Hype Pro Basics: HTML5 Animations Made Easier\"],[\"RESTful Services with ASP.NET Web API\"],[\"Up and Running with Phalcon\"],[\"Building Web Applications with Spring MVC\"],[\"JavaScript For Absolute Beginners - Level One\"],[\"JavaScript - Become Higly Paid Front End Developer\"],[\"Master EmberJS : Learn Ember JS From Scratch\"],[\"Angular 2 - Superheroic Framework\"],[\"Mastering JavaScript\"],[\"Building a Website With Jekyll\"],[\"Professional Web Scraping with Java\"],[\"Laravel, the complete guide with real world projects\"],[\"Basic JavaScript: Build 4 Basic JavaScript Projects\"],[\"Querying Microsoft SQL Server 2012 - (Exam No. 70-461)\"],[\"React for visual learners\"],[\"RESTful API with Laravel 5.4: Definitive Guide\"],[\"Building a ASP.NET MVC 5 Membership Website\"],[\"Perfect React JS Course - Understand Relevant Details\"],[\"Angularjs-WebApi2-EFCodeFirst Web App On 3-Tier Architecture\"],[\"JavaScript Promises: Applications in ES6 and AngularJS\"],[\"Supercharging Development With Atom Text Editor\"],[\"Projects in Foundation Framework - Learn By Building 10 Apps\"],[\"Shopping Cart Website from Scratch Ecommerce\"],[\"Learn Knockout JS Framework from GroundUp\"],[\"Learning Axure RP\"],[\"HTML5, CSS3 And JavaScript Fundamentals 2016\"],[\"Build Web Apps Using EmberJS: The Complete Course\"],[\"Master ASP . NET 4 from scratch\"],[\"JavaScript Tutorial\"],[\"Getting Started with Magento\"],[\"Learn Laravel: Create Your Web App Step-By-Step\"],[\"ASP.NET C# - Enterprise Web Systems From Novice to Expert\"],[\"Vue JS 2: From Beginner to Professional\"],[\"Cross-Platform Development with ASP.NET Core 1.0 MVC\"],[\"PHP CodeIgniter:CRUD concepts in MVC\"],[\"Master Angular 4 by Example - Build 7 Awesome Apps!\"],[\"Create Newsletter Subscription Form with PHP/AJAX in 40 Min\"],[\"Administering Microsoft SQL Server 2012 Databases - 70-462\"],[\"Learning Docker and Kubernetes by Lab\"],[\"Joomla for Beginners - Learn how to build a website with CMS\"],[\"Advance Unix : File Processing: AWK | SED | GREP | CUT | VIM\"],[\"Professional RESTful API Design using Python Flask\"],[\"How to create Paypal and Credit card Payment Buttons\"],[\"Learning Drupal 8\"],[\"Lerning PHP by building website\"],[\"HTML and HTML5 For Beginners 2016\"],[\"Learn Laravel PHP Framework Building Multi User SEO Blog APP\"],[\"Create a Membership Site with Wishlist Member & Wordpress\"],[\"Building Better APIs with GraphQL\"],[\"Learn Redis from Scratch\"],[\"Master the Art of Web Design with HTML & CSS\"],[\"ASP.NET MVC 5 Project - CMS and Shopping Cart with Paypal\"],[\"3D Programming with WebGL and Babylon.js for Beginners\"],[\"Learn OAuth 2.0 - Theory and Hands On\"],[\"Create Ajax Chat App with PHP & Mysql\"],[\"Convert HTML Websites into PHP: Learn by Doing in 40 Minutes\"],[\"The All-In-One Web Development Course\"],[\"Django For Beginners\"],[\"Learning Object-Oriented JavaScript\"],[\"Java Spring Security\"],[\"Learn Spring Framework Practically - Hands On Recipies\"],[\"Learn and Build using Polymer\"],[\"PHP Laravel 5:Creating a CRUD application\"],[\"Modern Web Development with SASS, Gulp, NPM & Web Workflows\"],[\"Learn Grunt with Examples: Automate Your Front End Workflow\"],[\"Mastering Meteor: Reactive Full Stack JavaScript\"],[\"CSS Specialist: Comprehensive CSS Training\"],[\"Build a Single Page Application with jQuery & AJAX\"],[\"Build an Advanced Single Page with Bootstrap & WordPress\"],[\"Wordpress Backup & Restore\"],[\"Become A Full Stack Web Developer in 14 Days\"],[\"Symfony 3: Build a PHP Application with Symfony\"],[\"Mastering AngularJS UI Development\"],[\"Codeless Website Development with Adobe Muse\"],[\"JavaScript High Performance\"],[\"Advance Unix : File Processing: AWK | GREP | VIM\"],[\"Angular 2 Fundamentals for Web Developers\"],[\"Learn Web Development by Creating a Social Network\"],[\"Build A Stock Downloader With Visual Studio 2015 And C#\"],[\"Learn To Build Apps Using Play Framework\"],[\"Devtools 2017: Beginner to Expert w/ Chrome Developer Tools\"],[\"XML XSLT - Crash Course for Beginners\"],[\"XML XQuery - Crash Course for Beginners\"],[\"JavaScript For Absolute Beginners - Level Two\"],[\"Master Typescript : Learn Typescript from scratch\"],[\"jQuery UI Ultimate:Design Amazing Interfaces Using jQuery UI\"],[\"Create a MEAN App by Example - Full Stack Course\"],[\"Mastering ASP.NET MVC 5 From Scratch Using C#\"],[\"Master WCF 4.0 From Scratch Using C#\"],[\"Javascript Specialist\"],[\"Sara Learns to Code. Making an App from Scratch\"],[\"Professional CSS Flexbox\"],[\"XML DOM - Crash Course for Beginners\"],[\"Learn Facebook Flux Architecture for Web Applications\"],[\"JavaScript from Beginner to Advanced\"],[\"Introducing Ionic 2\"],[\"Build Wordpress CMS Clone with Laravel 5\"],[\"ASP.NET Core MVC, Quick and Practical\"],[\"Build A YouTube Downloader With C# And GitHub\"],[\"jQuery UI in Action: Build 5 jQuery UI Projects\"],[\"Let's JavaScript! Code a calculator\"],[\"Sending email with PHP: from Basic to Advanced\"],[\"Master all PHP ideas 2017 to build any project\"],[\"Laravel : CRUD Application Using AJAX In Laravel 5.3\"],[\"Ready for Production with Spring Boot Actuator\"],[\"Ruby on Rails Foundations\"],[\"Mastering Unix : AWK Commands\"],[\"Mastering TypeScript\"],[\"HTML5 and CSS3: Learn Web Design with HTML + CSS + Bootstrap\"],[\"Build Websites from Scratch with Squarespace\"],[\"Advance JavaScript for Coders: Learn OOP in JavaScript\"],[\"The Most Comprehensive Web Development Course\"],[\"Learn HTML in 59 Minutes - Your intro to front-end dev\"],[\"17 Complete JavaScript projects explained step by step\"],[\"Learn to Build Web Apps using UnderscoreJS : Code Like a Pro\"],[\"Build a Complete Registration and Login System using PHP MVC\"],[\"Create free, fast and secure static website\"],[\"Fundamentals of Angular 2 Full Stack Design\"],[\"How To Design A WordPress Website With No Coding At All\"],[\"WordPress Theme Customization 101 (for beginners)\"],[\"Learn Authentication With ASP.NET Identity Security 2017\"],[\"Advanced WordPress Topics: Post Types Taxonomies & Metaboxes\"],[\"Web Application Development using Redis, Express, and Socket\"],[\"CSS Animations: Create Amazing Effects on Your Website\"],[\"Master Riot: Learn Riot.js from Scratch\"],[\"Custom Theme Creation for WordPress using HTML5 and CSS3\"],[\"Building Data Visualizations with D3 and Angular 2\"],[\"WordPress Development With NodeJS, Gulp, Composer & More\"],[\"Learn Bootstrap 4 The Most Popular HTML5 CSS3 & JS Framework\"],[\"Learn Laravel with Database Migration & Seeding & Faker\"],[\"Popular JavaScript Framework:Learn The Language Of Angular 2\"],[\"How to Build an Autocomplete System Like Google\"],[\"Bootstrap Bootcamp - Responsive web development- 8 projects\"],[\"Webpack 1 & 2 - The Complete Guide\"],[\"Build A Web App with VueJS, Spring Framework and MongoDB\"],[\"Wordpress on AWS: The Easy way to AWS for Free Fast hosting\"],[\"The Complete JavaScript, HTML and CSS Tutorial For Beginners\"],[\"Modern E-Commerce Store In php & mysqli With Bootstrap\"],[\"HTTP Clients with Laravel: Use and Consume Services and APIs\"],[\"The Complete TypeScript Programming Guide for Web Developers\"],[\"Angular Advanced MasterClass & FREE E-Book\"],[\"Learn Spring Security 4 Intermediate - Hands On\"],[\"Build Complex Express Sites with Redis and Socket IO\"],[\"Web Development With Google Maps\"],[\"Learn Spring Security 4 Basics - Hands On\"],[\"Rails Ecommerce App with HTML Template from Themeforest\"],[\"ASP.NET MVC 5 Project - Facebook Clone\"],[\"Creating Custom Web Maps\"],[\"Learn Reactivex From Ground Up\"],[\"Introduction to web programming for GIS applications\"],[\"Learn Web Animation the Easy Way: An Intro to SVG and GSAP\"],[\"Introduction to QGIS Python Programming\"],[\"PHP Specialist (2017 Edition)\"],[\"HTML/CSS Bootcamp\"],[\"Flexbox: The complete guide\"],[\"How to Build WordPress Themes: A Web Designer's Guide\"],[\"For Free - Deploy Quickly Spring Boot on Heroku With MySQL\"],[\"Django by Example\"],[\"Building Web Apps Using Flask and Neo4j\"],[\"Build a Chatbot integrated Website using Bootstrap 4\"],[\"Learning Path: Magento: Master and Test Magento 2 with Ease\"],[\"Object Orientation in PHP\"],[\"What\\u2019s New in Bootstrap 4\"],[\"The Ultimate Guide to the Best WordPress Plugins Part 1\"],[\"Projects in Laravel: Learn Laravel Building 10 Projects\"],[\"Learn To Build A Google Map App Using Angular 2\"],[\"HTML5 And CSS3 - Build Modern Responsive Websites\"],[\"WordPress Development - Themes and Plugins Complete Guide\"],[\"Master Angular 2 - The No Nonsense Course\"],[\"Learning Path: React: Make Stunning React Websites\"],[\"Learning Path: Akka: Building Applications and Microservices\"],[\"Adobe Experience Manager CMS Basics\"],[\"Node:js : Building Rest Apis with Sails.js\"],[\"Set up a localhost Web Server for Faster Website Development\"],[\"Learning Path: The Road to Elasticsearch\"],[\"Angular 4 Front To Back\"],[\"Essentials of Spring 5.0 for Developers\"],[\"Display and analyze GIS data on the web with Leaflet.js\"],[\"Learning Path: Web Applications with Spring and Angular\"]],\"hovertemplate\":\"num_subscribers=%{x}<br>price=%{marker.color}<br>rating=%{marker.size}<br>course_title=%{customdata[0]}<extra></extra>\",\"legendgroup\":\"\",\"marker\":{\"color\":[0,0,200,0,200,0,30,0,175,190,0,0,0,120,0,0,175,195,195,195,145,180,0,50,0,195,75,0,150,195,0,50,200,195,195,0,195,20,0,0,195,200,195,80,195,20,0,100,0,20,20,195,195,200,150,20,0,95,195,200,95,75,100,140,200,0,0,75,0,0,0,0,190,0,0,30,50,20,0,100,200,20,150,195,75,195,120,70,190,20,0,100,150,50,200,50,60,75,75,0,20,100,195,200,200,40,0,0,0,200,35,0,75,0,135,200,60,150,20,100,75,120,190,40,0,20,75,150,80,0,80,150,100,0,0,0,0,80,0,65,0,75,75,200,150,175,20,75,0,20,195,120,0,50,0,0,35,195,195,100,50,200,0,0,0,100,200,20,0,200,50,55,195,195,50,95,95,20,20,0,0,0,200,150,0,75,195,50,0,20,200,20,60,145,195,90,20,0,95,50,0,115,20,200,50,0,95,195,0,200,20,195,100,50,20,20,195,150,20,95,0,200,200,20,170,110,0,60,100,100,195,20,100,75,60,0,0,50,85,40,0,100,170,95,0,200,150,20,0,0,0,20,25,75,40,0,0,150,20,0,125,195,90,75,140,150,50,50,95,200,110,0,20,200,0,20,50,75,40,20,200,0,0,100,200,30,70,80,40,0,100,95,50,200,100,165,0,20,20,50,0,25,0,100,0,200,20,200,0,40,195,20,200,20,20,140,195,200,200,0,0,200,30,150,0,0,65,120,150,50,195,45,190,195,20,95,100,50,110,200,100,20,200,95,100,200,200,50,40,0,0,150,125,100,200,0,50,0,40,35,0,195,190,20,30,20,0,50,20,75,20,200,0,95,110,50,200,20,100,100,100,195,45,95,20,0,80,75,0,0,90,0,50,65,20,20,30,35,0,75,65,175,75,0,50,110,200,195,60,195,95,0,50,80,195,0,100,100,200,0,0,95,50,100,0,0,50,0,200,20,0,0,20,195,20,35,70,30,40,120,75,50,50,0,50,200,50,150,200,200,30,120,145,20,25,195,30,0,20,20,0,200,0,20,60,195,55,0,0,50,0,20,100,50,100,20,20,20,50,0,30,200,95,50,110,0,100,40,35,30,0,25,35,20,20,120,150,50,200,200,200,150,65,20,0,0,45,20,85,20,20,40,150,25,0,195,200,20,200,195,20,0,25,60,0,20,20,90,0,50,195,65,50,20,100,40,20,30,200,100,95,195,40,0,20,120,95,140,195,35,95,200,50,20,200,40,100,20,35,25,20,95,75,175,200,75,200,50,20,120,40,20,0,20,50,150,95,40,100,50,30,40,50,45,65,55,100,195,20,20,195,20,20,195,50,40,45,35,0,50,0,95,200,100,45,20,20,200,20,20,20,25,95,100,200,195,200,50,150,30,20,20,20,200,20,20,40,20,160,60,60,40,20,20,100,20,195,55,0,20,30,25,100,95,80,25,20,20,20,50,145,120,175,20,60,0,45,95,25,200,20,20,95,75,150,45,150,115,20,75,55,80,20,195,55,100,150,150,40,50,20,75,0,50,200,40,70,25,45,20,165,20,20,50,200,150,50,200,20,140,100,200,55,195,100,20,200,100,90,95,35,95,20,120,45,25,20,55,30,30,20,195,45,60,20,25,20,30,30,60,100,20,20,20,50,20,60,100,50,195,65,70,50,100,60,195,75,30,145,120,200,95,50,50,25,25,40,195,195,65,75,145,35,50,100,50,20,20,100,50,100,25,60,50,40,200,120,45,115,25,20,50,55,30,30,50,40,50,0,45,195,55,75,90,20,20,25,0,100,20,50,40,50,195,30,40,20,195,40,40,20,30,200,20,20,50,95,40,20,110,20,200,60,200,150,100,115,25,20,150,20,95,50,100,100,195,125,40,30,200,115,60,50,50,50,75,20,125,25,60,20,25,35,25,30,120,150,120,20,200,20,20,200,200,50,200,40,50,30,50,200,50,200,105,50,35,45,80,20,150,200,50,200,95,25,20,100,20,55,20,60,85,35,20,30,40,50,25,85,95,200,50,20,20,50,40,195,200,200,50,50,200,195,20,50,85,95,25,30,200,200,20,85,20,40,35,30,35,20,150,35,195,100,20,30,100,20,20,100,100,100,145,50,25,50,60,25,20,50,45,125,20,25,20,20,95,75,50,195,20,20,20,200,195,30,20,50,20,45,75,20,40,35,35,195,20,30,70,35,45,200,50,200,50,120,20,40,35,85,75,195,50,125,195,50,35,200,40,25,95,150,40,40,95,20,40,20,20,50,25,20,115,30,35,30,95,35,65,35,30,120,85,40,20,50,85,20,85,65,105,120,20,95,20,50,200,40,85,20,145,95,200,60,75,20,50,200,40,75,115,40,50,180,85,45,20,145,35,40,195,50,60,30,95,75,120,65,50,185,200,100,95,50,40,145,30,200,145,45,50,85,175,75,40,145,40,45,95,20,95,100,60,95,95,195,20,95,50,95,20,40,200,20,40,125,45,45,30,95,145,50,50,50,200,60,35,45,40,195,50,150,20,20,150,35,40,50,20,55,20,20,95,200,50,40,200,35,185,40,80,50,95,25,40,50,95,200,50,125,35,125,25,200,20,200,30,100,40,145,40,35,50,65,40,150,95,125,50,95,25,30,50,40,100,50,85,100,40,35,165,95,125,50,50,200,20,20,50,50,30,175,200,25,200,200,35,100,30,200,40,125,100,200],\"coloraxis\":\"coloraxis\",\"size\":[0.82,0.69,0.89,0.78,0.55,0.82,0.79,0.85,0.69,0.9,0.94,0.39,0.57,0.61,0.96,0.55,0.87,0.73,0.82,0.28,0.76,0.62,0.0,0.41,0.18,0.34,0.31,0.52,0.74,0.07,0.68,0.78,0.31,0.77,0.7,0.94,0.76,0.07,0.78,0.95,0.31,0.4,0.05,0.38,0.21,0.32,0.15,0.22,0.15,0.78,0.28,0.21,0.89,0.85,0.12,0.14,0.96,0.71,0.07,0.24,0.81,0.04,0.78,0.8,0.36,0.86,0.01,0.55,0.19,0.74,0.14,0.22,0.63,0.03,0.46,0.57,0.89,0.88,0.34,0.66,0.4,0.67,0.74,0.59,0.02,0.48,0.14,0.11,0.53,0.11,0.18,0.45,0.15,0.24,0.76,0.61,0.76,0.66,0.26,0.68,0.24,0.71,0.35,0.34,0.71,0.44,0.12,0.56,0.88,0.58,0.12,0.8,0.47,0.73,0.5,0.88,0.15,0.48,0.15,0.25,0.3,0.64,0.78,0.66,0.66,0.4,0.41,0.74,0.78,0.87,0.21,0.11,0.54,0.74,0.54,0.62,0.24,0.41,0.15,0.15,0.24,0.1,0.74,0.48,0.85,0.52,0.96,0.99,0.18,0.76,0.14,0.2,0.96,0.89,0.49,0.81,0.15,0.74,0.3,0.82,0.18,0.29,0.41,0.24,0.55,0.93,0.7,0.95,0.21,0.35,0.22,0.47,0.3,0.92,0.55,0.11,0.92,0.68,0.92,0.19,0.8,0.92,0.94,0.16,0.18,0.1,0.34,0.84,0.66,0.32,0.11,0.21,0.76,0.75,0.93,0.88,0.24,0.15,0.81,0.5,0.66,0.93,0.53,0.76,0.28,0.64,0.34,1.0,0.14,0.47,0.13,0.32,0.58,0.17,0.8,0.67,0.34,0.76,0.8,0.38,0.28,0.07,0.94,0.81,0.04,0.18,0.73,0.28,0.23,0.89,0.92,0.78,0.78,0.58,0.79,0.62,0.87,0.12,0.04,0.96,0.24,0.69,0.98,0.77,0.8,0.22,0.93,0.68,0.66,0.78,0.53,0.3,0.78,0.24,0.05,0.69,0.66,0.53,0.95,0.76,0.78,0.76,0.15,0.76,0.67,0.73,0.12,0.08,0.89,0.42,0.42,0.24,0.3,0.38,0.78,0.96,0.68,0.68,0.24,0.61,0.12,0.23,0.64,0.73,0.29,0.47,0.34,0.16,0.89,0.18,0.8,0.3,0.78,0.61,0.75,0.74,0.96,0.16,0.71,0.54,0.53,0.76,0.78,0.96,0.62,0.94,0.47,0.17,0.63,0.15,0.66,0.82,0.15,0.43,0.79,0.24,0.27,0.87,0.11,0.05,0.34,0.75,0.31,0.77,0.5,0.06,0.6,0.0,0.0,0.98,0.14,0.76,0.3,0.51,0.76,0.2,1.0,0.01,0.76,0.36,0.88,0.0,0.94,0.5,0.89,0.76,0.88,0.76,0.8,0.18,0.14,0.89,0.67,0.8,0.94,0.34,0.58,0.14,0.96,0.32,0.76,0.7,0.52,0.78,0.47,0.78,0.58,0.33,0.47,0.14,0.3,0.46,0.37,0.67,0.14,0.66,0.68,0.74,0.53,0.56,0.74,0.64,0.99,0.99,0.99,0.99,0.99,0.99,0.99,0.99,0.99,0.99,0.99,0.99,0.99,0.99,0.99,0.99,0.99,0.99,0.99,0.99,0.99,0.99,0.99,0.99,0.99,0.21,0.52,0.14,0.15,0.96,0.2,0.45,0.14,0.11,0.89,0.89,0.89,0.89,0.89,0.89,0.89,0.89,0.89,0.89,0.89,0.89,0.89,0.89,0.89,0.89,0.89,0.89,0.89,0.89,0.1,0.78,0.96,0.24,0.8,0.84,0.55,0.67,0.38,0.92,0.92,0.92,0.92,0.92,0.92,0.92,0.92,0.92,0.92,0.92,0.92,0.92,0.58,0.22,0.97,0.71,0.89,0.55,0.72,0.5,0.37,0.13,0.57,0.73,0.66,0.94,0.2,0.72,0.34,0.92,0.11,0.11,0.62,0.94,0.94,0.94,0.94,0.94,0.94,0.94,0.94,0.94,0.94,0.94,0.94,0.94,0.55,0.43,0.34,0.18,0.88,0.21,0.76,0.9,0.93,0.73,0.15,0.55,0.61,0.2,0.88,0.21,0.92,0.92,0.92,0.92,0.92,0.92,0.92,0.92,0.92,0.92,0.92,0.92,0.92,0.8,0.8,0.8,0.8,0.8,0.8,0.8,0.8,0.8,0.8,0.8,0.8,0.8,0.8,0.8,0.8,0.8,0.8,0.8,0.8,0.8,0.8,0.8,0.14,0.14,0.17,0.47,0.92,0.92,0.92,0.92,0.92,0.92,0.92,0.92,0.92,0.11,0.35,0.64,0.66,0.51,0.76,0.37,0.72,0.34,0.68,0.65,0.36,0.83,0.11,0.93,0.55,0.97,0.61,0.16,0.3,0.02,0.15,0.34,0.42,0.18,0.77,0.34,0.66,0.55,0.91,0.96,0.96,0.96,0.96,0.96,0.96,0.96,0.96,0.96,0.96,0.96,0.96,0.96,0.96,0.96,0.96,0.96,0.96,0.96,0.96,0.96,0.96,0.96,0.96,0.96,0.96,0.96,0.96,0.96,0.96,0.96,0.2,0.47,0.3,0.76,0.47,0.93,0.93,0.93,0.93,0.93,0.93,0.93,0.93,0.93,0.93,0.93,0.93,0.93,0.93,0.93,0.93,0.93,0.93,0.93,0.93,0.93,0.93,0.93,0.93,0.93,0.93,0.93,0.3,0.99,0.99,0.99,0.99,0.99,0.99,0.99,0.99,0.99,0.99,0.99,0.99,0.99,0.99,0.99,0.99,0.99,0.99,0.99,0.99,0.99,0.99,0.99,0.99,0.86,0.42,0.13,0.9,0.13,0.47,0.8,0.24,0.89,0.87,0.66,0.47,0.8,0.34,0.89,0.13,0.19,0.14,0.06,0.89,0.47,0.67,0.9,0.78,0.3,0.24,0.89,0.89,0.6,0.36,0.17,0.55,0.99,0.11,0.75,1.0,0.24,0.79,0.15,0.71,0.83,0.7,0.18,0.72,0.76,0.78,0.78,0.78,0.78,0.78,0.78,0.78,0.78,0.78,0.78,0.78,0.78,0.78,0.96,0.72,0.76,0.58,0.2,0.88,0.24,0.14,0.62,0.59,0.2,0.24,0.64,0.47,0.73,0.1,0.28,0.36,0.66,0.08,0.76,0.96,0.5,0.32,0.95,0.95,0.95,0.95,0.95,0.95,0.95,0.95,0.95,0.95,0.95,0.95,0.95,0.95,0.95,0.95,0.95,0.95,0.95,0.95,0.95,0.95,0.95,0.95,0.95,0.95,0.95,0.96,0.96,0.96,0.96,0.96,0.96,0.96,0.96,0.96,0.96,0.96,0.96,0.96,0.96,0.96,0.96,0.96,0.96,0.96,0.88,0.18,0.34,0.89,0.98,0.47,0.8,0.9,0.14,0.74,0.89,0.78,0.84,0.72,0.35,0.9,0.77,0.83,0.07,0.74,0.62,0.87,0.96,0.52,0.92,0.33,0.94,0.18,0.43,0.07,0.17,0.46,0.12,0.79,0.07,0.76,0.11,0.18,0.2,0.78,0.89,0.9,0.08,0.07,0.24,0.18,0.63,0.47,0.78,0.16,0.21,0.76,0.76,0.76,0.76,0.76,0.76,0.76,0.76,0.76,0.76,0.76,0.76,0.76,0.76,0.3,0.49,0.94,0.94,0.94,0.94,0.94,0.94,0.94,0.94,0.94,0.94,0.94,0.94,0.94,0.94,0.94,0.94,0.94,0.94,0.94,0.94,0.34,0.18,0.18,0.14,0.88,0.82,0.58,0.66,0.34,0.66,0.57,0.96,0.96,0.96,0.96,0.96,0.96,0.96,0.96,0.96,0.96,0.96,0.96,0.96,0.96,0.96,0.96,0.18,0.0,0.89,0.81,0.72,0.39,0.94,0.66,0.34,0.66,0.77,0.74,0.16,0.63,0.2,0.21,0.12,0.2,0.24,0.11,0.85,0.3,0.24,0.56,0.89,0.89,0.89,0.89,0.89,0.89,0.89,0.89,0.89,0.89,0.89,0.89,0.89,0.89,0.89,0.89,0.89,0.89,0.89,0.89,0.89,0.89,0.89,0.89,0.89,0.89,0.89,0.89,0.89,0.89,0.89,0.89,0.89,0.89,0.89,0.89,0.89,0.24,0.21,0.46,0.6,0.74,0.76,0.87,0.84,0.55,0.67,0.48,0.78,0.55,0.78,0.12,0.1,0.11,0.78,0.8,0.92,0.86,0.18,0.63,0.34,0.56,0.96,0.11,0.8,0.32,0.96,0.68,0.86,0.89,0.94,0.15,0.62,0.82,0.49,0.11,0.74,0.24,0.11,0.14,0.15,0.76,0.24,0.67,0.78,0.96,0.07,0.51,0.46,0.54,0.82,0.45,0.96,0.21,0.96,0.11,0.06,0.24,0.55,1.0,0.81,0.93,0.94,0.87,0.11,0.92,0.78,0.51,0.96,0.0,0.34,0.78,0.99,0.57,0.67,0.34,0.58,0.87,0.52,0.2,0.3,0.11,0.99,0.44,0.18,0.37,0.8,0.15,0.01,0.15,0.79,0.3,0.02,0.92,0.24,0.96,0.03,0.07,0.76,0.75,0.11,0.34,0.78,0.79,0.78,0.34,0.3,0.97,0.04,0.76,0.39,0.77,0.78,0.73,0.2,0.86,0.64,0.64,0.75,0.88,0.45,0.3,0.66,0.96,0.02,0.29,0.39,0.77,0.96,0.47,0.22,0.17,0.32,0.51,0.06,0.83,0.54,0.57,0.47,0.26,0.74,0.3,0.37,0.88,0.66,0.76,0.78,0.31,0.4,0.39,0.11,0.16,0.24,0.76,0.34,0.76,0.11,0.08,0.6,0.96,0.34,0.15,0.94,0.98,0.98,0.98,0.98,0.98,0.98,0.98,0.98,0.98,0.98,0.98,0.11,0.3,0.71,0.8,0.55,0.3,0.7,0.34,0.96,0.61,0.96,0.26,0.78,0.89,0.1,0.47,0.35,0.74,0.7,0.34,0.78,0.64,0.36,0.76,1.0,0.98,1.0,0.75,0.89,0.89,0.89,0.89,0.89,0.89,0.89,0.96,0.47,0.62,0.55,0.19,0.46,0.11,0.88,0.96,0.15,0.46,0.67,0.12],\"sizemode\":\"area\",\"sizeref\":0.0025,\"symbol\":\"circle\"},\"mode\":\"markers\",\"name\":\"\",\"showlegend\":false,\"x\":[268923,161029,121584,120291,114512,98867,84897,83737,79612,73783,73110,72932,70773,69186,64128,59639,59361,58208,57422,55332,51257,50815,48650,47886,47062,43977,43285,41478,40070,37141,36322,35267,33788,33677,32696,32260,31499,31070,30531,29990,29348,28880,28694,28125,27801,26800,26697,26673,26541,25864,25854,25799,24978,24861,24575,23764,23669,23572,23412,22999,22623,22355,22213,21998,21730,21689,21682,21653,21245,21147,21087,20890,20652,20073,19909,19210,18818,18777,18496,18324,18170,18143,18101,17895,17802,17784,17759,17714,17671,17554,17463,17334,17297,17113,17071,16926,16829,16731,16590,16527,16486,16409,16282,16212,16158,15724,15715,15493,15462,15276,15187,15134,15106,15092,15064,14842,14813,14606,14551,14260,14254,14118,14103,14074,14026,13960,13920,13882,13708,13535,13457,13439,13406,13242,13210,13130,13016,13010,12974,12953,12952,12893,12882,12873,12838,12815,12781,12629,12563,12458,12368,12366,12336,12328,12293,12201,12105,12068,12021,11892,11847,11832,11812,11758,11666,11643,11574,11536,11533,11492,11384,11339,11285,11285,11262,11170,11170,11167,11167,11080,11026,11026,11011,10945,10917,10890,10874,10864,10780,10689,10674,10610,10606,10576,10518,10394,10247,10179,10179,10150,10110,10103,10008,9945,9881,9833,9832,9831,9786,9773,9762,9687,9668,9607,9554,9425,9421,9384,9381,9375,9364,9359,9355,9349,9332,9132,9110,9109,9103,9067,9056,9028,8968,8964,8777,8770,8768,8755,8711,8711,8693,8691,8625,8594,8592,8577,8496,8462,8415,8371,8337,8320,8234,8067,8059,7922,7905,7884,7867,7865,7852,7827,7789,7785,7741,7720,7706,7660,7517,7501,7489,7484,7449,7449,7438,7416,7407,7380,7375,7368,7331,7318,7304,7213,7211,7196,7184,7169,7146,7142,7130,7130,7090,7062,7059,7057,7055,7018,7017,7014,6958,6937,6909,6890,6856,6851,6760,6751,6742,6648,6636,6628,6601,6588,6548,6527,6510,6508,6497,6474,6437,6420,6413,6412,6402,6315,6293,6162,6153,6134,6134,6117,6082,6073,6008,6000,5962,5921,5811,5809,5800,5795,5739,5738,5715,5603,5559,5549,5547,5542,5533,5495,5484,5456,5439,5421,5398,5397,5387,5368,5351,5335,5332,5328,5324,5318,5301,5279,5272,5263,5228,5211,5181,5177,5151,5143,5129,5125,5117,5097,5089,5085,5077,5065,5056,5052,5026,5022,5014,5004,4957,4905,4892,4872,4867,4848,4848,4839,4830,4820,4797,4783,4743,4735,4732,4720,4714,4708,4689,4687,4675,4645,4628,4616,4587,4569,4563,4537,4529,4503,4499,4463,4447,4442,4410,4409,4407,4405,4375,4333,4306,4290,4259,4198,4193,4183,4183,4157,4144,4138,4128,4123,4123,4115,4106,4090,4076,4057,4040,4033,4030,4028,4020,4011,4010,4001,3960,3933,3903,3898,3894,3887,3883,3877,3854,3831,3801,3784,3782,3770,3766,3759,3757,3704,3701,3699,3697,3694,3688,3655,3652,3632,3619,3601,3590,3571,3559,3541,3539,3503,3493,3492,3485,3461,3444,3420,3415,3411,3399,3397,3392,3388,3380,3357,3357,3324,3323,3299,3295,3271,3258,3254,3252,3249,3227,3209,3193,3185,3179,3169,3150,3142,3133,3119,3118,3106,3086,3073,3033,3026,3015,3012,3011,2985,2971,2965,2964,2919,2918,2912,2888,2875,2865,2859,2853,2837,2814,2814,2804,2797,2789,2786,2784,2784,2783,2780,2760,2760,2755,2753,2749,2743,2721,2706,2698,2697,2687,2669,2660,2652,2650,2650,2649,2643,2643,2641,2635,2626,2607,2606,2596,2578,2577,2573,2570,2565,2558,2547,2532,2528,2526,2520,2510,2497,2494,2472,2472,2470,2464,2459,2437,2430,2421,2412,2409,2402,2401,2390,2389,2388,2382,2371,2362,2360,2355,2354,2353,2351,2346,2342,2335,2320,2314,2311,2306,2299,2296,2281,2273,2273,2267,2244,2243,2238,2234,2227,2225,2215,2214,2204,2200,2197,2195,2185,2184,2178,2177,2164,2160,2152,2145,2142,2134,2104,2097,2097,2091,2086,2083,2076,2076,2074,2073,2071,2063,2052,2051,2039,2025,2023,2012,2007,2002,1995,1993,1975,1967,1966,1950,1949,1948,1945,1942,1936,1935,1926,1925,1908,1905,1904,1902,1898,1894,1892,1874,1873,1871,1870,1867,1858,1853,1849,1849,1839,1838,1832,1827,1825,1822,1815,1812,1811,1802,1798,1783,1780,1780,1779,1777,1772,1769,1766,1764,1764,1763,1758,1747,1741,1737,1736,1735,1734,1732,1731,1724,1723,1723,1712,1705,1703,1703,1703,1702,1701,1699,1697,1696,1688,1683,1678,1673,1659,1658,1658,1655,1655,1653,1649,1645,1640,1634,1628,1627,1626,1626,1624,1618,1613,1611,1611,1606,1605,1599,1591,1588,1586,1566,1562,1562,1557,1554,1553,1552,1551,1550,1550,1548,1547,1544,1540,1537,1534,1532,1526,1525,1520,1520,1519,1518,1517,1515,1502,1496,1494,1478,1477,1476,1472,1469,1468,1463,1454,1448,1447,1442,1439,1437,1433,1428,1425,1421,1420,1419,1415,1414,1410,1407,1406,1404,1399,1393,1388,1386,1385,1385,1371,1367,1355,1355,1353,1346,1343,1339,1337,1322,1322,1318,1318,1316,1313,1312,1309,1309,1305,1305,1302,1301,1299,1299,1296,1294,1292,1284,1284,1282,1276,1275,1274,1272,1271,1270,1266,1266,1262,1248,1241,1237,1236,1235,1229,1220,1216,1215,1212,1209,1209,1193,1186,1186,1169,1157,1156,1156,1154,1154,1152,1147,1143,1142,1134,1130,1129,1128,1126,1125,1122,1121,1119,1117,1116,1114,1109,1102,1098,1096,1096,1087,1087,1085,1080,1069,1063,1063,1062,1062,1061,1057,1054,1052,1050,1049,1040,1040,1036,1033,1032,1030,1024,1023,1023,1020,1018,1018,1011,1010,1007,1006,1004,1002,1002,1000,997,988,976,976,975,973,964,960,959,958,954,952,949,948,948,947,945,944,942,937,937,926,920,918,912,912,909,903,901,900,898,897,891,885,880,878,877,876,876,869,869,867,860,851,850,842,841,838,817,817,803,802,799,796,796,791,791,788,785,783,783,775,770,770,767,764,755,755,746,735,733,723,722,716,716,715,714,713,710,707,702,694,686,685,676,670,666,659,655,654,653,652,651,644,636,633,633,631,627,627,613,613,608,604,604,602,601,601,596,586,586,586,583,578,578,578,577,567,563,557,557,555,553,550,550,549,546,540,540,538,534,533,527,522,513,511,502,496,494,487,486,481,478,467,466,464,461,458,458,450,442,436,434,430,426,426,424,424,422,421,417,415,408,402,396,396,395,395,394,392,387,385,382,380,379,376,362,361,359,358,353,346,342,334,333,333,327,325,325,322,314,306,305,305,301,300,300,299,298,293,289,279,263,260,255,253,252,251,245,244,240,237,236,228,227,223,222,216,214,210,208,207,205,203,197,197,194,189,183,177,170,166,165,155,151,130,122,119,116,109,103,102,91,88,81,61,55,50,44,34,25,19],\"xaxis\":\"x\",\"y\":[0,0,200,0,200,0,30,0,175,190,0,0,0,120,0,0,175,195,195,195,145,180,0,50,0,195,75,0,150,195,0,50,200,195,195,0,195,20,0,0,195,200,195,80,195,20,0,100,0,20,20,195,195,200,150,20,0,95,195,200,95,75,100,140,200,0,0,75,0,0,0,0,190,0,0,30,50,20,0,100,200,20,150,195,75,195,120,70,190,20,0,100,150,50,200,50,60,75,75,0,20,100,195,200,200,40,0,0,0,200,35,0,75,0,135,200,60,150,20,100,75,120,190,40,0,20,75,150,80,0,80,150,100,0,0,0,0,80,0,65,0,75,75,200,150,175,20,75,0,20,195,120,0,50,0,0,35,195,195,100,50,200,0,0,0,100,200,20,0,200,50,55,195,195,50,95,95,20,20,0,0,0,200,150,0,75,195,50,0,20,200,20,60,145,195,90,20,0,95,50,0,115,20,200,50,0,95,195,0,200,20,195,100,50,20,20,195,150,20,95,0,200,200,20,170,110,0,60,100,100,195,20,100,75,60,0,0,50,85,40,0,100,170,95,0,200,150,20,0,0,0,20,25,75,40,0,0,150,20,0,125,195,90,75,140,150,50,50,95,200,110,0,20,200,0,20,50,75,40,20,200,0,0,100,200,30,70,80,40,0,100,95,50,200,100,165,0,20,20,50,0,25,0,100,0,200,20,200,0,40,195,20,200,20,20,140,195,200,200,0,0,200,30,150,0,0,65,120,150,50,195,45,190,195,20,95,100,50,110,200,100,20,200,95,100,200,200,50,40,0,0,150,125,100,200,0,50,0,40,35,0,195,190,20,30,20,0,50,20,75,20,200,0,95,110,50,200,20,100,100,100,195,45,95,20,0,80,75,0,0,90,0,50,65,20,20,30,35,0,75,65,175,75,0,50,110,200,195,60,195,95,0,50,80,195,0,100,100,200,0,0,95,50,100,0,0,50,0,200,20,0,0,20,195,20,35,70,30,40,120,75,50,50,0,50,200,50,150,200,200,30,120,145,20,25,195,30,0,20,20,0,200,0,20,60,195,55,0,0,50,0,20,100,50,100,20,20,20,50,0,30,200,95,50,110,0,100,40,35,30,0,25,35,20,20,120,150,50,200,200,200,150,65,20,0,0,45,20,85,20,20,40,150,25,0,195,200,20,200,195,20,0,25,60,0,20,20,90,0,50,195,65,50,20,100,40,20,30,200,100,95,195,40,0,20,120,95,140,195,35,95,200,50,20,200,40,100,20,35,25,20,95,75,175,200,75,200,50,20,120,40,20,0,20,50,150,95,40,100,50,30,40,50,45,65,55,100,195,20,20,195,20,20,195,50,40,45,35,0,50,0,95,200,100,45,20,20,200,20,20,20,25,95,100,200,195,200,50,150,30,20,20,20,200,20,20,40,20,160,60,60,40,20,20,100,20,195,55,0,20,30,25,100,95,80,25,20,20,20,50,145,120,175,20,60,0,45,95,25,200,20,20,95,75,150,45,150,115,20,75,55,80,20,195,55,100,150,150,40,50,20,75,0,50,200,40,70,25,45,20,165,20,20,50,200,150,50,200,20,140,100,200,55,195,100,20,200,100,90,95,35,95,20,120,45,25,20,55,30,30,20,195,45,60,20,25,20,30,30,60,100,20,20,20,50,20,60,100,50,195,65,70,50,100,60,195,75,30,145,120,200,95,50,50,25,25,40,195,195,65,75,145,35,50,100,50,20,20,100,50,100,25,60,50,40,200,120,45,115,25,20,50,55,30,30,50,40,50,0,45,195,55,75,90,20,20,25,0,100,20,50,40,50,195,30,40,20,195,40,40,20,30,200,20,20,50,95,40,20,110,20,200,60,200,150,100,115,25,20,150,20,95,50,100,100,195,125,40,30,200,115,60,50,50,50,75,20,125,25,60,20,25,35,25,30,120,150,120,20,200,20,20,200,200,50,200,40,50,30,50,200,50,200,105,50,35,45,80,20,150,200,50,200,95,25,20,100,20,55,20,60,85,35,20,30,40,50,25,85,95,200,50,20,20,50,40,195,200,200,50,50,200,195,20,50,85,95,25,30,200,200,20,85,20,40,35,30,35,20,150,35,195,100,20,30,100,20,20,100,100,100,145,50,25,50,60,25,20,50,45,125,20,25,20,20,95,75,50,195,20,20,20,200,195,30,20,50,20,45,75,20,40,35,35,195,20,30,70,35,45,200,50,200,50,120,20,40,35,85,75,195,50,125,195,50,35,200,40,25,95,150,40,40,95,20,40,20,20,50,25,20,115,30,35,30,95,35,65,35,30,120,85,40,20,50,85,20,85,65,105,120,20,95,20,50,200,40,85,20,145,95,200,60,75,20,50,200,40,75,115,40,50,180,85,45,20,145,35,40,195,50,60,30,95,75,120,65,50,185,200,100,95,50,40,145,30,200,145,45,50,85,175,75,40,145,40,45,95,20,95,100,60,95,95,195,20,95,50,95,20,40,200,20,40,125,45,45,30,95,145,50,50,50,200,60,35,45,40,195,50,150,20,20,150,35,40,50,20,55,20,20,95,200,50,40,200,35,185,40,80,50,95,25,40,50,95,200,50,125,35,125,25,200,20,200,30,100,40,145,40,35,50,65,40,150,95,125,50,95,25,30,50,40,100,50,85,100,40,35,165,95,125,50,50,200,20,20,50,50,30,175,200,25,200,200,35,100,30,200,40,125,100,200],\"yaxis\":\"y\",\"type\":\"scattergl\"},{\"hovertemplate\":\"<b>OLS trendline</b><br>price = 6.35078e-05 * num_subscribers + 76.6152<br>R<sup>2</sup>=0.000195<br><br>num_subscribers=%{x}<br>price=%{y} <b>(trend)</b><extra></extra>\",\"legendgroup\":\"\",\"marker\":{\"symbol\":\"circle\"},\"mode\":\"lines\",\"name\":\"\",\"showlegend\":false,\"x\":[19,25,34,44,50,55,61,81,88,91,102,103,109,116,119,122,130,151,155,165,166,170,177,183,189,194,197,197,203,205,207,208,210,214,216,222,223,227,228,236,237,240,244,245,251,252,253,255,260,263,279,289,293,298,299,300,300,301,305,305,306,314,322,325,325,327,333,333,334,342,346,353,358,359,361,362,376,379,380,382,385,387,392,394,395,395,396,396,402,408,415,417,421,422,424,424,426,426,430,434,436,442,450,458,458,461,464,466,467,478,481,486,487,494,496,502,511,513,522,527,533,534,538,540,540,546,549,550,550,553,555,557,557,563,567,577,578,578,578,583,586,586,586,596,601,601,602,604,604,608,613,613,627,627,631,633,633,636,644,651,652,653,654,655,659,666,670,676,685,686,694,702,707,710,713,714,715,716,716,722,723,733,735,746,755,755,764,767,770,770,775,783,783,785,788,791,791,796,796,799,802,803,817,817,838,841,842,850,851,860,867,869,869,876,876,877,878,880,885,891,897,898,900,901,903,909,912,912,918,920,926,937,937,942,944,945,947,948,948,949,952,954,958,959,960,964,973,975,976,976,988,997,1000,1002,1002,1004,1006,1007,1010,1011,1018,1018,1020,1023,1023,1024,1030,1032,1033,1036,1040,1040,1049,1050,1052,1054,1057,1061,1062,1062,1063,1063,1069,1080,1085,1087,1087,1096,1096,1098,1102,1109,1114,1116,1117,1119,1121,1122,1125,1126,1128,1129,1130,1134,1142,1143,1147,1152,1154,1154,1156,1156,1157,1169,1186,1186,1193,1209,1209,1212,1215,1216,1220,1229,1235,1236,1237,1241,1248,1262,1266,1266,1270,1271,1272,1274,1275,1276,1282,1284,1284,1292,1294,1296,1299,1299,1301,1302,1305,1305,1309,1309,1312,1313,1316,1318,1318,1322,1322,1337,1339,1343,1346,1353,1355,1355,1367,1371,1385,1385,1386,1388,1393,1399,1404,1406,1407,1410,1414,1415,1419,1420,1421,1425,1428,1433,1437,1439,1442,1447,1448,1454,1463,1468,1469,1472,1476,1477,1478,1494,1496,1502,1515,1517,1518,1519,1520,1520,1525,1526,1532,1534,1537,1540,1544,1547,1548,1550,1550,1551,1552,1553,1554,1557,1562,1562,1566,1586,1588,1591,1599,1605,1606,1611,1611,1613,1618,1624,1626,1626,1627,1628,1634,1640,1645,1649,1653,1655,1655,1658,1658,1659,1673,1678,1683,1688,1696,1697,1699,1701,1702,1703,1703,1703,1705,1712,1723,1723,1724,1731,1732,1734,1735,1736,1737,1741,1747,1758,1763,1764,1764,1766,1769,1772,1777,1779,1780,1780,1783,1798,1802,1811,1812,1815,1822,1825,1827,1832,1838,1839,1849,1849,1853,1858,1867,1870,1871,1873,1874,1892,1894,1898,1902,1904,1905,1908,1925,1926,1935,1936,1942,1945,1948,1949,1950,1966,1967,1975,1993,1995,2002,2007,2012,2023,2025,2039,2051,2052,2063,2071,2073,2074,2076,2076,2083,2086,2091,2097,2097,2104,2134,2142,2145,2152,2160,2164,2177,2178,2184,2185,2195,2197,2200,2204,2214,2215,2225,2227,2234,2238,2243,2244,2267,2273,2273,2281,2296,2299,2306,2311,2314,2320,2335,2342,2346,2351,2353,2354,2355,2360,2362,2371,2382,2388,2389,2390,2401,2402,2409,2412,2421,2430,2437,2459,2464,2470,2472,2472,2494,2497,2510,2520,2526,2528,2532,2547,2558,2565,2570,2573,2577,2578,2596,2606,2607,2626,2635,2641,2643,2643,2649,2650,2650,2652,2660,2669,2687,2697,2698,2706,2721,2743,2749,2753,2755,2760,2760,2780,2783,2784,2784,2786,2789,2797,2804,2814,2814,2837,2853,2859,2865,2875,2888,2912,2918,2919,2964,2965,2971,2985,3011,3012,3015,3026,3033,3073,3086,3106,3118,3119,3133,3142,3150,3169,3179,3185,3193,3209,3227,3249,3252,3254,3258,3271,3295,3299,3323,3324,3357,3357,3380,3388,3392,3397,3399,3411,3415,3420,3444,3461,3485,3492,3493,3503,3539,3541,3559,3571,3590,3601,3619,3632,3652,3655,3688,3694,3697,3699,3701,3704,3757,3759,3766,3770,3782,3784,3801,3831,3854,3877,3883,3887,3894,3898,3903,3933,3960,4001,4010,4011,4020,4028,4030,4033,4040,4057,4076,4090,4106,4115,4123,4123,4128,4138,4144,4157,4183,4183,4193,4198,4259,4290,4306,4333,4375,4405,4407,4409,4410,4442,4447,4463,4499,4503,4529,4537,4563,4569,4587,4616,4628,4645,4675,4687,4689,4708,4714,4720,4732,4735,4743,4783,4797,4820,4830,4839,4848,4848,4867,4872,4892,4905,4957,5004,5014,5022,5026,5052,5056,5065,5077,5085,5089,5097,5117,5125,5129,5143,5151,5177,5181,5211,5228,5263,5272,5279,5301,5318,5324,5328,5332,5335,5351,5368,5387,5397,5398,5421,5439,5456,5484,5495,5533,5542,5547,5549,5559,5603,5715,5738,5739,5795,5800,5809,5811,5921,5962,6000,6008,6073,6082,6117,6134,6134,6153,6162,6293,6315,6402,6412,6413,6420,6437,6474,6497,6508,6510,6527,6548,6588,6601,6628,6636,6648,6742,6751,6760,6851,6856,6890,6909,6937,6958,7014,7017,7018,7055,7057,7059,7062,7090,7130,7130,7142,7146,7169,7184,7196,7211,7213,7304,7318,7331,7368,7375,7380,7407,7416,7438,7449,7449,7484,7489,7501,7517,7660,7706,7720,7741,7785,7789,7827,7852,7865,7867,7884,7905,7922,8059,8067,8234,8320,8337,8371,8415,8462,8496,8577,8592,8594,8625,8691,8693,8711,8711,8755,8768,8770,8777,8964,8968,9028,9056,9067,9103,9109,9110,9132,9332,9349,9355,9359,9364,9375,9381,9384,9421,9425,9554,9607,9668,9687,9762,9773,9786,9831,9832,9833,9881,9945,10008,10103,10110,10150,10179,10179,10247,10394,10518,10576,10606,10610,10674,10689,10780,10864,10874,10890,10917,10945,11011,11026,11026,11080,11167,11167,11170,11170,11262,11285,11285,11339,11384,11492,11533,11536,11574,11643,11666,11758,11812,11832,11847,11892,12021,12068,12105,12201,12293,12328,12336,12366,12368,12458,12563,12629,12781,12815,12838,12873,12882,12893,12952,12953,12974,13010,13016,13130,13210,13242,13406,13439,13457,13535,13708,13882,13920,13960,14026,14074,14103,14118,14254,14260,14551,14606,14813,14842,15064,15092,15106,15134,15187,15276,15462,15493,15715,15724,16158,16212,16282,16409,16486,16527,16590,16731,16829,16926,17071,17113,17297,17334,17463,17554,17671,17714,17759,17784,17802,17895,18101,18143,18170,18324,18496,18777,18818,19210,19909,20073,20652,20890,21087,21147,21245,21653,21682,21689,21730,21998,22213,22355,22623,22999,23412,23572,23669,23764,24575,24861,24978,25799,25854,25864,26541,26673,26697,26800,27801,28125,28694,28880,29348,29990,30531,31070,31499,32260,32696,33677,33788,35267,36322,37141,40070,41478,43285,43977,47062,47886,48650,50815,51257,55332,57422,58208,59361,59639,64128,69186,70773,72932,73110,73783,79612,83737,84897,98867,114512,120291,121584,161029,268923],\"xaxis\":\"x\",\"y\":[76.61640611016037,76.61678715689679,76.61735872700143,76.61799380489548,76.6183748516319,76.61869239057893,76.61907343731535,76.62034359310344,76.62078814762927,76.62097867099749,76.62167725668093,76.62174076447033,76.62212181120677,76.6225663657326,76.6227568891008,76.62294741246902,76.62345547478425,76.62478913836175,76.62504316951936,76.6256782474134,76.62574175520281,76.62599578636043,76.62644034088626,76.62682138762268,76.6272024343591,76.62751997330614,76.62771049667435,76.62771049667435,76.62809154341078,76.62821855898959,76.62834557456839,76.62840908235779,76.6285360979366,76.62879012909423,76.62891714467303,76.62929819140946,76.62936169919887,76.62961573035648,76.62967923814588,76.63018730046112,76.63025080825052,76.63044133161874,76.63069536277635,76.63075887056576,76.63113991730218,76.63120342509158,76.63126693288099,76.6313939484598,76.63171148740682,76.63190201077504,76.6329181354055,76.63355321329955,76.63380724445717,76.63412478340419,76.6341882911936,76.634251798983,76.634251798983,76.63431530677241,76.63456933793002,76.63456933793002,76.63463284571942,76.63514090803466,76.63564897034989,76.63583949371811,76.63583949371811,76.63596650929692,76.63634755603334,76.63634755603334,76.63641106382275,76.63691912613798,76.6371731572956,76.63761771182143,76.63793525076845,76.63799875855786,76.63812577413667,76.63818928192607,76.63907839097773,76.63926891434595,76.63933242213535,76.63945943771415,76.63964996108237,76.63977697666118,76.6400945156082,76.64022153118701,76.64028503897642,76.64028503897642,76.64034854676582,76.64034854676582,76.64072959350224,76.64111064023867,76.6415551947645,76.6416822103433,76.64193624150093,76.64199974929033,76.64212676486915,76.64212676486915,76.64225378044794,76.64225378044794,76.64250781160557,76.64276184276319,76.64288885834199,76.64326990507843,76.64377796739366,76.6442860297089,76.6442860297089,76.6444765530771,76.64466707644532,76.64479409202413,76.64485759981353,76.64555618549699,76.64574670886519,76.64606424781222,76.64612775560161,76.64657231012745,76.64669932570625,76.64708037244269,76.64765194254733,76.64777895812614,76.64835052823078,76.6486680671778,76.64904911391422,76.64911262170362,76.64936665286125,76.64949366844004,76.64949366844004,76.64987471517648,76.65006523854468,76.65012874633409,76.65012874633409,76.65031926970231,76.65044628528112,76.65057330085993,76.65057330085993,76.65095434759635,76.65120837875396,76.65184345664801,76.65190696443742,76.65190696443742,76.65190696443742,76.65222450338445,76.65241502675265,76.65241502675265,76.65241502675265,76.6530501046467,76.65336764359373,76.65336764359373,76.65343115138312,76.65355816696193,76.65355816696193,76.65381219811955,76.65412973706657,76.65412973706657,76.65501884611824,76.65501884611824,76.65527287727585,76.65539989285466,76.65539989285466,76.65559041622288,76.65609847853811,76.65654303306394,76.65660654085335,76.65667004864275,76.65673355643214,76.65679706422155,76.65705109537917,76.657495649905,76.65774968106263,76.65813072779905,76.65870229790369,76.6587658056931,76.65927386800833,76.65978193032356,76.66009946927058,76.6602899926388,76.66048051600701,76.66054402379642,76.66060753158582,76.66067103937522,76.66067103937522,76.66105208611165,76.66111559390106,76.66175067179509,76.6618776873739,76.66257627305735,76.663147843162,76.663147843162,76.66371941326663,76.66390993663485,76.66410046000306,76.66410046000306,76.66441799895009,76.66492606126532,76.66492606126532,76.66505307684413,76.66524360021234,76.66543412358055,76.66543412358055,76.66575166252757,76.66575166252757,76.66594218589579,76.666132709264,76.6661962170534,76.66708532610507,76.66708532610507,76.66841898968255,76.66860951305077,76.66867302084017,76.66918108315541,76.66924459094481,76.66981616104945,76.67026071557528,76.6703877311541,76.6703877311541,76.67083228567992,76.67083228567992,76.67089579346933,76.67095930125873,76.67108631683755,76.67140385578456,76.67178490252098,76.67216594925742,76.67222945704683,76.67235647262562,76.67241998041503,76.67254699599384,76.67292804273026,76.67311856609848,76.67311856609848,76.6734996128349,76.67362662841371,76.67400767515014,76.67470626083359,76.67470626083359,76.67502379978062,76.67515081535942,76.67521432314882,76.67534133872763,76.67540484651704,76.67540484651704,76.67546835430645,76.67565887767465,76.67578589325346,76.67603992441109,76.67610343220049,76.6761669399899,76.67642097114751,76.67699254125215,76.67711955683096,76.67718306462037,76.67718306462037,76.67794515809321,76.67851672819785,76.67870725156607,76.67883426714488,76.67883426714488,76.67896128272369,76.67908829830249,76.6791518060919,76.67934232946011,76.67940583724952,76.67985039177535,76.67985039177535,76.67997740735416,76.68016793072236,76.68016793072236,76.68023143851177,76.6806124852482,76.680739500827,76.68080300861641,76.68099353198463,76.68124756314224,76.68124756314224,76.68181913324688,76.68188264103628,76.6820096566151,76.6821366721939,76.68232719556212,76.68258122671973,76.68264473450914,76.68264473450914,76.68270824229855,76.68270824229855,76.68308928903497,76.68378787471842,76.68410541366543,76.68423242924425,76.68423242924425,76.68480399934889,76.68480399934889,76.6849310149277,76.68518504608531,76.68562960061115,76.68594713955817,76.68607415513698,76.68613766292638,76.68626467850518,76.686391694084,76.6864552018734,76.68664572524162,76.68670923303102,76.68683624860982,76.68689975639923,76.68696326418863,76.68721729534626,76.68772535766149,76.6877888654509,76.68804289660851,76.68836043555554,76.68848745113434,76.68848745113434,76.68861446671315,76.68861446671315,76.68867797450255,76.68944006797541,76.69051970039528,76.69051970039528,76.69096425492111,76.69198037955158,76.69198037955158,76.6921709029198,76.69236142628802,76.69242493407741,76.69267896523503,76.69325053533967,76.6936315820761,76.6936950898655,76.6937585976549,76.69401262881253,76.69445718333836,76.69534629239001,76.69560032354764,76.69560032354764,76.69585435470525,76.69591786249465,76.69598137028406,76.69610838586287,76.69617189365228,76.69623540144168,76.6966164481781,76.69674346375692,76.69674346375692,76.69725152607215,76.69737854165096,76.69750555722976,76.69769608059798,76.69769608059798,76.69782309617679,76.6978866039662,76.6980771273344,76.6980771273344,76.69833115849202,76.69833115849202,76.69852168186023,76.69858518964963,76.69877571301785,76.69890272859666,76.69890272859666,76.69915675975427,76.69915675975427,76.70010937659535,76.70023639217415,76.70049042333177,76.70068094669999,76.70112550122582,76.70125251680463,76.70125251680463,76.70201461027747,76.7022686414351,76.70315775048675,76.70315775048675,76.70322125827616,76.70334827385497,76.70366581280199,76.70404685953842,76.70436439848544,76.70449141406425,76.70455492185366,76.70474544522186,76.70499947637948,76.70506298416889,76.7053170153265,76.7053805231159,76.70544403090531,76.70569806206294,76.70588858543114,76.70620612437817,76.70646015553578,76.70658717111459,76.70677769448281,76.70709523342983,76.70715874121923,76.70753978795565,76.7081113580603,76.70842889700732,76.70849240479673,76.70868292816493,76.70893695932256,76.70900046711196,76.70906397490137,76.71008009953184,76.71020711511063,76.71058816184707,76.71141376310932,76.71154077868813,76.71160428647754,76.71166779426694,76.71173130205635,76.71173130205635,76.71204884100337,76.71211234879277,76.7124933955292,76.712620411108,76.71281093447622,76.71300145784443,76.71325548900205,76.71344601237027,76.71350952015968,76.71363653573847,76.71363653573847,76.71370004352788,76.71376355131729,76.71382705910669,76.7138905668961,76.71408109026432,76.71439862921133,76.71439862921133,76.71465266036896,76.71592281615703,76.71604983173584,76.71624035510406,76.7167484174193,76.71712946415572,76.71719297194512,76.71751051089214,76.71751051089214,76.71763752647095,76.71795506541798,76.7183361121544,76.71846312773322,76.71846312773322,76.71852663552262,76.71859014331201,76.71897119004845,76.71935223678487,76.7196697757319,76.71992380688951,76.72017783804714,76.72030485362593,76.72030485362593,76.72049537699415,76.72049537699415,76.72055888478356,76.72144799383521,76.72176553278224,76.72208307172926,76.72240061067629,76.72290867299152,76.72297218078093,76.72309919635973,76.72322621193854,76.72328971972794,76.72335322751735,76.72335322751735,76.72335322751735,76.72348024309616,76.72392479762199,76.72462338330544,76.72462338330544,76.72468689109485,76.72513144562068,76.72519495341008,76.72532196898888,76.72538547677829,76.72544898456769,76.7255124923571,76.72576652351472,76.72614757025114,76.7268461559346,76.72716369488161,76.72722720267102,76.72722720267102,76.72735421824983,76.72754474161803,76.72773526498625,76.72805280393327,76.72817981951208,76.72824332730148,76.72824332730148,76.7284338506697,76.72938646751076,76.72964049866839,76.73021206877303,76.73027557656242,76.73046609993064,76.73091065445647,76.73110117782468,76.7312281934035,76.73154573235051,76.73192677908695,76.73199028687634,76.73262536477039,76.73262536477039,76.73287939592801,76.73319693487502,76.73376850497966,76.73395902834788,76.73402253613729,76.7341495517161,76.73421305950549,76.73535619971477,76.73548321529358,76.73573724645121,76.73599127760882,76.73611829318763,76.73618180097704,76.73637232434525,76.73745195676513,76.73751546455452,76.73808703465916,76.73815054244857,76.738531589185,76.7387221125532,76.73891263592142,76.73897614371083,76.73903965150024,76.7400557761307,76.74011928392011,76.74062734623534,76.74177048644462,76.74189750202343,76.74234205654926,76.74265959549628,76.74297713444331,76.74367572012675,76.74380273570556,76.74469184475723,76.74545393823007,76.74551744601948,76.74621603170293,76.74672409401816,76.74685110959697,76.74691461738638,76.74704163296518,76.74704163296518,76.74748618749102,76.74767671085922,76.74799424980625,76.74837529654268,76.74837529654268,76.7488198510685,76.75072508475064,76.75123314706588,76.7514236704341,76.75186822495992,76.75237628727515,76.75263031843276,76.75345591969503,76.75351942748443,76.75390047422086,76.75396398201026,76.75459905990431,76.75472607548312,76.75491659885132,76.75517063000895,76.755805707903,76.7558692156924,76.75650429358643,76.75663130916524,76.75707586369107,76.7573298948487,76.75764743379571,76.75771094158512,76.75917162074143,76.75955266747785,76.75955266747785,76.76006072979308,76.76101334663414,76.76120387000236,76.76164842452819,76.76196596347522,76.76215648684342,76.76253753357986,76.76349015042092,76.76393470494675,76.76418873610437,76.76450627505139,76.7646332906302,76.7646967984196,76.76476030620901,76.76507784515603,76.76520486073484,76.76577643083948,76.76647501652293,76.76685606325935,76.76691957104876,76.76698307883817,76.7676816645216,76.76774517231101,76.76818972683684,76.76838025020506,76.7689518203097,76.76952339041434,76.76996794494016,76.77136511630707,76.77168265525408,76.7720637019905,76.77219071756932,76.77219071756932,76.77358788893622,76.77377841230442,76.77460401356669,76.77523909146073,76.77562013819716,76.77574715377597,76.77600118493358,76.77695380177465,76.77765238745809,76.77809694198393,76.77841448093095,76.77860500429917,76.77885903545678,76.77892254324618,76.78006568345546,76.78070076134951,76.78076426913891,76.7819709171376,76.78254248724224,76.78292353397866,76.78305054955747,76.78305054955747,76.7834315962939,76.7834951040833,76.7834951040833,76.78362211966211,76.78413018197735,76.78470175208199,76.78584489229127,76.78647997018531,76.7865434779747,76.78705154028995,76.78800415713101,76.7894013284979,76.78978237523434,76.79003640639195,76.79016342197076,76.79048096091778,76.79048096091778,76.79175111670587,76.79194164007409,76.79200514786349,76.79200514786349,76.79213216344229,76.79232268681051,76.79283074912574,76.79327530365157,76.79391038154561,76.79391038154561,76.79537106070192,76.79638718533239,76.79676823206881,76.79714927880524,76.79778435669928,76.79860995796155,76.80013414490725,76.80051519164367,76.80057869943307,76.80343654995627,76.80350005774568,76.8038811044821,76.80477021353377,76.80642141605828,76.80648492384769,76.8066754472159,76.80737403289935,76.80781858742517,76.81035889900136,76.81118450026361,76.8124546560517,76.81321674952456,76.81328025731396,76.81416936636562,76.81474093647026,76.81524899878549,76.81645564678418,76.81709072467822,76.81747177141465,76.81797983372988,76.81899595836035,76.82013909856963,76.82153626993653,76.82172679330473,76.82185380888355,76.82210784004117,76.82293344130342,76.82445762824912,76.82471165940674,76.82623584635245,76.82629935414185,76.8283951111922,76.8283951111922,76.8298557903485,76.83036385266374,76.83061788382135,76.83093542276838,76.83106243834719,76.83182453182003,76.83207856297766,76.83239610192467,76.83392028887037,76.83499992129026,76.83652410823596,76.83696866276179,76.8370321705512,76.83766724844524,76.8399535288638,76.8400805444426,76.84122368465188,76.84198577812474,76.84319242612342,76.84389101180687,76.84503415201615,76.8458597532784,76.8471299090665,76.8473204324347,76.84941618948505,76.84979723622148,76.8499877595897,76.85011477516849,76.8502417907473,76.85043231411552,76.85379822695396,76.85392524253277,76.8543697970586,76.8546238282162,76.85538592168906,76.85551293726787,76.85659256968775,76.85849780336987,76.85995848252618,76.86141916168248,76.8618002084189,76.86205423957652,76.86249879410235,76.86275282525997,76.86307036420699,76.86497559788913,76.86669030820305,76.86929412756862,76.86986569767326,76.86992920546267,76.87050077556731,76.87100883788254,76.87113585346135,76.87132637682956,76.8717709313554,76.87285056377527,76.87405721177394,76.87494632082561,76.87596244545608,76.87653401556072,76.87704207787596,76.87704207787596,76.87735961682299,76.87799469471702,76.87837574145345,76.8792013427157,76.88085254524022,76.88085254524022,76.88148762313426,76.88180516208129,76.88567913723496,76.88764787870649,76.88866400333696,76.89037871365088,76.89304604080586,76.894951274488,76.8950782900668,76.8952053056456,76.89526881343501,76.89730106269596,76.89761860164298,76.89863472627344,76.900921006692,76.90117503784963,76.90282624037414,76.90333430268937,76.90498550521389,76.90536655195031,76.90650969215959,76.90835141805232,76.90911351152518,76.91019314394505,76.91209837762717,76.91286047110003,76.91298748667884,76.91419413467752,76.91457518141395,76.91495622815037,76.91571832162323,76.91590884499143,76.91641690730667,76.91895721888285,76.91984632793451,76.92130700709082,76.92194208498486,76.92251365508949,76.92308522519413,76.92308522519413,76.92429187319281,76.92460941213984,76.92587956792792,76.92670516919019,76.93000757423921,76.93299244034122,76.93362751823527,76.9341355805505,76.93438961170811,76.93604081423263,76.93629484539025,76.93686641549489,76.93762850896773,76.93813657128297,76.93839060244059,76.93889866475583,76.94016882054392,76.94067688285915,76.94093091401676,76.94182002306843,76.94232808538366,76.94397928790818,76.94423331906579,76.94613855274793,76.9472181851678,76.94944095779695,76.95001252790159,76.95045708242742,76.95185425379432,76.9529338862142,76.95331493295062,76.95356896410824,76.95382299526585,76.95401351863407,76.95502964326454,76.95610927568441,76.9573159236831,76.95795100157714,76.95801450936655,76.95947518852284,76.96061832873212,76.961697961152,76.96347617925532,76.96417476493878,76.96658806093613,76.96715963104077,76.9674771699878,76.96760418556661,76.96823926346065,76.97103360619444,76.97814647860774,76.97960715776404,76.97967066555344,76.9832271017601,76.98354464070711,76.98411621081175,76.98424322639056,76.99122908322504,76.99383290259061,76.99624619858798,76.99675426090322,77.00088226721451,77.00145383731915,77.0036766099483,77.00475624236817,77.00475624236817,77.00596289036686,77.0065344604715,77.01485398088347,77.01625115225036,77.02177632992854,77.02241140782259,77.022474915612,77.02291947013782,77.0239991025577,77.02634889076566,77.02780956992197,77.02850815560541,77.02863517118422,77.0297148036041,77.03104846718159,77.03358877875776,77.03441438002002,77.03612909033394,77.03663715264918,77.03739924612202,77.04336897832604,77.04394054843068,77.04451211853532,77.05029132737111,77.05060886631814,77.05276813115789,77.05397477915658,77.05575299725989,77.05708666083738,77.06064309704404,77.06083362041224,77.06089712820165,77.06324691640961,77.06337393198842,77.06350094756722,77.06369147093544,77.06546968903876,77.06801000061493,77.06801000061493,77.06877209408779,77.06902612524541,77.07048680440171,77.07143942124277,77.07220151471563,77.07315413155669,77.0732811471355,77.07906035597131,77.07994946502296,77.08077506628521,77.08312485449318,77.083569409019,77.08388694796604,77.08560165827996,77.0861732283846,77.08757039975148,77.08826898543494,77.08826898543494,77.09049175806409,77.0908092970111,77.09157139048396,77.09258751511443,77.10166912899926,77.10459048731187,77.10547959636352,77.10681325994102,77.10960760267481,77.10986163383242,77.1122749298298,77.1138626245649,77.11468822582717,77.11481524140596,77.11589487382584,77.11722853740334,77.11830816982321,77.1270087369716,77.12751679928685,77.13812260011738,77.14358427000616,77.14466390242603,77.14682316726578,77.14961750999957,77.15260237610158,77.15476164094133,77.15990577188307,77.16085838872415,77.16098540430295,77.16295414577449,77.16714565987517,77.16727267545399,77.16841581566327,77.16841581566327,77.17121015839706,77.17203575965932,77.17216277523812,77.17260732976396,77.18448328638257,77.1847373175402,77.18854778490446,77.19032600300778,77.19102458869123,77.19331086910978,77.19369191584622,77.19375542363562,77.19515259500251,77.20785415288339,77.20893378530326,77.2093148320397,77.2095688631973,77.20988640214433,77.21058498782777,77.21096603456421,77.21115655793241,77.21350634614038,77.213760377298,77.22195288213116,77.2253187949696,77.22919277012326,77.23039941812195,77.23516250232727,77.23586108801072,77.23668668927299,77.23954453979619,77.23960804758558,77.23967155537498,77.2427199292664,77.24678442778828,77.25078541852075,77.25681865851418,77.25726321304,77.25980352461617,77.2616452505089,77.2616452505089,77.2659637801884,77.27529942523084,77.28317439111699,77.28685784290245,77.28876307658457,77.2890171077422,77.29308160626407,77.29403422310514,77.29981343194093,77.30514808625091,77.30578316414496,77.30679928877542,77.30851399908934,77.31029221719267,77.31448373129335,77.31543634813441,77.31543634813441,77.31886576876225,77.32439094644043,77.32439094644043,77.32458146980865,77.32458146980865,77.33042418643385,77.33188486559015,77.33188486559015,77.335314286218,77.33817213674119,77.34503097799686,77.34763479736245,77.34782532073065,77.35023861672802,77.35462065419692,77.35608133335322,77.36192404997843,77.36535347060627,77.36662362639434,77.36757624323542,77.37043409375862,77.37862659859178,77.38161146469379,77.38396125290174,77.39005800068456,77.39590071730977,77.39812348993892,77.39863155225416,77.4005367859363,77.4006638015151,77.40637950256149,77.41304782044895,77.41723933454965,77.4268925185391,77.42905178337885,77.43051246253516,77.43273523516432,77.43330680526896,77.43400539095241,77.43775235052726,77.43781585831667,77.43914952189415,77.44143580231271,77.44181684904915,77.44905673704125,77.45413736019358,77.45616960945453,77.46658488691685,77.46868064396719,77.46982378417647,77.47477739175001,77.48576423931698,77.49681459467334,77.4992278906707,77.50176820224688,77.50595971634756,77.50900809023898,77.51084981613171,77.51180243297277,77.52043949233176,77.5208205390682,77.53930130578487,77.5427942342021,77.55594034660882,77.55778207250154,77.57188080174932,77.57365901985264,77.5745481289043,77.57632634700762,77.57969225984606,77.58534445310305,77.59715690193227,77.5991256434038,77.61322437265157,77.61379594275621,77.64135832335771,77.64478774398555,77.64923328924385,77.65729877849822,77.66218887828235,77.66479269764793,77.6687936883804,77.67774828668642,77.68397205004806,77.69013230562028,77.69934093508391,77.7020082622389,77.71369369548931,77.71604348369726,77.72423598853044,77.73001519736623,77.73744560872655,77.74017644367093,77.74303429419413,77.74462198892924,77.74576512913852,77.75167135355312,77.76475395817043,77.76742128532541,77.76913599563933,77.77891619520761,77.78983953498516,77.8076852238078,77.81028904317337,77.8351840966199,77.87957604141356,77.88999131887587,77.92676232894101,77.94187718281925,77.95438821733192,77.95819868469619,77.96442244805782,77.9903336261348,77.99217535202753,77.99261990655336,77.99522372591893,78.01224381347932,78.02589798820125,78.03491609429668,78.05193618185706,78.0758151106731,78.10204382769712,78.1122050740018,78.11836532957403,78.12439856956746,78.17590338677441,78.19406661454406,78.20149702590437,78.25363692100538,78.25712984942261,78.25776492731666,78.30075970074343,78.3091427289448,78.31066691589051,78.31720821819916,78.38077951539294,78.40135603915996,78.43749197133107,78.44930442016027,78.47902606560153,78.51979806639915,78.55415578046691,78.58838647895588,78.61563132061036,78.6639607483471,78.69165014452742,78.75395128593311,78.761000650557,78.85492867108607,78.9219293889077,78.9739422684299,79.15995658359533,79.24937555107671,79.36413412653043,79.40808151679826,79.60400304711078,79.65633346557999,79.70485341668494,79.84234778074543,79.87041822366217,80.12921246548504,80.26194374534019,80.31186086781204,80.38508534899529,80.40274051444972,80.68782698108599,81.00904937989337,81.10983624167812,81.24694955900219,81.25825394551616,81.30099468778532,81.67118159222346,81.93315122351655,82.00682025922563,82.89402407720488,83.88760344243646,84.25461495740439,84.33673052910424,86.84179528216016,93.69390471215672],\"yaxis\":\"y\",\"type\":\"scattergl\"}],                        {\"template\":{\"data\":{\"bar\":[{\"error_x\":{\"color\":\"#2a3f5f\"},\"error_y\":{\"color\":\"#2a3f5f\"},\"marker\":{\"line\":{\"color\":\"#E5ECF6\",\"width\":0.5},\"pattern\":{\"fillmode\":\"overlay\",\"size\":10,\"solidity\":0.2}},\"type\":\"bar\"}],\"barpolar\":[{\"marker\":{\"line\":{\"color\":\"#E5ECF6\",\"width\":0.5},\"pattern\":{\"fillmode\":\"overlay\",\"size\":10,\"solidity\":0.2}},\"type\":\"barpolar\"}],\"carpet\":[{\"aaxis\":{\"endlinecolor\":\"#2a3f5f\",\"gridcolor\":\"white\",\"linecolor\":\"white\",\"minorgridcolor\":\"white\",\"startlinecolor\":\"#2a3f5f\"},\"baxis\":{\"endlinecolor\":\"#2a3f5f\",\"gridcolor\":\"white\",\"linecolor\":\"white\",\"minorgridcolor\":\"white\",\"startlinecolor\":\"#2a3f5f\"},\"type\":\"carpet\"}],\"choropleth\":[{\"colorbar\":{\"outlinewidth\":0,\"ticks\":\"\"},\"type\":\"choropleth\"}],\"contour\":[{\"colorbar\":{\"outlinewidth\":0,\"ticks\":\"\"},\"colorscale\":[[0.0,\"#0d0887\"],[0.1111111111111111,\"#46039f\"],[0.2222222222222222,\"#7201a8\"],[0.3333333333333333,\"#9c179e\"],[0.4444444444444444,\"#bd3786\"],[0.5555555555555556,\"#d8576b\"],[0.6666666666666666,\"#ed7953\"],[0.7777777777777778,\"#fb9f3a\"],[0.8888888888888888,\"#fdca26\"],[1.0,\"#f0f921\"]],\"type\":\"contour\"}],\"contourcarpet\":[{\"colorbar\":{\"outlinewidth\":0,\"ticks\":\"\"},\"type\":\"contourcarpet\"}],\"heatmap\":[{\"colorbar\":{\"outlinewidth\":0,\"ticks\":\"\"},\"colorscale\":[[0.0,\"#0d0887\"],[0.1111111111111111,\"#46039f\"],[0.2222222222222222,\"#7201a8\"],[0.3333333333333333,\"#9c179e\"],[0.4444444444444444,\"#bd3786\"],[0.5555555555555556,\"#d8576b\"],[0.6666666666666666,\"#ed7953\"],[0.7777777777777778,\"#fb9f3a\"],[0.8888888888888888,\"#fdca26\"],[1.0,\"#f0f921\"]],\"type\":\"heatmap\"}],\"heatmapgl\":[{\"colorbar\":{\"outlinewidth\":0,\"ticks\":\"\"},\"colorscale\":[[0.0,\"#0d0887\"],[0.1111111111111111,\"#46039f\"],[0.2222222222222222,\"#7201a8\"],[0.3333333333333333,\"#9c179e\"],[0.4444444444444444,\"#bd3786\"],[0.5555555555555556,\"#d8576b\"],[0.6666666666666666,\"#ed7953\"],[0.7777777777777778,\"#fb9f3a\"],[0.8888888888888888,\"#fdca26\"],[1.0,\"#f0f921\"]],\"type\":\"heatmapgl\"}],\"histogram\":[{\"marker\":{\"pattern\":{\"fillmode\":\"overlay\",\"size\":10,\"solidity\":0.2}},\"type\":\"histogram\"}],\"histogram2d\":[{\"colorbar\":{\"outlinewidth\":0,\"ticks\":\"\"},\"colorscale\":[[0.0,\"#0d0887\"],[0.1111111111111111,\"#46039f\"],[0.2222222222222222,\"#7201a8\"],[0.3333333333333333,\"#9c179e\"],[0.4444444444444444,\"#bd3786\"],[0.5555555555555556,\"#d8576b\"],[0.6666666666666666,\"#ed7953\"],[0.7777777777777778,\"#fb9f3a\"],[0.8888888888888888,\"#fdca26\"],[1.0,\"#f0f921\"]],\"type\":\"histogram2d\"}],\"histogram2dcontour\":[{\"colorbar\":{\"outlinewidth\":0,\"ticks\":\"\"},\"colorscale\":[[0.0,\"#0d0887\"],[0.1111111111111111,\"#46039f\"],[0.2222222222222222,\"#7201a8\"],[0.3333333333333333,\"#9c179e\"],[0.4444444444444444,\"#bd3786\"],[0.5555555555555556,\"#d8576b\"],[0.6666666666666666,\"#ed7953\"],[0.7777777777777778,\"#fb9f3a\"],[0.8888888888888888,\"#fdca26\"],[1.0,\"#f0f921\"]],\"type\":\"histogram2dcontour\"}],\"mesh3d\":[{\"colorbar\":{\"outlinewidth\":0,\"ticks\":\"\"},\"type\":\"mesh3d\"}],\"parcoords\":[{\"line\":{\"colorbar\":{\"outlinewidth\":0,\"ticks\":\"\"}},\"type\":\"parcoords\"}],\"pie\":[{\"automargin\":true,\"type\":\"pie\"}],\"scatter\":[{\"marker\":{\"colorbar\":{\"outlinewidth\":0,\"ticks\":\"\"}},\"type\":\"scatter\"}],\"scatter3d\":[{\"line\":{\"colorbar\":{\"outlinewidth\":0,\"ticks\":\"\"}},\"marker\":{\"colorbar\":{\"outlinewidth\":0,\"ticks\":\"\"}},\"type\":\"scatter3d\"}],\"scattercarpet\":[{\"marker\":{\"colorbar\":{\"outlinewidth\":0,\"ticks\":\"\"}},\"type\":\"scattercarpet\"}],\"scattergeo\":[{\"marker\":{\"colorbar\":{\"outlinewidth\":0,\"ticks\":\"\"}},\"type\":\"scattergeo\"}],\"scattergl\":[{\"marker\":{\"colorbar\":{\"outlinewidth\":0,\"ticks\":\"\"}},\"type\":\"scattergl\"}],\"scattermapbox\":[{\"marker\":{\"colorbar\":{\"outlinewidth\":0,\"ticks\":\"\"}},\"type\":\"scattermapbox\"}],\"scatterpolar\":[{\"marker\":{\"colorbar\":{\"outlinewidth\":0,\"ticks\":\"\"}},\"type\":\"scatterpolar\"}],\"scatterpolargl\":[{\"marker\":{\"colorbar\":{\"outlinewidth\":0,\"ticks\":\"\"}},\"type\":\"scatterpolargl\"}],\"scatterternary\":[{\"marker\":{\"colorbar\":{\"outlinewidth\":0,\"ticks\":\"\"}},\"type\":\"scatterternary\"}],\"surface\":[{\"colorbar\":{\"outlinewidth\":0,\"ticks\":\"\"},\"colorscale\":[[0.0,\"#0d0887\"],[0.1111111111111111,\"#46039f\"],[0.2222222222222222,\"#7201a8\"],[0.3333333333333333,\"#9c179e\"],[0.4444444444444444,\"#bd3786\"],[0.5555555555555556,\"#d8576b\"],[0.6666666666666666,\"#ed7953\"],[0.7777777777777778,\"#fb9f3a\"],[0.8888888888888888,\"#fdca26\"],[1.0,\"#f0f921\"]],\"type\":\"surface\"}],\"table\":[{\"cells\":{\"fill\":{\"color\":\"#EBF0F8\"},\"line\":{\"color\":\"white\"}},\"header\":{\"fill\":{\"color\":\"#C8D4E3\"},\"line\":{\"color\":\"white\"}},\"type\":\"table\"}]},\"layout\":{\"annotationdefaults\":{\"arrowcolor\":\"#2a3f5f\",\"arrowhead\":0,\"arrowwidth\":1},\"autotypenumbers\":\"strict\",\"coloraxis\":{\"colorbar\":{\"outlinewidth\":0,\"ticks\":\"\"}},\"colorscale\":{\"diverging\":[[0,\"#8e0152\"],[0.1,\"#c51b7d\"],[0.2,\"#de77ae\"],[0.3,\"#f1b6da\"],[0.4,\"#fde0ef\"],[0.5,\"#f7f7f7\"],[0.6,\"#e6f5d0\"],[0.7,\"#b8e186\"],[0.8,\"#7fbc41\"],[0.9,\"#4d9221\"],[1,\"#276419\"]],\"sequential\":[[0.0,\"#0d0887\"],[0.1111111111111111,\"#46039f\"],[0.2222222222222222,\"#7201a8\"],[0.3333333333333333,\"#9c179e\"],[0.4444444444444444,\"#bd3786\"],[0.5555555555555556,\"#d8576b\"],[0.6666666666666666,\"#ed7953\"],[0.7777777777777778,\"#fb9f3a\"],[0.8888888888888888,\"#fdca26\"],[1.0,\"#f0f921\"]],\"sequentialminus\":[[0.0,\"#0d0887\"],[0.1111111111111111,\"#46039f\"],[0.2222222222222222,\"#7201a8\"],[0.3333333333333333,\"#9c179e\"],[0.4444444444444444,\"#bd3786\"],[0.5555555555555556,\"#d8576b\"],[0.6666666666666666,\"#ed7953\"],[0.7777777777777778,\"#fb9f3a\"],[0.8888888888888888,\"#fdca26\"],[1.0,\"#f0f921\"]]},\"colorway\":[\"#636efa\",\"#EF553B\",\"#00cc96\",\"#ab63fa\",\"#FFA15A\",\"#19d3f3\",\"#FF6692\",\"#B6E880\",\"#FF97FF\",\"#FECB52\"],\"font\":{\"color\":\"#2a3f5f\"},\"geo\":{\"bgcolor\":\"white\",\"lakecolor\":\"white\",\"landcolor\":\"#E5ECF6\",\"showlakes\":true,\"showland\":true,\"subunitcolor\":\"white\"},\"hoverlabel\":{\"align\":\"left\"},\"hovermode\":\"closest\",\"mapbox\":{\"style\":\"light\"},\"paper_bgcolor\":\"white\",\"plot_bgcolor\":\"#E5ECF6\",\"polar\":{\"angularaxis\":{\"gridcolor\":\"white\",\"linecolor\":\"white\",\"ticks\":\"\"},\"bgcolor\":\"#E5ECF6\",\"radialaxis\":{\"gridcolor\":\"white\",\"linecolor\":\"white\",\"ticks\":\"\"}},\"scene\":{\"xaxis\":{\"backgroundcolor\":\"#E5ECF6\",\"gridcolor\":\"white\",\"gridwidth\":2,\"linecolor\":\"white\",\"showbackground\":true,\"ticks\":\"\",\"zerolinecolor\":\"white\"},\"yaxis\":{\"backgroundcolor\":\"#E5ECF6\",\"gridcolor\":\"white\",\"gridwidth\":2,\"linecolor\":\"white\",\"showbackground\":true,\"ticks\":\"\",\"zerolinecolor\":\"white\"},\"zaxis\":{\"backgroundcolor\":\"#E5ECF6\",\"gridcolor\":\"white\",\"gridwidth\":2,\"linecolor\":\"white\",\"showbackground\":true,\"ticks\":\"\",\"zerolinecolor\":\"white\"}},\"shapedefaults\":{\"line\":{\"color\":\"#2a3f5f\"}},\"ternary\":{\"aaxis\":{\"gridcolor\":\"white\",\"linecolor\":\"white\",\"ticks\":\"\"},\"baxis\":{\"gridcolor\":\"white\",\"linecolor\":\"white\",\"ticks\":\"\"},\"bgcolor\":\"#E5ECF6\",\"caxis\":{\"gridcolor\":\"white\",\"linecolor\":\"white\",\"ticks\":\"\"}},\"title\":{\"x\":0.05},\"xaxis\":{\"automargin\":true,\"gridcolor\":\"white\",\"linecolor\":\"white\",\"ticks\":\"\",\"title\":{\"standoff\":15},\"zerolinecolor\":\"white\",\"zerolinewidth\":2},\"yaxis\":{\"automargin\":true,\"gridcolor\":\"white\",\"linecolor\":\"white\",\"ticks\":\"\",\"title\":{\"standoff\":15},\"zerolinecolor\":\"white\",\"zerolinewidth\":2}}},\"xaxis\":{\"anchor\":\"y\",\"domain\":[0.0,1.0],\"title\":{\"text\":\"N\\u00famero de Alunos Inscritos\"}},\"yaxis\":{\"anchor\":\"x\",\"domain\":[0.0,1.0],\"title\":{\"text\":\"Pre\\u00e7o (d\\u00f3lares)\"}},\"coloraxis\":{\"colorbar\":{\"title\":{\"text\":\"price\"}},\"colorscale\":[[0.0,\"#0d0887\"],[0.1111111111111111,\"#46039f\"],[0.2222222222222222,\"#7201a8\"],[0.3333333333333333,\"#9c179e\"],[0.4444444444444444,\"#bd3786\"],[0.5555555555555556,\"#d8576b\"],[0.6666666666666666,\"#ed7953\"],[0.7777777777777778,\"#fb9f3a\"],[0.8888888888888888,\"#fdca26\"],[1.0,\"#f0f921\"]]},\"legend\":{\"tracegroupgap\":0,\"itemsizing\":\"constant\"},\"margin\":{\"t\":60},\"title\":{\"text\":\"Rela\\u00e7\\u00e3o Pre\\u00e7o/Popularidade para os Cursos da \\u00c1rea de Desenvolvimento Web<br><sup>Bolhas representam a nota do curso pelos usu\\u00e1rios</sup>\"}},                        {\"responsive\": true}                    ).then(function(){\n",
       "                            \n",
       "var gd = document.getElementById('b2571e6d-dc2a-45fe-9b60-fb559a89fadd');\n",
       "var x = new MutationObserver(function (mutations, observer) {{\n",
       "        var display = window.getComputedStyle(gd).display;\n",
       "        if (!display || display === 'none') {{\n",
       "            console.log([gd, 'removed!']);\n",
       "            Plotly.purge(gd);\n",
       "            observer.disconnect();\n",
       "        }}\n",
       "}});\n",
       "\n",
       "// Listen for the removal of the full notebook cells\n",
       "var notebookContainer = gd.closest('#notebook-container');\n",
       "if (notebookContainer) {{\n",
       "    x.observe(notebookContainer, {childList: true});\n",
       "}}\n",
       "\n",
       "// Listen for the clearing of the current output cell\n",
       "var outputEl = gd.closest('.output');\n",
       "if (outputEl) {{\n",
       "    x.observe(outputEl, {childList: true});\n",
       "}}\n",
       "\n",
       "                        })                };                });            </script>        </div>"
      ]
     },
     "metadata": {},
     "output_type": "display_data"
    }
   ],
   "source": [
    "px.scatter(df3, x='num_subscribers', y='price', size='rating', color='price', trendline=\"ols\", hover_data=[\"course_title\"]).update_layout(title=\"Relação Preço/Popularidade para os Cursos da Área de Desenvolvimento Web<br><sup>Bolhas representam a nota do curso pelos usuários</sup>\", yaxis_title_text=\"Preço (dólares)\", xaxis_title_text='Número de Alunos Inscritos')"
   ]
  },
  {
   "cell_type": "code",
   "execution_count": 173,
   "id": "be00e467",
   "metadata": {},
   "outputs": [
    {
     "data": {
      "text/html": [
       "<div>\n",
       "<style scoped>\n",
       "    .dataframe tbody tr th:only-of-type {\n",
       "        vertical-align: middle;\n",
       "    }\n",
       "\n",
       "    .dataframe tbody tr th {\n",
       "        vertical-align: top;\n",
       "    }\n",
       "\n",
       "    .dataframe thead th {\n",
       "        text-align: right;\n",
       "    }\n",
       "</style>\n",
       "<table border=\"1\" class=\"dataframe\">\n",
       "  <thead>\n",
       "    <tr style=\"text-align: right;\">\n",
       "      <th></th>\n",
       "      <th>course_id</th>\n",
       "      <th>course_title</th>\n",
       "      <th>url</th>\n",
       "      <th>price</th>\n",
       "      <th>num_subscribers</th>\n",
       "      <th>num_reviews</th>\n",
       "      <th>num_lectures</th>\n",
       "      <th>level</th>\n",
       "      <th>rating</th>\n",
       "      <th>content_duration</th>\n",
       "      <th>published_timestamp</th>\n",
       "      <th>subject</th>\n",
       "      <th>Date</th>\n",
       "      <th>Free/Paid</th>\n",
       "    </tr>\n",
       "  </thead>\n",
       "  <tbody>\n",
       "    <tr>\n",
       "      <th>16</th>\n",
       "      <td>49798</td>\n",
       "      <td>Bitcoin or How I Learned to Stop Worrying and ...</td>\n",
       "      <td>https://www.udemy.com/bitcoin-or-how-i-learned...</td>\n",
       "      <td>0</td>\n",
       "      <td>65576</td>\n",
       "      <td>936</td>\n",
       "      <td>24</td>\n",
       "      <td>All Levels</td>\n",
       "      <td>0.56</td>\n",
       "      <td>8.0</td>\n",
       "      <td>2013-04-20T02:25:22Z</td>\n",
       "      <td>Business Finance</td>\n",
       "      <td>2013-04-20</td>\n",
       "      <td>Free</td>\n",
       "    </tr>\n",
       "    <tr>\n",
       "      <th>22</th>\n",
       "      <td>48841</td>\n",
       "      <td>Accounting in 60 Minutes - A Brief Introduction</td>\n",
       "      <td>https://www.udemy.com/accounting-in-60-minutes...</td>\n",
       "      <td>0</td>\n",
       "      <td>56659</td>\n",
       "      <td>4397</td>\n",
       "      <td>16</td>\n",
       "      <td>Beginner Level</td>\n",
       "      <td>0.95</td>\n",
       "      <td>1.5</td>\n",
       "      <td>2013-04-07T21:39:25Z</td>\n",
       "      <td>Business Finance</td>\n",
       "      <td>2013-04-07</td>\n",
       "      <td>Free</td>\n",
       "    </tr>\n",
       "    <tr>\n",
       "      <th>26</th>\n",
       "      <td>133536</td>\n",
       "      <td>Stock Market Investing for Beginners</td>\n",
       "      <td>https://www.udemy.com/the-beginners-guide-to-t...</td>\n",
       "      <td>0</td>\n",
       "      <td>50855</td>\n",
       "      <td>2698</td>\n",
       "      <td>15</td>\n",
       "      <td>All Levels</td>\n",
       "      <td>0.91</td>\n",
       "      <td>1.5</td>\n",
       "      <td>2013-12-25T19:53:34Z</td>\n",
       "      <td>Business Finance</td>\n",
       "      <td>2013-12-25</td>\n",
       "      <td>Free</td>\n",
       "    </tr>\n",
       "    <tr>\n",
       "      <th>53</th>\n",
       "      <td>151668</td>\n",
       "      <td>Introduction to Financial Modeling</td>\n",
       "      <td>https://www.udemy.com/financial-modeling-asimp...</td>\n",
       "      <td>0</td>\n",
       "      <td>29167</td>\n",
       "      <td>1463</td>\n",
       "      <td>8</td>\n",
       "      <td>All Levels</td>\n",
       "      <td>0.18</td>\n",
       "      <td>1.5</td>\n",
       "      <td>2014-05-27T16:22:16Z</td>\n",
       "      <td>Business Finance</td>\n",
       "      <td>2014-05-27</td>\n",
       "      <td>Free</td>\n",
       "    </tr>\n",
       "    <tr>\n",
       "      <th>73</th>\n",
       "      <td>648826</td>\n",
       "      <td>The Complete Financial Analyst Course 2017</td>\n",
       "      <td>https://www.udemy.com/the-complete-financial-a...</td>\n",
       "      <td>195</td>\n",
       "      <td>24481</td>\n",
       "      <td>2347</td>\n",
       "      <td>174</td>\n",
       "      <td>All Levels</td>\n",
       "      <td>0.37</td>\n",
       "      <td>10.0</td>\n",
       "      <td>2016-01-21T01:38:48Z</td>\n",
       "      <td>Business Finance</td>\n",
       "      <td>2016-01-21</td>\n",
       "      <td>Paid</td>\n",
       "    </tr>\n",
       "    <tr>\n",
       "      <th>...</th>\n",
       "      <td>...</td>\n",
       "      <td>...</td>\n",
       "      <td>...</td>\n",
       "      <td>...</td>\n",
       "      <td>...</td>\n",
       "      <td>...</td>\n",
       "      <td>...</td>\n",
       "      <td>...</td>\n",
       "      <td>...</td>\n",
       "      <td>...</td>\n",
       "      <td>...</td>\n",
       "      <td>...</td>\n",
       "      <td>...</td>\n",
       "      <td>...</td>\n",
       "    </tr>\n",
       "    <tr>\n",
       "      <th>3671</th>\n",
       "      <td>885413</td>\n",
       "      <td>Foundations of Investing</td>\n",
       "      <td>https://www.udemy.com/foundations-of-investing/</td>\n",
       "      <td>40</td>\n",
       "      <td>0</td>\n",
       "      <td>0</td>\n",
       "      <td>18</td>\n",
       "      <td>Beginner Level</td>\n",
       "      <td>0.95</td>\n",
       "      <td>2.0</td>\n",
       "      <td>2016-07-27T21:07:46Z</td>\n",
       "      <td>Business Finance</td>\n",
       "      <td>2016-07-27</td>\n",
       "      <td>Paid</td>\n",
       "    </tr>\n",
       "    <tr>\n",
       "      <th>3672</th>\n",
       "      <td>1231958</td>\n",
       "      <td>60 Minutes to Fundamental Accounting Skills</td>\n",
       "      <td>https://www.udemy.com/60-minute-fundamental-ac...</td>\n",
       "      <td>75</td>\n",
       "      <td>0</td>\n",
       "      <td>0</td>\n",
       "      <td>9</td>\n",
       "      <td>All Levels</td>\n",
       "      <td>0.95</td>\n",
       "      <td>2.5</td>\n",
       "      <td>2017-06-28T21:55:29Z</td>\n",
       "      <td>Business Finance</td>\n",
       "      <td>2017-06-28</td>\n",
       "      <td>Paid</td>\n",
       "    </tr>\n",
       "    <tr>\n",
       "      <th>3673</th>\n",
       "      <td>1057040</td>\n",
       "      <td>Teeter-Totter Accounting</td>\n",
       "      <td>https://www.udemy.com/teeter-totter-accounting/</td>\n",
       "      <td>90</td>\n",
       "      <td>0</td>\n",
       "      <td>0</td>\n",
       "      <td>12</td>\n",
       "      <td>Intermediate Level</td>\n",
       "      <td>0.36</td>\n",
       "      <td>1.0</td>\n",
       "      <td>2017-02-08T22:15:56Z</td>\n",
       "      <td>Business Finance</td>\n",
       "      <td>2017-02-08</td>\n",
       "      <td>Paid</td>\n",
       "    </tr>\n",
       "    <tr>\n",
       "      <th>3674</th>\n",
       "      <td>1258666</td>\n",
       "      <td>Financial Statement Auditing Cycles</td>\n",
       "      <td>https://www.udemy.com/financial-statement-audi...</td>\n",
       "      <td>50</td>\n",
       "      <td>0</td>\n",
       "      <td>0</td>\n",
       "      <td>9</td>\n",
       "      <td>All Levels</td>\n",
       "      <td>0.15</td>\n",
       "      <td>2.0</td>\n",
       "      <td>2017-06-29T23:20:10Z</td>\n",
       "      <td>Business Finance</td>\n",
       "      <td>2017-06-29</td>\n",
       "      <td>Paid</td>\n",
       "    </tr>\n",
       "    <tr>\n",
       "      <th>3675</th>\n",
       "      <td>1232282</td>\n",
       "      <td>The Cash Flow Statement - An Introduction</td>\n",
       "      <td>https://www.udemy.com/cash-flow-statement-intr...</td>\n",
       "      <td>50</td>\n",
       "      <td>0</td>\n",
       "      <td>0</td>\n",
       "      <td>10</td>\n",
       "      <td>All Levels</td>\n",
       "      <td>0.18</td>\n",
       "      <td>1.5</td>\n",
       "      <td>2017-06-28T16:05:51Z</td>\n",
       "      <td>Business Finance</td>\n",
       "      <td>2017-06-28</td>\n",
       "      <td>Paid</td>\n",
       "    </tr>\n",
       "  </tbody>\n",
       "</table>\n",
       "<p>1191 rows × 14 columns</p>\n",
       "</div>"
      ],
      "text/plain": [
       "      course_id                                       course_title  \\\n",
       "16        49798  Bitcoin or How I Learned to Stop Worrying and ...   \n",
       "22        48841    Accounting in 60 Minutes - A Brief Introduction   \n",
       "26       133536               Stock Market Investing for Beginners   \n",
       "53       151668                 Introduction to Financial Modeling   \n",
       "73       648826         The Complete Financial Analyst Course 2017   \n",
       "...         ...                                                ...   \n",
       "3671     885413                           Foundations of Investing   \n",
       "3672    1231958        60 Minutes to Fundamental Accounting Skills   \n",
       "3673    1057040                           Teeter-Totter Accounting   \n",
       "3674    1258666                Financial Statement Auditing Cycles   \n",
       "3675    1232282          The Cash Flow Statement - An Introduction   \n",
       "\n",
       "                                                    url  price  \\\n",
       "16    https://www.udemy.com/bitcoin-or-how-i-learned...      0   \n",
       "22    https://www.udemy.com/accounting-in-60-minutes...      0   \n",
       "26    https://www.udemy.com/the-beginners-guide-to-t...      0   \n",
       "53    https://www.udemy.com/financial-modeling-asimp...      0   \n",
       "73    https://www.udemy.com/the-complete-financial-a...    195   \n",
       "...                                                 ...    ...   \n",
       "3671    https://www.udemy.com/foundations-of-investing/     40   \n",
       "3672  https://www.udemy.com/60-minute-fundamental-ac...     75   \n",
       "3673    https://www.udemy.com/teeter-totter-accounting/     90   \n",
       "3674  https://www.udemy.com/financial-statement-audi...     50   \n",
       "3675  https://www.udemy.com/cash-flow-statement-intr...     50   \n",
       "\n",
       "      num_subscribers  num_reviews  num_lectures               level  rating  \\\n",
       "16              65576          936            24          All Levels    0.56   \n",
       "22              56659         4397            16      Beginner Level    0.95   \n",
       "26              50855         2698            15          All Levels    0.91   \n",
       "53              29167         1463             8          All Levels    0.18   \n",
       "73              24481         2347           174          All Levels    0.37   \n",
       "...               ...          ...           ...                 ...     ...   \n",
       "3671                0            0            18      Beginner Level    0.95   \n",
       "3672                0            0             9          All Levels    0.95   \n",
       "3673                0            0            12  Intermediate Level    0.36   \n",
       "3674                0            0             9          All Levels    0.15   \n",
       "3675                0            0            10          All Levels    0.18   \n",
       "\n",
       "      content_duration   published_timestamp           subject        Date  \\\n",
       "16                 8.0  2013-04-20T02:25:22Z  Business Finance  2013-04-20   \n",
       "22                 1.5  2013-04-07T21:39:25Z  Business Finance  2013-04-07   \n",
       "26                 1.5  2013-12-25T19:53:34Z  Business Finance  2013-12-25   \n",
       "53                 1.5  2014-05-27T16:22:16Z  Business Finance  2014-05-27   \n",
       "73                10.0  2016-01-21T01:38:48Z  Business Finance  2016-01-21   \n",
       "...                ...                   ...               ...         ...   \n",
       "3671               2.0  2016-07-27T21:07:46Z  Business Finance  2016-07-27   \n",
       "3672               2.5  2017-06-28T21:55:29Z  Business Finance  2017-06-28   \n",
       "3673               1.0  2017-02-08T22:15:56Z  Business Finance  2017-02-08   \n",
       "3674               2.0  2017-06-29T23:20:10Z  Business Finance  2017-06-29   \n",
       "3675               1.5  2017-06-28T16:05:51Z  Business Finance  2017-06-28   \n",
       "\n",
       "     Free/Paid  \n",
       "16        Free  \n",
       "22        Free  \n",
       "26        Free  \n",
       "53        Free  \n",
       "73        Paid  \n",
       "...        ...  \n",
       "3671      Paid  \n",
       "3672      Paid  \n",
       "3673      Paid  \n",
       "3674      Paid  \n",
       "3675      Paid  \n",
       "\n",
       "[1191 rows x 14 columns]"
      ]
     },
     "metadata": {},
     "output_type": "display_data"
    }
   ],
   "source": [
    "df4 = df2.groupby(\"subject\")\n",
    "df4 = df4.get_group('Business Finance')\n",
    "display(df4)"
   ]
  },
  {
   "cell_type": "code",
   "execution_count": 174,
   "id": "29a055ae",
   "metadata": {},
   "outputs": [
    {
     "data": {
      "application/vnd.plotly.v1+json": {
       "config": {
        "plotlyServerURL": "https://plot.ly"
       },
       "data": [
        {
         "alignmentgroup": "True",
         "hovertemplate": "num_subscribers=%{x}<br>course_title=%{y}<extra></extra>",
         "legendgroup": "",
         "marker": {
          "color": "#636efa",
          "pattern": {
           "shape": ""
          }
         },
         "name": "",
         "offsetgroup": "",
         "orientation": "h",
         "showlegend": false,
         "textposition": "auto",
         "type": "bar",
         "x": [
          65576,
          56659,
          50855,
          29167,
          24481,
          22344,
          22257,
          20195,
          19614,
          19339,
          17847,
          17160,
          16900,
          16385,
          12394,
          12217,
          11958,
          11724,
          11517,
          11441
         ],
         "xaxis": "x",
         "y": [
          "Bitcoin or How I Learned to Stop Worrying and Love Crypto",
          "Accounting in 60 Minutes - A Brief Introduction",
          "Stock Market Investing for Beginners",
          "Introduction to Financial Modeling",
          "The Complete Financial Analyst Course 2017",
          "Forex Basics",
          "Beginner to Pro in Excel: Financial Modeling and Valuation",
          "Black Algo Trading: Build Your Trading Robot",
          "Financial Analysis: A Recipe for Success",
          "Stock Market Foundations",
          "Financial Accounting - A Brief Introduction",
          "Fundamentals of Forex Trading",
          "Forex Trading A-Z™ - With LIVE Examples of Forex Trading",
          "Learn to Trade for Profit:Trading with Japanese Candlesticks",
          "Options Trading Introduction: Day Trade Stock Options",
          "Introduction to Digital Payments",
          "Introduction to Accounting: The Language of Business",
          "Corporate Finance - A Brief Introduction",
          "CPA 101: How To Master Affiliate Marketing In No Time",
          "Introduction to Finance, Accounting, Modeling and Valuation"
         ],
         "yaxis": "y"
        }
       ],
       "layout": {
        "barmode": "relative",
        "legend": {
         "tracegroupgap": 0
        },
        "margin": {
         "t": 60
        },
        "template": {
         "data": {
          "bar": [
           {
            "error_x": {
             "color": "#2a3f5f"
            },
            "error_y": {
             "color": "#2a3f5f"
            },
            "marker": {
             "line": {
              "color": "#E5ECF6",
              "width": 0.5
             },
             "pattern": {
              "fillmode": "overlay",
              "size": 10,
              "solidity": 0.2
             }
            },
            "type": "bar"
           }
          ],
          "barpolar": [
           {
            "marker": {
             "line": {
              "color": "#E5ECF6",
              "width": 0.5
             },
             "pattern": {
              "fillmode": "overlay",
              "size": 10,
              "solidity": 0.2
             }
            },
            "type": "barpolar"
           }
          ],
          "carpet": [
           {
            "aaxis": {
             "endlinecolor": "#2a3f5f",
             "gridcolor": "white",
             "linecolor": "white",
             "minorgridcolor": "white",
             "startlinecolor": "#2a3f5f"
            },
            "baxis": {
             "endlinecolor": "#2a3f5f",
             "gridcolor": "white",
             "linecolor": "white",
             "minorgridcolor": "white",
             "startlinecolor": "#2a3f5f"
            },
            "type": "carpet"
           }
          ],
          "choropleth": [
           {
            "colorbar": {
             "outlinewidth": 0,
             "ticks": ""
            },
            "type": "choropleth"
           }
          ],
          "contour": [
           {
            "colorbar": {
             "outlinewidth": 0,
             "ticks": ""
            },
            "colorscale": [
             [
              0,
              "#0d0887"
             ],
             [
              0.1111111111111111,
              "#46039f"
             ],
             [
              0.2222222222222222,
              "#7201a8"
             ],
             [
              0.3333333333333333,
              "#9c179e"
             ],
             [
              0.4444444444444444,
              "#bd3786"
             ],
             [
              0.5555555555555556,
              "#d8576b"
             ],
             [
              0.6666666666666666,
              "#ed7953"
             ],
             [
              0.7777777777777778,
              "#fb9f3a"
             ],
             [
              0.8888888888888888,
              "#fdca26"
             ],
             [
              1,
              "#f0f921"
             ]
            ],
            "type": "contour"
           }
          ],
          "contourcarpet": [
           {
            "colorbar": {
             "outlinewidth": 0,
             "ticks": ""
            },
            "type": "contourcarpet"
           }
          ],
          "heatmap": [
           {
            "colorbar": {
             "outlinewidth": 0,
             "ticks": ""
            },
            "colorscale": [
             [
              0,
              "#0d0887"
             ],
             [
              0.1111111111111111,
              "#46039f"
             ],
             [
              0.2222222222222222,
              "#7201a8"
             ],
             [
              0.3333333333333333,
              "#9c179e"
             ],
             [
              0.4444444444444444,
              "#bd3786"
             ],
             [
              0.5555555555555556,
              "#d8576b"
             ],
             [
              0.6666666666666666,
              "#ed7953"
             ],
             [
              0.7777777777777778,
              "#fb9f3a"
             ],
             [
              0.8888888888888888,
              "#fdca26"
             ],
             [
              1,
              "#f0f921"
             ]
            ],
            "type": "heatmap"
           }
          ],
          "heatmapgl": [
           {
            "colorbar": {
             "outlinewidth": 0,
             "ticks": ""
            },
            "colorscale": [
             [
              0,
              "#0d0887"
             ],
             [
              0.1111111111111111,
              "#46039f"
             ],
             [
              0.2222222222222222,
              "#7201a8"
             ],
             [
              0.3333333333333333,
              "#9c179e"
             ],
             [
              0.4444444444444444,
              "#bd3786"
             ],
             [
              0.5555555555555556,
              "#d8576b"
             ],
             [
              0.6666666666666666,
              "#ed7953"
             ],
             [
              0.7777777777777778,
              "#fb9f3a"
             ],
             [
              0.8888888888888888,
              "#fdca26"
             ],
             [
              1,
              "#f0f921"
             ]
            ],
            "type": "heatmapgl"
           }
          ],
          "histogram": [
           {
            "marker": {
             "pattern": {
              "fillmode": "overlay",
              "size": 10,
              "solidity": 0.2
             }
            },
            "type": "histogram"
           }
          ],
          "histogram2d": [
           {
            "colorbar": {
             "outlinewidth": 0,
             "ticks": ""
            },
            "colorscale": [
             [
              0,
              "#0d0887"
             ],
             [
              0.1111111111111111,
              "#46039f"
             ],
             [
              0.2222222222222222,
              "#7201a8"
             ],
             [
              0.3333333333333333,
              "#9c179e"
             ],
             [
              0.4444444444444444,
              "#bd3786"
             ],
             [
              0.5555555555555556,
              "#d8576b"
             ],
             [
              0.6666666666666666,
              "#ed7953"
             ],
             [
              0.7777777777777778,
              "#fb9f3a"
             ],
             [
              0.8888888888888888,
              "#fdca26"
             ],
             [
              1,
              "#f0f921"
             ]
            ],
            "type": "histogram2d"
           }
          ],
          "histogram2dcontour": [
           {
            "colorbar": {
             "outlinewidth": 0,
             "ticks": ""
            },
            "colorscale": [
             [
              0,
              "#0d0887"
             ],
             [
              0.1111111111111111,
              "#46039f"
             ],
             [
              0.2222222222222222,
              "#7201a8"
             ],
             [
              0.3333333333333333,
              "#9c179e"
             ],
             [
              0.4444444444444444,
              "#bd3786"
             ],
             [
              0.5555555555555556,
              "#d8576b"
             ],
             [
              0.6666666666666666,
              "#ed7953"
             ],
             [
              0.7777777777777778,
              "#fb9f3a"
             ],
             [
              0.8888888888888888,
              "#fdca26"
             ],
             [
              1,
              "#f0f921"
             ]
            ],
            "type": "histogram2dcontour"
           }
          ],
          "mesh3d": [
           {
            "colorbar": {
             "outlinewidth": 0,
             "ticks": ""
            },
            "type": "mesh3d"
           }
          ],
          "parcoords": [
           {
            "line": {
             "colorbar": {
              "outlinewidth": 0,
              "ticks": ""
             }
            },
            "type": "parcoords"
           }
          ],
          "pie": [
           {
            "automargin": true,
            "type": "pie"
           }
          ],
          "scatter": [
           {
            "marker": {
             "colorbar": {
              "outlinewidth": 0,
              "ticks": ""
             }
            },
            "type": "scatter"
           }
          ],
          "scatter3d": [
           {
            "line": {
             "colorbar": {
              "outlinewidth": 0,
              "ticks": ""
             }
            },
            "marker": {
             "colorbar": {
              "outlinewidth": 0,
              "ticks": ""
             }
            },
            "type": "scatter3d"
           }
          ],
          "scattercarpet": [
           {
            "marker": {
             "colorbar": {
              "outlinewidth": 0,
              "ticks": ""
             }
            },
            "type": "scattercarpet"
           }
          ],
          "scattergeo": [
           {
            "marker": {
             "colorbar": {
              "outlinewidth": 0,
              "ticks": ""
             }
            },
            "type": "scattergeo"
           }
          ],
          "scattergl": [
           {
            "marker": {
             "colorbar": {
              "outlinewidth": 0,
              "ticks": ""
             }
            },
            "type": "scattergl"
           }
          ],
          "scattermapbox": [
           {
            "marker": {
             "colorbar": {
              "outlinewidth": 0,
              "ticks": ""
             }
            },
            "type": "scattermapbox"
           }
          ],
          "scatterpolar": [
           {
            "marker": {
             "colorbar": {
              "outlinewidth": 0,
              "ticks": ""
             }
            },
            "type": "scatterpolar"
           }
          ],
          "scatterpolargl": [
           {
            "marker": {
             "colorbar": {
              "outlinewidth": 0,
              "ticks": ""
             }
            },
            "type": "scatterpolargl"
           }
          ],
          "scatterternary": [
           {
            "marker": {
             "colorbar": {
              "outlinewidth": 0,
              "ticks": ""
             }
            },
            "type": "scatterternary"
           }
          ],
          "surface": [
           {
            "colorbar": {
             "outlinewidth": 0,
             "ticks": ""
            },
            "colorscale": [
             [
              0,
              "#0d0887"
             ],
             [
              0.1111111111111111,
              "#46039f"
             ],
             [
              0.2222222222222222,
              "#7201a8"
             ],
             [
              0.3333333333333333,
              "#9c179e"
             ],
             [
              0.4444444444444444,
              "#bd3786"
             ],
             [
              0.5555555555555556,
              "#d8576b"
             ],
             [
              0.6666666666666666,
              "#ed7953"
             ],
             [
              0.7777777777777778,
              "#fb9f3a"
             ],
             [
              0.8888888888888888,
              "#fdca26"
             ],
             [
              1,
              "#f0f921"
             ]
            ],
            "type": "surface"
           }
          ],
          "table": [
           {
            "cells": {
             "fill": {
              "color": "#EBF0F8"
             },
             "line": {
              "color": "white"
             }
            },
            "header": {
             "fill": {
              "color": "#C8D4E3"
             },
             "line": {
              "color": "white"
             }
            },
            "type": "table"
           }
          ]
         },
         "layout": {
          "annotationdefaults": {
           "arrowcolor": "#2a3f5f",
           "arrowhead": 0,
           "arrowwidth": 1
          },
          "autotypenumbers": "strict",
          "coloraxis": {
           "colorbar": {
            "outlinewidth": 0,
            "ticks": ""
           }
          },
          "colorscale": {
           "diverging": [
            [
             0,
             "#8e0152"
            ],
            [
             0.1,
             "#c51b7d"
            ],
            [
             0.2,
             "#de77ae"
            ],
            [
             0.3,
             "#f1b6da"
            ],
            [
             0.4,
             "#fde0ef"
            ],
            [
             0.5,
             "#f7f7f7"
            ],
            [
             0.6,
             "#e6f5d0"
            ],
            [
             0.7,
             "#b8e186"
            ],
            [
             0.8,
             "#7fbc41"
            ],
            [
             0.9,
             "#4d9221"
            ],
            [
             1,
             "#276419"
            ]
           ],
           "sequential": [
            [
             0,
             "#0d0887"
            ],
            [
             0.1111111111111111,
             "#46039f"
            ],
            [
             0.2222222222222222,
             "#7201a8"
            ],
            [
             0.3333333333333333,
             "#9c179e"
            ],
            [
             0.4444444444444444,
             "#bd3786"
            ],
            [
             0.5555555555555556,
             "#d8576b"
            ],
            [
             0.6666666666666666,
             "#ed7953"
            ],
            [
             0.7777777777777778,
             "#fb9f3a"
            ],
            [
             0.8888888888888888,
             "#fdca26"
            ],
            [
             1,
             "#f0f921"
            ]
           ],
           "sequentialminus": [
            [
             0,
             "#0d0887"
            ],
            [
             0.1111111111111111,
             "#46039f"
            ],
            [
             0.2222222222222222,
             "#7201a8"
            ],
            [
             0.3333333333333333,
             "#9c179e"
            ],
            [
             0.4444444444444444,
             "#bd3786"
            ],
            [
             0.5555555555555556,
             "#d8576b"
            ],
            [
             0.6666666666666666,
             "#ed7953"
            ],
            [
             0.7777777777777778,
             "#fb9f3a"
            ],
            [
             0.8888888888888888,
             "#fdca26"
            ],
            [
             1,
             "#f0f921"
            ]
           ]
          },
          "colorway": [
           "#636efa",
           "#EF553B",
           "#00cc96",
           "#ab63fa",
           "#FFA15A",
           "#19d3f3",
           "#FF6692",
           "#B6E880",
           "#FF97FF",
           "#FECB52"
          ],
          "font": {
           "color": "#2a3f5f"
          },
          "geo": {
           "bgcolor": "white",
           "lakecolor": "white",
           "landcolor": "#E5ECF6",
           "showlakes": true,
           "showland": true,
           "subunitcolor": "white"
          },
          "hoverlabel": {
           "align": "left"
          },
          "hovermode": "closest",
          "mapbox": {
           "style": "light"
          },
          "paper_bgcolor": "white",
          "plot_bgcolor": "#E5ECF6",
          "polar": {
           "angularaxis": {
            "gridcolor": "white",
            "linecolor": "white",
            "ticks": ""
           },
           "bgcolor": "#E5ECF6",
           "radialaxis": {
            "gridcolor": "white",
            "linecolor": "white",
            "ticks": ""
           }
          },
          "scene": {
           "xaxis": {
            "backgroundcolor": "#E5ECF6",
            "gridcolor": "white",
            "gridwidth": 2,
            "linecolor": "white",
            "showbackground": true,
            "ticks": "",
            "zerolinecolor": "white"
           },
           "yaxis": {
            "backgroundcolor": "#E5ECF6",
            "gridcolor": "white",
            "gridwidth": 2,
            "linecolor": "white",
            "showbackground": true,
            "ticks": "",
            "zerolinecolor": "white"
           },
           "zaxis": {
            "backgroundcolor": "#E5ECF6",
            "gridcolor": "white",
            "gridwidth": 2,
            "linecolor": "white",
            "showbackground": true,
            "ticks": "",
            "zerolinecolor": "white"
           }
          },
          "shapedefaults": {
           "line": {
            "color": "#2a3f5f"
           }
          },
          "ternary": {
           "aaxis": {
            "gridcolor": "white",
            "linecolor": "white",
            "ticks": ""
           },
           "baxis": {
            "gridcolor": "white",
            "linecolor": "white",
            "ticks": ""
           },
           "bgcolor": "#E5ECF6",
           "caxis": {
            "gridcolor": "white",
            "linecolor": "white",
            "ticks": ""
           }
          },
          "title": {
           "x": 0.05
          },
          "xaxis": {
           "automargin": true,
           "gridcolor": "white",
           "linecolor": "white",
           "ticks": "",
           "title": {
            "standoff": 15
           },
           "zerolinecolor": "white",
           "zerolinewidth": 2
          },
          "yaxis": {
           "automargin": true,
           "gridcolor": "white",
           "linecolor": "white",
           "ticks": "",
           "title": {
            "standoff": 15
           },
           "zerolinecolor": "white",
           "zerolinewidth": 2
          }
         }
        },
        "title": {
         "text": "Cursos mais Populares na Área Financeira Empresarial"
        },
        "xaxis": {
         "anchor": "y",
         "domain": [
          0,
          1
         ],
         "title": {
          "text": "Número de Alunos Inscritos"
         }
        },
        "yaxis": {
         "anchor": "x",
         "domain": [
          0,
          1
         ],
         "title": {
          "text": "Nome do Curso"
         }
        }
       }
      },
      "text/html": [
       "<div>                            <div id=\"24e51c68-e5c8-4670-9f8b-4fb5f697e61d\" class=\"plotly-graph-div\" style=\"height:525px; width:100%;\"></div>            <script type=\"text/javascript\">                require([\"plotly\"], function(Plotly) {                    window.PLOTLYENV=window.PLOTLYENV || {};                                    if (document.getElementById(\"24e51c68-e5c8-4670-9f8b-4fb5f697e61d\")) {                    Plotly.newPlot(                        \"24e51c68-e5c8-4670-9f8b-4fb5f697e61d\",                        [{\"alignmentgroup\":\"True\",\"hovertemplate\":\"num_subscribers=%{x}<br>course_title=%{y}<extra></extra>\",\"legendgroup\":\"\",\"marker\":{\"color\":\"#636efa\",\"pattern\":{\"shape\":\"\"}},\"name\":\"\",\"offsetgroup\":\"\",\"orientation\":\"h\",\"showlegend\":false,\"textposition\":\"auto\",\"x\":[65576,56659,50855,29167,24481,22344,22257,20195,19614,19339,17847,17160,16900,16385,12394,12217,11958,11724,11517,11441],\"xaxis\":\"x\",\"y\":[\"Bitcoin or How I Learned to Stop Worrying and Love Crypto\",\"Accounting in 60 Minutes - A Brief Introduction\",\"Stock Market Investing for Beginners\",\"Introduction to Financial Modeling\",\"The Complete Financial Analyst Course 2017\",\"Forex Basics\",\"Beginner to Pro in Excel: Financial Modeling and Valuation\",\"Black Algo Trading: Build Your Trading Robot\",\"Financial Analysis: A Recipe for Success\",\"Stock Market Foundations\",\"Financial Accounting - A Brief Introduction\",\"Fundamentals of Forex Trading\",\"Forex Trading A-Z\\u2122 - With LIVE Examples of Forex Trading\",\"Learn to Trade for Profit:Trading with Japanese Candlesticks\",\"Options Trading Introduction: Day Trade Stock Options\",\"Introduction to Digital Payments\",\"Introduction to Accounting: The Language of Business\",\"Corporate Finance - A Brief Introduction\",\"CPA 101: How To Master Affiliate Marketing In No Time\",\"Introduction to Finance, Accounting, Modeling and Valuation\"],\"yaxis\":\"y\",\"type\":\"bar\"}],                        {\"template\":{\"data\":{\"bar\":[{\"error_x\":{\"color\":\"#2a3f5f\"},\"error_y\":{\"color\":\"#2a3f5f\"},\"marker\":{\"line\":{\"color\":\"#E5ECF6\",\"width\":0.5},\"pattern\":{\"fillmode\":\"overlay\",\"size\":10,\"solidity\":0.2}},\"type\":\"bar\"}],\"barpolar\":[{\"marker\":{\"line\":{\"color\":\"#E5ECF6\",\"width\":0.5},\"pattern\":{\"fillmode\":\"overlay\",\"size\":10,\"solidity\":0.2}},\"type\":\"barpolar\"}],\"carpet\":[{\"aaxis\":{\"endlinecolor\":\"#2a3f5f\",\"gridcolor\":\"white\",\"linecolor\":\"white\",\"minorgridcolor\":\"white\",\"startlinecolor\":\"#2a3f5f\"},\"baxis\":{\"endlinecolor\":\"#2a3f5f\",\"gridcolor\":\"white\",\"linecolor\":\"white\",\"minorgridcolor\":\"white\",\"startlinecolor\":\"#2a3f5f\"},\"type\":\"carpet\"}],\"choropleth\":[{\"colorbar\":{\"outlinewidth\":0,\"ticks\":\"\"},\"type\":\"choropleth\"}],\"contour\":[{\"colorbar\":{\"outlinewidth\":0,\"ticks\":\"\"},\"colorscale\":[[0.0,\"#0d0887\"],[0.1111111111111111,\"#46039f\"],[0.2222222222222222,\"#7201a8\"],[0.3333333333333333,\"#9c179e\"],[0.4444444444444444,\"#bd3786\"],[0.5555555555555556,\"#d8576b\"],[0.6666666666666666,\"#ed7953\"],[0.7777777777777778,\"#fb9f3a\"],[0.8888888888888888,\"#fdca26\"],[1.0,\"#f0f921\"]],\"type\":\"contour\"}],\"contourcarpet\":[{\"colorbar\":{\"outlinewidth\":0,\"ticks\":\"\"},\"type\":\"contourcarpet\"}],\"heatmap\":[{\"colorbar\":{\"outlinewidth\":0,\"ticks\":\"\"},\"colorscale\":[[0.0,\"#0d0887\"],[0.1111111111111111,\"#46039f\"],[0.2222222222222222,\"#7201a8\"],[0.3333333333333333,\"#9c179e\"],[0.4444444444444444,\"#bd3786\"],[0.5555555555555556,\"#d8576b\"],[0.6666666666666666,\"#ed7953\"],[0.7777777777777778,\"#fb9f3a\"],[0.8888888888888888,\"#fdca26\"],[1.0,\"#f0f921\"]],\"type\":\"heatmap\"}],\"heatmapgl\":[{\"colorbar\":{\"outlinewidth\":0,\"ticks\":\"\"},\"colorscale\":[[0.0,\"#0d0887\"],[0.1111111111111111,\"#46039f\"],[0.2222222222222222,\"#7201a8\"],[0.3333333333333333,\"#9c179e\"],[0.4444444444444444,\"#bd3786\"],[0.5555555555555556,\"#d8576b\"],[0.6666666666666666,\"#ed7953\"],[0.7777777777777778,\"#fb9f3a\"],[0.8888888888888888,\"#fdca26\"],[1.0,\"#f0f921\"]],\"type\":\"heatmapgl\"}],\"histogram\":[{\"marker\":{\"pattern\":{\"fillmode\":\"overlay\",\"size\":10,\"solidity\":0.2}},\"type\":\"histogram\"}],\"histogram2d\":[{\"colorbar\":{\"outlinewidth\":0,\"ticks\":\"\"},\"colorscale\":[[0.0,\"#0d0887\"],[0.1111111111111111,\"#46039f\"],[0.2222222222222222,\"#7201a8\"],[0.3333333333333333,\"#9c179e\"],[0.4444444444444444,\"#bd3786\"],[0.5555555555555556,\"#d8576b\"],[0.6666666666666666,\"#ed7953\"],[0.7777777777777778,\"#fb9f3a\"],[0.8888888888888888,\"#fdca26\"],[1.0,\"#f0f921\"]],\"type\":\"histogram2d\"}],\"histogram2dcontour\":[{\"colorbar\":{\"outlinewidth\":0,\"ticks\":\"\"},\"colorscale\":[[0.0,\"#0d0887\"],[0.1111111111111111,\"#46039f\"],[0.2222222222222222,\"#7201a8\"],[0.3333333333333333,\"#9c179e\"],[0.4444444444444444,\"#bd3786\"],[0.5555555555555556,\"#d8576b\"],[0.6666666666666666,\"#ed7953\"],[0.7777777777777778,\"#fb9f3a\"],[0.8888888888888888,\"#fdca26\"],[1.0,\"#f0f921\"]],\"type\":\"histogram2dcontour\"}],\"mesh3d\":[{\"colorbar\":{\"outlinewidth\":0,\"ticks\":\"\"},\"type\":\"mesh3d\"}],\"parcoords\":[{\"line\":{\"colorbar\":{\"outlinewidth\":0,\"ticks\":\"\"}},\"type\":\"parcoords\"}],\"pie\":[{\"automargin\":true,\"type\":\"pie\"}],\"scatter\":[{\"marker\":{\"colorbar\":{\"outlinewidth\":0,\"ticks\":\"\"}},\"type\":\"scatter\"}],\"scatter3d\":[{\"line\":{\"colorbar\":{\"outlinewidth\":0,\"ticks\":\"\"}},\"marker\":{\"colorbar\":{\"outlinewidth\":0,\"ticks\":\"\"}},\"type\":\"scatter3d\"}],\"scattercarpet\":[{\"marker\":{\"colorbar\":{\"outlinewidth\":0,\"ticks\":\"\"}},\"type\":\"scattercarpet\"}],\"scattergeo\":[{\"marker\":{\"colorbar\":{\"outlinewidth\":0,\"ticks\":\"\"}},\"type\":\"scattergeo\"}],\"scattergl\":[{\"marker\":{\"colorbar\":{\"outlinewidth\":0,\"ticks\":\"\"}},\"type\":\"scattergl\"}],\"scattermapbox\":[{\"marker\":{\"colorbar\":{\"outlinewidth\":0,\"ticks\":\"\"}},\"type\":\"scattermapbox\"}],\"scatterpolar\":[{\"marker\":{\"colorbar\":{\"outlinewidth\":0,\"ticks\":\"\"}},\"type\":\"scatterpolar\"}],\"scatterpolargl\":[{\"marker\":{\"colorbar\":{\"outlinewidth\":0,\"ticks\":\"\"}},\"type\":\"scatterpolargl\"}],\"scatterternary\":[{\"marker\":{\"colorbar\":{\"outlinewidth\":0,\"ticks\":\"\"}},\"type\":\"scatterternary\"}],\"surface\":[{\"colorbar\":{\"outlinewidth\":0,\"ticks\":\"\"},\"colorscale\":[[0.0,\"#0d0887\"],[0.1111111111111111,\"#46039f\"],[0.2222222222222222,\"#7201a8\"],[0.3333333333333333,\"#9c179e\"],[0.4444444444444444,\"#bd3786\"],[0.5555555555555556,\"#d8576b\"],[0.6666666666666666,\"#ed7953\"],[0.7777777777777778,\"#fb9f3a\"],[0.8888888888888888,\"#fdca26\"],[1.0,\"#f0f921\"]],\"type\":\"surface\"}],\"table\":[{\"cells\":{\"fill\":{\"color\":\"#EBF0F8\"},\"line\":{\"color\":\"white\"}},\"header\":{\"fill\":{\"color\":\"#C8D4E3\"},\"line\":{\"color\":\"white\"}},\"type\":\"table\"}]},\"layout\":{\"annotationdefaults\":{\"arrowcolor\":\"#2a3f5f\",\"arrowhead\":0,\"arrowwidth\":1},\"autotypenumbers\":\"strict\",\"coloraxis\":{\"colorbar\":{\"outlinewidth\":0,\"ticks\":\"\"}},\"colorscale\":{\"diverging\":[[0,\"#8e0152\"],[0.1,\"#c51b7d\"],[0.2,\"#de77ae\"],[0.3,\"#f1b6da\"],[0.4,\"#fde0ef\"],[0.5,\"#f7f7f7\"],[0.6,\"#e6f5d0\"],[0.7,\"#b8e186\"],[0.8,\"#7fbc41\"],[0.9,\"#4d9221\"],[1,\"#276419\"]],\"sequential\":[[0.0,\"#0d0887\"],[0.1111111111111111,\"#46039f\"],[0.2222222222222222,\"#7201a8\"],[0.3333333333333333,\"#9c179e\"],[0.4444444444444444,\"#bd3786\"],[0.5555555555555556,\"#d8576b\"],[0.6666666666666666,\"#ed7953\"],[0.7777777777777778,\"#fb9f3a\"],[0.8888888888888888,\"#fdca26\"],[1.0,\"#f0f921\"]],\"sequentialminus\":[[0.0,\"#0d0887\"],[0.1111111111111111,\"#46039f\"],[0.2222222222222222,\"#7201a8\"],[0.3333333333333333,\"#9c179e\"],[0.4444444444444444,\"#bd3786\"],[0.5555555555555556,\"#d8576b\"],[0.6666666666666666,\"#ed7953\"],[0.7777777777777778,\"#fb9f3a\"],[0.8888888888888888,\"#fdca26\"],[1.0,\"#f0f921\"]]},\"colorway\":[\"#636efa\",\"#EF553B\",\"#00cc96\",\"#ab63fa\",\"#FFA15A\",\"#19d3f3\",\"#FF6692\",\"#B6E880\",\"#FF97FF\",\"#FECB52\"],\"font\":{\"color\":\"#2a3f5f\"},\"geo\":{\"bgcolor\":\"white\",\"lakecolor\":\"white\",\"landcolor\":\"#E5ECF6\",\"showlakes\":true,\"showland\":true,\"subunitcolor\":\"white\"},\"hoverlabel\":{\"align\":\"left\"},\"hovermode\":\"closest\",\"mapbox\":{\"style\":\"light\"},\"paper_bgcolor\":\"white\",\"plot_bgcolor\":\"#E5ECF6\",\"polar\":{\"angularaxis\":{\"gridcolor\":\"white\",\"linecolor\":\"white\",\"ticks\":\"\"},\"bgcolor\":\"#E5ECF6\",\"radialaxis\":{\"gridcolor\":\"white\",\"linecolor\":\"white\",\"ticks\":\"\"}},\"scene\":{\"xaxis\":{\"backgroundcolor\":\"#E5ECF6\",\"gridcolor\":\"white\",\"gridwidth\":2,\"linecolor\":\"white\",\"showbackground\":true,\"ticks\":\"\",\"zerolinecolor\":\"white\"},\"yaxis\":{\"backgroundcolor\":\"#E5ECF6\",\"gridcolor\":\"white\",\"gridwidth\":2,\"linecolor\":\"white\",\"showbackground\":true,\"ticks\":\"\",\"zerolinecolor\":\"white\"},\"zaxis\":{\"backgroundcolor\":\"#E5ECF6\",\"gridcolor\":\"white\",\"gridwidth\":2,\"linecolor\":\"white\",\"showbackground\":true,\"ticks\":\"\",\"zerolinecolor\":\"white\"}},\"shapedefaults\":{\"line\":{\"color\":\"#2a3f5f\"}},\"ternary\":{\"aaxis\":{\"gridcolor\":\"white\",\"linecolor\":\"white\",\"ticks\":\"\"},\"baxis\":{\"gridcolor\":\"white\",\"linecolor\":\"white\",\"ticks\":\"\"},\"bgcolor\":\"#E5ECF6\",\"caxis\":{\"gridcolor\":\"white\",\"linecolor\":\"white\",\"ticks\":\"\"}},\"title\":{\"x\":0.05},\"xaxis\":{\"automargin\":true,\"gridcolor\":\"white\",\"linecolor\":\"white\",\"ticks\":\"\",\"title\":{\"standoff\":15},\"zerolinecolor\":\"white\",\"zerolinewidth\":2},\"yaxis\":{\"automargin\":true,\"gridcolor\":\"white\",\"linecolor\":\"white\",\"ticks\":\"\",\"title\":{\"standoff\":15},\"zerolinecolor\":\"white\",\"zerolinewidth\":2}}},\"xaxis\":{\"anchor\":\"y\",\"domain\":[0.0,1.0],\"title\":{\"text\":\"N\\u00famero de Alunos Inscritos\"}},\"yaxis\":{\"anchor\":\"x\",\"domain\":[0.0,1.0],\"title\":{\"text\":\"Nome do Curso\"}},\"legend\":{\"tracegroupgap\":0},\"margin\":{\"t\":60},\"barmode\":\"relative\",\"title\":{\"text\":\"Cursos mais Populares na \\u00c1rea Financeira Empresarial\"}},                        {\"responsive\": true}                    ).then(function(){\n",
       "                            \n",
       "var gd = document.getElementById('24e51c68-e5c8-4670-9f8b-4fb5f697e61d');\n",
       "var x = new MutationObserver(function (mutations, observer) {{\n",
       "        var display = window.getComputedStyle(gd).display;\n",
       "        if (!display || display === 'none') {{\n",
       "            console.log([gd, 'removed!']);\n",
       "            Plotly.purge(gd);\n",
       "            observer.disconnect();\n",
       "        }}\n",
       "}});\n",
       "\n",
       "// Listen for the removal of the full notebook cells\n",
       "var notebookContainer = gd.closest('#notebook-container');\n",
       "if (notebookContainer) {{\n",
       "    x.observe(notebookContainer, {childList: true});\n",
       "}}\n",
       "\n",
       "// Listen for the clearing of the current output cell\n",
       "var outputEl = gd.closest('.output');\n",
       "if (outputEl) {{\n",
       "    x.observe(outputEl, {childList: true});\n",
       "}}\n",
       "\n",
       "                        })                };                });            </script>        </div>"
      ]
     },
     "metadata": {},
     "output_type": "display_data"
    }
   ],
   "source": [
    "df4_top20 = df4.head(20)\n",
    "px.bar(df4_top20, x='num_subscribers', y='course_title').update_layout(title=\"Cursos mais Populares na Área Financeira Empresarial\", yaxis_title_text=\"Nome do Curso\", xaxis_title_text='Número de Alunos Inscritos')"
   ]
  },
  {
   "cell_type": "code",
   "execution_count": 175,
   "id": "e9fa20b7",
   "metadata": {},
   "outputs": [
    {
     "data": {
      "application/vnd.plotly.v1+json": {
       "config": {
        "plotlyServerURL": "https://plot.ly"
       },
       "data": [
        {
         "customdata": [
          [
           "Bitcoin or How I Learned to Stop Worrying and Love Crypto"
          ],
          [
           "Accounting in 60 Minutes - A Brief Introduction"
          ],
          [
           "Stock Market Investing for Beginners"
          ],
          [
           "Introduction to Financial Modeling"
          ],
          [
           "The Complete Financial Analyst Course 2017"
          ],
          [
           "Forex Basics"
          ],
          [
           "Beginner to Pro in Excel: Financial Modeling and Valuation"
          ],
          [
           "Black Algo Trading: Build Your Trading Robot"
          ],
          [
           "Financial Analysis: A Recipe for Success"
          ],
          [
           "Stock Market Foundations"
          ],
          [
           "Financial Accounting - A Brief Introduction"
          ],
          [
           "Fundamentals of Forex Trading"
          ],
          [
           "Forex Trading A-Z™ - With LIVE Examples of Forex Trading"
          ],
          [
           "Learn to Trade for Profit:Trading with Japanese Candlesticks"
          ],
          [
           "Options Trading Introduction: Day Trade Stock Options"
          ],
          [
           "Introduction to Digital Payments"
          ],
          [
           "Introduction to Accounting: The Language of Business"
          ],
          [
           "Corporate Finance - A Brief Introduction"
          ],
          [
           "CPA 101: How To Master Affiliate Marketing In No Time"
          ],
          [
           "Introduction to Finance, Accounting, Modeling and Valuation"
          ],
          [
           "Bitcoin For Beginners: Your Quick Start Guide To Bitcoin"
          ],
          [
           "Learn to Trade for Profit: Find and Trade Winning Stocks"
          ],
          [
           "Forex Robots: Expect To Earn 175% P.A. Forex Robot Included!"
          ],
          [
           "Beginners Binary Options Course"
          ],
          [
           "Finance - Ratios Analysis & Interpretations"
          ],
          [
           "Create A Business From Home Trading Stocks Today In 2017"
          ],
          [
           "Options Trading Basics (3-Course Bundle)"
          ],
          [
           "Accounting & Financial Statement Analysis: Complete Training"
          ],
          [
           "Improve Your Financial Literacy"
          ],
          [
           "Forex Trading For Beginners"
          ],
          [
           "Stock Trading Ninja: Complete System For Trading Success"
          ],
          [
           "Trading Penny Stocks: A Guide for All Levels In 2017"
          ],
          [
           "How to Pick The Right Penny Stocks To Invest In 2017"
          ],
          [
           "Hedge Fund Trading System"
          ],
          [
           "The Complete Bitcoin Course: Get .001 Bitcoin In Your Wallet"
          ],
          [
           "The Complete Investment Banking Course 2017"
          ],
          [
           "Dividend Investing: Build Your Portfolio for a Better Future"
          ],
          [
           "The Advanced Forex Course for Smart Traders"
          ],
          [
           "Excel Crash Course: Master Excel for Financial Analysis"
          ],
          [
           "Financial Statements Made Easy"
          ],
          [
           "Algorithmic Trading In Forex: Create Your First Forex Robot!"
          ],
          [
           "Options Trading Stocks: Proven Toolbox For Financial Success"
          ],
          [
           "How To Start Trading Penny Stocks In 10 Easy Steps 2017"
          ],
          [
           "Basic Excel for Basic Bookkeeping and Accounting"
          ],
          [
           "Options Trading - How to Win with Weekly Options"
          ],
          [
           "【１日でマスター！】今日からはじめる資産形成"
          ],
          [
           "Get Started With Penny Stocks -Step by Step Guide to Trading"
          ],
          [
           "Learn to Trade the Stock Market without Blowing Your Profits"
          ],
          [
           "Website Investing 101 - Buying & Selling Online Businesses"
          ],
          [
           "Use Crowdfunding Effectively With Indiegogo and Kickstarter"
          ],
          [
           "Elite Trend Trader: Learn To Trade Stocks, Options & Forex"
          ],
          [
           "Foundation of Options Trading and Investing"
          ],
          [
           "Four Fundamentals of Financial Planning"
          ],
          [
           "The Beginner's Guide to the Futures and Options Trading"
          ],
          [
           "Option Trading for Rookies: The Covered Call Option Strategy"
          ],
          [
           "Forex Basics (Professional Course Level)"
          ],
          [
           "Shark Accounting - Building a Business by the Numbers!"
          ],
          [
           "Como Investir em Ações para Iniciantes"
          ],
          [
           "Monatlich Geld anlegen für später!"
          ],
          [
           "Introductory Forex Trading Course"
          ],
          [
           "Binary Options Course - Level 2"
          ],
          [
           "Basic Bookkeeping Hacks"
          ],
          [
           "Beginner to Pro in PowerPoint: Complete PowerPoint Training"
          ],
          [
           "How I Trade Forex Successfully"
          ],
          [
           "FastTrack to Stock Trading Strategies"
          ],
          [
           "Silver, Gold, and Inflation"
          ],
          [
           "Learn Accounting. Understand Business."
          ],
          [
           "Day Trading Market Structure Signals"
          ],
          [
           "Forex Strategies: Kelly Criterion, Larry Williams and more!"
          ],
          [
           "Learn to Trade Forex Naked Price Action Big Shadow Trade"
          ],
          [
           "7 Deadly Mistakes of Investing that Will Slash Your Profits!"
          ],
          [
           "Investing 101: The Complete Online Investing Course"
          ],
          [
           "Options Trading 3 : Advanced Stock Profit and Success Method"
          ],
          [
           "Learn How to Trade Binary Options Professionally"
          ],
          [
           "Statistics - Measures of Dispersion for CA / CS / CFA exams"
          ],
          [
           "Small Business Owners: Drive a Productive Business and Grow"
          ],
          [
           "Trading for Beginners - Entry Level"
          ],
          [
           "Financial Model Basics: Build a model from start to finish"
          ],
          [
           "How to Win 97% of Your Options Trades"
          ],
          [
           "Crash Course on Cost of Capital and Capital Structuring"
          ],
          [
           "Financial Modeling for Startups & Small Businesses"
          ],
          [
           "Budgeting Hacks to Build Wealth!"
          ],
          [
           "Basic Technical Analysis: Learn the structure of the market"
          ],
          [
           "Guía práctica para comprar acciones en la Bolsa de USA"
          ],
          [
           "Futures/Commodity Training (Basics)"
          ],
          [
           "Basics of Business Finance"
          ],
          [
           "Introduction to Equity Markets"
          ],
          [
           "Professional Trader's Mindset - Complete Forex Course"
          ],
          [
           "Business finances"
          ],
          [
           "Accounting: Get Hired Without Work Experience"
          ],
          [
           "Build a DCF Model from Scratch"
          ],
          [
           "Investment Crowdfunding 101 (a.k.a Equity Crowdfunding)"
          ],
          [
           "Hands-on Financial Modeling (With 6 Excel Templates)"
          ],
          [
           "EFT for Stock Options Trading Success & Making Better Trades"
          ],
          [
           "Practical Finance"
          ],
          [
           "Capital Structuring Techiques for CA / CFA / CPA Exams"
          ],
          [
           "Forex Trading Secrets of the Pros With Amazon's AWS"
          ],
          [
           "IAS 12 - Accounting for Income Taxes (Basics)"
          ],
          [
           "VPS for Forex Trading - Protect Your Forex Robots"
          ],
          [
           "Introduction to the CFA Program"
          ],
          [
           "Comprehensive Guide to Financial Markets, Investing &Trading"
          ],
          [
           "Finance for Non-Finance: Learn Quick and Easy"
          ],
          [
           "Trading for everyone - The Independent Investor Course I"
          ],
          [
           "TechniTrader Leading Hybrid Indicator Trading"
          ],
          [
           "Mergers and Acquisitions M&A Essentials You Need to Know"
          ],
          [
           "Accounting Basics in 66 Minutes (absolutely for beginners)"
          ],
          [
           "Trading Options For Consistent Returns: Options Basics"
          ],
          [
           "Forex Trading Course: Work Smarter Not Harder Proven Results"
          ],
          [
           "Accounting Made Easy 2"
          ],
          [
           "Elliott Wave -Forex Trading With The Elliott Wave Theory"
          ],
          [
           "Create Your Own Hedge Fund: Trade Stocks Like A Fund Manager"
          ],
          [
           "Trading for Beginners - Intermediate Level"
          ],
          [
           "The Holy Grail of Auto Trading Forex Futures Stocks Revealed"
          ],
          [
           "Accounting Is Easy (for Beginners)"
          ],
          [
           "How to Create Your Personal Budget"
          ],
          [
           "≪虎の巻≫証券取引の「税金のお悩み」解消"
          ],
          [
           "Python for Finance: Investment Fundamentals & Data Analytics"
          ],
          [
           "Value Investing, Taught by Six Superinvestors"
          ],
          [
           "Introduction to Cryptocurrencies and Blockchain"
          ],
          [
           "Auditing Basics (Professional Course Level)"
          ],
          [
           "Binary, Forex, Stock and Bitcoin Trading Strategy"
          ],
          [
           "Cost Accounting Crash Course"
          ],
          [
           "MCA Accountancy and Financial Management -Paper MCS 35 IGNOU"
          ],
          [
           "Financial Management Risk and Return For Securities"
          ],
          [
           "Technical Analysis tools for Stocks and Options trading"
          ],
          [
           "Forex Trading MAKE YOUR FIRST TRADE TODAY!"
          ],
          [
           "Bitcoin for Accountants"
          ],
          [
           "Apply finance concepts for smart project management"
          ],
          [
           "Demystifying Your Personal Tax Return"
          ],
          [
           "Business Economics - Basics (College Level)"
          ],
          [
           "Learn to Raise the Funds You Need via Crowdfunding"
          ],
          [
           "The Art Of Financial Valuation With Certificate"
          ],
          [
           "Startup Business: How To Raise Seed Capital"
          ],
          [
           "Master 'Technical Analysis and Chart reading skills Bundle\""
          ],
          [
           "Trade Recap I - A Real Look at Futures Options Markets"
          ],
          [
           "Beginners Guide to Stock Market Investing"
          ],
          [
           "Hedge and Mutual Fund Careers: The Complete Guide"
          ],
          [
           "Introduction to Bookkeeping (Accounting)"
          ],
          [
           "Forex Trading - Learn to Trade Forex Like the Banks"
          ],
          [
           "Start Trading Stocks Using Technical Analysis!"
          ],
          [
           "Crash Course on Working Capital Management"
          ],
          [
           "Stock market Investing Encyclopedia: How to invest in stocks"
          ],
          [
           "Forex & Financial Market Trading Tutorial- Online Strategies"
          ],
          [
           "Fundamentals of Investing!"
          ],
          [
           "Leasing - A Comprehensive Study (Professional Course Level)"
          ],
          [
           "Accounting and Finance for Bankers - A Comprehensive Study"
          ],
          [
           "Accounting 101: How to read an Accounting Balance Sheet"
          ],
          [
           "Multiply your returns using 'Value Investing\",https://www.udemy.com/multiply-your-returns-using-value-investing/,true,20,1942,19,63,All Levels,4.5 hours,2015-07-23T00:08:33Z\n874284,Weekly Forex Analysis by Baraq FX\""
          ],
          [
           "Succeed in Futures Even if You Don't Know Where to Start"
          ],
          [
           "Trading Inside Bars - Master 1 Easy Pattern To Be Successful"
          ],
          [
           "Stock Options Day Trading Mindset for Success"
          ],
          [
           "Cash Flow Valuation: Develop Your Financial Literacy"
          ],
          [
           "Work From Home Online (Part/Full) : Trade Forex 4 Beginners"
          ],
          [
           "Forex: What's a Trend and When it is Strong and Reliable"
          ],
          [
           "CAIIB Advanced Bank Management (Part I)"
          ],
          [
           "What Finance Job is for You? Explanation of 14 Finance Roles"
          ],
          [
           "B Com Accountancy I (Paper ECO 02 IGNOU)"
          ],
          [
           "Accounting for Deferred Taxes (Professional Course Level)"
          ],
          [
           "Trading Stock Chart Patterns For Immediate, Explosive Gains"
          ],
          [
           "Cashflow Management for Small Businesses: A How To Guide"
          ],
          [
           "Learn how to double your Forex Trading Account in one trade"
          ],
          [
           "Adventure Capital: How to pay off debt"
          ],
          [
           "Option Trading for Rookies: Understand Options Completely"
          ],
          [
           "Learn MQL5: Build an 8-Currency Hedging Robot (MetaTrader 5)"
          ],
          [
           "Learn Basic Concepts of Economics Step by Step - Complete"
          ],
          [
           "Complete GST Course & Certification - Grow Your CA Practice"
          ],
          [
           "Forex - Elliott Wave Theory with Fibonacci."
          ],
          [
           "Introduction to Value Growth Investing"
          ],
          [
           "Cómo ganar dinero invirtiendo en bolsa"
          ],
          [
           "Project Funding Modelling (for Professionals)"
          ],
          [
           "[Value Investing] Where White People Keep Their Money"
          ],
          [
           "The Blueprint for Successful Stock Trading"
          ],
          [
           "Trading Economic Indicators - Complete Trading System"
          ],
          [
           "Technical Analysis 101: Master the Basics of Trading"
          ],
          [
           "IAS 1-Presentation of Financial Statements"
          ],
          [
           "The Complete Chart Pattern Trading Course: A Proven Approach"
          ],
          [
           "Financial Management Capital Market Instruments"
          ],
          [
           "Excel 4 Accounting & Bookkeeping - Master Lookup Functions"
          ],
          [
           "Learn How to Start Small and Make It Big In Small-Cap Stocks"
          ],
          [
           "Introduction to bookkeeping and Accounting"
          ],
          [
           "Forex MetaTrader 4: Master MT4 Like A Pro Forex Trader"
          ],
          [
           "Financial Accounting: The Complete Introductory Crash Course"
          ],
          [
           "IAS 18 - Revenue"
          ],
          [
           "Succeed in Stocks Even if you Don't Know Where to Start"
          ],
          [
           "Basics of Economics (College Level)"
          ],
          [
           "The Complete Ethereum Course: Get .01 Ether In Your Wallet"
          ],
          [
           "QuickBooks 2015 Training for Newbies"
          ],
          [
           "Learn How To Successfully Trade Stocks: In 5 Simple Steps"
          ],
          [
           "Accounting 1 Simplified for You"
          ],
          [
           "Free Options 101 - Basic of Call and Put Options in 1 Hours"
          ],
          [
           "CFA Corporate Finance Level 2"
          ],
          [
           "Beginner to Pro - Financial Analysis in Excel 2017"
          ],
          [
           "Save on Your Taxes"
          ],
          [
           "Cost Accounting Overheads (Professional Course Level)"
          ],
          [
           "Forex Trading: Comprehensive & Concise Forex Trading Course"
          ],
          [
           "Working Capital Management for CA / CFA / CPA Exams"
          ],
          [
           "Business Analysis: Working with Use Cases"
          ],
          [
           "Live Account - ETF Trading System - Hacking The Stock Market"
          ],
          [
           "Financial modeling: Build a forward looking financial model"
          ],
          [
           "How I Make Consistent Returns Trading Options"
          ],
          [
           "Option Trading - How To Earn If You Can't Predict The Market"
          ],
          [
           "Forex Traders - Create Your First Trading Robot. No Coding!"
          ],
          [
           "Basics of Business Statistics (College Level)"
          ],
          [
           "Excel functions to analyze and visualize data"
          ],
          [
           "Bitcoin - The Complete Guide"
          ],
          [
           "Short Selling: Learn To Sell Stocks Before The Fall"
          ],
          [
           "Risk Analysis - Capital Budgeting for CA / CS / CFA exams"
          ],
          [
           "IAS37 - Provisions, Contingents Liabilities & Assets"
          ],
          [
           "Financial Modeling: Build a Complete DCF Valuation Model"
          ],
          [
           "Forex Rate -Why it fluctuates -for CA / CMA / CS / CFA Exams"
          ],
          [
           "Risk in Forex Transactions - for CA / CS / CFA exams"
          ],
          [
           "Charting for Beginners 101: Technical Analysis Demystified"
          ],
          [
           "Accounting Standards Basics (Professional Course Level)"
          ],
          [
           "High-Frequency Trading #1: Basics, History & Strategies"
          ],
          [
           "Option Spreads and Credit Spreads Bundle"
          ],
          [
           "Basics of Commerce A Complete Study"
          ],
          [
           "Accounting Bank Reconciliation Statement (College Level)"
          ],
          [
           "QuickBooks Online: Complete Guide & Certification tips"
          ],
          [
           "Sensitivity & Scenario Analysis for CA / CFA / CPA Exams"
          ],
          [
           "How to Become a Financial Analyst from Scratch!"
          ],
          [
           "Financial Modeling for Business Analysts and Consultants"
          ],
          [
           "IAS 16-Property,Plant and Equipment"
          ],
          [
           "Stock Market Leverage: How to Start Trading Options Wisely"
          ],
          [
           "Ultimate Investment Banking Course"
          ],
          [
           "IAS 10 - Events After Reporting Date"
          ],
          [
           "The Complete Value Investing Course: A Proven Approach"
          ],
          [
           "Beginners Forex strategy"
          ],
          [
           "Using 'The Greeks To Understand Options\""
          ],
          [
           "IAS 8-Accounting Policies ,Changes in Accounting Estimates"
          ],
          [
           "Interpreting financial statements"
          ],
          [
           "The Ultimate Guide to Dividend & Dividend Growth Investing"
          ],
          [
           "High performance Stock Trading using key Options techniques"
          ],
          [
           "WE WILL PAY YOU TO TRADE WITH US"
          ],
          [
           "Forex Trading Secrets |MT4 Robot (EA) inside, no coding"
          ],
          [
           "Build A Career In Forex Trading- Learn Fundamental Analysis"
          ],
          [
           "Introduction to Corporate Finance (Mergers & Acquisitions)"
          ],
          [
           "สอนเทรดไบนารี่ อ๊อฟชั่นอย่างง่าย"
          ],
          [
           "How To Set Up A Limited Company In The UK"
          ],
          [
           "Practical Accounts & Bookkeeping Automated Overview"
          ],
          [
           "IFRIC 13-Customer Loyalty Programmes (Revenue)"
          ],
          [
           "Build a DCF Valuation Model"
          ],
          [
           "Stock Market: The Zero Risk Way of Investing"
          ],
          [
           "Financial Management - Ratio Analysis"
          ],
          [
           "Financial Management Budgeting Techniques"
          ],
          [
           "Accounting 101: Guide to Business Accounting"
          ],
          [
           "Collection of Advanced Options concepts for Options traders"
          ],
          [
           "Investing: How I Consistently Beat The Stock Market"
          ],
          [
           "Intermediate Options trading concepts for Stocks and Options"
          ],
          [
           "Financial Planning & Analysis: Building a Company's Budget"
          ],
          [
           "Accounting for Beginners : Learn Basics in under 1 Hour"
          ],
          [
           "Advanced Excel functions"
          ],
          [
           "Learn the basics of preparing accounting statements"
          ],
          [
           "Basics of Economics For Beginners A to Z - A Complete Course"
          ],
          [
           "Financial Management - A Complete Study"
          ],
          [
           "Learn to Trade The News"
          ],
          [
           "Accounting Basics by Hector Garcia, CPA"
          ],
          [
           "Cost Accounting Marginal Costing Theory and Practice"
          ],
          [
           "Intro to Investment Banking, M&A, IPO, Modeling + Free Book"
          ],
          [
           "Introduction to Accounting : Mastering Financial Statements"
          ],
          [
           "Stock Market Option Trading: How Sell Options For Premium"
          ],
          [
           "Accounting Standard 3 - An Analysis"
          ],
          [
           "The Tax Advantaged Investor: A Guide to Legal Tax Reduction!"
          ],
          [
           "How to Build a Massive Stock Portfolio from Zero!"
          ],
          [
           "Transfer Pricing A Complete Analysis"
          ],
          [
           "Financial analysis: Compare performance of companies"
          ],
          [
           "THE Forex Robot: Incredible ROI (Robot Included)"
          ],
          [
           "MetaTrader4 Platform Training"
          ],
          [
           "Succeed in Forex Even if You Don't Know Where to Start!"
          ],
          [
           "Introducción a las Finanzas"
          ],
          [
           "Introductory Financial Accounting"
          ],
          [
           "The Almost Perfect Options Trading Strategy System - Unique"
          ],
          [
           "Forex for Beginners: Easy Forex Trading for Beginners"
          ],
          [
           "Cost Accounting Basics (Professional Course Level)"
          ],
          [
           "Forex Trading vs Option Trading"
          ],
          [
           "First Steps to Trading the Forexmarkets : Technical Analysis"
          ],
          [
           "Forex Trading - Advanced Fundamental Analysis"
          ],
          [
           "Trading strategies with common sense technical analysis"
          ],
          [
           "Algorithmic Trading in MATLAB: WFAToolbox App GUI (Finance)"
          ],
          [
           "Technical Analysis 101: Ten Primary Candlestick Reversals"
          ],
          [
           "Portfolio Management for CA / CS / CFA exams"
          ],
          [
           "How To Profit From Stock Market Volatility"
          ],
          [
           "Become A Forex Trader - Forex trading like a professional"
          ],
          [
           "High-Frequency Trading #2: Market Structure & Instruments"
          ],
          [
           "Accounting 101: Learn Business Finance Forecasting in 60mins"
          ],
          [
           "Technical Analysis 101: How to Profit During Market Crashes"
          ],
          [
           "CurrencyFair - Avoid Bank Charges when converting currencies"
          ],
          [
           "Binary Options: Trading Strategies, 90% Accuracy and Signals"
          ],
          [
           "Tax Strategy: Financial Planning for Beginners"
          ],
          [
           "Forex Trading using professional indicators by TOP traders"
          ],
          [
           "Optimizing investment to maximise your return"
          ],
          [
           "Forex Trading For Beginners: Technical Trading"
          ],
          [
           "How to Trade Binary Options Effectively – All Levels"
          ],
          [
           "The Power Modeling Bootcamp: Advanced Excel in 10 Days"
          ],
          [
           "Invierte en la Bolsa Mexicana y de USA"
          ],
          [
           "Learn to Trade Forex and Stocks: From Beginner to Advanced"
          ],
          [
           "How to Invest in Stocks + Billionaire Investing Tips"
          ],
          [
           "The Complete Forex Trader"
          ],
          [
           "How to Invest in Startups - Expert Reveals Winning Secrets."
          ],
          [
           "Build Financial Models & Value Companies The Easy Way"
          ],
          [
           "Basics of investing in Mutual Funds"
          ],
          [
           "Stock Options Trades Using Interactive Brokers"
          ],
          [
           "How I Learned Stock Trading (and How You Can Too)"
          ],
          [
           "Trading Binary Options for Fun and Profit"
          ],
          [
           "Introducción al trading de opciones"
          ],
          [
           "Venture Capital. What is it and Why it Matters to You!"
          ],
          [
           "Fundamentals of Accounting"
          ],
          [
           "NPV and IRR Techniques for CA / CFA / CPA Exams"
          ],
          [
           "Understand Banks & Financial Markets"
          ],
          [
           "Cost Accounting Labour Costing (Professional Course Level)"
          ],
          [
           "Investing And Trading For Beginners: Mastering Price Charts"
          ],
          [
           "Advanced Accounting A Complete Study for CA / CMA / CFA / CS"
          ],
          [
           "Certificate Program In Management Accounting"
          ],
          [
           "The Actuarial Profession: Basic Sciences and Principles"
          ],
          [
           "Ultimate Stock Market Investing: Learn How to Value Stocks"
          ],
          [
           "Options Trading 101: The Basics"
          ],
          [
           "Trend Traders Club: How To Find And Trade Fast Moving Trends"
          ],
          [
           "Algorithmic futures trading - Investing with no experience"
          ],
          [
           "Valuation of Goodwill for CA / CFA / CMA Exams"
          ],
          [
           "How to Start Investing: Made Simple and Easy"
          ],
          [
           "How to Build a Massive Retirement Plan from Scratch!"
          ],
          [
           "TRADING MARKET MAP"
          ],
          [
           "The Most Powerful Options Spread Trading Front Ratio Spread"
          ],
          [
           "Introduction to Financial Statement Analysis"
          ],
          [
           "Learn How to Play CashFlow Game"
          ],
          [
           "Interpreting Financial Statements"
          ],
          [
           "Accounting 2 Simplified for You"
          ],
          [
           "SAP FICO For Beginners - A Guide to SAP Financial Accounts"
          ],
          [
           "Take Control By Learning The Stock Market Now"
          ],
          [
           "Accounting Superpowers: Learn Accounts, Understand Business!"
          ],
          [
           "How to Consistently Win Trading Stocks in 30 Days or Less"
          ],
          [
           "Forex Trading - Learn to Trade From Scratch!"
          ],
          [
           "Get Acquired: Learn From The Head Of Acquisitions For eBay"
          ],
          [
           "Learn How to Set Up an Incubator Hedge Fund - Step-by-Step"
          ],
          [
           "TRADING TRUTHS"
          ],
          [
           "Essentials of Finance and Investment in 2 hours"
          ],
          [
           "Option Trading: How to Adjust Delta-Neutral Strangles!"
          ],
          [
           "CFA: Fast Track your career in Finance"
          ],
          [
           "Trading Options With Money Flow"
          ],
          [
           "Financial Statements Basics"
          ],
          [
           "Financial modeling: Build a DCF equity valuation model"
          ],
          [
           "MQL4 Programming for Traders: Build Robust Trading Robots!"
          ],
          [
           "Surviving Introduction to Finance"
          ],
          [
           "Practical Accounts APP Overview"
          ],
          [
           "Options Trading Essentials: The ULTIMATE Guides"
          ],
          [
           "MBA Accounting and Finance for Managers(Paper MS04 of IGNOU)"
          ],
          [
           "Master Iron Condors - Double the credit for half the risk"
          ],
          [
           "Financial Modeling in Excel for Startups"
          ],
          [
           "The Complete Guide to Forex Trading"
          ],
          [
           "How to start a successful career in finance?"
          ],
          [
           "Forex SOS Course: Trading Tweaks And Working Forex Strategy"
          ],
          [
           "The Complete Position Trading Course: Position Trading Stock"
          ],
          [
           "Accounting for School Students"
          ],
          [
           "Trading: Basics of Trading for Beginners"
          ],
          [
           "Forex Prep Academy for Beginners-Real trades!"
          ],
          [
           "Small Biz Doers' Guide to Small Biz Accounting + Bookkeeping"
          ],
          [
           "Gestão Financeira Para Pequenas e Médias Empresas"
          ],
          [
           "Accounting 102: Guide to Business Accounting"
          ],
          [
           "Curso de Day Trader para Iniciantes"
          ],
          [
           "MQL4 Tutorial Bootcamp - Trading Robot Coding in Metatrader4"
          ],
          [
           "How To Maximize Your Profits Trading Options"
          ],
          [
           "Option selling trading as income source. Beginners friendly"
          ],
          [
           "Advanced Stock Options for Serious Equity Investors!"
          ],
          [
           "Bookkeeping Made Easy"
          ],
          [
           "Advanced Accounting for Investment Banking"
          ],
          [
           "Debt Collection Management: Get Paid On Time EVERY TIME!"
          ],
          [
           "Media Training for Financial Service Professionals"
          ],
          [
           "Advanced Options Trading Course"
          ],
          [
           "How to Trade Commodity and Financial Futures for a Living!"
          ],
          [
           "How To Invest With Tiny Capital In Stocks ?"
          ],
          [
           "Financial Statements Analysis: Learn to Invest Like a Pro!"
          ],
          [
           "Introducción a la Contabilidad"
          ],
          [
           "CryptoArbitrager: Bitcoin Trading Robot (no mining)"
          ],
          [
           "Financial Ratios Using Excel"
          ],
          [
           "Accounting Department's Tips & Tricks - Beginner to Advanced"
          ],
          [
           "Investment Banking: How to Land a Job on Wall Street"
          ],
          [
           "Trading Options For Consistent Returns: Calendar Spreads"
          ],
          [
           "No Bull Investing: Investing 101 For Financial Freedom"
          ],
          [
           "Trend Following Stocks: A Complete Trading System"
          ],
          [
           "Succeed in Lotto Even if You Don't Know Where to Start!"
          ],
          [
           "FOREX : Learn Technical Analysis"
          ],
          [
           "Three Steps Trading - Live Trading - Real Account"
          ],
          [
           "Get out of Debt - The Power of Using Compounding Interest"
          ],
          [
           "Learn about it"
          ],
          [
           "CFP - Introduction to Financial Planning"
          ],
          [
           "A Value Investing Approach to the Stock Market"
          ],
          [
           "Tradeonomics - Four Steps to Mastering Economic Indicators"
          ],
          [
           "Finding an Unlimited Amount of Investors"
          ],
          [
           "Trading News Using Binary Options"
          ],
          [
           "Mastering Futures Options for Beginners - Your Top 5 Plays!"
          ],
          [
           "Fund Flow Analysis for CA / CFA / CPA Exams"
          ],
          [
           "Ultimate Retirement: Build Your Own Dynamic Retirement Plan"
          ],
          [
           "The Securities Trade Lifecycle"
          ],
          [
           "Building Financial Statements in Excel"
          ],
          [
           "Finance and Accounting for Startups"
          ],
          [
           "Invest Like a Pro!"
          ],
          [
           "How to Become an Accountant from scratch!"
          ],
          [
           "Business Accounting Made Easy"
          ],
          [
           "Studying the CFA Program exams (Mandarin language version)"
          ],
          [
           "Forex Killing Divergence - How to trade with precision"
          ],
          [
           "Python Algo Stock Trading: Automate Your Trading!"
          ],
          [
           "Double your Forex Account using the MAGIC MA trading robot"
          ],
          [
           "How to become a successful day trader"
          ],
          [
           "Investing in stocks: Avoid stock market loss"
          ],
          [
           "Awaken the Accountant in You | Master the Accounting Basics"
          ],
          [
           "Learn To Invest In Index Funds and ETFs In 7 Easy Steps"
          ],
          [
           "Accounting Basics - A Complete Study"
          ],
          [
           "Trading Robot Forex Programs in Your Sleep in Live Examples!"
          ],
          [
           "IPO Fundamentals"
          ],
          [
           "The Binary Institute - Introductory Course in Binary Options"
          ],
          [
           "Stock Market investment: Practical Accounting"
          ],
          [
           "Bulletproof Personal Finance: Expert Asset Allocation"
          ],
          [
           "build a solid foundation for trading options"
          ],
          [
           "Succeed in Bonds Even if You Don't Know Where to Start"
          ],
          [
           "Options Trading - Calendar Spread Course for Every Trader"
          ],
          [
           "How to Fund your Million Dollar Idea: Equity, Debt, Unfund"
          ],
          [
           "Learn to Pick the Right Stock Broker Account"
          ],
          [
           "Investing Internationally into Real Estate, Stocks and Bonds"
          ],
          [
           "Use the Magic Multiple Moving Average Forex Trading system"
          ],
          [
           "Profitable binary option trading strategy"
          ],
          [
           "Investing in Stocks? Master The Art of Covered Calls Selling"
          ],
          [
           "Trading Seasonal Price Patterns in Stocks, Futures, & Forex!"
          ],
          [
           "Financial Modeling - Build Your Own 3 Statement Projection"
          ],
          [
           "Stock Market investment:Non financial fundamental analysis"
          ],
          [
           "Learn Wave accounting to maintain books properly"
          ],
          [
           "Complete Trading Plan Course for Stocks & Forex (10 Hours)"
          ],
          [
           "Forex Scam: Avoid the scam today"
          ],
          [
           "Financial Modeling 101"
          ],
          [
           "Penny Stocks King: How 2 really Trade Penny Stocks (6 Hours)"
          ],
          [
           "Bank Financial Management A Comprehensive Study"
          ],
          [
           "Your First Successful Forex Trades - With Case Studies"
          ],
          [
           "Intro to Financial Modeling"
          ],
          [
           "7 Steps: Your Introduction to Trading"
          ],
          [
           "1. Principles of Simple Interest"
          ],
          [
           "Corporate Finance 101: Equity Valuation"
          ],
          [
           "Mental Models For Wall Street - Become A Better Trader"
          ],
          [
           "Grundlagen der finanziellen Unabhängigkeit"
          ],
          [
           "Emini ES Futures - Advanced Non Directional Options Trading"
          ],
          [
           "Quantitative Aptitude for Banking & Competitive Examinations"
          ],
          [
           "How to Read a Balance Sheet"
          ],
          [
           "Simple things you must know before start FOREX (OFFER)"
          ],
          [
           "Situational Trading: Proven Option Strategy for any Scenario"
          ],
          [
           "RSI, Options Trading & Technical Analysis (3 Course Bundle)"
          ],
          [
           "Certificate Program in Financial Accounting"
          ],
          [
           "Learn About Trading Options from a real wallstreet trader"
          ],
          [
           "Revealed: Profitable Principles of Successful Traders"
          ],
          [
           "Basics of Mutual Funds for CA / CMA / CS / CFA Exams"
          ],
          [
           "Developing A Trading Strategy: Your Guide to Trading Success"
          ],
          [
           "The Complete Short Course on Ethereum"
          ],
          [
           "Trading Strategies: Find The Trading Strategy That Fits You"
          ],
          [
           "Tax Accounting: Difficult Topic, Made Easy to Understand"
          ],
          [
           "Penny Stocks Value & Chart Pattern Trading (2 Course Bundle)"
          ],
          [
           "Build a Trading Comps Valuation Model"
          ],
          [
           "Mastering High Probability Iron Condor Options Trading"
          ],
          [
           "How to be a Profitable Forex Trader"
          ],
          [
           "61% Profit In 1 Month - Crush Your Forex Trading Paradigm"
          ],
          [
           "Forex Trading: Your Complete Guide to Get Started Like a Pro"
          ],
          [
           "Chart Patterns Trading Demystified"
          ],
          [
           "Learn Call Options and Put Options - Introduction to Options"
          ],
          [
           "Tape Reading: Learn how to read the tape for day trading"
          ],
          [
           "Economics: Competition, Elasticity, a little Game Theory"
          ],
          [
           "An Intro into Trading the Financial Markets"
          ],
          [
           "Leaps Options Trading System - Diagonal Leaps Options Spread"
          ],
          [
           "Forex Trading for Beginners - Basics"
          ],
          [
           "Learn How to Trade The Stock Market"
          ],
          [
           "MQL5 Tutorial Bootcamp"
          ],
          [
           "TRADING PSYCHOLOGY: Trading Mindset Mastery"
          ],
          [
           "Direction-Independ Trading - Elite Forex Traders Strategy"
          ],
          [
           "Advanced Options Concepts - Probability, Greeks, Simulation"
          ],
          [
           "Corporate Finance 101: Financial Statement Analysis & Ratios"
          ],
          [
           "Preparation of Consolidated Financial Statements (Basic)"
          ],
          [
           "Forex: Learn to Trade Forex and FX Consistently"
          ],
          [
           "トレーディングビュー徹底攻略2017年版"
          ],
          [
           "TRADING TACTICS"
          ],
          [
           "Finance for Non Finance Executives"
          ],
          [
           "Naked Put Options Trade Covered Call & Poor Man Covered Call"
          ],
          [
           "A Beginner's Guide to Quantopian Futures API"
          ],
          [
           "Binary Beginners Mastery Strategy."
          ],
          [
           "Public Speaking: You Can Give Great Financial Presentations"
          ],
          [
           "Candlestick Analysis For Professional Traders"
          ],
          [
           "The Complete Financial Statement Analysis Course"
          ],
          [
           "Technical Analysis 101: Secrets of Trading Revealed"
          ],
          [
           "Accounting Books of Accounts (College Level)"
          ],
          [
           "Non Directional Weekly Options Trading System - ETF & Emini"
          ],
          [
           "Banking Credit Analysis Process (for Bankers)"
          ],
          [
           "Seeing the Big Picture: Understanding Financial Statements"
          ],
          [
           "Accounting for CA CPT Exams Part I"
          ],
          [
           "Investing In Stocks With 10 Simple Rules"
          ],
          [
           "Successful Day Trading with Fibonacci"
          ],
          [
           "自分に合った投資信託を見つけよう！"
          ],
          [
           "Bookkeeping Basics: Understand the Fundamentals"
          ],
          [
           "Financial Accounting, its Cycle, Statements & Analysis"
          ],
          [
           "Raise Your Credit Score to 800 Or More...."
          ],
          [
           "Excel Dashboard - Interactive Excel Dashboard and Charts"
          ],
          [
           "Learn to Reliably Invest In The Stock Market"
          ],
          [
           "Straddle Options Trading - Profit in Any Market Direction"
          ],
          [
           "Analysis of Company Financial Statements"
          ],
          [
           "CFA® Level 1 2014 – Alternative Investments"
          ],
          [
           "A Beginners Guide to Technical Analysis of Stock Charts"
          ],
          [
           "2 Easy Steps To Investment And Avoiding Traps"
          ],
          [
           "The Only Investment Strategy You Need For Your Retirement"
          ],
          [
           "ProTrader - Advanced Technical Analysis"
          ],
          [
           "Stock Market - Swing Trading Strategies for Wall Street"
          ],
          [
           "Forex para Principiantes-Ejemplos en VIVO de Trading Real"
          ],
          [
           "Simple Linear Regression Analysis ( A Complete Course )"
          ],
          [
           "Option Trading for Rookies: Basic Option Strategies"
          ],
          [
           "Winning Forex Trading with Live Forex Trading Examples"
          ],
          [
           "Crystal ball trading - foresee price with seasonal patterns"
          ],
          [
           "Value Investing For Beginners"
          ],
          [
           "Triple P Trading Course"
          ],
          [
           "Aprende a invertir y deja que tu dinero trabaje para ti"
          ],
          [
           "Step by step guide to understand how business perform"
          ],
          [
           "العلوم والمبادئ الأساسية للمهنة الإكتوارية"
          ],
          [
           "Weekly Options and study of Options expiration dynamics"
          ],
          [
           "Straddles and Strangles - Volatility moves in any direction"
          ],
          [
           "Learn How to Trade Pump and Dumps. 5 Setups Well Explained."
          ],
          [
           "The Day Trader: Learn to Trade The Stock Market and Forex"
          ],
          [
           "Financial Statement Fundamentals for Small Biz & Investors"
          ],
          [
           "Forex trading Basic to advance Professional Level course"
          ],
          [
           "Making Tax Digital - UK HMRC Legislation Explained"
          ],
          [
           "Learn Business Finance: Win more work as a Business Coach"
          ],
          [
           "Learn to Trade for Profit: Ten Most Profitable Trading Rules"
          ],
          [
           "Fixed Income Securities"
          ],
          [
           "Backspreads, Diagonals and Butterflies - Advanced Strategies"
          ],
          [
           "Cost Accounting Operating Costing(Professional Course Level)"
          ],
          [
           "Get to know the VIX Index (aka 'The Fear Index)\""
          ],
          [
           "Get a Credit Repair Publication On Amazon and Live LIFE.."
          ],
          [
           "Master Finance in Three Hours"
          ],
          [
           "Stocks: Quick Method to get started Investing"
          ],
          [
           "Basics of Tax in India (College Level)"
          ],
          [
           "Learn how to INVEST for huge profits or make it big trading!"
          ],
          [
           "ビットコイン生態系｜既存通貨が主役をやめる日"
          ],
          [
           "Introduction to Futures & Options"
          ],
          [
           "Automate Your Finances"
          ],
          [
           "Tudo sobre Investimentos em Renda Fixa"
          ],
          [
           "Bookkeeping to Command Senior Bookkeeping Wages"
          ],
          [
           "Forex Trading Like Banks – Step by Step with Live Examples"
          ],
          [
           "How to remove 'Risk from Penny Stocks - Options Trading\""
          ],
          [
           "Hedge Fund Accounting and Valuation"
          ],
          [
           "Essential Finance For Managers"
          ],
          [
           "Top 10 Trading Ideas in the Equities Market"
          ],
          [
           "How to Buy Cheap Options - Options Trading Pricing Model"
          ],
          [
           "Financial modeling: Build a multiples valuation model"
          ],
          [
           "Navigate the 10-K and Other Financial Reports"
          ],
          [
           "Comprehensive Forex Mastery Program"
          ],
          [
           "Aprende a invertir sin capital"
          ],
          [
           "Stock Markets: How I Became Rich By Changing How I Trade"
          ],
          [
           "Python for Trading & Investing"
          ],
          [
           "The Cost of Capital: The Key To Attract Venture Capitalists"
          ],
          [
           "Trading Trends in ANY Market"
          ],
          [
           "Professional Options Trading, Simplified"
          ],
          [
           "Crowdfunding to Win"
          ],
          [
           "Professional Trading - Consistent Profits with Low Risk!"
          ],
          [
           "Options Spreads Bundle- the heart of Options Trading"
          ],
          [
           "Forex Elite Trading"
          ],
          [
           "CFA Corporate Finance Level 1 (Part 1)"
          ],
          [
           "Take Your Career to the Next Level with MBA Finance"
          ],
          [
           "Introduction to Options - Strategies For Consistent Profits"
          ],
          [
           "Capital Market Immersion"
          ],
          [
           "Kostenrechnung lernen leicht gemacht"
          ],
          [
           "Forex Trading with Fixed 'Risk through Options Trading\""
          ],
          [
           "The Basics Of Volume Analysis"
          ],
          [
           "Tax Preparation: Learn Fast! Prepare Taxes with Confidence!"
          ],
          [
           "CREDIT SPREAD SURGERY - Bear Call and Bull Put Mastery"
          ],
          [
           "ALGOTECH Hedge Fund Method for Stock Market Trading"
          ],
          [
           "Indian Contract Act 1872: Must for all Finance Professionals"
          ],
          [
           "Samuel and Co Trading - Stock & Forex Trading"
          ],
          [
           "The Financial Analyst Skills Training (FAST) course 2017"
          ],
          [
           "Basics of Finance and Budgeting"
          ],
          [
           "Stock Market for Beginners - Complete Starter Toolkit"
          ],
          [
           "Accounting for Depreciation (Collage Level)"
          ],
          [
           "3. Compound Interest"
          ],
          [
           "Quantitative Trading Analysis with R"
          ],
          [
           "How to Copy the Best Traders on Etoro"
          ],
          [
           "A Complete Guide to Becoming a Trader on the Forex Market"
          ],
          [
           "Trade Forex 13 Patterns - Golden Ratios Secret Revealed"
          ],
          [
           "Professional Bookkeeping & Accounting 1: Sales & Purchases"
          ],
          [
           "How To Confidently Join The Bitcoin Revolution"
          ],
          [
           "Commercial Credit Analysis"
          ],
          [
           "Forex - Calculate Lot Size Like Pro"
          ],
          [
           "Master Calendar Spreads with this live trade on Gold (GLD)"
          ],
          [
           "Trade Pullback Candlestick Strategy - Make Consistent Pips"
          ],
          [
           "Forex Breakout Profits: The Definitive Guide"
          ],
          [
           "Learn About Bitcoin and Bitcoin Mining"
          ],
          [
           "Chartered Financial Analyst (CFA) - Level 1 - FRA"
          ],
          [
           "Contango VXX - ETF Options Trading - Double Your Investment"
          ],
          [
           "Forex Trading Profitably"
          ],
          [
           "Working Capital Management for Entrepreneurs"
          ],
          [
           "Option Trading for Rookies: Make & Manage Profitable Trades"
          ],
          [
           "Accounting, Finance and Banking - A Comprehensive Study"
          ],
          [
           "财务分析与估值建模入门"
          ],
          [
           "How to Trade Forex like a Hedge Fund: Long FX Strategies"
          ],
          [
           "Cost Accounting - A Comprehensive Study"
          ],
          [
           "Basel Norms (Basel 1/ Basel 2/ Basel 3) Simplified"
          ],
          [
           "Capital Market Road Map"
          ],
          [
           "Pin Bars: The Most Powerful Forex Trading Signal"
          ],
          [
           "Easy Market Profits: 3 Step Stock Investing Strategy"
          ],
          [
           "Interest Rate Swaps"
          ],
          [
           "FOREX Trading with Price Action"
          ],
          [
           "TRADING FOR A LIVING: Trading Full-Time Transition Guide"
          ],
          [
           "Asset Protection Using Offshore Companies"
          ],
          [
           "Bitcoin Investing: The Complete Buy & Hold Strategy"
          ],
          [
           "Futures/Commodity Trading"
          ],
          [
           "Finanzielle Unabhängigkeit-1: Erste Schritte zur Million"
          ],
          [
           "SEASON 2 MQL4 Tutorial Bootcamp - Metatrader4 Trading Robots"
          ],
          [
           "Create Your Own Automated Stock Trading Robot In EXCEL!"
          ],
          [
           "Options Foundation - Time Decay, Implied Volatility, Greeks"
          ],
          [
           "Technical Analysis - A practical approach for trade entry"
          ],
          [
           "Binary Options Beginners Guide : Nadex"
          ],
          [
           "Python Algo Trading: FX Trading with Oanda"
          ],
          [
           "Cost Accounting and Financial Management - A Complete Study"
          ],
          [
           "Buchführung lernen leicht gemacht"
          ],
          [
           "Double Entry Bookkeeping"
          ],
          [
           "Proven Methods In Trading Candlestick Patterns"
          ],
          [
           "Bitcoin - Ethereum: Trading -Watch me manage my own account!"
          ],
          [
           "Equity Products"
          ],
          [
           "Accounting for everyone!"
          ],
          [
           "The Smart Option Trader"
          ],
          [
           "Stock Technical Analysis with Python"
          ],
          [
           "How to Grow your Small Business and not run out of Cash"
          ],
          [
           "Fundamental Financial Math"
          ],
          [
           "Cost of Capital and Weighted Average Cost of Capital"
          ],
          [
           "Matemática Financeira de um jeito fácil"
          ],
          [
           "The Ultimate Fibonacci Trading Plan for Forex and Stocks"
          ],
          [
           "Technical Analysis Primer for trading Stocks, Bonds & Forex"
          ],
          [
           "Yield Curve Dynamics"
          ],
          [
           "Life Coach Business Basics: Finance and Operations"
          ],
          [
           "Equity Swaps"
          ],
          [
           "Curso Completo de Bitcoin - Ganhe 0.00005 Bitcoin"
          ],
          [
           "Portfolio Management CFA L1 2016"
          ],
          [
           "Complete Claritas Investment Certificate"
          ],
          [
           "Finanzielle Unabhängigkeit-2 Millionär werden mit Investment"
          ],
          [
           "The Intelligent Investor"
          ],
          [
           "Contabilidad rápida y eficaz"
          ],
          [
           "Mortgage Backed Securities"
          ],
          [
           "MasterClass-Japanese & Heiken Ashi CandleStick Patterns"
          ],
          [
           "TRADING: 5K CHALLENGE"
          ],
          [
           "Advanced Financial Management for CA / CS / CFA /CPA Exams"
          ],
          [
           "Bitcoins - Past, Present, Future"
          ],
          [
           "الدروس التعليمية لسوق الفوركس والأسواق المالية الأخرى"
          ],
          [
           "Cryptocurrency Trading: Complete Guide To Trading Altcoins"
          ],
          [
           "Winning Options Trading System"
          ],
          [
           "Bitcoin Peer Investing: How To Generate Double Digit Returns"
          ],
          [
           "How I Make Money Writing About Stocks Online"
          ],
          [
           "Curso Completo del Mercado FOREX"
          ],
          [
           "How to Build Profitable FOREX Automated Trading Strategies!"
          ],
          [
           "188% Profit in 1Year - Forex ALGO Robot Trading no indicator"
          ],
          [
           "Stock Technical Analysis with R"
          ],
          [
           "High Probability Trading Across Any Market: Stocks & Forex"
          ],
          [
           "Professional Forex strategy"
          ],
          [
           "Level 1 2014 CFA® Program – Equity Investments"
          ],
          [
           "Professional Trading With Institutional Supply & Demand"
          ],
          [
           "The Passive Investing Blueprint - Build Wealth Passively"
          ],
          [
           "¡Triunfar en La Bolsa de Valores No Requiere de Experiencia!"
          ],
          [
           "Stock Trading: Ultimate Guide to swing trading stocks"
          ],
          [
           "Curso Completo de Opciones Binarias: Estrategias 90% Acierto"
          ],
          [
           "Day Trading - Learn to Day Trade / Swing Trade In One Hour."
          ],
          [
           "Law Matters"
          ],
          [
           "Finanzielle Unabhängigkeit-3 Millionär werden mit Immobilien"
          ],
          [
           "Mastering Technical Analysis : Maximizing Trading Profits"
          ],
          [
           "An Introduction: MT4 Email, Sound, Notification Forex Alerts"
          ],
          [
           "4 Easy Daily Forex Trades: A Recipe for Trading Success"
          ],
          [
           "Robots de Forex: espere ganar 175%p.a! Incluye Robot de Fx!"
          ],
          [
           "Build your own Naked Trading Forex Robot"
          ],
          [
           "Investment Portfolio Analysis with R"
          ],
          [
           "MQL4 Bootcamp Tutorial- Trading Robot Coding in Metatrader4"
          ],
          [
           "Forex Harmonic Trading- With Multiple Forex Chart Examples"
          ],
          [
           "Trading: From Wall Street to Your Street"
          ],
          [
           "10. Bonds and Bond Pricing"
          ],
          [
           "How to create a routine Trading"
          ],
          [
           "Learn Accounting by Specific Examples - Part 1"
          ],
          [
           "Bitcoin Trading 101"
          ],
          [
           "Trade for Profit: Find-Trade Stocks Successfully Arabic عربي"
          ],
          [
           "Learn How to File Taxes for Uber and Lyft Drivers"
          ],
          [
           "Python Algo Trading: Sentiment Trading with News"
          ],
          [
           "Trade for a Living"
          ],
          [
           "Learn To Trade The Forex Naked Price Action Acapulco Trade"
          ],
          [
           "Inversión: Fundamentos del Trading para Principiantes"
          ],
          [
           "Bitcoin - A Comprehensive Guide"
          ],
          [
           "６時間でインターバンク市場を攻略！最短距離でトレード基礎力"
          ],
          [
           "Trade the News in Forex: EA Robot Included"
          ],
          [
           "Wealth Management"
          ],
          [
           "Accounting Made Easy: A Quick Guide to Financial Accounting"
          ],
          [
           "1 - Concepts of Statistics For Beginners Step by Step"
          ],
          [
           "FOREX TRADING - Learn in a quick + profitable way + support"
          ],
          [
           "Contabilidad Gubernamental en México"
          ],
          [
           "Investing In Stocks For Big Gains, Fundamental Investing"
          ],
          [
           "Investment Banking Operations : Securities Trade Life Cycle"
          ],
          [
           "Buying Call and Put Options - Options beginner strategies"
          ],
          [
           "Beginners Guide To Ichimoku Trading"
          ],
          [
           "Learn to Trade for Profit: Finding Winning Stocks - Chinese"
          ],
          [
           "Accounting Concepts For Technocrats"
          ],
          [
           "entiende la contabilidad y consigue un aumento de salario"
          ],
          [
           "Quantitative Trading Analysis with Python"
          ],
          [
           "Financial Analysis, from Scratch to Professional!"
          ],
          [
           "Learn to Trade With Fibonacci Tools"
          ],
          [
           "How to invest in Gold"
          ],
          [
           "Financial Modeling and Valuation: Complete Beginner to Pro"
          ],
          [
           "Mortgage Acceleration"
          ],
          [
           "Trading Mindset, and Three Steps To Profitable Trading"
          ],
          [
           "Contabilidad Financiera: Conoce el Lenguaje de los Negocios."
          ],
          [
           "Learn Quickbooks to maintain books properly"
          ],
          [
           "4. Ordinary Simple Annuities: The Basics"
          ],
          [
           "Financial Modelling for entrepreneurs"
          ],
          [
           "From 0 to 1: Investments and Portfolio Theory"
          ],
          [
           "Zoho Books Gestion Financière d'Entreprise pas à pas"
          ],
          [
           "The Complete Guide to Professional Trading with Elliott Wave"
          ],
          [
           "Stock Trading Strategies Using a D.A.R.T."
          ],
          [
           "CFA Level I Foundation: Introduction to Financial Reporting"
          ],
          [
           "Build, Grow, and Protect Your Assets: A Step-by-Step Guide"
          ],
          [
           "Financial Modeling for Professionals in 1 Day!"
          ],
          [
           "Level 1 2014 CFA® Program – Derivatives"
          ],
          [
           "8. Amortization Schedules"
          ],
          [
           "Geld verdienen mit dem Ticken der Uhr, wie Warren Buffett!"
          ],
          [
           "The Big Volatility Short: The Best Trade On Wall Street!"
          ],
          [
           "From 0 to 1: Bond Theory and Valuation"
          ],
          [
           "Forex Trading - Learn An Effective Forex Trading Strategy"
          ],
          [
           "Financial Statements: Learn Accounting. Unlock the Numbers."
          ],
          [
           "Easy Forex and Futures Trading"
          ],
          [
           "Fundamentals of Accounting for Business Owners"
          ],
          [
           "Technical Trading and Investing Made Easy"
          ],
          [
           "Day Trading in Stocks: Strategies for Beginner Investors"
          ],
          [
           "Technical Analysis Using Elliott Wave Theory"
          ],
          [
           "The Complete Financial Model Builder Course-Build 7 Models"
          ],
          [
           "Forex - Catch the Big Market Moves in Forex"
          ],
          [
           "Essential Options: Strategies for Mastering the Stock Market"
          ],
          [
           "Numbers for the Business Plan"
          ],
          [
           "Investment Portfolio Analysis with Python"
          ],
          [
           "TRADER BOT: Introdução à Linguagem MQL5"
          ],
          [
           "Tax Strategies of the Wealthy"
          ],
          [
           "Become a Career Day Trader: Asian-Pacific Futures Markets"
          ],
          [
           "The Fundamentals Of Finance For Non-Finance Professionals"
          ],
          [
           "Stock Fundamental Analysis with Excel"
          ],
          [
           "Trading Algorítmico en Forex: Crea tu primer Robot de Forex!"
          ],
          [
           "Введение в Финансовую Инженерию"
          ],
          [
           "9. Sinking Funds"
          ],
          [
           "My Forex Strategy that win consistently over and over"
          ],
          [
           "Level 1 2014 CFA® Program – Corporate Finance"
          ],
          [
           "Investimento em Ações para Leigos"
          ],
          [
           "Credit Risk Analysis"
          ],
          [
           "Introducción a la contabilidad"
          ],
          [
           "Volatility Trading Analysis with R"
          ],
          [
           "Advanced Finance and Accounting for Startups"
          ],
          [
           "How to Read Financial Statements: Build Financial Literacy."
          ],
          [
           "Apprendre à trader sur le marché du Forex - guide complet"
          ],
          [
           "Wie Du, Dir auch mit kleinen Beträgen ein Vermögen aufbaust"
          ],
          [
           "Ultimate Guide To Trading Engulfing Candlestick Strategy"
          ],
          [
           "Learn Global Macro Trading & Investing for Retail Investor"
          ],
          [
           "The Everyday Investor: Building Wealth with Venture Capital"
          ],
          [
           "Learn How To use Channels to find amazing Forex Entries"
          ],
          [
           "How to Make IT Work Successfully in Capital Markets"
          ],
          [
           "6. Annuities Due and Deferred"
          ],
          [
           "Introduction to Small Business Accounting Training Tutorial"
          ],
          [
           "Learn Bookkeeping From Scratch"
          ],
          [
           "Trading for winning"
          ],
          [
           "Financial Translation"
          ],
          [
           "Trading Biotech Stocks - Understanding the Healthcare Sector"
          ],
          [
           "Financial Accounting For Beginners"
          ],
          [
           "Learn to Trade Forex Naked Price Action Wammie Trade"
          ],
          [
           "Credit Repair from a Financial Institution"
          ],
          [
           "Stock Technical Analysis with Excel"
          ],
          [
           "CFA Level I Foundation Course: Introduction to Quants"
          ],
          [
           "Learn to trade Candlestick Patterns"
          ],
          [
           "Investment Portfolio Analysis with Excel"
          ],
          [
           "Global Macro Investing - Take Control Of The World's Markets"
          ],
          [
           "Get to grips with the CFA calculator"
          ],
          [
           "Advance Technical Analysis"
          ],
          [
           "CFA® Level 1 2014 – Financial Reporting and Analysis"
          ],
          [
           "FOREX: From Zero To Hero"
          ],
          [
           "Forex Trading Masterclass - Learn To Trade Better"
          ],
          [
           "Aprenda a Investir seu Dinheiro"
          ],
          [
           "Visualizing Data"
          ],
          [
           "CFA® Level 1 2014 – FI"
          ],
          [
           "Aprende a hacer paper trading (simulación) con Ninja Trader"
          ],
          [
           "CFA Level I Workshop 1: Ethics and Quantitative Methods"
          ],
          [
           "Stock Market for Beginners. Learn to trade"
          ],
          [
           "Monetizing Your Website: How to Add Cost-Per-Action (CPA)"
          ],
          [
           "CFA Level I Workshop 4: Fixed Income and Equity"
          ],
          [
           "株式投資に必要なスキルの学習手順を学ぶ"
          ],
          [
           "Forex Trading: Strategia Correlazione EUR/GBP vs GBP/USD"
          ],
          [
           "Learn To Invest In 7 Steps"
          ],
          [
           "Forex Trading"
          ],
          [
           "Forex trading with binary options"
          ],
          [
           "Stock Market Mastery"
          ],
          [
           "MQL4 Tutorial Golden Goose"
          ],
          [
           "Economics - CFA Level 1 - 2014"
          ],
          [
           "* An Integrated Approach to the Fundamentals of Accounting"
          ],
          [
           "Management Accounting A Complete Study"
          ],
          [
           "Business Banking 101"
          ],
          [
           "Corso introduttivo al trading profittevole"
          ],
          [
           "How to Pick Stocks"
          ],
          [
           "Forex Management - Detailed Study for CA / CS / CFA Exams"
          ],
          [
           "Super Fast Accounting - the fastest way to do your books"
          ],
          [
           "Trading: High-ROI Trading"
          ],
          [
           "CFA Level I Workshop 2: Financial Reporting & Analysis I"
          ],
          [
           "Surpassing Your Kickstarter Goals"
          ],
          [
           "CFA® Level 1 2014 – Portfolio Management"
          ],
          [
           "Mastering Candlestick Charting : High Probability Trading"
          ],
          [
           "Understanding The Stock Market: For Beginners"
          ],
          [
           "Options Basics & Trading With Small Capital! - Level 1"
          ],
          [
           "Analyze Real Estate Investments | Financial Modeling"
          ],
          [
           "CFA® Level 1 2014 – Quantitative Methods"
          ],
          [
           "Small Business and Managerial Accounting Training Tutorial"
          ],
          [
           "An Introduction to Management of Portfolios (MoP)"
          ],
          [
           "Professional Risk Manager (PRM) Certification: Level 1"
          ],
          [
           "Trade Stocks, Forex & Financial Markets like a Professional"
          ],
          [
           "BITCOIN VISUALLY. Part I."
          ],
          [
           "資産運用の基礎を学ぶファイナンス入門"
          ],
          [
           "Case Studies in Macro Economics"
          ],
          [
           "Aktiver Vermögensaufbau mit ETF"
          ],
          [
           "Introduction to Financial Statements"
          ],
          [
           "Aprende a Ganar Dinero en la Bolsa"
          ],
          [
           "Ethereum Course for Investors"
          ],
          [
           "CFA Level I Workshop 5: Corp Finance, Quants II & Derivative"
          ],
          [
           "CFA Level 1 - Derivatives"
          ],
          [
           "Accounting - Basic Costing"
          ],
          [
           "Bonds For Beginners - A Guide To The Bond Markets"
          ],
          [
           "Learn to Trade Forex Big U-Turn Trade"
          ],
          [
           "Curso Avanzado de Trading"
          ],
          [
           "Essentials Of Swing Trading Stocks"
          ],
          [
           "Simple Options Trading System"
          ],
          [
           "Stock Trading: Insider Tips For Determining Market Direction"
          ],
          [
           "How To Trade RSI Pullback Strategy: Entry To Exit (Forex)"
          ],
          [
           "Corporate Finance and Alternative Investment for CFA L1"
          ],
          [
           "The Binary Institute - Binary Options Trading Course"
          ],
          [
           "カードゲームでカンタンに理解する！経済とお金のキホン"
          ],
          [
           "CPA 10 COMPLETO"
          ],
          [
           "Innovators and innovation: Travel through time!"
          ],
          [
           "Forex Trading : Power Of Moving Averages"
          ],
          [
           "Corporation Tax Returns UK"
          ],
          [
           "Basics of Trading"
          ],
          [
           "Trading For Busy People"
          ],
          [
           "Introduction to the economics of public services regulation"
          ],
          [
           "Certificate in MYOB AccountRight Premier 2017 Course"
          ],
          [
           "The Psychology of Trading"
          ],
          [
           "Start Trading Stocks Using Technical Analysis! Part 2"
          ],
          [
           "Stock Trading Essentials for Day Traders"
          ],
          [
           "Learn Stock Options: Options Made Simple 101"
          ],
          [
           "Trading Intradiario basado en Precio y Volumen"
          ],
          [
           "Professional Bookkeeping & Accounting 2 - Bank Daybook"
          ],
          [
           "Commodity Futures Day Trading Strategies"
          ],
          [
           "Gana en la Bolsa con Análisis Técnico"
          ],
          [
           "株式投資で本当のファンダメンタル分析ができるようになる"
          ],
          [
           "Intermediate Accounting 1: Easy. Fast. Simple!"
          ],
          [
           "Numeracy skills in business and everyday life:Think and Deal"
          ],
          [
           "Learn the Forex Naked Price Action Pogo Trade"
          ],
          [
           "Learn to Trade Forex - from Beginner to Professional"
          ],
          [
           "How To Earn Some Bitcoin Every Time You Use A Search Engine"
          ],
          [
           "Financial Risk Manager (FRM) Certification: Level I"
          ],
          [
           "Financial Accounting Made Easy for All"
          ],
          [
           "The Truths about (in)secure Retirement"
          ],
          [
           "Financial Risk Manager (FRM) Certification: Level II"
          ],
          [
           "Learn How to Profit In Forex With Market Rhythms"
          ],
          [
           "Beginner Financial Analysis: Invest Like Warren Buffett"
          ],
          [
           "FX Commodity Chart Trading Patterns for Success"
          ],
          [
           "Professional Bookkeeping & Accounting 4:Trial Balance & More"
          ],
          [
           "Professional Bookkeeping and Accounting 3: Double Entry"
          ],
          [
           "Hot Trading Investing Strategy: ETF and Futures"
          ],
          [
           "Learn the Foundations of Stocks and Options"
          ],
          [
           "Stock Trading Strategies: Profitable Trading in 7 Days."
          ],
          [
           "Introduction to Day Trading"
          ],
          [
           "Learn Financial Accounting Different"
          ],
          [
           "Basel II"
          ],
          [
           "Budgeting for Business"
          ],
          [
           "Accounting Skills for Managers"
          ],
          [
           "Formação de preços em serviços"
          ],
          [
           "Aprenda Cálculo Financeiro de Forma Simples"
          ],
          [
           "Finanzas Personales para Vivir Libre de Deudas"
          ],
          [
           "Learn to trade Chart Patterns"
          ],
          [
           "Value Investing and Stock Market Fundamentals"
          ],
          [
           "Matemática Financeira com HP12C e MS Excel"
          ],
          [
           "Buying, Selling, and Storing Precious Metal"
          ],
          [
           "Trading mit kleinen Konten - Grundlagen die du kennen musst"
          ],
          [
           "IFRS Financial Reporting"
          ],
          [
           "Socorro! Preciso Organizar as Minhas Finanças!"
          ],
          [
           "Investments and Financial Markets"
          ],
          [
           "CFA Level I Workshop 6: Alternatives, PM and Economics"
          ],
          [
           "CFA Level I Workshop 3: Financial Reporting & Analysis II"
          ],
          [
           "How to be A High Performance Insurance Broker Part 2"
          ],
          [
           "Binary Options Masterclass"
          ],
          [
           "Trading: How Transformative Learning Drives Expertise"
          ],
          [
           "株式投資で本当のテクニカル分析ができるようになる"
          ],
          [
           "Forex For Beginners - A Guide To Currency Trading"
          ],
          [
           "Trade RSI Breakout Strategy: Great Risk/Reward Ratio (Forex)"
          ],
          [
           "Einnahmen aus Udemy-Kursen als Dozent korrekt versteuern"
          ],
          [
           "Disminuye deudas en tu hogar en menos de 30 días"
          ],
          [
           "Stocks For Beginners - A Guide To Investing"
          ],
          [
           "Learn How To Successfully Trade Forex: In 5 Simple Steps"
          ],
          [
           "Aprenda a Investir no Tesouro Direto Passo a Passo"
          ],
          [
           "Internal Controls - Design, Implementation and Monitoring"
          ],
          [
           "Bitcoin Profits for Beginners"
          ],
          [
           "Bookkeeping Made Simple"
          ],
          [
           "What is Bitcoin"
          ],
          [
           "Investiere in Tax Liens-Hohe Zinsen gesetzl. festgeschrieben"
          ],
          [
           "Short Straddles - Exploit Earnings Option Volatility Crush"
          ],
          [
           "Investing: How to Fix Hidden Flaws Inside Your Portfolio"
          ],
          [
           "株式投資に向く性格に変えるための心理学を学ぶ"
          ],
          [
           "Bitcoin: el futuro del dinero, hoy"
          ],
          [
           "Trading Forex - Trader avec les figures harmoniques"
          ],
          [
           "Forex Trading :RSI Indicator-A Secret Weapon"
          ],
          [
           "Profit During Crashing Markets: A Step-by-Step Guide"
          ],
          [
           "Hedge Fund Trading Systems Part Two - Stocks & ETFs"
          ],
          [
           "Read financial statements as a stock investor"
          ],
          [
           "Professional Risk Manager (PRM) Certification: Level 3"
          ],
          [
           "Professional Forex Strategy+2 weeks for FREE trading alerts"
          ],
          [
           "FOREX : LearnTo Trade the Improved ( Advanced ) Patterns"
          ],
          [
           "Introduction to Futures Trading and Live Trade Demonstration"
          ],
          [
           "Forex Trading Profit 183%p.a : Trend is Our Friend-ALGOTREND"
          ],
          [
           "Master The Psychology of Forex & Binary Options Trading"
          ],
          [
           "Hedge Fund Trading Systems For Stocks - Part One"
          ],
          [
           "The Advantages of ETF Options and Index Options Trading"
          ],
          [
           "Learn Options on Futures for Hedging Options and Stocks"
          ],
          [
           "Day trading strategy for all level, with 72% success rate"
          ],
          [
           "Year-end QuickBooks Procedures"
          ],
          [
           "Forex - Trade Gartley with Precision - Complete Strategy"
          ],
          [
           "Fixed Income Valuation and Analysis, CFA L2"
          ],
          [
           "Finanzas y Análisis Financiero: Manejo Seguro de Negocios"
          ],
          [
           "ACCA FA1 Recording Financial Transactions"
          ],
          [
           "Master The Stock Market with practice"
          ],
          [
           "How to read a Profit & Loss Account and Balance Sheet"
          ],
          [
           "Mit Finanzwissen zu besserem Unternehmertum"
          ],
          [
           "Trader sur le Forex avec Ichimoku"
          ],
          [
           "Exam 1 Review - Managerial Accounting (U of H)"
          ],
          [
           "Financial Model Fundamentals-Learn the Essential Skills"
          ],
          [
           "Smart Trading Techniques for Safe & Consistent Weekly Result"
          ],
          [
           "Forex trading made simple"
          ],
          [
           "Financial Accounting Part I - Passing the Class"
          ],
          [
           "Financial Reporting A Comprehensive Study"
          ],
          [
           "Introduction to Trade Theory (Technical Analysis) For Stocks"
          ],
          [
           "15 Mandamientos para ganar dinero en Bolsa"
          ],
          [
           "Financial and Business Simulation with Microsoft Excel"
          ],
          [
           "DIY: Reduce Unpaid Federal Tax thru IRS Offer in Compromise"
          ],
          [
           "Intro to Impact Investing"
          ],
          [
           "Curso de Trading práctico basado en casos reales"
          ],
          [
           "Practical Trading on Financial Futures & Options Markets"
          ],
          [
           "How To Crowdfund"
          ],
          [
           "Learn and Master the Basics of Finance"
          ],
          [
           "TopTrader Academy - Complete Options Course"
          ],
          [
           "Do Your Own Accounts"
          ],
          [
           "Forex: Economic News Trading"
          ],
          [
           "Professional Risk Manager (PRM) Certification: Level 2"
          ],
          [
           "【個人事業主向け】青色申告の記帳を自力で行うための複式簿記の基本"
          ],
          [
           "3 documentos clave para administrar tu empresa con éxito"
          ],
          [
           "Beginners Chart Patterns Trading for Penny Stocks"
          ],
          [
           "Basic Technical Analysis"
          ],
          [
           "Technical Analysis: Understanding Price Action"
          ],
          [
           "Using Xero for your bookkeeping needs do beautiful business"
          ],
          [
           "Forex - Price action Reversal Strategy"
          ],
          [
           "Fundraising Success: The Art & Science of Major Gifts"
          ],
          [
           "Professional Risk Manager (PRM) Certification: Level 4"
          ],
          [
           "Introduction to Accounting - Analyzing Financial Statements"
          ],
          [
           "Accounting 101-Master Class for Understanding Business"
          ],
          [
           "Bitcoin For Beginners"
          ],
          [
           "Finance Fundamentals for Non Finance Leaders"
          ],
          [
           "Strategy layout and Backtesting"
          ],
          [
           "Succeed at Options Even If You Don't Know Where to Start"
          ],
          [
           "FOREX Currency Trading For Beginners"
          ],
          [
           "Complete Guide to Business Loans"
          ],
          [
           "Aprenda a Investir"
          ],
          [
           "Forex Trading System: Correlation EUR/GBP vs GBP/USD"
          ],
          [
           "An Abundance Mindset: How to Craft Yours"
          ],
          [
           "Breakout Patterns Workshop by Pattern Trader"
          ],
          [
           "Trade Show Samurai"
          ],
          [
           "Precificação - Calculando valor de venda baseado nos custos"
          ],
          [
           "Crowdfunding for Filmmakers"
          ],
          [
           "Straight From Business School: Create Financial Statements"
          ],
          [
           "Forex online live trading system (Special Offer)"
          ],
          [
           "Curso de Iniciación al Trading"
          ],
          [
           "Análise de Concessão de Crédito"
          ],
          [
           "Filing with Companies House UK"
          ],
          [
           "Bank Reconciliation & VAT on Excel"
          ],
          [
           "Stock Trading with this Strategy"
          ],
          [
           "Harnessing the Power of Growth Stocks"
          ],
          [
           "Your Business by the Numbers"
          ],
          [
           "Introduction To The World Of Equity Finance"
          ],
          [
           "バイナリーオプション取引"
          ],
          [
           "Optimize! Make Best Decisions with Microsoft Excel"
          ],
          [
           "Precious Metal Equities"
          ],
          [
           "Learn to invest in the Stock Market"
          ],
          [
           "Manual Bookkeeping"
          ],
          [
           "International Tax - Tax Beyond boundaries"
          ],
          [
           "Learn the Basics of the Wave Principle:"
          ],
          [
           "Finanzas personales: Logrando la Libertad Financiera"
          ],
          [
           "Cómo Crear Políticas Contables bajo NIIF para PYMES"
          ],
          [
           "Get Credit for Your EIN That's Not Linked to Your SSN"
          ],
          [
           "Breakeven Analysis and Pricing"
          ],
          [
           "Introduction to Health Financing"
          ],
          [
           "Legal Accounting"
          ],
          [
           "Fundraising 101"
          ],
          [
           "Accounting Cycle: Learn the concepts in 60 minutes"
          ],
          [
           "Aprende a invertir practicando"
          ],
          [
           "ChalkTalk: Financial Accounting"
          ],
          [
           "Cómo usar Metatrader 4 para hacer trading?"
          ],
          [
           "Торговля дельта-нейтральными стренглами"
          ],
          [
           "UK Self Assessment Tax Return Filing Online"
          ],
          [
           "Bookkeeping made simple"
          ],
          [
           "The True ' Secret Sauce For Stock Market Success\""
          ],
          [
           "Practical Financial Statement Analysis"
          ],
          [
           "Covered Calls - Powerful Income Strategy for Stock Traders"
          ],
          [
           "Excelを使ってビジネスシミュレーション：基礎編"
          ],
          [
           "Le basi del Trading"
          ],
          [
           "Raising Capital for Your Business"
          ],
          [
           "Five steps to becoming a winner in stock investing"
          ],
          [
           "Introduction to Financial Consolidation under IFRS"
          ],
          [
           "The Forex Pivot Points Trading Strategy"
          ],
          [
           "Forex Trading Plan"
          ],
          [
           "Energiespar-Formel // Mehr Geld durch Wasser sparen Zuhause"
          ],
          [
           "Bookkeeping Systems"
          ],
          [
           "Торговля опционами: Как заработать на волатильности"
          ],
          [
           "High-Frequency Trading & Dark Pools"
          ],
          [
           "Budget preparation for an EU project proposal"
          ],
          [
           "Forex - Top Equity Management Strategy"
          ],
          [
           "Estruturação Financeira"
          ],
          [
           "3 Little Pigs: A Multiple Timeframe Forex Trading Strategy"
          ],
          [
           "Introduction to the 8 Pillars for Accountants"
          ],
          [
           "Financial Accounting Plus Excel and SAP Crash Course."
          ],
          [
           "Mastering the Market : (Technical Analysis + Candlestick)"
          ],
          [
           "The Investment Banking Recruitment Series"
          ],
          [
           "Day Trading: High ROI Day Trading"
          ],
          [
           "What You Should Know to Become a Trader"
          ],
          [
           "Understanding Financial Derivatives"
          ],
          [
           "Advanced Butterfly Spreads for Options Income Strategies"
          ],
          [
           "MQL5 - Beginner To Expert"
          ],
          [
           "Flow Management and Forecasting"
          ],
          [
           "Investimento em Ações"
          ],
          [
           "FX Trading for Beginners"
          ],
          [
           "Aprende desde cero a operar el mercado de divisas FOREX"
          ],
          [
           "ACCA MA1 Management Information"
          ],
          [
           "Condor Broken Wing Butterfly Options Trading Course System"
          ],
          [
           "Business Accounts For Managers"
          ],
          [
           "Financial Accounting Part 2 - Passing The Class"
          ],
          [
           "Excel 4 Accounting & Bookkeeping - Master Date,Time & Text"
          ],
          [
           "Estrategias de trading en bolsa"
          ],
          [
           "Complete Short Financial Ratio Course for Financial Analysis"
          ],
          [
           "Forex: Presentation and Analysis (Fundamental & Technical)"
          ],
          [
           "Wie funktionieren Bitcoin? Ein Einführungskurs."
          ],
          [
           "Trading con retrocesos de Fibonacci"
          ],
          [
           "Mastering Countertrend Trading : High Profit Trading Pattern"
          ],
          [
           "Forex:Trade Management & Psychology"
          ],
          [
           "10 Numbers Every Business Owner Should Know"
          ],
          [
           "The Complete Investing Guide: How to Beat Wall Street"
          ],
          [
           "Price Action Gap Trading Strategies"
          ],
          [
           "SAP Crystal Reports:Master-Detail,Cross-Tab,Sub-Reports"
          ],
          [
           "How To Pay Less Tax (UK version)"
          ],
          [
           "Le bitcoin et la blockchain"
          ],
          [
           "Financial Modelling in Excel Step by Step"
          ],
          [
           "How to trade options"
          ],
          [
           "high swing - كورس لتعليم جميع مراحل احتراف تداول الفوركس"
          ],
          [
           "Read financial statements like a pro"
          ],
          [
           "International Trade and New Geographic Economy"
          ],
          [
           "School of Raising Capital: Agile Financial Modeling"
          ],
          [
           "Sell like a Pro: Insider Secrets of Successful Selling!"
          ],
          [
           "Forex - Help I cant Trade"
          ],
          [
           "Como hacer empresa en 10 sesiones prácticas"
          ],
          [
           "Term Loan Appraisal for bankers, credit analysts"
          ],
          [
           "Eu Funding: Module 2 - Introduction to Horizon 2020"
          ],
          [
           "Start Now: A Rescue Plan for Retirement Late Savers"
          ],
          [
           "Managerial Accounting - The Ultimate Beginner Course!"
          ],
          [
           "Forex Basics: Learn how to read and analyze Forex charts"
          ],
          [
           "Tax made simple for Limited Company Owners and Contractors"
          ],
          [
           "Start-up financial modeling for non-finance professionals"
          ],
          [
           "Profits Turbo"
          ],
          [
           "2. Principles of Simple Interest - advanced problems"
          ],
          [
           "La costruzione del budget di una proposta comunitaria"
          ],
          [
           "Analysis and Evaluation of Economic Feasibility of Projects"
          ],
          [
           "Forex trading tactics, that work!"
          ],
          [
           "Basics of Private Equity"
          ],
          [
           "Bitesize Bookkeeping for busy people"
          ],
          [
           "Financial Accounting - The Ultimate Beginner Course"
          ],
          [
           "Advanced Technical Analysis PART1!"
          ],
          [
           "Forex/Opciones Binarias para Principiantes"
          ],
          [
           "Easy Finance For Startups"
          ],
          [
           "المحاسبة للإداريين و غير المحاسبين"
          ],
          [
           "The Visual Learning Basic Accounting Course"
          ],
          [
           "Estrategias de Inversión aplicadas al mundo del trading"
          ],
          [
           "Financial Modeling - Facebook Case Study"
          ],
          [
           "Complete GST Course For Small and Medium Enterprises"
          ],
          [
           "Trading Options Basics"
          ],
          [
           "Forex Trading: The High ROI Forex Trading End of Day Course"
          ],
          [
           "System of Asset Management for Professionals (SAMP)"
          ],
          [
           "How to invest in Forex Trading & add an additional income"
          ],
          [
           "QuickBooks Online : Inventory Management For Non-Finance"
          ],
          [
           "Double Your Salary With Free, Local, Job Training Courses"
          ],
          [
           "Don't Let Your Customers Run Your Business"
          ],
          [
           "The 7 fundamentals to Successful Cashflow Management"
          ],
          [
           "Depreciation, Amortization and Depletion"
          ],
          [
           "Fundraise the Simplified Way: A Crowdfunding Blueprint"
          ],
          [
           "An Introduction to Financial Markets on Wall Street"
          ],
          [
           "Accounting Basics 101 for Understanding Business"
          ],
          [
           "Xero Bookkeeping Course & Certification by Accounting Firm"
          ],
          [
           "The Complete Litecoin Crypto Currency Bootcamp"
          ],
          [
           "Learn Financial Modeling from Scratch - Part1"
          ],
          [
           "Le basi del trading online"
          ],
          [
           "How to trade in the Forex market"
          ],
          [
           "Aprende a llevar la contabilidad de forma informatizada"
          ],
          [
           "Nest Egg Investing"
          ],
          [
           "Trading Tips from Hedge Fund Manager"
          ],
          [
           "Accounting and the Triple Bottom Line"
          ],
          [
           "A Practical Guide to Wealth Creation"
          ],
          [
           "Write a Successful Business Grant Proposal"
          ],
          [
           "Caza los Enormes Movimientos del Mercado"
          ],
          [
           "Series 7: Intermediate Options"
          ],
          [
           "Effective Debt Collection Strategies"
          ],
          [
           "Create Trading Robot Without Coding Skills!"
          ],
          [
           "How to Read Financial Statements"
          ],
          [
           "8 Steps To Achieve Financial Freedom And Escape Debt"
          ],
          [
           "Financial Statement Review 101: How to Find Errors"
          ],
          [
           "Tally ERP Complete Training in Urdu / Hindi"
          ],
          [
           "Accounting and Business Basics"
          ],
          [
           "Trading Forex - L'analyse des volumes"
          ],
          [
           "Win 90% of Trades; Quantitative Investments Models in Excel"
          ],
          [
           "Technical Charting"
          ],
          [
           "Working Capital assessment for bankers, credit analysts"
          ],
          [
           "How to Get Growing, Passive Income from the Fortune 500!"
          ],
          [
           "Managing Budgets in the Public and Non Profit Sector"
          ],
          [
           "A Guide To Trade Binary Options Like An Expert"
          ],
          [
           "Dash Crypto Currency Technical and Trading Overview Bootcamp"
          ],
          [
           "Basics of Fixed Income Valuation, CFA Level I 2017 Prep"
          ],
          [
           "Contabilità Generale"
          ],
          [
           "Chief Wealth Officer"
          ],
          [
           "Black Scholes Option Pricing Model"
          ],
          [
           "How to invest in Russian equity market"
          ],
          [
           "Forex Trading for Beginners Vol 1:A Forex Course Made Simple"
          ],
          [
           "Learn The ABC's Of Investing And Understanding True Financial Value"
          ],
          [
           "Credit Control Procedures"
          ],
          [
           "Accounting Simplified"
          ],
          [
           "The Fast Route to a Faster Financial Close"
          ],
          [
           "Economics for beginners - Various Concepts"
          ],
          [
           "Investing in Stocks & Shares"
          ],
          [
           "Learn How To Trade Gold In 2017"
          ],
          [
           "Geometry Of Chance strategy of defeating the roulette.\""
          ],
          [
           "Handle difficult questions the bank manager will ask you"
          ],
          [
           "Introduction to Bitcoin for Beginners"
          ],
          [
           "Reach Your Personal Financial Goals the Easy Way (2017 UK)"
          ],
          [
           "Learn Financial Modeling from Scratch - Part 2"
          ],
          [
           "Learn Financial Modeling from Scratch - Part 3"
          ],
          [
           "Financial Reporting - Fundamentals/Basics"
          ],
          [
           "UK Tax Returns with HMRC"
          ],
          [
           "Practical Accounts Training A"
          ],
          [
           "Coaching Course:Investment Analysis for your clients"
          ],
          [
           "Trading Basics in 30 minutes"
          ],
          [
           "Profit and Loss Account for bankers and credit analysts"
          ],
          [
           "Corporate Internal Controls and Fraud Controls"
          ],
          [
           "Bitcoin & Ethereum Course (2 Course Bundle)"
          ],
          [
           "The Latest Updates 2016 Financial Accounting Standards Board"
          ],
          [
           "FMT: Forex Market Trader Certificate"
          ],
          [
           "Six Stage Negotiation"
          ],
          [
           "Financial Market Environment & Investment Strategies"
          ],
          [
           "How to Obtain a Business Loan"
          ],
          [
           "Psicología del trading"
          ],
          [
           "Erfolgreich als Signalgeber/in, per Social- und Copytrading"
          ],
          [
           "Intro. to Asset-Backed Securities, CFA Level I, 2017 Prep"
          ],
          [
           "Bookkeeping Practicals with Software"
          ],
          [
           "Decide whether to Invest in a Business"
          ],
          [
           "Ratio analysis for bankers and credit analysts"
          ],
          [
           "Intro to Financial Statement Audits"
          ],
          [
           "Basic Bookkeeping"
          ],
          [
           "Options Trading Foundation: Your journey to competency..."
          ],
          [
           "Core Financial Statement Concepts"
          ],
          [
           "CFA Level 2- Quantitative Methods"
          ],
          [
           "Credit concepts and checklist for bankers, credit analyst"
          ],
          [
           "Planning and Executing a Financial Statement Audit"
          ],
          [
           "Best Practices in Corporate Budgeting"
          ],
          [
           "Ratio Analysis for Financial Statements"
          ],
          [
           "Essentials of money value: Get a financial Life !"
          ],
          [
           "Forex how traders beat the markest with little experience"
          ],
          [
           "beginning accounting"
          ],
          [
           "Practical Film Financing: Finding & Pitching Investors"
          ],
          [
           "Learn to trade using technical analysis"
          ],
          [
           "Building a Balanced Scorecard"
          ],
          [
           "Stop Creditors from Harassing you and Avoid Bankruptcy"
          ],
          [
           "Kickstarter success in 5 easy steps"
          ],
          [
           "Understanding Financial Statements"
          ],
          [
           "How to achieve personal transformation"
          ],
          [
           "Free Ways to Create Passive Income Online"
          ],
          [
           "Corporate Ethics"
          ],
          [
           "Understand Core Finance Principles in 60 Minutes"
          ],
          [
           "Evolution and Features of ETFs"
          ],
          [
           "How to Invest Using ETFs from Former Wall Street Trader"
          ],
          [
           "Workshop on Banking Credit Analysis Process"
          ],
          [
           "The Cuckoo Strategy to get European Funding"
          ],
          [
           "Accounting - The 6 most important rules you must learn"
          ],
          [
           "Mutual Funds for Investors in Retirement Accounts"
          ],
          [
           "Introduction to Forex Trading Business For Beginners"
          ],
          [
           "Cryptocurrency (BTC & ETH) Investment & Trading Course 2017"
          ],
          [
           "Introduction to Project Management for Finance and Acct'g"
          ],
          [
           "Case studies on credit appraisal for bankers"
          ],
          [
           "Foundations of Investing"
          ],
          [
           "60 Minutes to Fundamental Accounting Skills"
          ],
          [
           "Teeter-Totter Accounting"
          ],
          [
           "Financial Statement Auditing Cycles"
          ],
          [
           "The Cash Flow Statement - An Introduction"
          ]
         ],
         "hovertemplate": "num_subscribers=%{x}<br>price=%{marker.color}<br>rating=%{marker.size}<br>course_title=%{customdata[0]}<extra></extra>",
         "legendgroup": "",
         "marker": {
          "color": [
           0,
           0,
           0,
           0,
           195,
           0,
           195,
           200,
           0,
           0,
           0,
           0,
           195,
           60,
           95,
           0,
           20,
           0,
           100,
           200,
           0,
           95,
           200,
           0,
           30,
           75,
           180,
           150,
           0,
           0,
           155,
           150,
           150,
           0,
           45,
           195,
           60,
           0,
           105,
           95,
           185,
           195,
           50,
           95,
           115,
           20,
           200,
           60,
           0,
           0,
           125,
           20,
           30,
           0,
           95,
           20,
           20,
           0,
           30,
           0,
           0,
           20,
           150,
           0,
           25,
           0,
           200,
           0,
           185,
           0,
           50,
           200,
           195,
           0,
           20,
           20,
           0,
           30,
           125,
           0,
           195,
           0,
           20,
           0,
           0,
           30,
           0,
           50,
           75,
           100,
           0,
           0,
           30,
           95,
           20,
           125,
           200,
           0,
           160,
           0,
           60,
           20,
           120,
           20,
           95,
           25,
           0,
           195,
           50,
           90,
           175,
           150,
           50,
           20,
           20,
           25,
           195,
           200,
           0,
           25,
           0,
           20,
           180,
           30,
           40,
           150,
           0,
           0,
           0,
           50,
           20,
           20,
           95,
           120,
           20,
           0,
           200,
           20,
           20,
           25,
           20,
           200,
           0,
           20,
           20,
           180,
           200,
           0,
           0,
           125,
           200,
           105,
           45,
           0,
           25,
           200,
           50,
           25,
           95,
           25,
           60,
           20,
           150,
           150,
           150,
           75,
           20,
           0,
           0,
           20,
           200,
           120,
           50,
           95,
           0,
           200,
           25,
           35,
           50,
           35,
           150,
           100,
           0,
           0,
           25,
           45,
           200,
           95,
           45,
           0,
           50,
           95,
           20,
           20,
           160,
           25,
           90,
           150,
           20,
           200,
           145,
           200,
           20,
           20,
           20,
           75,
           20,
           0,
           95,
           20,
           20,
           45,
           20,
           50,
           180,
           150,
           20,
           50,
           20,
           40,
           45,
           0,
           95,
           200,
           0,
           200,
           0,
           50,
           0,
           0,
           200,
           40,
           20,
           150,
           200,
           0,
           0,
           0,
           20,
           0,
           50,
           25,
           20,
           20,
           50,
           40,
           200,
           40,
           150,
           50,
           20,
           20,
           170,
           190,
           200,
           0,
           20,
           60,
           50,
           200,
           25,
           0,
           200,
           50,
           20,
           200,
           0,
           200,
           30,
           80,
           200,
           0,
           20,
           95,
           35,
           20,
           75,
           20,
           95,
           20,
           0,
           0,
           50,
           95,
           95,
           0,
           195,
           200,
           200,
           0,
           0,
           195,
           150,
           200,
           200,
           40,
           25,
           0,
           20,
           20,
           95,
           200,
           20,
           100,
           50,
           20,
           20,
           30,
           20,
           65,
           150,
           50,
           25,
           50,
           0,
           75,
           195,
           20,
           200,
           200,
           45,
           200,
           20,
           35,
           20,
           45,
           100,
           30,
           200,
           145,
           20,
           195,
           200,
           50,
           20,
           145,
           20,
           200,
           20,
           20,
           195,
           0,
           20,
           0,
           150,
           60,
           50,
           20,
           0,
           50,
           45,
           30,
           140,
           75,
           20,
           115,
           50,
           0,
           30,
           200,
           195,
           200,
           70,
           50,
           20,
           20,
           40,
           200,
           20,
           50,
           30,
           150,
           100,
           95,
           75,
           200,
           100,
           95,
           20,
           200,
           190,
           50,
           20,
           30,
           20,
           20,
           80,
           145,
           200,
           25,
           50,
           50,
           35,
           50,
           200,
           40,
           50,
           0,
           20,
           95,
           65,
           95,
           125,
           35,
           20,
           180,
           200,
           20,
           0,
           125,
           45,
           20,
           200,
           200,
           50,
           40,
           200,
           50,
           195,
           80,
           200,
           20,
           125,
           0,
           200,
           20,
           0,
           200,
           50,
           200,
           105,
           25,
           20,
           50,
           0,
           0,
           200,
           50,
           50,
           200,
           200,
           200,
           50,
           20,
           25,
           125,
           20,
           200,
           20,
           200,
           200,
           50,
           200,
           20,
           20,
           140,
           200,
           60,
           195,
           50,
           100,
           200,
           50,
           20,
           20,
           120,
           120,
           60,
           50,
           0,
           50,
           55,
           145,
           180,
           200,
           20,
           0,
           20,
           95,
           150,
           150,
           20,
           200,
           180,
           50,
           50,
           95,
           200,
           25,
           75,
           20,
           50,
           30,
           50,
           200,
           20,
           30,
           40,
           20,
           200,
           125,
           50,
           140,
           200,
           95,
           200,
           145,
           100,
           20,
           145,
           20,
           25,
           60,
           60,
           50,
           20,
           30,
           20,
           0,
           20,
           95,
           50,
           60,
           20,
           60,
           20,
           20,
           0,
           20,
           50,
           20,
           50,
           20,
           45,
           55,
           195,
           200,
           20,
           25,
           20,
           200,
           20,
           40,
           45,
           130,
           20,
           95,
           50,
           30,
           200,
           40,
           20,
           120,
           85,
           180,
           50,
           40,
           195,
           40,
           200,
           60,
           200,
           60,
           20,
           20,
           50,
           100,
           20,
           120,
           20,
           20,
           50,
           90,
           25,
           200,
           35,
           45,
           50,
           20,
           60,
           200,
           25,
           20,
           30,
           200,
           20,
           20,
           95,
           180,
           0,
           115,
           180,
           40,
           50,
           200,
           20,
           50,
           195,
           195,
           20,
           25,
           50,
           20,
           25,
           150,
           60,
           60,
           40,
           200,
           150,
           40,
           50,
           75,
           165,
           50,
           35,
           45,
           50,
           25,
           50,
           0,
           95,
           200,
           50,
           50,
           195,
           50,
           30,
           20,
           50,
           20,
           30,
           40,
           50,
           195,
           55,
           150,
           20,
           0,
           95,
           105,
           25,
           195,
           200,
           200,
           120,
           50,
           95,
           50,
           40,
           200,
           200,
           0,
           200,
           145,
           95,
           20,
           20,
           60,
           20,
           200,
           130,
           40,
           50,
           20,
           135,
           50,
           20,
           25,
           50,
           95,
           95,
           40,
           200,
           20,
           70,
           125,
           20,
           35,
           200,
           30,
           95,
           200,
           100,
           30,
           200,
           30,
           60,
           20,
           95,
           20,
           20,
           50,
           65,
           30,
           50,
           50,
           20,
           20,
           20,
           20,
           20,
           20,
           50,
           0,
           115,
           20,
           50,
           195,
           200,
           40,
           20,
           195,
           200,
           50,
           95,
           40,
           100,
           20,
           40,
           50,
           60,
           75,
           20,
           50,
           20,
           50,
           20,
           195,
           20,
           40,
           50,
           170,
           50,
           20,
           200,
           40,
           20,
           20,
           20,
           50,
           40,
           25,
           140,
           70,
           200,
           75,
           20,
           45,
           50,
           20,
           25,
           20,
           200,
           20,
           55,
           60,
           40,
           20,
           50,
           50,
           20,
           50,
           30,
           20,
           50,
           50,
           150,
           200,
           85,
           40,
           40,
           25,
           20,
           35,
           35,
           20,
           20,
           50,
           50,
           95,
           25,
           20,
           20,
           20,
           200,
           150,
           25,
           20,
           20,
           50,
           25,
           190,
           20,
           30,
           40,
           50,
           25,
           30,
           20,
           50,
           20,
           20,
           50,
           20,
           50,
           20,
           50,
           20,
           40,
           30,
           40,
           20,
           30,
           40,
           20,
           50,
           125,
           20,
           35,
           95,
           150,
           20,
           200,
           20,
           25,
           50,
           200,
           50,
           40,
           50,
           80,
           200,
           20,
           95,
           100,
           35,
           40,
           35,
           95,
           25,
           20,
           200,
           20,
           60,
           195,
           20,
           50,
           20,
           200,
           50,
           20,
           50,
           50,
           35,
           35,
           50,
           50,
           50,
           50,
           20,
           50,
           40,
           20,
           35,
           20,
           75,
           20,
           195,
           20,
           20,
           80,
           55,
           20,
           40,
           20,
           20,
           40,
           200,
           30,
           20,
           20,
           200,
           30,
           20,
           20,
           95,
           35,
           195,
           100,
           40,
           20,
           20,
           60,
           195,
           20,
           200,
           90,
           95,
           195,
           200,
           20,
           50,
           95,
           75,
           60,
           120,
           20,
           200,
           60,
           60,
           95,
           20,
           20,
           20,
           20,
           50,
           35,
           20,
           50,
           90,
           30,
           75,
           100,
           100,
           20,
           50,
           20,
           20,
           20,
           20,
           200,
           20,
           50,
           30,
           20,
           150,
           35,
           25,
           50,
           30,
           45,
           200,
           50,
           45,
           95,
           20,
           50,
           50,
           60,
           20,
           50,
           20,
           200,
           200,
           25,
           30,
           20,
           50,
           50,
           60,
           95,
           35,
           65,
           20,
           200,
           85,
           20,
           30,
           20,
           50,
           50,
           25,
           20,
           85,
           20,
           20,
           40,
           20,
           100,
           30,
           30,
           20,
           20,
           20,
           85,
           110,
           95,
           20,
           35,
           20,
           20,
           150,
           20,
           30,
           200,
           75,
           60,
           85,
           200,
           50,
           20,
           25,
           20,
           50,
           50,
           20,
           150,
           40,
           50,
           20,
           45,
           20,
           20,
           20,
           90,
           40,
           150,
           125,
           20,
           60,
           45,
           20,
           20,
           20,
           90,
           50,
           0,
           30,
           20,
           35,
           25,
           200,
           50,
           20,
           25,
           40,
           150,
           20,
           50,
           20,
           50,
           50,
           80,
           20,
           45,
           100,
           50,
           20,
           20,
           115,
           200,
           20,
           20,
           20,
           150,
           100,
           195,
           50,
           20,
           20,
           20,
           50,
           100,
           20,
           60,
           20,
           100,
           100,
           25,
           50,
           20,
           20,
           20,
           25,
           75,
           200,
           125,
           50,
           50,
           35,
           20,
           50,
           25,
           25,
           35,
           30,
           20,
           20,
           20,
           50,
           45,
           200,
           25,
           45,
           50,
           30,
           35,
           20,
           20,
           55,
           40,
           145,
           20,
           40,
           30,
           30,
           200,
           70,
           200,
           20,
           20,
           25,
           95,
           55,
           20,
           20,
           200,
           45,
           25,
           30,
           175,
           20,
           20,
           30,
           50,
           25,
           20,
           200,
           30,
           20,
           20,
           95,
           50,
           50,
           20,
           40,
           35,
           200,
           50,
           20,
           50,
           200,
           50,
           20,
           30,
           105,
           20,
           20,
           60,
           20,
           35,
           20,
           20,
           50,
           35,
           95,
           50,
           40,
           20,
           50,
           50,
           50,
           20,
           100,
           20,
           100,
           50,
           50,
           20,
           20,
           25,
           20,
           25,
           100,
           75,
           100,
           200,
           100,
           160,
           20,
           20,
           20,
           20,
           50,
           20,
           40,
           75,
           90,
           50,
           50
          ],
          "coloraxis": "coloraxis",
          "size": [
           0.56,
           0.95,
           0.91,
           0.18,
           0.37,
           0.89,
           0.13,
           0.21,
           0.3,
           0.89,
           0.34,
           0.69,
           0.16,
           0.78,
           0.25,
           0.41,
           0.81,
           0.81,
           0.81,
           0.81,
           0.81,
           0.81,
           0.81,
           0.81,
           0.81,
           0.81,
           0.81,
           0.81,
           0.81,
           0.81,
           0.81,
           0.81,
           0.81,
           0.81,
           0.81,
           0.81,
           0.81,
           0.81,
           0.29,
           0.18,
           0.22,
           0.18,
           0.94,
           0.07,
           0.15,
           0.72,
           0.11,
           0.48,
           0.52,
           0.2,
           0.8,
           0.3,
           0.54,
           0.36,
           0.11,
           0.44,
           0.8,
           0.29,
           0.74,
           0.87,
           0.55,
           0.29,
           0.63,
           0.05,
           0.14,
           0.78,
           0.17,
           0.84,
           0.2,
           0.22,
           0.55,
           0.78,
           0.92,
           0.11,
           0.72,
           0.99,
           0.55,
           0.3,
           0.38,
           0.27,
           0.18,
           0.14,
           0.96,
           0.86,
           0.87,
           0.49,
           0.66,
           0.7,
           0.74,
           0.02,
           0.25,
           0.76,
           0.21,
           0.59,
           0.8,
           0.54,
           0.84,
           0.84,
           0.84,
           0.84,
           0.84,
           0.84,
           0.84,
           0.84,
           0.84,
           0.84,
           0.84,
           0.84,
           0.14,
           0.11,
           0.66,
           0.03,
           0.48,
           0.84,
           0.69,
           0.35,
           0.1,
           0.96,
           0.96,
           0.96,
           0.96,
           0.96,
           0.96,
           0.96,
           0.96,
           0.96,
           0.96,
           0.96,
           0.96,
           0.96,
           0.96,
           0.96,
           0.96,
           0.96,
           0.96,
           0.96,
           0.96,
           0.96,
           0.96,
           0.96,
           0.96,
           0.96,
           0.96,
           0.96,
           0.96,
           0.96,
           0.96,
           0.96,
           0.96,
           0.96,
           0.96,
           0.96,
           0.96,
           0.96,
           0.96,
           0.96,
           0.96,
           0.96,
           0.96,
           0.96,
           0.96,
           0.96,
           0.96,
           0.96,
           0.96,
           0.96,
           0.96,
           0.96,
           0.96,
           0.96,
           0.96,
           0.96,
           0.96,
           0.96,
           0.96,
           0.96,
           0.96,
           0.96,
           0.96,
           0.96,
           0.96,
           0.96,
           0.96,
           0.96,
           0.87,
           0.87,
           0.87,
           0.87,
           0.87,
           0.87,
           0.87,
           0.87,
           0.87,
           0.87,
           0.87,
           0.87,
           0.87,
           0.87,
           0.87,
           0.96,
           0.96,
           0.96,
           0.96,
           0.96,
           0.96,
           0.96,
           0.96,
           0.96,
           0.96,
           0.95,
           0.78,
           0.4,
           0.91,
           0.15,
           0.53,
           0.76,
           0.54,
           0.87,
           0.24,
           0.51,
           0.14,
           0.89,
           0.53,
           0.76,
           0.24,
           0.14,
           0.63,
           0.07,
           0.13,
           0.11,
           0.88,
           0.88,
           0.88,
           0.88,
           0.88,
           0.88,
           0.88,
           0.88,
           0.88,
           0.88,
           0.88,
           0.88,
           0.88,
           0.88,
           0.88,
           0.79,
           0.81,
           0.3,
           0.68,
           0.38,
           0.87,
           0.66,
           0.7,
           0.89,
           0.3,
           0.48,
           0.76,
           0.88,
           0.52,
           0.2,
           0.47,
           0.94,
           0.66,
           0.99,
           0.95,
           0.04,
           0.8,
           0.29,
           0.18,
           0.15,
           0.96,
           0.79,
           0.23,
           0.27,
           0.2,
           0.46,
           0.8,
           0.8,
           0.24,
           0.15,
           0.53,
           0.11,
           0.28,
           0.98,
           0.89,
           0.76,
           0.94,
           0.63,
           0.72,
           0.53,
           0.6,
           0.8,
           0.66,
           0.46,
           0.39,
           0.32,
           0.32,
           0.78,
           0.11,
           0.11,
           0.22,
           0.16,
           0.82,
           0.15,
           0.28,
           0.47,
           0.05,
           0.05,
           0.96,
           0.73,
           0.31,
           0.76,
           0.1,
           0.13,
           0.15,
           0.3,
           0.2,
           0.77,
           0.66,
           0.88,
           0.86,
           0.78,
           0.47,
           0.26,
           0.07,
           0.55,
           0.97,
           0.3,
           0.55,
           0.93,
           0.37,
           0.55,
           0.88,
           0.3,
           0.11,
           0.93,
           0.52,
           0.94,
           0.07,
           0.71,
           0.76,
           0.82,
           0.76,
           0.6,
           0.39,
           0.92,
           0.51,
           0.02,
           0.47,
           0.74,
           0.85,
           0.46,
           0.59,
           0.82,
           0.6,
           0.89,
           0.62,
           0.98,
           0.98,
           0.98,
           0.98,
           0.98,
           0.98,
           0.98,
           0.98,
           0.98,
           0.98,
           0.98,
           0.89,
           0.89,
           0.89,
           0.89,
           0.89,
           0.89,
           0.89,
           0.89,
           0.89,
           0.89,
           0.89,
           0.89,
           0.89,
           0.89,
           0.89,
           0.89,
           0.98,
           0.98,
           0.98,
           0.98,
           0.98,
           0.98,
           0.98,
           0.98,
           0.98,
           0.98,
           0.98,
           0.98,
           0.98,
           0.98,
           0.98,
           0.98,
           0.98,
           0.98,
           0.98,
           0.98,
           0.9,
           0.46,
           0.55,
           0.15,
           0.3,
           0.47,
           0.14,
           0.68,
           0.03,
           0.24,
           0.15,
           0.89,
           0.69,
           0.02,
           0.01,
           0.34,
           0.11,
           0.12,
           0.61,
           0.47,
           0.3,
           0.36,
           0.48,
           0.3,
           0.35,
           0.34,
           0.48,
           0.81,
           0.15,
           0.23,
           0.11,
           0.89,
           0.4,
           0.06,
           0.36,
           0.97,
           0.97,
           0.97,
           0.97,
           0.97,
           0.97,
           0.97,
           0.97,
           0.97,
           0.97,
           0.97,
           0.97,
           0.97,
           0.97,
           0.97,
           0.97,
           1,
           0.89,
           0.09,
           0.72,
           0.71,
           0.59,
           0.89,
           0.1,
           0.19,
           0.88,
           0.88,
           0.88,
           0.88,
           0.88,
           0.88,
           0.88,
           0.88,
           0.88,
           0.88,
           0.88,
           0.88,
           0.88,
           0.88,
           0.88,
           0.88,
           0.11,
           0.98,
           0.66,
           0.59,
           0.59,
           0.75,
           0.95,
           0.02,
           0.74,
           0.47,
           0.99,
           0.3,
           0.94,
           0.93,
           0.34,
           0.3,
           0.92,
           0.3,
           0.67,
           0.23,
           0.89,
           0.66,
           0.07,
           0.78,
           0.08,
           0.74,
           0.15,
           0.89,
           0.88,
           0.94,
           0.34,
           0.87,
           0.79,
           0.88,
           0.63,
           0.8,
           0.96,
           0.47,
           0.14,
           0.7,
           0.16,
           0.02,
           0.88,
           0.88,
           0.01,
           0.86,
           0.35,
           0.07,
           0.3,
           0.59,
           0.31,
           0.25,
           0.6,
           0.96,
           0.47,
           0.14,
           0.24,
           0.34,
           0.57,
           0.34,
           0.64,
           0.55,
           0.96,
           0.98,
           0.27,
           0.87,
           0.78,
           0.5,
           0.55,
           0.96,
           0.96,
           0.96,
           0.96,
           0.96,
           0.96,
           0.96,
           0.96,
           0.96,
           0.96,
           0.96,
           0.96,
           0.96,
           0.96,
           0.96,
           0.96,
           0.96,
           0.96,
           0.96,
           0.96,
           0.55,
           0.88,
           0.24,
           0.55,
           0.96,
           0.2,
           0.57,
           0.94,
           0.96,
           0.86,
           0.96,
           0.19,
           0.93,
           0.11,
           0.34,
           0.34,
           0.6,
           0.92,
           0.16,
           0.79,
           0.59,
           0.55,
           0.73,
           0.48,
           0.42,
           0.41,
           0.26,
           0.2,
           0.99,
           0.99,
           0.99,
           0.99,
           0.99,
           0.99,
           0.99,
           0.99,
           0.47,
           0.98,
           0.15,
           0.91,
           0.14,
           0.24,
           0.47,
           0.19,
           0.15,
           0.51,
           0.15,
           0.7,
           0.65,
           0.24,
           0.94,
           0.93,
           0.28,
           0.24,
           0.18,
           0.68,
           0.51,
           0.13,
           0.35,
           0.78,
           0.6,
           0.93,
           0.77,
           0.18,
           0.71,
           0.64,
           0.93,
           0.91,
           0.88,
           0.46,
           0.51,
           0.15,
           0.6,
           0.33,
           0.01,
           0.11,
           0.88,
           0.71,
           0.54,
           0.94,
           0.49,
           0.3,
           0.74,
           0.47,
           0.55,
           0.77,
           0.68,
           0.43,
           0.66,
           0.15,
           0.66,
           0.89,
           0.74,
           0.85,
           0.68,
           0.16,
           0.78,
           0.78,
           0.78,
           0.78,
           0.78,
           0.78,
           0.78,
           0.78,
           0.78,
           0.78,
           0.78,
           0.78,
           0.78,
           0.78,
           0.78,
           0.78,
           0.78,
           0.78,
           0.78,
           0.78,
           0.78,
           0.78,
           0.78,
           0.78,
           0.78,
           0.78,
           0.78,
           0.78,
           0.21,
           0.86,
           0.3,
           0.76,
           0.09,
           0.33,
           0.2,
           0.2,
           0.45,
           0.85,
           0.18,
           0.68,
           0.78,
           0.39,
           0.21,
           0.3,
           0.02,
           0.34,
           0.28,
           0.07,
           0.66,
           0.55,
           0.74,
           0.34,
           0.71,
           0.3,
           0.89,
           0.8,
           0.81,
           0.55,
           0.3,
           0.47,
           0.25,
           0.18,
           0.66,
           0.94,
           0.94,
           0.94,
           0.94,
           0.94,
           0.94,
           0.94,
           0.94,
           0.94,
           0.94,
           0.94,
           0.94,
           0.94,
           0.5,
           0.6,
           0.65,
           0.51,
           0.3,
           0.07,
           0.91,
           0.29,
           0.44,
           0.76,
           0.76,
           0.76,
           0.76,
           0.76,
           0.76,
           0.76,
           0.76,
           0.76,
           0.76,
           0.76,
           0.76,
           0.76,
           0.76,
           0.76,
           0.76,
           0.76,
           0.55,
           0.07,
           0.08,
           0.8,
           0.66,
           0.37,
           0.8,
           0.94,
           0.78,
           0.98,
           0.8,
           0.41,
           0.7,
           0.11,
           0.48,
           0.3,
           0.59,
           0.46,
           0.53,
           0.96,
           0.11,
           0.45,
           0.74,
           0.8,
           0.8,
           0.8,
           0.8,
           0.8,
           0.8,
           0.8,
           0.8,
           0.8,
           0.8,
           0.8,
           0.8,
           0.8,
           0.8,
           0.8,
           0.8,
           0.24,
           0.73,
           0.56,
           0.47,
           0.82,
           0.8,
           0.76,
           0.22,
           0.15,
           0.34,
           0.24,
           0.84,
           0.33,
           0.52,
           0.43,
           0,
           0.88,
           0.9,
           0.48,
           0.02,
           0.11,
           0.78,
           0.11,
           0.96,
           0.96,
           0.96,
           0.96,
           0.96,
           0.96,
           0.96,
           0.96,
           0.96,
           0.96,
           0.96,
           0.96,
           0.96,
           0.96,
           0.8,
           0.88,
           0.95,
           0.37,
           0.1,
           0.34,
           0.3,
           0.4,
           0.95,
           0.82,
           0.41,
           0.17,
           0.99,
           0.07,
           0.48,
           0.89,
           0.96,
           0.34,
           0.24,
           0.78,
           0.78,
           0.3,
           0.57,
           0.28,
           0.15,
           0.32,
           0.76,
           0.76,
           0.76,
           0.76,
           0.76,
           0.76,
           0.76,
           0.76,
           0.76,
           0.76,
           0.74,
           0.83,
           0.81,
           0.76,
           0.98,
           0.55,
           0.5,
           0.55,
           0.12,
           0.28,
           0.02,
           0.3,
           0.78,
           0.78,
           0.78,
           0.78,
           0.78,
           0.78,
           0.88,
           0.88,
           0.88,
           0.88,
           0.88,
           0.88,
           0.88,
           0.88,
           0.88,
           0.88,
           0.88,
           0.88,
           0.88,
           0.88,
           0.88,
           0.88,
           0.88,
           0.88,
           0.88,
           0.88,
           0.88,
           0.88,
           0.95,
           0.95,
           0.95,
           0.95,
           0.95,
           0.95,
           0.95,
           0.95,
           0.11,
           0.96,
           0.79,
           0.94,
           0.18,
           0.07,
           0.1,
           0.76,
           0.11,
           0.22,
           0.76,
           0.81,
           0.69,
           0.93,
           0.93,
           0.93,
           0.93,
           0.93,
           0.93,
           0.93,
           0.98,
           0.98,
           0.98,
           0.98,
           0.98,
           0.98,
           0.98,
           0.98,
           0.98,
           0.97,
           0.97,
           0.97,
           0.97,
           0.97,
           0.2,
           0.95,
           0.65,
           0.62,
           0.34,
           0.65,
           0.37,
           0.74,
           0.3,
           0.94,
           0.86,
           0.74,
           0.64,
           0.8,
           0.95,
           0.19,
           0.5,
           0.35,
           0.78,
           0.89,
           0.96,
           0.96,
           0.96,
           0.96,
           0.96,
           0.96,
           0.96,
           0.96,
           0.96,
           0.96,
           0.96,
           0.96,
           0.96,
           0.96,
           0.96,
           0.96,
           0.96,
           0.8,
           0.29,
           0.88,
           0.88,
           0.88,
           0.88,
           0.88,
           0.88,
           0.88,
           0.88,
           0.88,
           0.88,
           0.88,
           0.88,
           0.88,
           0.88,
           0.9,
           0.9,
           0.9,
           0.9,
           0.9,
           0.9,
           0.9,
           0.9,
           0.9,
           0.99,
           0.41,
           0.48,
           0.85,
           0.2,
           0.41,
           0.97,
           0.94,
           0.76,
           0.78,
           0.3,
           0.74,
           0.33,
           0.66,
           0.57,
           0.2,
           0.55,
           0.11,
           0.23,
           0.07,
           0.72,
           0.01,
           0.62,
           0.05,
           0.1,
           0.17,
           0.34,
           0.76,
           0.76,
           0.76,
           0.76,
           0.76,
           0.88,
           0.88,
           0.88,
           0.88,
           0.88,
           0.88,
           0.88,
           0.88,
           0.88,
           0.88,
           0.88,
           0.88,
           0.88,
           0.88,
           0.88,
           0.88,
           0.88,
           0.88,
           0.88,
           0.88,
           0.88,
           0.88,
           0.88,
           0.88,
           0.88,
           0.88,
           0.88,
           0.14,
           0.88,
           0.97,
           0.07,
           0.88,
           0.06,
           0.96,
           0.53,
           0.18,
           0.53,
           0.85,
           0.15,
           0.69,
           0.37,
           0.8,
           0.43,
           0.24,
           0.82,
           0.97,
           0.97,
           0.97,
           0.97,
           0.97,
           0.97,
           0.97,
           0.97,
           0.97,
           0.97,
           0.97,
           0.97,
           0.97,
           0.97,
           0.97,
           0.97,
           0.97,
           0.97,
           0.97,
           0.97,
           0.97,
           0.97,
           0.97,
           0.97,
           0.97,
           0.97,
           0.97,
           0.97,
           0.97,
           0.97,
           0.97,
           0.97,
           0.97,
           0.97,
           0.97,
           0.97,
           0.97,
           0.97,
           0.97,
           0.97,
           0.97,
           0.97,
           0.97,
           0.97,
           0.97,
           0.97,
           0.97,
           0.97,
           0.97,
           0.97,
           0.97,
           0.97,
           0.97,
           0.97,
           0.85,
           0.4,
           0.94,
           0.78,
           0.18,
           0.37,
           0.99,
           0.66,
           0.27,
           0.15,
           0.15,
           0.8,
           0.49,
           0.96,
           0.56,
           0.15,
           0.47,
           0.07,
           0.47,
           0.42,
           0.29,
           0.85,
           0.95,
           0.95,
           0.95,
           0.95,
           0.95,
           0.95,
           0.95,
           0.95,
           0.95,
           0.95,
           0.95,
           0.95,
           0.36,
           0.15,
           0.18
          ],
          "sizemode": "area",
          "sizeref": 0.0025,
          "symbol": "circle"
         },
         "mode": "markers",
         "name": "",
         "showlegend": false,
         "type": "scattergl",
         "x": [
          65576,
          56659,
          50855,
          29167,
          24481,
          22344,
          22257,
          20195,
          19614,
          19339,
          17847,
          17160,
          16900,
          16385,
          12394,
          12217,
          11958,
          11724,
          11517,
          11441,
          10670,
          10605,
          10603,
          10540,
          10338,
          10149,
          10100,
          10042,
          9995,
          9483,
          9445,
          9221,
          9015,
          8985,
          8797,
          8575,
          8314,
          8236,
          8121,
          8095,
          7941,
          7884,
          7750,
          7743,
          7489,
          7183,
          7159,
          6967,
          6811,
          6533,
          6451,
          6374,
          6219,
          6185,
          6092,
          6050,
          6050,
          6024,
          5983,
          5931,
          5874,
          5841,
          5786,
          5768,
          5685,
          5597,
          5572,
          5529,
          5528,
          5407,
          5354,
          5334,
          5172,
          5144,
          5108,
          5099,
          5077,
          5057,
          5050,
          5007,
          4991,
          4931,
          4919,
          4876,
          4863,
          4855,
          4770,
          4702,
          4695,
          4661,
          4653,
          4607,
          4601,
          4530,
          4497,
          4480,
          4284,
          4269,
          4252,
          4248,
          4187,
          4158,
          4133,
          4117,
          4103,
          4086,
          4077,
          4061,
          4034,
          4022,
          4005,
          3979,
          3917,
          3870,
          3870,
          3840,
          3811,
          3804,
          3775,
          3771,
          3757,
          3730,
          3667,
          3607,
          3555,
          3523,
          3519,
          3465,
          3426,
          3425,
          3403,
          3372,
          3360,
          3348,
          3339,
          3283,
          3255,
          3251,
          3223,
          3190,
          3177,
          3143,
          3137,
          3125,
          3094,
          3056,
          3050,
          3035,
          3014,
          2996,
          2988,
          2987,
          2981,
          2955,
          2953,
          2951,
          2946,
          2924,
          2917,
          2914,
          2900,
          2895,
          2893,
          2877,
          2801,
          2792,
          2769,
          2768,
          2740,
          2736,
          2715,
          2697,
          2692,
          2688,
          2674,
          2666,
          2650,
          2638,
          2635,
          2623,
          2602,
          2591,
          2571,
          2554,
          2516,
          2507,
          2506,
          2493,
          2490,
          2481,
          2474,
          2451,
          2437,
          2383,
          2379,
          2342,
          2338,
          2318,
          2317,
          2310,
          2305,
          2295,
          2293,
          2283,
          2281,
          2276,
          2268,
          2247,
          2240,
          2239,
          2235,
          2230,
          2222,
          2222,
          2212,
          2197,
          2189,
          2187,
          2185,
          2177,
          2174,
          2166,
          2153,
          2147,
          2146,
          2146,
          2144,
          2134,
          2122,
          2119,
          2115,
          2103,
          2101,
          2096,
          2092,
          2080,
          2079,
          2075,
          2060,
          2058,
          2053,
          2046,
          2046,
          2045,
          2031,
          2025,
          2000,
          2000,
          1988,
          1971,
          1964,
          1951,
          1942,
          1941,
          1924,
          1924,
          1923,
          1922,
          1916,
          1909,
          1888,
          1888,
          1882,
          1852,
          1850,
          1843,
          1819,
          1806,
          1798,
          1793,
          1793,
          1780,
          1777,
          1776,
          1772,
          1754,
          1750,
          1749,
          1741,
          1740,
          1736,
          1735,
          1732,
          1730,
          1730,
          1730,
          1723,
          1703,
          1699,
          1696,
          1685,
          1680,
          1680,
          1673,
          1645,
          1643,
          1634,
          1625,
          1609,
          1589,
          1580,
          1580,
          1574,
          1573,
          1566,
          1560,
          1551,
          1548,
          1542,
          1540,
          1535,
          1532,
          1531,
          1519,
          1514,
          1513,
          1512,
          1509,
          1506,
          1498,
          1489,
          1487,
          1480,
          1459,
          1449,
          1446,
          1444,
          1440,
          1437,
          1433,
          1423,
          1420,
          1406,
          1405,
          1403,
          1398,
          1393,
          1380,
          1374,
          1369,
          1367,
          1362,
          1361,
          1352,
          1340,
          1338,
          1334,
          1329,
          1318,
          1315,
          1311,
          1311,
          1309,
          1303,
          1294,
          1284,
          1280,
          1278,
          1278,
          1276,
          1276,
          1271,
          1263,
          1260,
          1255,
          1254,
          1252,
          1240,
          1239,
          1237,
          1235,
          1224,
          1223,
          1222,
          1218,
          1214,
          1213,
          1202,
          1201,
          1199,
          1197,
          1195,
          1193,
          1192,
          1189,
          1189,
          1187,
          1186,
          1185,
          1184,
          1184,
          1182,
          1181,
          1175,
          1173,
          1169,
          1168,
          1168,
          1168,
          1165,
          1160,
          1150,
          1136,
          1135,
          1132,
          1132,
          1125,
          1122,
          1121,
          1120,
          1119,
          1115,
          1113,
          1113,
          1105,
          1102,
          1101,
          1097,
          1096,
          1095,
          1094,
          1092,
          1091,
          1089,
          1087,
          1086,
          1086,
          1085,
          1081,
          1079,
          1077,
          1076,
          1074,
          1071,
          1067,
          1059,
          1057,
          1056,
          1055,
          1053,
          1048,
          1047,
          1047,
          1046,
          1046,
          1045,
          1044,
          1041,
          1037,
          1033,
          1033,
          1032,
          1030,
          1029,
          1027,
          1026,
          1023,
          1017,
          1013,
          1008,
          1006,
          993,
          989,
          984,
          978,
          975,
          973,
          968,
          967,
          965,
          956,
          952,
          951,
          944,
          939,
          936,
          927,
          916,
          913,
          912,
          912,
          911,
          897,
          894,
          885,
          874,
          871,
          869,
          859,
          853,
          853,
          844,
          843,
          841,
          837,
          832,
          831,
          829,
          828,
          827,
          825,
          814,
          813,
          811,
          810,
          809,
          807,
          801,
          797,
          789,
          788,
          781,
          779,
          775,
          769,
          768,
          751,
          750,
          743,
          741,
          739,
          739,
          737,
          731,
          727,
          727,
          721,
          718,
          718,
          701,
          701,
          694,
          690,
          689,
          683,
          677,
          668,
          668,
          663,
          661,
          658,
          656,
          653,
          650,
          649,
          646,
          638,
          635,
          632,
          631,
          627,
          627,
          623,
          623,
          621,
          618,
          617,
          613,
          612,
          611,
          611,
          609,
          607,
          605,
          605,
          592,
          589,
          578,
          577,
          576,
          570,
          567,
          564,
          562,
          554,
          551,
          547,
          545,
          543,
          540,
          521,
          521,
          520,
          517,
          513,
          512,
          507,
          507,
          507,
          505,
          504,
          503,
          500,
          495,
          494,
          486,
          485,
          484,
          483,
          480,
          477,
          472,
          465,
          462,
          461,
          459,
          454,
          454,
          453,
          452,
          446,
          440,
          438,
          431,
          426,
          420,
          412,
          409,
          408,
          406,
          405,
          401,
          399,
          397,
          397,
          397,
          394,
          394,
          393,
          388,
          384,
          384,
          379,
          376,
          375,
          375,
          375,
          373,
          368,
          367,
          367,
          366,
          360,
          359,
          358,
          357,
          354,
          353,
          353,
          347,
          343,
          338,
          338,
          336,
          335,
          335,
          327,
          326,
          325,
          323,
          319,
          315,
          315,
          314,
          313,
          313,
          312,
          308,
          307,
          306,
          302,
          299,
          294,
          294,
          293,
          288,
          285,
          283,
          280,
          276,
          274,
          274,
          273,
          271,
          270,
          267,
          267,
          266,
          265,
          264,
          261,
          260,
          256,
          256,
          252,
          249,
          249,
          247,
          246,
          244,
          241,
          237,
          232,
          230,
          229,
          228,
          227,
          226,
          226,
          226,
          225,
          225,
          225,
          224,
          223,
          223,
          222,
          218,
          217,
          217,
          217,
          217,
          214,
          212,
          211,
          210,
          209,
          209,
          207,
          207,
          206,
          206,
          206,
          205,
          205,
          204,
          204,
          201,
          194,
          193,
          190,
          188,
          188,
          187,
          187,
          185,
          178,
          176,
          172,
          171,
          170,
          168,
          168,
          168,
          167,
          166,
          164,
          159,
          157,
          156,
          155,
          155,
          154,
          153,
          153,
          152,
          152,
          152,
          152,
          150,
          149,
          149,
          148,
          147,
          143,
          142,
          139,
          139,
          137,
          137,
          136,
          136,
          135,
          135,
          135,
          134,
          133,
          132,
          132,
          131,
          131,
          129,
          126,
          126,
          124,
          124,
          123,
          122,
          120,
          120,
          119,
          117,
          117,
          116,
          116,
          115,
          114,
          114,
          112,
          112,
          112,
          111,
          110,
          110,
          108,
          106,
          106,
          106,
          105,
          104,
          104,
          104,
          103,
          103,
          103,
          101,
          101,
          100,
          100,
          99,
          99,
          98,
          97,
          95,
          94,
          94,
          93,
          92,
          91,
          91,
          91,
          91,
          90,
          90,
          89,
          89,
          89,
          87,
          87,
          86,
          86,
          85,
          83,
          83,
          83,
          81,
          80,
          80,
          80,
          79,
          79,
          78,
          78,
          78,
          77,
          76,
          76,
          75,
          74,
          74,
          74,
          74,
          72,
          72,
          71,
          71,
          71,
          70,
          70,
          69,
          68,
          68,
          66,
          66,
          65,
          64,
          64,
          62,
          62,
          61,
          61,
          61,
          59,
          59,
          58,
          58,
          57,
          57,
          57,
          57,
          56,
          56,
          55,
          55,
          55,
          54,
          54,
          53,
          52,
          52,
          51,
          51,
          51,
          50,
          50,
          50,
          49,
          49,
          49,
          49,
          48,
          47,
          47,
          46,
          45,
          45,
          45,
          45,
          45,
          44,
          44,
          44,
          44,
          43,
          43,
          43,
          42,
          42,
          42,
          41,
          41,
          40,
          40,
          40,
          39,
          39,
          38,
          38,
          38,
          37,
          37,
          37,
          37,
          36,
          36,
          35,
          35,
          34,
          33,
          33,
          32,
          32,
          32,
          32,
          31,
          31,
          31,
          31,
          30,
          30,
          30,
          29,
          29,
          29,
          29,
          28,
          28,
          28,
          28,
          27,
          27,
          27,
          27,
          27,
          27,
          26,
          26,
          26,
          26,
          26,
          25,
          25,
          23,
          23,
          23,
          23,
          22,
          22,
          22,
          22,
          22,
          21,
          21,
          21,
          21,
          21,
          20,
          20,
          19,
          18,
          18,
          18,
          18,
          18,
          18,
          18,
          17,
          17,
          17,
          16,
          16,
          16,
          16,
          16,
          16,
          16,
          16,
          16,
          16,
          15,
          15,
          15,
          15,
          14,
          14,
          14,
          14,
          13,
          13,
          13,
          13,
          13,
          13,
          13,
          13,
          12,
          12,
          12,
          12,
          12,
          12,
          12,
          11,
          11,
          11,
          11,
          11,
          11,
          11,
          11,
          10,
          10,
          10,
          10,
          10,
          9,
          9,
          9,
          9,
          9,
          9,
          9,
          9,
          9,
          9,
          8,
          8,
          8,
          8,
          8,
          8,
          8,
          7,
          7,
          7,
          7,
          7,
          7,
          7,
          7,
          7,
          7,
          6,
          6,
          6,
          6,
          6,
          6,
          6,
          6,
          5,
          5,
          5,
          5,
          5,
          5,
          5,
          5,
          4,
          4,
          4,
          4,
          4,
          4,
          4,
          4,
          4,
          4,
          4,
          3,
          3,
          3,
          3,
          3,
          3,
          2,
          2,
          2,
          2,
          2,
          2,
          2,
          2,
          2,
          2,
          2,
          2,
          2,
          1,
          1,
          1,
          1,
          1,
          1,
          1,
          1,
          1,
          1,
          1,
          1,
          1,
          1,
          1,
          1,
          1,
          0,
          0,
          0,
          0,
          0,
          0,
          0,
          0,
          0,
          0,
          0,
          0,
          0,
          0,
          0,
          0,
          0,
          0,
          0,
          0,
          0,
          0,
          0,
          0,
          0,
          0,
          0,
          0,
          0,
          0,
          0,
          0,
          0,
          0,
          0,
          0
         ],
         "xaxis": "x",
         "y": [
          0,
          0,
          0,
          0,
          195,
          0,
          195,
          200,
          0,
          0,
          0,
          0,
          195,
          60,
          95,
          0,
          20,
          0,
          100,
          200,
          0,
          95,
          200,
          0,
          30,
          75,
          180,
          150,
          0,
          0,
          155,
          150,
          150,
          0,
          45,
          195,
          60,
          0,
          105,
          95,
          185,
          195,
          50,
          95,
          115,
          20,
          200,
          60,
          0,
          0,
          125,
          20,
          30,
          0,
          95,
          20,
          20,
          0,
          30,
          0,
          0,
          20,
          150,
          0,
          25,
          0,
          200,
          0,
          185,
          0,
          50,
          200,
          195,
          0,
          20,
          20,
          0,
          30,
          125,
          0,
          195,
          0,
          20,
          0,
          0,
          30,
          0,
          50,
          75,
          100,
          0,
          0,
          30,
          95,
          20,
          125,
          200,
          0,
          160,
          0,
          60,
          20,
          120,
          20,
          95,
          25,
          0,
          195,
          50,
          90,
          175,
          150,
          50,
          20,
          20,
          25,
          195,
          200,
          0,
          25,
          0,
          20,
          180,
          30,
          40,
          150,
          0,
          0,
          0,
          50,
          20,
          20,
          95,
          120,
          20,
          0,
          200,
          20,
          20,
          25,
          20,
          200,
          0,
          20,
          20,
          180,
          200,
          0,
          0,
          125,
          200,
          105,
          45,
          0,
          25,
          200,
          50,
          25,
          95,
          25,
          60,
          20,
          150,
          150,
          150,
          75,
          20,
          0,
          0,
          20,
          200,
          120,
          50,
          95,
          0,
          200,
          25,
          35,
          50,
          35,
          150,
          100,
          0,
          0,
          25,
          45,
          200,
          95,
          45,
          0,
          50,
          95,
          20,
          20,
          160,
          25,
          90,
          150,
          20,
          200,
          145,
          200,
          20,
          20,
          20,
          75,
          20,
          0,
          95,
          20,
          20,
          45,
          20,
          50,
          180,
          150,
          20,
          50,
          20,
          40,
          45,
          0,
          95,
          200,
          0,
          200,
          0,
          50,
          0,
          0,
          200,
          40,
          20,
          150,
          200,
          0,
          0,
          0,
          20,
          0,
          50,
          25,
          20,
          20,
          50,
          40,
          200,
          40,
          150,
          50,
          20,
          20,
          170,
          190,
          200,
          0,
          20,
          60,
          50,
          200,
          25,
          0,
          200,
          50,
          20,
          200,
          0,
          200,
          30,
          80,
          200,
          0,
          20,
          95,
          35,
          20,
          75,
          20,
          95,
          20,
          0,
          0,
          50,
          95,
          95,
          0,
          195,
          200,
          200,
          0,
          0,
          195,
          150,
          200,
          200,
          40,
          25,
          0,
          20,
          20,
          95,
          200,
          20,
          100,
          50,
          20,
          20,
          30,
          20,
          65,
          150,
          50,
          25,
          50,
          0,
          75,
          195,
          20,
          200,
          200,
          45,
          200,
          20,
          35,
          20,
          45,
          100,
          30,
          200,
          145,
          20,
          195,
          200,
          50,
          20,
          145,
          20,
          200,
          20,
          20,
          195,
          0,
          20,
          0,
          150,
          60,
          50,
          20,
          0,
          50,
          45,
          30,
          140,
          75,
          20,
          115,
          50,
          0,
          30,
          200,
          195,
          200,
          70,
          50,
          20,
          20,
          40,
          200,
          20,
          50,
          30,
          150,
          100,
          95,
          75,
          200,
          100,
          95,
          20,
          200,
          190,
          50,
          20,
          30,
          20,
          20,
          80,
          145,
          200,
          25,
          50,
          50,
          35,
          50,
          200,
          40,
          50,
          0,
          20,
          95,
          65,
          95,
          125,
          35,
          20,
          180,
          200,
          20,
          0,
          125,
          45,
          20,
          200,
          200,
          50,
          40,
          200,
          50,
          195,
          80,
          200,
          20,
          125,
          0,
          200,
          20,
          0,
          200,
          50,
          200,
          105,
          25,
          20,
          50,
          0,
          0,
          200,
          50,
          50,
          200,
          200,
          200,
          50,
          20,
          25,
          125,
          20,
          200,
          20,
          200,
          200,
          50,
          200,
          20,
          20,
          140,
          200,
          60,
          195,
          50,
          100,
          200,
          50,
          20,
          20,
          120,
          120,
          60,
          50,
          0,
          50,
          55,
          145,
          180,
          200,
          20,
          0,
          20,
          95,
          150,
          150,
          20,
          200,
          180,
          50,
          50,
          95,
          200,
          25,
          75,
          20,
          50,
          30,
          50,
          200,
          20,
          30,
          40,
          20,
          200,
          125,
          50,
          140,
          200,
          95,
          200,
          145,
          100,
          20,
          145,
          20,
          25,
          60,
          60,
          50,
          20,
          30,
          20,
          0,
          20,
          95,
          50,
          60,
          20,
          60,
          20,
          20,
          0,
          20,
          50,
          20,
          50,
          20,
          45,
          55,
          195,
          200,
          20,
          25,
          20,
          200,
          20,
          40,
          45,
          130,
          20,
          95,
          50,
          30,
          200,
          40,
          20,
          120,
          85,
          180,
          50,
          40,
          195,
          40,
          200,
          60,
          200,
          60,
          20,
          20,
          50,
          100,
          20,
          120,
          20,
          20,
          50,
          90,
          25,
          200,
          35,
          45,
          50,
          20,
          60,
          200,
          25,
          20,
          30,
          200,
          20,
          20,
          95,
          180,
          0,
          115,
          180,
          40,
          50,
          200,
          20,
          50,
          195,
          195,
          20,
          25,
          50,
          20,
          25,
          150,
          60,
          60,
          40,
          200,
          150,
          40,
          50,
          75,
          165,
          50,
          35,
          45,
          50,
          25,
          50,
          0,
          95,
          200,
          50,
          50,
          195,
          50,
          30,
          20,
          50,
          20,
          30,
          40,
          50,
          195,
          55,
          150,
          20,
          0,
          95,
          105,
          25,
          195,
          200,
          200,
          120,
          50,
          95,
          50,
          40,
          200,
          200,
          0,
          200,
          145,
          95,
          20,
          20,
          60,
          20,
          200,
          130,
          40,
          50,
          20,
          135,
          50,
          20,
          25,
          50,
          95,
          95,
          40,
          200,
          20,
          70,
          125,
          20,
          35,
          200,
          30,
          95,
          200,
          100,
          30,
          200,
          30,
          60,
          20,
          95,
          20,
          20,
          50,
          65,
          30,
          50,
          50,
          20,
          20,
          20,
          20,
          20,
          20,
          50,
          0,
          115,
          20,
          50,
          195,
          200,
          40,
          20,
          195,
          200,
          50,
          95,
          40,
          100,
          20,
          40,
          50,
          60,
          75,
          20,
          50,
          20,
          50,
          20,
          195,
          20,
          40,
          50,
          170,
          50,
          20,
          200,
          40,
          20,
          20,
          20,
          50,
          40,
          25,
          140,
          70,
          200,
          75,
          20,
          45,
          50,
          20,
          25,
          20,
          200,
          20,
          55,
          60,
          40,
          20,
          50,
          50,
          20,
          50,
          30,
          20,
          50,
          50,
          150,
          200,
          85,
          40,
          40,
          25,
          20,
          35,
          35,
          20,
          20,
          50,
          50,
          95,
          25,
          20,
          20,
          20,
          200,
          150,
          25,
          20,
          20,
          50,
          25,
          190,
          20,
          30,
          40,
          50,
          25,
          30,
          20,
          50,
          20,
          20,
          50,
          20,
          50,
          20,
          50,
          20,
          40,
          30,
          40,
          20,
          30,
          40,
          20,
          50,
          125,
          20,
          35,
          95,
          150,
          20,
          200,
          20,
          25,
          50,
          200,
          50,
          40,
          50,
          80,
          200,
          20,
          95,
          100,
          35,
          40,
          35,
          95,
          25,
          20,
          200,
          20,
          60,
          195,
          20,
          50,
          20,
          200,
          50,
          20,
          50,
          50,
          35,
          35,
          50,
          50,
          50,
          50,
          20,
          50,
          40,
          20,
          35,
          20,
          75,
          20,
          195,
          20,
          20,
          80,
          55,
          20,
          40,
          20,
          20,
          40,
          200,
          30,
          20,
          20,
          200,
          30,
          20,
          20,
          95,
          35,
          195,
          100,
          40,
          20,
          20,
          60,
          195,
          20,
          200,
          90,
          95,
          195,
          200,
          20,
          50,
          95,
          75,
          60,
          120,
          20,
          200,
          60,
          60,
          95,
          20,
          20,
          20,
          20,
          50,
          35,
          20,
          50,
          90,
          30,
          75,
          100,
          100,
          20,
          50,
          20,
          20,
          20,
          20,
          200,
          20,
          50,
          30,
          20,
          150,
          35,
          25,
          50,
          30,
          45,
          200,
          50,
          45,
          95,
          20,
          50,
          50,
          60,
          20,
          50,
          20,
          200,
          200,
          25,
          30,
          20,
          50,
          50,
          60,
          95,
          35,
          65,
          20,
          200,
          85,
          20,
          30,
          20,
          50,
          50,
          25,
          20,
          85,
          20,
          20,
          40,
          20,
          100,
          30,
          30,
          20,
          20,
          20,
          85,
          110,
          95,
          20,
          35,
          20,
          20,
          150,
          20,
          30,
          200,
          75,
          60,
          85,
          200,
          50,
          20,
          25,
          20,
          50,
          50,
          20,
          150,
          40,
          50,
          20,
          45,
          20,
          20,
          20,
          90,
          40,
          150,
          125,
          20,
          60,
          45,
          20,
          20,
          20,
          90,
          50,
          0,
          30,
          20,
          35,
          25,
          200,
          50,
          20,
          25,
          40,
          150,
          20,
          50,
          20,
          50,
          50,
          80,
          20,
          45,
          100,
          50,
          20,
          20,
          115,
          200,
          20,
          20,
          20,
          150,
          100,
          195,
          50,
          20,
          20,
          20,
          50,
          100,
          20,
          60,
          20,
          100,
          100,
          25,
          50,
          20,
          20,
          20,
          25,
          75,
          200,
          125,
          50,
          50,
          35,
          20,
          50,
          25,
          25,
          35,
          30,
          20,
          20,
          20,
          50,
          45,
          200,
          25,
          45,
          50,
          30,
          35,
          20,
          20,
          55,
          40,
          145,
          20,
          40,
          30,
          30,
          200,
          70,
          200,
          20,
          20,
          25,
          95,
          55,
          20,
          20,
          200,
          45,
          25,
          30,
          175,
          20,
          20,
          30,
          50,
          25,
          20,
          200,
          30,
          20,
          20,
          95,
          50,
          50,
          20,
          40,
          35,
          200,
          50,
          20,
          50,
          200,
          50,
          20,
          30,
          105,
          20,
          20,
          60,
          20,
          35,
          20,
          20,
          50,
          35,
          95,
          50,
          40,
          20,
          50,
          50,
          50,
          20,
          100,
          20,
          100,
          50,
          50,
          20,
          20,
          25,
          20,
          25,
          100,
          75,
          100,
          200,
          100,
          160,
          20,
          20,
          20,
          20,
          50,
          20,
          40,
          75,
          90,
          50,
          50
         ],
         "yaxis": "y"
        },
        {
         "hovertemplate": "<b>OLS trendline</b><br>price = -0.000253659 * num_subscribers + 69.0924<br>R<sup>2</sup>=0.000238<br><br>num_subscribers=%{x}<br>price=%{y} <b>(trend)</b><extra></extra>",
         "legendgroup": "",
         "marker": {
          "symbol": "circle"
         },
         "mode": "lines",
         "name": "",
         "showlegend": false,
         "type": "scattergl",
         "x": [
          0,
          0,
          0,
          0,
          0,
          0,
          0,
          0,
          0,
          0,
          0,
          0,
          0,
          0,
          0,
          0,
          0,
          0,
          0,
          0,
          0,
          0,
          0,
          0,
          0,
          0,
          0,
          0,
          0,
          0,
          0,
          0,
          0,
          0,
          0,
          0,
          1,
          1,
          1,
          1,
          1,
          1,
          1,
          1,
          1,
          1,
          1,
          1,
          1,
          1,
          1,
          1,
          1,
          2,
          2,
          2,
          2,
          2,
          2,
          2,
          2,
          2,
          2,
          2,
          2,
          2,
          3,
          3,
          3,
          3,
          3,
          3,
          4,
          4,
          4,
          4,
          4,
          4,
          4,
          4,
          4,
          4,
          4,
          5,
          5,
          5,
          5,
          5,
          5,
          5,
          5,
          6,
          6,
          6,
          6,
          6,
          6,
          6,
          6,
          7,
          7,
          7,
          7,
          7,
          7,
          7,
          7,
          7,
          7,
          8,
          8,
          8,
          8,
          8,
          8,
          8,
          9,
          9,
          9,
          9,
          9,
          9,
          9,
          9,
          9,
          9,
          10,
          10,
          10,
          10,
          10,
          11,
          11,
          11,
          11,
          11,
          11,
          11,
          11,
          12,
          12,
          12,
          12,
          12,
          12,
          12,
          13,
          13,
          13,
          13,
          13,
          13,
          13,
          13,
          14,
          14,
          14,
          14,
          15,
          15,
          15,
          15,
          16,
          16,
          16,
          16,
          16,
          16,
          16,
          16,
          16,
          16,
          17,
          17,
          17,
          18,
          18,
          18,
          18,
          18,
          18,
          18,
          19,
          20,
          20,
          21,
          21,
          21,
          21,
          21,
          22,
          22,
          22,
          22,
          22,
          23,
          23,
          23,
          23,
          25,
          25,
          26,
          26,
          26,
          26,
          26,
          27,
          27,
          27,
          27,
          27,
          27,
          28,
          28,
          28,
          28,
          29,
          29,
          29,
          29,
          30,
          30,
          30,
          31,
          31,
          31,
          31,
          32,
          32,
          32,
          32,
          33,
          33,
          34,
          35,
          35,
          36,
          36,
          37,
          37,
          37,
          37,
          38,
          38,
          38,
          39,
          39,
          40,
          40,
          40,
          41,
          41,
          42,
          42,
          42,
          43,
          43,
          43,
          44,
          44,
          44,
          44,
          45,
          45,
          45,
          45,
          45,
          46,
          47,
          47,
          48,
          49,
          49,
          49,
          49,
          50,
          50,
          50,
          51,
          51,
          51,
          52,
          52,
          53,
          54,
          54,
          55,
          55,
          55,
          56,
          56,
          57,
          57,
          57,
          57,
          58,
          58,
          59,
          59,
          61,
          61,
          61,
          62,
          62,
          64,
          64,
          65,
          66,
          66,
          68,
          68,
          69,
          70,
          70,
          71,
          71,
          71,
          72,
          72,
          74,
          74,
          74,
          74,
          75,
          76,
          76,
          77,
          78,
          78,
          78,
          79,
          79,
          80,
          80,
          80,
          81,
          83,
          83,
          83,
          85,
          86,
          86,
          87,
          87,
          89,
          89,
          89,
          90,
          90,
          91,
          91,
          91,
          91,
          92,
          93,
          94,
          94,
          95,
          97,
          98,
          99,
          99,
          100,
          100,
          101,
          101,
          103,
          103,
          103,
          104,
          104,
          104,
          105,
          106,
          106,
          106,
          108,
          110,
          110,
          111,
          112,
          112,
          112,
          114,
          114,
          115,
          116,
          116,
          117,
          117,
          119,
          120,
          120,
          122,
          123,
          124,
          124,
          126,
          126,
          129,
          131,
          131,
          132,
          132,
          133,
          134,
          135,
          135,
          135,
          136,
          136,
          137,
          137,
          139,
          139,
          142,
          143,
          147,
          148,
          149,
          149,
          150,
          152,
          152,
          152,
          152,
          153,
          153,
          154,
          155,
          155,
          156,
          157,
          159,
          164,
          166,
          167,
          168,
          168,
          168,
          170,
          171,
          172,
          176,
          178,
          185,
          187,
          187,
          188,
          188,
          190,
          193,
          194,
          201,
          204,
          204,
          205,
          205,
          206,
          206,
          206,
          207,
          207,
          209,
          209,
          210,
          211,
          212,
          214,
          217,
          217,
          217,
          217,
          218,
          222,
          223,
          223,
          224,
          225,
          225,
          225,
          226,
          226,
          226,
          227,
          228,
          229,
          230,
          232,
          237,
          241,
          244,
          246,
          247,
          249,
          249,
          252,
          256,
          256,
          260,
          261,
          264,
          265,
          266,
          267,
          267,
          270,
          271,
          273,
          274,
          274,
          276,
          280,
          283,
          285,
          288,
          293,
          294,
          294,
          299,
          302,
          306,
          307,
          308,
          312,
          313,
          313,
          314,
          315,
          315,
          319,
          323,
          325,
          326,
          327,
          335,
          335,
          336,
          338,
          338,
          343,
          347,
          353,
          353,
          354,
          357,
          358,
          359,
          360,
          366,
          367,
          367,
          368,
          373,
          375,
          375,
          375,
          376,
          379,
          384,
          384,
          388,
          393,
          394,
          394,
          397,
          397,
          397,
          399,
          401,
          405,
          406,
          408,
          409,
          412,
          420,
          426,
          431,
          438,
          440,
          446,
          452,
          453,
          454,
          454,
          459,
          461,
          462,
          465,
          472,
          477,
          480,
          483,
          484,
          485,
          486,
          494,
          495,
          500,
          503,
          504,
          505,
          507,
          507,
          507,
          512,
          513,
          517,
          520,
          521,
          521,
          540,
          543,
          545,
          547,
          551,
          554,
          562,
          564,
          567,
          570,
          576,
          577,
          578,
          589,
          592,
          605,
          605,
          607,
          609,
          611,
          611,
          612,
          613,
          617,
          618,
          621,
          623,
          623,
          627,
          627,
          631,
          632,
          635,
          638,
          646,
          649,
          650,
          653,
          656,
          658,
          661,
          663,
          668,
          668,
          677,
          683,
          689,
          690,
          694,
          701,
          701,
          718,
          718,
          721,
          727,
          727,
          731,
          737,
          739,
          739,
          741,
          743,
          750,
          751,
          768,
          769,
          775,
          779,
          781,
          788,
          789,
          797,
          801,
          807,
          809,
          810,
          811,
          813,
          814,
          825,
          827,
          828,
          829,
          831,
          832,
          837,
          841,
          843,
          844,
          853,
          853,
          859,
          869,
          871,
          874,
          885,
          894,
          897,
          911,
          912,
          912,
          913,
          916,
          927,
          936,
          939,
          944,
          951,
          952,
          956,
          965,
          967,
          968,
          973,
          975,
          978,
          984,
          989,
          993,
          1006,
          1008,
          1013,
          1017,
          1023,
          1026,
          1027,
          1029,
          1030,
          1032,
          1033,
          1033,
          1037,
          1041,
          1044,
          1045,
          1046,
          1046,
          1047,
          1047,
          1048,
          1053,
          1055,
          1056,
          1057,
          1059,
          1067,
          1071,
          1074,
          1076,
          1077,
          1079,
          1081,
          1085,
          1086,
          1086,
          1087,
          1089,
          1091,
          1092,
          1094,
          1095,
          1096,
          1097,
          1101,
          1102,
          1105,
          1113,
          1113,
          1115,
          1119,
          1120,
          1121,
          1122,
          1125,
          1132,
          1132,
          1135,
          1136,
          1150,
          1160,
          1165,
          1168,
          1168,
          1168,
          1169,
          1173,
          1175,
          1181,
          1182,
          1184,
          1184,
          1185,
          1186,
          1187,
          1189,
          1189,
          1192,
          1193,
          1195,
          1197,
          1199,
          1201,
          1202,
          1213,
          1214,
          1218,
          1222,
          1223,
          1224,
          1235,
          1237,
          1239,
          1240,
          1252,
          1254,
          1255,
          1260,
          1263,
          1271,
          1276,
          1276,
          1278,
          1278,
          1280,
          1284,
          1294,
          1303,
          1309,
          1311,
          1311,
          1315,
          1318,
          1329,
          1334,
          1338,
          1340,
          1352,
          1361,
          1362,
          1367,
          1369,
          1374,
          1380,
          1393,
          1398,
          1403,
          1405,
          1406,
          1420,
          1423,
          1433,
          1437,
          1440,
          1444,
          1446,
          1449,
          1459,
          1480,
          1487,
          1489,
          1498,
          1506,
          1509,
          1512,
          1513,
          1514,
          1519,
          1531,
          1532,
          1535,
          1540,
          1542,
          1548,
          1551,
          1560,
          1566,
          1573,
          1574,
          1580,
          1580,
          1589,
          1609,
          1625,
          1634,
          1643,
          1645,
          1673,
          1680,
          1680,
          1685,
          1696,
          1699,
          1703,
          1723,
          1730,
          1730,
          1730,
          1732,
          1735,
          1736,
          1740,
          1741,
          1749,
          1750,
          1754,
          1772,
          1776,
          1777,
          1780,
          1793,
          1793,
          1798,
          1806,
          1819,
          1843,
          1850,
          1852,
          1882,
          1888,
          1888,
          1909,
          1916,
          1922,
          1923,
          1924,
          1924,
          1941,
          1942,
          1951,
          1964,
          1971,
          1988,
          2000,
          2000,
          2025,
          2031,
          2045,
          2046,
          2046,
          2053,
          2058,
          2060,
          2075,
          2079,
          2080,
          2092,
          2096,
          2101,
          2103,
          2115,
          2119,
          2122,
          2134,
          2144,
          2146,
          2146,
          2147,
          2153,
          2166,
          2174,
          2177,
          2185,
          2187,
          2189,
          2197,
          2212,
          2222,
          2222,
          2230,
          2235,
          2239,
          2240,
          2247,
          2268,
          2276,
          2281,
          2283,
          2293,
          2295,
          2305,
          2310,
          2317,
          2318,
          2338,
          2342,
          2379,
          2383,
          2437,
          2451,
          2474,
          2481,
          2490,
          2493,
          2506,
          2507,
          2516,
          2554,
          2571,
          2591,
          2602,
          2623,
          2635,
          2638,
          2650,
          2666,
          2674,
          2688,
          2692,
          2697,
          2715,
          2736,
          2740,
          2768,
          2769,
          2792,
          2801,
          2877,
          2893,
          2895,
          2900,
          2914,
          2917,
          2924,
          2946,
          2951,
          2953,
          2955,
          2981,
          2987,
          2988,
          2996,
          3014,
          3035,
          3050,
          3056,
          3094,
          3125,
          3137,
          3143,
          3177,
          3190,
          3223,
          3251,
          3255,
          3283,
          3339,
          3348,
          3360,
          3372,
          3403,
          3425,
          3426,
          3465,
          3519,
          3523,
          3555,
          3607,
          3667,
          3730,
          3757,
          3771,
          3775,
          3804,
          3811,
          3840,
          3870,
          3870,
          3917,
          3979,
          4005,
          4022,
          4034,
          4061,
          4077,
          4086,
          4103,
          4117,
          4133,
          4158,
          4187,
          4248,
          4252,
          4269,
          4284,
          4480,
          4497,
          4530,
          4601,
          4607,
          4653,
          4661,
          4695,
          4702,
          4770,
          4855,
          4863,
          4876,
          4919,
          4931,
          4991,
          5007,
          5050,
          5057,
          5077,
          5099,
          5108,
          5144,
          5172,
          5334,
          5354,
          5407,
          5528,
          5529,
          5572,
          5597,
          5685,
          5768,
          5786,
          5841,
          5874,
          5931,
          5983,
          6024,
          6050,
          6050,
          6092,
          6185,
          6219,
          6374,
          6451,
          6533,
          6811,
          6967,
          7159,
          7183,
          7489,
          7743,
          7750,
          7884,
          7941,
          8095,
          8121,
          8236,
          8314,
          8575,
          8797,
          8985,
          9015,
          9221,
          9445,
          9483,
          9995,
          10042,
          10100,
          10149,
          10338,
          10540,
          10603,
          10605,
          10670,
          11441,
          11517,
          11724,
          11958,
          12217,
          12394,
          16385,
          16900,
          17160,
          17847,
          19339,
          19614,
          20195,
          22257,
          22344,
          24481,
          29167,
          50855,
          56659,
          65576
         ],
         "xaxis": "x",
         "y": [
          69.09237268266412,
          69.09237268266412,
          69.09237268266412,
          69.09237268266412,
          69.09237268266412,
          69.09237268266412,
          69.09237268266412,
          69.09237268266412,
          69.09237268266412,
          69.09237268266412,
          69.09237268266412,
          69.09237268266412,
          69.09237268266412,
          69.09237268266412,
          69.09237268266412,
          69.09237268266412,
          69.09237268266412,
          69.09237268266412,
          69.09237268266412,
          69.09237268266412,
          69.09237268266412,
          69.09237268266412,
          69.09237268266412,
          69.09237268266412,
          69.09237268266412,
          69.09237268266412,
          69.09237268266412,
          69.09237268266412,
          69.09237268266412,
          69.09237268266412,
          69.09237268266412,
          69.09237268266412,
          69.09237268266412,
          69.09237268266412,
          69.09237268266412,
          69.09237268266412,
          69.09211902339575,
          69.09211902339575,
          69.09211902339575,
          69.09211902339575,
          69.09211902339575,
          69.09211902339575,
          69.09211902339575,
          69.09211902339575,
          69.09211902339575,
          69.09211902339575,
          69.09211902339575,
          69.09211902339575,
          69.09211902339575,
          69.09211902339575,
          69.09211902339575,
          69.09211902339575,
          69.09211902339575,
          69.09186536412739,
          69.09186536412739,
          69.09186536412739,
          69.09186536412739,
          69.09186536412739,
          69.09186536412739,
          69.09186536412739,
          69.09186536412739,
          69.09186536412739,
          69.09186536412739,
          69.09186536412739,
          69.09186536412739,
          69.09186536412739,
          69.09161170485902,
          69.09161170485902,
          69.09161170485902,
          69.09161170485902,
          69.09161170485902,
          69.09161170485902,
          69.09135804559064,
          69.09135804559064,
          69.09135804559064,
          69.09135804559064,
          69.09135804559064,
          69.09135804559064,
          69.09135804559064,
          69.09135804559064,
          69.09135804559064,
          69.09135804559064,
          69.09135804559064,
          69.09110438632227,
          69.09110438632227,
          69.09110438632227,
          69.09110438632227,
          69.09110438632227,
          69.09110438632227,
          69.09110438632227,
          69.09110438632227,
          69.0908507270539,
          69.0908507270539,
          69.0908507270539,
          69.0908507270539,
          69.0908507270539,
          69.0908507270539,
          69.0908507270539,
          69.0908507270539,
          69.09059706778554,
          69.09059706778554,
          69.09059706778554,
          69.09059706778554,
          69.09059706778554,
          69.09059706778554,
          69.09059706778554,
          69.09059706778554,
          69.09059706778554,
          69.09059706778554,
          69.09034340851717,
          69.09034340851717,
          69.09034340851717,
          69.09034340851717,
          69.09034340851717,
          69.09034340851717,
          69.09034340851717,
          69.0900897492488,
          69.0900897492488,
          69.0900897492488,
          69.0900897492488,
          69.0900897492488,
          69.0900897492488,
          69.0900897492488,
          69.0900897492488,
          69.0900897492488,
          69.0900897492488,
          69.08983608998044,
          69.08983608998044,
          69.08983608998044,
          69.08983608998044,
          69.08983608998044,
          69.08958243071206,
          69.08958243071206,
          69.08958243071206,
          69.08958243071206,
          69.08958243071206,
          69.08958243071206,
          69.08958243071206,
          69.08958243071206,
          69.08932877144369,
          69.08932877144369,
          69.08932877144369,
          69.08932877144369,
          69.08932877144369,
          69.08932877144369,
          69.08932877144369,
          69.08907511217532,
          69.08907511217532,
          69.08907511217532,
          69.08907511217532,
          69.08907511217532,
          69.08907511217532,
          69.08907511217532,
          69.08907511217532,
          69.08882145290696,
          69.08882145290696,
          69.08882145290696,
          69.08882145290696,
          69.08856779363859,
          69.08856779363859,
          69.08856779363859,
          69.08856779363859,
          69.08831413437022,
          69.08831413437022,
          69.08831413437022,
          69.08831413437022,
          69.08831413437022,
          69.08831413437022,
          69.08831413437022,
          69.08831413437022,
          69.08831413437022,
          69.08831413437022,
          69.08806047510186,
          69.08806047510186,
          69.08806047510186,
          69.08780681583347,
          69.08780681583347,
          69.08780681583347,
          69.08780681583347,
          69.08780681583347,
          69.08780681583347,
          69.08780681583347,
          69.08755315656511,
          69.08729949729674,
          69.08729949729674,
          69.08704583802837,
          69.08704583802837,
          69.08704583802837,
          69.08704583802837,
          69.08704583802837,
          69.08679217876,
          69.08679217876,
          69.08679217876,
          69.08679217876,
          69.08679217876,
          69.08653851949164,
          69.08653851949164,
          69.08653851949164,
          69.08653851949164,
          69.08603120095489,
          69.08603120095489,
          69.08577754168653,
          69.08577754168653,
          69.08577754168653,
          69.08577754168653,
          69.08577754168653,
          69.08552388241816,
          69.08552388241816,
          69.08552388241816,
          69.08552388241816,
          69.08552388241816,
          69.08552388241816,
          69.08527022314979,
          69.08527022314979,
          69.08527022314979,
          69.08527022314979,
          69.08501656388142,
          69.08501656388142,
          69.08501656388142,
          69.08501656388142,
          69.08476290461306,
          69.08476290461306,
          69.08476290461306,
          69.08450924534469,
          69.08450924534469,
          69.08450924534469,
          69.08450924534469,
          69.08425558607631,
          69.08425558607631,
          69.08425558607631,
          69.08425558607631,
          69.08400192680794,
          69.08400192680794,
          69.08374826753958,
          69.08349460827121,
          69.08349460827121,
          69.08324094900284,
          69.08324094900284,
          69.08298728973448,
          69.08298728973448,
          69.08298728973448,
          69.08298728973448,
          69.0827336304661,
          69.0827336304661,
          69.0827336304661,
          69.08247997119773,
          69.08247997119773,
          69.08222631192936,
          69.08222631192936,
          69.08222631192936,
          69.081972652661,
          69.081972652661,
          69.08171899339263,
          69.08171899339263,
          69.08171899339263,
          69.08146533412426,
          69.08146533412426,
          69.08146533412426,
          69.0812116748559,
          69.0812116748559,
          69.0812116748559,
          69.0812116748559,
          69.08095801558751,
          69.08095801558751,
          69.08095801558751,
          69.08095801558751,
          69.08095801558751,
          69.08070435631915,
          69.08045069705078,
          69.08045069705078,
          69.08019703778241,
          69.07994337851405,
          69.07994337851405,
          69.07994337851405,
          69.07994337851405,
          69.07968971924568,
          69.07968971924568,
          69.07968971924568,
          69.07943605997731,
          69.07943605997731,
          69.07943605997731,
          69.07918240070893,
          69.07918240070893,
          69.07892874144056,
          69.0786750821722,
          69.0786750821722,
          69.07842142290383,
          69.07842142290383,
          69.07842142290383,
          69.07816776363546,
          69.07816776363546,
          69.0779141043671,
          69.0779141043671,
          69.0779141043671,
          69.0779141043671,
          69.07766044509873,
          69.07766044509873,
          69.07740678583035,
          69.07740678583035,
          69.07689946729361,
          69.07689946729361,
          69.07689946729361,
          69.07664580802525,
          69.07664580802525,
          69.07613848948851,
          69.07613848948851,
          69.07588483022015,
          69.07563117095177,
          69.07563117095177,
          69.07512385241503,
          69.07512385241503,
          69.07487019314667,
          69.0746165338783,
          69.0746165338783,
          69.07436287460993,
          69.07436287460993,
          69.07436287460993,
          69.07410921534157,
          69.07410921534157,
          69.07360189680482,
          69.07360189680482,
          69.07360189680482,
          69.07360189680482,
          69.07334823753645,
          69.07309457826808,
          69.07309457826808,
          69.07284091899972,
          69.07258725973135,
          69.07258725973135,
          69.07258725973135,
          69.07233360046298,
          69.07233360046298,
          69.0720799411946,
          69.0720799411946,
          69.0720799411946,
          69.07182628192623,
          69.0713189633895,
          69.0713189633895,
          69.0713189633895,
          69.07081164485277,
          69.0705579855844,
          69.0705579855844,
          69.07030432631602,
          69.07030432631602,
          69.06979700777929,
          69.06979700777929,
          69.06979700777929,
          69.06954334851092,
          69.06954334851092,
          69.06928968924255,
          69.06928968924255,
          69.06928968924255,
          69.06928968924255,
          69.06903602997419,
          69.06878237070582,
          69.06852871143744,
          69.06852871143744,
          69.06827505216907,
          69.06776773363234,
          69.06751407436397,
          69.0672604150956,
          69.0672604150956,
          69.06700675582722,
          69.06700675582722,
          69.06675309655886,
          69.06675309655886,
          69.06624577802212,
          69.06624577802212,
          69.06624577802212,
          69.06599211875375,
          69.06599211875375,
          69.06599211875375,
          69.06573845948539,
          69.06548480021702,
          69.06548480021702,
          69.06548480021702,
          69.06497748168027,
          69.06447016314354,
          69.06447016314354,
          69.06421650387517,
          69.0639628446068,
          69.0639628446068,
          69.0639628446068,
          69.06345552607006,
          69.06345552607006,
          69.06320186680169,
          69.06294820753332,
          69.06294820753332,
          69.06269454826496,
          69.06269454826496,
          69.06218722972822,
          69.06193357045986,
          69.06193357045986,
          69.06142625192311,
          69.06117259265474,
          69.06091893338638,
          69.06091893338638,
          69.06041161484964,
          69.06041161484964,
          69.05965063704453,
          69.0591433185078,
          69.0591433185078,
          69.05888965923943,
          69.05888965923943,
          69.05863599997106,
          69.05838234070269,
          69.05812868143431,
          69.05812868143431,
          69.05812868143431,
          69.05787502216594,
          69.05787502216594,
          69.05762136289758,
          69.05762136289758,
          69.05711404436084,
          69.05711404436084,
          69.05635306655573,
          69.05609940728736,
          69.0550847702139,
          69.05483111094553,
          69.05457745167715,
          69.05457745167715,
          69.05432379240878,
          69.05381647387205,
          69.05381647387205,
          69.05381647387205,
          69.05381647387205,
          69.05356281460368,
          69.05356281460368,
          69.05330915533531,
          69.05305549606695,
          69.05305549606695,
          69.05280183679857,
          69.0525481775302,
          69.05204085899346,
          69.05077256265162,
          69.05026524411488,
          69.05001158484652,
          69.04975792557815,
          69.04975792557815,
          69.04975792557815,
          69.0492506070414,
          69.04899694777303,
          69.04874328850467,
          69.04772865143119,
          69.04722133289445,
          69.04544571801587,
          69.04493839947914,
          69.04493839947914,
          69.04468474021077,
          69.04468474021077,
          69.04417742167402,
          69.04341644386892,
          69.04316278460055,
          69.04138716972197,
          69.04062619191686,
          69.04062619191686,
          69.04037253264849,
          69.04037253264849,
          69.04011887338012,
          69.04011887338012,
          69.04011887338012,
          69.03986521411176,
          69.03986521411176,
          69.03935789557502,
          69.03935789557502,
          69.03910423630666,
          69.03885057703827,
          69.03859691776991,
          69.03808959923317,
          69.03732862142807,
          69.03732862142807,
          69.03732862142807,
          69.03732862142807,
          69.03707496215969,
          69.03606032508623,
          69.03580666581786,
          69.03580666581786,
          69.03555300654948,
          69.03529934728111,
          69.03529934728111,
          69.03529934728111,
          69.03504568801274,
          69.03504568801274,
          69.03504568801274,
          69.03479202874438,
          69.03453836947601,
          69.03428471020764,
          69.03403105093928,
          69.03352373240253,
          69.0322554360607,
          69.03124079898721,
          69.03047982118211,
          69.02997250264536,
          69.029718843377,
          69.02921152484026,
          69.02921152484026,
          69.02845054703515,
          69.02743590996168,
          69.02743590996168,
          69.0264212728882,
          69.02616761361983,
          69.02540663581473,
          69.02515297654637,
          69.02489931727798,
          69.02464565800962,
          69.02464565800962,
          69.02388468020452,
          69.02363102093615,
          69.0231237023994,
          69.02287004313104,
          69.02287004313104,
          69.0223627245943,
          69.02134808752082,
          69.02058710971572,
          69.02007979117899,
          69.01931881337387,
          69.01805051703202,
          69.01779685776366,
          69.01779685776366,
          69.01652856142182,
          69.01576758361671,
          69.01475294654324,
          69.01449928727486,
          69.01424562800649,
          69.01323099093302,
          69.01297733166466,
          69.01297733166466,
          69.01272367239628,
          69.01247001312791,
          69.01247001312791,
          69.01145537605444,
          69.01044073898096,
          69.00993342044423,
          69.00967976117586,
          69.0094261019075,
          69.00739682776053,
          69.00739682776053,
          69.00714316849216,
          69.00663584995543,
          69.00663584995543,
          69.00536755361358,
          69.00435291654011,
          69.0028309609299,
          69.0028309609299,
          69.00257730166153,
          69.00181632385642,
          69.00156266458805,
          69.00130900531968,
          69.00105534605132,
          68.9995333904411,
          68.99927973117273,
          68.99927973117273,
          68.99902607190437,
          68.99775777556252,
          68.99725045702579,
          68.99725045702579,
          68.99725045702579,
          68.9969967977574,
          68.9962358199523,
          68.99496752361046,
          68.99496752361046,
          68.99395288653699,
          68.99268459019514,
          68.99243093092677,
          68.99243093092677,
          68.99166995312166,
          68.99166995312166,
          68.99166995312166,
          68.99116263458492,
          68.99065531604819,
          68.98964067897471,
          68.98938701970634,
          68.98887970116961,
          68.98862604190124,
          68.98786506409613,
          68.98583578994918,
          68.98431383433896,
          68.98304553799711,
          68.98126992311853,
          68.9807626045818,
          68.97924064897158,
          68.97771869336137,
          68.977465034093,
          68.97721137482463,
          68.97721137482463,
          68.97594307848279,
          68.97543575994605,
          68.97518210067769,
          68.97442112287258,
          68.97264550799399,
          68.97137721165215,
          68.97061623384704,
          68.96985525604194,
          68.96960159677357,
          68.9693479375052,
          68.96909427823682,
          68.96706500408987,
          68.96681134482151,
          68.96554304847966,
          68.96478207067456,
          68.96452841140619,
          68.96427475213783,
          68.96376743360108,
          68.96376743360108,
          68.96376743360108,
          68.96249913725924,
          68.96224547799088,
          68.9612308409174,
          68.9604698631123,
          68.96021620384391,
          68.96021620384391,
          68.95539667774491,
          68.9546356999398,
          68.95412838140307,
          68.95362106286633,
          68.95260642579285,
          68.95184544798775,
          68.94981617384079,
          68.94930885530405,
          68.94854787749895,
          68.94778689969384,
          68.94626494408362,
          68.94601128481526,
          68.94575762554689,
          68.94296737359484,
          68.94220639578973,
          68.93890882530093,
          68.93890882530093,
          68.9384015067642,
          68.93789418822746,
          68.93738686969071,
          68.93738686969071,
          68.93713321042235,
          68.93687955115398,
          68.9358649140805,
          68.93561125481213,
          68.93485027700703,
          68.9343429584703,
          68.9343429584703,
          68.93332832139681,
          68.93332832139681,
          68.93231368432333,
          68.93206002505497,
          68.93129904724987,
          68.93053806944475,
          68.9285087952978,
          68.9277478174927,
          68.92749415822433,
          68.92673318041922,
          68.92597220261412,
          68.92546488407737,
          68.92470390627227,
          68.92419658773554,
          68.92292829139369,
          68.92292829139369,
          68.92064535797837,
          68.91912340236816,
          68.91760144675794,
          68.91734778748958,
          68.9163331504161,
          68.91455753553751,
          68.91455753553751,
          68.91024532797525,
          68.91024532797525,
          68.90948435017013,
          68.90796239455992,
          68.90796239455992,
          68.90694775748645,
          68.90542580187623,
          68.9049184833395,
          68.9049184833395,
          68.90441116480275,
          68.90390384626602,
          68.90212823138744,
          68.90187457211907,
          68.8975623645568,
          68.89730870528842,
          68.89578674967822,
          68.89477211260474,
          68.89426479406801,
          68.89248917918943,
          68.89223551992104,
          68.8902062457741,
          68.88919160870063,
          68.88766965309041,
          68.88716233455368,
          68.8869086752853,
          68.88665501601693,
          68.8861476974802,
          68.88589403821183,
          68.88310378625977,
          68.88259646772303,
          68.88234280845467,
          68.8820891491863,
          68.88158183064955,
          68.88132817138118,
          68.88005987503935,
          68.87904523796587,
          68.87853791942914,
          68.87828426016075,
          68.87600132674544,
          68.87600132674544,
          68.87447937113522,
          68.87194277845154,
          68.8714354599148,
          68.87067448210969,
          68.86788423015764,
          68.86560129674231,
          68.86484031893721,
          68.86128908918005,
          68.86103542991168,
          68.86103542991168,
          68.8607817706433,
          68.8600207928382,
          68.85723054088614,
          68.85494760747082,
          68.85418662966572,
          68.85291833332387,
          68.85114271844529,
          68.85088905917692,
          68.84987442210344,
          68.84759148868812,
          68.84708417015139,
          68.84683051088301,
          68.84556221454118,
          68.84505489600443,
          68.84429391819933,
          68.84277196258911,
          68.84150366624726,
          68.8404890291738,
          68.837191458685,
          68.83668414014826,
          68.83541584380642,
          68.83440120673293,
          68.83287925112273,
          68.83211827331762,
          68.83186461404925,
          68.83135729551252,
          68.83110363624414,
          68.8305963177074,
          68.83034265843904,
          68.83034265843904,
          68.82932802136555,
          68.82831338429209,
          68.82755240648697,
          68.8272987472186,
          68.82704508795024,
          68.82704508795024,
          68.82679142868187,
          68.82679142868187,
          68.8265377694135,
          68.82526947307166,
          68.82476215453492,
          68.82450849526656,
          68.82425483599819,
          68.82374751746144,
          68.82171824331449,
          68.82070360624103,
          68.81994262843591,
          68.81943530989918,
          68.81918165063081,
          68.81867433209406,
          68.81816701355733,
          68.81715237648386,
          68.81689871721548,
          68.81689871721548,
          68.81664505794711,
          68.81613773941038,
          68.81563042087365,
          68.81537676160526,
          68.81486944306853,
          68.81461578380016,
          68.8143621245318,
          68.81410846526343,
          68.81309382818995,
          68.81284016892158,
          68.81207919111648,
          68.81004991696952,
          68.81004991696952,
          68.80954259843278,
          68.80852796135932,
          68.80827430209094,
          68.80802064282257,
          68.8077669835542,
          68.8070060057491,
          68.80523039087052,
          68.80523039087052,
          68.8044694130654,
          68.80421575379704,
          68.80066452403987,
          68.79812793135619,
          68.79685963501434,
          68.79609865720923,
          68.79609865720923,
          68.79609865720923,
          68.79584499794086,
          68.7948303608674,
          68.79432304233065,
          68.79280108672044,
          68.79254742745206,
          68.79204010891533,
          68.79204010891533,
          68.79178644964696,
          68.7915327903786,
          68.79127913111023,
          68.79077181257348,
          68.79077181257348,
          68.79001083476838,
          68.78975717550001,
          68.78924985696328,
          68.78874253842653,
          68.7882352198898,
          68.78772790135307,
          68.7874742420847,
          68.78468399013263,
          68.78443033086427,
          68.78341569379079,
          68.78240105671732,
          68.78214739744894,
          68.78189373818057,
          68.77910348622852,
          68.77859616769177,
          68.77808884915504,
          68.77783518988667,
          68.77479127866624,
          68.77428396012951,
          68.77403030086114,
          68.7727620045193,
          68.7720010267142,
          68.76997175256724,
          68.7687034562254,
          68.7687034562254,
          68.76819613768865,
          68.76819613768865,
          68.76768881915191,
          68.76667418207845,
          68.76413758939475,
          68.76185465597943,
          68.76033270036922,
          68.75982538183248,
          68.75982538183248,
          68.758810744759,
          68.7580497669539,
          68.75525951500184,
          68.75399121865999,
          68.75297658158652,
          68.75246926304979,
          68.74942535182936,
          68.74714241841403,
          68.74688875914566,
          68.74562046280383,
          68.74511314426708,
          68.74384484792525,
          68.74232289231503,
          68.73902532182623,
          68.73775702548438,
          68.73648872914254,
          68.7359814106058,
          68.73572775133744,
          68.73217652158027,
          68.73141554377516,
          68.72887895109147,
          68.72786431401799,
          68.72710333621289,
          68.72608869913941,
          68.72558138060268,
          68.72482040279758,
          68.72228381011388,
          68.71695696547813,
          68.71518135059955,
          68.71467403206282,
          68.7123910986475,
          68.71036182450054,
          68.70960084669544,
          68.70883986889034,
          68.70858620962196,
          68.70833255035359,
          68.70706425401175,
          68.70402034279132,
          68.70376668352296,
          68.70300570571784,
          68.701737409376,
          68.70123009083926,
          68.69970813522905,
          68.69894715742394,
          68.69666422400863,
          68.69514226839841,
          68.69336665351983,
          68.69311299425146,
          68.69159103864125,
          68.69159103864125,
          68.68930810522592,
          68.68423491985854,
          68.68017637156464,
          68.67789343814933,
          68.67561050473401,
          68.67510318619726,
          68.66800072668293,
          68.66622511180435,
          68.66622511180435,
          68.6649568154625,
          68.66216656351045,
          68.66140558570534,
          68.66039094863187,
          68.65531776326449,
          68.65354214838591,
          68.65354214838591,
          68.65354214838591,
          68.65303482984918,
          68.65227385204406,
          68.6520201927757,
          68.65100555570221,
          68.65075189643385,
          68.6487226222869,
          68.64846896301853,
          68.64745432594505,
          68.64288845911442,
          68.64187382204094,
          68.64162016277257,
          68.64085918496747,
          68.63756161447867,
          68.63756161447867,
          68.63629331813682,
          68.63426404398987,
          68.63096647350108,
          68.62487865106021,
          68.62310303618163,
          68.6225957176449,
          68.61498593959384,
          68.61346398398362,
          68.61346398398362,
          68.60813713934787,
          68.60636152446929,
          68.60483956885908,
          68.60458590959071,
          68.60433225032234,
          68.60433225032234,
          68.60002004276006,
          68.5997663834917,
          68.59748345007638,
          68.59418587958758,
          68.592410264709,
          68.58809805714672,
          68.5850541459263,
          68.5850541459263,
          68.57871266421708,
          68.57719070860686,
          68.5736394788497,
          68.57338581958133,
          68.57338581958133,
          68.57161020470275,
          68.5703419083609,
          68.56983458982417,
          68.56602970079864,
          68.56501506372516,
          68.56476140445679,
          68.56171749323636,
          68.56070285616289,
          68.55943455982104,
          68.55892724128431,
          68.55588333006388,
          68.5548686929904,
          68.5541077151853,
          68.55106380396487,
          68.54852721128118,
          68.54801989274445,
          68.54801989274445,
          68.54776623347607,
          68.54624427786585,
          68.54294670737707,
          68.5409174332301,
          68.540156455425,
          68.53812718127806,
          68.53761986274132,
          68.53711254420458,
          68.53508327005763,
          68.5312783810321,
          68.5287417883484,
          68.5287417883484,
          68.52671251420145,
          68.52544421785962,
          68.52442958078613,
          68.52417592151777,
          68.52240030663918,
          68.51707346200344,
          68.51504418785649,
          68.51377589151464,
          68.5132685729779,
          68.51073198029421,
          68.51022466175748,
          68.50768806907378,
          68.50641977273195,
          68.50464415785336,
          68.504390498585,
          68.49931731321762,
          68.49830267614414,
          68.48891728321449,
          68.48790264614101,
          68.47420504564909,
          68.47065381589192,
          68.46481965271944,
          68.46304403784086,
          68.46076110442554,
          68.46000012662043,
          68.45670255613163,
          68.45644889686326,
          68.45416596344795,
          68.44452691124992,
          68.44021470368766,
          68.43514151832028,
          68.43235126636822,
          68.42702442173247,
          68.42398051051205,
          68.42321953270694,
          68.42017562148651,
          68.41611707319261,
          68.41408779904566,
          68.4105365692885,
          68.40952193221501,
          68.40825363587318,
          68.40368776904253,
          68.39836092440679,
          68.3973462873333,
          68.39024382781898,
          68.38999016855061,
          68.38415600537813,
          68.3818730719628,
          68.36259496756676,
          68.35853641927287,
          68.35802910073613,
          68.35676080439428,
          68.35320957463712,
          68.35244859683202,
          68.35067298195344,
          68.34509247804931,
          68.34382418170748,
          68.34331686317073,
          68.342809544634,
          68.3362144036564,
          68.33469244804618,
          68.33443878877782,
          68.33240951463087,
          68.32784364780024,
          68.32251680316448,
          68.31871191413894,
          68.31718995852873,
          68.30755090633072,
          68.29968746901127,
          68.29664355779086,
          68.29512160218064,
          68.2864971870561,
          68.2831996165673,
          68.27482886071112,
          68.2677264011968,
          68.26671176412333,
          68.25960930460899,
          68.24540438558033,
          68.24312145216501,
          68.24007754094458,
          68.23703362972417,
          68.22917019240472,
          68.22358968850061,
          68.22333602923224,
          68.21344331776585,
          68.19974571727393,
          68.19873108020046,
          68.19061398361265,
          68.17742370165746,
          68.16220414555534,
          68.1462236116481,
          68.13937481140213,
          68.13582358164497,
          68.13480894457149,
          68.1274528257888,
          68.12567721091021,
          68.11832109212752,
          68.11071131407644,
          68.11071131407644,
          68.0987893284631,
          68.08306245382423,
          68.07646731284665,
          68.07215510528437,
          68.06911119406394,
          68.06226239381799,
          68.05820384552408,
          68.05592091210876,
          68.05160870454648,
          68.04805747478932,
          68.04399892649542,
          68.03765744478619,
          68.0303013260035,
          68.01482811063299,
          68.01381347355952,
          68.00950126599724,
          68.00569637697171,
          67.95597916037141,
          67.95166695280913,
          67.94329619695296,
          67.92528638889877,
          67.92376443328855,
          67.9120961069436,
          67.91006683279663,
          67.9014424176721,
          67.89966680279352,
          67.88241797254443,
          67.86085693473306,
          67.85882766058612,
          67.85553009009732,
          67.84462274155746,
          67.84157883033703,
          67.8263592742349,
          67.82230072594099,
          67.81139337740113,
          67.80961776252255,
          67.80454457715517,
          67.79896407325106,
          67.79668113983574,
          67.78754940617445,
          67.78044694666012,
          67.73935414518436,
          67.73428095981699,
          67.72083701859343,
          67.6901442471208,
          67.68989058785242,
          67.67898323931256,
          67.67264175760334,
          67.65031974198688,
          67.62926602271226,
          67.62470015588161,
          67.61074889612132,
          67.60237814026515,
          67.58791956196812,
          67.57472928001295,
          67.56432925000982,
          67.55773410903222,
          67.55773410903222,
          67.54708041976073,
          67.52349010780242,
          67.51486569267787,
          67.4755485060807,
          67.4560167424163,
          67.43521668241004,
          67.36469940580348,
          67.32512855993794,
          67.2764259804111,
          67.27033815797024,
          67.19271842184936,
          67.12828896768366,
          67.12651335280508,
          67.09252301084365,
          67.07806443254661,
          67.0390009052178,
          67.03240576424021,
          67.0032349483778,
          66.98344952544501,
          66.91724445640072,
          66.86093209882283,
          66.81324415636948,
          66.8056343783184,
          66.75338056903442,
          66.69656089291978,
          66.68692184072177,
          66.55704829531687,
          66.54512630970353,
          66.53041407213814,
          66.51798476798807,
          66.47004316626634,
          66.41880399405582,
          66.40282346014858,
          66.40231614161185,
          66.38582828916786,
          66.19025699325543,
          66.1709788888594,
          66.11847142030703,
          66.0591151515087,
          65.99341740100117,
          65.94851971049987,
          64.93616557043956,
          64.80553104722956,
          64.73957963745364,
          64.56531572008421,
          64.1868560916778,
          64.11709979287635,
          63.96972375795401,
          63.44667834657732,
          63.42460999022923,
          62.882540133724866,
          61.69389280214816,
          56.19253058976327,
          54.720292196150126,
          52.45841250010457
         ],
         "yaxis": "y"
        }
       ],
       "layout": {
        "coloraxis": {
         "colorbar": {
          "title": {
           "text": "price"
          }
         },
         "colorscale": [
          [
           0,
           "#0d0887"
          ],
          [
           0.1111111111111111,
           "#46039f"
          ],
          [
           0.2222222222222222,
           "#7201a8"
          ],
          [
           0.3333333333333333,
           "#9c179e"
          ],
          [
           0.4444444444444444,
           "#bd3786"
          ],
          [
           0.5555555555555556,
           "#d8576b"
          ],
          [
           0.6666666666666666,
           "#ed7953"
          ],
          [
           0.7777777777777778,
           "#fb9f3a"
          ],
          [
           0.8888888888888888,
           "#fdca26"
          ],
          [
           1,
           "#f0f921"
          ]
         ]
        },
        "legend": {
         "itemsizing": "constant",
         "tracegroupgap": 0
        },
        "margin": {
         "t": 60
        },
        "template": {
         "data": {
          "bar": [
           {
            "error_x": {
             "color": "#2a3f5f"
            },
            "error_y": {
             "color": "#2a3f5f"
            },
            "marker": {
             "line": {
              "color": "#E5ECF6",
              "width": 0.5
             },
             "pattern": {
              "fillmode": "overlay",
              "size": 10,
              "solidity": 0.2
             }
            },
            "type": "bar"
           }
          ],
          "barpolar": [
           {
            "marker": {
             "line": {
              "color": "#E5ECF6",
              "width": 0.5
             },
             "pattern": {
              "fillmode": "overlay",
              "size": 10,
              "solidity": 0.2
             }
            },
            "type": "barpolar"
           }
          ],
          "carpet": [
           {
            "aaxis": {
             "endlinecolor": "#2a3f5f",
             "gridcolor": "white",
             "linecolor": "white",
             "minorgridcolor": "white",
             "startlinecolor": "#2a3f5f"
            },
            "baxis": {
             "endlinecolor": "#2a3f5f",
             "gridcolor": "white",
             "linecolor": "white",
             "minorgridcolor": "white",
             "startlinecolor": "#2a3f5f"
            },
            "type": "carpet"
           }
          ],
          "choropleth": [
           {
            "colorbar": {
             "outlinewidth": 0,
             "ticks": ""
            },
            "type": "choropleth"
           }
          ],
          "contour": [
           {
            "colorbar": {
             "outlinewidth": 0,
             "ticks": ""
            },
            "colorscale": [
             [
              0,
              "#0d0887"
             ],
             [
              0.1111111111111111,
              "#46039f"
             ],
             [
              0.2222222222222222,
              "#7201a8"
             ],
             [
              0.3333333333333333,
              "#9c179e"
             ],
             [
              0.4444444444444444,
              "#bd3786"
             ],
             [
              0.5555555555555556,
              "#d8576b"
             ],
             [
              0.6666666666666666,
              "#ed7953"
             ],
             [
              0.7777777777777778,
              "#fb9f3a"
             ],
             [
              0.8888888888888888,
              "#fdca26"
             ],
             [
              1,
              "#f0f921"
             ]
            ],
            "type": "contour"
           }
          ],
          "contourcarpet": [
           {
            "colorbar": {
             "outlinewidth": 0,
             "ticks": ""
            },
            "type": "contourcarpet"
           }
          ],
          "heatmap": [
           {
            "colorbar": {
             "outlinewidth": 0,
             "ticks": ""
            },
            "colorscale": [
             [
              0,
              "#0d0887"
             ],
             [
              0.1111111111111111,
              "#46039f"
             ],
             [
              0.2222222222222222,
              "#7201a8"
             ],
             [
              0.3333333333333333,
              "#9c179e"
             ],
             [
              0.4444444444444444,
              "#bd3786"
             ],
             [
              0.5555555555555556,
              "#d8576b"
             ],
             [
              0.6666666666666666,
              "#ed7953"
             ],
             [
              0.7777777777777778,
              "#fb9f3a"
             ],
             [
              0.8888888888888888,
              "#fdca26"
             ],
             [
              1,
              "#f0f921"
             ]
            ],
            "type": "heatmap"
           }
          ],
          "heatmapgl": [
           {
            "colorbar": {
             "outlinewidth": 0,
             "ticks": ""
            },
            "colorscale": [
             [
              0,
              "#0d0887"
             ],
             [
              0.1111111111111111,
              "#46039f"
             ],
             [
              0.2222222222222222,
              "#7201a8"
             ],
             [
              0.3333333333333333,
              "#9c179e"
             ],
             [
              0.4444444444444444,
              "#bd3786"
             ],
             [
              0.5555555555555556,
              "#d8576b"
             ],
             [
              0.6666666666666666,
              "#ed7953"
             ],
             [
              0.7777777777777778,
              "#fb9f3a"
             ],
             [
              0.8888888888888888,
              "#fdca26"
             ],
             [
              1,
              "#f0f921"
             ]
            ],
            "type": "heatmapgl"
           }
          ],
          "histogram": [
           {
            "marker": {
             "pattern": {
              "fillmode": "overlay",
              "size": 10,
              "solidity": 0.2
             }
            },
            "type": "histogram"
           }
          ],
          "histogram2d": [
           {
            "colorbar": {
             "outlinewidth": 0,
             "ticks": ""
            },
            "colorscale": [
             [
              0,
              "#0d0887"
             ],
             [
              0.1111111111111111,
              "#46039f"
             ],
             [
              0.2222222222222222,
              "#7201a8"
             ],
             [
              0.3333333333333333,
              "#9c179e"
             ],
             [
              0.4444444444444444,
              "#bd3786"
             ],
             [
              0.5555555555555556,
              "#d8576b"
             ],
             [
              0.6666666666666666,
              "#ed7953"
             ],
             [
              0.7777777777777778,
              "#fb9f3a"
             ],
             [
              0.8888888888888888,
              "#fdca26"
             ],
             [
              1,
              "#f0f921"
             ]
            ],
            "type": "histogram2d"
           }
          ],
          "histogram2dcontour": [
           {
            "colorbar": {
             "outlinewidth": 0,
             "ticks": ""
            },
            "colorscale": [
             [
              0,
              "#0d0887"
             ],
             [
              0.1111111111111111,
              "#46039f"
             ],
             [
              0.2222222222222222,
              "#7201a8"
             ],
             [
              0.3333333333333333,
              "#9c179e"
             ],
             [
              0.4444444444444444,
              "#bd3786"
             ],
             [
              0.5555555555555556,
              "#d8576b"
             ],
             [
              0.6666666666666666,
              "#ed7953"
             ],
             [
              0.7777777777777778,
              "#fb9f3a"
             ],
             [
              0.8888888888888888,
              "#fdca26"
             ],
             [
              1,
              "#f0f921"
             ]
            ],
            "type": "histogram2dcontour"
           }
          ],
          "mesh3d": [
           {
            "colorbar": {
             "outlinewidth": 0,
             "ticks": ""
            },
            "type": "mesh3d"
           }
          ],
          "parcoords": [
           {
            "line": {
             "colorbar": {
              "outlinewidth": 0,
              "ticks": ""
             }
            },
            "type": "parcoords"
           }
          ],
          "pie": [
           {
            "automargin": true,
            "type": "pie"
           }
          ],
          "scatter": [
           {
            "marker": {
             "colorbar": {
              "outlinewidth": 0,
              "ticks": ""
             }
            },
            "type": "scatter"
           }
          ],
          "scatter3d": [
           {
            "line": {
             "colorbar": {
              "outlinewidth": 0,
              "ticks": ""
             }
            },
            "marker": {
             "colorbar": {
              "outlinewidth": 0,
              "ticks": ""
             }
            },
            "type": "scatter3d"
           }
          ],
          "scattercarpet": [
           {
            "marker": {
             "colorbar": {
              "outlinewidth": 0,
              "ticks": ""
             }
            },
            "type": "scattercarpet"
           }
          ],
          "scattergeo": [
           {
            "marker": {
             "colorbar": {
              "outlinewidth": 0,
              "ticks": ""
             }
            },
            "type": "scattergeo"
           }
          ],
          "scattergl": [
           {
            "marker": {
             "colorbar": {
              "outlinewidth": 0,
              "ticks": ""
             }
            },
            "type": "scattergl"
           }
          ],
          "scattermapbox": [
           {
            "marker": {
             "colorbar": {
              "outlinewidth": 0,
              "ticks": ""
             }
            },
            "type": "scattermapbox"
           }
          ],
          "scatterpolar": [
           {
            "marker": {
             "colorbar": {
              "outlinewidth": 0,
              "ticks": ""
             }
            },
            "type": "scatterpolar"
           }
          ],
          "scatterpolargl": [
           {
            "marker": {
             "colorbar": {
              "outlinewidth": 0,
              "ticks": ""
             }
            },
            "type": "scatterpolargl"
           }
          ],
          "scatterternary": [
           {
            "marker": {
             "colorbar": {
              "outlinewidth": 0,
              "ticks": ""
             }
            },
            "type": "scatterternary"
           }
          ],
          "surface": [
           {
            "colorbar": {
             "outlinewidth": 0,
             "ticks": ""
            },
            "colorscale": [
             [
              0,
              "#0d0887"
             ],
             [
              0.1111111111111111,
              "#46039f"
             ],
             [
              0.2222222222222222,
              "#7201a8"
             ],
             [
              0.3333333333333333,
              "#9c179e"
             ],
             [
              0.4444444444444444,
              "#bd3786"
             ],
             [
              0.5555555555555556,
              "#d8576b"
             ],
             [
              0.6666666666666666,
              "#ed7953"
             ],
             [
              0.7777777777777778,
              "#fb9f3a"
             ],
             [
              0.8888888888888888,
              "#fdca26"
             ],
             [
              1,
              "#f0f921"
             ]
            ],
            "type": "surface"
           }
          ],
          "table": [
           {
            "cells": {
             "fill": {
              "color": "#EBF0F8"
             },
             "line": {
              "color": "white"
             }
            },
            "header": {
             "fill": {
              "color": "#C8D4E3"
             },
             "line": {
              "color": "white"
             }
            },
            "type": "table"
           }
          ]
         },
         "layout": {
          "annotationdefaults": {
           "arrowcolor": "#2a3f5f",
           "arrowhead": 0,
           "arrowwidth": 1
          },
          "autotypenumbers": "strict",
          "coloraxis": {
           "colorbar": {
            "outlinewidth": 0,
            "ticks": ""
           }
          },
          "colorscale": {
           "diverging": [
            [
             0,
             "#8e0152"
            ],
            [
             0.1,
             "#c51b7d"
            ],
            [
             0.2,
             "#de77ae"
            ],
            [
             0.3,
             "#f1b6da"
            ],
            [
             0.4,
             "#fde0ef"
            ],
            [
             0.5,
             "#f7f7f7"
            ],
            [
             0.6,
             "#e6f5d0"
            ],
            [
             0.7,
             "#b8e186"
            ],
            [
             0.8,
             "#7fbc41"
            ],
            [
             0.9,
             "#4d9221"
            ],
            [
             1,
             "#276419"
            ]
           ],
           "sequential": [
            [
             0,
             "#0d0887"
            ],
            [
             0.1111111111111111,
             "#46039f"
            ],
            [
             0.2222222222222222,
             "#7201a8"
            ],
            [
             0.3333333333333333,
             "#9c179e"
            ],
            [
             0.4444444444444444,
             "#bd3786"
            ],
            [
             0.5555555555555556,
             "#d8576b"
            ],
            [
             0.6666666666666666,
             "#ed7953"
            ],
            [
             0.7777777777777778,
             "#fb9f3a"
            ],
            [
             0.8888888888888888,
             "#fdca26"
            ],
            [
             1,
             "#f0f921"
            ]
           ],
           "sequentialminus": [
            [
             0,
             "#0d0887"
            ],
            [
             0.1111111111111111,
             "#46039f"
            ],
            [
             0.2222222222222222,
             "#7201a8"
            ],
            [
             0.3333333333333333,
             "#9c179e"
            ],
            [
             0.4444444444444444,
             "#bd3786"
            ],
            [
             0.5555555555555556,
             "#d8576b"
            ],
            [
             0.6666666666666666,
             "#ed7953"
            ],
            [
             0.7777777777777778,
             "#fb9f3a"
            ],
            [
             0.8888888888888888,
             "#fdca26"
            ],
            [
             1,
             "#f0f921"
            ]
           ]
          },
          "colorway": [
           "#636efa",
           "#EF553B",
           "#00cc96",
           "#ab63fa",
           "#FFA15A",
           "#19d3f3",
           "#FF6692",
           "#B6E880",
           "#FF97FF",
           "#FECB52"
          ],
          "font": {
           "color": "#2a3f5f"
          },
          "geo": {
           "bgcolor": "white",
           "lakecolor": "white",
           "landcolor": "#E5ECF6",
           "showlakes": true,
           "showland": true,
           "subunitcolor": "white"
          },
          "hoverlabel": {
           "align": "left"
          },
          "hovermode": "closest",
          "mapbox": {
           "style": "light"
          },
          "paper_bgcolor": "white",
          "plot_bgcolor": "#E5ECF6",
          "polar": {
           "angularaxis": {
            "gridcolor": "white",
            "linecolor": "white",
            "ticks": ""
           },
           "bgcolor": "#E5ECF6",
           "radialaxis": {
            "gridcolor": "white",
            "linecolor": "white",
            "ticks": ""
           }
          },
          "scene": {
           "xaxis": {
            "backgroundcolor": "#E5ECF6",
            "gridcolor": "white",
            "gridwidth": 2,
            "linecolor": "white",
            "showbackground": true,
            "ticks": "",
            "zerolinecolor": "white"
           },
           "yaxis": {
            "backgroundcolor": "#E5ECF6",
            "gridcolor": "white",
            "gridwidth": 2,
            "linecolor": "white",
            "showbackground": true,
            "ticks": "",
            "zerolinecolor": "white"
           },
           "zaxis": {
            "backgroundcolor": "#E5ECF6",
            "gridcolor": "white",
            "gridwidth": 2,
            "linecolor": "white",
            "showbackground": true,
            "ticks": "",
            "zerolinecolor": "white"
           }
          },
          "shapedefaults": {
           "line": {
            "color": "#2a3f5f"
           }
          },
          "ternary": {
           "aaxis": {
            "gridcolor": "white",
            "linecolor": "white",
            "ticks": ""
           },
           "baxis": {
            "gridcolor": "white",
            "linecolor": "white",
            "ticks": ""
           },
           "bgcolor": "#E5ECF6",
           "caxis": {
            "gridcolor": "white",
            "linecolor": "white",
            "ticks": ""
           }
          },
          "title": {
           "x": 0.05
          },
          "xaxis": {
           "automargin": true,
           "gridcolor": "white",
           "linecolor": "white",
           "ticks": "",
           "title": {
            "standoff": 15
           },
           "zerolinecolor": "white",
           "zerolinewidth": 2
          },
          "yaxis": {
           "automargin": true,
           "gridcolor": "white",
           "linecolor": "white",
           "ticks": "",
           "title": {
            "standoff": 15
           },
           "zerolinecolor": "white",
           "zerolinewidth": 2
          }
         }
        },
        "title": {
         "text": "Relação Preço/Popularidade para os Cursos da Área Financeira Empresarial<br><sup>Bolhas representam a nota do curso pelos usuários</sup>"
        },
        "xaxis": {
         "anchor": "y",
         "domain": [
          0,
          1
         ],
         "title": {
          "text": "Número de Alunos Inscritos"
         }
        },
        "yaxis": {
         "anchor": "x",
         "domain": [
          0,
          1
         ],
         "title": {
          "text": "Preço (dólares)"
         }
        }
       }
      },
      "text/html": [
       "<div>                            <div id=\"57e08a4c-9861-4595-8ecb-18068596e836\" class=\"plotly-graph-div\" style=\"height:525px; width:100%;\"></div>            <script type=\"text/javascript\">                require([\"plotly\"], function(Plotly) {                    window.PLOTLYENV=window.PLOTLYENV || {};                                    if (document.getElementById(\"57e08a4c-9861-4595-8ecb-18068596e836\")) {                    Plotly.newPlot(                        \"57e08a4c-9861-4595-8ecb-18068596e836\",                        [{\"customdata\":[[\"Bitcoin or How I Learned to Stop Worrying and Love Crypto\"],[\"Accounting in 60 Minutes - A Brief Introduction\"],[\"Stock Market Investing for Beginners\"],[\"Introduction to Financial Modeling\"],[\"The Complete Financial Analyst Course 2017\"],[\"Forex Basics\"],[\"Beginner to Pro in Excel: Financial Modeling and Valuation\"],[\"Black Algo Trading: Build Your Trading Robot\"],[\"Financial Analysis: A Recipe for Success\"],[\"Stock Market Foundations\"],[\"Financial Accounting - A Brief Introduction\"],[\"Fundamentals of Forex Trading\"],[\"Forex Trading A-Z\\u2122 - With LIVE Examples of Forex Trading\"],[\"Learn to Trade for Profit:Trading with Japanese Candlesticks\"],[\"Options Trading Introduction: Day Trade Stock Options\"],[\"Introduction to Digital Payments\"],[\"Introduction to Accounting: The Language of Business\"],[\"Corporate Finance - A Brief Introduction\"],[\"CPA 101: How To Master Affiliate Marketing In No Time\"],[\"Introduction to Finance, Accounting, Modeling and Valuation\"],[\"Bitcoin For Beginners: Your Quick Start Guide To Bitcoin\"],[\"Learn to Trade for Profit: Find and Trade Winning Stocks\"],[\"Forex Robots: Expect To Earn 175% P.A. Forex Robot Included!\"],[\"Beginners Binary Options Course\"],[\"Finance - Ratios Analysis & Interpretations\"],[\"Create A Business From Home Trading Stocks Today In 2017\"],[\"Options Trading Basics (3-Course Bundle)\"],[\"Accounting & Financial Statement Analysis: Complete Training\"],[\"Improve Your Financial Literacy\"],[\"Forex Trading For Beginners\"],[\"Stock Trading Ninja: Complete System For Trading Success\"],[\"Trading Penny Stocks: A Guide for All Levels In 2017\"],[\"How to Pick The Right Penny Stocks To Invest In 2017\"],[\"Hedge Fund Trading System\"],[\"The Complete Bitcoin Course: Get .001 Bitcoin In Your Wallet\"],[\"The Complete Investment Banking Course 2017\"],[\"Dividend Investing: Build Your Portfolio for a Better Future\"],[\"The Advanced Forex Course for Smart Traders\"],[\"Excel Crash Course: Master Excel for Financial Analysis\"],[\"Financial Statements Made Easy\"],[\"Algorithmic Trading In Forex: Create Your First Forex Robot!\"],[\"Options Trading Stocks: Proven Toolbox For Financial Success\"],[\"How To Start Trading Penny Stocks In 10 Easy Steps 2017\"],[\"Basic Excel for Basic Bookkeeping and Accounting\"],[\"Options Trading - How to Win with Weekly Options\"],[\"\\u3010\\uff11\\u65e5\\u3067\\u30de\\u30b9\\u30bf\\u30fc\\uff01\\u3011\\u4eca\\u65e5\\u304b\\u3089\\u306f\\u3058\\u3081\\u308b\\u8cc7\\u7523\\u5f62\\u6210\"],[\"Get Started With Penny Stocks -Step by Step Guide to Trading\"],[\"Learn to Trade the Stock Market without Blowing Your Profits\"],[\"Website Investing 101 - Buying & Selling Online Businesses\"],[\"Use Crowdfunding Effectively With Indiegogo and Kickstarter\"],[\"Elite Trend Trader: Learn To Trade Stocks, Options & Forex\"],[\"Foundation of Options Trading and Investing\"],[\"Four Fundamentals of Financial Planning\"],[\"The Beginner's Guide to the Futures and Options Trading\"],[\"Option Trading for Rookies: The Covered Call Option Strategy\"],[\"Forex Basics (Professional Course Level)\"],[\"Shark Accounting - Building a Business by the Numbers!\"],[\"Como Investir em A\\u00e7\\u00f5es para Iniciantes\"],[\"Monatlich Geld anlegen f\\u00fcr sp\\u00e4ter!\"],[\"Introductory Forex Trading Course\"],[\"Binary Options Course - Level 2\"],[\"Basic Bookkeeping Hacks\"],[\"Beginner to Pro in PowerPoint: Complete PowerPoint Training\"],[\"How I Trade Forex Successfully\"],[\"FastTrack to Stock Trading Strategies\"],[\"Silver, Gold, and Inflation\"],[\"Learn Accounting. Understand Business.\"],[\"Day Trading Market Structure Signals\"],[\"Forex Strategies: Kelly Criterion, Larry Williams and more!\"],[\"Learn to Trade Forex Naked Price Action Big Shadow Trade\"],[\"7 Deadly Mistakes of Investing that Will Slash Your Profits!\"],[\"Investing 101: The Complete Online Investing Course\"],[\"Options Trading 3 : Advanced Stock Profit and Success Method\"],[\"Learn How to Trade Binary Options Professionally\"],[\"Statistics - Measures of Dispersion for CA / CS / CFA exams\"],[\"Small Business Owners: Drive a Productive Business and Grow\"],[\"Trading for Beginners - Entry Level\"],[\"Financial Model Basics: Build a model from start to finish\"],[\"How to Win 97% of Your Options Trades\"],[\"Crash Course on Cost of Capital and Capital Structuring\"],[\"Financial Modeling for Startups & Small Businesses\"],[\"Budgeting Hacks to Build Wealth!\"],[\"Basic Technical Analysis: Learn the structure of the market\"],[\"Gu\\u00eda pr\\u00e1ctica para comprar acciones en la Bolsa de USA\"],[\"Futures/Commodity Training (Basics)\"],[\"Basics of Business Finance\"],[\"Introduction to Equity Markets\"],[\"Professional Trader's Mindset - Complete Forex Course\"],[\"Business finances\"],[\"Accounting: Get Hired Without Work Experience\"],[\"Build a DCF Model from Scratch\"],[\"Investment Crowdfunding 101 (a.k.a Equity Crowdfunding)\"],[\"Hands-on Financial Modeling (With 6 Excel Templates)\"],[\"EFT for Stock Options Trading Success & Making Better Trades\"],[\"Practical Finance\"],[\"Capital Structuring Techiques for CA / CFA / CPA Exams\"],[\"Forex Trading Secrets of the Pros With Amazon's AWS\"],[\"IAS 12 - Accounting for Income Taxes (Basics)\"],[\"VPS for Forex Trading - Protect Your Forex Robots\"],[\"Introduction to the CFA Program\"],[\"Comprehensive Guide to Financial Markets, Investing &Trading\"],[\"Finance for Non-Finance: Learn Quick and Easy\"],[\"Trading for everyone - The Independent Investor Course I\"],[\"TechniTrader Leading Hybrid Indicator Trading\"],[\"Mergers and Acquisitions M&A Essentials You Need to Know\"],[\"Accounting Basics in 66 Minutes (absolutely for beginners)\"],[\"Trading Options For Consistent Returns: Options Basics\"],[\"Forex Trading Course: Work Smarter Not Harder Proven Results\"],[\"Accounting Made Easy 2\"],[\"Elliott Wave -Forex Trading With The Elliott Wave Theory\"],[\"Create Your Own Hedge Fund: Trade Stocks Like A Fund Manager\"],[\"Trading for Beginners - Intermediate Level\"],[\"The Holy Grail of Auto Trading Forex Futures Stocks Revealed\"],[\"Accounting Is Easy (for Beginners)\"],[\"How to Create Your Personal Budget\"],[\"\\u226a\\u864e\\u306e\\u5dfb\\u226b\\u8a3c\\u5238\\u53d6\\u5f15\\u306e\\u300c\\u7a0e\\u91d1\\u306e\\u304a\\u60a9\\u307f\\u300d\\u89e3\\u6d88\"],[\"Python for Finance: Investment Fundamentals & Data Analytics\"],[\"Value Investing, Taught by Six Superinvestors\"],[\"Introduction to Cryptocurrencies and Blockchain\"],[\"Auditing Basics (Professional Course Level)\"],[\"Binary, Forex, Stock and Bitcoin Trading Strategy\"],[\"Cost Accounting Crash Course\"],[\"MCA Accountancy and Financial Management -Paper MCS 35 IGNOU\"],[\"Financial Management Risk and Return For Securities\"],[\"Technical Analysis tools for Stocks and Options trading\"],[\"Forex Trading MAKE YOUR FIRST TRADE TODAY!\"],[\"Bitcoin for Accountants\"],[\"Apply finance concepts for smart project management\"],[\"Demystifying Your Personal Tax Return\"],[\"Business Economics - Basics (College Level)\"],[\"Learn to Raise the Funds You Need via Crowdfunding\"],[\"The Art Of Financial Valuation With Certificate\"],[\"Startup Business: How To Raise Seed Capital\"],[\"Master 'Technical Analysis and Chart reading skills Bundle\\\"\"],[\"Trade Recap I - A Real Look at Futures Options Markets\"],[\"Beginners Guide to Stock Market Investing\"],[\"Hedge and Mutual Fund Careers: The Complete Guide\"],[\"Introduction to Bookkeeping (Accounting)\"],[\"Forex Trading - Learn to Trade Forex Like the Banks\"],[\"Start Trading Stocks Using Technical Analysis!\"],[\"Crash Course on Working Capital Management\"],[\"Stock market Investing Encyclopedia: How to invest in stocks\"],[\"Forex & Financial Market Trading Tutorial- Online Strategies\"],[\"Fundamentals of Investing!\"],[\"Leasing - A Comprehensive Study (Professional Course Level)\"],[\"Accounting and Finance for Bankers - A Comprehensive Study\"],[\"Accounting 101: How to read an Accounting Balance Sheet\"],[\"Multiply your returns using 'Value Investing\\\",https://www.udemy.com/multiply-your-returns-using-value-investing/,true,20,1942,19,63,All Levels,4.5 hours,2015-07-23T00:08:33Z\\n874284,Weekly Forex Analysis by Baraq FX\\\"\"],[\"Succeed in Futures Even if You Don't Know Where to Start\"],[\"Trading Inside Bars - Master 1 Easy Pattern To Be Successful\"],[\"Stock Options Day Trading Mindset for Success\"],[\"Cash Flow Valuation: Develop Your Financial Literacy\"],[\"Work From Home Online (Part/Full) : Trade Forex 4 Beginners\"],[\"Forex: What's a Trend and When it is Strong and Reliable\"],[\"CAIIB Advanced Bank Management (Part I)\"],[\"What Finance Job is for You? Explanation of 14 Finance Roles\"],[\"B Com Accountancy I (Paper ECO 02 IGNOU)\"],[\"Accounting for Deferred Taxes (Professional Course Level)\"],[\"Trading Stock Chart Patterns For Immediate, Explosive Gains\"],[\"Cashflow Management for Small Businesses: A How To Guide\"],[\"Learn how to double your Forex Trading Account in one trade\"],[\"Adventure Capital: How to pay off debt\"],[\"Option Trading for Rookies: Understand Options Completely\"],[\"Learn MQL5: Build an 8-Currency Hedging Robot (MetaTrader 5)\"],[\"Learn Basic Concepts of Economics Step by Step - Complete\"],[\"Complete GST Course & Certification - Grow Your CA Practice\"],[\"Forex - Elliott Wave Theory with Fibonacci.\"],[\"Introduction to Value Growth Investing\"],[\"C\\u00f3mo ganar dinero invirtiendo en bolsa\"],[\"Project Funding Modelling (for Professionals)\"],[\"[Value Investing] Where White People Keep Their Money\"],[\"The Blueprint for Successful Stock Trading\"],[\"Trading Economic Indicators - Complete Trading System\"],[\"Technical Analysis 101: Master the Basics of Trading\"],[\"IAS 1-Presentation of Financial Statements\"],[\"The Complete Chart Pattern Trading Course: A Proven Approach\"],[\"Financial Management Capital Market Instruments\"],[\"Excel 4 Accounting & Bookkeeping - Master Lookup Functions\"],[\"Learn How to Start Small and Make It Big In Small-Cap Stocks\"],[\"Introduction to bookkeeping and Accounting\"],[\"Forex MetaTrader 4: Master MT4 Like A Pro Forex Trader\"],[\"Financial Accounting: The Complete Introductory Crash Course\"],[\"IAS 18 - Revenue\"],[\"Succeed in Stocks Even if you Don't Know Where to Start\"],[\"Basics of Economics (College Level)\"],[\"The Complete Ethereum Course: Get .01 Ether In Your Wallet\"],[\"QuickBooks 2015 Training for Newbies\"],[\"Learn How To Successfully Trade Stocks: In 5 Simple Steps\"],[\"Accounting 1 Simplified for You\"],[\"Free Options 101 - Basic of Call and Put Options in 1 Hours\"],[\"CFA Corporate Finance Level 2\"],[\"Beginner to Pro - Financial Analysis in Excel 2017\"],[\"Save on Your Taxes\"],[\"Cost Accounting Overheads (Professional Course Level)\"],[\"Forex Trading: Comprehensive & Concise Forex Trading Course\"],[\"Working Capital Management for CA / CFA / CPA Exams\"],[\"Business Analysis: Working with Use Cases\"],[\"Live Account - ETF Trading System - Hacking The Stock Market\"],[\"Financial modeling: Build a forward looking financial model\"],[\"How I Make Consistent Returns Trading Options\"],[\"Option Trading - How To Earn If You Can't Predict The Market\"],[\"Forex Traders - Create Your First Trading Robot. No Coding!\"],[\"Basics of Business Statistics (College Level)\"],[\"Excel functions to analyze and visualize data\"],[\"Bitcoin - The Complete Guide\"],[\"Short Selling: Learn To Sell Stocks Before The Fall\"],[\"Risk Analysis - Capital Budgeting for CA / CS / CFA exams\"],[\"IAS37 - Provisions, Contingents Liabilities & Assets\"],[\"Financial Modeling: Build a Complete DCF Valuation Model\"],[\"Forex Rate -Why it fluctuates -for CA / CMA / CS / CFA Exams\"],[\"Risk in Forex Transactions - for CA / CS / CFA exams\"],[\"Charting for Beginners 101: Technical Analysis Demystified\"],[\"Accounting Standards Basics (Professional Course Level)\"],[\"High-Frequency Trading #1: Basics, History & Strategies\"],[\"Option Spreads and Credit Spreads Bundle\"],[\"Basics of Commerce A Complete Study\"],[\"Accounting Bank Reconciliation Statement (College Level)\"],[\"QuickBooks Online: Complete Guide & Certification tips\"],[\"Sensitivity & Scenario Analysis for CA / CFA / CPA Exams\"],[\"How to Become a Financial Analyst from Scratch!\"],[\"Financial Modeling for Business Analysts and Consultants\"],[\"IAS 16-Property,Plant and Equipment\"],[\"Stock Market Leverage: How to Start Trading Options Wisely\"],[\"Ultimate Investment Banking Course\"],[\"IAS 10 - Events After Reporting Date\"],[\"The Complete Value Investing Course: A Proven Approach\"],[\"Beginners Forex strategy\"],[\"Using 'The Greeks To Understand Options\\\"\"],[\"IAS 8-Accounting Policies ,Changes in Accounting Estimates\"],[\"Interpreting financial statements\"],[\"The Ultimate Guide to Dividend & Dividend Growth Investing\"],[\"High performance Stock Trading using key Options techniques\"],[\"WE WILL PAY YOU TO TRADE WITH US\"],[\"Forex Trading Secrets |MT4 Robot (EA) inside, no coding\"],[\"Build A Career In Forex Trading- Learn Fundamental Analysis\"],[\"Introduction to Corporate Finance (Mergers & Acquisitions)\"],[\"\\u0e2a\\u0e2d\\u0e19\\u0e40\\u0e17\\u0e23\\u0e14\\u0e44\\u0e1a\\u0e19\\u0e32\\u0e23\\u0e35\\u0e48 \\u0e2d\\u0e4a\\u0e2d\\u0e1f\\u0e0a\\u0e31\\u0e48\\u0e19\\u0e2d\\u0e22\\u0e48\\u0e32\\u0e07\\u0e07\\u0e48\\u0e32\\u0e22\"],[\"How To Set Up A Limited Company In The UK\"],[\"Practical Accounts & Bookkeeping Automated Overview\"],[\"IFRIC 13-Customer Loyalty Programmes (Revenue)\"],[\"Build a DCF Valuation Model\"],[\"Stock Market: The Zero Risk Way of Investing\"],[\"Financial Management - Ratio Analysis\"],[\"Financial Management Budgeting Techniques\"],[\"Accounting 101: Guide to Business Accounting\"],[\"Collection of Advanced Options concepts for Options traders\"],[\"Investing: How I Consistently Beat The Stock Market\"],[\"Intermediate Options trading concepts for Stocks and Options\"],[\"Financial Planning & Analysis: Building a Company's Budget\"],[\"Accounting for Beginners : Learn Basics in under 1 Hour\"],[\"Advanced Excel functions\"],[\"Learn the basics of preparing accounting statements\"],[\"Basics of Economics For Beginners A to Z - A Complete Course\"],[\"Financial Management - A Complete Study\"],[\"Learn to Trade The News\"],[\"Accounting Basics by Hector Garcia, CPA\"],[\"Cost Accounting Marginal Costing Theory and Practice\"],[\"Intro to Investment Banking, M&A, IPO, Modeling + Free Book\"],[\"Introduction to Accounting : Mastering Financial Statements\"],[\"Stock Market Option Trading: How Sell Options For Premium\"],[\"Accounting Standard 3 - An Analysis\"],[\"The Tax Advantaged Investor: A Guide to Legal Tax Reduction!\"],[\"How to Build a Massive Stock Portfolio from Zero!\"],[\"Transfer Pricing A Complete Analysis\"],[\"Financial analysis: Compare performance of companies\"],[\"THE Forex Robot: Incredible ROI (Robot Included)\"],[\"MetaTrader4 Platform Training\"],[\"Succeed in Forex Even if You Don't Know Where to Start!\"],[\"Introducci\\u00f3n a las Finanzas\"],[\"Introductory Financial Accounting\"],[\"The Almost Perfect Options Trading Strategy System - Unique\"],[\"Forex for Beginners: Easy Forex Trading for Beginners\"],[\"Cost Accounting Basics (Professional Course Level)\"],[\"Forex Trading vs Option Trading\"],[\"First Steps to Trading the Forexmarkets : Technical Analysis\"],[\"Forex Trading - Advanced Fundamental Analysis\"],[\"Trading strategies with common sense technical analysis\"],[\"Algorithmic Trading in MATLAB: WFAToolbox App GUI (Finance)\"],[\"Technical Analysis 101: Ten Primary Candlestick Reversals\"],[\"Portfolio Management for CA / CS / CFA exams\"],[\"How To Profit From Stock Market Volatility\"],[\"Become A Forex Trader - Forex trading like a professional\"],[\"High-Frequency Trading #2: Market Structure & Instruments\"],[\"Accounting 101: Learn Business Finance Forecasting in 60mins\"],[\"Technical Analysis 101: How to Profit During Market Crashes\"],[\"CurrencyFair - Avoid Bank Charges when converting currencies\"],[\"Binary Options: Trading Strategies, 90% Accuracy and Signals\"],[\"Tax Strategy: Financial Planning for Beginners\"],[\"Forex Trading using professional indicators by TOP traders\"],[\"Optimizing investment to maximise your return\"],[\"Forex Trading For Beginners: Technical Trading\"],[\"How to Trade Binary Options Effectively \\u2013 All Levels\"],[\"The Power Modeling Bootcamp: Advanced Excel in 10 Days\"],[\"Invierte en la Bolsa Mexicana y de USA\"],[\"Learn to Trade Forex and Stocks: From Beginner to Advanced\"],[\"How to Invest in Stocks + Billionaire Investing Tips\"],[\"The Complete Forex Trader\"],[\"How to Invest in Startups - Expert Reveals Winning Secrets.\"],[\"Build Financial Models & Value Companies The Easy Way\"],[\"Basics of investing in Mutual Funds\"],[\"Stock Options Trades Using Interactive Brokers\"],[\"How I Learned Stock Trading (and How You Can Too)\"],[\"Trading Binary Options for Fun and Profit\"],[\"Introducci\\u00f3n al trading de opciones\"],[\"Venture Capital. What is it and Why it Matters to You!\"],[\"Fundamentals of Accounting\"],[\"NPV and IRR Techniques for CA / CFA / CPA Exams\"],[\"Understand Banks & Financial Markets\"],[\"Cost Accounting Labour Costing (Professional Course Level)\"],[\"Investing And Trading For Beginners: Mastering Price Charts\"],[\"Advanced Accounting A Complete Study for CA / CMA / CFA / CS\"],[\"Certificate Program In Management Accounting\"],[\"The Actuarial Profession: Basic Sciences and Principles\"],[\"Ultimate Stock Market Investing: Learn How to Value Stocks\"],[\"Options Trading 101: The Basics\"],[\"Trend Traders Club: How To Find And Trade Fast Moving Trends\"],[\"Algorithmic futures trading - Investing with no experience\"],[\"Valuation of Goodwill for CA / CFA / CMA Exams\"],[\"How to Start Investing: Made Simple and Easy\"],[\"How to Build a Massive Retirement Plan from Scratch!\"],[\"TRADING MARKET MAP\"],[\"The Most Powerful Options Spread Trading Front Ratio Spread\"],[\"Introduction to Financial Statement Analysis\"],[\"Learn How to Play CashFlow Game\"],[\"Interpreting Financial Statements\"],[\"Accounting 2 Simplified for You\"],[\"SAP FICO For Beginners - A Guide to SAP Financial Accounts\"],[\"Take Control By Learning The Stock Market Now\"],[\"Accounting Superpowers: Learn Accounts, Understand Business!\"],[\"How to Consistently Win Trading Stocks in 30 Days or Less\"],[\"Forex Trading - Learn to Trade From Scratch!\"],[\"Get Acquired: Learn From The Head Of Acquisitions For eBay\"],[\"Learn How to Set Up an Incubator Hedge Fund - Step-by-Step\"],[\"TRADING TRUTHS\"],[\"Essentials of Finance and Investment in 2 hours\"],[\"Option Trading: How to Adjust Delta-Neutral Strangles!\"],[\"CFA: Fast Track your career in Finance\"],[\"Trading Options With Money Flow\"],[\"Financial Statements Basics\"],[\"Financial modeling: Build a DCF equity valuation model\"],[\"MQL4 Programming for Traders: Build Robust Trading Robots!\"],[\"Surviving Introduction to Finance\"],[\"Practical Accounts APP Overview\"],[\"Options Trading Essentials: The ULTIMATE Guides\"],[\"MBA Accounting and Finance for Managers(Paper MS04 of IGNOU)\"],[\"Master Iron Condors - Double the credit for half the risk\"],[\"Financial Modeling in Excel for Startups\"],[\"The Complete Guide to Forex Trading\"],[\"How to start a successful career in finance?\"],[\"Forex SOS Course: Trading Tweaks And Working Forex Strategy\"],[\"The Complete Position Trading Course: Position Trading Stock\"],[\"Accounting for School Students\"],[\"Trading: Basics of Trading for Beginners\"],[\"Forex Prep Academy for Beginners-Real trades!\"],[\"Small Biz Doers' Guide to Small Biz Accounting + Bookkeeping\"],[\"Gest\\u00e3o Financeira Para Pequenas e M\\u00e9dias Empresas\"],[\"Accounting 102: Guide to Business Accounting\"],[\"Curso de Day Trader para Iniciantes\"],[\"MQL4 Tutorial Bootcamp - Trading Robot Coding in Metatrader4\"],[\"How To Maximize Your Profits Trading Options\"],[\"Option selling trading as income source. Beginners friendly\"],[\"Advanced Stock Options for Serious Equity Investors!\"],[\"Bookkeeping Made Easy\"],[\"Advanced Accounting for Investment Banking\"],[\"Debt Collection Management: Get Paid On Time EVERY TIME!\"],[\"Media Training for Financial Service Professionals\"],[\"Advanced Options Trading Course\"],[\"How to Trade Commodity and Financial Futures for a Living!\"],[\"How To Invest With Tiny Capital In Stocks ?\"],[\"Financial Statements Analysis: Learn to Invest Like a Pro!\"],[\"Introducci\\u00f3n a la Contabilidad\"],[\"CryptoArbitrager: Bitcoin Trading Robot (no mining)\"],[\"Financial Ratios Using Excel\"],[\"Accounting Department's Tips & Tricks - Beginner to Advanced\"],[\"Investment Banking: How to Land a Job on Wall Street\"],[\"Trading Options For Consistent Returns: Calendar Spreads\"],[\"No Bull Investing: Investing 101 For Financial Freedom\"],[\"Trend Following Stocks: A Complete Trading System\"],[\"Succeed in Lotto Even if You Don't Know Where to Start!\"],[\"FOREX : Learn Technical Analysis\"],[\"Three Steps Trading - Live Trading - Real Account\"],[\"Get out of Debt - The Power of Using Compounding Interest\"],[\"Learn about it\"],[\"CFP - Introduction to Financial Planning\"],[\"A Value Investing Approach to the Stock Market\"],[\"Tradeonomics - Four Steps to Mastering Economic Indicators\"],[\"Finding an Unlimited Amount of Investors\"],[\"Trading News Using Binary Options\"],[\"Mastering Futures Options for Beginners - Your Top 5 Plays!\"],[\"Fund Flow Analysis for CA / CFA / CPA Exams\"],[\"Ultimate Retirement: Build Your Own Dynamic Retirement Plan\"],[\"The Securities Trade Lifecycle\"],[\"Building Financial Statements in Excel\"],[\"Finance and Accounting for Startups\"],[\"Invest Like a Pro!\"],[\"How to Become an Accountant from scratch!\"],[\"Business Accounting Made Easy\"],[\"Studying the CFA Program exams (Mandarin language version)\"],[\"Forex Killing Divergence - How to trade with precision\"],[\"Python Algo Stock Trading: Automate Your Trading!\"],[\"Double your Forex Account using the MAGIC MA trading robot\"],[\"How to become a successful day trader\"],[\"Investing in stocks: Avoid stock market loss\"],[\"Awaken the Accountant in You | Master the Accounting Basics\"],[\"Learn To Invest In Index Funds and ETFs In 7 Easy Steps\"],[\"Accounting Basics - A Complete Study\"],[\"Trading Robot Forex Programs in Your Sleep in Live Examples!\"],[\"IPO Fundamentals\"],[\"The Binary Institute - Introductory Course in Binary Options\"],[\"Stock Market investment: Practical Accounting\"],[\"Bulletproof Personal Finance: Expert Asset Allocation\"],[\"build a solid foundation for trading options\"],[\"Succeed in Bonds Even if You Don't Know Where to Start\"],[\"Options Trading - Calendar Spread Course for Every Trader\"],[\"How to Fund your Million Dollar Idea: Equity, Debt, Unfund\"],[\"Learn to Pick the Right Stock Broker Account\"],[\"Investing Internationally into Real Estate, Stocks and Bonds\"],[\"Use the Magic Multiple Moving Average Forex Trading system\"],[\"Profitable binary option trading strategy\"],[\"Investing in Stocks? Master The Art of Covered Calls Selling\"],[\"Trading Seasonal Price Patterns in Stocks, Futures, & Forex!\"],[\"Financial Modeling - Build Your Own 3 Statement Projection\"],[\"Stock Market investment:Non financial fundamental analysis\"],[\"Learn Wave accounting to maintain books properly\"],[\"Complete Trading Plan Course for Stocks & Forex (10 Hours)\"],[\"Forex Scam: Avoid the scam today\"],[\"Financial Modeling 101\"],[\"Penny Stocks King: How 2 really Trade Penny Stocks (6 Hours)\"],[\"Bank Financial Management A Comprehensive Study\"],[\"Your First Successful Forex Trades - With Case Studies\"],[\"Intro to Financial Modeling\"],[\"7 Steps: Your Introduction to Trading\"],[\"1. Principles of Simple Interest\"],[\"Corporate Finance 101: Equity Valuation\"],[\"Mental Models For Wall Street - Become A Better Trader\"],[\"Grundlagen der finanziellen Unabh\\u00e4ngigkeit\"],[\"Emini ES Futures - Advanced Non Directional Options Trading\"],[\"Quantitative Aptitude for Banking & Competitive Examinations\"],[\"How to Read a Balance Sheet\"],[\"Simple things you must know before start FOREX (OFFER)\"],[\"Situational Trading: Proven Option Strategy for any Scenario\"],[\"RSI, Options Trading & Technical Analysis (3 Course Bundle)\"],[\"Certificate Program in Financial Accounting\"],[\"Learn About Trading Options from a real wallstreet trader\"],[\"Revealed: Profitable Principles of Successful Traders\"],[\"Basics of Mutual Funds for CA / CMA / CS / CFA Exams\"],[\"Developing A Trading Strategy: Your Guide to Trading Success\"],[\"The Complete Short Course on Ethereum\"],[\"Trading Strategies: Find The Trading Strategy That Fits You\"],[\"Tax Accounting: Difficult Topic, Made Easy to Understand\"],[\"Penny Stocks Value & Chart Pattern Trading (2 Course Bundle)\"],[\"Build a Trading Comps Valuation Model\"],[\"Mastering High Probability Iron Condor Options Trading\"],[\"How to be a Profitable Forex Trader\"],[\"61% Profit In 1 Month - Crush Your Forex Trading Paradigm\"],[\"Forex Trading: Your Complete Guide to Get Started Like a Pro\"],[\"Chart Patterns Trading Demystified\"],[\"Learn Call Options and Put Options - Introduction to Options\"],[\"Tape Reading: Learn how to read the tape for day trading\"],[\"Economics: Competition, Elasticity, a little Game Theory\"],[\"An Intro into Trading the Financial Markets\"],[\"Leaps Options Trading System - Diagonal Leaps Options Spread\"],[\"Forex Trading for Beginners - Basics\"],[\"Learn How to Trade The Stock Market\"],[\"MQL5 Tutorial Bootcamp\"],[\"TRADING PSYCHOLOGY: Trading Mindset Mastery\"],[\"Direction-Independ Trading - Elite Forex Traders Strategy\"],[\"Advanced Options Concepts - Probability, Greeks, Simulation\"],[\"Corporate Finance 101: Financial Statement Analysis & Ratios\"],[\"Preparation of Consolidated Financial Statements (Basic)\"],[\"Forex: Learn to Trade Forex and FX Consistently\"],[\"\\u30c8\\u30ec\\u30fc\\u30c7\\u30a3\\u30f3\\u30b0\\u30d3\\u30e5\\u30fc\\u5fb9\\u5e95\\u653b\\u75652017\\u5e74\\u7248\"],[\"TRADING TACTICS\"],[\"Finance for Non Finance Executives\"],[\"Naked Put Options Trade Covered Call & Poor Man Covered Call\"],[\"A Beginner's Guide to Quantopian Futures API\"],[\"Binary Beginners Mastery Strategy.\"],[\"Public Speaking: You Can Give Great Financial Presentations\"],[\"Candlestick Analysis For Professional Traders\"],[\"The Complete Financial Statement Analysis Course\"],[\"Technical Analysis 101: Secrets of Trading Revealed\"],[\"Accounting Books of Accounts (College Level)\"],[\"Non Directional Weekly Options Trading System - ETF & Emini\"],[\"Banking Credit Analysis Process (for Bankers)\"],[\"Seeing the Big Picture: Understanding Financial Statements\"],[\"Accounting for CA CPT Exams Part I\"],[\"Investing In Stocks With 10 Simple Rules\"],[\"Successful Day Trading with Fibonacci\"],[\"\\u81ea\\u5206\\u306b\\u5408\\u3063\\u305f\\u6295\\u8cc7\\u4fe1\\u8a17\\u3092\\u898b\\u3064\\u3051\\u3088\\u3046\\uff01\"],[\"Bookkeeping Basics: Understand the Fundamentals\"],[\"Financial Accounting, its Cycle, Statements & Analysis\"],[\"Raise Your Credit Score to 800 Or More....\"],[\"Excel Dashboard - Interactive Excel Dashboard and Charts\"],[\"Learn to Reliably Invest In The Stock Market\"],[\"Straddle Options Trading - Profit in Any Market Direction\"],[\"Analysis of Company Financial Statements\"],[\"CFA\\u00ae Level 1 2014 \\u2013 Alternative Investments\"],[\"A Beginners Guide to Technical Analysis of Stock Charts\"],[\"2 Easy Steps To Investment And Avoiding Traps\"],[\"The Only Investment Strategy You Need For Your Retirement\"],[\"ProTrader - Advanced Technical Analysis\"],[\"Stock Market - Swing Trading Strategies for Wall Street\"],[\"Forex para Principiantes-Ejemplos en VIVO de Trading Real\"],[\"Simple Linear Regression Analysis ( A Complete Course )\"],[\"Option Trading for Rookies: Basic Option Strategies\"],[\"Winning Forex Trading with Live Forex Trading Examples\"],[\"Crystal ball trading - foresee price with seasonal patterns\"],[\"Value Investing For Beginners\"],[\"Triple P Trading Course\"],[\"Aprende a invertir y deja que tu dinero trabaje para ti\"],[\"Step by step guide to understand how business perform\"],[\"\\u0627\\u0644\\u0639\\u0644\\u0648\\u0645 \\u0648\\u0627\\u0644\\u0645\\u0628\\u0627\\u062f\\u0626 \\u0627\\u0644\\u0623\\u0633\\u0627\\u0633\\u064a\\u0629 \\u0644\\u0644\\u0645\\u0647\\u0646\\u0629 \\u0627\\u0644\\u0625\\u0643\\u062a\\u0648\\u0627\\u0631\\u064a\\u0629\"],[\"Weekly Options and study of Options expiration dynamics\"],[\"Straddles and Strangles - Volatility moves in any direction\"],[\"Learn How to Trade Pump and Dumps. 5 Setups Well Explained.\"],[\"The Day Trader: Learn to Trade The Stock Market and Forex\"],[\"Financial Statement Fundamentals for Small Biz & Investors\"],[\"Forex trading Basic to advance Professional Level course\"],[\"Making Tax Digital - UK HMRC Legislation Explained\"],[\"Learn Business Finance: Win more work as a Business Coach\"],[\"Learn to Trade for Profit: Ten Most Profitable Trading Rules\"],[\"Fixed Income Securities\"],[\"Backspreads, Diagonals and Butterflies - Advanced Strategies\"],[\"Cost Accounting Operating Costing(Professional Course Level)\"],[\"Get to know the VIX Index (aka 'The Fear Index)\\\"\"],[\"Get a Credit Repair Publication On Amazon and Live LIFE..\"],[\"Master Finance in Three Hours\"],[\"Stocks: Quick Method to get started Investing\"],[\"Basics of Tax in India (College Level)\"],[\"Learn how to INVEST for huge profits or make it big trading!\"],[\"\\u30d3\\u30c3\\u30c8\\u30b3\\u30a4\\u30f3\\u751f\\u614b\\u7cfb\\uff5c\\u65e2\\u5b58\\u901a\\u8ca8\\u304c\\u4e3b\\u5f79\\u3092\\u3084\\u3081\\u308b\\u65e5\"],[\"Introduction to Futures & Options\"],[\"Automate Your Finances\"],[\"Tudo sobre Investimentos em Renda Fixa\"],[\"Bookkeeping to Command Senior Bookkeeping Wages\"],[\"Forex Trading Like Banks \\u2013 Step by Step with Live Examples\"],[\"How to remove 'Risk from Penny Stocks - Options Trading\\\"\"],[\"Hedge Fund Accounting and Valuation\"],[\"Essential Finance For Managers\"],[\"Top 10 Trading Ideas in the Equities Market\"],[\"How to Buy Cheap Options - Options Trading Pricing Model\"],[\"Financial modeling: Build a multiples valuation model\"],[\"Navigate the 10-K and Other Financial Reports\"],[\"Comprehensive Forex Mastery Program\"],[\"Aprende a invertir sin capital\"],[\"Stock Markets: How I Became Rich By Changing How I Trade\"],[\"Python for Trading & Investing\"],[\"The Cost of Capital: The Key To Attract Venture Capitalists\"],[\"Trading Trends in ANY Market\"],[\"Professional Options Trading, Simplified\"],[\"Crowdfunding to Win\"],[\"Professional Trading - Consistent Profits with Low Risk!\"],[\"Options Spreads Bundle- the heart of Options Trading\"],[\"Forex Elite Trading\"],[\"CFA Corporate Finance Level 1 (Part 1)\"],[\"Take Your Career to the Next Level with MBA Finance\"],[\"Introduction to Options - Strategies For Consistent Profits\"],[\"Capital Market Immersion\"],[\"Kostenrechnung lernen leicht gemacht\"],[\"Forex Trading with Fixed 'Risk through Options Trading\\\"\"],[\"The Basics Of Volume Analysis\"],[\"Tax Preparation: Learn Fast! Prepare Taxes with Confidence!\"],[\"CREDIT SPREAD SURGERY - Bear Call and Bull Put Mastery\"],[\"ALGOTECH Hedge Fund Method for Stock Market Trading\"],[\"Indian Contract Act 1872: Must for all Finance Professionals\"],[\"Samuel and Co Trading - Stock & Forex Trading\"],[\"The Financial Analyst Skills Training (FAST) course 2017\"],[\"Basics of Finance and Budgeting\"],[\"Stock Market for Beginners - Complete Starter Toolkit\"],[\"Accounting for Depreciation (Collage Level)\"],[\"3. Compound Interest\"],[\"Quantitative Trading Analysis with R\"],[\"How to Copy the Best Traders on Etoro\"],[\"A Complete Guide to Becoming a Trader on the Forex Market\"],[\"Trade Forex 13 Patterns - Golden Ratios Secret Revealed\"],[\"Professional Bookkeeping & Accounting 1: Sales & Purchases\"],[\"How To Confidently Join The Bitcoin Revolution\"],[\"Commercial Credit Analysis\"],[\"Forex - Calculate Lot Size Like Pro\"],[\"Master Calendar Spreads with this live trade on Gold (GLD)\"],[\"Trade Pullback Candlestick Strategy - Make Consistent Pips\"],[\"Forex Breakout Profits: The Definitive Guide\"],[\"Learn About Bitcoin and Bitcoin Mining\"],[\"Chartered Financial Analyst (CFA) - Level 1 - FRA\"],[\"Contango VXX - ETF Options Trading - Double Your Investment\"],[\"Forex Trading Profitably\"],[\"Working Capital Management for Entrepreneurs\"],[\"Option Trading for Rookies: Make & Manage Profitable Trades\"],[\"Accounting, Finance and Banking - A Comprehensive Study\"],[\"\\u8d22\\u52a1\\u5206\\u6790\\u4e0e\\u4f30\\u503c\\u5efa\\u6a21\\u5165\\u95e8\"],[\"How to Trade Forex like a Hedge Fund: Long FX Strategies\"],[\"Cost Accounting - A Comprehensive Study\"],[\"Basel Norms (Basel 1/ Basel 2/ Basel 3) Simplified\"],[\"Capital Market Road Map\"],[\"Pin Bars: The Most Powerful Forex Trading Signal\"],[\"Easy Market Profits: 3 Step Stock Investing Strategy\"],[\"Interest Rate Swaps\"],[\"FOREX Trading with Price Action\"],[\"TRADING FOR A LIVING: Trading Full-Time Transition Guide\"],[\"Asset Protection Using Offshore Companies\"],[\"Bitcoin Investing: The Complete Buy & Hold Strategy\"],[\"Futures/Commodity Trading\"],[\"Finanzielle Unabh\\u00e4ngigkeit-1: Erste Schritte zur Million\"],[\"SEASON 2 MQL4 Tutorial Bootcamp - Metatrader4 Trading Robots\"],[\"Create Your Own Automated Stock Trading Robot In EXCEL!\"],[\"Options Foundation - Time Decay, Implied Volatility, Greeks\"],[\"Technical Analysis - A practical approach for trade entry\"],[\"Binary Options Beginners Guide : Nadex\"],[\"Python Algo Trading: FX Trading with Oanda\"],[\"Cost Accounting and Financial Management - A Complete Study\"],[\"Buchf\\u00fchrung lernen leicht gemacht\"],[\"Double Entry Bookkeeping\"],[\"Proven Methods In Trading Candlestick Patterns\"],[\"Bitcoin - Ethereum: Trading -Watch me manage my own account!\"],[\"Equity Products\"],[\"Accounting for everyone!\"],[\"The Smart Option Trader\"],[\"Stock Technical Analysis with Python\"],[\"How to Grow your Small Business and not run out of Cash\"],[\"Fundamental Financial Math\"],[\"Cost of Capital and Weighted Average Cost of Capital\"],[\"Matem\\u00e1tica Financeira de um jeito f\\u00e1cil\"],[\"The Ultimate Fibonacci Trading Plan for Forex and Stocks\"],[\"Technical Analysis Primer for trading Stocks, Bonds & Forex\"],[\"Yield Curve Dynamics\"],[\"Life Coach Business Basics: Finance and Operations\"],[\"Equity Swaps\"],[\"Curso Completo de Bitcoin - Ganhe 0.00005 Bitcoin\"],[\"Portfolio Management CFA L1 2016\"],[\"Complete Claritas Investment Certificate\"],[\"Finanzielle Unabh\\u00e4ngigkeit-2 Million\\u00e4r werden mit Investment\"],[\"The Intelligent Investor\"],[\"Contabilidad r\\u00e1pida y eficaz\"],[\"Mortgage Backed Securities\"],[\"MasterClass-Japanese & Heiken Ashi CandleStick Patterns\"],[\"TRADING: 5K CHALLENGE\"],[\"Advanced Financial Management for CA / CS / CFA /CPA Exams\"],[\"Bitcoins - Past, Present, Future\"],[\"\\u0627\\u0644\\u062f\\u0631\\u0648\\u0633 \\u0627\\u0644\\u062a\\u0639\\u0644\\u064a\\u0645\\u064a\\u0629 \\u0644\\u0633\\u0648\\u0642 \\u0627\\u0644\\u0641\\u0648\\u0631\\u0643\\u0633 \\u0648\\u0627\\u0644\\u0623\\u0633\\u0648\\u0627\\u0642 \\u0627\\u0644\\u0645\\u0627\\u0644\\u064a\\u0629 \\u0627\\u0644\\u0623\\u062e\\u0631\\u0649\"],[\"Cryptocurrency Trading: Complete Guide To Trading Altcoins\"],[\"Winning Options Trading System\"],[\"Bitcoin Peer Investing: How To Generate Double Digit Returns\"],[\"How I Make Money Writing About Stocks Online\"],[\"Curso Completo del Mercado FOREX\"],[\"How to Build Profitable FOREX Automated Trading Strategies!\"],[\"188% Profit in 1Year - Forex ALGO Robot Trading no indicator\"],[\"Stock Technical Analysis with R\"],[\"High Probability Trading Across Any Market: Stocks & Forex\"],[\"Professional Forex strategy\"],[\"Level 1 2014 CFA\\u00ae Program \\u2013 Equity Investments\"],[\"Professional Trading With Institutional Supply & Demand\"],[\"The Passive Investing Blueprint - Build Wealth Passively\"],[\"\\u00a1Triunfar en La Bolsa de Valores No Requiere de Experiencia!\"],[\"Stock Trading:\\u00a0Ultimate Guide to swing trading stocks\"],[\"Curso Completo de Opciones Binarias: Estrategias 90% Acierto\"],[\"Day Trading - Learn to Day Trade / Swing Trade In One Hour.\"],[\"Law Matters\"],[\"Finanzielle Unabh\\u00e4ngigkeit-3 Million\\u00e4r werden mit Immobilien\"],[\"Mastering Technical Analysis : Maximizing Trading Profits\"],[\"An Introduction: MT4 Email, Sound, Notification Forex Alerts\"],[\"4 Easy Daily Forex Trades: A Recipe for Trading Success\"],[\"Robots de Forex: espere ganar 175%p.a! Incluye Robot de Fx!\"],[\"Build your own Naked Trading Forex Robot\"],[\"Investment Portfolio Analysis with R\"],[\"MQL4 Bootcamp Tutorial- Trading Robot Coding in Metatrader4\"],[\"Forex Harmonic Trading- With Multiple Forex Chart Examples\"],[\"Trading: From Wall Street to Your Street\"],[\"10. Bonds and Bond Pricing\"],[\"How to create a routine Trading\"],[\"Learn Accounting by Specific Examples - Part 1\"],[\"Bitcoin Trading 101\"],[\"Trade for Profit: Find-Trade Stocks Successfully Arabic \\u0639\\u0631\\u0628\\u064a\"],[\"Learn How to File Taxes for Uber and Lyft Drivers\"],[\"Python Algo Trading: Sentiment Trading with News\"],[\"Trade for a Living\"],[\"Learn To Trade The Forex Naked Price Action Acapulco Trade\"],[\"Inversi\\u00f3n: Fundamentos del Trading para Principiantes\"],[\"Bitcoin - A Comprehensive Guide\"],[\"\\uff16\\u6642\\u9593\\u3067\\u30a4\\u30f3\\u30bf\\u30fc\\u30d0\\u30f3\\u30af\\u5e02\\u5834\\u3092\\u653b\\u7565\\uff01\\u6700\\u77ed\\u8ddd\\u96e2\\u3067\\u30c8\\u30ec\\u30fc\\u30c9\\u57fa\\u790e\\u529b\"],[\"Trade the News in Forex: EA Robot Included\"],[\"Wealth Management\"],[\"Accounting Made Easy: A Quick Guide to Financial Accounting\"],[\"1 - Concepts of Statistics For Beginners Step by Step\"],[\"FOREX TRADING - Learn in a quick + profitable way + support\"],[\"Contabilidad Gubernamental en M\\u00e9xico\"],[\"Investing In Stocks For Big Gains, Fundamental Investing\"],[\"Investment Banking Operations : Securities Trade Life Cycle\"],[\"Buying Call and Put Options - Options beginner strategies\"],[\"Beginners Guide To Ichimoku Trading\"],[\"Learn to Trade for Profit: Finding Winning Stocks - Chinese\"],[\"Accounting Concepts For Technocrats\"],[\"entiende la contabilidad y consigue un aumento de salario\"],[\"Quantitative Trading Analysis with Python\"],[\"Financial Analysis, from Scratch to Professional!\"],[\"Learn to Trade With Fibonacci Tools\"],[\"How to invest in Gold\"],[\"Financial Modeling and Valuation: Complete Beginner to Pro\"],[\"Mortgage Acceleration\"],[\"Trading Mindset, and Three Steps To Profitable Trading\"],[\"Contabilidad Financiera: Conoce el Lenguaje de los Negocios.\"],[\"Learn Quickbooks to maintain books properly\"],[\"4. Ordinary Simple Annuities: The Basics\"],[\"Financial Modelling for entrepreneurs\"],[\"From 0 to 1: Investments and Portfolio Theory\"],[\"Zoho Books Gestion Financi\\u00e8re d'Entreprise pas \\u00e0 pas\"],[\"The Complete Guide to Professional Trading with Elliott Wave\"],[\"Stock Trading Strategies Using a D.A.R.T.\"],[\"CFA Level I Foundation: Introduction to Financial Reporting\"],[\"Build, Grow, and Protect Your Assets: A Step-by-Step Guide\"],[\"Financial Modeling for Professionals in 1 Day!\"],[\"Level 1 2014 CFA\\u00ae Program \\u2013 Derivatives\"],[\"8. Amortization Schedules\"],[\"Geld verdienen mit dem Ticken der Uhr, wie Warren Buffett!\"],[\"The Big Volatility Short: The Best Trade On Wall Street!\"],[\"From 0 to 1: Bond Theory and Valuation\"],[\"Forex Trading - Learn An Effective Forex Trading Strategy\"],[\"Financial Statements: Learn Accounting. Unlock the Numbers.\"],[\"Easy Forex and Futures Trading\"],[\"Fundamentals of Accounting for Business Owners\"],[\"Technical Trading and Investing Made Easy\"],[\"Day Trading in Stocks: Strategies for Beginner Investors\"],[\"Technical Analysis Using Elliott Wave Theory\"],[\"The Complete Financial Model Builder Course-Build 7 Models\"],[\"Forex - Catch the Big Market Moves in Forex\"],[\"Essential Options: Strategies for Mastering the Stock Market\"],[\"Numbers for the Business Plan\"],[\"Investment Portfolio Analysis with Python\"],[\"TRADER BOT: Introdu\\u00e7\\u00e3o \\u00e0 Linguagem MQL5\"],[\"Tax Strategies of the Wealthy\"],[\"Become a Career Day Trader: Asian-Pacific Futures Markets\"],[\"The Fundamentals Of Finance For Non-Finance Professionals\"],[\"Stock Fundamental Analysis with Excel\"],[\"Trading Algor\\u00edtmico en Forex: Crea tu primer Robot de Forex!\"],[\"\\u0412\\u0432\\u0435\\u0434\\u0435\\u043d\\u0438\\u0435 \\u0432 \\u0424\\u0438\\u043d\\u0430\\u043d\\u0441\\u043e\\u0432\\u0443\\u044e \\u0418\\u043d\\u0436\\u0435\\u043d\\u0435\\u0440\\u0438\\u044e\"],[\"9. Sinking Funds\"],[\"My Forex Strategy that win consistently over and over\"],[\"Level 1 2014 CFA\\u00ae Program \\u2013 Corporate Finance\"],[\"Investimento em A\\u00e7\\u00f5es para Leigos\"],[\"Credit Risk Analysis\"],[\"Introducci\\u00f3n a la contabilidad\"],[\"Volatility Trading Analysis with R\"],[\"Advanced Finance and Accounting for Startups\"],[\"How to Read Financial Statements: Build Financial Literacy.\"],[\"Apprendre \\u00e0 trader sur le march\\u00e9 du Forex - guide complet\"],[\"Wie Du, Dir auch mit kleinen Betr\\u00e4gen ein Verm\\u00f6gen aufbaust\"],[\"Ultimate Guide To Trading Engulfing Candlestick Strategy\"],[\"Learn Global Macro Trading & Investing for Retail Investor\"],[\"The Everyday Investor: Building Wealth with Venture Capital\"],[\"Learn How To use Channels to find amazing Forex Entries\"],[\"How to Make IT Work Successfully in Capital Markets\"],[\"6. Annuities Due and Deferred\"],[\"Introduction to Small Business Accounting Training Tutorial\"],[\"Learn Bookkeeping From Scratch\"],[\"Trading for winning\"],[\"Financial Translation\"],[\"Trading Biotech Stocks - Understanding the Healthcare Sector\"],[\"Financial Accounting For Beginners\"],[\"Learn to Trade Forex Naked Price Action Wammie Trade\"],[\"Credit Repair from a Financial Institution\"],[\"Stock Technical Analysis with Excel\"],[\"CFA Level I Foundation Course: Introduction to Quants\"],[\"Learn to trade Candlestick Patterns\"],[\"Investment Portfolio Analysis with Excel\"],[\"Global Macro Investing - Take Control Of The World's Markets\"],[\"Get to grips with the CFA calculator\"],[\"Advance Technical Analysis\"],[\"CFA\\u00ae Level 1 2014 \\u2013 Financial Reporting and Analysis\"],[\"FOREX: From Zero To Hero\"],[\"Forex Trading Masterclass - Learn To Trade Better\"],[\"Aprenda a Investir seu Dinheiro\"],[\"Visualizing Data\"],[\"CFA\\u00ae Level 1 2014 \\u2013 FI\"],[\"Aprende a hacer paper trading (simulaci\\u00f3n) con Ninja Trader\"],[\"CFA Level I Workshop 1: Ethics and Quantitative Methods\"],[\"Stock Market for Beginners. Learn to trade\"],[\"Monetizing Your Website: How to Add Cost-Per-Action (CPA)\"],[\"CFA Level I Workshop 4: Fixed Income and Equity\"],[\"\\u682a\\u5f0f\\u6295\\u8cc7\\u306b\\u5fc5\\u8981\\u306a\\u30b9\\u30ad\\u30eb\\u306e\\u5b66\\u7fd2\\u624b\\u9806\\u3092\\u5b66\\u3076\"],[\"Forex Trading: Strategia Correlazione EUR/GBP vs GBP/USD\"],[\"Learn To Invest In 7 Steps\"],[\"Forex Trading\"],[\"Forex trading with binary options\"],[\"Stock Market Mastery\"],[\"MQL4 Tutorial Golden Goose\"],[\"Economics - CFA Level 1 - 2014\"],[\"* An Integrated Approach to the Fundamentals of Accounting\"],[\"Management Accounting A Complete Study\"],[\"Business Banking 101\"],[\"Corso introduttivo al trading profittevole\"],[\"How to Pick Stocks\"],[\"Forex Management - Detailed Study for CA / CS / CFA Exams\"],[\"Super Fast Accounting - the fastest way to do your books\"],[\"Trading: High-ROI Trading\"],[\"CFA Level I Workshop 2: Financial Reporting & Analysis I\"],[\"Surpassing Your Kickstarter Goals\"],[\"CFA\\u00ae Level 1 2014 \\u2013 Portfolio Management\"],[\"Mastering Candlestick Charting : High Probability Trading\"],[\"Understanding The Stock Market: For Beginners\"],[\"Options Basics & Trading With Small Capital! - Level 1\"],[\"Analyze Real Estate Investments | Financial Modeling\"],[\"CFA\\u00ae Level 1 2014 \\u2013 Quantitative Methods\"],[\"Small Business and Managerial Accounting Training Tutorial\"],[\"An Introduction to Management of Portfolios (MoP)\"],[\"Professional Risk Manager (PRM) Certification: Level 1\"],[\"Trade Stocks, Forex & Financial Markets like a Professional\"],[\"BITCOIN VISUALLY. Part I.\"],[\"\\u8cc7\\u7523\\u904b\\u7528\\u306e\\u57fa\\u790e\\u3092\\u5b66\\u3076\\u30d5\\u30a1\\u30a4\\u30ca\\u30f3\\u30b9\\u5165\\u9580\"],[\"Case Studies in Macro Economics\"],[\"Aktiver Verm\\u00f6gensaufbau mit ETF\"],[\"Introduction to Financial Statements\"],[\"Aprende a Ganar Dinero en la Bolsa\"],[\"Ethereum Course for Investors\"],[\"CFA Level I Workshop 5: Corp Finance, Quants II & Derivative\"],[\"CFA Level 1 - Derivatives\"],[\"Accounting - Basic Costing\"],[\"Bonds For Beginners - A Guide To The Bond Markets\"],[\"Learn to Trade Forex Big U-Turn Trade\"],[\"Curso Avanzado de Trading\"],[\"Essentials Of Swing Trading Stocks\"],[\"Simple Options Trading System\"],[\"Stock Trading: Insider Tips For Determining Market Direction\"],[\"How To Trade RSI Pullback Strategy: Entry To Exit (Forex)\"],[\"Corporate Finance and Alternative Investment for CFA L1\"],[\"The Binary Institute - Binary Options Trading Course\"],[\"\\u30ab\\u30fc\\u30c9\\u30b2\\u30fc\\u30e0\\u3067\\u30ab\\u30f3\\u30bf\\u30f3\\u306b\\u7406\\u89e3\\u3059\\u308b\\uff01\\u7d4c\\u6e08\\u3068\\u304a\\u91d1\\u306e\\u30ad\\u30db\\u30f3\"],[\"CPA 10 COMPLETO\"],[\"Innovators and innovation: Travel through time!\"],[\"Forex Trading : Power Of Moving Averages\"],[\"Corporation Tax Returns UK\"],[\"Basics of Trading\"],[\"Trading For Busy People\"],[\"Introduction to the economics of public services regulation\"],[\"Certificate in MYOB AccountRight Premier 2017 Course\"],[\"The Psychology of Trading\"],[\"Start Trading Stocks Using Technical Analysis! Part 2\"],[\"Stock Trading Essentials for Day Traders\"],[\"Learn Stock Options: Options Made Simple 101\"],[\"Trading Intradiario basado en Precio y Volumen\"],[\"Professional Bookkeeping & Accounting 2 - Bank Daybook\"],[\"Commodity Futures Day Trading Strategies\"],[\"Gana en la Bolsa con An\\u00e1lisis T\\u00e9cnico\"],[\"\\u682a\\u5f0f\\u6295\\u8cc7\\u3067\\u672c\\u5f53\\u306e\\u30d5\\u30a1\\u30f3\\u30c0\\u30e1\\u30f3\\u30bf\\u30eb\\u5206\\u6790\\u304c\\u3067\\u304d\\u308b\\u3088\\u3046\\u306b\\u306a\\u308b\"],[\"Intermediate Accounting 1: Easy. Fast. Simple!\"],[\"Numeracy skills in business and everyday life:Think and Deal\"],[\"Learn the Forex Naked Price Action Pogo Trade\"],[\"Learn to Trade Forex - from Beginner to Professional\"],[\"How To Earn Some Bitcoin Every Time You Use A Search Engine\"],[\"Financial Risk Manager (FRM) Certification: Level I\"],[\"Financial Accounting Made Easy for All\"],[\"The Truths about (in)secure Retirement\"],[\"Financial Risk Manager (FRM) Certification: Level II\"],[\"Learn How to Profit In Forex With Market Rhythms\"],[\"Beginner Financial Analysis: Invest Like Warren Buffett\"],[\"FX Commodity Chart Trading Patterns for Success\"],[\"Professional Bookkeeping & Accounting 4:Trial Balance & More\"],[\"Professional Bookkeeping and Accounting 3: Double Entry\"],[\"Hot Trading Investing Strategy: ETF and Futures\"],[\"Learn the Foundations of Stocks and Options\"],[\"Stock Trading Strategies: Profitable Trading in 7 Days.\"],[\"Introduction to Day Trading\"],[\"Learn Financial Accounting Different\"],[\"Basel II\"],[\"Budgeting for Business\"],[\"Accounting Skills for Managers\"],[\"Forma\\u00e7\\u00e3o de pre\\u00e7os em servi\\u00e7os\"],[\"Aprenda C\\u00e1lculo Financeiro de Forma Simples\"],[\"Finanzas Personales para Vivir Libre de Deudas\"],[\"Learn to trade Chart Patterns\"],[\"Value Investing and Stock Market Fundamentals\"],[\"Matem\\u00e1tica Financeira com HP12C e MS Excel\"],[\"Buying, Selling, and Storing Precious Metal\"],[\"Trading mit kleinen Konten - Grundlagen die du kennen musst\"],[\"IFRS Financial Reporting\"],[\"Socorro! Preciso Organizar as Minhas Finan\\u00e7as!\"],[\"Investments and Financial Markets\"],[\"CFA Level I Workshop 6: Alternatives, PM and Economics\"],[\"CFA Level I Workshop 3: Financial Reporting & Analysis II\"],[\"How to be A High Performance Insurance Broker Part 2\"],[\"Binary Options Masterclass\"],[\"Trading: How Transformative Learning Drives Expertise\"],[\"\\u682a\\u5f0f\\u6295\\u8cc7\\u3067\\u672c\\u5f53\\u306e\\u30c6\\u30af\\u30cb\\u30ab\\u30eb\\u5206\\u6790\\u304c\\u3067\\u304d\\u308b\\u3088\\u3046\\u306b\\u306a\\u308b\"],[\"Forex For Beginners - A Guide To Currency Trading\"],[\"Trade RSI Breakout Strategy: Great Risk/Reward Ratio (Forex)\"],[\"Einnahmen aus Udemy-Kursen als Dozent korrekt versteuern\"],[\"Disminuye deudas en tu hogar en menos de 30 d\\u00edas\"],[\"Stocks For Beginners - A Guide To Investing\"],[\"Learn How To Successfully Trade Forex: In 5 Simple Steps\"],[\"Aprenda a Investir no Tesouro Direto Passo a Passo\"],[\"Internal Controls - Design, Implementation and Monitoring\"],[\"Bitcoin Profits for Beginners\"],[\"Bookkeeping Made Simple\"],[\"What is Bitcoin\"],[\"Investiere in Tax Liens-Hohe Zinsen gesetzl. festgeschrieben\"],[\"Short Straddles - Exploit Earnings Option Volatility Crush\"],[\"Investing: How to Fix Hidden Flaws Inside Your Portfolio\"],[\"\\u682a\\u5f0f\\u6295\\u8cc7\\u306b\\u5411\\u304f\\u6027\\u683c\\u306b\\u5909\\u3048\\u308b\\u305f\\u3081\\u306e\\u5fc3\\u7406\\u5b66\\u3092\\u5b66\\u3076\"],[\"Bitcoin: el futuro del dinero, hoy\"],[\"Trading Forex - Trader avec les figures harmoniques\"],[\"Forex Trading :RSI Indicator-A Secret Weapon\"],[\"Profit During Crashing Markets: A Step-by-Step Guide\"],[\"Hedge Fund Trading Systems Part Two - Stocks & ETFs\"],[\"Read financial statements as a stock investor\"],[\"Professional Risk Manager (PRM) Certification: Level 3\"],[\"Professional Forex Strategy+2 weeks for FREE trading alerts\"],[\"FOREX : LearnTo Trade the Improved ( Advanced ) Patterns\"],[\"Introduction to Futures Trading and Live Trade Demonstration\"],[\"Forex Trading Profit 183%p.a : Trend is Our Friend-ALGOTREND\"],[\"Master The Psychology of Forex & Binary Options Trading\"],[\"Hedge Fund Trading Systems For Stocks - Part One\"],[\"The Advantages of ETF Options and Index Options Trading\"],[\"Learn Options on Futures for Hedging Options and Stocks\"],[\"Day trading strategy for all level, with 72% success rate\"],[\"Year-end QuickBooks Procedures\"],[\"Forex - Trade Gartley with Precision - Complete Strategy\"],[\"Fixed Income Valuation and Analysis, CFA L2\"],[\"Finanzas y An\\u00e1lisis Financiero: Manejo Seguro de Negocios\"],[\"ACCA FA1 Recording Financial Transactions\"],[\"Master The Stock Market with practice\"],[\"How to read a Profit & Loss Account and Balance Sheet\"],[\"Mit Finanzwissen zu besserem Unternehmertum\"],[\"Trader sur le Forex avec Ichimoku\"],[\"Exam 1 Review - Managerial Accounting (U of H)\"],[\"Financial Model Fundamentals-Learn the Essential Skills\"],[\"Smart Trading Techniques for Safe & Consistent Weekly Result\"],[\"Forex trading made simple\"],[\"Financial Accounting Part I - Passing the Class\"],[\"Financial Reporting A Comprehensive Study\"],[\"Introduction to Trade Theory (Technical Analysis) For Stocks\"],[\"15 Mandamientos para ganar dinero en Bolsa\"],[\"Financial and Business Simulation with Microsoft Excel\"],[\"DIY: Reduce Unpaid Federal Tax thru IRS Offer in Compromise\"],[\"Intro to Impact Investing\"],[\"Curso de Trading pr\\u00e1ctico basado en casos reales\"],[\"Practical Trading on Financial Futures & Options Markets\"],[\"How To Crowdfund\"],[\"Learn and Master the Basics of Finance\"],[\"TopTrader Academy - Complete Options Course\"],[\"Do Your Own Accounts\"],[\"Forex: Economic News Trading\"],[\"Professional Risk Manager (PRM) Certification: Level 2\"],[\"\\u3010\\u500b\\u4eba\\u4e8b\\u696d\\u4e3b\\u5411\\u3051\\u3011\\u9752\\u8272\\u7533\\u544a\\u306e\\u8a18\\u5e33\\u3092\\u81ea\\u529b\\u3067\\u884c\\u3046\\u305f\\u3081\\u306e\\u8907\\u5f0f\\u7c3f\\u8a18\\u306e\\u57fa\\u672c\"],[\"3 documentos clave para administrar tu empresa con \\u00e9xito\"],[\"Beginners Chart Patterns Trading for Penny Stocks\"],[\"Basic Technical Analysis\"],[\"Technical Analysis: Understanding Price Action\"],[\"Using Xero for your bookkeeping needs do beautiful business\"],[\"Forex - Price action Reversal Strategy\"],[\"Fundraising Success: The Art & Science of Major Gifts\"],[\"Professional Risk Manager (PRM) Certification: Level 4\"],[\"Introduction to Accounting - Analyzing Financial Statements\"],[\"Accounting 101-Master Class for Understanding Business\"],[\"Bitcoin For Beginners\"],[\"Finance Fundamentals for Non Finance Leaders\"],[\"Strategy layout and Backtesting\"],[\"Succeed at Options Even If You Don't Know Where to Start\"],[\"FOREX Currency Trading For Beginners\"],[\"Complete Guide to Business Loans\"],[\"Aprenda a Investir\"],[\"Forex Trading System: Correlation EUR/GBP vs GBP/USD\"],[\"An Abundance Mindset: How to Craft Yours\"],[\"Breakout Patterns Workshop by Pattern Trader\"],[\"Trade Show Samurai\"],[\"Precifica\\u00e7\\u00e3o - Calculando valor de venda baseado nos custos\"],[\"Crowdfunding for Filmmakers\"],[\"Straight From Business School: Create Financial Statements\"],[\"Forex online live trading system (Special Offer)\"],[\"Curso de Iniciaci\\u00f3n al Trading\"],[\"An\\u00e1lise de Concess\\u00e3o de Cr\\u00e9dito\"],[\"Filing with Companies House UK\"],[\"Bank Reconciliation & VAT on Excel\"],[\"Stock Trading with this Strategy\"],[\"Harnessing the Power of Growth Stocks\"],[\"Your Business by the Numbers\"],[\"Introduction To The World Of Equity Finance\"],[\"\\u30d0\\u30a4\\u30ca\\u30ea\\u30fc\\u30aa\\u30d7\\u30b7\\u30e7\\u30f3\\u53d6\\u5f15\"],[\"Optimize! Make Best Decisions with Microsoft Excel\"],[\"Precious Metal Equities\"],[\"Learn to invest in the Stock Market\"],[\"Manual Bookkeeping\"],[\"International Tax - Tax Beyond boundaries\"],[\"Learn the Basics of the Wave Principle:\"],[\"Finanzas personales: Logrando la Libertad Financiera\"],[\"C\\u00f3mo Crear Pol\\u00edticas Contables bajo NIIF para PYMES\"],[\"Get Credit for Your EIN That's Not Linked to Your SSN\"],[\"Breakeven Analysis and Pricing\"],[\"Introduction to Health Financing\"],[\"Legal Accounting\"],[\"Fundraising 101\"],[\"Accounting Cycle: Learn the concepts in 60 minutes\"],[\"Aprende a invertir practicando\"],[\"ChalkTalk: Financial Accounting\"],[\"C\\u00f3mo usar Metatrader 4 para hacer trading?\"],[\"\\u0422\\u043e\\u0440\\u0433\\u043e\\u0432\\u043b\\u044f \\u0434\\u0435\\u043b\\u044c\\u0442\\u0430-\\u043d\\u0435\\u0439\\u0442\\u0440\\u0430\\u043b\\u044c\\u043d\\u044b\\u043c\\u0438 \\u0441\\u0442\\u0440\\u0435\\u043d\\u0433\\u043b\\u0430\\u043c\\u0438\"],[\"UK Self Assessment Tax Return Filing Online\"],[\"Bookkeeping made simple\"],[\"The True ' Secret Sauce For Stock Market Success\\\"\"],[\"Practical Financial Statement Analysis\"],[\"Covered Calls - Powerful Income Strategy for Stock Traders\"],[\"Excel\\u3092\\u4f7f\\u3063\\u3066\\u30d3\\u30b8\\u30cd\\u30b9\\u30b7\\u30df\\u30e5\\u30ec\\u30fc\\u30b7\\u30e7\\u30f3\\uff1a\\u57fa\\u790e\\u7de8\"],[\"Le basi del Trading\"],[\"Raising Capital for Your Business\"],[\"Five steps to becoming a winner in stock investing\"],[\"Introduction to Financial Consolidation under IFRS\"],[\"The Forex Pivot Points Trading Strategy\"],[\"Forex Trading Plan\"],[\"Energiespar-Formel // Mehr Geld durch Wasser sparen Zuhause\"],[\"Bookkeeping Systems\"],[\"\\u0422\\u043e\\u0440\\u0433\\u043e\\u0432\\u043b\\u044f \\u043e\\u043f\\u0446\\u0438\\u043e\\u043d\\u0430\\u043c\\u0438: \\u041a\\u0430\\u043a \\u0437\\u0430\\u0440\\u0430\\u0431\\u043e\\u0442\\u0430\\u0442\\u044c \\u043d\\u0430 \\u0432\\u043e\\u043b\\u0430\\u0442\\u0438\\u043b\\u044c\\u043d\\u043e\\u0441\\u0442\\u0438\"],[\"High-Frequency Trading & Dark Pools\"],[\"Budget preparation for an EU project proposal\"],[\"Forex - Top Equity Management Strategy\"],[\"Estrutura\\u00e7\\u00e3o Financeira\"],[\"3 Little Pigs: A Multiple Timeframe Forex Trading Strategy\"],[\"Introduction to the 8 Pillars for Accountants\"],[\"Financial Accounting Plus Excel and SAP Crash Course.\"],[\"Mastering the Market : (Technical Analysis + Candlestick)\"],[\"The Investment Banking Recruitment Series\"],[\"Day Trading: High ROI Day Trading\"],[\"What You Should Know to Become a Trader\"],[\"Understanding Financial Derivatives\"],[\"Advanced Butterfly Spreads for Options Income Strategies\"],[\"MQL5 - Beginner To Expert\"],[\"Flow Management and Forecasting\"],[\"Investimento em A\\u00e7\\u00f5es\"],[\"FX Trading for Beginners\"],[\"Aprende desde cero a operar el mercado de divisas FOREX\"],[\"ACCA MA1 Management Information\"],[\"Condor Broken Wing Butterfly Options Trading Course System\"],[\"Business Accounts For Managers\"],[\"Financial Accounting Part 2 - Passing The Class\"],[\"Excel 4 Accounting & Bookkeeping - Master Date,Time & Text\"],[\"Estrategias de trading en bolsa\"],[\"Complete Short Financial Ratio Course for Financial Analysis\"],[\"Forex: Presentation and Analysis (Fundamental & Technical)\"],[\"Wie funktionieren Bitcoin? Ein Einf\\u00fchrungskurs.\"],[\"Trading con retrocesos de Fibonacci\"],[\"Mastering Countertrend Trading : High Profit Trading Pattern\"],[\"Forex:Trade Management & Psychology\"],[\"10 Numbers Every Business Owner Should Know\"],[\"The Complete Investing Guide: How to Beat Wall Street\"],[\"Price Action Gap Trading Strategies\"],[\"SAP Crystal Reports:Master-Detail,Cross-Tab,Sub-Reports\"],[\"How To Pay Less Tax (UK version)\"],[\"Le bitcoin et la blockchain\"],[\"Financial Modelling in Excel Step by Step\"],[\"How to trade options\"],[\"high swing - \\u0643\\u0648\\u0631\\u0633 \\u0644\\u062a\\u0639\\u0644\\u064a\\u0645 \\u062c\\u0645\\u064a\\u0639 \\u0645\\u0631\\u0627\\u062d\\u0644 \\u0627\\u062d\\u062a\\u0631\\u0627\\u0641 \\u062a\\u062f\\u0627\\u0648\\u0644 \\u0627\\u0644\\u0641\\u0648\\u0631\\u0643\\u0633\"],[\"Read financial statements like a pro\"],[\"International Trade and New Geographic Economy\"],[\"School of Raising Capital: Agile Financial Modeling\"],[\"Sell like a Pro: Insider Secrets of Successful Selling!\"],[\"Forex - Help I cant Trade\"],[\"Como hacer empresa en 10 sesiones pr\\u00e1cticas\"],[\"Term Loan Appraisal for bankers, credit analysts\"],[\"Eu Funding: Module 2 - Introduction to Horizon 2020\"],[\"Start Now: A Rescue Plan for Retirement Late Savers\"],[\"Managerial Accounting - The Ultimate Beginner Course!\"],[\"Forex Basics: Learn how to read and analyze Forex charts\"],[\"Tax made simple for Limited Company Owners and Contractors\"],[\"Start-up financial modeling for non-finance professionals\"],[\"Profits Turbo\"],[\"2. Principles of Simple Interest - advanced problems\"],[\"La costruzione del budget di una proposta comunitaria\"],[\"Analysis and Evaluation of Economic Feasibility of Projects\"],[\"Forex trading tactics, that work!\"],[\"Basics of Private Equity\"],[\"Bitesize Bookkeeping for busy people\"],[\"Financial Accounting - The Ultimate Beginner Course\"],[\"Advanced Technical Analysis PART1!\"],[\"Forex/Opciones Binarias para Principiantes\"],[\"Easy Finance For Startups\"],[\"\\u0627\\u0644\\u0645\\u062d\\u0627\\u0633\\u0628\\u0629 \\u0644\\u0644\\u0625\\u062f\\u0627\\u0631\\u064a\\u064a\\u0646 \\u0648 \\u063a\\u064a\\u0631 \\u0627\\u0644\\u0645\\u062d\\u0627\\u0633\\u0628\\u064a\\u0646\"],[\"The Visual Learning Basic Accounting Course\"],[\"Estrategias de Inversi\\u00f3n aplicadas al mundo del trading\"],[\"Financial Modeling - Facebook Case Study\"],[\"Complete GST Course For Small and Medium Enterprises\"],[\"Trading Options Basics\"],[\"Forex Trading: The High ROI Forex Trading End of Day Course\"],[\"System of Asset Management for Professionals (SAMP)\"],[\"How to invest in Forex Trading & add an additional income\"],[\"QuickBooks Online : Inventory Management For Non-Finance\"],[\"Double Your Salary With Free, Local, Job Training Courses\"],[\"Don't Let Your Customers Run Your Business\"],[\"The 7 fundamentals to Successful Cashflow Management\"],[\"Depreciation, Amortization and Depletion\"],[\"Fundraise the Simplified Way: A Crowdfunding Blueprint\"],[\"An Introduction to Financial Markets on Wall Street\"],[\"Accounting Basics 101 for Understanding Business\"],[\"Xero Bookkeeping Course & Certification by Accounting Firm\"],[\"The Complete Litecoin Crypto Currency Bootcamp\"],[\"Learn Financial Modeling from Scratch - Part1\"],[\"Le basi del trading online\"],[\"How to trade in the Forex market\"],[\"Aprende a llevar la contabilidad de forma informatizada\"],[\"Nest Egg Investing\"],[\"Trading Tips from Hedge Fund Manager\"],[\"Accounting and the Triple Bottom Line\"],[\"A Practical Guide to Wealth Creation\"],[\"Write a Successful Business Grant Proposal\"],[\"Caza los Enormes Movimientos del Mercado\"],[\"Series 7: Intermediate Options\"],[\"Effective Debt Collection Strategies\"],[\"Create Trading Robot Without Coding Skills!\"],[\"How to Read Financial Statements\"],[\"8 Steps To Achieve Financial Freedom And Escape Debt\"],[\"Financial Statement Review 101: How to Find Errors\"],[\"Tally ERP Complete Training in Urdu / Hindi\"],[\"Accounting and Business Basics\"],[\"Trading Forex - L'analyse des volumes\"],[\"Win 90% of Trades; Quantitative Investments Models in Excel\"],[\"Technical Charting\"],[\"Working Capital assessment for bankers, credit analysts\"],[\"How to Get Growing, Passive Income from the Fortune 500!\"],[\"Managing Budgets in the Public and Non Profit Sector\"],[\"A Guide To Trade Binary Options Like An Expert\"],[\"Dash Crypto Currency Technical and Trading Overview Bootcamp\"],[\"Basics of Fixed Income Valuation, CFA Level I 2017 Prep\"],[\"Contabilit\\u00e0 Generale\"],[\"Chief Wealth Officer\"],[\"Black Scholes Option Pricing Model\"],[\"How to invest in Russian equity market\"],[\"Forex Trading for Beginners Vol 1:A Forex Course Made Simple\"],[\"Learn The ABC's Of Investing And Understanding True Financial Value\"],[\"Credit Control Procedures\"],[\"Accounting Simplified\"],[\"The Fast Route to a Faster Financial Close\"],[\"Economics for beginners - Various Concepts\"],[\"Investing in Stocks & Shares\"],[\"Learn How To Trade Gold In 2017\"],[\"Geometry Of Chance strategy of defeating the roulette.\\\"\"],[\"Handle difficult questions the bank manager will ask you\"],[\"Introduction to Bitcoin for Beginners\"],[\"Reach Your Personal Financial Goals the Easy Way (2017 UK)\"],[\"Learn Financial Modeling from Scratch - Part 2\"],[\"Learn Financial Modeling from Scratch - Part 3\"],[\"Financial Reporting - Fundamentals/Basics\"],[\"UK Tax Returns with HMRC\"],[\"Practical Accounts Training A\"],[\"Coaching Course:Investment Analysis for your clients\"],[\"Trading Basics in 30 minutes\"],[\"Profit and Loss Account for bankers and credit analysts\"],[\"Corporate Internal Controls and Fraud Controls\"],[\"Bitcoin & Ethereum Course (2 Course Bundle)\"],[\"The Latest Updates 2016 Financial Accounting Standards Board\"],[\"FMT: Forex Market Trader Certificate\"],[\"Six Stage Negotiation\"],[\"Financial Market Environment & Investment Strategies\"],[\"How to Obtain a Business Loan\"],[\"Psicolog\\u00eda del trading\"],[\"Erfolgreich als Signalgeber/in, per Social- und Copytrading\"],[\"Intro. to Asset-Backed Securities, CFA Level I, 2017 Prep\"],[\"Bookkeeping Practicals with Software\"],[\"Decide whether to Invest in a Business\"],[\"Ratio analysis for bankers and credit analysts\"],[\"Intro to Financial Statement Audits\"],[\"Basic Bookkeeping\"],[\"Options Trading Foundation: Your journey to competency...\"],[\"Core Financial Statement Concepts\"],[\"CFA Level 2- Quantitative Methods\"],[\"Credit concepts and checklist for bankers, credit analyst\"],[\"Planning and Executing a Financial Statement Audit\"],[\"Best Practices in Corporate Budgeting\"],[\"Ratio Analysis for Financial Statements\"],[\"Essentials of money value: Get a financial Life !\"],[\"Forex how traders beat the markest with little experience\"],[\"beginning accounting\"],[\"Practical Film Financing: Finding & Pitching Investors\"],[\"Learn to trade using technical analysis\"],[\"Building a Balanced Scorecard\"],[\"Stop Creditors from Harassing you and Avoid Bankruptcy\"],[\"Kickstarter success in 5 easy steps\"],[\"Understanding Financial Statements\"],[\"How to achieve personal transformation\"],[\"Free Ways to Create Passive Income Online\"],[\"Corporate Ethics\"],[\"Understand Core Finance Principles in 60 Minutes\"],[\"Evolution and Features of ETFs\"],[\"How to Invest Using ETFs from Former Wall Street Trader\"],[\"Workshop on Banking Credit Analysis Process\"],[\"The Cuckoo Strategy to get European Funding\"],[\"Accounting - The 6 most important rules you must learn\"],[\"Mutual Funds for Investors in Retirement Accounts\"],[\"Introduction to Forex Trading Business For Beginners\"],[\"Cryptocurrency (BTC & ETH) Investment & Trading Course 2017\"],[\"Introduction to Project Management for Finance and Acct'g\"],[\"Case studies on credit appraisal for bankers\"],[\"Foundations of Investing\"],[\"60 Minutes to Fundamental Accounting Skills\"],[\"Teeter-Totter Accounting\"],[\"Financial Statement Auditing Cycles\"],[\"The Cash Flow Statement - An Introduction\"]],\"hovertemplate\":\"num_subscribers=%{x}<br>price=%{marker.color}<br>rating=%{marker.size}<br>course_title=%{customdata[0]}<extra></extra>\",\"legendgroup\":\"\",\"marker\":{\"color\":[0,0,0,0,195,0,195,200,0,0,0,0,195,60,95,0,20,0,100,200,0,95,200,0,30,75,180,150,0,0,155,150,150,0,45,195,60,0,105,95,185,195,50,95,115,20,200,60,0,0,125,20,30,0,95,20,20,0,30,0,0,20,150,0,25,0,200,0,185,0,50,200,195,0,20,20,0,30,125,0,195,0,20,0,0,30,0,50,75,100,0,0,30,95,20,125,200,0,160,0,60,20,120,20,95,25,0,195,50,90,175,150,50,20,20,25,195,200,0,25,0,20,180,30,40,150,0,0,0,50,20,20,95,120,20,0,200,20,20,25,20,200,0,20,20,180,200,0,0,125,200,105,45,0,25,200,50,25,95,25,60,20,150,150,150,75,20,0,0,20,200,120,50,95,0,200,25,35,50,35,150,100,0,0,25,45,200,95,45,0,50,95,20,20,160,25,90,150,20,200,145,200,20,20,20,75,20,0,95,20,20,45,20,50,180,150,20,50,20,40,45,0,95,200,0,200,0,50,0,0,200,40,20,150,200,0,0,0,20,0,50,25,20,20,50,40,200,40,150,50,20,20,170,190,200,0,20,60,50,200,25,0,200,50,20,200,0,200,30,80,200,0,20,95,35,20,75,20,95,20,0,0,50,95,95,0,195,200,200,0,0,195,150,200,200,40,25,0,20,20,95,200,20,100,50,20,20,30,20,65,150,50,25,50,0,75,195,20,200,200,45,200,20,35,20,45,100,30,200,145,20,195,200,50,20,145,20,200,20,20,195,0,20,0,150,60,50,20,0,50,45,30,140,75,20,115,50,0,30,200,195,200,70,50,20,20,40,200,20,50,30,150,100,95,75,200,100,95,20,200,190,50,20,30,20,20,80,145,200,25,50,50,35,50,200,40,50,0,20,95,65,95,125,35,20,180,200,20,0,125,45,20,200,200,50,40,200,50,195,80,200,20,125,0,200,20,0,200,50,200,105,25,20,50,0,0,200,50,50,200,200,200,50,20,25,125,20,200,20,200,200,50,200,20,20,140,200,60,195,50,100,200,50,20,20,120,120,60,50,0,50,55,145,180,200,20,0,20,95,150,150,20,200,180,50,50,95,200,25,75,20,50,30,50,200,20,30,40,20,200,125,50,140,200,95,200,145,100,20,145,20,25,60,60,50,20,30,20,0,20,95,50,60,20,60,20,20,0,20,50,20,50,20,45,55,195,200,20,25,20,200,20,40,45,130,20,95,50,30,200,40,20,120,85,180,50,40,195,40,200,60,200,60,20,20,50,100,20,120,20,20,50,90,25,200,35,45,50,20,60,200,25,20,30,200,20,20,95,180,0,115,180,40,50,200,20,50,195,195,20,25,50,20,25,150,60,60,40,200,150,40,50,75,165,50,35,45,50,25,50,0,95,200,50,50,195,50,30,20,50,20,30,40,50,195,55,150,20,0,95,105,25,195,200,200,120,50,95,50,40,200,200,0,200,145,95,20,20,60,20,200,130,40,50,20,135,50,20,25,50,95,95,40,200,20,70,125,20,35,200,30,95,200,100,30,200,30,60,20,95,20,20,50,65,30,50,50,20,20,20,20,20,20,50,0,115,20,50,195,200,40,20,195,200,50,95,40,100,20,40,50,60,75,20,50,20,50,20,195,20,40,50,170,50,20,200,40,20,20,20,50,40,25,140,70,200,75,20,45,50,20,25,20,200,20,55,60,40,20,50,50,20,50,30,20,50,50,150,200,85,40,40,25,20,35,35,20,20,50,50,95,25,20,20,20,200,150,25,20,20,50,25,190,20,30,40,50,25,30,20,50,20,20,50,20,50,20,50,20,40,30,40,20,30,40,20,50,125,20,35,95,150,20,200,20,25,50,200,50,40,50,80,200,20,95,100,35,40,35,95,25,20,200,20,60,195,20,50,20,200,50,20,50,50,35,35,50,50,50,50,20,50,40,20,35,20,75,20,195,20,20,80,55,20,40,20,20,40,200,30,20,20,200,30,20,20,95,35,195,100,40,20,20,60,195,20,200,90,95,195,200,20,50,95,75,60,120,20,200,60,60,95,20,20,20,20,50,35,20,50,90,30,75,100,100,20,50,20,20,20,20,200,20,50,30,20,150,35,25,50,30,45,200,50,45,95,20,50,50,60,20,50,20,200,200,25,30,20,50,50,60,95,35,65,20,200,85,20,30,20,50,50,25,20,85,20,20,40,20,100,30,30,20,20,20,85,110,95,20,35,20,20,150,20,30,200,75,60,85,200,50,20,25,20,50,50,20,150,40,50,20,45,20,20,20,90,40,150,125,20,60,45,20,20,20,90,50,0,30,20,35,25,200,50,20,25,40,150,20,50,20,50,50,80,20,45,100,50,20,20,115,200,20,20,20,150,100,195,50,20,20,20,50,100,20,60,20,100,100,25,50,20,20,20,25,75,200,125,50,50,35,20,50,25,25,35,30,20,20,20,50,45,200,25,45,50,30,35,20,20,55,40,145,20,40,30,30,200,70,200,20,20,25,95,55,20,20,200,45,25,30,175,20,20,30,50,25,20,200,30,20,20,95,50,50,20,40,35,200,50,20,50,200,50,20,30,105,20,20,60,20,35,20,20,50,35,95,50,40,20,50,50,50,20,100,20,100,50,50,20,20,25,20,25,100,75,100,200,100,160,20,20,20,20,50,20,40,75,90,50,50],\"coloraxis\":\"coloraxis\",\"size\":[0.56,0.95,0.91,0.18,0.37,0.89,0.13,0.21,0.3,0.89,0.34,0.69,0.16,0.78,0.25,0.41,0.81,0.81,0.81,0.81,0.81,0.81,0.81,0.81,0.81,0.81,0.81,0.81,0.81,0.81,0.81,0.81,0.81,0.81,0.81,0.81,0.81,0.81,0.29,0.18,0.22,0.18,0.94,0.07,0.15,0.72,0.11,0.48,0.52,0.2,0.8,0.3,0.54,0.36,0.11,0.44,0.8,0.29,0.74,0.87,0.55,0.29,0.63,0.05,0.14,0.78,0.17,0.84,0.2,0.22,0.55,0.78,0.92,0.11,0.72,0.99,0.55,0.3,0.38,0.27,0.18,0.14,0.96,0.86,0.87,0.49,0.66,0.7,0.74,0.02,0.25,0.76,0.21,0.59,0.8,0.54,0.84,0.84,0.84,0.84,0.84,0.84,0.84,0.84,0.84,0.84,0.84,0.84,0.14,0.11,0.66,0.03,0.48,0.84,0.69,0.35,0.1,0.96,0.96,0.96,0.96,0.96,0.96,0.96,0.96,0.96,0.96,0.96,0.96,0.96,0.96,0.96,0.96,0.96,0.96,0.96,0.96,0.96,0.96,0.96,0.96,0.96,0.96,0.96,0.96,0.96,0.96,0.96,0.96,0.96,0.96,0.96,0.96,0.96,0.96,0.96,0.96,0.96,0.96,0.96,0.96,0.96,0.96,0.96,0.96,0.96,0.96,0.96,0.96,0.96,0.96,0.96,0.96,0.96,0.96,0.96,0.96,0.96,0.96,0.96,0.96,0.96,0.96,0.96,0.87,0.87,0.87,0.87,0.87,0.87,0.87,0.87,0.87,0.87,0.87,0.87,0.87,0.87,0.87,0.96,0.96,0.96,0.96,0.96,0.96,0.96,0.96,0.96,0.96,0.95,0.78,0.4,0.91,0.15,0.53,0.76,0.54,0.87,0.24,0.51,0.14,0.89,0.53,0.76,0.24,0.14,0.63,0.07,0.13,0.11,0.88,0.88,0.88,0.88,0.88,0.88,0.88,0.88,0.88,0.88,0.88,0.88,0.88,0.88,0.88,0.79,0.81,0.3,0.68,0.38,0.87,0.66,0.7,0.89,0.3,0.48,0.76,0.88,0.52,0.2,0.47,0.94,0.66,0.99,0.95,0.04,0.8,0.29,0.18,0.15,0.96,0.79,0.23,0.27,0.2,0.46,0.8,0.8,0.24,0.15,0.53,0.11,0.28,0.98,0.89,0.76,0.94,0.63,0.72,0.53,0.6,0.8,0.66,0.46,0.39,0.32,0.32,0.78,0.11,0.11,0.22,0.16,0.82,0.15,0.28,0.47,0.05,0.05,0.96,0.73,0.31,0.76,0.1,0.13,0.15,0.3,0.2,0.77,0.66,0.88,0.86,0.78,0.47,0.26,0.07,0.55,0.97,0.3,0.55,0.93,0.37,0.55,0.88,0.3,0.11,0.93,0.52,0.94,0.07,0.71,0.76,0.82,0.76,0.6,0.39,0.92,0.51,0.02,0.47,0.74,0.85,0.46,0.59,0.82,0.6,0.89,0.62,0.98,0.98,0.98,0.98,0.98,0.98,0.98,0.98,0.98,0.98,0.98,0.89,0.89,0.89,0.89,0.89,0.89,0.89,0.89,0.89,0.89,0.89,0.89,0.89,0.89,0.89,0.89,0.98,0.98,0.98,0.98,0.98,0.98,0.98,0.98,0.98,0.98,0.98,0.98,0.98,0.98,0.98,0.98,0.98,0.98,0.98,0.98,0.9,0.46,0.55,0.15,0.3,0.47,0.14,0.68,0.03,0.24,0.15,0.89,0.69,0.02,0.01,0.34,0.11,0.12,0.61,0.47,0.3,0.36,0.48,0.3,0.35,0.34,0.48,0.81,0.15,0.23,0.11,0.89,0.4,0.06,0.36,0.97,0.97,0.97,0.97,0.97,0.97,0.97,0.97,0.97,0.97,0.97,0.97,0.97,0.97,0.97,0.97,1.0,0.89,0.09,0.72,0.71,0.59,0.89,0.1,0.19,0.88,0.88,0.88,0.88,0.88,0.88,0.88,0.88,0.88,0.88,0.88,0.88,0.88,0.88,0.88,0.88,0.11,0.98,0.66,0.59,0.59,0.75,0.95,0.02,0.74,0.47,0.99,0.3,0.94,0.93,0.34,0.3,0.92,0.3,0.67,0.23,0.89,0.66,0.07,0.78,0.08,0.74,0.15,0.89,0.88,0.94,0.34,0.87,0.79,0.88,0.63,0.8,0.96,0.47,0.14,0.7,0.16,0.02,0.88,0.88,0.01,0.86,0.35,0.07,0.3,0.59,0.31,0.25,0.6,0.96,0.47,0.14,0.24,0.34,0.57,0.34,0.64,0.55,0.96,0.98,0.27,0.87,0.78,0.5,0.55,0.96,0.96,0.96,0.96,0.96,0.96,0.96,0.96,0.96,0.96,0.96,0.96,0.96,0.96,0.96,0.96,0.96,0.96,0.96,0.96,0.55,0.88,0.24,0.55,0.96,0.2,0.57,0.94,0.96,0.86,0.96,0.19,0.93,0.11,0.34,0.34,0.6,0.92,0.16,0.79,0.59,0.55,0.73,0.48,0.42,0.41,0.26,0.2,0.99,0.99,0.99,0.99,0.99,0.99,0.99,0.99,0.47,0.98,0.15,0.91,0.14,0.24,0.47,0.19,0.15,0.51,0.15,0.7,0.65,0.24,0.94,0.93,0.28,0.24,0.18,0.68,0.51,0.13,0.35,0.78,0.6,0.93,0.77,0.18,0.71,0.64,0.93,0.91,0.88,0.46,0.51,0.15,0.6,0.33,0.01,0.11,0.88,0.71,0.54,0.94,0.49,0.3,0.74,0.47,0.55,0.77,0.68,0.43,0.66,0.15,0.66,0.89,0.74,0.85,0.68,0.16,0.78,0.78,0.78,0.78,0.78,0.78,0.78,0.78,0.78,0.78,0.78,0.78,0.78,0.78,0.78,0.78,0.78,0.78,0.78,0.78,0.78,0.78,0.78,0.78,0.78,0.78,0.78,0.78,0.21,0.86,0.3,0.76,0.09,0.33,0.2,0.2,0.45,0.85,0.18,0.68,0.78,0.39,0.21,0.3,0.02,0.34,0.28,0.07,0.66,0.55,0.74,0.34,0.71,0.3,0.89,0.8,0.81,0.55,0.3,0.47,0.25,0.18,0.66,0.94,0.94,0.94,0.94,0.94,0.94,0.94,0.94,0.94,0.94,0.94,0.94,0.94,0.5,0.6,0.65,0.51,0.3,0.07,0.91,0.29,0.44,0.76,0.76,0.76,0.76,0.76,0.76,0.76,0.76,0.76,0.76,0.76,0.76,0.76,0.76,0.76,0.76,0.76,0.55,0.07,0.08,0.8,0.66,0.37,0.8,0.94,0.78,0.98,0.8,0.41,0.7,0.11,0.48,0.3,0.59,0.46,0.53,0.96,0.11,0.45,0.74,0.8,0.8,0.8,0.8,0.8,0.8,0.8,0.8,0.8,0.8,0.8,0.8,0.8,0.8,0.8,0.8,0.24,0.73,0.56,0.47,0.82,0.8,0.76,0.22,0.15,0.34,0.24,0.84,0.33,0.52,0.43,0.0,0.88,0.9,0.48,0.02,0.11,0.78,0.11,0.96,0.96,0.96,0.96,0.96,0.96,0.96,0.96,0.96,0.96,0.96,0.96,0.96,0.96,0.8,0.88,0.95,0.37,0.1,0.34,0.3,0.4,0.95,0.82,0.41,0.17,0.99,0.07,0.48,0.89,0.96,0.34,0.24,0.78,0.78,0.3,0.57,0.28,0.15,0.32,0.76,0.76,0.76,0.76,0.76,0.76,0.76,0.76,0.76,0.76,0.74,0.83,0.81,0.76,0.98,0.55,0.5,0.55,0.12,0.28,0.02,0.3,0.78,0.78,0.78,0.78,0.78,0.78,0.88,0.88,0.88,0.88,0.88,0.88,0.88,0.88,0.88,0.88,0.88,0.88,0.88,0.88,0.88,0.88,0.88,0.88,0.88,0.88,0.88,0.88,0.95,0.95,0.95,0.95,0.95,0.95,0.95,0.95,0.11,0.96,0.79,0.94,0.18,0.07,0.1,0.76,0.11,0.22,0.76,0.81,0.69,0.93,0.93,0.93,0.93,0.93,0.93,0.93,0.98,0.98,0.98,0.98,0.98,0.98,0.98,0.98,0.98,0.97,0.97,0.97,0.97,0.97,0.2,0.95,0.65,0.62,0.34,0.65,0.37,0.74,0.3,0.94,0.86,0.74,0.64,0.8,0.95,0.19,0.5,0.35,0.78,0.89,0.96,0.96,0.96,0.96,0.96,0.96,0.96,0.96,0.96,0.96,0.96,0.96,0.96,0.96,0.96,0.96,0.96,0.8,0.29,0.88,0.88,0.88,0.88,0.88,0.88,0.88,0.88,0.88,0.88,0.88,0.88,0.88,0.88,0.9,0.9,0.9,0.9,0.9,0.9,0.9,0.9,0.9,0.99,0.41,0.48,0.85,0.2,0.41,0.97,0.94,0.76,0.78,0.3,0.74,0.33,0.66,0.57,0.2,0.55,0.11,0.23,0.07,0.72,0.01,0.62,0.05,0.1,0.17,0.34,0.76,0.76,0.76,0.76,0.76,0.88,0.88,0.88,0.88,0.88,0.88,0.88,0.88,0.88,0.88,0.88,0.88,0.88,0.88,0.88,0.88,0.88,0.88,0.88,0.88,0.88,0.88,0.88,0.88,0.88,0.88,0.88,0.14,0.88,0.97,0.07,0.88,0.06,0.96,0.53,0.18,0.53,0.85,0.15,0.69,0.37,0.8,0.43,0.24,0.82,0.97,0.97,0.97,0.97,0.97,0.97,0.97,0.97,0.97,0.97,0.97,0.97,0.97,0.97,0.97,0.97,0.97,0.97,0.97,0.97,0.97,0.97,0.97,0.97,0.97,0.97,0.97,0.97,0.97,0.97,0.97,0.97,0.97,0.97,0.97,0.97,0.97,0.97,0.97,0.97,0.97,0.97,0.97,0.97,0.97,0.97,0.97,0.97,0.97,0.97,0.97,0.97,0.97,0.97,0.85,0.4,0.94,0.78,0.18,0.37,0.99,0.66,0.27,0.15,0.15,0.8,0.49,0.96,0.56,0.15,0.47,0.07,0.47,0.42,0.29,0.85,0.95,0.95,0.95,0.95,0.95,0.95,0.95,0.95,0.95,0.95,0.95,0.95,0.36,0.15,0.18],\"sizemode\":\"area\",\"sizeref\":0.0025,\"symbol\":\"circle\"},\"mode\":\"markers\",\"name\":\"\",\"showlegend\":false,\"x\":[65576,56659,50855,29167,24481,22344,22257,20195,19614,19339,17847,17160,16900,16385,12394,12217,11958,11724,11517,11441,10670,10605,10603,10540,10338,10149,10100,10042,9995,9483,9445,9221,9015,8985,8797,8575,8314,8236,8121,8095,7941,7884,7750,7743,7489,7183,7159,6967,6811,6533,6451,6374,6219,6185,6092,6050,6050,6024,5983,5931,5874,5841,5786,5768,5685,5597,5572,5529,5528,5407,5354,5334,5172,5144,5108,5099,5077,5057,5050,5007,4991,4931,4919,4876,4863,4855,4770,4702,4695,4661,4653,4607,4601,4530,4497,4480,4284,4269,4252,4248,4187,4158,4133,4117,4103,4086,4077,4061,4034,4022,4005,3979,3917,3870,3870,3840,3811,3804,3775,3771,3757,3730,3667,3607,3555,3523,3519,3465,3426,3425,3403,3372,3360,3348,3339,3283,3255,3251,3223,3190,3177,3143,3137,3125,3094,3056,3050,3035,3014,2996,2988,2987,2981,2955,2953,2951,2946,2924,2917,2914,2900,2895,2893,2877,2801,2792,2769,2768,2740,2736,2715,2697,2692,2688,2674,2666,2650,2638,2635,2623,2602,2591,2571,2554,2516,2507,2506,2493,2490,2481,2474,2451,2437,2383,2379,2342,2338,2318,2317,2310,2305,2295,2293,2283,2281,2276,2268,2247,2240,2239,2235,2230,2222,2222,2212,2197,2189,2187,2185,2177,2174,2166,2153,2147,2146,2146,2144,2134,2122,2119,2115,2103,2101,2096,2092,2080,2079,2075,2060,2058,2053,2046,2046,2045,2031,2025,2000,2000,1988,1971,1964,1951,1942,1941,1924,1924,1923,1922,1916,1909,1888,1888,1882,1852,1850,1843,1819,1806,1798,1793,1793,1780,1777,1776,1772,1754,1750,1749,1741,1740,1736,1735,1732,1730,1730,1730,1723,1703,1699,1696,1685,1680,1680,1673,1645,1643,1634,1625,1609,1589,1580,1580,1574,1573,1566,1560,1551,1548,1542,1540,1535,1532,1531,1519,1514,1513,1512,1509,1506,1498,1489,1487,1480,1459,1449,1446,1444,1440,1437,1433,1423,1420,1406,1405,1403,1398,1393,1380,1374,1369,1367,1362,1361,1352,1340,1338,1334,1329,1318,1315,1311,1311,1309,1303,1294,1284,1280,1278,1278,1276,1276,1271,1263,1260,1255,1254,1252,1240,1239,1237,1235,1224,1223,1222,1218,1214,1213,1202,1201,1199,1197,1195,1193,1192,1189,1189,1187,1186,1185,1184,1184,1182,1181,1175,1173,1169,1168,1168,1168,1165,1160,1150,1136,1135,1132,1132,1125,1122,1121,1120,1119,1115,1113,1113,1105,1102,1101,1097,1096,1095,1094,1092,1091,1089,1087,1086,1086,1085,1081,1079,1077,1076,1074,1071,1067,1059,1057,1056,1055,1053,1048,1047,1047,1046,1046,1045,1044,1041,1037,1033,1033,1032,1030,1029,1027,1026,1023,1017,1013,1008,1006,993,989,984,978,975,973,968,967,965,956,952,951,944,939,936,927,916,913,912,912,911,897,894,885,874,871,869,859,853,853,844,843,841,837,832,831,829,828,827,825,814,813,811,810,809,807,801,797,789,788,781,779,775,769,768,751,750,743,741,739,739,737,731,727,727,721,718,718,701,701,694,690,689,683,677,668,668,663,661,658,656,653,650,649,646,638,635,632,631,627,627,623,623,621,618,617,613,612,611,611,609,607,605,605,592,589,578,577,576,570,567,564,562,554,551,547,545,543,540,521,521,520,517,513,512,507,507,507,505,504,503,500,495,494,486,485,484,483,480,477,472,465,462,461,459,454,454,453,452,446,440,438,431,426,420,412,409,408,406,405,401,399,397,397,397,394,394,393,388,384,384,379,376,375,375,375,373,368,367,367,366,360,359,358,357,354,353,353,347,343,338,338,336,335,335,327,326,325,323,319,315,315,314,313,313,312,308,307,306,302,299,294,294,293,288,285,283,280,276,274,274,273,271,270,267,267,266,265,264,261,260,256,256,252,249,249,247,246,244,241,237,232,230,229,228,227,226,226,226,225,225,225,224,223,223,222,218,217,217,217,217,214,212,211,210,209,209,207,207,206,206,206,205,205,204,204,201,194,193,190,188,188,187,187,185,178,176,172,171,170,168,168,168,167,166,164,159,157,156,155,155,154,153,153,152,152,152,152,150,149,149,148,147,143,142,139,139,137,137,136,136,135,135,135,134,133,132,132,131,131,129,126,126,124,124,123,122,120,120,119,117,117,116,116,115,114,114,112,112,112,111,110,110,108,106,106,106,105,104,104,104,103,103,103,101,101,100,100,99,99,98,97,95,94,94,93,92,91,91,91,91,90,90,89,89,89,87,87,86,86,85,83,83,83,81,80,80,80,79,79,78,78,78,77,76,76,75,74,74,74,74,72,72,71,71,71,70,70,69,68,68,66,66,65,64,64,62,62,61,61,61,59,59,58,58,57,57,57,57,56,56,55,55,55,54,54,53,52,52,51,51,51,50,50,50,49,49,49,49,48,47,47,46,45,45,45,45,45,44,44,44,44,43,43,43,42,42,42,41,41,40,40,40,39,39,38,38,38,37,37,37,37,36,36,35,35,34,33,33,32,32,32,32,31,31,31,31,30,30,30,29,29,29,29,28,28,28,28,27,27,27,27,27,27,26,26,26,26,26,25,25,23,23,23,23,22,22,22,22,22,21,21,21,21,21,20,20,19,18,18,18,18,18,18,18,17,17,17,16,16,16,16,16,16,16,16,16,16,15,15,15,15,14,14,14,14,13,13,13,13,13,13,13,13,12,12,12,12,12,12,12,11,11,11,11,11,11,11,11,10,10,10,10,10,9,9,9,9,9,9,9,9,9,9,8,8,8,8,8,8,8,7,7,7,7,7,7,7,7,7,7,6,6,6,6,6,6,6,6,5,5,5,5,5,5,5,5,4,4,4,4,4,4,4,4,4,4,4,3,3,3,3,3,3,2,2,2,2,2,2,2,2,2,2,2,2,2,1,1,1,1,1,1,1,1,1,1,1,1,1,1,1,1,1,0,0,0,0,0,0,0,0,0,0,0,0,0,0,0,0,0,0,0,0,0,0,0,0,0,0,0,0,0,0,0,0,0,0,0,0],\"xaxis\":\"x\",\"y\":[0,0,0,0,195,0,195,200,0,0,0,0,195,60,95,0,20,0,100,200,0,95,200,0,30,75,180,150,0,0,155,150,150,0,45,195,60,0,105,95,185,195,50,95,115,20,200,60,0,0,125,20,30,0,95,20,20,0,30,0,0,20,150,0,25,0,200,0,185,0,50,200,195,0,20,20,0,30,125,0,195,0,20,0,0,30,0,50,75,100,0,0,30,95,20,125,200,0,160,0,60,20,120,20,95,25,0,195,50,90,175,150,50,20,20,25,195,200,0,25,0,20,180,30,40,150,0,0,0,50,20,20,95,120,20,0,200,20,20,25,20,200,0,20,20,180,200,0,0,125,200,105,45,0,25,200,50,25,95,25,60,20,150,150,150,75,20,0,0,20,200,120,50,95,0,200,25,35,50,35,150,100,0,0,25,45,200,95,45,0,50,95,20,20,160,25,90,150,20,200,145,200,20,20,20,75,20,0,95,20,20,45,20,50,180,150,20,50,20,40,45,0,95,200,0,200,0,50,0,0,200,40,20,150,200,0,0,0,20,0,50,25,20,20,50,40,200,40,150,50,20,20,170,190,200,0,20,60,50,200,25,0,200,50,20,200,0,200,30,80,200,0,20,95,35,20,75,20,95,20,0,0,50,95,95,0,195,200,200,0,0,195,150,200,200,40,25,0,20,20,95,200,20,100,50,20,20,30,20,65,150,50,25,50,0,75,195,20,200,200,45,200,20,35,20,45,100,30,200,145,20,195,200,50,20,145,20,200,20,20,195,0,20,0,150,60,50,20,0,50,45,30,140,75,20,115,50,0,30,200,195,200,70,50,20,20,40,200,20,50,30,150,100,95,75,200,100,95,20,200,190,50,20,30,20,20,80,145,200,25,50,50,35,50,200,40,50,0,20,95,65,95,125,35,20,180,200,20,0,125,45,20,200,200,50,40,200,50,195,80,200,20,125,0,200,20,0,200,50,200,105,25,20,50,0,0,200,50,50,200,200,200,50,20,25,125,20,200,20,200,200,50,200,20,20,140,200,60,195,50,100,200,50,20,20,120,120,60,50,0,50,55,145,180,200,20,0,20,95,150,150,20,200,180,50,50,95,200,25,75,20,50,30,50,200,20,30,40,20,200,125,50,140,200,95,200,145,100,20,145,20,25,60,60,50,20,30,20,0,20,95,50,60,20,60,20,20,0,20,50,20,50,20,45,55,195,200,20,25,20,200,20,40,45,130,20,95,50,30,200,40,20,120,85,180,50,40,195,40,200,60,200,60,20,20,50,100,20,120,20,20,50,90,25,200,35,45,50,20,60,200,25,20,30,200,20,20,95,180,0,115,180,40,50,200,20,50,195,195,20,25,50,20,25,150,60,60,40,200,150,40,50,75,165,50,35,45,50,25,50,0,95,200,50,50,195,50,30,20,50,20,30,40,50,195,55,150,20,0,95,105,25,195,200,200,120,50,95,50,40,200,200,0,200,145,95,20,20,60,20,200,130,40,50,20,135,50,20,25,50,95,95,40,200,20,70,125,20,35,200,30,95,200,100,30,200,30,60,20,95,20,20,50,65,30,50,50,20,20,20,20,20,20,50,0,115,20,50,195,200,40,20,195,200,50,95,40,100,20,40,50,60,75,20,50,20,50,20,195,20,40,50,170,50,20,200,40,20,20,20,50,40,25,140,70,200,75,20,45,50,20,25,20,200,20,55,60,40,20,50,50,20,50,30,20,50,50,150,200,85,40,40,25,20,35,35,20,20,50,50,95,25,20,20,20,200,150,25,20,20,50,25,190,20,30,40,50,25,30,20,50,20,20,50,20,50,20,50,20,40,30,40,20,30,40,20,50,125,20,35,95,150,20,200,20,25,50,200,50,40,50,80,200,20,95,100,35,40,35,95,25,20,200,20,60,195,20,50,20,200,50,20,50,50,35,35,50,50,50,50,20,50,40,20,35,20,75,20,195,20,20,80,55,20,40,20,20,40,200,30,20,20,200,30,20,20,95,35,195,100,40,20,20,60,195,20,200,90,95,195,200,20,50,95,75,60,120,20,200,60,60,95,20,20,20,20,50,35,20,50,90,30,75,100,100,20,50,20,20,20,20,200,20,50,30,20,150,35,25,50,30,45,200,50,45,95,20,50,50,60,20,50,20,200,200,25,30,20,50,50,60,95,35,65,20,200,85,20,30,20,50,50,25,20,85,20,20,40,20,100,30,30,20,20,20,85,110,95,20,35,20,20,150,20,30,200,75,60,85,200,50,20,25,20,50,50,20,150,40,50,20,45,20,20,20,90,40,150,125,20,60,45,20,20,20,90,50,0,30,20,35,25,200,50,20,25,40,150,20,50,20,50,50,80,20,45,100,50,20,20,115,200,20,20,20,150,100,195,50,20,20,20,50,100,20,60,20,100,100,25,50,20,20,20,25,75,200,125,50,50,35,20,50,25,25,35,30,20,20,20,50,45,200,25,45,50,30,35,20,20,55,40,145,20,40,30,30,200,70,200,20,20,25,95,55,20,20,200,45,25,30,175,20,20,30,50,25,20,200,30,20,20,95,50,50,20,40,35,200,50,20,50,200,50,20,30,105,20,20,60,20,35,20,20,50,35,95,50,40,20,50,50,50,20,100,20,100,50,50,20,20,25,20,25,100,75,100,200,100,160,20,20,20,20,50,20,40,75,90,50,50],\"yaxis\":\"y\",\"type\":\"scattergl\"},{\"hovertemplate\":\"<b>OLS trendline</b><br>price = -0.000253659 * num_subscribers + 69.0924<br>R<sup>2</sup>=0.000238<br><br>num_subscribers=%{x}<br>price=%{y} <b>(trend)</b><extra></extra>\",\"legendgroup\":\"\",\"marker\":{\"symbol\":\"circle\"},\"mode\":\"lines\",\"name\":\"\",\"showlegend\":false,\"x\":[0,0,0,0,0,0,0,0,0,0,0,0,0,0,0,0,0,0,0,0,0,0,0,0,0,0,0,0,0,0,0,0,0,0,0,0,1,1,1,1,1,1,1,1,1,1,1,1,1,1,1,1,1,2,2,2,2,2,2,2,2,2,2,2,2,2,3,3,3,3,3,3,4,4,4,4,4,4,4,4,4,4,4,5,5,5,5,5,5,5,5,6,6,6,6,6,6,6,6,7,7,7,7,7,7,7,7,7,7,8,8,8,8,8,8,8,9,9,9,9,9,9,9,9,9,9,10,10,10,10,10,11,11,11,11,11,11,11,11,12,12,12,12,12,12,12,13,13,13,13,13,13,13,13,14,14,14,14,15,15,15,15,16,16,16,16,16,16,16,16,16,16,17,17,17,18,18,18,18,18,18,18,19,20,20,21,21,21,21,21,22,22,22,22,22,23,23,23,23,25,25,26,26,26,26,26,27,27,27,27,27,27,28,28,28,28,29,29,29,29,30,30,30,31,31,31,31,32,32,32,32,33,33,34,35,35,36,36,37,37,37,37,38,38,38,39,39,40,40,40,41,41,42,42,42,43,43,43,44,44,44,44,45,45,45,45,45,46,47,47,48,49,49,49,49,50,50,50,51,51,51,52,52,53,54,54,55,55,55,56,56,57,57,57,57,58,58,59,59,61,61,61,62,62,64,64,65,66,66,68,68,69,70,70,71,71,71,72,72,74,74,74,74,75,76,76,77,78,78,78,79,79,80,80,80,81,83,83,83,85,86,86,87,87,89,89,89,90,90,91,91,91,91,92,93,94,94,95,97,98,99,99,100,100,101,101,103,103,103,104,104,104,105,106,106,106,108,110,110,111,112,112,112,114,114,115,116,116,117,117,119,120,120,122,123,124,124,126,126,129,131,131,132,132,133,134,135,135,135,136,136,137,137,139,139,142,143,147,148,149,149,150,152,152,152,152,153,153,154,155,155,156,157,159,164,166,167,168,168,168,170,171,172,176,178,185,187,187,188,188,190,193,194,201,204,204,205,205,206,206,206,207,207,209,209,210,211,212,214,217,217,217,217,218,222,223,223,224,225,225,225,226,226,226,227,228,229,230,232,237,241,244,246,247,249,249,252,256,256,260,261,264,265,266,267,267,270,271,273,274,274,276,280,283,285,288,293,294,294,299,302,306,307,308,312,313,313,314,315,315,319,323,325,326,327,335,335,336,338,338,343,347,353,353,354,357,358,359,360,366,367,367,368,373,375,375,375,376,379,384,384,388,393,394,394,397,397,397,399,401,405,406,408,409,412,420,426,431,438,440,446,452,453,454,454,459,461,462,465,472,477,480,483,484,485,486,494,495,500,503,504,505,507,507,507,512,513,517,520,521,521,540,543,545,547,551,554,562,564,567,570,576,577,578,589,592,605,605,607,609,611,611,612,613,617,618,621,623,623,627,627,631,632,635,638,646,649,650,653,656,658,661,663,668,668,677,683,689,690,694,701,701,718,718,721,727,727,731,737,739,739,741,743,750,751,768,769,775,779,781,788,789,797,801,807,809,810,811,813,814,825,827,828,829,831,832,837,841,843,844,853,853,859,869,871,874,885,894,897,911,912,912,913,916,927,936,939,944,951,952,956,965,967,968,973,975,978,984,989,993,1006,1008,1013,1017,1023,1026,1027,1029,1030,1032,1033,1033,1037,1041,1044,1045,1046,1046,1047,1047,1048,1053,1055,1056,1057,1059,1067,1071,1074,1076,1077,1079,1081,1085,1086,1086,1087,1089,1091,1092,1094,1095,1096,1097,1101,1102,1105,1113,1113,1115,1119,1120,1121,1122,1125,1132,1132,1135,1136,1150,1160,1165,1168,1168,1168,1169,1173,1175,1181,1182,1184,1184,1185,1186,1187,1189,1189,1192,1193,1195,1197,1199,1201,1202,1213,1214,1218,1222,1223,1224,1235,1237,1239,1240,1252,1254,1255,1260,1263,1271,1276,1276,1278,1278,1280,1284,1294,1303,1309,1311,1311,1315,1318,1329,1334,1338,1340,1352,1361,1362,1367,1369,1374,1380,1393,1398,1403,1405,1406,1420,1423,1433,1437,1440,1444,1446,1449,1459,1480,1487,1489,1498,1506,1509,1512,1513,1514,1519,1531,1532,1535,1540,1542,1548,1551,1560,1566,1573,1574,1580,1580,1589,1609,1625,1634,1643,1645,1673,1680,1680,1685,1696,1699,1703,1723,1730,1730,1730,1732,1735,1736,1740,1741,1749,1750,1754,1772,1776,1777,1780,1793,1793,1798,1806,1819,1843,1850,1852,1882,1888,1888,1909,1916,1922,1923,1924,1924,1941,1942,1951,1964,1971,1988,2000,2000,2025,2031,2045,2046,2046,2053,2058,2060,2075,2079,2080,2092,2096,2101,2103,2115,2119,2122,2134,2144,2146,2146,2147,2153,2166,2174,2177,2185,2187,2189,2197,2212,2222,2222,2230,2235,2239,2240,2247,2268,2276,2281,2283,2293,2295,2305,2310,2317,2318,2338,2342,2379,2383,2437,2451,2474,2481,2490,2493,2506,2507,2516,2554,2571,2591,2602,2623,2635,2638,2650,2666,2674,2688,2692,2697,2715,2736,2740,2768,2769,2792,2801,2877,2893,2895,2900,2914,2917,2924,2946,2951,2953,2955,2981,2987,2988,2996,3014,3035,3050,3056,3094,3125,3137,3143,3177,3190,3223,3251,3255,3283,3339,3348,3360,3372,3403,3425,3426,3465,3519,3523,3555,3607,3667,3730,3757,3771,3775,3804,3811,3840,3870,3870,3917,3979,4005,4022,4034,4061,4077,4086,4103,4117,4133,4158,4187,4248,4252,4269,4284,4480,4497,4530,4601,4607,4653,4661,4695,4702,4770,4855,4863,4876,4919,4931,4991,5007,5050,5057,5077,5099,5108,5144,5172,5334,5354,5407,5528,5529,5572,5597,5685,5768,5786,5841,5874,5931,5983,6024,6050,6050,6092,6185,6219,6374,6451,6533,6811,6967,7159,7183,7489,7743,7750,7884,7941,8095,8121,8236,8314,8575,8797,8985,9015,9221,9445,9483,9995,10042,10100,10149,10338,10540,10603,10605,10670,11441,11517,11724,11958,12217,12394,16385,16900,17160,17847,19339,19614,20195,22257,22344,24481,29167,50855,56659,65576],\"xaxis\":\"x\",\"y\":[69.09237268266412,69.09237268266412,69.09237268266412,69.09237268266412,69.09237268266412,69.09237268266412,69.09237268266412,69.09237268266412,69.09237268266412,69.09237268266412,69.09237268266412,69.09237268266412,69.09237268266412,69.09237268266412,69.09237268266412,69.09237268266412,69.09237268266412,69.09237268266412,69.09237268266412,69.09237268266412,69.09237268266412,69.09237268266412,69.09237268266412,69.09237268266412,69.09237268266412,69.09237268266412,69.09237268266412,69.09237268266412,69.09237268266412,69.09237268266412,69.09237268266412,69.09237268266412,69.09237268266412,69.09237268266412,69.09237268266412,69.09237268266412,69.09211902339575,69.09211902339575,69.09211902339575,69.09211902339575,69.09211902339575,69.09211902339575,69.09211902339575,69.09211902339575,69.09211902339575,69.09211902339575,69.09211902339575,69.09211902339575,69.09211902339575,69.09211902339575,69.09211902339575,69.09211902339575,69.09211902339575,69.09186536412739,69.09186536412739,69.09186536412739,69.09186536412739,69.09186536412739,69.09186536412739,69.09186536412739,69.09186536412739,69.09186536412739,69.09186536412739,69.09186536412739,69.09186536412739,69.09186536412739,69.09161170485902,69.09161170485902,69.09161170485902,69.09161170485902,69.09161170485902,69.09161170485902,69.09135804559064,69.09135804559064,69.09135804559064,69.09135804559064,69.09135804559064,69.09135804559064,69.09135804559064,69.09135804559064,69.09135804559064,69.09135804559064,69.09135804559064,69.09110438632227,69.09110438632227,69.09110438632227,69.09110438632227,69.09110438632227,69.09110438632227,69.09110438632227,69.09110438632227,69.0908507270539,69.0908507270539,69.0908507270539,69.0908507270539,69.0908507270539,69.0908507270539,69.0908507270539,69.0908507270539,69.09059706778554,69.09059706778554,69.09059706778554,69.09059706778554,69.09059706778554,69.09059706778554,69.09059706778554,69.09059706778554,69.09059706778554,69.09059706778554,69.09034340851717,69.09034340851717,69.09034340851717,69.09034340851717,69.09034340851717,69.09034340851717,69.09034340851717,69.0900897492488,69.0900897492488,69.0900897492488,69.0900897492488,69.0900897492488,69.0900897492488,69.0900897492488,69.0900897492488,69.0900897492488,69.0900897492488,69.08983608998044,69.08983608998044,69.08983608998044,69.08983608998044,69.08983608998044,69.08958243071206,69.08958243071206,69.08958243071206,69.08958243071206,69.08958243071206,69.08958243071206,69.08958243071206,69.08958243071206,69.08932877144369,69.08932877144369,69.08932877144369,69.08932877144369,69.08932877144369,69.08932877144369,69.08932877144369,69.08907511217532,69.08907511217532,69.08907511217532,69.08907511217532,69.08907511217532,69.08907511217532,69.08907511217532,69.08907511217532,69.08882145290696,69.08882145290696,69.08882145290696,69.08882145290696,69.08856779363859,69.08856779363859,69.08856779363859,69.08856779363859,69.08831413437022,69.08831413437022,69.08831413437022,69.08831413437022,69.08831413437022,69.08831413437022,69.08831413437022,69.08831413437022,69.08831413437022,69.08831413437022,69.08806047510186,69.08806047510186,69.08806047510186,69.08780681583347,69.08780681583347,69.08780681583347,69.08780681583347,69.08780681583347,69.08780681583347,69.08780681583347,69.08755315656511,69.08729949729674,69.08729949729674,69.08704583802837,69.08704583802837,69.08704583802837,69.08704583802837,69.08704583802837,69.08679217876,69.08679217876,69.08679217876,69.08679217876,69.08679217876,69.08653851949164,69.08653851949164,69.08653851949164,69.08653851949164,69.08603120095489,69.08603120095489,69.08577754168653,69.08577754168653,69.08577754168653,69.08577754168653,69.08577754168653,69.08552388241816,69.08552388241816,69.08552388241816,69.08552388241816,69.08552388241816,69.08552388241816,69.08527022314979,69.08527022314979,69.08527022314979,69.08527022314979,69.08501656388142,69.08501656388142,69.08501656388142,69.08501656388142,69.08476290461306,69.08476290461306,69.08476290461306,69.08450924534469,69.08450924534469,69.08450924534469,69.08450924534469,69.08425558607631,69.08425558607631,69.08425558607631,69.08425558607631,69.08400192680794,69.08400192680794,69.08374826753958,69.08349460827121,69.08349460827121,69.08324094900284,69.08324094900284,69.08298728973448,69.08298728973448,69.08298728973448,69.08298728973448,69.0827336304661,69.0827336304661,69.0827336304661,69.08247997119773,69.08247997119773,69.08222631192936,69.08222631192936,69.08222631192936,69.081972652661,69.081972652661,69.08171899339263,69.08171899339263,69.08171899339263,69.08146533412426,69.08146533412426,69.08146533412426,69.0812116748559,69.0812116748559,69.0812116748559,69.0812116748559,69.08095801558751,69.08095801558751,69.08095801558751,69.08095801558751,69.08095801558751,69.08070435631915,69.08045069705078,69.08045069705078,69.08019703778241,69.07994337851405,69.07994337851405,69.07994337851405,69.07994337851405,69.07968971924568,69.07968971924568,69.07968971924568,69.07943605997731,69.07943605997731,69.07943605997731,69.07918240070893,69.07918240070893,69.07892874144056,69.0786750821722,69.0786750821722,69.07842142290383,69.07842142290383,69.07842142290383,69.07816776363546,69.07816776363546,69.0779141043671,69.0779141043671,69.0779141043671,69.0779141043671,69.07766044509873,69.07766044509873,69.07740678583035,69.07740678583035,69.07689946729361,69.07689946729361,69.07689946729361,69.07664580802525,69.07664580802525,69.07613848948851,69.07613848948851,69.07588483022015,69.07563117095177,69.07563117095177,69.07512385241503,69.07512385241503,69.07487019314667,69.0746165338783,69.0746165338783,69.07436287460993,69.07436287460993,69.07436287460993,69.07410921534157,69.07410921534157,69.07360189680482,69.07360189680482,69.07360189680482,69.07360189680482,69.07334823753645,69.07309457826808,69.07309457826808,69.07284091899972,69.07258725973135,69.07258725973135,69.07258725973135,69.07233360046298,69.07233360046298,69.0720799411946,69.0720799411946,69.0720799411946,69.07182628192623,69.0713189633895,69.0713189633895,69.0713189633895,69.07081164485277,69.0705579855844,69.0705579855844,69.07030432631602,69.07030432631602,69.06979700777929,69.06979700777929,69.06979700777929,69.06954334851092,69.06954334851092,69.06928968924255,69.06928968924255,69.06928968924255,69.06928968924255,69.06903602997419,69.06878237070582,69.06852871143744,69.06852871143744,69.06827505216907,69.06776773363234,69.06751407436397,69.0672604150956,69.0672604150956,69.06700675582722,69.06700675582722,69.06675309655886,69.06675309655886,69.06624577802212,69.06624577802212,69.06624577802212,69.06599211875375,69.06599211875375,69.06599211875375,69.06573845948539,69.06548480021702,69.06548480021702,69.06548480021702,69.06497748168027,69.06447016314354,69.06447016314354,69.06421650387517,69.0639628446068,69.0639628446068,69.0639628446068,69.06345552607006,69.06345552607006,69.06320186680169,69.06294820753332,69.06294820753332,69.06269454826496,69.06269454826496,69.06218722972822,69.06193357045986,69.06193357045986,69.06142625192311,69.06117259265474,69.06091893338638,69.06091893338638,69.06041161484964,69.06041161484964,69.05965063704453,69.0591433185078,69.0591433185078,69.05888965923943,69.05888965923943,69.05863599997106,69.05838234070269,69.05812868143431,69.05812868143431,69.05812868143431,69.05787502216594,69.05787502216594,69.05762136289758,69.05762136289758,69.05711404436084,69.05711404436084,69.05635306655573,69.05609940728736,69.0550847702139,69.05483111094553,69.05457745167715,69.05457745167715,69.05432379240878,69.05381647387205,69.05381647387205,69.05381647387205,69.05381647387205,69.05356281460368,69.05356281460368,69.05330915533531,69.05305549606695,69.05305549606695,69.05280183679857,69.0525481775302,69.05204085899346,69.05077256265162,69.05026524411488,69.05001158484652,69.04975792557815,69.04975792557815,69.04975792557815,69.0492506070414,69.04899694777303,69.04874328850467,69.04772865143119,69.04722133289445,69.04544571801587,69.04493839947914,69.04493839947914,69.04468474021077,69.04468474021077,69.04417742167402,69.04341644386892,69.04316278460055,69.04138716972197,69.04062619191686,69.04062619191686,69.04037253264849,69.04037253264849,69.04011887338012,69.04011887338012,69.04011887338012,69.03986521411176,69.03986521411176,69.03935789557502,69.03935789557502,69.03910423630666,69.03885057703827,69.03859691776991,69.03808959923317,69.03732862142807,69.03732862142807,69.03732862142807,69.03732862142807,69.03707496215969,69.03606032508623,69.03580666581786,69.03580666581786,69.03555300654948,69.03529934728111,69.03529934728111,69.03529934728111,69.03504568801274,69.03504568801274,69.03504568801274,69.03479202874438,69.03453836947601,69.03428471020764,69.03403105093928,69.03352373240253,69.0322554360607,69.03124079898721,69.03047982118211,69.02997250264536,69.029718843377,69.02921152484026,69.02921152484026,69.02845054703515,69.02743590996168,69.02743590996168,69.0264212728882,69.02616761361983,69.02540663581473,69.02515297654637,69.02489931727798,69.02464565800962,69.02464565800962,69.02388468020452,69.02363102093615,69.0231237023994,69.02287004313104,69.02287004313104,69.0223627245943,69.02134808752082,69.02058710971572,69.02007979117899,69.01931881337387,69.01805051703202,69.01779685776366,69.01779685776366,69.01652856142182,69.01576758361671,69.01475294654324,69.01449928727486,69.01424562800649,69.01323099093302,69.01297733166466,69.01297733166466,69.01272367239628,69.01247001312791,69.01247001312791,69.01145537605444,69.01044073898096,69.00993342044423,69.00967976117586,69.0094261019075,69.00739682776053,69.00739682776053,69.00714316849216,69.00663584995543,69.00663584995543,69.00536755361358,69.00435291654011,69.0028309609299,69.0028309609299,69.00257730166153,69.00181632385642,69.00156266458805,69.00130900531968,69.00105534605132,68.9995333904411,68.99927973117273,68.99927973117273,68.99902607190437,68.99775777556252,68.99725045702579,68.99725045702579,68.99725045702579,68.9969967977574,68.9962358199523,68.99496752361046,68.99496752361046,68.99395288653699,68.99268459019514,68.99243093092677,68.99243093092677,68.99166995312166,68.99166995312166,68.99166995312166,68.99116263458492,68.99065531604819,68.98964067897471,68.98938701970634,68.98887970116961,68.98862604190124,68.98786506409613,68.98583578994918,68.98431383433896,68.98304553799711,68.98126992311853,68.9807626045818,68.97924064897158,68.97771869336137,68.977465034093,68.97721137482463,68.97721137482463,68.97594307848279,68.97543575994605,68.97518210067769,68.97442112287258,68.97264550799399,68.97137721165215,68.97061623384704,68.96985525604194,68.96960159677357,68.9693479375052,68.96909427823682,68.96706500408987,68.96681134482151,68.96554304847966,68.96478207067456,68.96452841140619,68.96427475213783,68.96376743360108,68.96376743360108,68.96376743360108,68.96249913725924,68.96224547799088,68.9612308409174,68.9604698631123,68.96021620384391,68.96021620384391,68.95539667774491,68.9546356999398,68.95412838140307,68.95362106286633,68.95260642579285,68.95184544798775,68.94981617384079,68.94930885530405,68.94854787749895,68.94778689969384,68.94626494408362,68.94601128481526,68.94575762554689,68.94296737359484,68.94220639578973,68.93890882530093,68.93890882530093,68.9384015067642,68.93789418822746,68.93738686969071,68.93738686969071,68.93713321042235,68.93687955115398,68.9358649140805,68.93561125481213,68.93485027700703,68.9343429584703,68.9343429584703,68.93332832139681,68.93332832139681,68.93231368432333,68.93206002505497,68.93129904724987,68.93053806944475,68.9285087952978,68.9277478174927,68.92749415822433,68.92673318041922,68.92597220261412,68.92546488407737,68.92470390627227,68.92419658773554,68.92292829139369,68.92292829139369,68.92064535797837,68.91912340236816,68.91760144675794,68.91734778748958,68.9163331504161,68.91455753553751,68.91455753553751,68.91024532797525,68.91024532797525,68.90948435017013,68.90796239455992,68.90796239455992,68.90694775748645,68.90542580187623,68.9049184833395,68.9049184833395,68.90441116480275,68.90390384626602,68.90212823138744,68.90187457211907,68.8975623645568,68.89730870528842,68.89578674967822,68.89477211260474,68.89426479406801,68.89248917918943,68.89223551992104,68.8902062457741,68.88919160870063,68.88766965309041,68.88716233455368,68.8869086752853,68.88665501601693,68.8861476974802,68.88589403821183,68.88310378625977,68.88259646772303,68.88234280845467,68.8820891491863,68.88158183064955,68.88132817138118,68.88005987503935,68.87904523796587,68.87853791942914,68.87828426016075,68.87600132674544,68.87600132674544,68.87447937113522,68.87194277845154,68.8714354599148,68.87067448210969,68.86788423015764,68.86560129674231,68.86484031893721,68.86128908918005,68.86103542991168,68.86103542991168,68.8607817706433,68.8600207928382,68.85723054088614,68.85494760747082,68.85418662966572,68.85291833332387,68.85114271844529,68.85088905917692,68.84987442210344,68.84759148868812,68.84708417015139,68.84683051088301,68.84556221454118,68.84505489600443,68.84429391819933,68.84277196258911,68.84150366624726,68.8404890291738,68.837191458685,68.83668414014826,68.83541584380642,68.83440120673293,68.83287925112273,68.83211827331762,68.83186461404925,68.83135729551252,68.83110363624414,68.8305963177074,68.83034265843904,68.83034265843904,68.82932802136555,68.82831338429209,68.82755240648697,68.8272987472186,68.82704508795024,68.82704508795024,68.82679142868187,68.82679142868187,68.8265377694135,68.82526947307166,68.82476215453492,68.82450849526656,68.82425483599819,68.82374751746144,68.82171824331449,68.82070360624103,68.81994262843591,68.81943530989918,68.81918165063081,68.81867433209406,68.81816701355733,68.81715237648386,68.81689871721548,68.81689871721548,68.81664505794711,68.81613773941038,68.81563042087365,68.81537676160526,68.81486944306853,68.81461578380016,68.8143621245318,68.81410846526343,68.81309382818995,68.81284016892158,68.81207919111648,68.81004991696952,68.81004991696952,68.80954259843278,68.80852796135932,68.80827430209094,68.80802064282257,68.8077669835542,68.8070060057491,68.80523039087052,68.80523039087052,68.8044694130654,68.80421575379704,68.80066452403987,68.79812793135619,68.79685963501434,68.79609865720923,68.79609865720923,68.79609865720923,68.79584499794086,68.7948303608674,68.79432304233065,68.79280108672044,68.79254742745206,68.79204010891533,68.79204010891533,68.79178644964696,68.7915327903786,68.79127913111023,68.79077181257348,68.79077181257348,68.79001083476838,68.78975717550001,68.78924985696328,68.78874253842653,68.7882352198898,68.78772790135307,68.7874742420847,68.78468399013263,68.78443033086427,68.78341569379079,68.78240105671732,68.78214739744894,68.78189373818057,68.77910348622852,68.77859616769177,68.77808884915504,68.77783518988667,68.77479127866624,68.77428396012951,68.77403030086114,68.7727620045193,68.7720010267142,68.76997175256724,68.7687034562254,68.7687034562254,68.76819613768865,68.76819613768865,68.76768881915191,68.76667418207845,68.76413758939475,68.76185465597943,68.76033270036922,68.75982538183248,68.75982538183248,68.758810744759,68.7580497669539,68.75525951500184,68.75399121865999,68.75297658158652,68.75246926304979,68.74942535182936,68.74714241841403,68.74688875914566,68.74562046280383,68.74511314426708,68.74384484792525,68.74232289231503,68.73902532182623,68.73775702548438,68.73648872914254,68.7359814106058,68.73572775133744,68.73217652158027,68.73141554377516,68.72887895109147,68.72786431401799,68.72710333621289,68.72608869913941,68.72558138060268,68.72482040279758,68.72228381011388,68.71695696547813,68.71518135059955,68.71467403206282,68.7123910986475,68.71036182450054,68.70960084669544,68.70883986889034,68.70858620962196,68.70833255035359,68.70706425401175,68.70402034279132,68.70376668352296,68.70300570571784,68.701737409376,68.70123009083926,68.69970813522905,68.69894715742394,68.69666422400863,68.69514226839841,68.69336665351983,68.69311299425146,68.69159103864125,68.69159103864125,68.68930810522592,68.68423491985854,68.68017637156464,68.67789343814933,68.67561050473401,68.67510318619726,68.66800072668293,68.66622511180435,68.66622511180435,68.6649568154625,68.66216656351045,68.66140558570534,68.66039094863187,68.65531776326449,68.65354214838591,68.65354214838591,68.65354214838591,68.65303482984918,68.65227385204406,68.6520201927757,68.65100555570221,68.65075189643385,68.6487226222869,68.64846896301853,68.64745432594505,68.64288845911442,68.64187382204094,68.64162016277257,68.64085918496747,68.63756161447867,68.63756161447867,68.63629331813682,68.63426404398987,68.63096647350108,68.62487865106021,68.62310303618163,68.6225957176449,68.61498593959384,68.61346398398362,68.61346398398362,68.60813713934787,68.60636152446929,68.60483956885908,68.60458590959071,68.60433225032234,68.60433225032234,68.60002004276006,68.5997663834917,68.59748345007638,68.59418587958758,68.592410264709,68.58809805714672,68.5850541459263,68.5850541459263,68.57871266421708,68.57719070860686,68.5736394788497,68.57338581958133,68.57338581958133,68.57161020470275,68.5703419083609,68.56983458982417,68.56602970079864,68.56501506372516,68.56476140445679,68.56171749323636,68.56070285616289,68.55943455982104,68.55892724128431,68.55588333006388,68.5548686929904,68.5541077151853,68.55106380396487,68.54852721128118,68.54801989274445,68.54801989274445,68.54776623347607,68.54624427786585,68.54294670737707,68.5409174332301,68.540156455425,68.53812718127806,68.53761986274132,68.53711254420458,68.53508327005763,68.5312783810321,68.5287417883484,68.5287417883484,68.52671251420145,68.52544421785962,68.52442958078613,68.52417592151777,68.52240030663918,68.51707346200344,68.51504418785649,68.51377589151464,68.5132685729779,68.51073198029421,68.51022466175748,68.50768806907378,68.50641977273195,68.50464415785336,68.504390498585,68.49931731321762,68.49830267614414,68.48891728321449,68.48790264614101,68.47420504564909,68.47065381589192,68.46481965271944,68.46304403784086,68.46076110442554,68.46000012662043,68.45670255613163,68.45644889686326,68.45416596344795,68.44452691124992,68.44021470368766,68.43514151832028,68.43235126636822,68.42702442173247,68.42398051051205,68.42321953270694,68.42017562148651,68.41611707319261,68.41408779904566,68.4105365692885,68.40952193221501,68.40825363587318,68.40368776904253,68.39836092440679,68.3973462873333,68.39024382781898,68.38999016855061,68.38415600537813,68.3818730719628,68.36259496756676,68.35853641927287,68.35802910073613,68.35676080439428,68.35320957463712,68.35244859683202,68.35067298195344,68.34509247804931,68.34382418170748,68.34331686317073,68.342809544634,68.3362144036564,68.33469244804618,68.33443878877782,68.33240951463087,68.32784364780024,68.32251680316448,68.31871191413894,68.31718995852873,68.30755090633072,68.29968746901127,68.29664355779086,68.29512160218064,68.2864971870561,68.2831996165673,68.27482886071112,68.2677264011968,68.26671176412333,68.25960930460899,68.24540438558033,68.24312145216501,68.24007754094458,68.23703362972417,68.22917019240472,68.22358968850061,68.22333602923224,68.21344331776585,68.19974571727393,68.19873108020046,68.19061398361265,68.17742370165746,68.16220414555534,68.1462236116481,68.13937481140213,68.13582358164497,68.13480894457149,68.1274528257888,68.12567721091021,68.11832109212752,68.11071131407644,68.11071131407644,68.0987893284631,68.08306245382423,68.07646731284665,68.07215510528437,68.06911119406394,68.06226239381799,68.05820384552408,68.05592091210876,68.05160870454648,68.04805747478932,68.04399892649542,68.03765744478619,68.0303013260035,68.01482811063299,68.01381347355952,68.00950126599724,68.00569637697171,67.95597916037141,67.95166695280913,67.94329619695296,67.92528638889877,67.92376443328855,67.9120961069436,67.91006683279663,67.9014424176721,67.89966680279352,67.88241797254443,67.86085693473306,67.85882766058612,67.85553009009732,67.84462274155746,67.84157883033703,67.8263592742349,67.82230072594099,67.81139337740113,67.80961776252255,67.80454457715517,67.79896407325106,67.79668113983574,67.78754940617445,67.78044694666012,67.73935414518436,67.73428095981699,67.72083701859343,67.6901442471208,67.68989058785242,67.67898323931256,67.67264175760334,67.65031974198688,67.62926602271226,67.62470015588161,67.61074889612132,67.60237814026515,67.58791956196812,67.57472928001295,67.56432925000982,67.55773410903222,67.55773410903222,67.54708041976073,67.52349010780242,67.51486569267787,67.4755485060807,67.4560167424163,67.43521668241004,67.36469940580348,67.32512855993794,67.2764259804111,67.27033815797024,67.19271842184936,67.12828896768366,67.12651335280508,67.09252301084365,67.07806443254661,67.0390009052178,67.03240576424021,67.0032349483778,66.98344952544501,66.91724445640072,66.86093209882283,66.81324415636948,66.8056343783184,66.75338056903442,66.69656089291978,66.68692184072177,66.55704829531687,66.54512630970353,66.53041407213814,66.51798476798807,66.47004316626634,66.41880399405582,66.40282346014858,66.40231614161185,66.38582828916786,66.19025699325543,66.1709788888594,66.11847142030703,66.0591151515087,65.99341740100117,65.94851971049987,64.93616557043956,64.80553104722956,64.73957963745364,64.56531572008421,64.1868560916778,64.11709979287635,63.96972375795401,63.44667834657732,63.42460999022923,62.882540133724866,61.69389280214816,56.19253058976327,54.720292196150126,52.45841250010457],\"yaxis\":\"y\",\"type\":\"scattergl\"}],                        {\"template\":{\"data\":{\"bar\":[{\"error_x\":{\"color\":\"#2a3f5f\"},\"error_y\":{\"color\":\"#2a3f5f\"},\"marker\":{\"line\":{\"color\":\"#E5ECF6\",\"width\":0.5},\"pattern\":{\"fillmode\":\"overlay\",\"size\":10,\"solidity\":0.2}},\"type\":\"bar\"}],\"barpolar\":[{\"marker\":{\"line\":{\"color\":\"#E5ECF6\",\"width\":0.5},\"pattern\":{\"fillmode\":\"overlay\",\"size\":10,\"solidity\":0.2}},\"type\":\"barpolar\"}],\"carpet\":[{\"aaxis\":{\"endlinecolor\":\"#2a3f5f\",\"gridcolor\":\"white\",\"linecolor\":\"white\",\"minorgridcolor\":\"white\",\"startlinecolor\":\"#2a3f5f\"},\"baxis\":{\"endlinecolor\":\"#2a3f5f\",\"gridcolor\":\"white\",\"linecolor\":\"white\",\"minorgridcolor\":\"white\",\"startlinecolor\":\"#2a3f5f\"},\"type\":\"carpet\"}],\"choropleth\":[{\"colorbar\":{\"outlinewidth\":0,\"ticks\":\"\"},\"type\":\"choropleth\"}],\"contour\":[{\"colorbar\":{\"outlinewidth\":0,\"ticks\":\"\"},\"colorscale\":[[0.0,\"#0d0887\"],[0.1111111111111111,\"#46039f\"],[0.2222222222222222,\"#7201a8\"],[0.3333333333333333,\"#9c179e\"],[0.4444444444444444,\"#bd3786\"],[0.5555555555555556,\"#d8576b\"],[0.6666666666666666,\"#ed7953\"],[0.7777777777777778,\"#fb9f3a\"],[0.8888888888888888,\"#fdca26\"],[1.0,\"#f0f921\"]],\"type\":\"contour\"}],\"contourcarpet\":[{\"colorbar\":{\"outlinewidth\":0,\"ticks\":\"\"},\"type\":\"contourcarpet\"}],\"heatmap\":[{\"colorbar\":{\"outlinewidth\":0,\"ticks\":\"\"},\"colorscale\":[[0.0,\"#0d0887\"],[0.1111111111111111,\"#46039f\"],[0.2222222222222222,\"#7201a8\"],[0.3333333333333333,\"#9c179e\"],[0.4444444444444444,\"#bd3786\"],[0.5555555555555556,\"#d8576b\"],[0.6666666666666666,\"#ed7953\"],[0.7777777777777778,\"#fb9f3a\"],[0.8888888888888888,\"#fdca26\"],[1.0,\"#f0f921\"]],\"type\":\"heatmap\"}],\"heatmapgl\":[{\"colorbar\":{\"outlinewidth\":0,\"ticks\":\"\"},\"colorscale\":[[0.0,\"#0d0887\"],[0.1111111111111111,\"#46039f\"],[0.2222222222222222,\"#7201a8\"],[0.3333333333333333,\"#9c179e\"],[0.4444444444444444,\"#bd3786\"],[0.5555555555555556,\"#d8576b\"],[0.6666666666666666,\"#ed7953\"],[0.7777777777777778,\"#fb9f3a\"],[0.8888888888888888,\"#fdca26\"],[1.0,\"#f0f921\"]],\"type\":\"heatmapgl\"}],\"histogram\":[{\"marker\":{\"pattern\":{\"fillmode\":\"overlay\",\"size\":10,\"solidity\":0.2}},\"type\":\"histogram\"}],\"histogram2d\":[{\"colorbar\":{\"outlinewidth\":0,\"ticks\":\"\"},\"colorscale\":[[0.0,\"#0d0887\"],[0.1111111111111111,\"#46039f\"],[0.2222222222222222,\"#7201a8\"],[0.3333333333333333,\"#9c179e\"],[0.4444444444444444,\"#bd3786\"],[0.5555555555555556,\"#d8576b\"],[0.6666666666666666,\"#ed7953\"],[0.7777777777777778,\"#fb9f3a\"],[0.8888888888888888,\"#fdca26\"],[1.0,\"#f0f921\"]],\"type\":\"histogram2d\"}],\"histogram2dcontour\":[{\"colorbar\":{\"outlinewidth\":0,\"ticks\":\"\"},\"colorscale\":[[0.0,\"#0d0887\"],[0.1111111111111111,\"#46039f\"],[0.2222222222222222,\"#7201a8\"],[0.3333333333333333,\"#9c179e\"],[0.4444444444444444,\"#bd3786\"],[0.5555555555555556,\"#d8576b\"],[0.6666666666666666,\"#ed7953\"],[0.7777777777777778,\"#fb9f3a\"],[0.8888888888888888,\"#fdca26\"],[1.0,\"#f0f921\"]],\"type\":\"histogram2dcontour\"}],\"mesh3d\":[{\"colorbar\":{\"outlinewidth\":0,\"ticks\":\"\"},\"type\":\"mesh3d\"}],\"parcoords\":[{\"line\":{\"colorbar\":{\"outlinewidth\":0,\"ticks\":\"\"}},\"type\":\"parcoords\"}],\"pie\":[{\"automargin\":true,\"type\":\"pie\"}],\"scatter\":[{\"marker\":{\"colorbar\":{\"outlinewidth\":0,\"ticks\":\"\"}},\"type\":\"scatter\"}],\"scatter3d\":[{\"line\":{\"colorbar\":{\"outlinewidth\":0,\"ticks\":\"\"}},\"marker\":{\"colorbar\":{\"outlinewidth\":0,\"ticks\":\"\"}},\"type\":\"scatter3d\"}],\"scattercarpet\":[{\"marker\":{\"colorbar\":{\"outlinewidth\":0,\"ticks\":\"\"}},\"type\":\"scattercarpet\"}],\"scattergeo\":[{\"marker\":{\"colorbar\":{\"outlinewidth\":0,\"ticks\":\"\"}},\"type\":\"scattergeo\"}],\"scattergl\":[{\"marker\":{\"colorbar\":{\"outlinewidth\":0,\"ticks\":\"\"}},\"type\":\"scattergl\"}],\"scattermapbox\":[{\"marker\":{\"colorbar\":{\"outlinewidth\":0,\"ticks\":\"\"}},\"type\":\"scattermapbox\"}],\"scatterpolar\":[{\"marker\":{\"colorbar\":{\"outlinewidth\":0,\"ticks\":\"\"}},\"type\":\"scatterpolar\"}],\"scatterpolargl\":[{\"marker\":{\"colorbar\":{\"outlinewidth\":0,\"ticks\":\"\"}},\"type\":\"scatterpolargl\"}],\"scatterternary\":[{\"marker\":{\"colorbar\":{\"outlinewidth\":0,\"ticks\":\"\"}},\"type\":\"scatterternary\"}],\"surface\":[{\"colorbar\":{\"outlinewidth\":0,\"ticks\":\"\"},\"colorscale\":[[0.0,\"#0d0887\"],[0.1111111111111111,\"#46039f\"],[0.2222222222222222,\"#7201a8\"],[0.3333333333333333,\"#9c179e\"],[0.4444444444444444,\"#bd3786\"],[0.5555555555555556,\"#d8576b\"],[0.6666666666666666,\"#ed7953\"],[0.7777777777777778,\"#fb9f3a\"],[0.8888888888888888,\"#fdca26\"],[1.0,\"#f0f921\"]],\"type\":\"surface\"}],\"table\":[{\"cells\":{\"fill\":{\"color\":\"#EBF0F8\"},\"line\":{\"color\":\"white\"}},\"header\":{\"fill\":{\"color\":\"#C8D4E3\"},\"line\":{\"color\":\"white\"}},\"type\":\"table\"}]},\"layout\":{\"annotationdefaults\":{\"arrowcolor\":\"#2a3f5f\",\"arrowhead\":0,\"arrowwidth\":1},\"autotypenumbers\":\"strict\",\"coloraxis\":{\"colorbar\":{\"outlinewidth\":0,\"ticks\":\"\"}},\"colorscale\":{\"diverging\":[[0,\"#8e0152\"],[0.1,\"#c51b7d\"],[0.2,\"#de77ae\"],[0.3,\"#f1b6da\"],[0.4,\"#fde0ef\"],[0.5,\"#f7f7f7\"],[0.6,\"#e6f5d0\"],[0.7,\"#b8e186\"],[0.8,\"#7fbc41\"],[0.9,\"#4d9221\"],[1,\"#276419\"]],\"sequential\":[[0.0,\"#0d0887\"],[0.1111111111111111,\"#46039f\"],[0.2222222222222222,\"#7201a8\"],[0.3333333333333333,\"#9c179e\"],[0.4444444444444444,\"#bd3786\"],[0.5555555555555556,\"#d8576b\"],[0.6666666666666666,\"#ed7953\"],[0.7777777777777778,\"#fb9f3a\"],[0.8888888888888888,\"#fdca26\"],[1.0,\"#f0f921\"]],\"sequentialminus\":[[0.0,\"#0d0887\"],[0.1111111111111111,\"#46039f\"],[0.2222222222222222,\"#7201a8\"],[0.3333333333333333,\"#9c179e\"],[0.4444444444444444,\"#bd3786\"],[0.5555555555555556,\"#d8576b\"],[0.6666666666666666,\"#ed7953\"],[0.7777777777777778,\"#fb9f3a\"],[0.8888888888888888,\"#fdca26\"],[1.0,\"#f0f921\"]]},\"colorway\":[\"#636efa\",\"#EF553B\",\"#00cc96\",\"#ab63fa\",\"#FFA15A\",\"#19d3f3\",\"#FF6692\",\"#B6E880\",\"#FF97FF\",\"#FECB52\"],\"font\":{\"color\":\"#2a3f5f\"},\"geo\":{\"bgcolor\":\"white\",\"lakecolor\":\"white\",\"landcolor\":\"#E5ECF6\",\"showlakes\":true,\"showland\":true,\"subunitcolor\":\"white\"},\"hoverlabel\":{\"align\":\"left\"},\"hovermode\":\"closest\",\"mapbox\":{\"style\":\"light\"},\"paper_bgcolor\":\"white\",\"plot_bgcolor\":\"#E5ECF6\",\"polar\":{\"angularaxis\":{\"gridcolor\":\"white\",\"linecolor\":\"white\",\"ticks\":\"\"},\"bgcolor\":\"#E5ECF6\",\"radialaxis\":{\"gridcolor\":\"white\",\"linecolor\":\"white\",\"ticks\":\"\"}},\"scene\":{\"xaxis\":{\"backgroundcolor\":\"#E5ECF6\",\"gridcolor\":\"white\",\"gridwidth\":2,\"linecolor\":\"white\",\"showbackground\":true,\"ticks\":\"\",\"zerolinecolor\":\"white\"},\"yaxis\":{\"backgroundcolor\":\"#E5ECF6\",\"gridcolor\":\"white\",\"gridwidth\":2,\"linecolor\":\"white\",\"showbackground\":true,\"ticks\":\"\",\"zerolinecolor\":\"white\"},\"zaxis\":{\"backgroundcolor\":\"#E5ECF6\",\"gridcolor\":\"white\",\"gridwidth\":2,\"linecolor\":\"white\",\"showbackground\":true,\"ticks\":\"\",\"zerolinecolor\":\"white\"}},\"shapedefaults\":{\"line\":{\"color\":\"#2a3f5f\"}},\"ternary\":{\"aaxis\":{\"gridcolor\":\"white\",\"linecolor\":\"white\",\"ticks\":\"\"},\"baxis\":{\"gridcolor\":\"white\",\"linecolor\":\"white\",\"ticks\":\"\"},\"bgcolor\":\"#E5ECF6\",\"caxis\":{\"gridcolor\":\"white\",\"linecolor\":\"white\",\"ticks\":\"\"}},\"title\":{\"x\":0.05},\"xaxis\":{\"automargin\":true,\"gridcolor\":\"white\",\"linecolor\":\"white\",\"ticks\":\"\",\"title\":{\"standoff\":15},\"zerolinecolor\":\"white\",\"zerolinewidth\":2},\"yaxis\":{\"automargin\":true,\"gridcolor\":\"white\",\"linecolor\":\"white\",\"ticks\":\"\",\"title\":{\"standoff\":15},\"zerolinecolor\":\"white\",\"zerolinewidth\":2}}},\"xaxis\":{\"anchor\":\"y\",\"domain\":[0.0,1.0],\"title\":{\"text\":\"N\\u00famero de Alunos Inscritos\"}},\"yaxis\":{\"anchor\":\"x\",\"domain\":[0.0,1.0],\"title\":{\"text\":\"Pre\\u00e7o (d\\u00f3lares)\"}},\"coloraxis\":{\"colorbar\":{\"title\":{\"text\":\"price\"}},\"colorscale\":[[0.0,\"#0d0887\"],[0.1111111111111111,\"#46039f\"],[0.2222222222222222,\"#7201a8\"],[0.3333333333333333,\"#9c179e\"],[0.4444444444444444,\"#bd3786\"],[0.5555555555555556,\"#d8576b\"],[0.6666666666666666,\"#ed7953\"],[0.7777777777777778,\"#fb9f3a\"],[0.8888888888888888,\"#fdca26\"],[1.0,\"#f0f921\"]]},\"legend\":{\"tracegroupgap\":0,\"itemsizing\":\"constant\"},\"margin\":{\"t\":60},\"title\":{\"text\":\"Rela\\u00e7\\u00e3o Pre\\u00e7o/Popularidade para os Cursos da \\u00c1rea Financeira Empresarial<br><sup>Bolhas representam a nota do curso pelos usu\\u00e1rios</sup>\"}},                        {\"responsive\": true}                    ).then(function(){\n",
       "                            \n",
       "var gd = document.getElementById('57e08a4c-9861-4595-8ecb-18068596e836');\n",
       "var x = new MutationObserver(function (mutations, observer) {{\n",
       "        var display = window.getComputedStyle(gd).display;\n",
       "        if (!display || display === 'none') {{\n",
       "            console.log([gd, 'removed!']);\n",
       "            Plotly.purge(gd);\n",
       "            observer.disconnect();\n",
       "        }}\n",
       "}});\n",
       "\n",
       "// Listen for the removal of the full notebook cells\n",
       "var notebookContainer = gd.closest('#notebook-container');\n",
       "if (notebookContainer) {{\n",
       "    x.observe(notebookContainer, {childList: true});\n",
       "}}\n",
       "\n",
       "// Listen for the clearing of the current output cell\n",
       "var outputEl = gd.closest('.output');\n",
       "if (outputEl) {{\n",
       "    x.observe(outputEl, {childList: true});\n",
       "}}\n",
       "\n",
       "                        })                };                });            </script>        </div>"
      ]
     },
     "metadata": {},
     "output_type": "display_data"
    }
   ],
   "source": [
    "px.scatter(df4, x='num_subscribers', y='price', size='rating', color='price', trendline=\"ols\", hover_data=[\"course_title\"]).update_layout(title=\"Relação Preço/Popularidade para os Cursos da Área Financeira Empresarial<br><sup>Bolhas representam a nota do curso pelos usuários</sup>\", yaxis_title_text=\"Preço (dólares)\", xaxis_title_text='Número de Alunos Inscritos')"
   ]
  },
  {
   "cell_type": "code",
   "execution_count": null,
   "id": "f7ed2960",
   "metadata": {},
   "outputs": [],
   "source": []
  }
 ],
 "metadata": {
  "kernelspec": {
   "display_name": "Python 3 (ipykernel)",
   "language": "python",
   "name": "python3"
  },
  "language_info": {
   "codemirror_mode": {
    "name": "ipython",
    "version": 3
   },
   "file_extension": ".py",
   "mimetype": "text/x-python",
   "name": "python",
   "nbconvert_exporter": "python",
   "pygments_lexer": "ipython3",
   "version": "3.9.12"
  }
 },
 "nbformat": 4,
 "nbformat_minor": 5
}
